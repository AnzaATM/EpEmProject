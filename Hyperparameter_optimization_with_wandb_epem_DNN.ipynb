{
 "cells": [
  {
   "cell_type": "code",
   "execution_count": 2,
   "id": "0088262e",
   "metadata": {
    "id": "0088262e"
   },
   "outputs": [],
   "source": [
    "%%capture\n",
    "!pip install wandb --upgrade"
   ]
  },
  {
   "cell_type": "code",
   "execution_count": 17,
   "id": "f37abab0",
   "metadata": {
    "colab": {
     "base_uri": "https://localhost:8080/"
    },
    "id": "f37abab0",
    "outputId": "e1db6623-e832-4034-969b-4ed0e1b931a2"
   },
   "outputs": [
    {
     "name": "stderr",
     "output_type": "stream",
     "text": [
      "\u001b[34m\u001b[1mwandb\u001b[0m: Currently logged in as: \u001b[33manzanzio\u001b[0m. Use \u001b[1m`wandb login --relogin`\u001b[0m to force relogin\n"
     ]
    },
    {
     "data": {
      "text/plain": [
       "True"
      ]
     },
     "execution_count": 17,
     "metadata": {},
     "output_type": "execute_result"
    }
   ],
   "source": [
    "import wandb\n",
    "\n",
    "wandb.login()"
   ]
  },
  {
   "cell_type": "code",
   "execution_count": null,
   "id": "6d829322",
   "metadata": {
    "colab": {
     "base_uri": "https://localhost:8080/"
    },
    "id": "6d829322",
    "outputId": "6ee23fda-b28c-41da-cffd-35755c669ac9"
   },
   "outputs": [],
   "source": [
    "#pip install --upgrade pip"
   ]
  },
  {
   "cell_type": "code",
   "execution_count": 2,
   "id": "60884fc3",
   "metadata": {
    "id": "60884fc3"
   },
   "outputs": [],
   "source": [
    "import matplotlib.pyplot as plt\n",
    "import numpy as np\n",
    "import pandas as pd\n",
    "import random\n",
    "\n",
    "from math import *\n",
    "from matplotlib import colors\n",
    "from matplotlib.ticker import PercentFormatter\n",
    "\n",
    "import tensorflow as tf\n",
    "from tensorflow import keras\n",
    "from sklearn.model_selection import train_test_split\n",
    "from sklearn.utils import shuffle\n",
    "\n",
    "import keras\n",
    "import tensorflow.keras.backend as K\n",
    "from keras.models import Sequential\n",
    "from keras.layers import Dense\n",
    "from tensorflow.keras.utils import to_categorical #\n",
    "from tensorflow.keras.optimizers import Adam #\n",
    "from tensorflow.keras.optimizers import SGD, Adamax, RMSprop #\n",
    "\n",
    "from keras.wrappers.scikit_learn import KerasClassifier\n",
    "from keras.utils import np_utils\n",
    "from sklearn.model_selection import cross_val_score\n",
    "from sklearn.model_selection import KFold\n",
    "from sklearn.preprocessing import LabelEncoder\n",
    "from sklearn.pipeline import Pipeline\n",
    "from itertools import chain\n",
    "import tensorflow as tf\n",
    "from keras import optimizers, initializers\n",
    "\n",
    "from sklearn.utils import shuffle\n",
    "\n",
    "#from wandb.keras import WandbCallback\n",
    "from wandb.integration.keras import WandbCallback\n",
    "#from keras.callbacks import ReduceLR0nPlateau\n",
    "\n",
    "import itertools\n",
    "from sklearn import datasets\n",
    "from sklearn.model_selection import train_test_split, KFold, GridSearchCV\n",
    "from sklearn.metrics import confusion_matrix, classification_report, accuracy_score\n",
    "from keras.models import Sequential\n",
    "from keras.layers import Dense, Dropout, Activation, Flatten\n",
    "from tensorflow.keras.utils import to_categorical #\n",
    "\n",
    "from sklearn import datasets\n",
    "from sklearn.tree import DecisionTreeClassifier\n",
    "from sklearn.linear_model import LogisticRegression\n",
    "from sklearn.metrics import roc_curve, roc_auc_score, auc\n",
    "from sklearn.model_selection import train_test_split"
   ]
  },
  {
   "cell_type": "code",
   "execution_count": 3,
   "id": "eaa1da8c",
   "metadata": {},
   "outputs": [],
   "source": [
    "import matplotlib.pyplot as plt\n",
    "import pandas as pd\n",
    "import numpy as np\n",
    "import uproot3\n",
    "import sklearn\n",
    "from sklearn.utils import shuffle\n",
    "from matplotlib.lines import Line2D\n",
    "import math\n",
    "import seaborn as sns\n",
    "\n",
    "from tensorflow import keras\n",
    "from tensorflow.keras.models import Sequential\n",
    "from tensorflow.keras.layers import Dense\n",
    "from keras.utils import to_categorical\n",
    "from keras.optimizers import Adam\n",
    "from tensorflow.keras.optimizers import SGD\n",
    "\n",
    "from sklearn.model_selection import cross_val_score\n",
    "from sklearn.model_selection import KFold\n",
    "from sklearn.preprocessing import LabelEncoder\n",
    "from sklearn.pipeline import Pipeline\n",
    "from itertools import chain\n",
    "import tensorflow as tf\n",
    "from keras import optimizers, initializers\n",
    "\n",
    "import itertools\n",
    "from sklearn import datasets\n",
    "from sklearn.model_selection import train_test_split, KFold, GridSearchCV\n",
    "from sklearn.metrics import confusion_matrix, classification_report, accuracy_score\n",
    "from keras.models import Sequential\n",
    "from keras.layers import Dense\n",
    "from keras.utils import to_categorical\n",
    "\n",
    "from sklearn import datasets\n",
    "from sklearn.tree import DecisionTreeClassifier\n",
    "from sklearn.linear_model import LogisticRegression\n",
    "from sklearn.metrics import roc_curve, roc_auc_score, auc\n",
    "from sklearn.model_selection import train_test_split"
   ]
  },
  {
   "cell_type": "code",
   "execution_count": 4,
   "id": "640db8a7",
   "metadata": {
    "id": "640db8a7"
   },
   "outputs": [],
   "source": [
    "SigTree = uproot3.open('Signal_events300k.root')\n",
    "BackTree = uproot3.open('Back_events300k.root')"
   ]
  },
  {
   "cell_type": "code",
   "execution_count": 5,
   "id": "2aebd308",
   "metadata": {
    "id": "2aebd308"
   },
   "outputs": [
    {
     "data": {
      "text/html": [
       "<div>\n",
       "<style scoped>\n",
       "    .dataframe tbody tr th:only-of-type {\n",
       "        vertical-align: middle;\n",
       "    }\n",
       "\n",
       "    .dataframe tbody tr th {\n",
       "        vertical-align: top;\n",
       "    }\n",
       "\n",
       "    .dataframe thead th {\n",
       "        text-align: right;\n",
       "    }\n",
       "</style>\n",
       "<table border=\"1\" class=\"dataframe\">\n",
       "  <thead>\n",
       "    <tr style=\"text-align: right;\">\n",
       "      <th></th>\n",
       "      <th>b'EnrMuP'</th>\n",
       "      <th>b'EnrMuM'</th>\n",
       "      <th>b'ThetaMuP'</th>\n",
       "      <th>b'ThetaMuM'</th>\n",
       "      <th>b'PhiMuP'</th>\n",
       "      <th>b'PhiMuM'</th>\n",
       "      <th>b'EnrBjet1'</th>\n",
       "      <th>b'EnrBjet2'</th>\n",
       "      <th>b'ThetaBjet1'</th>\n",
       "      <th>b'ThetaBjet2'</th>\n",
       "      <th>b'PhiBjet1'</th>\n",
       "      <th>b'PhiBjet2'</th>\n",
       "      <th>b'InMmuPM'</th>\n",
       "      <th>b'InMbb'</th>\n",
       "      <th>b'Mrecoil'</th>\n",
       "      <th>b'weight'</th>\n",
       "    </tr>\n",
       "  </thead>\n",
       "  <tbody>\n",
       "    <tr>\n",
       "      <th>0</th>\n",
       "      <td>102.282689</td>\n",
       "      <td>19.644855</td>\n",
       "      <td>0.410880</td>\n",
       "      <td>1.964995</td>\n",
       "      <td>1.302694</td>\n",
       "      <td>-1.924757</td>\n",
       "      <td>90.514165</td>\n",
       "      <td>26.909387</td>\n",
       "      <td>2.504559</td>\n",
       "      <td>2.043443</td>\n",
       "      <td>-2.116252</td>\n",
       "      <td>0.884097</td>\n",
       "      <td>83.127532</td>\n",
       "      <td>76.159782</td>\n",
       "      <td>91.904379</td>\n",
       "      <td>0.020541</td>\n",
       "    </tr>\n",
       "    <tr>\n",
       "      <th>1</th>\n",
       "      <td>51.631872</td>\n",
       "      <td>70.609372</td>\n",
       "      <td>1.683056</td>\n",
       "      <td>0.223100</td>\n",
       "      <td>1.706908</td>\n",
       "      <td>-0.083172</td>\n",
       "      <td>89.837866</td>\n",
       "      <td>28.017752</td>\n",
       "      <td>2.687177</td>\n",
       "      <td>0.872454</td>\n",
       "      <td>-1.338831</td>\n",
       "      <td>-2.841567</td>\n",
       "      <td>91.851372</td>\n",
       "      <td>88.646965</td>\n",
       "      <td>99.075996</td>\n",
       "      <td>0.020541</td>\n",
       "    </tr>\n",
       "    <tr>\n",
       "      <th>2</th>\n",
       "      <td>65.617711</td>\n",
       "      <td>59.174904</td>\n",
       "      <td>2.263416</td>\n",
       "      <td>2.235892</td>\n",
       "      <td>-1.362605</td>\n",
       "      <td>1.104504</td>\n",
       "      <td>78.877243</td>\n",
       "      <td>24.913950</td>\n",
       "      <td>0.299324</td>\n",
       "      <td>1.943594</td>\n",
       "      <td>-2.549187</td>\n",
       "      <td>1.862599</td>\n",
       "      <td>91.533477</td>\n",
       "      <td>75.105085</td>\n",
       "      <td>92.098152</td>\n",
       "      <td>0.020541</td>\n",
       "    </tr>\n",
       "    <tr>\n",
       "      <th>3</th>\n",
       "      <td>55.363214</td>\n",
       "      <td>67.694456</td>\n",
       "      <td>1.646938</td>\n",
       "      <td>0.943884</td>\n",
       "      <td>1.670957</td>\n",
       "      <td>0.006017</td>\n",
       "      <td>42.334872</td>\n",
       "      <td>37.955375</td>\n",
       "      <td>1.230632</td>\n",
       "      <td>2.084756</td>\n",
       "      <td>-1.822894</td>\n",
       "      <td>-2.278329</td>\n",
       "      <td>91.646258</td>\n",
       "      <td>39.978035</td>\n",
       "      <td>96.799801</td>\n",
       "      <td>0.020541</td>\n",
       "    </tr>\n",
       "    <tr>\n",
       "      <th>4</th>\n",
       "      <td>81.765589</td>\n",
       "      <td>44.628754</td>\n",
       "      <td>2.490003</td>\n",
       "      <td>1.964759</td>\n",
       "      <td>0.243177</td>\n",
       "      <td>2.998727</td>\n",
       "      <td>36.802393</td>\n",
       "      <td>65.580431</td>\n",
       "      <td>1.224773</td>\n",
       "      <td>0.440894</td>\n",
       "      <td>-2.509865</td>\n",
       "      <td>0.507232</td>\n",
       "      <td>94.111121</td>\n",
       "      <td>73.353696</td>\n",
       "      <td>90.331231</td>\n",
       "      <td>0.020541</td>\n",
       "    </tr>\n",
       "    <tr>\n",
       "      <th>5</th>\n",
       "      <td>90.226594</td>\n",
       "      <td>33.603577</td>\n",
       "      <td>0.561932</td>\n",
       "      <td>1.391862</td>\n",
       "      <td>1.299009</td>\n",
       "      <td>-1.765412</td>\n",
       "      <td>60.095232</td>\n",
       "      <td>53.855182</td>\n",
       "      <td>2.053010</td>\n",
       "      <td>2.569654</td>\n",
       "      <td>-1.806512</td>\n",
       "      <td>1.445551</td>\n",
       "      <td>91.216757</td>\n",
       "      <td>84.248303</td>\n",
       "      <td>94.368487</td>\n",
       "      <td>0.020541</td>\n",
       "    </tr>\n",
       "    <tr>\n",
       "      <th>6</th>\n",
       "      <td>64.578045</td>\n",
       "      <td>59.890792</td>\n",
       "      <td>0.184557</td>\n",
       "      <td>1.478681</td>\n",
       "      <td>3.089881</td>\n",
       "      <td>-0.271832</td>\n",
       "      <td>34.410258</td>\n",
       "      <td>60.478561</td>\n",
       "      <td>1.614100</td>\n",
       "      <td>2.780192</td>\n",
       "      <td>-3.044450</td>\n",
       "      <td>1.070039</td>\n",
       "      <td>91.734373</td>\n",
       "      <td>69.702041</td>\n",
       "      <td>93.170687</td>\n",
       "      <td>0.020541</td>\n",
       "    </tr>\n",
       "    <tr>\n",
       "      <th>7</th>\n",
       "      <td>78.294233</td>\n",
       "      <td>41.789732</td>\n",
       "      <td>0.812429</td>\n",
       "      <td>1.341165</td>\n",
       "      <td>-0.350951</td>\n",
       "      <td>1.921459</td>\n",
       "      <td>67.159984</td>\n",
       "      <td>28.919509</td>\n",
       "      <td>2.499529</td>\n",
       "      <td>1.974897</td>\n",
       "      <td>-3.066869</td>\n",
       "      <td>-2.888193</td>\n",
       "      <td>92.223438</td>\n",
       "      <td>26.270293</td>\n",
       "      <td>104.705205</td>\n",
       "      <td>0.020541</td>\n",
       "    </tr>\n",
       "    <tr>\n",
       "      <th>8</th>\n",
       "      <td>38.741521</td>\n",
       "      <td>85.689082</td>\n",
       "      <td>0.809138</td>\n",
       "      <td>2.014494</td>\n",
       "      <td>0.479135</td>\n",
       "      <td>-0.952715</td>\n",
       "      <td>68.047216</td>\n",
       "      <td>30.846374</td>\n",
       "      <td>1.309956</td>\n",
       "      <td>1.980264</td>\n",
       "      <td>2.167019</td>\n",
       "      <td>-2.318041</td>\n",
       "      <td>89.472862</td>\n",
       "      <td>74.217867</td>\n",
       "      <td>91.049940</td>\n",
       "      <td>0.020541</td>\n",
       "    </tr>\n",
       "    <tr>\n",
       "      <th>9</th>\n",
       "      <td>55.958976</td>\n",
       "      <td>63.022035</td>\n",
       "      <td>0.975707</td>\n",
       "      <td>2.047717</td>\n",
       "      <td>2.731735</td>\n",
       "      <td>-2.235350</td>\n",
       "      <td>59.786732</td>\n",
       "      <td>23.212906</td>\n",
       "      <td>2.003709</td>\n",
       "      <td>1.193018</td>\n",
       "      <td>-0.164812</td>\n",
       "      <td>1.113146</td>\n",
       "      <td>86.953751</td>\n",
       "      <td>51.041848</td>\n",
       "      <td>102.812690</td>\n",
       "      <td>0.020541</td>\n",
       "    </tr>\n",
       "  </tbody>\n",
       "</table>\n",
       "</div>"
      ],
      "text/plain": [
       "    b'EnrMuP'  b'EnrMuM'  b'ThetaMuP'  b'ThetaMuM'  b'PhiMuP'  b'PhiMuM'  \\\n",
       "0  102.282689  19.644855     0.410880     1.964995   1.302694  -1.924757   \n",
       "1   51.631872  70.609372     1.683056     0.223100   1.706908  -0.083172   \n",
       "2   65.617711  59.174904     2.263416     2.235892  -1.362605   1.104504   \n",
       "3   55.363214  67.694456     1.646938     0.943884   1.670957   0.006017   \n",
       "4   81.765589  44.628754     2.490003     1.964759   0.243177   2.998727   \n",
       "5   90.226594  33.603577     0.561932     1.391862   1.299009  -1.765412   \n",
       "6   64.578045  59.890792     0.184557     1.478681   3.089881  -0.271832   \n",
       "7   78.294233  41.789732     0.812429     1.341165  -0.350951   1.921459   \n",
       "8   38.741521  85.689082     0.809138     2.014494   0.479135  -0.952715   \n",
       "9   55.958976  63.022035     0.975707     2.047717   2.731735  -2.235350   \n",
       "\n",
       "   b'EnrBjet1'  b'EnrBjet2'  b'ThetaBjet1'  b'ThetaBjet2'  b'PhiBjet1'  \\\n",
       "0    90.514165    26.909387       2.504559       2.043443    -2.116252   \n",
       "1    89.837866    28.017752       2.687177       0.872454    -1.338831   \n",
       "2    78.877243    24.913950       0.299324       1.943594    -2.549187   \n",
       "3    42.334872    37.955375       1.230632       2.084756    -1.822894   \n",
       "4    36.802393    65.580431       1.224773       0.440894    -2.509865   \n",
       "5    60.095232    53.855182       2.053010       2.569654    -1.806512   \n",
       "6    34.410258    60.478561       1.614100       2.780192    -3.044450   \n",
       "7    67.159984    28.919509       2.499529       1.974897    -3.066869   \n",
       "8    68.047216    30.846374       1.309956       1.980264     2.167019   \n",
       "9    59.786732    23.212906       2.003709       1.193018    -0.164812   \n",
       "\n",
       "   b'PhiBjet2'  b'InMmuPM'   b'InMbb'  b'Mrecoil'  b'weight'  \n",
       "0     0.884097   83.127532  76.159782   91.904379   0.020541  \n",
       "1    -2.841567   91.851372  88.646965   99.075996   0.020541  \n",
       "2     1.862599   91.533477  75.105085   92.098152   0.020541  \n",
       "3    -2.278329   91.646258  39.978035   96.799801   0.020541  \n",
       "4     0.507232   94.111121  73.353696   90.331231   0.020541  \n",
       "5     1.445551   91.216757  84.248303   94.368487   0.020541  \n",
       "6     1.070039   91.734373  69.702041   93.170687   0.020541  \n",
       "7    -2.888193   92.223438  26.270293  104.705205   0.020541  \n",
       "8    -2.318041   89.472862  74.217867   91.049940   0.020541  \n",
       "9     1.113146   86.953751  51.041848  102.812690   0.020541  "
      ]
     },
     "execution_count": 5,
     "metadata": {},
     "output_type": "execute_result"
    }
   ],
   "source": [
    "SigArr = SigTree['tree'].arrays()\n",
    "SigDf = pd.DataFrame(SigArr)\n",
    "#SigDf.head(10)\n",
    "\n",
    "BackArr = BackTree['tree'].arrays()\n",
    "BackDf = pd.DataFrame(BackArr)\n",
    "BackDf.head(10)"
   ]
  },
  {
   "cell_type": "code",
   "execution_count": 6,
   "id": "cfe03346",
   "metadata": {
    "id": "cfe03346"
   },
   "outputs": [
    {
     "name": "stdout",
     "output_type": "stream",
     "text": [
      "(99622, 17) (50458, 17)\n"
     ]
    },
    {
     "data": {
      "text/html": [
       "<div>\n",
       "<style scoped>\n",
       "    .dataframe tbody tr th:only-of-type {\n",
       "        vertical-align: middle;\n",
       "    }\n",
       "\n",
       "    .dataframe tbody tr th {\n",
       "        vertical-align: top;\n",
       "    }\n",
       "\n",
       "    .dataframe thead th {\n",
       "        text-align: right;\n",
       "    }\n",
       "</style>\n",
       "<table border=\"1\" class=\"dataframe\">\n",
       "  <thead>\n",
       "    <tr style=\"text-align: right;\">\n",
       "      <th></th>\n",
       "      <th>b'EnrMuP'</th>\n",
       "      <th>b'EnrMuM'</th>\n",
       "      <th>b'ThetaMuP'</th>\n",
       "      <th>b'ThetaMuM'</th>\n",
       "      <th>b'PhiMuP'</th>\n",
       "      <th>b'PhiMuM'</th>\n",
       "      <th>b'EnrBjet1'</th>\n",
       "      <th>b'EnrBjet2'</th>\n",
       "      <th>b'ThetaBjet1'</th>\n",
       "      <th>b'ThetaBjet2'</th>\n",
       "      <th>b'PhiBjet1'</th>\n",
       "      <th>b'PhiBjet2'</th>\n",
       "      <th>b'InMmuPM'</th>\n",
       "      <th>b'InMbb'</th>\n",
       "      <th>b'Mrecoil'</th>\n",
       "      <th>b'weight'</th>\n",
       "      <th>label</th>\n",
       "    </tr>\n",
       "  </thead>\n",
       "  <tbody>\n",
       "    <tr>\n",
       "      <th>0</th>\n",
       "      <td>102.282689</td>\n",
       "      <td>19.644855</td>\n",
       "      <td>0.410880</td>\n",
       "      <td>1.964995</td>\n",
       "      <td>1.302694</td>\n",
       "      <td>-1.924757</td>\n",
       "      <td>90.514165</td>\n",
       "      <td>26.909387</td>\n",
       "      <td>2.504559</td>\n",
       "      <td>2.043443</td>\n",
       "      <td>-2.116252</td>\n",
       "      <td>0.884097</td>\n",
       "      <td>83.127532</td>\n",
       "      <td>76.159782</td>\n",
       "      <td>91.904379</td>\n",
       "      <td>0.020541</td>\n",
       "      <td>0</td>\n",
       "    </tr>\n",
       "    <tr>\n",
       "      <th>1</th>\n",
       "      <td>51.631872</td>\n",
       "      <td>70.609372</td>\n",
       "      <td>1.683056</td>\n",
       "      <td>0.223100</td>\n",
       "      <td>1.706908</td>\n",
       "      <td>-0.083172</td>\n",
       "      <td>89.837866</td>\n",
       "      <td>28.017752</td>\n",
       "      <td>2.687177</td>\n",
       "      <td>0.872454</td>\n",
       "      <td>-1.338831</td>\n",
       "      <td>-2.841567</td>\n",
       "      <td>91.851372</td>\n",
       "      <td>88.646965</td>\n",
       "      <td>99.075996</td>\n",
       "      <td>0.020541</td>\n",
       "      <td>0</td>\n",
       "    </tr>\n",
       "    <tr>\n",
       "      <th>2</th>\n",
       "      <td>65.617711</td>\n",
       "      <td>59.174904</td>\n",
       "      <td>2.263416</td>\n",
       "      <td>2.235892</td>\n",
       "      <td>-1.362605</td>\n",
       "      <td>1.104504</td>\n",
       "      <td>78.877243</td>\n",
       "      <td>24.913950</td>\n",
       "      <td>0.299324</td>\n",
       "      <td>1.943594</td>\n",
       "      <td>-2.549187</td>\n",
       "      <td>1.862599</td>\n",
       "      <td>91.533477</td>\n",
       "      <td>75.105085</td>\n",
       "      <td>92.098152</td>\n",
       "      <td>0.020541</td>\n",
       "      <td>0</td>\n",
       "    </tr>\n",
       "    <tr>\n",
       "      <th>3</th>\n",
       "      <td>55.363214</td>\n",
       "      <td>67.694456</td>\n",
       "      <td>1.646938</td>\n",
       "      <td>0.943884</td>\n",
       "      <td>1.670957</td>\n",
       "      <td>0.006017</td>\n",
       "      <td>42.334872</td>\n",
       "      <td>37.955375</td>\n",
       "      <td>1.230632</td>\n",
       "      <td>2.084756</td>\n",
       "      <td>-1.822894</td>\n",
       "      <td>-2.278329</td>\n",
       "      <td>91.646258</td>\n",
       "      <td>39.978035</td>\n",
       "      <td>96.799801</td>\n",
       "      <td>0.020541</td>\n",
       "      <td>0</td>\n",
       "    </tr>\n",
       "    <tr>\n",
       "      <th>4</th>\n",
       "      <td>81.765589</td>\n",
       "      <td>44.628754</td>\n",
       "      <td>2.490003</td>\n",
       "      <td>1.964759</td>\n",
       "      <td>0.243177</td>\n",
       "      <td>2.998727</td>\n",
       "      <td>36.802393</td>\n",
       "      <td>65.580431</td>\n",
       "      <td>1.224773</td>\n",
       "      <td>0.440894</td>\n",
       "      <td>-2.509865</td>\n",
       "      <td>0.507232</td>\n",
       "      <td>94.111121</td>\n",
       "      <td>73.353696</td>\n",
       "      <td>90.331231</td>\n",
       "      <td>0.020541</td>\n",
       "      <td>0</td>\n",
       "    </tr>\n",
       "  </tbody>\n",
       "</table>\n",
       "</div>"
      ],
      "text/plain": [
       "    b'EnrMuP'  b'EnrMuM'  b'ThetaMuP'  b'ThetaMuM'  b'PhiMuP'  b'PhiMuM'  \\\n",
       "0  102.282689  19.644855     0.410880     1.964995   1.302694  -1.924757   \n",
       "1   51.631872  70.609372     1.683056     0.223100   1.706908  -0.083172   \n",
       "2   65.617711  59.174904     2.263416     2.235892  -1.362605   1.104504   \n",
       "3   55.363214  67.694456     1.646938     0.943884   1.670957   0.006017   \n",
       "4   81.765589  44.628754     2.490003     1.964759   0.243177   2.998727   \n",
       "\n",
       "   b'EnrBjet1'  b'EnrBjet2'  b'ThetaBjet1'  b'ThetaBjet2'  b'PhiBjet1'  \\\n",
       "0    90.514165    26.909387       2.504559       2.043443    -2.116252   \n",
       "1    89.837866    28.017752       2.687177       0.872454    -1.338831   \n",
       "2    78.877243    24.913950       0.299324       1.943594    -2.549187   \n",
       "3    42.334872    37.955375       1.230632       2.084756    -1.822894   \n",
       "4    36.802393    65.580431       1.224773       0.440894    -2.509865   \n",
       "\n",
       "   b'PhiBjet2'  b'InMmuPM'   b'InMbb'  b'Mrecoil'  b'weight'  label  \n",
       "0     0.884097   83.127532  76.159782   91.904379   0.020541      0  \n",
       "1    -2.841567   91.851372  88.646965   99.075996   0.020541      0  \n",
       "2     1.862599   91.533477  75.105085   92.098152   0.020541      0  \n",
       "3    -2.278329   91.646258  39.978035   96.799801   0.020541      0  \n",
       "4     0.507232   94.111121  73.353696   90.331231   0.020541      0  "
      ]
     },
     "execution_count": 6,
     "metadata": {},
     "output_type": "execute_result"
    }
   ],
   "source": [
    "SigDf['label'] = 1\n",
    "SigDf.head()\n",
    "\n",
    "BackDf['label'] = 0\n",
    "BackDf.head()\n",
    "\n",
    "print(SigDf.shape, BackDf.shape)\n",
    "BackDf.head()"
   ]
  },
  {
   "cell_type": "code",
   "execution_count": 7,
   "id": "0d8ba80a",
   "metadata": {
    "colab": {
     "base_uri": "https://localhost:8080/"
    },
    "id": "0d8ba80a",
    "outputId": "8c203b11-99d5-4847-c21b-d9ed22055926"
   },
   "outputs": [
    {
     "data": {
      "text/plain": [
       "((50458, 17), (99622, 17))"
      ]
     },
     "execution_count": 7,
     "metadata": {},
     "output_type": "execute_result"
    }
   ],
   "source": [
    "SigDfNew = SigDf.sample(frac=1, random_state=99)\n",
    "\n",
    "SplusB = shuffle(pd.concat([SigDfNew, BackDf]))\n",
    "#SplusB.head()\n",
    "\n",
    "SplusB[SplusB['label']==0].shape, SplusB[SplusB['label']==1].shape"
   ]
  },
  {
   "cell_type": "code",
   "execution_count": 8,
   "id": "40e37559",
   "metadata": {
    "id": "40e37559"
   },
   "outputs": [],
   "source": [
    "dataset = SplusB.values\n",
    "#print(dataset[:,0:15)\n",
    "#print(dataset[:,16])\n",
    "\n",
    "X = dataset[:,0:15].astype(float)\n",
    "Y = dataset[:,16]"
   ]
  },
  {
   "cell_type": "code",
   "execution_count": 9,
   "id": "ZLcdwZdRL7kj",
   "metadata": {
    "id": "ZLcdwZdRL7kj"
   },
   "outputs": [],
   "source": [
    "sweep_config = {\n",
    "    'program': 'train.py',\n",
    "    'method': 'random'\n",
    "    }"
   ]
  },
  {
   "cell_type": "code",
   "execution_count": 10,
   "id": "XOs4a6Z2Zdqq",
   "metadata": {
    "id": "XOs4a6Z2Zdqq"
   },
   "outputs": [],
   "source": [
    "metric = {\n",
    "    'name': 'accuracy',\n",
    "    'goal': 'maximize'   \n",
    "    }\n",
    "\n",
    "sweep_config['metric'] = metric"
   ]
  },
  {
   "cell_type": "code",
   "execution_count": 11,
   "id": "eAjplJihZd32",
   "metadata": {
    "id": "eAjplJihZd32"
   },
   "outputs": [],
   "source": [
    "parameters_dict = {\n",
    "    'optimizer': {\n",
    "        'values': ['adam', 'adamax'] #['adam', 'sgd', 'rmsprop', 'adamax']\n",
    "        },\n",
    "    'neurons':{\n",
    "        'distribution': 'q_uniform',\n",
    "        'q': 1,\n",
    "        'min': 10,\n",
    "        'max': 50,\n",
    "    },\n",
    "    'layers':{\n",
    "        'distribution': 'q_uniform',\n",
    "        'q': 1,\n",
    "        'min': 10,\n",
    "        'max': 50,\n",
    "    },\n",
    "    'epochs':{\n",
    "        'distribution': 'q_uniform',\n",
    "        'q': 10,\n",
    "        'min': 100,\n",
    "        'max': 200,\n",
    "    },\n",
    "   #'hidden_dim': {\n",
    "   #     # integers between 32 and 256\n",
    "   #     # with evenly-distributed logarithms \n",
    "   #    'distribution': 'q_uniform',\n",
    "   #     'q': 1,\n",
    "   #     'min': 4,\n",
    "   #     'max': 1024,\n",
    "   #   },\n",
    "   # 'dense_units': {\n",
    "   #   # integers between 32 and 256\n",
    "   #    # with evenly-distributed logarithms \n",
    "   # 'distribution': 'q_uniform',\n",
    "   # 'q': 1,\n",
    "   # 'min': 4,\n",
    "   # 'max': 1024,\n",
    "   #   },\n",
    "   # 'embed_dim': {\n",
    "   #     # integers between 32 and 256\n",
    "   #     # with evenly-distributed logarithms \n",
    "   #     'distribution': 'q_uniform',\n",
    "   #     'q': 1,\n",
    "   #     'min': 4,\n",
    "   #     'max': 1024,\n",
    "   #   },\n",
    "   # 'dropout': {\n",
    "   #       'values': [0.3, 0.4, 0.5, 0.6]\n",
    "   #     },\n",
    "    }\n",
    "\n",
    "sweep_config['parameters'] = parameters_dict"
   ]
  },
  {
   "cell_type": "code",
   "execution_count": 12,
   "id": "SFAoUxElZeCJ",
   "metadata": {
    "id": "SFAoUxElZeCJ"
   },
   "outputs": [],
   "source": [
    "import math\n",
    "\n",
    "parameters_dict.update({\n",
    "    'learning_rate': {\n",
    "        # a flat distribution between 0.001 and 0.0001\n",
    "        'distribution': 'uniform',\n",
    "        'min': 0.0001,\n",
    "        'max': 0.001\n",
    "      },\n",
    "    'batch_size': {\n",
    "        # integers between 16 and 30\n",
    "        # with evenly-distributed logarithms \n",
    "        'distribution': 'q_uniform',\n",
    "        'q': 1,\n",
    "        'min': 10,\n",
    "        'max': 33,\n",
    "      }\n",
    "    })"
   ]
  },
  {
   "cell_type": "code",
   "execution_count": 13,
   "id": "w3vCNTiJZeL1",
   "metadata": {
    "colab": {
     "base_uri": "https://localhost:8080/"
    },
    "id": "w3vCNTiJZeL1",
    "outputId": "ddff179c-eca2-42c2-b735-7809c2ff0c28"
   },
   "outputs": [
    {
     "name": "stdout",
     "output_type": "stream",
     "text": [
      "{'method': 'random',\n",
      " 'metric': {'goal': 'maximize', 'name': 'accuracy'},\n",
      " 'parameters': {'batch_size': {'distribution': 'q_uniform',\n",
      "                               'max': 33,\n",
      "                               'min': 10,\n",
      "                               'q': 1},\n",
      "                'epochs': {'distribution': 'q_uniform',\n",
      "                           'max': 200,\n",
      "                           'min': 100,\n",
      "                           'q': 10},\n",
      "                'layers': {'distribution': 'q_uniform',\n",
      "                           'max': 50,\n",
      "                           'min': 10,\n",
      "                           'q': 1},\n",
      "                'learning_rate': {'distribution': 'uniform',\n",
      "                                  'max': 0.001,\n",
      "                                  'min': 0.0001},\n",
      "                'neurons': {'distribution': 'q_uniform',\n",
      "                            'max': 50,\n",
      "                            'min': 10,\n",
      "                            'q': 1},\n",
      "                'optimizer': {'values': ['adam', 'adamax']}},\n",
      " 'program': 'train.py'}\n"
     ]
    }
   ],
   "source": [
    "import pprint\n",
    "\n",
    "pprint.pprint(sweep_config)"
   ]
  },
  {
   "cell_type": "code",
   "execution_count": 14,
   "id": "f731aea8",
   "metadata": {
    "id": "f731aea8"
   },
   "outputs": [],
   "source": [
    "initializer = tf.keras.initializers.RandomNormal()\n",
    "initializer1 = tf.keras.initializers.HeUniform()\n",
    "initializer2 = tf.keras.initializers.GlorotNormal()\n",
    "initializer3 = tf.keras.initializers.GlorotUniform()\n",
    "initializer4 = tf.keras.initializers.HeNormal()\n",
    "initializer5 = tf.keras.initializers.RandomUniform()"
   ]
  },
  {
   "cell_type": "code",
   "execution_count": 15,
   "id": "a268cbc5",
   "metadata": {},
   "outputs": [],
   "source": [
    "from tensorflow.keras.layers import Dense, Dropout, BatchNormalization\n",
    "from tensorflow.keras.optimizers import Adam, Adagrad\n",
    "from tensorflow.keras.layers import Input"
   ]
  },
  {
   "cell_type": "code",
   "execution_count": 18,
   "id": "cefea358",
   "metadata": {
    "colab": {
     "base_uri": "https://localhost:8080/"
    },
    "id": "cefea358",
    "outputId": "c5fbb486-0a85-4021-fe6e-8c5659a037cc"
   },
   "outputs": [
    {
     "name": "stdout",
     "output_type": "stream",
     "text": [
      "Create sweep with ID: lg5h93ch\n",
      "Sweep URL: https://wandb.ai/anzanzio/ep-em%20DNN/sweeps/lg5h93ch\n"
     ]
    }
   ],
   "source": [
    "#X3_train = np.array([np.array(val) for val in X3_train])\n",
    "sweep_id = wandb.sweep(sweep_config, project=\"ep-em DNN\")\n",
    "#sweep_id = wandb.sweep(sweep_config)"
   ]
  },
  {
   "cell_type": "code",
   "execution_count": 19,
   "id": "Ba7lPFtebl_6",
   "metadata": {
    "id": "Ba7lPFtebl_6"
   },
   "outputs": [],
   "source": [
    "X_train, X_test, Y_train, Y_test = train_test_split(X, Y, test_size=0.3, random_state=1)"
   ]
  },
  {
   "cell_type": "code",
   "execution_count": 20,
   "id": "bf41d99e",
   "metadata": {
    "id": "bf41d99e"
   },
   "outputs": [],
   "source": [
    "# Function to create model, required for KerasClassifier\n",
    "initializer1 = tf.keras.initializers.HeUniform()\n",
    "def create_model(learning_rate=0.0001):\n",
    "  wandb.init()\n",
    "  # Specify the hyperparameter to be tuned along with\n",
    "  # an initial value\n",
    "  config = {\n",
    "      #'dense_units': 128,\n",
    "      #'hidden_dim': 32,\n",
    "      #'embed_dim': 32,\n",
    "      #'fc_layer_size': 32,\n",
    "      'learning_rate': 0.0001,\n",
    "      'optimizer': 'adam',\n",
    "      'epochs': 150,\n",
    "      'batch_size': 16,\n",
    "      'neurons': 10,\n",
    "      'layers': 10,\n",
    "      #'dropout': 0.1,\n",
    "      #'weight_decay': 2e-5,\n",
    "          }\n",
    "  \n",
    "  # Specify the other hyperparameters to the configuration\n",
    "  config = wandb.config\n",
    "    # create model\n",
    "  model = tf.keras.Sequential([\n",
    "    #tf.keras.layers.Embedding(14, wandb.config.embed_dim),\n",
    "    #tf.keras.layers.Dense(33, input_dim=14, activation='relu'),\n",
    "    tf.keras.layers.Dense(wandb.config.neurons, input_dim=15, kernel_initializer=initializer1, activation='relu'),\n",
    "    tf.keras.layers.Dense(wandb.config.neurons, activation='relu'),\n",
    "    tf.keras.layers.Dense(1, activation='sigmoid')\n",
    "    ])\n",
    "    \n",
    "    # Compile model\n",
    "  optimizer = SGD(learning_rate=learning_rate)\n",
    "  model.compile(loss='binary_crossentropy', \n",
    "                optimizer='adam', metrics=['accuracy'])\n",
    "  #config.epochs = 150\n",
    "  #config.batch_size = 20\n",
    "  optimizer=config.optimizer\n",
    "  optimizer.lower\n",
    "  learning_rate=config.learning_rate\n",
    "  model.fit(X_train, Y_train, epochs=config.epochs, \n",
    "            batch_size=config.batch_size,\n",
    "            validation_data=(X_test, Y_test), \n",
    "            shuffle=True, \n",
    "            callbacks=[WandbCallback(monitor='val_loss', patience=5, min_delta=0.0001)]) \n",
    "  \n",
    "  return model"
   ]
  },
  {
   "cell_type": "code",
   "execution_count": 21,
   "id": "ctYwYMMqB8q8",
   "metadata": {
    "colab": {
     "base_uri": "https://localhost:8080/",
     "height": 1000,
     "referenced_widgets": [
      "a5b4076cd7024523bddd3ff0413c7d5f",
      "97ac3f0268864df29c44eef82a9d08ec",
      "c089c0cc13134ff0a7e417d52a0877a8",
      "002dca0176334a5eb2633f94d6636aeb",
      "17d0bfa16844430da6459a91116aff7e",
      "c63bcb1a6fed45eb88c09839323f54ff",
      "7282b7294931460eb0827651151749b4",
      "34faff96afff42ef8166e43c78895e73",
      "846360f9ed3749b8a114f55fcb980e35",
      "96b8ca8914e54e7288d36d65045655a0",
      "60285d79103d4294adffd4f6dadd4998",
      "9ce7e39b7d6e4718bb6643db0cd6019e",
      "60e567b40f0d4a78bf1b584e16d88c5f",
      "3978969aee3547e582a323901733d407",
      "bd89c03964c5434cbae9eaf1416884c1",
      "1053bde17e1e43ca8973de5ff6d1d931",
      "950c47312019474ca5928c1ca600f4ff",
      "d3d65d3ac9f44293898dd5ad0d2f0ba7",
      "3f767dea459b4257a4db7ffb5027f91b",
      "7e08fe0472504afd83c02bc5cfb886cb",
      "dedbf3e58586439ca6e1a47d270ed824",
      "5a2594d89a75485591e0234b1c49dc84",
      "fa700426ee2e4649af6a51285a1ec7b7",
      "7ba76f0d8da64d87828305b6c37133a6",
      "32d335cff5814b4e8e6b49faad650b3f",
      "c6b7089721f146dba02faf0e6a574187",
      "bbb84cedde0242239ec2409b2ee421b0",
      "35dc8f6235eb4ef492f41a5e21531fff",
      "8324b61a20a04ad88659e052ba02937d",
      "29f910fbb0284d278498db5acab35663",
      "f525f309ebf34a63980eb262f008737e",
      "8d2c84cf23a74042bf866267480682cf",
      "16d6c35db1ea45d4a7fefe48295a18ca",
      "5a2bc5ecd6444bc5a9ef161f2794e74b",
      "e4b26825c21442048e24ae017789a519",
      "eec529cf57374290ad09be15b1b40964",
      "62380b51577f490fa1c3514a8cc9d506",
      "3cfd90f2b57940039fbd9d673810cdc0",
      "f4315ac4b5c34327acfad1aee93c79cf",
      "d5dd940bbbcf4f179139a053f19f2d15",
      "7d75eb35f0c74b3491ba936032061bca",
      "14ee3e8f47e3415c89a3583a63087032",
      "c8da41e5dd764ca5b5c9ed422e3c2d19",
      "0d04d3e0f5ff4d5593c5a3c1e29f5763",
      "072c3baad4134de3a373f1f84700f789",
      "03b0f28d1bbb47d7b3f5422909478ff1",
      "207a07eed1be42f684bd7c67edd71667",
      "e397967745e54d52905b5fb769854619"
     ]
    },
    "id": "ctYwYMMqB8q8",
    "outputId": "3036b875-b752-4a5d-e107-d2a1a2a1020d",
    "scrolled": true
   },
   "outputs": [
    {
     "name": "stderr",
     "output_type": "stream",
     "text": [
      "\u001b[34m\u001b[1mwandb\u001b[0m: Agent Starting Run: 0afluzjo with config:\n",
      "\u001b[34m\u001b[1mwandb\u001b[0m: \tbatch_size: 21\n",
      "\u001b[34m\u001b[1mwandb\u001b[0m: \tepochs: 130\n",
      "\u001b[34m\u001b[1mwandb\u001b[0m: \tlayers: 33\n",
      "\u001b[34m\u001b[1mwandb\u001b[0m: \tlearning_rate: 0.0004962367614803406\n",
      "\u001b[34m\u001b[1mwandb\u001b[0m: \tneurons: 28\n",
      "\u001b[34m\u001b[1mwandb\u001b[0m: \toptimizer: adam\n"
     ]
    },
    {
     "data": {
      "text/html": [
       "Tracking run with wandb version 0.17.6"
      ],
      "text/plain": [
       "<IPython.core.display.HTML object>"
      ]
     },
     "metadata": {},
     "output_type": "display_data"
    },
    {
     "data": {
      "text/html": [
       "Run data is saved locally in <code>/home/anza-tshilidzi/Desktop/Masters_material/e+ e- study/wandb/run-20240815_072129-0afluzjo</code>"
      ],
      "text/plain": [
       "<IPython.core.display.HTML object>"
      ]
     },
     "metadata": {},
     "output_type": "display_data"
    },
    {
     "data": {
      "text/html": [
       "Syncing run <strong><a href='https://wandb.ai/anzanzio/ep-em%20DNN/runs/0afluzjo' target=\"_blank\">peachy-sweep-1</a></strong> to <a href='https://wandb.ai/anzanzio/ep-em%20DNN' target=\"_blank\">Weights & Biases</a> (<a href='https://wandb.me/run' target=\"_blank\">docs</a>)<br/>Sweep page: <a href='https://wandb.ai/anzanzio/ep-em%20DNN/sweeps/lg5h93ch' target=\"_blank\">https://wandb.ai/anzanzio/ep-em%20DNN/sweeps/lg5h93ch</a>"
      ],
      "text/plain": [
       "<IPython.core.display.HTML object>"
      ]
     },
     "metadata": {},
     "output_type": "display_data"
    },
    {
     "data": {
      "text/html": [
       " View project at <a href='https://wandb.ai/anzanzio/ep-em%20DNN' target=\"_blank\">https://wandb.ai/anzanzio/ep-em%20DNN</a>"
      ],
      "text/plain": [
       "<IPython.core.display.HTML object>"
      ]
     },
     "metadata": {},
     "output_type": "display_data"
    },
    {
     "data": {
      "text/html": [
       " View sweep at <a href='https://wandb.ai/anzanzio/ep-em%20DNN/sweeps/lg5h93ch' target=\"_blank\">https://wandb.ai/anzanzio/ep-em%20DNN/sweeps/lg5h93ch</a>"
      ],
      "text/plain": [
       "<IPython.core.display.HTML object>"
      ]
     },
     "metadata": {},
     "output_type": "display_data"
    },
    {
     "data": {
      "text/html": [
       " View run at <a href='https://wandb.ai/anzanzio/ep-em%20DNN/runs/0afluzjo' target=\"_blank\">https://wandb.ai/anzanzio/ep-em%20DNN/runs/0afluzjo</a>"
      ],
      "text/plain": [
       "<IPython.core.display.HTML object>"
      ]
     },
     "metadata": {},
     "output_type": "display_data"
    },
    {
     "name": "stderr",
     "output_type": "stream",
     "text": [
      "2024-08-15 07:21:37.712543: W tensorflow/stream_executor/platform/default/dso_loader.cc:64] Could not load dynamic library 'libcuda.so.1'; dlerror: libcuda.so.1: cannot open shared object file: No such file or directory; LD_LIBRARY_PATH: /home/anza-tshilidzi/root/root-6.26.06-install/lib::/home/anza-tshilidzi/Downloads/LHAPDF/lib:/home/anza-tshilidzi/Downloads/LHAPDF/lib\n",
      "2024-08-15 07:21:37.712561: W tensorflow/stream_executor/cuda/cuda_driver.cc:269] failed call to cuInit: UNKNOWN ERROR (303)\n",
      "2024-08-15 07:21:37.712579: I tensorflow/stream_executor/cuda/cuda_diagnostics.cc:156] kernel driver does not appear to be running on this host (anzatshilidzi): /proc/driver/nvidia/version does not exist\n",
      "2024-08-15 07:21:37.712777: I tensorflow/core/platform/cpu_feature_guard.cc:193] This TensorFlow binary is optimized with oneAPI Deep Neural Network Library (oneDNN) to use the following CPU instructions in performance-critical operations:  AVX2 AVX512F AVX512_VNNI FMA\n",
      "To enable them in other operations, rebuild TensorFlow with the appropriate compiler flags.\n",
      "\u001b[34m\u001b[1mwandb\u001b[0m: \u001b[33mWARNING\u001b[0m The save_model argument by default saves the model in the HDF5 format that cannot save custom objects like subclassed models and custom layers. This behavior will be deprecated in a future release in favor of the SavedModel format. Meanwhile, the HDF5 model is saved as W&B files and the SavedModel as W&B Artifacts.\n"
     ]
    },
    {
     "name": "stdout",
     "output_type": "stream",
     "text": [
      "Epoch 1/130\n",
      "4979/5003 [============================>.] - ETA: 0s - loss: 0.6450 - accuracy: 0.7285INFO:tensorflow:Assets written to: /home/anza-tshilidzi/Desktop/Masters_material/e+ e- study/wandb/run-20240815_072129-0afluzjo/files/model-best/assets\n"
     ]
    },
    {
     "name": "stderr",
     "output_type": "stream",
     "text": [
      "\u001b[34m\u001b[1mwandb\u001b[0m: Adding directory to artifact (/home/anza-tshilidzi/Desktop/Masters_material/e+ e- study/wandb/run-20240815_072129-0afluzjo/files/model-best)... Done. 0.0s\n"
     ]
    },
    {
     "name": "stdout",
     "output_type": "stream",
     "text": [
      "5003/5003 [==============================] - 7s 1ms/step - loss: 0.6442 - accuracy: 0.7288 - val_loss: 0.5183 - val_accuracy: 0.7889\n",
      "Epoch 2/130\n",
      "4981/5003 [============================>.] - ETA: 0s - loss: 0.4548 - accuracy: 0.8205INFO:tensorflow:Assets written to: /home/anza-tshilidzi/Desktop/Masters_material/e+ e- study/wandb/run-20240815_072129-0afluzjo/files/model-best/assets\n"
     ]
    },
    {
     "name": "stderr",
     "output_type": "stream",
     "text": [
      "\u001b[34m\u001b[1mwandb\u001b[0m: Adding directory to artifact (/home/anza-tshilidzi/Desktop/Masters_material/e+ e- study/wandb/run-20240815_072129-0afluzjo/files/model-best)... Done. 0.0s\n"
     ]
    },
    {
     "name": "stdout",
     "output_type": "stream",
     "text": [
      "5003/5003 [==============================] - 6s 1ms/step - loss: 0.4546 - accuracy: 0.8207 - val_loss: 0.3902 - val_accuracy: 0.8667\n",
      "Epoch 3/130\n",
      "5003/5003 [==============================] - 5s 1ms/step - loss: 0.3963 - accuracy: 0.8498 - val_loss: 0.4511 - val_accuracy: 0.8341\n",
      "Epoch 4/130\n",
      "4982/5003 [============================>.] - ETA: 0s - loss: 0.3656 - accuracy: 0.8627INFO:tensorflow:Assets written to: /home/anza-tshilidzi/Desktop/Masters_material/e+ e- study/wandb/run-20240815_072129-0afluzjo/files/model-best/assets\n"
     ]
    },
    {
     "name": "stderr",
     "output_type": "stream",
     "text": [
      "\u001b[34m\u001b[1mwandb\u001b[0m: Adding directory to artifact (/home/anza-tshilidzi/Desktop/Masters_material/e+ e- study/wandb/run-20240815_072129-0afluzjo/files/model-best)... Done. 0.0s\n"
     ]
    },
    {
     "name": "stdout",
     "output_type": "stream",
     "text": [
      "5003/5003 [==============================] - 6s 1ms/step - loss: 0.3657 - accuracy: 0.8627 - val_loss: 0.3415 - val_accuracy: 0.8642\n",
      "Epoch 5/130\n",
      "5003/5003 [==============================] - 6s 1ms/step - loss: 0.3528 - accuracy: 0.8664 - val_loss: 0.4962 - val_accuracy: 0.8260\n",
      "Epoch 6/130\n",
      "4959/5003 [============================>.] - ETA: 0s - loss: 0.3412 - accuracy: 0.8691INFO:tensorflow:Assets written to: /home/anza-tshilidzi/Desktop/Masters_material/e+ e- study/wandb/run-20240815_072129-0afluzjo/files/model-best/assets\n"
     ]
    },
    {
     "name": "stderr",
     "output_type": "stream",
     "text": [
      "\u001b[34m\u001b[1mwandb\u001b[0m: Adding directory to artifact (/home/anza-tshilidzi/Desktop/Masters_material/e+ e- study/wandb/run-20240815_072129-0afluzjo/files/model-best)... Done. 0.0s\n"
     ]
    },
    {
     "name": "stdout",
     "output_type": "stream",
     "text": [
      "5003/5003 [==============================] - 6s 1ms/step - loss: 0.3415 - accuracy: 0.8690 - val_loss: 0.3092 - val_accuracy: 0.8797\n",
      "Epoch 7/130\n",
      "5003/5003 [==============================] - 5s 1ms/step - loss: 0.3348 - accuracy: 0.8720 - val_loss: 0.3315 - val_accuracy: 0.8785\n",
      "Epoch 8/130\n",
      "5003/5003 [==============================] - 6s 1ms/step - loss: 0.3312 - accuracy: 0.8715 - val_loss: 0.3300 - val_accuracy: 0.8701\n",
      "Epoch 9/130\n",
      "5003/5003 [==============================] - 5s 1ms/step - loss: 0.3254 - accuracy: 0.8737 - val_loss: 0.3703 - val_accuracy: 0.8520\n",
      "Epoch 10/130\n",
      "5003/5003 [==============================] - 5s 1ms/step - loss: 0.3224 - accuracy: 0.8753 - val_loss: 0.3120 - val_accuracy: 0.8759\n",
      "Epoch 11/130\n",
      "5003/5003 [==============================] - 6s 1ms/step - loss: 0.3177 - accuracy: 0.8762 - val_loss: 0.4748 - val_accuracy: 0.8119\n",
      "Epoch 12/130\n",
      "4977/5003 [============================>.] - ETA: 0s - loss: 0.3154 - accuracy: 0.8777INFO:tensorflow:Assets written to: /home/anza-tshilidzi/Desktop/Masters_material/e+ e- study/wandb/run-20240815_072129-0afluzjo/files/model-best/assets\n"
     ]
    },
    {
     "name": "stderr",
     "output_type": "stream",
     "text": [
      "\u001b[34m\u001b[1mwandb\u001b[0m: Adding directory to artifact (/home/anza-tshilidzi/Desktop/Masters_material/e+ e- study/wandb/run-20240815_072129-0afluzjo/files/model-best)... Done. 0.0s\n"
     ]
    },
    {
     "name": "stdout",
     "output_type": "stream",
     "text": [
      "5003/5003 [==============================] - 4s 878us/step - loss: 0.3151 - accuracy: 0.8779 - val_loss: 0.3061 - val_accuracy: 0.8784\n",
      "Epoch 13/130\n",
      "5003/5003 [==============================] - 4s 723us/step - loss: 0.3129 - accuracy: 0.8782 - val_loss: 0.3129 - val_accuracy: 0.8814\n",
      "Epoch 14/130\n",
      "5003/5003 [==============================] - 4s 750us/step - loss: 0.3086 - accuracy: 0.8797 - val_loss: 0.3081 - val_accuracy: 0.8784\n",
      "Epoch 15/130\n",
      "5003/5003 [==============================] - 4s 726us/step - loss: 0.3078 - accuracy: 0.8814 - val_loss: 0.3069 - val_accuracy: 0.8849\n",
      "Epoch 16/130\n",
      "4974/5003 [============================>.] - ETA: 0s - loss: 0.3044 - accuracy: 0.8827INFO:tensorflow:Assets written to: /home/anza-tshilidzi/Desktop/Masters_material/e+ e- study/wandb/run-20240815_072129-0afluzjo/files/model-best/assets\n"
     ]
    },
    {
     "name": "stderr",
     "output_type": "stream",
     "text": [
      "\u001b[34m\u001b[1mwandb\u001b[0m: Adding directory to artifact (/home/anza-tshilidzi/Desktop/Masters_material/e+ e- study/wandb/run-20240815_072129-0afluzjo/files/model-best)... Done. 0.0s\n"
     ]
    },
    {
     "name": "stdout",
     "output_type": "stream",
     "text": [
      "5003/5003 [==============================] - 4s 870us/step - loss: 0.3045 - accuracy: 0.8827 - val_loss: 0.2985 - val_accuracy: 0.8855\n",
      "Epoch 17/130\n",
      "5003/5003 [==============================] - 4s 723us/step - loss: 0.3027 - accuracy: 0.8833 - val_loss: 0.3011 - val_accuracy: 0.8875\n",
      "Epoch 18/130\n",
      "5003/5003 [==============================] - 4s 746us/step - loss: 0.3022 - accuracy: 0.8838 - val_loss: 0.3053 - val_accuracy: 0.8806\n",
      "Epoch 19/130\n",
      "5003/5003 [==============================] - 4s 741us/step - loss: 0.3013 - accuracy: 0.8838 - val_loss: 0.3001 - val_accuracy: 0.8813\n",
      "Epoch 20/130\n",
      "4969/5003 [============================>.] - ETA: 0s - loss: 0.3008 - accuracy: 0.8841INFO:tensorflow:Assets written to: /home/anza-tshilidzi/Desktop/Masters_material/e+ e- study/wandb/run-20240815_072129-0afluzjo/files/model-best/assets\n"
     ]
    },
    {
     "name": "stderr",
     "output_type": "stream",
     "text": [
      "\u001b[34m\u001b[1mwandb\u001b[0m: Adding directory to artifact (/home/anza-tshilidzi/Desktop/Masters_material/e+ e- study/wandb/run-20240815_072129-0afluzjo/files/model-best)... Done. 0.0s\n"
     ]
    },
    {
     "name": "stdout",
     "output_type": "stream",
     "text": [
      "5003/5003 [==============================] - 4s 879us/step - loss: 0.3006 - accuracy: 0.8841 - val_loss: 0.2942 - val_accuracy: 0.8844\n",
      "Epoch 21/130\n",
      "5003/5003 [==============================] - 4s 728us/step - loss: 0.2994 - accuracy: 0.8845 - val_loss: 0.2970 - val_accuracy: 0.8826\n",
      "Epoch 22/130\n",
      "4961/5003 [============================>.] - ETA: 0s - loss: 0.2991 - accuracy: 0.8844INFO:tensorflow:Assets written to: /home/anza-tshilidzi/Desktop/Masters_material/e+ e- study/wandb/run-20240815_072129-0afluzjo/files/model-best/assets\n"
     ]
    },
    {
     "name": "stderr",
     "output_type": "stream",
     "text": [
      "\u001b[34m\u001b[1mwandb\u001b[0m: Adding directory to artifact (/home/anza-tshilidzi/Desktop/Masters_material/e+ e- study/wandb/run-20240815_072129-0afluzjo/files/model-best)... Done. 0.0s\n"
     ]
    },
    {
     "name": "stdout",
     "output_type": "stream",
     "text": [
      "5003/5003 [==============================] - 5s 985us/step - loss: 0.2991 - accuracy: 0.8844 - val_loss: 0.2906 - val_accuracy: 0.8861\n",
      "Epoch 23/130\n",
      "5003/5003 [==============================] - 4s 730us/step - loss: 0.2975 - accuracy: 0.8859 - val_loss: 0.2915 - val_accuracy: 0.8859\n",
      "Epoch 24/130\n",
      "5003/5003 [==============================] - 4s 729us/step - loss: 0.2981 - accuracy: 0.8852 - val_loss: 0.2919 - val_accuracy: 0.8886\n",
      "Epoch 25/130\n",
      "5003/5003 [==============================] - 4s 729us/step - loss: 0.2960 - accuracy: 0.8857 - val_loss: 0.2908 - val_accuracy: 0.8881\n",
      "Epoch 26/130\n",
      "5003/5003 [==============================] - 4s 739us/step - loss: 0.2970 - accuracy: 0.8852 - val_loss: 0.2916 - val_accuracy: 0.8875\n",
      "Epoch 27/130\n",
      "5003/5003 [==============================] - 4s 738us/step - loss: 0.2960 - accuracy: 0.8853 - val_loss: 0.2914 - val_accuracy: 0.8859\n",
      "Epoch 28/130\n",
      "5003/5003 [==============================] - 4s 727us/step - loss: 0.2956 - accuracy: 0.8861 - val_loss: 0.3088 - val_accuracy: 0.8747\n",
      "Epoch 29/130\n",
      "5003/5003 [==============================] - 4s 740us/step - loss: 0.2949 - accuracy: 0.8862 - val_loss: 0.2966 - val_accuracy: 0.8830\n",
      "Epoch 30/130\n",
      "5003/5003 [==============================] - 4s 738us/step - loss: 0.2944 - accuracy: 0.8864 - val_loss: 0.2993 - val_accuracy: 0.8832\n",
      "Epoch 31/130\n",
      "4938/5003 [============================>.] - ETA: 0s - loss: 0.2933 - accuracy: 0.8869INFO:tensorflow:Assets written to: /home/anza-tshilidzi/Desktop/Masters_material/e+ e- study/wandb/run-20240815_072129-0afluzjo/files/model-best/assets\n"
     ]
    },
    {
     "name": "stderr",
     "output_type": "stream",
     "text": [
      "\u001b[34m\u001b[1mwandb\u001b[0m: Adding directory to artifact (/home/anza-tshilidzi/Desktop/Masters_material/e+ e- study/wandb/run-20240815_072129-0afluzjo/files/model-best)... Done. 0.0s\n"
     ]
    },
    {
     "name": "stdout",
     "output_type": "stream",
     "text": [
      "5003/5003 [==============================] - 5s 906us/step - loss: 0.2932 - accuracy: 0.8869 - val_loss: 0.2878 - val_accuracy: 0.8893\n",
      "Epoch 32/130\n",
      "5003/5003 [==============================] - 4s 731us/step - loss: 0.2926 - accuracy: 0.8866 - val_loss: 0.3020 - val_accuracy: 0.8825\n",
      "Epoch 33/130\n",
      "5003/5003 [==============================] - 4s 738us/step - loss: 0.2929 - accuracy: 0.8866 - val_loss: 0.3090 - val_accuracy: 0.8792\n",
      "Epoch 34/130\n",
      "5003/5003 [==============================] - 4s 749us/step - loss: 0.2929 - accuracy: 0.8861 - val_loss: 0.2915 - val_accuracy: 0.8867\n",
      "Epoch 35/130\n",
      "5003/5003 [==============================] - 4s 764us/step - loss: 0.2918 - accuracy: 0.8872 - val_loss: 0.2974 - val_accuracy: 0.8822\n",
      "Epoch 36/130\n",
      "5003/5003 [==============================] - 4s 794us/step - loss: 0.2915 - accuracy: 0.8868 - val_loss: 0.3063 - val_accuracy: 0.8799\n",
      "Epoch 37/130\n",
      "5003/5003 [==============================] - 4s 757us/step - loss: 0.2910 - accuracy: 0.8870 - val_loss: 0.2913 - val_accuracy: 0.8852\n",
      "Epoch 38/130\n",
      "5003/5003 [==============================] - 4s 769us/step - loss: 0.2926 - accuracy: 0.8866 - val_loss: 0.3189 - val_accuracy: 0.8760\n",
      "Epoch 39/130\n",
      "5003/5003 [==============================] - 4s 787us/step - loss: 0.2909 - accuracy: 0.8872 - val_loss: 0.2919 - val_accuracy: 0.8867\n",
      "Epoch 40/130\n",
      "5003/5003 [==============================] - 4s 763us/step - loss: 0.2908 - accuracy: 0.8873 - val_loss: 0.3279 - val_accuracy: 0.8668\n",
      "Epoch 41/130\n",
      "5003/5003 [==============================] - 4s 741us/step - loss: 0.2913 - accuracy: 0.8877 - val_loss: 0.3188 - val_accuracy: 0.8711\n",
      "Epoch 42/130\n",
      "4929/5003 [============================>.] - ETA: 0s - loss: 0.2896 - accuracy: 0.8876INFO:tensorflow:Assets written to: /home/anza-tshilidzi/Desktop/Masters_material/e+ e- study/wandb/run-20240815_072129-0afluzjo/files/model-best/assets\n"
     ]
    },
    {
     "name": "stderr",
     "output_type": "stream",
     "text": [
      "\u001b[34m\u001b[1mwandb\u001b[0m: Adding directory to artifact (/home/anza-tshilidzi/Desktop/Masters_material/e+ e- study/wandb/run-20240815_072129-0afluzjo/files/model-best)... Done. 0.0s\n"
     ]
    },
    {
     "name": "stdout",
     "output_type": "stream",
     "text": [
      "5003/5003 [==============================] - 4s 866us/step - loss: 0.2896 - accuracy: 0.8876 - val_loss: 0.2860 - val_accuracy: 0.8877\n",
      "Epoch 43/130\n",
      "5003/5003 [==============================] - 4s 796us/step - loss: 0.2892 - accuracy: 0.8881 - val_loss: 0.3228 - val_accuracy: 0.8774\n",
      "Epoch 44/130\n",
      "5003/5003 [==============================] - 4s 756us/step - loss: 0.2900 - accuracy: 0.8880 - val_loss: 0.3111 - val_accuracy: 0.8824\n",
      "Epoch 45/130\n",
      "4972/5003 [============================>.] - ETA: 0s - loss: 0.2884 - accuracy: 0.8881INFO:tensorflow:Assets written to: /home/anza-tshilidzi/Desktop/Masters_material/e+ e- study/wandb/run-20240815_072129-0afluzjo/files/model-best/assets\n"
     ]
    },
    {
     "name": "stderr",
     "output_type": "stream",
     "text": [
      "\u001b[34m\u001b[1mwandb\u001b[0m: Adding directory to artifact (/home/anza-tshilidzi/Desktop/Masters_material/e+ e- study/wandb/run-20240815_072129-0afluzjo/files/model-best)... Done. 0.0s\n"
     ]
    },
    {
     "name": "stdout",
     "output_type": "stream",
     "text": [
      "5003/5003 [==============================] - 5s 993us/step - loss: 0.2883 - accuracy: 0.8881 - val_loss: 0.2840 - val_accuracy: 0.8875\n",
      "Epoch 46/130\n",
      "5003/5003 [==============================] - 4s 834us/step - loss: 0.2885 - accuracy: 0.8879 - val_loss: 0.2939 - val_accuracy: 0.8867\n",
      "Epoch 47/130\n",
      "5003/5003 [==============================] - 4s 813us/step - loss: 0.2879 - accuracy: 0.8879 - val_loss: 0.2922 - val_accuracy: 0.8846\n",
      "Epoch 48/130\n",
      "5003/5003 [==============================] - 4s 762us/step - loss: 0.2878 - accuracy: 0.8886 - val_loss: 0.3226 - val_accuracy: 0.8761\n",
      "Epoch 49/130\n",
      "5003/5003 [==============================] - 4s 724us/step - loss: 0.2878 - accuracy: 0.8888 - val_loss: 0.2896 - val_accuracy: 0.8880\n",
      "Epoch 50/130\n",
      "5003/5003 [==============================] - 4s 766us/step - loss: 0.2894 - accuracy: 0.8889 - val_loss: 0.2883 - val_accuracy: 0.8878\n",
      "Epoch 51/130\n",
      "5003/5003 [==============================] - 4s 756us/step - loss: 0.2867 - accuracy: 0.8885 - val_loss: 0.2895 - val_accuracy: 0.8896\n",
      "Epoch 52/130\n",
      "5003/5003 [==============================] - 4s 737us/step - loss: 0.2868 - accuracy: 0.8895 - val_loss: 0.2879 - val_accuracy: 0.8889\n",
      "Epoch 53/130\n",
      "5003/5003 [==============================] - 4s 733us/step - loss: 0.2864 - accuracy: 0.8889 - val_loss: 0.2859 - val_accuracy: 0.8885\n",
      "Epoch 54/130\n",
      "4946/5003 [============================>.] - ETA: 0s - loss: 0.2842 - accuracy: 0.8894INFO:tensorflow:Assets written to: /home/anza-tshilidzi/Desktop/Masters_material/e+ e- study/wandb/run-20240815_072129-0afluzjo/files/model-best/assets\n"
     ]
    },
    {
     "name": "stderr",
     "output_type": "stream",
     "text": [
      "\u001b[34m\u001b[1mwandb\u001b[0m: Adding directory to artifact (/home/anza-tshilidzi/Desktop/Masters_material/e+ e- study/wandb/run-20240815_072129-0afluzjo/files/model-best)... Done. 0.0s\n"
     ]
    },
    {
     "name": "stdout",
     "output_type": "stream",
     "text": [
      "5003/5003 [==============================] - 4s 869us/step - loss: 0.2841 - accuracy: 0.8895 - val_loss: 0.2831 - val_accuracy: 0.8899\n",
      "Epoch 55/130\n",
      "5003/5003 [==============================] - 4s 744us/step - loss: 0.2836 - accuracy: 0.8899 - val_loss: 0.3345 - val_accuracy: 0.8689\n",
      "Epoch 56/130\n",
      "4980/5003 [============================>.] - ETA: 0s - loss: 0.2819 - accuracy: 0.8910INFO:tensorflow:Assets written to: /home/anza-tshilidzi/Desktop/Masters_material/e+ e- study/wandb/run-20240815_072129-0afluzjo/files/model-best/assets\n"
     ]
    },
    {
     "name": "stderr",
     "output_type": "stream",
     "text": [
      "\u001b[34m\u001b[1mwandb\u001b[0m: Adding directory to artifact (/home/anza-tshilidzi/Desktop/Masters_material/e+ e- study/wandb/run-20240815_072129-0afluzjo/files/model-best)... Done. 0.0s\n"
     ]
    },
    {
     "name": "stdout",
     "output_type": "stream",
     "text": [
      "5003/5003 [==============================] - 4s 877us/step - loss: 0.2820 - accuracy: 0.8911 - val_loss: 0.2795 - val_accuracy: 0.8901\n",
      "Epoch 57/130\n",
      "5003/5003 [==============================] - 4s 733us/step - loss: 0.2803 - accuracy: 0.8913 - val_loss: 0.2849 - val_accuracy: 0.8890\n",
      "Epoch 58/130\n",
      "5003/5003 [==============================] - 4s 733us/step - loss: 0.2805 - accuracy: 0.8914 - val_loss: 0.2914 - val_accuracy: 0.8883\n",
      "Epoch 59/130\n",
      "5003/5003 [==============================] - 4s 757us/step - loss: 0.2790 - accuracy: 0.8916 - val_loss: 0.3418 - val_accuracy: 0.8696\n",
      "Epoch 60/130\n",
      "5003/5003 [==============================] - 4s 734us/step - loss: 0.2791 - accuracy: 0.8917 - val_loss: 0.3046 - val_accuracy: 0.8822\n",
      "Epoch 61/130\n",
      "5003/5003 [==============================] - 4s 732us/step - loss: 0.2782 - accuracy: 0.8919 - val_loss: 0.2820 - val_accuracy: 0.8893\n",
      "Epoch 62/130\n",
      "5003/5003 [==============================] - 4s 746us/step - loss: 0.2789 - accuracy: 0.8922 - val_loss: 0.2802 - val_accuracy: 0.8910\n",
      "Epoch 63/130\n",
      "5003/5003 [==============================] - 4s 736us/step - loss: 0.2785 - accuracy: 0.8926 - val_loss: 0.2854 - val_accuracy: 0.8916\n",
      "Epoch 64/130\n",
      "4987/5003 [============================>.] - ETA: 0s - loss: 0.2776 - accuracy: 0.8931INFO:tensorflow:Assets written to: /home/anza-tshilidzi/Desktop/Masters_material/e+ e- study/wandb/run-20240815_072129-0afluzjo/files/model-best/assets\n"
     ]
    },
    {
     "name": "stderr",
     "output_type": "stream",
     "text": [
      "\u001b[34m\u001b[1mwandb\u001b[0m: Adding directory to artifact (/home/anza-tshilidzi/Desktop/Masters_material/e+ e- study/wandb/run-20240815_072129-0afluzjo/files/model-best)... Done. 0.0s\n"
     ]
    },
    {
     "name": "stdout",
     "output_type": "stream",
     "text": [
      "5003/5003 [==============================] - 5s 905us/step - loss: 0.2777 - accuracy: 0.8931 - val_loss: 0.2792 - val_accuracy: 0.8913\n",
      "Epoch 65/130\n",
      "5003/5003 [==============================] - 4s 734us/step - loss: 0.2776 - accuracy: 0.8931 - val_loss: 0.2967 - val_accuracy: 0.8869\n",
      "Epoch 66/130\n",
      "5003/5003 [==============================] - 4s 732us/step - loss: 0.2771 - accuracy: 0.8924 - val_loss: 0.2834 - val_accuracy: 0.8908\n",
      "Epoch 67/130\n",
      "5003/5003 [==============================] - 4s 743us/step - loss: 0.2770 - accuracy: 0.8928 - val_loss: 0.2840 - val_accuracy: 0.8894\n",
      "Epoch 68/130\n",
      "5003/5003 [==============================] - 4s 767us/step - loss: 0.2761 - accuracy: 0.8933 - val_loss: 0.2853 - val_accuracy: 0.8898\n",
      "Epoch 69/130\n",
      "5003/5003 [==============================] - 4s 729us/step - loss: 0.2762 - accuracy: 0.8936 - val_loss: 0.2800 - val_accuracy: 0.8900\n",
      "Epoch 70/130\n",
      "5003/5003 [==============================] - 4s 733us/step - loss: 0.2760 - accuracy: 0.8934 - val_loss: 0.3009 - val_accuracy: 0.8845\n",
      "Epoch 71/130\n",
      "4952/5003 [============================>.] - ETA: 0s - loss: 0.2764 - accuracy: 0.8928INFO:tensorflow:Assets written to: /home/anza-tshilidzi/Desktop/Masters_material/e+ e- study/wandb/run-20240815_072129-0afluzjo/files/model-best/assets\n"
     ]
    },
    {
     "name": "stderr",
     "output_type": "stream",
     "text": [
      "\u001b[34m\u001b[1mwandb\u001b[0m: Adding directory to artifact (/home/anza-tshilidzi/Desktop/Masters_material/e+ e- study/wandb/run-20240815_072129-0afluzjo/files/model-best)... Done. 0.0s\n"
     ]
    },
    {
     "name": "stdout",
     "output_type": "stream",
     "text": [
      "5003/5003 [==============================] - 5s 936us/step - loss: 0.2765 - accuracy: 0.8928 - val_loss: 0.2756 - val_accuracy: 0.8935\n",
      "Epoch 72/130\n",
      "4978/5003 [============================>.] - ETA: 0s - loss: 0.2751 - accuracy: 0.8937INFO:tensorflow:Assets written to: /home/anza-tshilidzi/Desktop/Masters_material/e+ e- study/wandb/run-20240815_072129-0afluzjo/files/model-best/assets\n"
     ]
    },
    {
     "name": "stderr",
     "output_type": "stream",
     "text": [
      "\u001b[34m\u001b[1mwandb\u001b[0m: Adding directory to artifact (/home/anza-tshilidzi/Desktop/Masters_material/e+ e- study/wandb/run-20240815_072129-0afluzjo/files/model-best)... Done. 0.0s\n"
     ]
    },
    {
     "name": "stdout",
     "output_type": "stream",
     "text": [
      "5003/5003 [==============================] - 4s 899us/step - loss: 0.2750 - accuracy: 0.8938 - val_loss: 0.2724 - val_accuracy: 0.8929\n",
      "Epoch 73/130\n",
      "4930/5003 [============================>.] - ETA: 0s - loss: 0.2747 - accuracy: 0.8933INFO:tensorflow:Assets written to: /home/anza-tshilidzi/Desktop/Masters_material/e+ e- study/wandb/run-20240815_072129-0afluzjo/files/model-best/assets\n"
     ]
    },
    {
     "name": "stderr",
     "output_type": "stream",
     "text": [
      "\u001b[34m\u001b[1mwandb\u001b[0m: Adding directory to artifact (/home/anza-tshilidzi/Desktop/Masters_material/e+ e- study/wandb/run-20240815_072129-0afluzjo/files/model-best)... Done. 0.0s\n"
     ]
    },
    {
     "name": "stdout",
     "output_type": "stream",
     "text": [
      "5003/5003 [==============================] - 4s 879us/step - loss: 0.2747 - accuracy: 0.8932 - val_loss: 0.2714 - val_accuracy: 0.8942\n",
      "Epoch 74/130\n",
      "5003/5003 [==============================] - 4s 724us/step - loss: 0.2736 - accuracy: 0.8941 - val_loss: 0.2788 - val_accuracy: 0.8916\n",
      "Epoch 75/130\n",
      "5003/5003 [==============================] - 4s 734us/step - loss: 0.2740 - accuracy: 0.8941 - val_loss: 0.2787 - val_accuracy: 0.8921\n",
      "Epoch 76/130\n",
      "5003/5003 [==============================] - 4s 751us/step - loss: 0.2732 - accuracy: 0.8942 - val_loss: 0.2747 - val_accuracy: 0.8932\n",
      "Epoch 77/130\n",
      "5003/5003 [==============================] - 4s 733us/step - loss: 0.2747 - accuracy: 0.8938 - val_loss: 0.2803 - val_accuracy: 0.8906\n",
      "Epoch 78/130\n",
      "5003/5003 [==============================] - 4s 735us/step - loss: 0.2738 - accuracy: 0.8945 - val_loss: 0.2779 - val_accuracy: 0.8926\n",
      "Epoch 79/130\n",
      "5003/5003 [==============================] - 4s 736us/step - loss: 0.2735 - accuracy: 0.8938 - val_loss: 0.2973 - val_accuracy: 0.8868\n",
      "Epoch 80/130\n",
      "5003/5003 [==============================] - 4s 752us/step - loss: 0.2734 - accuracy: 0.8938 - val_loss: 0.2725 - val_accuracy: 0.8940\n",
      "Epoch 81/130\n",
      "5003/5003 [==============================] - 4s 732us/step - loss: 0.2730 - accuracy: 0.8945 - val_loss: 0.2805 - val_accuracy: 0.8920\n",
      "Epoch 82/130\n",
      "5003/5003 [==============================] - 4s 735us/step - loss: 0.2729 - accuracy: 0.8944 - val_loss: 0.2840 - val_accuracy: 0.8934\n",
      "Epoch 83/130\n",
      "5003/5003 [==============================] - 4s 741us/step - loss: 0.2728 - accuracy: 0.8949 - val_loss: 0.2741 - val_accuracy: 0.8929\n",
      "Epoch 84/130\n",
      "5003/5003 [==============================] - 4s 762us/step - loss: 0.2721 - accuracy: 0.8945 - val_loss: 0.2828 - val_accuracy: 0.8921\n",
      "Epoch 85/130\n",
      "4992/5003 [============================>.] - ETA: 0s - loss: 0.2724 - accuracy: 0.8939INFO:tensorflow:Assets written to: /home/anza-tshilidzi/Desktop/Masters_material/e+ e- study/wandb/run-20240815_072129-0afluzjo/files/model-best/assets\n"
     ]
    },
    {
     "name": "stderr",
     "output_type": "stream",
     "text": [
      "\u001b[34m\u001b[1mwandb\u001b[0m: Adding directory to artifact (/home/anza-tshilidzi/Desktop/Masters_material/e+ e- study/wandb/run-20240815_072129-0afluzjo/files/model-best)... Done. 0.0s\n"
     ]
    },
    {
     "name": "stdout",
     "output_type": "stream",
     "text": [
      "5003/5003 [==============================] - 5s 904us/step - loss: 0.2723 - accuracy: 0.8939 - val_loss: 0.2694 - val_accuracy: 0.8950\n",
      "Epoch 86/130\n",
      "5003/5003 [==============================] - 4s 734us/step - loss: 0.2725 - accuracy: 0.8950 - val_loss: 0.2882 - val_accuracy: 0.8887\n",
      "Epoch 87/130\n",
      "5003/5003 [==============================] - 4s 733us/step - loss: 0.2726 - accuracy: 0.8944 - val_loss: 0.2793 - val_accuracy: 0.8911\n",
      "Epoch 88/130\n",
      "5003/5003 [==============================] - 4s 738us/step - loss: 0.2710 - accuracy: 0.8946 - val_loss: 0.2694 - val_accuracy: 0.8945\n",
      "Epoch 89/130\n",
      "5003/5003 [==============================] - 4s 747us/step - loss: 0.2710 - accuracy: 0.8948 - val_loss: 0.2800 - val_accuracy: 0.8904\n",
      "Epoch 90/130\n",
      "5003/5003 [==============================] - 4s 735us/step - loss: 0.2720 - accuracy: 0.8947 - val_loss: 0.2744 - val_accuracy: 0.8947\n",
      "Epoch 91/130\n",
      "4930/5003 [============================>.] - ETA: 0s - loss: 0.2711 - accuracy: 0.8950INFO:tensorflow:Assets written to: /home/anza-tshilidzi/Desktop/Masters_material/e+ e- study/wandb/run-20240815_072129-0afluzjo/files/model-best/assets\n"
     ]
    },
    {
     "name": "stderr",
     "output_type": "stream",
     "text": [
      "\u001b[34m\u001b[1mwandb\u001b[0m: Adding directory to artifact (/home/anza-tshilidzi/Desktop/Masters_material/e+ e- study/wandb/run-20240815_072129-0afluzjo/files/model-best)... Done. 0.0s\n"
     ]
    },
    {
     "name": "stdout",
     "output_type": "stream",
     "text": [
      "5003/5003 [==============================] - 4s 893us/step - loss: 0.2711 - accuracy: 0.8951 - val_loss: 0.2690 - val_accuracy: 0.8939\n",
      "Epoch 92/130\n",
      "5003/5003 [==============================] - 4s 735us/step - loss: 0.2712 - accuracy: 0.8946 - val_loss: 0.2703 - val_accuracy: 0.8942\n",
      "Epoch 93/130\n",
      "5003/5003 [==============================] - 4s 755us/step - loss: 0.2708 - accuracy: 0.8948 - val_loss: 0.2702 - val_accuracy: 0.8941\n",
      "Epoch 94/130\n",
      "5003/5003 [==============================] - 4s 737us/step - loss: 0.2706 - accuracy: 0.8951 - val_loss: 0.2955 - val_accuracy: 0.8848\n",
      "Epoch 95/130\n",
      "5003/5003 [==============================] - 4s 743us/step - loss: 0.2697 - accuracy: 0.8951 - val_loss: 0.2769 - val_accuracy: 0.8927\n",
      "Epoch 96/130\n",
      "5003/5003 [==============================] - 4s 734us/step - loss: 0.2700 - accuracy: 0.8950 - val_loss: 0.2777 - val_accuracy: 0.8924\n",
      "Epoch 97/130\n",
      "5003/5003 [==============================] - 4s 752us/step - loss: 0.2700 - accuracy: 0.8949 - val_loss: 0.2708 - val_accuracy: 0.8934\n",
      "Epoch 98/130\n",
      "5003/5003 [==============================] - 4s 736us/step - loss: 0.2701 - accuracy: 0.8949 - val_loss: 0.3014 - val_accuracy: 0.8822\n",
      "Epoch 99/130\n",
      "5003/5003 [==============================] - 4s 741us/step - loss: 0.2693 - accuracy: 0.8960 - val_loss: 0.2777 - val_accuracy: 0.8921\n",
      "Epoch 100/130\n",
      "5003/5003 [==============================] - 4s 742us/step - loss: 0.2704 - accuracy: 0.8948 - val_loss: 0.2740 - val_accuracy: 0.8929\n",
      "Epoch 101/130\n",
      "5003/5003 [==============================] - 4s 755us/step - loss: 0.2694 - accuracy: 0.8954 - val_loss: 0.2826 - val_accuracy: 0.8917\n",
      "Epoch 102/130\n",
      "5003/5003 [==============================] - 4s 741us/step - loss: 0.2689 - accuracy: 0.8954 - val_loss: 0.2726 - val_accuracy: 0.8961\n",
      "Epoch 103/130\n",
      "5003/5003 [==============================] - 4s 740us/step - loss: 0.2694 - accuracy: 0.8955 - val_loss: 0.2701 - val_accuracy: 0.8948\n",
      "Epoch 104/130\n",
      "5003/5003 [==============================] - 4s 736us/step - loss: 0.2693 - accuracy: 0.8950 - val_loss: 0.2702 - val_accuracy: 0.8941\n",
      "Epoch 105/130\n",
      "4970/5003 [============================>.] - ETA: 0s - loss: 0.2691 - accuracy: 0.8950INFO:tensorflow:Assets written to: /home/anza-tshilidzi/Desktop/Masters_material/e+ e- study/wandb/run-20240815_072129-0afluzjo/files/model-best/assets\n"
     ]
    },
    {
     "name": "stderr",
     "output_type": "stream",
     "text": [
      "\u001b[34m\u001b[1mwandb\u001b[0m: Adding directory to artifact (/home/anza-tshilidzi/Desktop/Masters_material/e+ e- study/wandb/run-20240815_072129-0afluzjo/files/model-best)... Done. 0.0s\n"
     ]
    },
    {
     "name": "stdout",
     "output_type": "stream",
     "text": [
      "5003/5003 [==============================] - 4s 888us/step - loss: 0.2692 - accuracy: 0.8950 - val_loss: 0.2679 - val_accuracy: 0.8953\n",
      "Epoch 106/130\n",
      "5003/5003 [==============================] - 4s 734us/step - loss: 0.2686 - accuracy: 0.8964 - val_loss: 0.2689 - val_accuracy: 0.8935\n",
      "Epoch 107/130\n",
      "5003/5003 [==============================] - 4s 730us/step - loss: 0.2681 - accuracy: 0.8953 - val_loss: 0.2724 - val_accuracy: 0.8933\n",
      "Epoch 108/130\n",
      "4920/5003 [============================>.] - ETA: 0s - loss: 0.2686 - accuracy: 0.8954INFO:tensorflow:Assets written to: /home/anza-tshilidzi/Desktop/Masters_material/e+ e- study/wandb/run-20240815_072129-0afluzjo/files/model-best/assets\n"
     ]
    },
    {
     "name": "stderr",
     "output_type": "stream",
     "text": [
      "\u001b[34m\u001b[1mwandb\u001b[0m: Adding directory to artifact (/home/anza-tshilidzi/Desktop/Masters_material/e+ e- study/wandb/run-20240815_072129-0afluzjo/files/model-best)... Done. 0.0s\n"
     ]
    },
    {
     "name": "stdout",
     "output_type": "stream",
     "text": [
      "5003/5003 [==============================] - 5s 928us/step - loss: 0.2684 - accuracy: 0.8954 - val_loss: 0.2672 - val_accuracy: 0.8951\n",
      "Epoch 109/130\n",
      "5003/5003 [==============================] - 4s 748us/step - loss: 0.2686 - accuracy: 0.8957 - val_loss: 0.2778 - val_accuracy: 0.8915\n",
      "Epoch 110/130\n",
      "5003/5003 [==============================] - 4s 738us/step - loss: 0.2676 - accuracy: 0.8958 - val_loss: 0.2682 - val_accuracy: 0.8940\n",
      "Epoch 111/130\n",
      "5003/5003 [==============================] - 4s 733us/step - loss: 0.2678 - accuracy: 0.8954 - val_loss: 0.2682 - val_accuracy: 0.8945\n",
      "Epoch 112/130\n",
      "5003/5003 [==============================] - 4s 735us/step - loss: 0.2679 - accuracy: 0.8959 - val_loss: 0.2759 - val_accuracy: 0.8927\n",
      "Epoch 113/130\n",
      "5003/5003 [==============================] - 4s 735us/step - loss: 0.2675 - accuracy: 0.8964 - val_loss: 0.2714 - val_accuracy: 0.8939\n",
      "Epoch 114/130\n",
      "4984/5003 [============================>.] - ETA: 0s - loss: 0.2683 - accuracy: 0.8962INFO:tensorflow:Assets written to: /home/anza-tshilidzi/Desktop/Masters_material/e+ e- study/wandb/run-20240815_072129-0afluzjo/files/model-best/assets\n"
     ]
    },
    {
     "name": "stderr",
     "output_type": "stream",
     "text": [
      "\u001b[34m\u001b[1mwandb\u001b[0m: Adding directory to artifact (/home/anza-tshilidzi/Desktop/Masters_material/e+ e- study/wandb/run-20240815_072129-0afluzjo/files/model-best)... Done. 0.0s\n"
     ]
    },
    {
     "name": "stdout",
     "output_type": "stream",
     "text": [
      "5003/5003 [==============================] - 4s 892us/step - loss: 0.2684 - accuracy: 0.8962 - val_loss: 0.2652 - val_accuracy: 0.8947\n",
      "Epoch 115/130\n",
      "5003/5003 [==============================] - 4s 732us/step - loss: 0.2678 - accuracy: 0.8955 - val_loss: 0.2657 - val_accuracy: 0.8957\n",
      "Epoch 116/130\n",
      "5003/5003 [==============================] - 4s 732us/step - loss: 0.2682 - accuracy: 0.8950 - val_loss: 0.2854 - val_accuracy: 0.8904\n",
      "Epoch 117/130\n",
      "5003/5003 [==============================] - 4s 737us/step - loss: 0.2681 - accuracy: 0.8955 - val_loss: 0.2744 - val_accuracy: 0.8935\n",
      "Epoch 118/130\n",
      "5003/5003 [==============================] - 4s 756us/step - loss: 0.2669 - accuracy: 0.8958 - val_loss: 0.2786 - val_accuracy: 0.8916\n",
      "Epoch 119/130\n",
      "5003/5003 [==============================] - 4s 730us/step - loss: 0.2678 - accuracy: 0.8955 - val_loss: 0.2696 - val_accuracy: 0.8939\n",
      "Epoch 120/130\n",
      "5003/5003 [==============================] - 4s 736us/step - loss: 0.2667 - accuracy: 0.8962 - val_loss: 0.2740 - val_accuracy: 0.8945\n",
      "Epoch 121/130\n",
      "5003/5003 [==============================] - 4s 737us/step - loss: 0.2676 - accuracy: 0.8961 - val_loss: 0.2717 - val_accuracy: 0.8926\n",
      "Epoch 122/130\n",
      "5003/5003 [==============================] - 4s 751us/step - loss: 0.2674 - accuracy: 0.8958 - val_loss: 0.2867 - val_accuracy: 0.8916\n",
      "Epoch 123/130\n",
      "5003/5003 [==============================] - 4s 736us/step - loss: 0.2673 - accuracy: 0.8957 - val_loss: 0.2894 - val_accuracy: 0.8869\n",
      "Epoch 124/130\n",
      "5003/5003 [==============================] - 4s 740us/step - loss: 0.2676 - accuracy: 0.8952 - val_loss: 0.2682 - val_accuracy: 0.8952\n",
      "Epoch 125/130\n",
      "5003/5003 [==============================] - 4s 740us/step - loss: 0.2664 - accuracy: 0.8960 - val_loss: 0.2714 - val_accuracy: 0.8931\n",
      "Epoch 126/130\n",
      "5003/5003 [==============================] - 4s 750us/step - loss: 0.2677 - accuracy: 0.8955 - val_loss: 0.2682 - val_accuracy: 0.8954\n",
      "Epoch 127/130\n",
      "5003/5003 [==============================] - 4s 755us/step - loss: 0.2657 - accuracy: 0.8960 - val_loss: 0.2740 - val_accuracy: 0.8921\n",
      "Epoch 128/130\n",
      "5003/5003 [==============================] - 4s 736us/step - loss: 0.2668 - accuracy: 0.8955 - val_loss: 0.3042 - val_accuracy: 0.8865\n",
      "Epoch 129/130\n",
      "5003/5003 [==============================] - 4s 759us/step - loss: 0.2665 - accuracy: 0.8961 - val_loss: 0.2678 - val_accuracy: 0.8955\n",
      "Epoch 130/130\n",
      "5003/5003 [==============================] - 4s 760us/step - loss: 0.2656 - accuracy: 0.8965 - val_loss: 0.2852 - val_accuracy: 0.8890\n"
     ]
    },
    {
     "data": {
      "application/vnd.jupyter.widget-view+json": {
       "model_id": "",
       "version_major": 2,
       "version_minor": 0
      },
      "text/plain": [
       "VBox(children=(Label(value='2.536 MB of 2.536 MB uploaded (0.166 MB deduped)\\r'), FloatProgress(value=1.0, max…"
      ]
     },
     "metadata": {},
     "output_type": "display_data"
    },
    {
     "data": {
      "text/html": [
       "W&B sync reduced upload amount by 6.3%"
      ],
      "text/plain": [
       "<IPython.core.display.HTML object>"
      ]
     },
     "metadata": {},
     "output_type": "display_data"
    },
    {
     "data": {
      "text/html": [
       "<style>\n",
       "    table.wandb td:nth-child(1) { padding: 0 10px; text-align: left ; width: auto;} td:nth-child(2) {text-align: left ; width: 100%}\n",
       "    .wandb-row { display: flex; flex-direction: row; flex-wrap: wrap; justify-content: flex-start; width: 100% }\n",
       "    .wandb-col { display: flex; flex-direction: column; flex-basis: 100%; flex: 1; padding: 10px; }\n",
       "    </style>\n",
       "<div class=\"wandb-row\"><div class=\"wandb-col\"><h3>Run history:</h3><br/><table class=\"wandb\"><tr><td>accuracy</td><td>▁▅▆▆▆▇▇▇▇▇▇▇▇▇▇▇▇▇██████████████████████</td></tr><tr><td>epoch</td><td>▁▁▁▁▂▂▂▂▂▃▃▃▃▃▃▄▄▄▄▄▅▅▅▅▅▅▆▆▆▆▆▆▇▇▇▇▇███</td></tr><tr><td>loss</td><td>█▅▃▃▃▂▂▂▂▂▂▂▂▂▂▂▂▂▂▁▁▁▁▁▁▁▁▁▁▁▁▁▁▁▁▁▁▁▁▁</td></tr><tr><td>val_accuracy</td><td>▂▁▂▄▄▅▅▆▃▅▆▄▂▅▆▆▇▇▅▇▇▅▇▇█▇▆██▇▇█▇█▇▇█▇█▆</td></tr><tr><td>val_loss</td><td>█▅▅▄▃▃▂▂▃▃▂▄▄▃▂▂▂▂▃▂▂▃▂▁▁▂▂▁▁▂▁▁▁▁▁▂▁▂▁▂</td></tr></table><br/></div><div class=\"wandb-col\"><h3>Run summary:</h3><br/><table class=\"wandb\"><tr><td>accuracy</td><td>0.89653</td></tr><tr><td>best_epoch</td><td>113</td></tr><tr><td>best_val_loss</td><td>0.26522</td></tr><tr><td>epoch</td><td>129</td></tr><tr><td>loss</td><td>0.26556</td></tr><tr><td>val_accuracy</td><td>0.88904</td></tr><tr><td>val_loss</td><td>0.28524</td></tr></table><br/></div></div>"
      ],
      "text/plain": [
       "<IPython.core.display.HTML object>"
      ]
     },
     "metadata": {},
     "output_type": "display_data"
    },
    {
     "data": {
      "text/html": [
       " View run <strong style=\"color:#cdcd00\">peachy-sweep-1</strong> at: <a href='https://wandb.ai/anzanzio/ep-em%20DNN/runs/0afluzjo' target=\"_blank\">https://wandb.ai/anzanzio/ep-em%20DNN/runs/0afluzjo</a><br/> View project at: <a href='https://wandb.ai/anzanzio/ep-em%20DNN' target=\"_blank\">https://wandb.ai/anzanzio/ep-em%20DNN</a><br/>Synced 6 W&B file(s), 1 media file(s), 88 artifact file(s) and 1 other file(s)"
      ],
      "text/plain": [
       "<IPython.core.display.HTML object>"
      ]
     },
     "metadata": {},
     "output_type": "display_data"
    },
    {
     "data": {
      "text/html": [
       "Find logs at: <code>./wandb/run-20240815_072129-0afluzjo/logs</code>"
      ],
      "text/plain": [
       "<IPython.core.display.HTML object>"
      ]
     },
     "metadata": {},
     "output_type": "display_data"
    },
    {
     "data": {
      "text/html": [
       "The new W&B backend becomes opt-out in version 0.18.0; try it out with `wandb.require(\"core\")`! See https://wandb.me/wandb-core for more information."
      ],
      "text/plain": [
       "<IPython.core.display.HTML object>"
      ]
     },
     "metadata": {},
     "output_type": "display_data"
    },
    {
     "name": "stderr",
     "output_type": "stream",
     "text": [
      "\u001b[34m\u001b[1mwandb\u001b[0m: Sweep Agent: Waiting for job.\n",
      "\u001b[34m\u001b[1mwandb\u001b[0m: Job received.\n",
      "\u001b[34m\u001b[1mwandb\u001b[0m: Agent Starting Run: dz9l6lm9 with config:\n",
      "\u001b[34m\u001b[1mwandb\u001b[0m: \tbatch_size: 27\n",
      "\u001b[34m\u001b[1mwandb\u001b[0m: \tepochs: 160\n",
      "\u001b[34m\u001b[1mwandb\u001b[0m: \tlayers: 26\n",
      "\u001b[34m\u001b[1mwandb\u001b[0m: \tlearning_rate: 0.0008292309593637813\n",
      "\u001b[34m\u001b[1mwandb\u001b[0m: \tneurons: 30\n",
      "\u001b[34m\u001b[1mwandb\u001b[0m: \toptimizer: adam\n"
     ]
    },
    {
     "data": {
      "text/html": [
       "Tracking run with wandb version 0.17.6"
      ],
      "text/plain": [
       "<IPython.core.display.HTML object>"
      ]
     },
     "metadata": {},
     "output_type": "display_data"
    },
    {
     "data": {
      "text/html": [
       "Run data is saved locally in <code>/home/anza-tshilidzi/Desktop/Masters_material/e+ e- study/wandb/run-20240815_073038-dz9l6lm9</code>"
      ],
      "text/plain": [
       "<IPython.core.display.HTML object>"
      ]
     },
     "metadata": {},
     "output_type": "display_data"
    },
    {
     "data": {
      "text/html": [
       "Syncing run <strong><a href='https://wandb.ai/anzanzio/ep-em%20DNN/runs/dz9l6lm9' target=\"_blank\">stoic-sweep-2</a></strong> to <a href='https://wandb.ai/anzanzio/ep-em%20DNN' target=\"_blank\">Weights & Biases</a> (<a href='https://wandb.me/run' target=\"_blank\">docs</a>)<br/>Sweep page: <a href='https://wandb.ai/anzanzio/ep-em%20DNN/sweeps/lg5h93ch' target=\"_blank\">https://wandb.ai/anzanzio/ep-em%20DNN/sweeps/lg5h93ch</a>"
      ],
      "text/plain": [
       "<IPython.core.display.HTML object>"
      ]
     },
     "metadata": {},
     "output_type": "display_data"
    },
    {
     "data": {
      "text/html": [
       " View project at <a href='https://wandb.ai/anzanzio/ep-em%20DNN' target=\"_blank\">https://wandb.ai/anzanzio/ep-em%20DNN</a>"
      ],
      "text/plain": [
       "<IPython.core.display.HTML object>"
      ]
     },
     "metadata": {},
     "output_type": "display_data"
    },
    {
     "data": {
      "text/html": [
       " View sweep at <a href='https://wandb.ai/anzanzio/ep-em%20DNN/sweeps/lg5h93ch' target=\"_blank\">https://wandb.ai/anzanzio/ep-em%20DNN/sweeps/lg5h93ch</a>"
      ],
      "text/plain": [
       "<IPython.core.display.HTML object>"
      ]
     },
     "metadata": {},
     "output_type": "display_data"
    },
    {
     "data": {
      "text/html": [
       " View run at <a href='https://wandb.ai/anzanzio/ep-em%20DNN/runs/dz9l6lm9' target=\"_blank\">https://wandb.ai/anzanzio/ep-em%20DNN/runs/dz9l6lm9</a>"
      ],
      "text/plain": [
       "<IPython.core.display.HTML object>"
      ]
     },
     "metadata": {},
     "output_type": "display_data"
    },
    {
     "name": "stdout",
     "output_type": "stream",
     "text": [
      "Epoch 1/160\n",
      "3841/3891 [============================>.] - ETA: 0s - loss: 0.6476 - accuracy: 0.7530INFO:tensorflow:Assets written to: /home/anza-tshilidzi/Desktop/Masters_material/e+ e- study/wandb/run-20240815_073038-dz9l6lm9/files/model-best/assets\n"
     ]
    },
    {
     "name": "stderr",
     "output_type": "stream",
     "text": [
      "\u001b[34m\u001b[1mwandb\u001b[0m: Adding directory to artifact (/home/anza-tshilidzi/Desktop/Masters_material/e+ e- study/wandb/run-20240815_073038-dz9l6lm9/files/model-best)... Done. 0.0s\n"
     ]
    },
    {
     "name": "stdout",
     "output_type": "stream",
     "text": [
      "3891/3891 [==============================] - 4s 934us/step - loss: 0.6456 - accuracy: 0.7536 - val_loss: 0.4712 - val_accuracy: 0.7892\n",
      "Epoch 2/160\n",
      "3838/3891 [============================>.] - ETA: 0s - loss: 0.4224 - accuracy: 0.8345INFO:tensorflow:Assets written to: /home/anza-tshilidzi/Desktop/Masters_material/e+ e- study/wandb/run-20240815_073038-dz9l6lm9/files/model-best/assets\n"
     ]
    },
    {
     "name": "stderr",
     "output_type": "stream",
     "text": [
      "\u001b[34m\u001b[1mwandb\u001b[0m: Adding directory to artifact (/home/anza-tshilidzi/Desktop/Masters_material/e+ e- study/wandb/run-20240815_073038-dz9l6lm9/files/model-best)... Done. 0.0s\n"
     ]
    },
    {
     "name": "stdout",
     "output_type": "stream",
     "text": [
      "3891/3891 [==============================] - 4s 935us/step - loss: 0.4216 - accuracy: 0.8350 - val_loss: 0.3711 - val_accuracy: 0.8666\n",
      "Epoch 3/160\n",
      "3881/3891 [============================>.] - ETA: 0s - loss: 0.3552 - accuracy: 0.8654INFO:tensorflow:Assets written to: /home/anza-tshilidzi/Desktop/Masters_material/e+ e- study/wandb/run-20240815_073038-dz9l6lm9/files/model-best/assets\n"
     ]
    },
    {
     "name": "stderr",
     "output_type": "stream",
     "text": [
      "\u001b[34m\u001b[1mwandb\u001b[0m: Adding directory to artifact (/home/anza-tshilidzi/Desktop/Masters_material/e+ e- study/wandb/run-20240815_073038-dz9l6lm9/files/model-best)... Done. 0.0s\n"
     ]
    },
    {
     "name": "stdout",
     "output_type": "stream",
     "text": [
      "3891/3891 [==============================] - 4s 934us/step - loss: 0.3552 - accuracy: 0.8654 - val_loss: 0.3208 - val_accuracy: 0.8754\n",
      "Epoch 4/160\n",
      "3891/3891 [==============================] - 3s 780us/step - loss: 0.3397 - accuracy: 0.8702 - val_loss: 0.3426 - val_accuracy: 0.8726\n",
      "Epoch 5/160\n",
      "3834/3891 [============================>.] - ETA: 0s - loss: 0.3296 - accuracy: 0.8731INFO:tensorflow:Assets written to: /home/anza-tshilidzi/Desktop/Masters_material/e+ e- study/wandb/run-20240815_073038-dz9l6lm9/files/model-best/assets\n"
     ]
    },
    {
     "name": "stderr",
     "output_type": "stream",
     "text": [
      "\u001b[34m\u001b[1mwandb\u001b[0m: Adding directory to artifact (/home/anza-tshilidzi/Desktop/Masters_material/e+ e- study/wandb/run-20240815_073038-dz9l6lm9/files/model-best)... Done. 0.0s\n"
     ]
    },
    {
     "name": "stdout",
     "output_type": "stream",
     "text": [
      "3891/3891 [==============================] - 4s 988us/step - loss: 0.3291 - accuracy: 0.8732 - val_loss: 0.3176 - val_accuracy: 0.8800\n",
      "Epoch 6/160\n",
      "3891/3891 [==============================] - 3s 785us/step - loss: 0.3216 - accuracy: 0.8757 - val_loss: 0.3195 - val_accuracy: 0.8753\n",
      "Epoch 7/160\n",
      "3891/3891 [==============================] - 3s 748us/step - loss: 0.3173 - accuracy: 0.8776 - val_loss: 0.3453 - val_accuracy: 0.8685\n",
      "Epoch 8/160\n",
      "3872/3891 [============================>.] - ETA: 0s - loss: 0.3143 - accuracy: 0.8784INFO:tensorflow:Assets written to: /home/anza-tshilidzi/Desktop/Masters_material/e+ e- study/wandb/run-20240815_073038-dz9l6lm9/files/model-best/assets\n"
     ]
    },
    {
     "name": "stderr",
     "output_type": "stream",
     "text": [
      "\u001b[34m\u001b[1mwandb\u001b[0m: Adding directory to artifact (/home/anza-tshilidzi/Desktop/Masters_material/e+ e- study/wandb/run-20240815_073038-dz9l6lm9/files/model-best)... Done. 0.0s\n"
     ]
    },
    {
     "name": "stdout",
     "output_type": "stream",
     "text": [
      "3891/3891 [==============================] - 4s 998us/step - loss: 0.3142 - accuracy: 0.8784 - val_loss: 0.3105 - val_accuracy: 0.8776\n",
      "Epoch 9/160\n",
      "3891/3891 [==============================] - 3s 751us/step - loss: 0.3119 - accuracy: 0.8794 - val_loss: 0.3142 - val_accuracy: 0.8714\n",
      "Epoch 10/160\n",
      "3891/3891 [==============================] - 3s 759us/step - loss: 0.3109 - accuracy: 0.8803 - val_loss: 0.3147 - val_accuracy: 0.8809\n",
      "Epoch 11/160\n",
      "3833/3891 [============================>.] - ETA: 0s - loss: 0.3123 - accuracy: 0.8786INFO:tensorflow:Assets written to: /home/anza-tshilidzi/Desktop/Masters_material/e+ e- study/wandb/run-20240815_073038-dz9l6lm9/files/model-best/assets\n"
     ]
    },
    {
     "name": "stderr",
     "output_type": "stream",
     "text": [
      "\u001b[34m\u001b[1mwandb\u001b[0m: Adding directory to artifact (/home/anza-tshilidzi/Desktop/Masters_material/e+ e- study/wandb/run-20240815_073038-dz9l6lm9/files/model-best)... Done. 0.0s\n"
     ]
    },
    {
     "name": "stdout",
     "output_type": "stream",
     "text": [
      "3891/3891 [==============================] - 4s 987us/step - loss: 0.3118 - accuracy: 0.8788 - val_loss: 0.3095 - val_accuracy: 0.8793\n",
      "Epoch 12/160\n",
      "3880/3891 [============================>.] - ETA: 0s - loss: 0.3096 - accuracy: 0.8797INFO:tensorflow:Assets written to: /home/anza-tshilidzi/Desktop/Masters_material/e+ e- study/wandb/run-20240815_073038-dz9l6lm9/files/model-best/assets\n"
     ]
    },
    {
     "name": "stderr",
     "output_type": "stream",
     "text": [
      "\u001b[34m\u001b[1mwandb\u001b[0m: Adding directory to artifact (/home/anza-tshilidzi/Desktop/Masters_material/e+ e- study/wandb/run-20240815_073038-dz9l6lm9/files/model-best)... Done. 0.0s\n"
     ]
    },
    {
     "name": "stdout",
     "output_type": "stream",
     "text": [
      "3891/3891 [==============================] - 4s 943us/step - loss: 0.3096 - accuracy: 0.8797 - val_loss: 0.3052 - val_accuracy: 0.8836\n",
      "Epoch 13/160\n",
      "3891/3891 [==============================] - 3s 747us/step - loss: 0.3081 - accuracy: 0.8812 - val_loss: 0.3181 - val_accuracy: 0.8744\n",
      "Epoch 14/160\n",
      "3891/3891 [==============================] - 3s 749us/step - loss: 0.3065 - accuracy: 0.8821 - val_loss: 0.3278 - val_accuracy: 0.8702\n",
      "Epoch 15/160\n",
      "3861/3891 [============================>.] - ETA: 0s - loss: 0.3073 - accuracy: 0.8821INFO:tensorflow:Assets written to: /home/anza-tshilidzi/Desktop/Masters_material/e+ e- study/wandb/run-20240815_073038-dz9l6lm9/files/model-best/assets\n"
     ]
    },
    {
     "name": "stderr",
     "output_type": "stream",
     "text": [
      "\u001b[34m\u001b[1mwandb\u001b[0m: Adding directory to artifact (/home/anza-tshilidzi/Desktop/Masters_material/e+ e- study/wandb/run-20240815_073038-dz9l6lm9/files/model-best)... Done. 0.0s\n"
     ]
    },
    {
     "name": "stdout",
     "output_type": "stream",
     "text": [
      "3891/3891 [==============================] - 4s 1ms/step - loss: 0.3075 - accuracy: 0.8820 - val_loss: 0.3016 - val_accuracy: 0.8820\n",
      "Epoch 16/160\n",
      "3891/3891 [==============================] - 3s 765us/step - loss: 0.3038 - accuracy: 0.8831 - val_loss: 0.3738 - val_accuracy: 0.8537\n",
      "Epoch 17/160\n",
      "3891/3891 [==============================] - 3s 762us/step - loss: 0.3030 - accuracy: 0.8837 - val_loss: 0.3241 - val_accuracy: 0.8734\n",
      "Epoch 18/160\n",
      "3875/3891 [============================>.] - ETA: 0s - loss: 0.3019 - accuracy: 0.8838INFO:tensorflow:Assets written to: /home/anza-tshilidzi/Desktop/Masters_material/e+ e- study/wandb/run-20240815_073038-dz9l6lm9/files/model-best/assets\n"
     ]
    },
    {
     "name": "stderr",
     "output_type": "stream",
     "text": [
      "\u001b[34m\u001b[1mwandb\u001b[0m: Adding directory to artifact (/home/anza-tshilidzi/Desktop/Masters_material/e+ e- study/wandb/run-20240815_073038-dz9l6lm9/files/model-best)... Done. 0.0s\n"
     ]
    },
    {
     "name": "stdout",
     "output_type": "stream",
     "text": [
      "3891/3891 [==============================] - 4s 924us/step - loss: 0.3018 - accuracy: 0.8839 - val_loss: 0.2959 - val_accuracy: 0.8857\n",
      "Epoch 19/160\n",
      "3891/3891 [==============================] - 3s 743us/step - loss: 0.2999 - accuracy: 0.8847 - val_loss: 0.3326 - val_accuracy: 0.8777\n",
      "Epoch 20/160\n",
      "3874/3891 [============================>.] - ETA: 0s - loss: 0.2990 - accuracy: 0.8846INFO:tensorflow:Assets written to: /home/anza-tshilidzi/Desktop/Masters_material/e+ e- study/wandb/run-20240815_073038-dz9l6lm9/files/model-best/assets\n"
     ]
    },
    {
     "name": "stderr",
     "output_type": "stream",
     "text": [
      "\u001b[34m\u001b[1mwandb\u001b[0m: Adding directory to artifact (/home/anza-tshilidzi/Desktop/Masters_material/e+ e- study/wandb/run-20240815_073038-dz9l6lm9/files/model-best)... Done. 0.0s\n"
     ]
    },
    {
     "name": "stdout",
     "output_type": "stream",
     "text": [
      "3891/3891 [==============================] - 4s 1ms/step - loss: 0.2991 - accuracy: 0.8846 - val_loss: 0.2942 - val_accuracy: 0.8872\n",
      "Epoch 21/160\n",
      "3830/3891 [============================>.] - ETA: 0s - loss: 0.2979 - accuracy: 0.8848INFO:tensorflow:Assets written to: /home/anza-tshilidzi/Desktop/Masters_material/e+ e- study/wandb/run-20240815_073038-dz9l6lm9/files/model-best/assets\n"
     ]
    },
    {
     "name": "stderr",
     "output_type": "stream",
     "text": [
      "\u001b[34m\u001b[1mwandb\u001b[0m: Adding directory to artifact (/home/anza-tshilidzi/Desktop/Masters_material/e+ e- study/wandb/run-20240815_073038-dz9l6lm9/files/model-best)... Done. 0.0s\n"
     ]
    },
    {
     "name": "stdout",
     "output_type": "stream",
     "text": [
      "3891/3891 [==============================] - 4s 974us/step - loss: 0.2980 - accuracy: 0.8849 - val_loss: 0.2920 - val_accuracy: 0.8867\n",
      "Epoch 22/160\n",
      "3891/3891 [==============================] - 3s 752us/step - loss: 0.2995 - accuracy: 0.8848 - val_loss: 0.2995 - val_accuracy: 0.8823\n",
      "Epoch 23/160\n",
      "3891/3891 [==============================] - 3s 747us/step - loss: 0.2972 - accuracy: 0.8855 - val_loss: 0.2960 - val_accuracy: 0.8865\n",
      "Epoch 24/160\n",
      "3824/3891 [============================>.] - ETA: 0s - loss: 0.2976 - accuracy: 0.8850INFO:tensorflow:Assets written to: /home/anza-tshilidzi/Desktop/Masters_material/e+ e- study/wandb/run-20240815_073038-dz9l6lm9/files/model-best/assets\n"
     ]
    },
    {
     "name": "stderr",
     "output_type": "stream",
     "text": [
      "\u001b[34m\u001b[1mwandb\u001b[0m: Adding directory to artifact (/home/anza-tshilidzi/Desktop/Masters_material/e+ e- study/wandb/run-20240815_073038-dz9l6lm9/files/model-best)... Done. 0.0s\n"
     ]
    },
    {
     "name": "stdout",
     "output_type": "stream",
     "text": [
      "3891/3891 [==============================] - 4s 938us/step - loss: 0.2972 - accuracy: 0.8851 - val_loss: 0.2893 - val_accuracy: 0.8882\n",
      "Epoch 25/160\n",
      "3891/3891 [==============================] - 3s 757us/step - loss: 0.2956 - accuracy: 0.8860 - val_loss: 0.2908 - val_accuracy: 0.8885\n",
      "Epoch 26/160\n",
      "3891/3891 [==============================] - 3s 772us/step - loss: 0.2954 - accuracy: 0.8857 - val_loss: 0.3268 - val_accuracy: 0.8729\n",
      "Epoch 27/160\n",
      "3891/3891 [==============================] - 3s 758us/step - loss: 0.2950 - accuracy: 0.8854 - val_loss: 0.3267 - val_accuracy: 0.8757\n",
      "Epoch 28/160\n",
      "3891/3891 [==============================] - 3s 756us/step - loss: 0.2946 - accuracy: 0.8864 - val_loss: 0.2905 - val_accuracy: 0.8871\n",
      "Epoch 29/160\n",
      "3891/3891 [==============================] - 3s 761us/step - loss: 0.2948 - accuracy: 0.8857 - val_loss: 0.2994 - val_accuracy: 0.8833\n",
      "Epoch 30/160\n",
      "3891/3891 [==============================] - 3s 753us/step - loss: 0.2934 - accuracy: 0.8863 - val_loss: 0.2954 - val_accuracy: 0.8861\n",
      "Epoch 31/160\n",
      "3891/3891 [==============================] - 3s 779us/step - loss: 0.2932 - accuracy: 0.8867 - val_loss: 0.3006 - val_accuracy: 0.8823\n",
      "Epoch 32/160\n",
      "3891/3891 [==============================] - 3s 755us/step - loss: 0.2937 - accuracy: 0.8863 - val_loss: 0.2975 - val_accuracy: 0.8830\n",
      "Epoch 33/160\n",
      "3891/3891 [==============================] - 3s 755us/step - loss: 0.2915 - accuracy: 0.8869 - val_loss: 0.2904 - val_accuracy: 0.8876\n",
      "Epoch 34/160\n",
      "3891/3891 [==============================] - 3s 752us/step - loss: 0.2925 - accuracy: 0.8862 - val_loss: 0.2978 - val_accuracy: 0.8850\n",
      "Epoch 35/160\n",
      "3891/3891 [==============================] - 3s 755us/step - loss: 0.2917 - accuracy: 0.8869 - val_loss: 0.3182 - val_accuracy: 0.8758\n",
      "Epoch 36/160\n",
      "3891/3891 [==============================] - 3s 780us/step - loss: 0.2921 - accuracy: 0.8864 - val_loss: 0.3562 - val_accuracy: 0.8684\n",
      "Epoch 37/160\n",
      "3891/3891 [==============================] - 3s 764us/step - loss: 0.2919 - accuracy: 0.8873 - val_loss: 0.3083 - val_accuracy: 0.8802\n",
      "Epoch 38/160\n",
      "3891/3891 [==============================] - 3s 752us/step - loss: 0.2895 - accuracy: 0.8870 - val_loss: 0.3023 - val_accuracy: 0.8826\n",
      "Epoch 39/160\n",
      "3891/3891 [==============================] - 3s 764us/step - loss: 0.2899 - accuracy: 0.8874 - val_loss: 0.3005 - val_accuracy: 0.8815\n",
      "Epoch 40/160\n",
      "3869/3891 [============================>.] - ETA: 0s - loss: 0.2903 - accuracy: 0.8874INFO:tensorflow:Assets written to: /home/anza-tshilidzi/Desktop/Masters_material/e+ e- study/wandb/run-20240815_073038-dz9l6lm9/files/model-best/assets\n"
     ]
    },
    {
     "name": "stderr",
     "output_type": "stream",
     "text": [
      "\u001b[34m\u001b[1mwandb\u001b[0m: Adding directory to artifact (/home/anza-tshilidzi/Desktop/Masters_material/e+ e- study/wandb/run-20240815_073038-dz9l6lm9/files/model-best)... Done. 0.0s\n"
     ]
    },
    {
     "name": "stdout",
     "output_type": "stream",
     "text": [
      "3891/3891 [==============================] - 4s 953us/step - loss: 0.2905 - accuracy: 0.8873 - val_loss: 0.2872 - val_accuracy: 0.8871\n",
      "Epoch 41/160\n",
      "3891/3891 [==============================] - 3s 762us/step - loss: 0.2897 - accuracy: 0.8875 - val_loss: 0.3426 - val_accuracy: 0.8726\n",
      "Epoch 42/160\n",
      "3810/3891 [============================>.] - ETA: 0s - loss: 0.2898 - accuracy: 0.8879INFO:tensorflow:Assets written to: /home/anza-tshilidzi/Desktop/Masters_material/e+ e- study/wandb/run-20240815_073038-dz9l6lm9/files/model-best/assets\n"
     ]
    },
    {
     "name": "stderr",
     "output_type": "stream",
     "text": [
      "\u001b[34m\u001b[1mwandb\u001b[0m: Adding directory to artifact (/home/anza-tshilidzi/Desktop/Masters_material/e+ e- study/wandb/run-20240815_073038-dz9l6lm9/files/model-best)... Done. 0.0s\n"
     ]
    },
    {
     "name": "stdout",
     "output_type": "stream",
     "text": [
      "3891/3891 [==============================] - 4s 1ms/step - loss: 0.2897 - accuracy: 0.8879 - val_loss: 0.2828 - val_accuracy: 0.8895\n",
      "Epoch 43/160\n",
      "3891/3891 [==============================] - 3s 757us/step - loss: 0.2887 - accuracy: 0.8872 - val_loss: 0.2892 - val_accuracy: 0.8873\n",
      "Epoch 44/160\n",
      "3891/3891 [==============================] - 3s 757us/step - loss: 0.2882 - accuracy: 0.8880 - val_loss: 0.2849 - val_accuracy: 0.8887\n",
      "Epoch 45/160\n",
      "3891/3891 [==============================] - 3s 760us/step - loss: 0.2883 - accuracy: 0.8878 - val_loss: 0.2876 - val_accuracy: 0.8877\n",
      "Epoch 46/160\n",
      "3891/3891 [==============================] - 3s 764us/step - loss: 0.2879 - accuracy: 0.8881 - val_loss: 0.3059 - val_accuracy: 0.8814\n",
      "Epoch 47/160\n",
      "3891/3891 [==============================] - 3s 774us/step - loss: 0.2876 - accuracy: 0.8876 - val_loss: 0.3055 - val_accuracy: 0.8817\n",
      "Epoch 48/160\n",
      "3891/3891 [==============================] - 3s 763us/step - loss: 0.2854 - accuracy: 0.8885 - val_loss: 0.2954 - val_accuracy: 0.8855\n",
      "Epoch 49/160\n",
      "3891/3891 [==============================] - 3s 782us/step - loss: 0.2865 - accuracy: 0.8884 - val_loss: 0.2989 - val_accuracy: 0.8825\n",
      "Epoch 50/160\n",
      "3891/3891 [==============================] - 3s 782us/step - loss: 0.2862 - accuracy: 0.8882 - val_loss: 0.2896 - val_accuracy: 0.8878\n",
      "Epoch 51/160\n",
      "3891/3891 [==============================] - 3s 744us/step - loss: 0.2863 - accuracy: 0.8886 - val_loss: 0.2864 - val_accuracy: 0.8899\n",
      "Epoch 52/160\n",
      "3891/3891 [==============================] - 3s 779us/step - loss: 0.2843 - accuracy: 0.8893 - val_loss: 0.2873 - val_accuracy: 0.8878\n",
      "Epoch 53/160\n",
      "3891/3891 [==============================] - 3s 748us/step - loss: 0.2846 - accuracy: 0.8891 - val_loss: 0.2828 - val_accuracy: 0.8885\n",
      "Epoch 54/160\n",
      "3818/3891 [============================>.] - ETA: 0s - loss: 0.2860 - accuracy: 0.8881INFO:tensorflow:Assets written to: /home/anza-tshilidzi/Desktop/Masters_material/e+ e- study/wandb/run-20240815_073038-dz9l6lm9/files/model-best/assets\n"
     ]
    },
    {
     "name": "stderr",
     "output_type": "stream",
     "text": [
      "\u001b[34m\u001b[1mwandb\u001b[0m: Adding directory to artifact (/home/anza-tshilidzi/Desktop/Masters_material/e+ e- study/wandb/run-20240815_073038-dz9l6lm9/files/model-best)... Done. 0.0s\n"
     ]
    },
    {
     "name": "stdout",
     "output_type": "stream",
     "text": [
      "3891/3891 [==============================] - 4s 1ms/step - loss: 0.2856 - accuracy: 0.8882 - val_loss: 0.2826 - val_accuracy: 0.8895\n",
      "Epoch 55/160\n",
      "3891/3891 [==============================] - 3s 755us/step - loss: 0.2852 - accuracy: 0.8892 - val_loss: 0.3019 - val_accuracy: 0.8805\n",
      "Epoch 56/160\n",
      "3891/3891 [==============================] - 3s 754us/step - loss: 0.2827 - accuracy: 0.8898 - val_loss: 0.2870 - val_accuracy: 0.8890\n",
      "Epoch 57/160\n",
      "3891/3891 [==============================] - 3s 779us/step - loss: 0.2844 - accuracy: 0.8895 - val_loss: 0.2869 - val_accuracy: 0.8896\n",
      "Epoch 58/160\n",
      "3891/3891 [==============================] - 3s 755us/step - loss: 0.2840 - accuracy: 0.8894 - val_loss: 0.2896 - val_accuracy: 0.8880\n",
      "Epoch 59/160\n",
      "3891/3891 [==============================] - 3s 757us/step - loss: 0.2828 - accuracy: 0.8898 - val_loss: 0.2897 - val_accuracy: 0.8862\n",
      "Epoch 60/160\n",
      "3891/3891 [==============================] - 3s 764us/step - loss: 0.2824 - accuracy: 0.8902 - val_loss: 0.2885 - val_accuracy: 0.8860\n",
      "Epoch 61/160\n",
      "3891/3891 [==============================] - 3s 756us/step - loss: 0.2818 - accuracy: 0.8905 - val_loss: 0.2934 - val_accuracy: 0.8850\n",
      "Epoch 62/160\n",
      "3827/3891 [============================>.] - ETA: 0s - loss: 0.2800 - accuracy: 0.8911INFO:tensorflow:Assets written to: /home/anza-tshilidzi/Desktop/Masters_material/e+ e- study/wandb/run-20240815_073038-dz9l6lm9/files/model-best/assets\n"
     ]
    },
    {
     "name": "stderr",
     "output_type": "stream",
     "text": [
      "\u001b[34m\u001b[1mwandb\u001b[0m: Adding directory to artifact (/home/anza-tshilidzi/Desktop/Masters_material/e+ e- study/wandb/run-20240815_073038-dz9l6lm9/files/model-best)... Done. 0.0s\n"
     ]
    },
    {
     "name": "stdout",
     "output_type": "stream",
     "text": [
      "3891/3891 [==============================] - 4s 977us/step - loss: 0.2802 - accuracy: 0.8910 - val_loss: 0.2791 - val_accuracy: 0.8909\n",
      "Epoch 63/160\n",
      "3891/3891 [==============================] - 3s 759us/step - loss: 0.2798 - accuracy: 0.8908 - val_loss: 0.3076 - val_accuracy: 0.8815\n",
      "Epoch 64/160\n",
      "3891/3891 [==============================] - 3s 768us/step - loss: 0.2799 - accuracy: 0.8904 - val_loss: 0.2876 - val_accuracy: 0.8891\n",
      "Epoch 65/160\n",
      "3891/3891 [==============================] - 3s 763us/step - loss: 0.2794 - accuracy: 0.8913 - val_loss: 0.2950 - val_accuracy: 0.8851\n",
      "Epoch 66/160\n",
      "3891/3891 [==============================] - 3s 767us/step - loss: 0.2779 - accuracy: 0.8918 - val_loss: 0.2971 - val_accuracy: 0.8833\n",
      "Epoch 67/160\n",
      "3825/3891 [============================>.] - ETA: 0s - loss: 0.2772 - accuracy: 0.8928INFO:tensorflow:Assets written to: /home/anza-tshilidzi/Desktop/Masters_material/e+ e- study/wandb/run-20240815_073038-dz9l6lm9/files/model-best/assets\n"
     ]
    },
    {
     "name": "stderr",
     "output_type": "stream",
     "text": [
      "\u001b[34m\u001b[1mwandb\u001b[0m: Adding directory to artifact (/home/anza-tshilidzi/Desktop/Masters_material/e+ e- study/wandb/run-20240815_073038-dz9l6lm9/files/model-best)... Done. 0.0s\n"
     ]
    },
    {
     "name": "stdout",
     "output_type": "stream",
     "text": [
      "3891/3891 [==============================] - 4s 966us/step - loss: 0.2773 - accuracy: 0.8928 - val_loss: 0.2780 - val_accuracy: 0.8905\n",
      "Epoch 68/160\n",
      "3891/3891 [==============================] - 3s 753us/step - loss: 0.2779 - accuracy: 0.8917 - val_loss: 0.2801 - val_accuracy: 0.8898\n",
      "Epoch 69/160\n",
      "3827/3891 [============================>.] - ETA: 0s - loss: 0.2776 - accuracy: 0.8915INFO:tensorflow:Assets written to: /home/anza-tshilidzi/Desktop/Masters_material/e+ e- study/wandb/run-20240815_073038-dz9l6lm9/files/model-best/assets\n"
     ]
    },
    {
     "name": "stderr",
     "output_type": "stream",
     "text": [
      "\u001b[34m\u001b[1mwandb\u001b[0m: Adding directory to artifact (/home/anza-tshilidzi/Desktop/Masters_material/e+ e- study/wandb/run-20240815_073038-dz9l6lm9/files/model-best)... Done. 0.0s\n"
     ]
    },
    {
     "name": "stdout",
     "output_type": "stream",
     "text": [
      "3891/3891 [==============================] - 4s 956us/step - loss: 0.2774 - accuracy: 0.8916 - val_loss: 0.2751 - val_accuracy: 0.8925\n",
      "Epoch 70/160\n",
      "3856/3891 [============================>.] - ETA: 0s - loss: 0.2761 - accuracy: 0.8926INFO:tensorflow:Assets written to: /home/anza-tshilidzi/Desktop/Masters_material/e+ e- study/wandb/run-20240815_073038-dz9l6lm9/files/model-best/assets\n"
     ]
    },
    {
     "name": "stderr",
     "output_type": "stream",
     "text": [
      "\u001b[34m\u001b[1mwandb\u001b[0m: Adding directory to artifact (/home/anza-tshilidzi/Desktop/Masters_material/e+ e- study/wandb/run-20240815_073038-dz9l6lm9/files/model-best)... Done. 0.0s\n"
     ]
    },
    {
     "name": "stdout",
     "output_type": "stream",
     "text": [
      "3891/3891 [==============================] - 4s 945us/step - loss: 0.2763 - accuracy: 0.8926 - val_loss: 0.2740 - val_accuracy: 0.8913\n",
      "Epoch 71/160\n",
      "3891/3891 [==============================] - 3s 752us/step - loss: 0.2755 - accuracy: 0.8927 - val_loss: 0.2782 - val_accuracy: 0.8912\n",
      "Epoch 72/160\n",
      "3847/3891 [============================>.] - ETA: 0s - loss: 0.2759 - accuracy: 0.8924INFO:tensorflow:Assets written to: /home/anza-tshilidzi/Desktop/Masters_material/e+ e- study/wandb/run-20240815_073038-dz9l6lm9/files/model-best/assets\n"
     ]
    },
    {
     "name": "stderr",
     "output_type": "stream",
     "text": [
      "\u001b[34m\u001b[1mwandb\u001b[0m: Adding directory to artifact (/home/anza-tshilidzi/Desktop/Masters_material/e+ e- study/wandb/run-20240815_073038-dz9l6lm9/files/model-best)... Done. 0.0s\n"
     ]
    },
    {
     "name": "stdout",
     "output_type": "stream",
     "text": [
      "3891/3891 [==============================] - 4s 982us/step - loss: 0.2759 - accuracy: 0.8923 - val_loss: 0.2739 - val_accuracy: 0.8917\n",
      "Epoch 73/160\n",
      "3891/3891 [==============================] - 3s 750us/step - loss: 0.2743 - accuracy: 0.8931 - val_loss: 0.2779 - val_accuracy: 0.8908\n",
      "Epoch 74/160\n",
      "3891/3891 [==============================] - 3s 759us/step - loss: 0.2737 - accuracy: 0.8932 - val_loss: 0.2802 - val_accuracy: 0.8925\n",
      "Epoch 75/160\n",
      "3891/3891 [==============================] - 3s 764us/step - loss: 0.2745 - accuracy: 0.8939 - val_loss: 0.2776 - val_accuracy: 0.8930\n",
      "Epoch 76/160\n",
      "3891/3891 [==============================] - 3s 752us/step - loss: 0.2726 - accuracy: 0.8935 - val_loss: 0.3079 - val_accuracy: 0.8805\n",
      "Epoch 77/160\n",
      "3891/3891 [==============================] - 3s 775us/step - loss: 0.2732 - accuracy: 0.8938 - val_loss: 0.2811 - val_accuracy: 0.8884\n",
      "Epoch 78/160\n",
      "3877/3891 [============================>.] - ETA: 0s - loss: 0.2719 - accuracy: 0.8940INFO:tensorflow:Assets written to: /home/anza-tshilidzi/Desktop/Masters_material/e+ e- study/wandb/run-20240815_073038-dz9l6lm9/files/model-best/assets\n"
     ]
    },
    {
     "name": "stderr",
     "output_type": "stream",
     "text": [
      "\u001b[34m\u001b[1mwandb\u001b[0m: Adding directory to artifact (/home/anza-tshilidzi/Desktop/Masters_material/e+ e- study/wandb/run-20240815_073038-dz9l6lm9/files/model-best)... Done. 0.0s\n"
     ]
    },
    {
     "name": "stdout",
     "output_type": "stream",
     "text": [
      "3891/3891 [==============================] - 4s 934us/step - loss: 0.2719 - accuracy: 0.8940 - val_loss: 0.2725 - val_accuracy: 0.8926\n",
      "Epoch 79/160\n",
      "3891/3891 [==============================] - 3s 746us/step - loss: 0.2721 - accuracy: 0.8940 - val_loss: 0.3074 - val_accuracy: 0.8809\n",
      "Epoch 80/160\n",
      "3891/3891 [==============================] - 3s 753us/step - loss: 0.2701 - accuracy: 0.8942 - val_loss: 0.2736 - val_accuracy: 0.8926\n",
      "Epoch 81/160\n",
      "3891/3891 [==============================] - 3s 756us/step - loss: 0.2702 - accuracy: 0.8947 - val_loss: 0.3486 - val_accuracy: 0.8668\n",
      "Epoch 82/160\n",
      "3891/3891 [==============================] - 3s 779us/step - loss: 0.2694 - accuracy: 0.8946 - val_loss: 0.2739 - val_accuracy: 0.8937\n",
      "Epoch 83/160\n",
      "3849/3891 [============================>.] - ETA: 0s - loss: 0.2682 - accuracy: 0.8960INFO:tensorflow:Assets written to: /home/anza-tshilidzi/Desktop/Masters_material/e+ e- study/wandb/run-20240815_073038-dz9l6lm9/files/model-best/assets\n"
     ]
    },
    {
     "name": "stderr",
     "output_type": "stream",
     "text": [
      "\u001b[34m\u001b[1mwandb\u001b[0m: Adding directory to artifact (/home/anza-tshilidzi/Desktop/Masters_material/e+ e- study/wandb/run-20240815_073038-dz9l6lm9/files/model-best)... Done. 0.0s\n"
     ]
    },
    {
     "name": "stdout",
     "output_type": "stream",
     "text": [
      "3891/3891 [==============================] - 4s 961us/step - loss: 0.2685 - accuracy: 0.8959 - val_loss: 0.2689 - val_accuracy: 0.8938\n",
      "Epoch 84/160\n",
      "3891/3891 [==============================] - 3s 751us/step - loss: 0.2674 - accuracy: 0.8953 - val_loss: 0.2878 - val_accuracy: 0.8870\n",
      "Epoch 85/160\n",
      "3891/3891 [==============================] - 3s 752us/step - loss: 0.2676 - accuracy: 0.8954 - val_loss: 0.2727 - val_accuracy: 0.8924\n",
      "Epoch 86/160\n",
      "3891/3891 [==============================] - 3s 750us/step - loss: 0.2679 - accuracy: 0.8951 - val_loss: 0.2701 - val_accuracy: 0.8926\n",
      "Epoch 87/160\n",
      "3891/3891 [==============================] - 3s 771us/step - loss: 0.2677 - accuracy: 0.8958 - val_loss: 0.2920 - val_accuracy: 0.8824\n",
      "Epoch 88/160\n",
      "3891/3891 [==============================] - 3s 772us/step - loss: 0.2673 - accuracy: 0.8953 - val_loss: 0.2742 - val_accuracy: 0.8940\n",
      "Epoch 89/160\n",
      "3891/3891 [==============================] - 3s 752us/step - loss: 0.2657 - accuracy: 0.8965 - val_loss: 0.2748 - val_accuracy: 0.8914\n",
      "Epoch 90/160\n",
      "3891/3891 [==============================] - 3s 749us/step - loss: 0.2672 - accuracy: 0.8956 - val_loss: 0.2734 - val_accuracy: 0.8929\n",
      "Epoch 91/160\n",
      "3891/3891 [==============================] - 3s 751us/step - loss: 0.2675 - accuracy: 0.8957 - val_loss: 0.2704 - val_accuracy: 0.8932\n",
      "Epoch 92/160\n",
      "3829/3891 [============================>.] - ETA: 0s - loss: 0.2661 - accuracy: 0.8958INFO:tensorflow:Assets written to: /home/anza-tshilidzi/Desktop/Masters_material/e+ e- study/wandb/run-20240815_073038-dz9l6lm9/files/model-best/assets\n"
     ]
    },
    {
     "name": "stderr",
     "output_type": "stream",
     "text": [
      "\u001b[34m\u001b[1mwandb\u001b[0m: Adding directory to artifact (/home/anza-tshilidzi/Desktop/Masters_material/e+ e- study/wandb/run-20240815_073038-dz9l6lm9/files/model-best)... Done. 0.0s\n"
     ]
    },
    {
     "name": "stdout",
     "output_type": "stream",
     "text": [
      "3891/3891 [==============================] - 4s 939us/step - loss: 0.2657 - accuracy: 0.8959 - val_loss: 0.2662 - val_accuracy: 0.8934\n",
      "Epoch 93/160\n",
      "3823/3891 [============================>.] - ETA: 0s - loss: 0.2664 - accuracy: 0.8962INFO:tensorflow:Assets written to: /home/anza-tshilidzi/Desktop/Masters_material/e+ e- study/wandb/run-20240815_073038-dz9l6lm9/files/model-best/assets\n"
     ]
    },
    {
     "name": "stderr",
     "output_type": "stream",
     "text": [
      "\u001b[34m\u001b[1mwandb\u001b[0m: Adding directory to artifact (/home/anza-tshilidzi/Desktop/Masters_material/e+ e- study/wandb/run-20240815_073038-dz9l6lm9/files/model-best)... Done. 0.0s\n"
     ]
    },
    {
     "name": "stdout",
     "output_type": "stream",
     "text": [
      "3891/3891 [==============================] - 4s 953us/step - loss: 0.2662 - accuracy: 0.8962 - val_loss: 0.2639 - val_accuracy: 0.8959\n",
      "Epoch 94/160\n",
      "3891/3891 [==============================] - 3s 745us/step - loss: 0.2666 - accuracy: 0.8960 - val_loss: 0.3188 - val_accuracy: 0.8782\n",
      "Epoch 95/160\n",
      "3891/3891 [==============================] - 3s 757us/step - loss: 0.2662 - accuracy: 0.8958 - val_loss: 0.2681 - val_accuracy: 0.8961\n",
      "Epoch 96/160\n",
      "3891/3891 [==============================] - 3s 756us/step - loss: 0.2650 - accuracy: 0.8959 - val_loss: 0.2795 - val_accuracy: 0.8899\n",
      "Epoch 97/160\n",
      "3891/3891 [==============================] - 3s 760us/step - loss: 0.2654 - accuracy: 0.8966 - val_loss: 0.2785 - val_accuracy: 0.8904\n",
      "Epoch 98/160\n",
      "3891/3891 [==============================] - 3s 786us/step - loss: 0.2660 - accuracy: 0.8957 - val_loss: 0.2691 - val_accuracy: 0.8934\n",
      "Epoch 99/160\n",
      "3891/3891 [==============================] - 3s 756us/step - loss: 0.2653 - accuracy: 0.8955 - val_loss: 0.2675 - val_accuracy: 0.8938\n",
      "Epoch 100/160\n",
      "3891/3891 [==============================] - 3s 759us/step - loss: 0.2652 - accuracy: 0.8964 - val_loss: 0.2747 - val_accuracy: 0.8913\n",
      "Epoch 101/160\n",
      "3891/3891 [==============================] - 3s 765us/step - loss: 0.2636 - accuracy: 0.8964 - val_loss: 0.2815 - val_accuracy: 0.8913\n",
      "Epoch 102/160\n",
      "3891/3891 [==============================] - 3s 760us/step - loss: 0.2640 - accuracy: 0.8961 - val_loss: 0.3028 - val_accuracy: 0.8826\n",
      "Epoch 103/160\n",
      "3891/3891 [==============================] - 3s 782us/step - loss: 0.2639 - accuracy: 0.8965 - val_loss: 0.2862 - val_accuracy: 0.8880\n",
      "Epoch 104/160\n",
      "3891/3891 [==============================] - 3s 755us/step - loss: 0.2627 - accuracy: 0.8968 - val_loss: 0.2724 - val_accuracy: 0.8925\n",
      "Epoch 105/160\n",
      "3891/3891 [==============================] - 3s 756us/step - loss: 0.2624 - accuracy: 0.8963 - val_loss: 0.2694 - val_accuracy: 0.8938\n",
      "Epoch 106/160\n",
      "3891/3891 [==============================] - 3s 761us/step - loss: 0.2623 - accuracy: 0.8961 - val_loss: 0.2854 - val_accuracy: 0.8857\n",
      "Epoch 107/160\n",
      "3891/3891 [==============================] - 3s 750us/step - loss: 0.2617 - accuracy: 0.8967 - val_loss: 0.2764 - val_accuracy: 0.8910\n",
      "Epoch 108/160\n",
      "3891/3891 [==============================] - 3s 760us/step - loss: 0.2615 - accuracy: 0.8973 - val_loss: 0.2659 - val_accuracy: 0.8947\n",
      "Epoch 109/160\n",
      "3891/3891 [==============================] - 3s 774us/step - loss: 0.2620 - accuracy: 0.8970 - val_loss: 0.2952 - val_accuracy: 0.8862\n",
      "Epoch 110/160\n",
      "3814/3891 [============================>.] - ETA: 0s - loss: 0.2612 - accuracy: 0.8973INFO:tensorflow:Assets written to: /home/anza-tshilidzi/Desktop/Masters_material/e+ e- study/wandb/run-20240815_073038-dz9l6lm9/files/model-best/assets\n"
     ]
    },
    {
     "name": "stderr",
     "output_type": "stream",
     "text": [
      "\u001b[34m\u001b[1mwandb\u001b[0m: Adding directory to artifact (/home/anza-tshilidzi/Desktop/Masters_material/e+ e- study/wandb/run-20240815_073038-dz9l6lm9/files/model-best)... Done. 0.0s\n"
     ]
    },
    {
     "name": "stdout",
     "output_type": "stream",
     "text": [
      "3891/3891 [==============================] - 4s 965us/step - loss: 0.2614 - accuracy: 0.8974 - val_loss: 0.2634 - val_accuracy: 0.8954\n",
      "Epoch 111/160\n",
      "3891/3891 [==============================] - 3s 753us/step - loss: 0.2616 - accuracy: 0.8973 - val_loss: 0.2682 - val_accuracy: 0.8943\n",
      "Epoch 112/160\n",
      "3891/3891 [==============================] - 3s 755us/step - loss: 0.2607 - accuracy: 0.8971 - val_loss: 0.2684 - val_accuracy: 0.8946\n",
      "Epoch 113/160\n",
      "3860/3891 [============================>.] - ETA: 0s - loss: 0.2617 - accuracy: 0.8963INFO:tensorflow:Assets written to: /home/anza-tshilidzi/Desktop/Masters_material/e+ e- study/wandb/run-20240815_073038-dz9l6lm9/files/model-best/assets\n"
     ]
    },
    {
     "name": "stderr",
     "output_type": "stream",
     "text": [
      "\u001b[34m\u001b[1mwandb\u001b[0m: Adding directory to artifact (/home/anza-tshilidzi/Desktop/Masters_material/e+ e- study/wandb/run-20240815_073038-dz9l6lm9/files/model-best)... Done. 0.0s\n"
     ]
    },
    {
     "name": "stdout",
     "output_type": "stream",
     "text": [
      "3891/3891 [==============================] - 4s 1ms/step - loss: 0.2615 - accuracy: 0.8964 - val_loss: 0.2613 - val_accuracy: 0.8956\n",
      "Epoch 114/160\n",
      "3891/3891 [==============================] - 3s 758us/step - loss: 0.2604 - accuracy: 0.8976 - val_loss: 0.2725 - val_accuracy: 0.8915\n",
      "Epoch 115/160\n",
      "3891/3891 [==============================] - 3s 757us/step - loss: 0.2602 - accuracy: 0.8979 - val_loss: 0.2735 - val_accuracy: 0.8934\n",
      "Epoch 116/160\n",
      "3891/3891 [==============================] - 3s 756us/step - loss: 0.2598 - accuracy: 0.8973 - val_loss: 0.2715 - val_accuracy: 0.8926\n",
      "Epoch 117/160\n",
      "3891/3891 [==============================] - 3s 752us/step - loss: 0.2598 - accuracy: 0.8973 - val_loss: 0.2621 - val_accuracy: 0.8958\n",
      "Epoch 118/160\n",
      "3891/3891 [==============================] - 3s 755us/step - loss: 0.2608 - accuracy: 0.8974 - val_loss: 0.2623 - val_accuracy: 0.8961\n",
      "Epoch 119/160\n",
      "3891/3891 [==============================] - 3s 772us/step - loss: 0.2595 - accuracy: 0.8981 - val_loss: 0.2627 - val_accuracy: 0.8955\n",
      "Epoch 120/160\n",
      "3891/3891 [==============================] - 3s 758us/step - loss: 0.2587 - accuracy: 0.8986 - val_loss: 0.2621 - val_accuracy: 0.8949\n",
      "Epoch 121/160\n",
      "3891/3891 [==============================] - 3s 766us/step - loss: 0.2581 - accuracy: 0.8984 - val_loss: 0.2777 - val_accuracy: 0.8890\n",
      "Epoch 122/160\n",
      "3843/3891 [============================>.] - ETA: 0s - loss: 0.2595 - accuracy: 0.8978INFO:tensorflow:Assets written to: /home/anza-tshilidzi/Desktop/Masters_material/e+ e- study/wandb/run-20240815_073038-dz9l6lm9/files/model-best/assets\n"
     ]
    },
    {
     "name": "stderr",
     "output_type": "stream",
     "text": [
      "\u001b[34m\u001b[1mwandb\u001b[0m: Adding directory to artifact (/home/anza-tshilidzi/Desktop/Masters_material/e+ e- study/wandb/run-20240815_073038-dz9l6lm9/files/model-best)... Done. 0.0s\n"
     ]
    },
    {
     "name": "stdout",
     "output_type": "stream",
     "text": [
      "3891/3891 [==============================] - 4s 935us/step - loss: 0.2593 - accuracy: 0.8979 - val_loss: 0.2580 - val_accuracy: 0.8979\n",
      "Epoch 123/160\n",
      "3891/3891 [==============================] - 3s 751us/step - loss: 0.2590 - accuracy: 0.8984 - val_loss: 0.2635 - val_accuracy: 0.8947\n",
      "Epoch 124/160\n",
      "3891/3891 [==============================] - 3s 772us/step - loss: 0.2586 - accuracy: 0.8977 - val_loss: 0.2633 - val_accuracy: 0.8960\n",
      "Epoch 125/160\n",
      "3833/3891 [============================>.] - ETA: 0s - loss: 0.2585 - accuracy: 0.8981INFO:tensorflow:Assets written to: /home/anza-tshilidzi/Desktop/Masters_material/e+ e- study/wandb/run-20240815_073038-dz9l6lm9/files/model-best/assets\n"
     ]
    },
    {
     "name": "stderr",
     "output_type": "stream",
     "text": [
      "\u001b[34m\u001b[1mwandb\u001b[0m: Adding directory to artifact (/home/anza-tshilidzi/Desktop/Masters_material/e+ e- study/wandb/run-20240815_073038-dz9l6lm9/files/model-best)... Done. 0.0s\n"
     ]
    },
    {
     "name": "stdout",
     "output_type": "stream",
     "text": [
      "3891/3891 [==============================] - 4s 1ms/step - loss: 0.2589 - accuracy: 0.8979 - val_loss: 0.2574 - val_accuracy: 0.8978\n",
      "Epoch 126/160\n",
      "3891/3891 [==============================] - 3s 761us/step - loss: 0.2584 - accuracy: 0.8978 - val_loss: 0.2861 - val_accuracy: 0.8899\n",
      "Epoch 127/160\n",
      "3891/3891 [==============================] - 3s 753us/step - loss: 0.2585 - accuracy: 0.8981 - val_loss: 0.2665 - val_accuracy: 0.8951\n",
      "Epoch 128/160\n",
      "3891/3891 [==============================] - 3s 752us/step - loss: 0.2566 - accuracy: 0.8991 - val_loss: 0.2601 - val_accuracy: 0.8974\n",
      "Epoch 129/160\n",
      "3891/3891 [==============================] - 3s 776us/step - loss: 0.2581 - accuracy: 0.8979 - val_loss: 0.2693 - val_accuracy: 0.8946\n",
      "Epoch 130/160\n",
      "3891/3891 [==============================] - 3s 767us/step - loss: 0.2573 - accuracy: 0.8986 - val_loss: 0.2827 - val_accuracy: 0.8898\n",
      "Epoch 131/160\n",
      "3891/3891 [==============================] - 3s 753us/step - loss: 0.2580 - accuracy: 0.8987 - val_loss: 0.2855 - val_accuracy: 0.8885\n",
      "Epoch 132/160\n",
      "3891/3891 [==============================] - 3s 759us/step - loss: 0.2574 - accuracy: 0.8986 - val_loss: 0.2684 - val_accuracy: 0.8932\n",
      "Epoch 133/160\n",
      "3891/3891 [==============================] - 3s 753us/step - loss: 0.2574 - accuracy: 0.8982 - val_loss: 0.2585 - val_accuracy: 0.8974\n",
      "Epoch 134/160\n",
      "3891/3891 [==============================] - 3s 775us/step - loss: 0.2574 - accuracy: 0.8988 - val_loss: 0.2809 - val_accuracy: 0.8886\n",
      "Epoch 135/160\n",
      "3891/3891 [==============================] - 3s 765us/step - loss: 0.2570 - accuracy: 0.8992 - val_loss: 0.2967 - val_accuracy: 0.8846\n",
      "Epoch 136/160\n",
      "3891/3891 [==============================] - 3s 748us/step - loss: 0.2556 - accuracy: 0.8987 - val_loss: 0.2617 - val_accuracy: 0.8943\n",
      "Epoch 137/160\n",
      "3891/3891 [==============================] - 3s 756us/step - loss: 0.2568 - accuracy: 0.8983 - val_loss: 0.2587 - val_accuracy: 0.8969\n",
      "Epoch 138/160\n",
      "3891/3891 [==============================] - 3s 760us/step - loss: 0.2556 - accuracy: 0.8984 - val_loss: 0.2691 - val_accuracy: 0.8928\n",
      "Epoch 139/160\n",
      "3891/3891 [==============================] - 3s 758us/step - loss: 0.2564 - accuracy: 0.8991 - val_loss: 0.2651 - val_accuracy: 0.8943\n",
      "Epoch 140/160\n",
      "3891/3891 [==============================] - 3s 779us/step - loss: 0.2555 - accuracy: 0.8992 - val_loss: 0.2599 - val_accuracy: 0.8966\n",
      "Epoch 141/160\n",
      "3891/3891 [==============================] - 3s 757us/step - loss: 0.2558 - accuracy: 0.8982 - val_loss: 0.2938 - val_accuracy: 0.8848\n",
      "Epoch 142/160\n",
      "3891/3891 [==============================] - 3s 760us/step - loss: 0.2556 - accuracy: 0.8993 - val_loss: 0.2814 - val_accuracy: 0.8878\n",
      "Epoch 143/160\n",
      "3891/3891 [==============================] - 3s 759us/step - loss: 0.2558 - accuracy: 0.8990 - val_loss: 0.2664 - val_accuracy: 0.8965\n",
      "Epoch 144/160\n",
      "3891/3891 [==============================] - 3s 765us/step - loss: 0.2567 - accuracy: 0.8988 - val_loss: 0.2768 - val_accuracy: 0.8916\n",
      "Epoch 145/160\n",
      "3891/3891 [==============================] - 3s 790us/step - loss: 0.2558 - accuracy: 0.8995 - val_loss: 0.2816 - val_accuracy: 0.8887\n",
      "Epoch 146/160\n",
      "3891/3891 [==============================] - 3s 761us/step - loss: 0.2565 - accuracy: 0.8985 - val_loss: 0.2589 - val_accuracy: 0.8973\n",
      "Epoch 147/160\n",
      "3866/3891 [============================>.] - ETA: 0s - loss: 0.2557 - accuracy: 0.8990INFO:tensorflow:Assets written to: /home/anza-tshilidzi/Desktop/Masters_material/e+ e- study/wandb/run-20240815_073038-dz9l6lm9/files/model-best/assets\n"
     ]
    },
    {
     "name": "stderr",
     "output_type": "stream",
     "text": [
      "\u001b[34m\u001b[1mwandb\u001b[0m: Adding directory to artifact (/home/anza-tshilidzi/Desktop/Masters_material/e+ e- study/wandb/run-20240815_073038-dz9l6lm9/files/model-best)... Done. 0.0s\n"
     ]
    },
    {
     "name": "stdout",
     "output_type": "stream",
     "text": [
      "3891/3891 [==============================] - 4s 964us/step - loss: 0.2559 - accuracy: 0.8989 - val_loss: 0.2572 - val_accuracy: 0.8982\n",
      "Epoch 148/160\n",
      "3891/3891 [==============================] - 3s 751us/step - loss: 0.2551 - accuracy: 0.8992 - val_loss: 0.2657 - val_accuracy: 0.8948\n",
      "Epoch 149/160\n",
      "3891/3891 [==============================] - 3s 764us/step - loss: 0.2559 - accuracy: 0.8998 - val_loss: 0.2601 - val_accuracy: 0.8974\n",
      "Epoch 150/160\n",
      "3891/3891 [==============================] - 3s 806us/step - loss: 0.2550 - accuracy: 0.8990 - val_loss: 0.2651 - val_accuracy: 0.8961\n",
      "Epoch 151/160\n",
      "3891/3891 [==============================] - 3s 785us/step - loss: 0.2567 - accuracy: 0.8986 - val_loss: 0.2666 - val_accuracy: 0.8971\n",
      "Epoch 152/160\n",
      "3891/3891 [==============================] - 3s 755us/step - loss: 0.2549 - accuracy: 0.8994 - val_loss: 0.2626 - val_accuracy: 0.8966\n",
      "Epoch 153/160\n",
      "3891/3891 [==============================] - 3s 755us/step - loss: 0.2551 - accuracy: 0.8996 - val_loss: 0.2595 - val_accuracy: 0.8964\n",
      "Epoch 154/160\n",
      "3891/3891 [==============================] - 3s 758us/step - loss: 0.2556 - accuracy: 0.8992 - val_loss: 0.2833 - val_accuracy: 0.8900\n",
      "Epoch 155/160\n",
      "3891/3891 [==============================] - 3s 760us/step - loss: 0.2557 - accuracy: 0.8994 - val_loss: 0.2596 - val_accuracy: 0.8976\n",
      "Epoch 156/160\n",
      "3881/3891 [============================>.] - ETA: 0s - loss: 0.2562 - accuracy: 0.8986INFO:tensorflow:Assets written to: /home/anza-tshilidzi/Desktop/Masters_material/e+ e- study/wandb/run-20240815_073038-dz9l6lm9/files/model-best/assets\n"
     ]
    },
    {
     "name": "stderr",
     "output_type": "stream",
     "text": [
      "\u001b[34m\u001b[1mwandb\u001b[0m: Adding directory to artifact (/home/anza-tshilidzi/Desktop/Masters_material/e+ e- study/wandb/run-20240815_073038-dz9l6lm9/files/model-best)... Done. 0.0s\n"
     ]
    },
    {
     "name": "stdout",
     "output_type": "stream",
     "text": [
      "3891/3891 [==============================] - 4s 952us/step - loss: 0.2563 - accuracy: 0.8986 - val_loss: 0.2550 - val_accuracy: 0.8990\n",
      "Epoch 157/160\n",
      "3891/3891 [==============================] - 3s 760us/step - loss: 0.2553 - accuracy: 0.8991 - val_loss: 0.2573 - val_accuracy: 0.8979\n",
      "Epoch 158/160\n",
      "3864/3891 [============================>.] - ETA: 0s - loss: 0.2550 - accuracy: 0.8998INFO:tensorflow:Assets written to: /home/anza-tshilidzi/Desktop/Masters_material/e+ e- study/wandb/run-20240815_073038-dz9l6lm9/files/model-best/assets\n"
     ]
    },
    {
     "name": "stderr",
     "output_type": "stream",
     "text": [
      "\u001b[34m\u001b[1mwandb\u001b[0m: Adding directory to artifact (/home/anza-tshilidzi/Desktop/Masters_material/e+ e- study/wandb/run-20240815_073038-dz9l6lm9/files/model-best)... Done. 0.0s\n"
     ]
    },
    {
     "name": "stdout",
     "output_type": "stream",
     "text": [
      "3891/3891 [==============================] - 4s 1ms/step - loss: 0.2551 - accuracy: 0.8997 - val_loss: 0.2541 - val_accuracy: 0.8986\n",
      "Epoch 159/160\n",
      "3891/3891 [==============================] - 3s 756us/step - loss: 0.2542 - accuracy: 0.9009 - val_loss: 0.2688 - val_accuracy: 0.8959\n",
      "Epoch 160/160\n",
      "3891/3891 [==============================] - 3s 781us/step - loss: 0.2547 - accuracy: 0.8997 - val_loss: 0.2543 - val_accuracy: 0.8989\n"
     ]
    },
    {
     "data": {
      "application/vnd.jupyter.widget-view+json": {
       "model_id": "",
       "version_major": 2,
       "version_minor": 0
      },
      "text/plain": [
       "VBox(children=(Label(value='3.628 MB of 3.628 MB uploaded (0.238 MB deduped)\\r'), FloatProgress(value=1.0, max…"
      ]
     },
     "metadata": {},
     "output_type": "display_data"
    },
    {
     "data": {
      "text/html": [
       "W&B sync reduced upload amount by 6.3%"
      ],
      "text/plain": [
       "<IPython.core.display.HTML object>"
      ]
     },
     "metadata": {},
     "output_type": "display_data"
    },
    {
     "data": {
      "text/html": [
       "<style>\n",
       "    table.wandb td:nth-child(1) { padding: 0 10px; text-align: left ; width: auto;} td:nth-child(2) {text-align: left ; width: 100%}\n",
       "    .wandb-row { display: flex; flex-direction: row; flex-wrap: wrap; justify-content: flex-start; width: 100% }\n",
       "    .wandb-col { display: flex; flex-direction: column; flex-basis: 100%; flex: 1; padding: 10px; }\n",
       "    </style>\n",
       "<div class=\"wandb-row\"><div class=\"wandb-col\"><h3>Run history:</h3><br/><table class=\"wandb\"><tr><td>accuracy</td><td>▁▅▆▆▆▆▆▇▇▇▇▇▇▇▇▇▇▇▇▇▇███████████████████</td></tr><tr><td>epoch</td><td>▁▁▁▂▂▂▂▂▂▃▃▃▃▃▃▄▄▄▄▄▅▅▅▅▅▅▆▆▆▆▆▆▇▇▇▇▇███</td></tr><tr><td>loss</td><td>█▄▃▃▃▃▃▃▃▂▂▂▂▂▂▂▂▂▂▂▂▂▂▁▁▁▁▁▁▁▁▁▁▁▁▁▁▁▁▁</td></tr><tr><td>val_accuracy</td><td>▁▃▄▂▅▄▂▅▅▄▆▄▆▆▆▆▅▆▇▇▇▇▇▄▇▄▅▇▆▇█▆▆▆▇▆█▇▆█</td></tr><tr><td>val_loss</td><td>█▅▅▅▃▄▅▃▄▄▃▄▃▃▃▂▄▂▃▂▂▂▂▅▂▄▃▂▂▁▁▃▃▃▂▃▁▂▃▁</td></tr></table><br/></div><div class=\"wandb-col\"><h3>Run summary:</h3><br/><table class=\"wandb\"><tr><td>accuracy</td><td>0.89971</td></tr><tr><td>best_epoch</td><td>157</td></tr><tr><td>best_val_loss</td><td>0.25412</td></tr><tr><td>epoch</td><td>159</td></tr><tr><td>loss</td><td>0.25474</td></tr><tr><td>val_accuracy</td><td>0.89888</td></tr><tr><td>val_loss</td><td>0.25425</td></tr></table><br/></div></div>"
      ],
      "text/plain": [
       "<IPython.core.display.HTML object>"
      ]
     },
     "metadata": {},
     "output_type": "display_data"
    },
    {
     "data": {
      "text/html": [
       " View run <strong style=\"color:#cdcd00\">stoic-sweep-2</strong> at: <a href='https://wandb.ai/anzanzio/ep-em%20DNN/runs/dz9l6lm9' target=\"_blank\">https://wandb.ai/anzanzio/ep-em%20DNN/runs/dz9l6lm9</a><br/> View project at: <a href='https://wandb.ai/anzanzio/ep-em%20DNN' target=\"_blank\">https://wandb.ai/anzanzio/ep-em%20DNN</a><br/>Synced 6 W&B file(s), 1 media file(s), 124 artifact file(s) and 1 other file(s)"
      ],
      "text/plain": [
       "<IPython.core.display.HTML object>"
      ]
     },
     "metadata": {},
     "output_type": "display_data"
    },
    {
     "data": {
      "text/html": [
       "Find logs at: <code>./wandb/run-20240815_073038-dz9l6lm9/logs</code>"
      ],
      "text/plain": [
       "<IPython.core.display.HTML object>"
      ]
     },
     "metadata": {},
     "output_type": "display_data"
    },
    {
     "data": {
      "text/html": [
       "The new W&B backend becomes opt-out in version 0.18.0; try it out with `wandb.require(\"core\")`! See https://wandb.me/wandb-core for more information."
      ],
      "text/plain": [
       "<IPython.core.display.HTML object>"
      ]
     },
     "metadata": {},
     "output_type": "display_data"
    },
    {
     "name": "stderr",
     "output_type": "stream",
     "text": [
      "\u001b[34m\u001b[1mwandb\u001b[0m: Agent Starting Run: ybgii4so with config:\n",
      "\u001b[34m\u001b[1mwandb\u001b[0m: \tbatch_size: 26\n",
      "\u001b[34m\u001b[1mwandb\u001b[0m: \tepochs: 130\n",
      "\u001b[34m\u001b[1mwandb\u001b[0m: \tlayers: 39\n",
      "\u001b[34m\u001b[1mwandb\u001b[0m: \tlearning_rate: 0.00040356184656097527\n",
      "\u001b[34m\u001b[1mwandb\u001b[0m: \tneurons: 42\n",
      "\u001b[34m\u001b[1mwandb\u001b[0m: \toptimizer: adamax\n"
     ]
    },
    {
     "data": {
      "text/html": [
       "Tracking run with wandb version 0.17.6"
      ],
      "text/plain": [
       "<IPython.core.display.HTML object>"
      ]
     },
     "metadata": {},
     "output_type": "display_data"
    },
    {
     "data": {
      "text/html": [
       "Run data is saved locally in <code>/home/anza-tshilidzi/Desktop/Masters_material/e+ e- study/wandb/run-20240815_073923-ybgii4so</code>"
      ],
      "text/plain": [
       "<IPython.core.display.HTML object>"
      ]
     },
     "metadata": {},
     "output_type": "display_data"
    },
    {
     "data": {
      "text/html": [
       "Syncing run <strong><a href='https://wandb.ai/anzanzio/ep-em%20DNN/runs/ybgii4so' target=\"_blank\">crisp-sweep-3</a></strong> to <a href='https://wandb.ai/anzanzio/ep-em%20DNN' target=\"_blank\">Weights & Biases</a> (<a href='https://wandb.me/run' target=\"_blank\">docs</a>)<br/>Sweep page: <a href='https://wandb.ai/anzanzio/ep-em%20DNN/sweeps/lg5h93ch' target=\"_blank\">https://wandb.ai/anzanzio/ep-em%20DNN/sweeps/lg5h93ch</a>"
      ],
      "text/plain": [
       "<IPython.core.display.HTML object>"
      ]
     },
     "metadata": {},
     "output_type": "display_data"
    },
    {
     "data": {
      "text/html": [
       " View project at <a href='https://wandb.ai/anzanzio/ep-em%20DNN' target=\"_blank\">https://wandb.ai/anzanzio/ep-em%20DNN</a>"
      ],
      "text/plain": [
       "<IPython.core.display.HTML object>"
      ]
     },
     "metadata": {},
     "output_type": "display_data"
    },
    {
     "data": {
      "text/html": [
       " View sweep at <a href='https://wandb.ai/anzanzio/ep-em%20DNN/sweeps/lg5h93ch' target=\"_blank\">https://wandb.ai/anzanzio/ep-em%20DNN/sweeps/lg5h93ch</a>"
      ],
      "text/plain": [
       "<IPython.core.display.HTML object>"
      ]
     },
     "metadata": {},
     "output_type": "display_data"
    },
    {
     "data": {
      "text/html": [
       " View run at <a href='https://wandb.ai/anzanzio/ep-em%20DNN/runs/ybgii4so' target=\"_blank\">https://wandb.ai/anzanzio/ep-em%20DNN/runs/ybgii4so</a>"
      ],
      "text/plain": [
       "<IPython.core.display.HTML object>"
      ]
     },
     "metadata": {},
     "output_type": "display_data"
    },
    {
     "name": "stdout",
     "output_type": "stream",
     "text": [
      "Epoch 1/130\n",
      "3997/4041 [============================>.] - ETA: 0s - loss: 0.8619 - accuracy: 0.7242INFO:tensorflow:Assets written to: /home/anza-tshilidzi/Desktop/Masters_material/e+ e- study/wandb/run-20240815_073923-ybgii4so/files/model-best/assets\n"
     ]
    },
    {
     "name": "stderr",
     "output_type": "stream",
     "text": [
      "\u001b[34m\u001b[1mwandb\u001b[0m: Adding directory to artifact (/home/anza-tshilidzi/Desktop/Masters_material/e+ e- study/wandb/run-20240815_073923-ybgii4so/files/model-best)... Done. 0.0s\n"
     ]
    },
    {
     "name": "stdout",
     "output_type": "stream",
     "text": [
      "4041/4041 [==============================] - 4s 985us/step - loss: 0.8582 - accuracy: 0.7250 - val_loss: 0.5200 - val_accuracy: 0.8068\n",
      "Epoch 2/130\n",
      "4036/4041 [============================>.] - ETA: 0s - loss: 0.4771 - accuracy: 0.8129INFO:tensorflow:Assets written to: /home/anza-tshilidzi/Desktop/Masters_material/e+ e- study/wandb/run-20240815_073923-ybgii4so/files/model-best/assets\n"
     ]
    },
    {
     "name": "stderr",
     "output_type": "stream",
     "text": [
      "\u001b[34m\u001b[1mwandb\u001b[0m: Adding directory to artifact (/home/anza-tshilidzi/Desktop/Masters_material/e+ e- study/wandb/run-20240815_073923-ybgii4so/files/model-best)... Done. 0.0s\n"
     ]
    },
    {
     "name": "stdout",
     "output_type": "stream",
     "text": [
      "4041/4041 [==============================] - 4s 940us/step - loss: 0.4772 - accuracy: 0.8128 - val_loss: 0.4043 - val_accuracy: 0.8553\n",
      "Epoch 3/130\n",
      "4000/4041 [============================>.] - ETA: 0s - loss: 0.3926 - accuracy: 0.8522INFO:tensorflow:Assets written to: /home/anza-tshilidzi/Desktop/Masters_material/e+ e- study/wandb/run-20240815_073923-ybgii4so/files/model-best/assets\n"
     ]
    },
    {
     "name": "stderr",
     "output_type": "stream",
     "text": [
      "\u001b[34m\u001b[1mwandb\u001b[0m: Adding directory to artifact (/home/anza-tshilidzi/Desktop/Masters_material/e+ e- study/wandb/run-20240815_073923-ybgii4so/files/model-best)... Done. 0.0s\n"
     ]
    },
    {
     "name": "stdout",
     "output_type": "stream",
     "text": [
      "4041/4041 [==============================] - 4s 982us/step - loss: 0.3922 - accuracy: 0.8524 - val_loss: 0.3409 - val_accuracy: 0.8775\n",
      "Epoch 4/130\n",
      "4041/4041 [==============================] - 3s 762us/step - loss: 0.3684 - accuracy: 0.8626 - val_loss: 0.4078 - val_accuracy: 0.8432\n",
      "Epoch 5/130\n",
      "4041/4041 [==============================] - 3s 762us/step - loss: 0.3592 - accuracy: 0.8653 - val_loss: 0.4588 - val_accuracy: 0.8227\n",
      "Epoch 6/130\n",
      "4041/4041 [==============================] - 3s 766us/step - loss: 0.3444 - accuracy: 0.8695 - val_loss: 0.3462 - val_accuracy: 0.8662\n",
      "Epoch 7/130\n",
      "3969/4041 [============================>.] - ETA: 0s - loss: 0.3387 - accuracy: 0.8695INFO:tensorflow:Assets written to: /home/anza-tshilidzi/Desktop/Masters_material/e+ e- study/wandb/run-20240815_073923-ybgii4so/files/model-best/assets\n"
     ]
    },
    {
     "name": "stderr",
     "output_type": "stream",
     "text": [
      "\u001b[34m\u001b[1mwandb\u001b[0m: Adding directory to artifact (/home/anza-tshilidzi/Desktop/Masters_material/e+ e- study/wandb/run-20240815_073923-ybgii4so/files/model-best)... Done. 0.0s\n"
     ]
    },
    {
     "name": "stdout",
     "output_type": "stream",
     "text": [
      "4041/4041 [==============================] - 4s 949us/step - loss: 0.3387 - accuracy: 0.8696 - val_loss: 0.3303 - val_accuracy: 0.8766\n",
      "Epoch 8/130\n",
      "4041/4041 [==============================] - 3s 781us/step - loss: 0.3280 - accuracy: 0.8738 - val_loss: 0.3930 - val_accuracy: 0.8389\n",
      "Epoch 9/130\n",
      "3965/4041 [============================>.] - ETA: 0s - loss: 0.3257 - accuracy: 0.8752INFO:tensorflow:Assets written to: /home/anza-tshilidzi/Desktop/Masters_material/e+ e- study/wandb/run-20240815_073923-ybgii4so/files/model-best/assets\n"
     ]
    },
    {
     "name": "stderr",
     "output_type": "stream",
     "text": [
      "\u001b[34m\u001b[1mwandb\u001b[0m: Adding directory to artifact (/home/anza-tshilidzi/Desktop/Masters_material/e+ e- study/wandb/run-20240815_073923-ybgii4so/files/model-best)... Done. 0.0s\n"
     ]
    },
    {
     "name": "stdout",
     "output_type": "stream",
     "text": [
      "4041/4041 [==============================] - 4s 941us/step - loss: 0.3257 - accuracy: 0.8751 - val_loss: 0.3120 - val_accuracy: 0.8738\n",
      "Epoch 10/130\n",
      "4041/4041 [==============================] - 3s 754us/step - loss: 0.3209 - accuracy: 0.8762 - val_loss: 0.3180 - val_accuracy: 0.8745\n",
      "Epoch 11/130\n",
      "4041/4041 [==============================] - 3s 761us/step - loss: 0.3173 - accuracy: 0.8774 - val_loss: 0.3243 - val_accuracy: 0.8794\n",
      "Epoch 12/130\n",
      "4041/4041 [==============================] - 3s 770us/step - loss: 0.3157 - accuracy: 0.8778 - val_loss: 0.3229 - val_accuracy: 0.8808\n",
      "Epoch 13/130\n",
      "4041/4041 [==============================] - 3s 783us/step - loss: 0.3134 - accuracy: 0.8783 - val_loss: 0.3792 - val_accuracy: 0.8469\n",
      "Epoch 14/130\n",
      "4041/4041 [==============================] - 3s 768us/step - loss: 0.3101 - accuracy: 0.8797 - val_loss: 0.3160 - val_accuracy: 0.8754\n",
      "Epoch 15/130\n",
      "3983/4041 [============================>.] - ETA: 0s - loss: 0.3106 - accuracy: 0.8797INFO:tensorflow:Assets written to: /home/anza-tshilidzi/Desktop/Masters_material/e+ e- study/wandb/run-20240815_073923-ybgii4so/files/model-best/assets\n"
     ]
    },
    {
     "name": "stderr",
     "output_type": "stream",
     "text": [
      "\u001b[34m\u001b[1mwandb\u001b[0m: Adding directory to artifact (/home/anza-tshilidzi/Desktop/Masters_material/e+ e- study/wandb/run-20240815_073923-ybgii4so/files/model-best)... Done. 0.0s\n"
     ]
    },
    {
     "name": "stdout",
     "output_type": "stream",
     "text": [
      "4041/4041 [==============================] - 4s 926us/step - loss: 0.3107 - accuracy: 0.8797 - val_loss: 0.3002 - val_accuracy: 0.8841\n",
      "Epoch 16/130\n",
      "4041/4041 [==============================] - 3s 756us/step - loss: 0.3097 - accuracy: 0.8805 - val_loss: 0.3011 - val_accuracy: 0.8809\n",
      "Epoch 17/130\n",
      "4041/4041 [==============================] - 3s 771us/step - loss: 0.3068 - accuracy: 0.8807 - val_loss: 0.3062 - val_accuracy: 0.8793\n",
      "Epoch 18/130\n",
      "4041/4041 [==============================] - 3s 772us/step - loss: 0.3059 - accuracy: 0.8818 - val_loss: 0.3106 - val_accuracy: 0.8751\n",
      "Epoch 19/130\n",
      "4041/4041 [==============================] - 3s 763us/step - loss: 0.3065 - accuracy: 0.8809 - val_loss: 0.3595 - val_accuracy: 0.8576\n",
      "Epoch 20/130\n",
      "4041/4041 [==============================] - 3s 761us/step - loss: 0.3044 - accuracy: 0.8820 - val_loss: 0.3111 - val_accuracy: 0.8726\n",
      "Epoch 21/130\n",
      "4041/4041 [==============================] - 3s 771us/step - loss: 0.3028 - accuracy: 0.8821 - val_loss: 0.3039 - val_accuracy: 0.8837\n",
      "Epoch 22/130\n",
      "3999/4041 [============================>.] - ETA: 0s - loss: 0.3039 - accuracy: 0.8827INFO:tensorflow:Assets written to: /home/anza-tshilidzi/Desktop/Masters_material/e+ e- study/wandb/run-20240815_073923-ybgii4so/files/model-best/assets\n"
     ]
    },
    {
     "name": "stderr",
     "output_type": "stream",
     "text": [
      "\u001b[34m\u001b[1mwandb\u001b[0m: Adding directory to artifact (/home/anza-tshilidzi/Desktop/Masters_material/e+ e- study/wandb/run-20240815_073923-ybgii4so/files/model-best)... Done. 0.0s\n"
     ]
    },
    {
     "name": "stdout",
     "output_type": "stream",
     "text": [
      "4041/4041 [==============================] - 4s 949us/step - loss: 0.3040 - accuracy: 0.8827 - val_loss: 0.2999 - val_accuracy: 0.8826\n",
      "Epoch 23/130\n",
      "4041/4041 [==============================] - 3s 755us/step - loss: 0.3031 - accuracy: 0.8822 - val_loss: 0.3305 - val_accuracy: 0.8798\n",
      "Epoch 24/130\n",
      "4041/4041 [==============================] - 3s 759us/step - loss: 0.3015 - accuracy: 0.8833 - val_loss: 0.3219 - val_accuracy: 0.8794\n",
      "Epoch 25/130\n",
      "4041/4041 [==============================] - 3s 767us/step - loss: 0.3002 - accuracy: 0.8841 - val_loss: 0.3015 - val_accuracy: 0.8845\n",
      "Epoch 26/130\n",
      "4018/4041 [============================>.] - ETA: 0s - loss: 0.3014 - accuracy: 0.8829INFO:tensorflow:Assets written to: /home/anza-tshilidzi/Desktop/Masters_material/e+ e- study/wandb/run-20240815_073923-ybgii4so/files/model-best/assets\n"
     ]
    },
    {
     "name": "stderr",
     "output_type": "stream",
     "text": [
      "\u001b[34m\u001b[1mwandb\u001b[0m: Adding directory to artifact (/home/anza-tshilidzi/Desktop/Masters_material/e+ e- study/wandb/run-20240815_073923-ybgii4so/files/model-best)... Done. 0.0s\n"
     ]
    },
    {
     "name": "stdout",
     "output_type": "stream",
     "text": [
      "4041/4041 [==============================] - 4s 961us/step - loss: 0.3013 - accuracy: 0.8829 - val_loss: 0.2942 - val_accuracy: 0.8867\n",
      "Epoch 27/130\n",
      "4041/4041 [==============================] - 3s 776us/step - loss: 0.3001 - accuracy: 0.8838 - val_loss: 0.2950 - val_accuracy: 0.8857\n",
      "Epoch 28/130\n",
      "4041/4041 [==============================] - 3s 760us/step - loss: 0.2988 - accuracy: 0.8843 - val_loss: 0.3054 - val_accuracy: 0.8796\n",
      "Epoch 29/130\n",
      "4041/4041 [==============================] - 3s 773us/step - loss: 0.2996 - accuracy: 0.8843 - val_loss: 0.3009 - val_accuracy: 0.8824\n",
      "Epoch 30/130\n",
      "4041/4041 [==============================] - 3s 770us/step - loss: 0.2986 - accuracy: 0.8844 - val_loss: 0.3409 - val_accuracy: 0.8771\n",
      "Epoch 31/130\n",
      "4041/4041 [==============================] - 3s 764us/step - loss: 0.3004 - accuracy: 0.8837 - val_loss: 0.2963 - val_accuracy: 0.8825\n",
      "Epoch 32/130\n",
      "4041/4041 [==============================] - 3s 791us/step - loss: 0.3014 - accuracy: 0.8826 - val_loss: 0.2944 - val_accuracy: 0.8857\n",
      "Epoch 33/130\n",
      "4041/4041 [==============================] - 3s 770us/step - loss: 0.2990 - accuracy: 0.8841 - val_loss: 0.2959 - val_accuracy: 0.8830\n",
      "Epoch 34/130\n",
      "4041/4041 [==============================] - 3s 760us/step - loss: 0.2982 - accuracy: 0.8835 - val_loss: 0.2980 - val_accuracy: 0.8835\n",
      "Epoch 35/130\n",
      "4041/4041 [==============================] - 3s 769us/step - loss: 0.2986 - accuracy: 0.8833 - val_loss: 0.2991 - val_accuracy: 0.8812\n",
      "Epoch 36/130\n",
      "4041/4041 [==============================] - 3s 767us/step - loss: 0.2976 - accuracy: 0.8847 - val_loss: 0.2990 - val_accuracy: 0.8849\n",
      "Epoch 37/130\n",
      "4041/4041 [==============================] - 3s 766us/step - loss: 0.2975 - accuracy: 0.8844 - val_loss: 0.3014 - val_accuracy: 0.8860\n",
      "Epoch 38/130\n",
      "4041/4041 [==============================] - 3s 794us/step - loss: 0.2974 - accuracy: 0.8841 - val_loss: 0.2949 - val_accuracy: 0.8848\n",
      "Epoch 39/130\n",
      "4041/4041 [==============================] - 3s 762us/step - loss: 0.2964 - accuracy: 0.8851 - val_loss: 0.3021 - val_accuracy: 0.8812\n",
      "Epoch 40/130\n",
      "4041/4041 [==============================] - 3s 768us/step - loss: 0.2970 - accuracy: 0.8840 - val_loss: 0.2946 - val_accuracy: 0.8829\n",
      "Epoch 41/130\n",
      "4041/4041 [==============================] - 3s 763us/step - loss: 0.2970 - accuracy: 0.8846 - val_loss: 0.2968 - val_accuracy: 0.8837\n",
      "Epoch 42/130\n",
      "4041/4041 [==============================] - 3s 759us/step - loss: 0.2975 - accuracy: 0.8850 - val_loss: 0.2980 - val_accuracy: 0.8826\n",
      "Epoch 43/130\n",
      "4041/4041 [==============================] - 3s 785us/step - loss: 0.2959 - accuracy: 0.8840 - val_loss: 0.2961 - val_accuracy: 0.8860\n",
      "Epoch 44/130\n",
      "3963/4041 [============================>.] - ETA: 0s - loss: 0.2961 - accuracy: 0.8843INFO:tensorflow:Assets written to: /home/anza-tshilidzi/Desktop/Masters_material/e+ e- study/wandb/run-20240815_073923-ybgii4so/files/model-best/assets\n"
     ]
    },
    {
     "name": "stderr",
     "output_type": "stream",
     "text": [
      "\u001b[34m\u001b[1mwandb\u001b[0m: Adding directory to artifact (/home/anza-tshilidzi/Desktop/Masters_material/e+ e- study/wandb/run-20240815_073923-ybgii4so/files/model-best)... Done. 0.0s\n"
     ]
    },
    {
     "name": "stdout",
     "output_type": "stream",
     "text": [
      "4041/4041 [==============================] - 4s 1ms/step - loss: 0.2960 - accuracy: 0.8844 - val_loss: 0.2941 - val_accuracy: 0.8835\n",
      "Epoch 45/130\n",
      "4041/4041 [==============================] - 3s 760us/step - loss: 0.2963 - accuracy: 0.8845 - val_loss: 0.2992 - val_accuracy: 0.8864\n",
      "Epoch 46/130\n",
      "4041/4041 [==============================] - 3s 769us/step - loss: 0.2948 - accuracy: 0.8849 - val_loss: 0.3015 - val_accuracy: 0.8860\n",
      "Epoch 47/130\n",
      "4024/4041 [============================>.] - ETA: 0s - loss: 0.2964 - accuracy: 0.8857INFO:tensorflow:Assets written to: /home/anza-tshilidzi/Desktop/Masters_material/e+ e- study/wandb/run-20240815_073923-ybgii4so/files/model-best/assets\n"
     ]
    },
    {
     "name": "stderr",
     "output_type": "stream",
     "text": [
      "\u001b[34m\u001b[1mwandb\u001b[0m: Adding directory to artifact (/home/anza-tshilidzi/Desktop/Masters_material/e+ e- study/wandb/run-20240815_073923-ybgii4so/files/model-best)... Done. 0.0s\n"
     ]
    },
    {
     "name": "stdout",
     "output_type": "stream",
     "text": [
      "4041/4041 [==============================] - 4s 1ms/step - loss: 0.2964 - accuracy: 0.8857 - val_loss: 0.2907 - val_accuracy: 0.8858\n",
      "Epoch 48/130\n",
      "4041/4041 [==============================] - 3s 768us/step - loss: 0.2953 - accuracy: 0.8857 - val_loss: 0.2966 - val_accuracy: 0.8828\n",
      "Epoch 49/130\n",
      "4041/4041 [==============================] - 3s 768us/step - loss: 0.2944 - accuracy: 0.8856 - val_loss: 0.2987 - val_accuracy: 0.8829\n",
      "Epoch 50/130\n",
      "4041/4041 [==============================] - 3s 770us/step - loss: 0.2943 - accuracy: 0.8853 - val_loss: 0.2943 - val_accuracy: 0.8843\n",
      "Epoch 51/130\n",
      "4041/4041 [==============================] - 3s 772us/step - loss: 0.2937 - accuracy: 0.8857 - val_loss: 0.3001 - val_accuracy: 0.8824\n",
      "Epoch 52/130\n",
      "4041/4041 [==============================] - 3s 815us/step - loss: 0.2936 - accuracy: 0.8852 - val_loss: 0.2944 - val_accuracy: 0.8866\n",
      "Epoch 53/130\n",
      "4041/4041 [==============================] - 3s 783us/step - loss: 0.2930 - accuracy: 0.8858 - val_loss: 0.2926 - val_accuracy: 0.8861\n",
      "Epoch 54/130\n",
      "4041/4041 [==============================] - 3s 788us/step - loss: 0.2931 - accuracy: 0.8858 - val_loss: 0.2908 - val_accuracy: 0.8854\n",
      "Epoch 55/130\n",
      "4041/4041 [==============================] - 3s 804us/step - loss: 0.2926 - accuracy: 0.8863 - val_loss: 0.2912 - val_accuracy: 0.8871\n",
      "Epoch 56/130\n",
      "4041/4041 [==============================] - 3s 747us/step - loss: 0.2920 - accuracy: 0.8860 - val_loss: 0.2973 - val_accuracy: 0.8825\n",
      "Epoch 57/130\n",
      "4039/4041 [============================>.] - ETA: 0s - loss: 0.2915 - accuracy: 0.8863INFO:tensorflow:Assets written to: /home/anza-tshilidzi/Desktop/Masters_material/e+ e- study/wandb/run-20240815_073923-ybgii4so/files/model-best/assets\n"
     ]
    },
    {
     "name": "stderr",
     "output_type": "stream",
     "text": [
      "\u001b[34m\u001b[1mwandb\u001b[0m: Adding directory to artifact (/home/anza-tshilidzi/Desktop/Masters_material/e+ e- study/wandb/run-20240815_073923-ybgii4so/files/model-best)... Done. 0.0s\n"
     ]
    },
    {
     "name": "stdout",
     "output_type": "stream",
     "text": [
      "4041/4041 [==============================] - 4s 998us/step - loss: 0.2915 - accuracy: 0.8864 - val_loss: 0.2865 - val_accuracy: 0.8867\n",
      "Epoch 58/130\n",
      "4041/4041 [==============================] - 4s 870us/step - loss: 0.2915 - accuracy: 0.8859 - val_loss: 0.2872 - val_accuracy: 0.8884\n",
      "Epoch 59/130\n",
      "4041/4041 [==============================] - 3s 850us/step - loss: 0.2910 - accuracy: 0.8858 - val_loss: 0.2873 - val_accuracy: 0.8883\n",
      "Epoch 60/130\n",
      "4041/4041 [==============================] - 3s 754us/step - loss: 0.2910 - accuracy: 0.8871 - val_loss: 0.2980 - val_accuracy: 0.8842\n",
      "Epoch 61/130\n",
      "4041/4041 [==============================] - 3s 743us/step - loss: 0.2909 - accuracy: 0.8864 - val_loss: 0.2970 - val_accuracy: 0.8842\n",
      "Epoch 62/130\n",
      "4041/4041 [==============================] - 3s 776us/step - loss: 0.2897 - accuracy: 0.8876 - val_loss: 0.2901 - val_accuracy: 0.8877\n",
      "Epoch 63/130\n",
      "4041/4041 [==============================] - 3s 741us/step - loss: 0.2909 - accuracy: 0.8864 - val_loss: 0.3009 - val_accuracy: 0.8827\n",
      "Epoch 64/130\n",
      "4041/4041 [==============================] - 3s 749us/step - loss: 0.2898 - accuracy: 0.8869 - val_loss: 0.2893 - val_accuracy: 0.8871\n",
      "Epoch 65/130\n",
      "4041/4041 [==============================] - 3s 743us/step - loss: 0.2896 - accuracy: 0.8871 - val_loss: 0.2897 - val_accuracy: 0.8868\n",
      "Epoch 66/130\n",
      "4041/4041 [==============================] - 3s 745us/step - loss: 0.2911 - accuracy: 0.8864 - val_loss: 0.2945 - val_accuracy: 0.8877\n",
      "Epoch 67/130\n",
      "4034/4041 [============================>.] - ETA: 0s - loss: 0.2898 - accuracy: 0.8873INFO:tensorflow:Assets written to: /home/anza-tshilidzi/Desktop/Masters_material/e+ e- study/wandb/run-20240815_073923-ybgii4so/files/model-best/assets\n"
     ]
    },
    {
     "name": "stderr",
     "output_type": "stream",
     "text": [
      "\u001b[34m\u001b[1mwandb\u001b[0m: Adding directory to artifact (/home/anza-tshilidzi/Desktop/Masters_material/e+ e- study/wandb/run-20240815_073923-ybgii4so/files/model-best)... Done. 0.0s\n"
     ]
    },
    {
     "name": "stdout",
     "output_type": "stream",
     "text": [
      "4041/4041 [==============================] - 4s 939us/step - loss: 0.2898 - accuracy: 0.8873 - val_loss: 0.2853 - val_accuracy: 0.8882\n",
      "Epoch 68/130\n",
      "4041/4041 [==============================] - 3s 745us/step - loss: 0.2890 - accuracy: 0.8872 - val_loss: 0.2862 - val_accuracy: 0.8891\n",
      "Epoch 69/130\n",
      "3967/4041 [============================>.] - ETA: 0s - loss: 0.2880 - accuracy: 0.8874INFO:tensorflow:Assets written to: /home/anza-tshilidzi/Desktop/Masters_material/e+ e- study/wandb/run-20240815_073923-ybgii4so/files/model-best/assets\n"
     ]
    },
    {
     "name": "stderr",
     "output_type": "stream",
     "text": [
      "\u001b[34m\u001b[1mwandb\u001b[0m: Adding directory to artifact (/home/anza-tshilidzi/Desktop/Masters_material/e+ e- study/wandb/run-20240815_073923-ybgii4so/files/model-best)... Done. 0.0s\n"
     ]
    },
    {
     "name": "stdout",
     "output_type": "stream",
     "text": [
      "4041/4041 [==============================] - 4s 918us/step - loss: 0.2879 - accuracy: 0.8876 - val_loss: 0.2828 - val_accuracy: 0.8899\n",
      "Epoch 70/130\n",
      "4041/4041 [==============================] - 3s 741us/step - loss: 0.2873 - accuracy: 0.8875 - val_loss: 0.2879 - val_accuracy: 0.8888\n",
      "Epoch 71/130\n",
      "4041/4041 [==============================] - 3s 749us/step - loss: 0.2865 - accuracy: 0.8884 - val_loss: 0.2829 - val_accuracy: 0.8903\n",
      "Epoch 72/130\n",
      "4041/4041 [==============================] - 3s 768us/step - loss: 0.2856 - accuracy: 0.8887 - val_loss: 0.2965 - val_accuracy: 0.8845\n",
      "Epoch 73/130\n",
      "4041/4041 [==============================] - 3s 745us/step - loss: 0.2848 - accuracy: 0.8890 - val_loss: 0.2843 - val_accuracy: 0.8899\n",
      "Epoch 74/130\n",
      "4041/4041 [==============================] - 3s 740us/step - loss: 0.2844 - accuracy: 0.8897 - val_loss: 0.2899 - val_accuracy: 0.8873\n",
      "Epoch 75/130\n",
      "4041/4041 [==============================] - 3s 745us/step - loss: 0.2831 - accuracy: 0.8900 - val_loss: 0.2849 - val_accuracy: 0.8874\n",
      "Epoch 76/130\n",
      "4041/4041 [==============================] - 3s 744us/step - loss: 0.2830 - accuracy: 0.8907 - val_loss: 0.3063 - val_accuracy: 0.8835\n",
      "Epoch 77/130\n",
      "3995/4041 [============================>.] - ETA: 0s - loss: 0.2821 - accuracy: 0.8910INFO:tensorflow:Assets written to: /home/anza-tshilidzi/Desktop/Masters_material/e+ e- study/wandb/run-20240815_073923-ybgii4so/files/model-best/assets\n"
     ]
    },
    {
     "name": "stderr",
     "output_type": "stream",
     "text": [
      "\u001b[34m\u001b[1mwandb\u001b[0m: Adding directory to artifact (/home/anza-tshilidzi/Desktop/Masters_material/e+ e- study/wandb/run-20240815_073923-ybgii4so/files/model-best)... Done. 0.0s\n"
     ]
    },
    {
     "name": "stdout",
     "output_type": "stream",
     "text": [
      "4041/4041 [==============================] - 4s 955us/step - loss: 0.2820 - accuracy: 0.8911 - val_loss: 0.2817 - val_accuracy: 0.8910\n",
      "Epoch 78/130\n",
      "4041/4041 [==============================] - 3s 752us/step - loss: 0.2819 - accuracy: 0.8907 - val_loss: 0.2863 - val_accuracy: 0.8910\n",
      "Epoch 79/130\n",
      "4041/4041 [==============================] - 3s 745us/step - loss: 0.2805 - accuracy: 0.8909 - val_loss: 0.2830 - val_accuracy: 0.8888\n",
      "Epoch 80/130\n",
      "4041/4041 [==============================] - 3s 747us/step - loss: 0.2803 - accuracy: 0.8919 - val_loss: 0.2822 - val_accuracy: 0.8887\n",
      "Epoch 81/130\n",
      "4041/4041 [==============================] - 3s 743us/step - loss: 0.2801 - accuracy: 0.8916 - val_loss: 0.2854 - val_accuracy: 0.8902\n",
      "Epoch 82/130\n",
      "3969/4041 [============================>.] - ETA: 0s - loss: 0.2796 - accuracy: 0.8914INFO:tensorflow:Assets written to: /home/anza-tshilidzi/Desktop/Masters_material/e+ e- study/wandb/run-20240815_073923-ybgii4so/files/model-best/assets\n"
     ]
    },
    {
     "name": "stderr",
     "output_type": "stream",
     "text": [
      "\u001b[34m\u001b[1mwandb\u001b[0m: Adding directory to artifact (/home/anza-tshilidzi/Desktop/Masters_material/e+ e- study/wandb/run-20240815_073923-ybgii4so/files/model-best)... Done. 0.0s\n"
     ]
    },
    {
     "name": "stdout",
     "output_type": "stream",
     "text": [
      "4041/4041 [==============================] - 4s 941us/step - loss: 0.2798 - accuracy: 0.8913 - val_loss: 0.2761 - val_accuracy: 0.8926\n",
      "Epoch 83/130\n",
      "4041/4041 [==============================] - 3s 751us/step - loss: 0.2789 - accuracy: 0.8919 - val_loss: 0.3139 - val_accuracy: 0.8747\n",
      "Epoch 84/130\n",
      "4041/4041 [==============================] - 3s 746us/step - loss: 0.2788 - accuracy: 0.8912 - val_loss: 0.2772 - val_accuracy: 0.8922\n",
      "Epoch 85/130\n",
      "4041/4041 [==============================] - 3s 744us/step - loss: 0.2787 - accuracy: 0.8924 - val_loss: 0.2796 - val_accuracy: 0.8916\n",
      "Epoch 86/130\n",
      "4041/4041 [==============================] - 3s 753us/step - loss: 0.2795 - accuracy: 0.8912 - val_loss: 0.2917 - val_accuracy: 0.8879\n",
      "Epoch 87/130\n",
      "4041/4041 [==============================] - 3s 754us/step - loss: 0.2782 - accuracy: 0.8921 - val_loss: 0.2827 - val_accuracy: 0.8913\n",
      "Epoch 88/130\n",
      "4041/4041 [==============================] - 3s 751us/step - loss: 0.2780 - accuracy: 0.8921 - val_loss: 0.2836 - val_accuracy: 0.8903\n",
      "Epoch 89/130\n",
      "4041/4041 [==============================] - 3s 742us/step - loss: 0.2788 - accuracy: 0.8922 - val_loss: 0.2925 - val_accuracy: 0.8882\n",
      "Epoch 90/130\n",
      "4041/4041 [==============================] - 3s 744us/step - loss: 0.2776 - accuracy: 0.8920 - val_loss: 0.2832 - val_accuracy: 0.8910\n",
      "Epoch 91/130\n",
      "4009/4041 [============================>.] - ETA: 0s - loss: 0.2772 - accuracy: 0.8931INFO:tensorflow:Assets written to: /home/anza-tshilidzi/Desktop/Masters_material/e+ e- study/wandb/run-20240815_073923-ybgii4so/files/model-best/assets\n"
     ]
    },
    {
     "name": "stderr",
     "output_type": "stream",
     "text": [
      "\u001b[34m\u001b[1mwandb\u001b[0m: Adding directory to artifact (/home/anza-tshilidzi/Desktop/Masters_material/e+ e- study/wandb/run-20240815_073923-ybgii4so/files/model-best)... Done. 0.0s\n"
     ]
    },
    {
     "name": "stdout",
     "output_type": "stream",
     "text": [
      "4041/4041 [==============================] - 4s 948us/step - loss: 0.2772 - accuracy: 0.8931 - val_loss: 0.2755 - val_accuracy: 0.8933\n",
      "Epoch 92/130\n",
      "4041/4041 [==============================] - 3s 762us/step - loss: 0.2768 - accuracy: 0.8927 - val_loss: 0.2781 - val_accuracy: 0.8929\n",
      "Epoch 93/130\n",
      "4041/4041 [==============================] - 3s 749us/step - loss: 0.2763 - accuracy: 0.8929 - val_loss: 0.2775 - val_accuracy: 0.8932\n",
      "Epoch 94/130\n",
      "4041/4041 [==============================] - 3s 742us/step - loss: 0.2761 - accuracy: 0.8927 - val_loss: 0.2758 - val_accuracy: 0.8922\n",
      "Epoch 95/130\n",
      "4041/4041 [==============================] - 3s 743us/step - loss: 0.2757 - accuracy: 0.8930 - val_loss: 0.2917 - val_accuracy: 0.8895\n",
      "Epoch 96/130\n",
      "4041/4041 [==============================] - 3s 744us/step - loss: 0.2765 - accuracy: 0.8930 - val_loss: 0.2803 - val_accuracy: 0.8914\n",
      "Epoch 97/130\n",
      "4041/4041 [==============================] - 3s 744us/step - loss: 0.2757 - accuracy: 0.8932 - val_loss: 0.2776 - val_accuracy: 0.8917\n",
      "Epoch 98/130\n",
      "4041/4041 [==============================] - 3s 762us/step - loss: 0.2757 - accuracy: 0.8926 - val_loss: 0.2813 - val_accuracy: 0.8934\n",
      "Epoch 99/130\n",
      "4034/4041 [============================>.] - ETA: 0s - loss: 0.2755 - accuracy: 0.8931INFO:tensorflow:Assets written to: /home/anza-tshilidzi/Desktop/Masters_material/e+ e- study/wandb/run-20240815_073923-ybgii4so/files/model-best/assets\n"
     ]
    },
    {
     "name": "stderr",
     "output_type": "stream",
     "text": [
      "\u001b[34m\u001b[1mwandb\u001b[0m: Adding directory to artifact (/home/anza-tshilidzi/Desktop/Masters_material/e+ e- study/wandb/run-20240815_073923-ybgii4so/files/model-best)... Done. 0.0s\n"
     ]
    },
    {
     "name": "stdout",
     "output_type": "stream",
     "text": [
      "4041/4041 [==============================] - 4s 931us/step - loss: 0.2753 - accuracy: 0.8932 - val_loss: 0.2724 - val_accuracy: 0.8941\n",
      "Epoch 100/130\n",
      "4041/4041 [==============================] - 3s 743us/step - loss: 0.2747 - accuracy: 0.8934 - val_loss: 0.2979 - val_accuracy: 0.8815\n",
      "Epoch 101/130\n",
      "4041/4041 [==============================] - 3s 741us/step - loss: 0.2751 - accuracy: 0.8932 - val_loss: 0.2794 - val_accuracy: 0.8943\n",
      "Epoch 102/130\n",
      "4041/4041 [==============================] - 3s 751us/step - loss: 0.2743 - accuracy: 0.8935 - val_loss: 0.2801 - val_accuracy: 0.8879\n",
      "Epoch 103/130\n",
      "4041/4041 [==============================] - 3s 766us/step - loss: 0.2739 - accuracy: 0.8936 - val_loss: 0.2743 - val_accuracy: 0.8942\n",
      "Epoch 104/130\n",
      "4041/4041 [==============================] - 3s 747us/step - loss: 0.2748 - accuracy: 0.8936 - val_loss: 0.2781 - val_accuracy: 0.8932\n",
      "Epoch 105/130\n",
      "4041/4041 [==============================] - 3s 748us/step - loss: 0.2733 - accuracy: 0.8941 - val_loss: 0.2731 - val_accuracy: 0.8933\n",
      "Epoch 106/130\n",
      "4041/4041 [==============================] - 3s 747us/step - loss: 0.2738 - accuracy: 0.8943 - val_loss: 0.2928 - val_accuracy: 0.8834\n",
      "Epoch 107/130\n",
      "4041/4041 [==============================] - 3s 742us/step - loss: 0.2732 - accuracy: 0.8940 - val_loss: 0.2941 - val_accuracy: 0.8878\n",
      "Epoch 108/130\n",
      "4041/4041 [==============================] - 3s 756us/step - loss: 0.2732 - accuracy: 0.8944 - val_loss: 0.2865 - val_accuracy: 0.8907\n",
      "Epoch 109/130\n",
      "3998/4041 [============================>.] - ETA: 0s - loss: 0.2738 - accuracy: 0.8941INFO:tensorflow:Assets written to: /home/anza-tshilidzi/Desktop/Masters_material/e+ e- study/wandb/run-20240815_073923-ybgii4so/files/model-best/assets\n"
     ]
    },
    {
     "name": "stderr",
     "output_type": "stream",
     "text": [
      "\u001b[34m\u001b[1mwandb\u001b[0m: Adding directory to artifact (/home/anza-tshilidzi/Desktop/Masters_material/e+ e- study/wandb/run-20240815_073923-ybgii4so/files/model-best)... Done. 0.0s\n"
     ]
    },
    {
     "name": "stdout",
     "output_type": "stream",
     "text": [
      "4041/4041 [==============================] - 4s 955us/step - loss: 0.2738 - accuracy: 0.8940 - val_loss: 0.2714 - val_accuracy: 0.8950\n",
      "Epoch 110/130\n",
      "4041/4041 [==============================] - 3s 748us/step - loss: 0.2742 - accuracy: 0.8934 - val_loss: 0.2729 - val_accuracy: 0.8944\n",
      "Epoch 111/130\n",
      "4041/4041 [==============================] - 3s 745us/step - loss: 0.2732 - accuracy: 0.8948 - val_loss: 0.2740 - val_accuracy: 0.8928\n",
      "Epoch 112/130\n",
      "4027/4041 [============================>.] - ETA: 0s - loss: 0.2726 - accuracy: 0.8939INFO:tensorflow:Assets written to: /home/anza-tshilidzi/Desktop/Masters_material/e+ e- study/wandb/run-20240815_073923-ybgii4so/files/model-best/assets\n"
     ]
    },
    {
     "name": "stderr",
     "output_type": "stream",
     "text": [
      "\u001b[34m\u001b[1mwandb\u001b[0m: Adding directory to artifact (/home/anza-tshilidzi/Desktop/Masters_material/e+ e- study/wandb/run-20240815_073923-ybgii4so/files/model-best)... Done. 0.0s\n"
     ]
    },
    {
     "name": "stdout",
     "output_type": "stream",
     "text": [
      "4041/4041 [==============================] - 4s 939us/step - loss: 0.2727 - accuracy: 0.8939 - val_loss: 0.2709 - val_accuracy: 0.8948\n",
      "Epoch 113/130\n",
      "4041/4041 [==============================] - 3s 777us/step - loss: 0.2725 - accuracy: 0.8945 - val_loss: 0.2719 - val_accuracy: 0.8947\n",
      "Epoch 114/130\n",
      "4041/4041 [==============================] - 3s 742us/step - loss: 0.2722 - accuracy: 0.8946 - val_loss: 0.2777 - val_accuracy: 0.8910\n",
      "Epoch 115/130\n",
      "4041/4041 [==============================] - 3s 737us/step - loss: 0.2729 - accuracy: 0.8943 - val_loss: 0.2755 - val_accuracy: 0.8924\n",
      "Epoch 116/130\n",
      "4041/4041 [==============================] - 3s 742us/step - loss: 0.2714 - accuracy: 0.8943 - val_loss: 0.2805 - val_accuracy: 0.8932\n",
      "Epoch 117/130\n",
      "4041/4041 [==============================] - 3s 739us/step - loss: 0.2713 - accuracy: 0.8948 - val_loss: 0.2782 - val_accuracy: 0.8924\n",
      "Epoch 118/130\n",
      "4041/4041 [==============================] - 3s 757us/step - loss: 0.2712 - accuracy: 0.8943 - val_loss: 0.2928 - val_accuracy: 0.8869\n",
      "Epoch 119/130\n",
      "4041/4041 [==============================] - 3s 738us/step - loss: 0.2717 - accuracy: 0.8949 - val_loss: 0.2766 - val_accuracy: 0.8929\n",
      "Epoch 120/130\n",
      "4041/4041 [==============================] - 3s 741us/step - loss: 0.2714 - accuracy: 0.8955 - val_loss: 0.2744 - val_accuracy: 0.8936\n",
      "Epoch 121/130\n",
      "4041/4041 [==============================] - 3s 739us/step - loss: 0.2706 - accuracy: 0.8948 - val_loss: 0.2798 - val_accuracy: 0.8919\n",
      "Epoch 122/130\n",
      "4041/4041 [==============================] - 3s 765us/step - loss: 0.2697 - accuracy: 0.8948 - val_loss: 0.2820 - val_accuracy: 0.8924\n",
      "Epoch 123/130\n",
      "4041/4041 [==============================] - 3s 812us/step - loss: 0.2681 - accuracy: 0.8956 - val_loss: 0.2724 - val_accuracy: 0.8941\n",
      "Epoch 124/130\n",
      "4041/4041 [==============================] - 3s 766us/step - loss: 0.2688 - accuracy: 0.8946 - val_loss: 0.2741 - val_accuracy: 0.8942\n",
      "Epoch 125/130\n",
      "4041/4041 [==============================] - 3s 785us/step - loss: 0.2683 - accuracy: 0.8953 - val_loss: 0.2824 - val_accuracy: 0.8888\n",
      "Epoch 126/130\n",
      "4002/4041 [============================>.] - ETA: 0s - loss: 0.2674 - accuracy: 0.8951INFO:tensorflow:Assets written to: /home/anza-tshilidzi/Desktop/Masters_material/e+ e- study/wandb/run-20240815_073923-ybgii4so/files/model-best/assets\n"
     ]
    },
    {
     "name": "stderr",
     "output_type": "stream",
     "text": [
      "\u001b[34m\u001b[1mwandb\u001b[0m: Adding directory to artifact (/home/anza-tshilidzi/Desktop/Masters_material/e+ e- study/wandb/run-20240815_073923-ybgii4so/files/model-best)... Done. 0.0s\n"
     ]
    },
    {
     "name": "stdout",
     "output_type": "stream",
     "text": [
      "4041/4041 [==============================] - 25s 6ms/step - loss: 0.2676 - accuracy: 0.8950 - val_loss: 0.2676 - val_accuracy: 0.8950\n",
      "Epoch 127/130\n",
      "4041/4041 [==============================] - 3s 754us/step - loss: 0.2661 - accuracy: 0.8965 - val_loss: 0.2774 - val_accuracy: 0.8929\n",
      "Epoch 128/130\n",
      "4041/4041 [==============================] - 3s 745us/step - loss: 0.2666 - accuracy: 0.8955 - val_loss: 0.2756 - val_accuracy: 0.8932\n",
      "Epoch 129/130\n",
      "4041/4041 [==============================] - 3s 748us/step - loss: 0.2666 - accuracy: 0.8961 - val_loss: 0.2697 - val_accuracy: 0.8950\n",
      "Epoch 130/130\n",
      "4041/4041 [==============================] - 3s 738us/step - loss: 0.2667 - accuracy: 0.8955 - val_loss: 0.2857 - val_accuracy: 0.8927\n"
     ]
    },
    {
     "name": "stderr",
     "output_type": "stream",
     "text": [
      "wandb: Network error (SSLError), entering retry loop.\n"
     ]
    },
    {
     "data": {
      "application/vnd.jupyter.widget-view+json": {
       "model_id": "",
       "version_major": 2,
       "version_minor": 0
      },
      "text/plain": [
       "VBox(children=(Label(value='2.589 MB of 2.589 MB uploaded (0.150 MB deduped)\\r'), FloatProgress(value=1.0, max…"
      ]
     },
     "metadata": {},
     "output_type": "display_data"
    },
    {
     "data": {
      "text/html": [
       "W&B sync reduced upload amount by 5.6%"
      ],
      "text/plain": [
       "<IPython.core.display.HTML object>"
      ]
     },
     "metadata": {},
     "output_type": "display_data"
    },
    {
     "data": {
      "text/html": [
       "<style>\n",
       "    table.wandb td:nth-child(1) { padding: 0 10px; text-align: left ; width: auto;} td:nth-child(2) {text-align: left ; width: 100%}\n",
       "    .wandb-row { display: flex; flex-direction: row; flex-wrap: wrap; justify-content: flex-start; width: 100% }\n",
       "    .wandb-col { display: flex; flex-direction: column; flex-basis: 100%; flex: 1; padding: 10px; }\n",
       "    </style>\n",
       "<div class=\"wandb-row\"><div class=\"wandb-col\"><h3>Run history:</h3><br/><table class=\"wandb\"><tr><td>accuracy</td><td>▁▅▆▆▇▇▇▇▇▇▇▇▇▇▇▇▇▇▇▇▇▇██████████████████</td></tr><tr><td>epoch</td><td>▁▁▁▁▂▂▂▂▂▃▃▃▃▃▃▄▄▄▄▄▅▅▅▅▅▅▆▆▆▆▆▆▇▇▇▇▇███</td></tr><tr><td>loss</td><td>█▄▃▃▂▂▂▂▂▂▂▂▂▂▂▂▂▂▂▂▂▂▂▂▁▁▁▁▁▁▁▁▁▁▁▁▁▁▁▁</td></tr><tr><td>val_accuracy</td><td>▃▂▁▅▆▆▅▆▆▆▇▇▆▇▇▇▇▆▇▇▇▇▇▇▇█▇███▆▇▇███████</td></tr><tr><td>val_loss</td><td>██▇▄▃▃▃▄▃▅▃▂▂▂▃▂▂▂▃▂▂▂▂▃▂▁▂▂▂▂▃▂▂▁▁▂▁▂▁▂</td></tr></table><br/></div><div class=\"wandb-col\"><h3>Run summary:</h3><br/><table class=\"wandb\"><tr><td>accuracy</td><td>0.89549</td></tr><tr><td>best_epoch</td><td>125</td></tr><tr><td>best_val_loss</td><td>0.26759</td></tr><tr><td>epoch</td><td>129</td></tr><tr><td>loss</td><td>0.26672</td></tr><tr><td>val_accuracy</td><td>0.89268</td></tr><tr><td>val_loss</td><td>0.28572</td></tr></table><br/></div></div>"
      ],
      "text/plain": [
       "<IPython.core.display.HTML object>"
      ]
     },
     "metadata": {},
     "output_type": "display_data"
    },
    {
     "data": {
      "text/html": [
       " View run <strong style=\"color:#cdcd00\">crisp-sweep-3</strong> at: <a href='https://wandb.ai/anzanzio/ep-em%20DNN/runs/ybgii4so' target=\"_blank\">https://wandb.ai/anzanzio/ep-em%20DNN/runs/ybgii4so</a><br/> View project at: <a href='https://wandb.ai/anzanzio/ep-em%20DNN' target=\"_blank\">https://wandb.ai/anzanzio/ep-em%20DNN</a><br/>Synced 6 W&B file(s), 1 media file(s), 80 artifact file(s) and 1 other file(s)"
      ],
      "text/plain": [
       "<IPython.core.display.HTML object>"
      ]
     },
     "metadata": {},
     "output_type": "display_data"
    },
    {
     "data": {
      "text/html": [
       "Find logs at: <code>./wandb/run-20240815_073923-ybgii4so/logs</code>"
      ],
      "text/plain": [
       "<IPython.core.display.HTML object>"
      ]
     },
     "metadata": {},
     "output_type": "display_data"
    },
    {
     "data": {
      "text/html": [
       "The new W&B backend becomes opt-out in version 0.18.0; try it out with `wandb.require(\"core\")`! See https://wandb.me/wandb-core for more information."
      ],
      "text/plain": [
       "<IPython.core.display.HTML object>"
      ]
     },
     "metadata": {},
     "output_type": "display_data"
    },
    {
     "name": "stderr",
     "output_type": "stream",
     "text": [
      "\u001b[34m\u001b[1mwandb\u001b[0m: Agent Starting Run: q99hhkv5 with config:\n",
      "\u001b[34m\u001b[1mwandb\u001b[0m: \tbatch_size: 21\n",
      "\u001b[34m\u001b[1mwandb\u001b[0m: \tepochs: 120\n",
      "\u001b[34m\u001b[1mwandb\u001b[0m: \tlayers: 20\n",
      "\u001b[34m\u001b[1mwandb\u001b[0m: \tlearning_rate: 0.0009928897346163778\n",
      "\u001b[34m\u001b[1mwandb\u001b[0m: \tneurons: 26\n",
      "\u001b[34m\u001b[1mwandb\u001b[0m: \toptimizer: adam\n"
     ]
    },
    {
     "data": {
      "text/html": [
       "Tracking run with wandb version 0.17.6"
      ],
      "text/plain": [
       "<IPython.core.display.HTML object>"
      ]
     },
     "metadata": {},
     "output_type": "display_data"
    },
    {
     "data": {
      "text/html": [
       "Run data is saved locally in <code>/home/anza-tshilidzi/Desktop/Masters_material/e+ e- study/wandb/run-20240815_074858-q99hhkv5</code>"
      ],
      "text/plain": [
       "<IPython.core.display.HTML object>"
      ]
     },
     "metadata": {},
     "output_type": "display_data"
    },
    {
     "data": {
      "text/html": [
       "Syncing run <strong><a href='https://wandb.ai/anzanzio/ep-em%20DNN/runs/q99hhkv5' target=\"_blank\">rich-sweep-4</a></strong> to <a href='https://wandb.ai/anzanzio/ep-em%20DNN' target=\"_blank\">Weights & Biases</a> (<a href='https://wandb.me/run' target=\"_blank\">docs</a>)<br/>Sweep page: <a href='https://wandb.ai/anzanzio/ep-em%20DNN/sweeps/lg5h93ch' target=\"_blank\">https://wandb.ai/anzanzio/ep-em%20DNN/sweeps/lg5h93ch</a>"
      ],
      "text/plain": [
       "<IPython.core.display.HTML object>"
      ]
     },
     "metadata": {},
     "output_type": "display_data"
    },
    {
     "data": {
      "text/html": [
       " View project at <a href='https://wandb.ai/anzanzio/ep-em%20DNN' target=\"_blank\">https://wandb.ai/anzanzio/ep-em%20DNN</a>"
      ],
      "text/plain": [
       "<IPython.core.display.HTML object>"
      ]
     },
     "metadata": {},
     "output_type": "display_data"
    },
    {
     "data": {
      "text/html": [
       " View sweep at <a href='https://wandb.ai/anzanzio/ep-em%20DNN/sweeps/lg5h93ch' target=\"_blank\">https://wandb.ai/anzanzio/ep-em%20DNN/sweeps/lg5h93ch</a>"
      ],
      "text/plain": [
       "<IPython.core.display.HTML object>"
      ]
     },
     "metadata": {},
     "output_type": "display_data"
    },
    {
     "data": {
      "text/html": [
       " View run at <a href='https://wandb.ai/anzanzio/ep-em%20DNN/runs/q99hhkv5' target=\"_blank\">https://wandb.ai/anzanzio/ep-em%20DNN/runs/q99hhkv5</a>"
      ],
      "text/plain": [
       "<IPython.core.display.HTML object>"
      ]
     },
     "metadata": {},
     "output_type": "display_data"
    },
    {
     "name": "stdout",
     "output_type": "stream",
     "text": [
      "Epoch 1/120\n",
      "4915/5003 [============================>.] - ETA: 0s - loss: 0.6062 - accuracy: 0.7254INFO:tensorflow:Assets written to: /home/anza-tshilidzi/Desktop/Masters_material/e+ e- study/wandb/run-20240815_074858-q99hhkv5/files/model-best/assets\n"
     ]
    },
    {
     "name": "stderr",
     "output_type": "stream",
     "text": [
      "\u001b[34m\u001b[1mwandb\u001b[0m: Adding directory to artifact (/home/anza-tshilidzi/Desktop/Masters_material/e+ e- study/wandb/run-20240815_074858-q99hhkv5/files/model-best)... Done. 0.0s\n"
     ]
    },
    {
     "name": "stdout",
     "output_type": "stream",
     "text": [
      "5003/5003 [==============================] - 5s 888us/step - loss: 0.6038 - accuracy: 0.7269 - val_loss: 0.4621 - val_accuracy: 0.8109\n",
      "Epoch 2/120\n",
      "4960/5003 [============================>.] - ETA: 0s - loss: 0.4730 - accuracy: 0.8116INFO:tensorflow:Assets written to: /home/anza-tshilidzi/Desktop/Masters_material/e+ e- study/wandb/run-20240815_074858-q99hhkv5/files/model-best/assets\n"
     ]
    },
    {
     "name": "stderr",
     "output_type": "stream",
     "text": [
      "\u001b[34m\u001b[1mwandb\u001b[0m: Adding directory to artifact (/home/anza-tshilidzi/Desktop/Masters_material/e+ e- study/wandb/run-20240815_074858-q99hhkv5/files/model-best)... Done. 0.0s\n"
     ]
    },
    {
     "name": "stdout",
     "output_type": "stream",
     "text": [
      "5003/5003 [==============================] - 4s 876us/step - loss: 0.4729 - accuracy: 0.8117 - val_loss: 0.4325 - val_accuracy: 0.8237\n",
      "Epoch 3/120\n",
      "4979/5003 [============================>.] - ETA: 0s - loss: 0.4405 - accuracy: 0.8336INFO:tensorflow:Assets written to: /home/anza-tshilidzi/Desktop/Masters_material/e+ e- study/wandb/run-20240815_074858-q99hhkv5/files/model-best/assets\n"
     ]
    },
    {
     "name": "stderr",
     "output_type": "stream",
     "text": [
      "\u001b[34m\u001b[1mwandb\u001b[0m: Adding directory to artifact (/home/anza-tshilidzi/Desktop/Masters_material/e+ e- study/wandb/run-20240815_074858-q99hhkv5/files/model-best)... Done. 0.0s\n"
     ]
    },
    {
     "name": "stdout",
     "output_type": "stream",
     "text": [
      "5003/5003 [==============================] - 5s 988us/step - loss: 0.4407 - accuracy: 0.8336 - val_loss: 0.3915 - val_accuracy: 0.8587\n",
      "Epoch 4/120\n",
      "5003/5003 [==============================] - 4s 723us/step - loss: 0.4105 - accuracy: 0.8473 - val_loss: 0.4559 - val_accuracy: 0.8258\n",
      "Epoch 5/120\n",
      "4948/5003 [============================>.] - ETA: 0s - loss: 0.3871 - accuracy: 0.8547INFO:tensorflow:Assets written to: /home/anza-tshilidzi/Desktop/Masters_material/e+ e- study/wandb/run-20240815_074858-q99hhkv5/files/model-best/assets\n"
     ]
    },
    {
     "name": "stderr",
     "output_type": "stream",
     "text": [
      "\u001b[34m\u001b[1mwandb\u001b[0m: Adding directory to artifact (/home/anza-tshilidzi/Desktop/Masters_material/e+ e- study/wandb/run-20240815_074858-q99hhkv5/files/model-best)... Done. 0.0s\n"
     ]
    },
    {
     "name": "stdout",
     "output_type": "stream",
     "text": [
      "5003/5003 [==============================] - 4s 890us/step - loss: 0.3874 - accuracy: 0.8545 - val_loss: 0.3658 - val_accuracy: 0.8650\n",
      "Epoch 6/120\n",
      "4937/5003 [============================>.] - ETA: 0s - loss: 0.3638 - accuracy: 0.8627INFO:tensorflow:Assets written to: /home/anza-tshilidzi/Desktop/Masters_material/e+ e- study/wandb/run-20240815_074858-q99hhkv5/files/model-best/assets\n"
     ]
    },
    {
     "name": "stderr",
     "output_type": "stream",
     "text": [
      "\u001b[34m\u001b[1mwandb\u001b[0m: Adding directory to artifact (/home/anza-tshilidzi/Desktop/Masters_material/e+ e- study/wandb/run-20240815_074858-q99hhkv5/files/model-best)... Done. 0.0s\n"
     ]
    },
    {
     "name": "stdout",
     "output_type": "stream",
     "text": [
      "5003/5003 [==============================] - 4s 878us/step - loss: 0.3637 - accuracy: 0.8629 - val_loss: 0.3584 - val_accuracy: 0.8675\n",
      "Epoch 7/120\n",
      "4984/5003 [============================>.] - ETA: 0s - loss: 0.3415 - accuracy: 0.8710INFO:tensorflow:Assets written to: /home/anza-tshilidzi/Desktop/Masters_material/e+ e- study/wandb/run-20240815_074858-q99hhkv5/files/model-best/assets\n"
     ]
    },
    {
     "name": "stderr",
     "output_type": "stream",
     "text": [
      "\u001b[34m\u001b[1mwandb\u001b[0m: Adding directory to artifact (/home/anza-tshilidzi/Desktop/Masters_material/e+ e- study/wandb/run-20240815_074858-q99hhkv5/files/model-best)... Done. 0.0s\n"
     ]
    },
    {
     "name": "stdout",
     "output_type": "stream",
     "text": [
      "5003/5003 [==============================] - 4s 881us/step - loss: 0.3415 - accuracy: 0.8710 - val_loss: 0.3461 - val_accuracy: 0.8636\n",
      "Epoch 8/120\n",
      "4975/5003 [============================>.] - ETA: 0s - loss: 0.3312 - accuracy: 0.8734INFO:tensorflow:Assets written to: /home/anza-tshilidzi/Desktop/Masters_material/e+ e- study/wandb/run-20240815_074858-q99hhkv5/files/model-best/assets\n"
     ]
    },
    {
     "name": "stderr",
     "output_type": "stream",
     "text": [
      "\u001b[34m\u001b[1mwandb\u001b[0m: Adding directory to artifact (/home/anza-tshilidzi/Desktop/Masters_material/e+ e- study/wandb/run-20240815_074858-q99hhkv5/files/model-best)... Done. 0.0s\n"
     ]
    },
    {
     "name": "stdout",
     "output_type": "stream",
     "text": [
      "5003/5003 [==============================] - 4s 879us/step - loss: 0.3311 - accuracy: 0.8734 - val_loss: 0.3235 - val_accuracy: 0.8780\n",
      "Epoch 9/120\n",
      "4967/5003 [============================>.] - ETA: 0s - loss: 0.3217 - accuracy: 0.8762INFO:tensorflow:Assets written to: /home/anza-tshilidzi/Desktop/Masters_material/e+ e- study/wandb/run-20240815_074858-q99hhkv5/files/model-best/assets\n"
     ]
    },
    {
     "name": "stderr",
     "output_type": "stream",
     "text": [
      "\u001b[34m\u001b[1mwandb\u001b[0m: Adding directory to artifact (/home/anza-tshilidzi/Desktop/Masters_material/e+ e- study/wandb/run-20240815_074858-q99hhkv5/files/model-best)... Done. 0.0s\n"
     ]
    },
    {
     "name": "stdout",
     "output_type": "stream",
     "text": [
      "5003/5003 [==============================] - 4s 878us/step - loss: 0.3217 - accuracy: 0.8763 - val_loss: 0.3184 - val_accuracy: 0.8750\n",
      "Epoch 10/120\n",
      "4941/5003 [============================>.] - ETA: 0s - loss: 0.3175 - accuracy: 0.8773INFO:tensorflow:Assets written to: /home/anza-tshilidzi/Desktop/Masters_material/e+ e- study/wandb/run-20240815_074858-q99hhkv5/files/model-best/assets\n"
     ]
    },
    {
     "name": "stderr",
     "output_type": "stream",
     "text": [
      "\u001b[34m\u001b[1mwandb\u001b[0m: Adding directory to artifact (/home/anza-tshilidzi/Desktop/Masters_material/e+ e- study/wandb/run-20240815_074858-q99hhkv5/files/model-best)... Done. 0.0s\n"
     ]
    },
    {
     "name": "stdout",
     "output_type": "stream",
     "text": [
      "5003/5003 [==============================] - 4s 879us/step - loss: 0.3175 - accuracy: 0.8773 - val_loss: 0.3149 - val_accuracy: 0.8735\n",
      "Epoch 11/120\n",
      "4916/5003 [============================>.] - ETA: 0s - loss: 0.3129 - accuracy: 0.8790INFO:tensorflow:Assets written to: /home/anza-tshilidzi/Desktop/Masters_material/e+ e- study/wandb/run-20240815_074858-q99hhkv5/files/model-best/assets\n"
     ]
    },
    {
     "name": "stderr",
     "output_type": "stream",
     "text": [
      "\u001b[34m\u001b[1mwandb\u001b[0m: Adding directory to artifact (/home/anza-tshilidzi/Desktop/Masters_material/e+ e- study/wandb/run-20240815_074858-q99hhkv5/files/model-best)... Done. 0.0s\n"
     ]
    },
    {
     "name": "stdout",
     "output_type": "stream",
     "text": [
      "5003/5003 [==============================] - 4s 855us/step - loss: 0.3127 - accuracy: 0.8791 - val_loss: 0.3130 - val_accuracy: 0.8805\n",
      "Epoch 12/120\n",
      "5003/5003 [==============================] - 4s 728us/step - loss: 0.3099 - accuracy: 0.8804 - val_loss: 0.3523 - val_accuracy: 0.8685\n",
      "Epoch 13/120\n",
      "4995/5003 [============================>.] - ETA: 0s - loss: 0.3105 - accuracy: 0.8794INFO:tensorflow:Assets written to: /home/anza-tshilidzi/Desktop/Masters_material/e+ e- study/wandb/run-20240815_074858-q99hhkv5/files/model-best/assets\n"
     ]
    },
    {
     "name": "stderr",
     "output_type": "stream",
     "text": [
      "\u001b[34m\u001b[1mwandb\u001b[0m: Adding directory to artifact (/home/anza-tshilidzi/Desktop/Masters_material/e+ e- study/wandb/run-20240815_074858-q99hhkv5/files/model-best)... Done. 0.0s\n"
     ]
    },
    {
     "name": "stdout",
     "output_type": "stream",
     "text": [
      "5003/5003 [==============================] - 4s 866us/step - loss: 0.3106 - accuracy: 0.8793 - val_loss: 0.2984 - val_accuracy: 0.8829\n",
      "Epoch 14/120\n",
      "5003/5003 [==============================] - 4s 737us/step - loss: 0.3083 - accuracy: 0.8812 - val_loss: 0.3150 - val_accuracy: 0.8813\n",
      "Epoch 15/120\n",
      "5003/5003 [==============================] - 4s 726us/step - loss: 0.3084 - accuracy: 0.8816 - val_loss: 0.3033 - val_accuracy: 0.8825\n",
      "Epoch 16/120\n",
      "5003/5003 [==============================] - 4s 723us/step - loss: 0.3062 - accuracy: 0.8823 - val_loss: 0.3111 - val_accuracy: 0.8801\n",
      "Epoch 17/120\n",
      "4931/5003 [============================>.] - ETA: 0s - loss: 0.3060 - accuracy: 0.8824INFO:tensorflow:Assets written to: /home/anza-tshilidzi/Desktop/Masters_material/e+ e- study/wandb/run-20240815_074858-q99hhkv5/files/model-best/assets\n"
     ]
    },
    {
     "name": "stderr",
     "output_type": "stream",
     "text": [
      "\u001b[34m\u001b[1mwandb\u001b[0m: Adding directory to artifact (/home/anza-tshilidzi/Desktop/Masters_material/e+ e- study/wandb/run-20240815_074858-q99hhkv5/files/model-best)... Done. 0.0s\n"
     ]
    },
    {
     "name": "stdout",
     "output_type": "stream",
     "text": [
      "5003/5003 [==============================] - 4s 872us/step - loss: 0.3060 - accuracy: 0.8825 - val_loss: 0.2955 - val_accuracy: 0.8836\n",
      "Epoch 18/120\n",
      "5003/5003 [==============================] - 4s 737us/step - loss: 0.3045 - accuracy: 0.8831 - val_loss: 0.3048 - val_accuracy: 0.8812\n",
      "Epoch 19/120\n",
      "5003/5003 [==============================] - 4s 726us/step - loss: 0.3026 - accuracy: 0.8844 - val_loss: 0.2992 - val_accuracy: 0.8866\n",
      "Epoch 20/120\n",
      "5003/5003 [==============================] - 4s 726us/step - loss: 0.3023 - accuracy: 0.8847 - val_loss: 0.3081 - val_accuracy: 0.8862\n",
      "Epoch 21/120\n",
      "5003/5003 [==============================] - 4s 732us/step - loss: 0.3014 - accuracy: 0.8847 - val_loss: 0.2966 - val_accuracy: 0.8855\n",
      "Epoch 22/120\n",
      "5003/5003 [==============================] - 4s 729us/step - loss: 0.2985 - accuracy: 0.8857 - val_loss: 0.3079 - val_accuracy: 0.8788\n",
      "Epoch 23/120\n",
      "4988/5003 [============================>.] - ETA: 0s - loss: 0.2999 - accuracy: 0.8854INFO:tensorflow:Assets written to: /home/anza-tshilidzi/Desktop/Masters_material/e+ e- study/wandb/run-20240815_074858-q99hhkv5/files/model-best/assets\n"
     ]
    },
    {
     "name": "stderr",
     "output_type": "stream",
     "text": [
      "\u001b[34m\u001b[1mwandb\u001b[0m: Adding directory to artifact (/home/anza-tshilidzi/Desktop/Masters_material/e+ e- study/wandb/run-20240815_074858-q99hhkv5/files/model-best)... Done. 0.0s\n"
     ]
    },
    {
     "name": "stdout",
     "output_type": "stream",
     "text": [
      "5003/5003 [==============================] - 4s 870us/step - loss: 0.2998 - accuracy: 0.8854 - val_loss: 0.2905 - val_accuracy: 0.8871\n",
      "Epoch 24/120\n",
      "5003/5003 [==============================] - 4s 731us/step - loss: 0.2987 - accuracy: 0.8855 - val_loss: 0.2937 - val_accuracy: 0.8879\n",
      "Epoch 25/120\n",
      "5003/5003 [==============================] - 4s 729us/step - loss: 0.2980 - accuracy: 0.8851 - val_loss: 0.2916 - val_accuracy: 0.8862\n",
      "Epoch 26/120\n",
      "5003/5003 [==============================] - 4s 724us/step - loss: 0.2997 - accuracy: 0.8852 - val_loss: 0.3080 - val_accuracy: 0.8804\n",
      "Epoch 27/120\n",
      "5003/5003 [==============================] - 4s 740us/step - loss: 0.2971 - accuracy: 0.8856 - val_loss: 0.2976 - val_accuracy: 0.8836\n",
      "Epoch 28/120\n",
      "5003/5003 [==============================] - 4s 725us/step - loss: 0.2980 - accuracy: 0.8857 - val_loss: 0.2912 - val_accuracy: 0.8866\n",
      "Epoch 29/120\n",
      "5003/5003 [==============================] - 4s 733us/step - loss: 0.2962 - accuracy: 0.8862 - val_loss: 0.2992 - val_accuracy: 0.8847\n",
      "Epoch 30/120\n",
      "5003/5003 [==============================] - 4s 737us/step - loss: 0.2967 - accuracy: 0.8860 - val_loss: 0.3037 - val_accuracy: 0.8874\n",
      "Epoch 31/120\n",
      "4950/5003 [============================>.] - ETA: 0s - loss: 0.2973 - accuracy: 0.8862INFO:tensorflow:Assets written to: /home/anza-tshilidzi/Desktop/Masters_material/e+ e- study/wandb/run-20240815_074858-q99hhkv5/files/model-best/assets\n"
     ]
    },
    {
     "name": "stderr",
     "output_type": "stream",
     "text": [
      "\u001b[34m\u001b[1mwandb\u001b[0m: Adding directory to artifact (/home/anza-tshilidzi/Desktop/Masters_material/e+ e- study/wandb/run-20240815_074858-q99hhkv5/files/model-best)... Done. 0.0s\n"
     ]
    },
    {
     "name": "stdout",
     "output_type": "stream",
     "text": [
      "5003/5003 [==============================] - 4s 883us/step - loss: 0.2975 - accuracy: 0.8860 - val_loss: 0.2872 - val_accuracy: 0.8887\n",
      "Epoch 32/120\n",
      "5003/5003 [==============================] - 4s 725us/step - loss: 0.2948 - accuracy: 0.8868 - val_loss: 0.2901 - val_accuracy: 0.8859\n",
      "Epoch 33/120\n",
      "5003/5003 [==============================] - 4s 726us/step - loss: 0.2952 - accuracy: 0.8866 - val_loss: 0.2985 - val_accuracy: 0.8834\n",
      "Epoch 34/120\n",
      "5003/5003 [==============================] - 4s 727us/step - loss: 0.2938 - accuracy: 0.8872 - val_loss: 0.2954 - val_accuracy: 0.8864\n",
      "Epoch 35/120\n",
      "4970/5003 [============================>.] - ETA: 0s - loss: 0.2934 - accuracy: 0.8871INFO:tensorflow:Assets written to: /home/anza-tshilidzi/Desktop/Masters_material/e+ e- study/wandb/run-20240815_074858-q99hhkv5/files/model-best/assets\n"
     ]
    },
    {
     "name": "stderr",
     "output_type": "stream",
     "text": [
      "\u001b[34m\u001b[1mwandb\u001b[0m: Adding directory to artifact (/home/anza-tshilidzi/Desktop/Masters_material/e+ e- study/wandb/run-20240815_074858-q99hhkv5/files/model-best)... Done. 0.0s\n"
     ]
    },
    {
     "name": "stdout",
     "output_type": "stream",
     "text": [
      "5003/5003 [==============================] - 4s 877us/step - loss: 0.2934 - accuracy: 0.8871 - val_loss: 0.2862 - val_accuracy: 0.8890\n",
      "Epoch 36/120\n",
      "5003/5003 [==============================] - 4s 722us/step - loss: 0.2937 - accuracy: 0.8869 - val_loss: 0.2879 - val_accuracy: 0.8876\n",
      "Epoch 37/120\n",
      "5000/5003 [============================>.] - ETA: 0s - loss: 0.2927 - accuracy: 0.8876INFO:tensorflow:Assets written to: /home/anza-tshilidzi/Desktop/Masters_material/e+ e- study/wandb/run-20240815_074858-q99hhkv5/files/model-best/assets\n"
     ]
    },
    {
     "name": "stderr",
     "output_type": "stream",
     "text": [
      "\u001b[34m\u001b[1mwandb\u001b[0m: Adding directory to artifact (/home/anza-tshilidzi/Desktop/Masters_material/e+ e- study/wandb/run-20240815_074858-q99hhkv5/files/model-best)... Done. 0.0s\n"
     ]
    },
    {
     "name": "stdout",
     "output_type": "stream",
     "text": [
      "5003/5003 [==============================] - 4s 872us/step - loss: 0.2928 - accuracy: 0.8875 - val_loss: 0.2853 - val_accuracy: 0.8895\n",
      "Epoch 38/120\n",
      "4998/5003 [============================>.] - ETA: 0s - loss: 0.2907 - accuracy: 0.8872INFO:tensorflow:Assets written to: /home/anza-tshilidzi/Desktop/Masters_material/e+ e- study/wandb/run-20240815_074858-q99hhkv5/files/model-best/assets\n"
     ]
    },
    {
     "name": "stderr",
     "output_type": "stream",
     "text": [
      "\u001b[34m\u001b[1mwandb\u001b[0m: Adding directory to artifact (/home/anza-tshilidzi/Desktop/Masters_material/e+ e- study/wandb/run-20240815_074858-q99hhkv5/files/model-best)... Done. 0.0s\n"
     ]
    },
    {
     "name": "stdout",
     "output_type": "stream",
     "text": [
      "5003/5003 [==============================] - 5s 962us/step - loss: 0.2906 - accuracy: 0.8873 - val_loss: 0.2839 - val_accuracy: 0.8891\n",
      "Epoch 39/120\n",
      "5003/5003 [==============================] - 4s 758us/step - loss: 0.2906 - accuracy: 0.8880 - val_loss: 0.3168 - val_accuracy: 0.8788\n",
      "Epoch 40/120\n",
      "5003/5003 [==============================] - 4s 735us/step - loss: 0.2915 - accuracy: 0.8876 - val_loss: 0.2988 - val_accuracy: 0.8842\n",
      "Epoch 41/120\n",
      "5003/5003 [==============================] - 4s 726us/step - loss: 0.2901 - accuracy: 0.8880 - val_loss: 0.2851 - val_accuracy: 0.8878\n",
      "Epoch 42/120\n",
      "5003/5003 [==============================] - 4s 724us/step - loss: 0.2901 - accuracy: 0.8877 - val_loss: 0.2928 - val_accuracy: 0.8856\n",
      "Epoch 43/120\n",
      "5003/5003 [==============================] - 4s 747us/step - loss: 0.2893 - accuracy: 0.8883 - val_loss: 0.2847 - val_accuracy: 0.8873\n",
      "Epoch 44/120\n",
      "5003/5003 [==============================] - 4s 723us/step - loss: 0.2901 - accuracy: 0.8884 - val_loss: 0.2853 - val_accuracy: 0.8881\n",
      "Epoch 45/120\n",
      "5003/5003 [==============================] - 4s 726us/step - loss: 0.2909 - accuracy: 0.8876 - val_loss: 0.2860 - val_accuracy: 0.8884\n",
      "Epoch 46/120\n",
      "5003/5003 [==============================] - 4s 721us/step - loss: 0.2894 - accuracy: 0.8884 - val_loss: 0.2930 - val_accuracy: 0.8851\n",
      "Epoch 47/120\n",
      "5003/5003 [==============================] - 4s 727us/step - loss: 0.2884 - accuracy: 0.8879 - val_loss: 0.2844 - val_accuracy: 0.8897\n",
      "Epoch 48/120\n",
      "5003/5003 [==============================] - 4s 737us/step - loss: 0.2894 - accuracy: 0.8880 - val_loss: 0.2933 - val_accuracy: 0.8885\n",
      "Epoch 49/120\n",
      "4996/5003 [============================>.] - ETA: 0s - loss: 0.2882 - accuracy: 0.8885INFO:tensorflow:Assets written to: /home/anza-tshilidzi/Desktop/Masters_material/e+ e- study/wandb/run-20240815_074858-q99hhkv5/files/model-best/assets\n"
     ]
    },
    {
     "name": "stderr",
     "output_type": "stream",
     "text": [
      "\u001b[34m\u001b[1mwandb\u001b[0m: Adding directory to artifact (/home/anza-tshilidzi/Desktop/Masters_material/e+ e- study/wandb/run-20240815_074858-q99hhkv5/files/model-best)... Done. 0.0s\n"
     ]
    },
    {
     "name": "stdout",
     "output_type": "stream",
     "text": [
      "5003/5003 [==============================] - 5s 961us/step - loss: 0.2881 - accuracy: 0.8885 - val_loss: 0.2838 - val_accuracy: 0.8889\n",
      "Epoch 50/120\n",
      "5003/5003 [==============================] - 4s 736us/step - loss: 0.2894 - accuracy: 0.8877 - val_loss: 0.3118 - val_accuracy: 0.8783\n",
      "Epoch 51/120\n",
      "5003/5003 [==============================] - 4s 717us/step - loss: 0.2885 - accuracy: 0.8887 - val_loss: 0.2943 - val_accuracy: 0.8845\n",
      "Epoch 52/120\n",
      "5003/5003 [==============================] - 4s 737us/step - loss: 0.2878 - accuracy: 0.8889 - val_loss: 0.2993 - val_accuracy: 0.8826\n",
      "Epoch 53/120\n",
      "5003/5003 [==============================] - 4s 720us/step - loss: 0.2874 - accuracy: 0.8894 - val_loss: 0.2851 - val_accuracy: 0.8897\n",
      "Epoch 54/120\n",
      "5003/5003 [==============================] - 4s 728us/step - loss: 0.2862 - accuracy: 0.8889 - val_loss: 0.2889 - val_accuracy: 0.8893\n",
      "Epoch 55/120\n",
      "5000/5003 [============================>.] - ETA: 0s - loss: 0.2861 - accuracy: 0.8896INFO:tensorflow:Assets written to: /home/anza-tshilidzi/Desktop/Masters_material/e+ e- study/wandb/run-20240815_074858-q99hhkv5/files/model-best/assets\n"
     ]
    },
    {
     "name": "stderr",
     "output_type": "stream",
     "text": [
      "\u001b[34m\u001b[1mwandb\u001b[0m: Adding directory to artifact (/home/anza-tshilidzi/Desktop/Masters_material/e+ e- study/wandb/run-20240815_074858-q99hhkv5/files/model-best)... Done. 0.0s\n"
     ]
    },
    {
     "name": "stdout",
     "output_type": "stream",
     "text": [
      "5003/5003 [==============================] - 4s 882us/step - loss: 0.2861 - accuracy: 0.8897 - val_loss: 0.2786 - val_accuracy: 0.8905\n",
      "Epoch 56/120\n",
      "5003/5003 [==============================] - 4s 728us/step - loss: 0.2861 - accuracy: 0.8894 - val_loss: 0.2835 - val_accuracy: 0.8888\n",
      "Epoch 57/120\n",
      "5003/5003 [==============================] - 4s 716us/step - loss: 0.2848 - accuracy: 0.8902 - val_loss: 0.2824 - val_accuracy: 0.8899\n",
      "Epoch 58/120\n",
      "5003/5003 [==============================] - 4s 717us/step - loss: 0.2847 - accuracy: 0.8897 - val_loss: 0.2790 - val_accuracy: 0.8912\n",
      "Epoch 59/120\n",
      "5003/5003 [==============================] - 4s 733us/step - loss: 0.2834 - accuracy: 0.8904 - val_loss: 0.2868 - val_accuracy: 0.8891\n",
      "Epoch 60/120\n",
      "5003/5003 [==============================] - 4s 749us/step - loss: 0.2829 - accuracy: 0.8911 - val_loss: 0.2851 - val_accuracy: 0.8889\n",
      "Epoch 61/120\n",
      "5003/5003 [==============================] - 4s 722us/step - loss: 0.2820 - accuracy: 0.8910 - val_loss: 0.2850 - val_accuracy: 0.8897\n",
      "Epoch 62/120\n",
      "4927/5003 [============================>.] - ETA: 0s - loss: 0.2832 - accuracy: 0.8902INFO:tensorflow:Assets written to: /home/anza-tshilidzi/Desktop/Masters_material/e+ e- study/wandb/run-20240815_074858-q99hhkv5/files/model-best/assets\n"
     ]
    },
    {
     "name": "stderr",
     "output_type": "stream",
     "text": [
      "\u001b[34m\u001b[1mwandb\u001b[0m: Adding directory to artifact (/home/anza-tshilidzi/Desktop/Masters_material/e+ e- study/wandb/run-20240815_074858-q99hhkv5/files/model-best)... Done. 0.0s\n"
     ]
    },
    {
     "name": "stdout",
     "output_type": "stream",
     "text": [
      "5003/5003 [==============================] - 5s 913us/step - loss: 0.2830 - accuracy: 0.8903 - val_loss: 0.2780 - val_accuracy: 0.8919\n",
      "Epoch 63/120\n",
      "5003/5003 [==============================] - 4s 727us/step - loss: 0.2812 - accuracy: 0.8912 - val_loss: 0.2909 - val_accuracy: 0.8872\n",
      "Epoch 64/120\n",
      "5003/5003 [==============================] - 4s 733us/step - loss: 0.2817 - accuracy: 0.8908 - val_loss: 0.3097 - val_accuracy: 0.8796\n",
      "Epoch 65/120\n",
      "5003/5003 [==============================] - 4s 732us/step - loss: 0.2803 - accuracy: 0.8915 - val_loss: 0.3111 - val_accuracy: 0.8797\n",
      "Epoch 66/120\n",
      "4965/5003 [============================>.] - ETA: 0s - loss: 0.2798 - accuracy: 0.8917INFO:tensorflow:Assets written to: /home/anza-tshilidzi/Desktop/Masters_material/e+ e- study/wandb/run-20240815_074858-q99hhkv5/files/model-best/assets\n"
     ]
    },
    {
     "name": "stderr",
     "output_type": "stream",
     "text": [
      "\u001b[34m\u001b[1mwandb\u001b[0m: Adding directory to artifact (/home/anza-tshilidzi/Desktop/Masters_material/e+ e- study/wandb/run-20240815_074858-q99hhkv5/files/model-best)... Done. 0.0s\n"
     ]
    },
    {
     "name": "stdout",
     "output_type": "stream",
     "text": [
      "5003/5003 [==============================] - 4s 876us/step - loss: 0.2799 - accuracy: 0.8917 - val_loss: 0.2746 - val_accuracy: 0.8924\n",
      "Epoch 67/120\n",
      "5003/5003 [==============================] - 4s 732us/step - loss: 0.2795 - accuracy: 0.8922 - val_loss: 0.2902 - val_accuracy: 0.8858\n",
      "Epoch 68/120\n",
      "5003/5003 [==============================] - 4s 728us/step - loss: 0.2784 - accuracy: 0.8915 - val_loss: 0.2782 - val_accuracy: 0.8902\n",
      "Epoch 69/120\n",
      "5003/5003 [==============================] - 4s 745us/step - loss: 0.2781 - accuracy: 0.8914 - val_loss: 0.2754 - val_accuracy: 0.8913\n",
      "Epoch 70/120\n",
      "5003/5003 [==============================] - 4s 727us/step - loss: 0.2777 - accuracy: 0.8924 - val_loss: 0.2751 - val_accuracy: 0.8921\n",
      "Epoch 71/120\n",
      "5003/5003 [==============================] - 4s 727us/step - loss: 0.2772 - accuracy: 0.8922 - val_loss: 0.2813 - val_accuracy: 0.8888\n",
      "Epoch 72/120\n",
      "5003/5003 [==============================] - 4s 727us/step - loss: 0.2767 - accuracy: 0.8925 - val_loss: 0.2781 - val_accuracy: 0.8948\n",
      "Epoch 73/120\n",
      "5003/5003 [==============================] - 4s 735us/step - loss: 0.2768 - accuracy: 0.8928 - val_loss: 0.2770 - val_accuracy: 0.8907\n",
      "Epoch 74/120\n",
      "5003/5003 [==============================] - 4s 721us/step - loss: 0.2758 - accuracy: 0.8926 - val_loss: 0.2776 - val_accuracy: 0.8906\n",
      "Epoch 75/120\n",
      "5003/5003 [==============================] - 4s 728us/step - loss: 0.2764 - accuracy: 0.8928 - val_loss: 0.2829 - val_accuracy: 0.8881\n",
      "Epoch 76/120\n",
      "5003/5003 [==============================] - 4s 731us/step - loss: 0.2752 - accuracy: 0.8933 - val_loss: 0.2879 - val_accuracy: 0.8923\n",
      "Epoch 77/120\n",
      "5003/5003 [==============================] - 4s 748us/step - loss: 0.2745 - accuracy: 0.8930 - val_loss: 0.2801 - val_accuracy: 0.8901\n",
      "Epoch 78/120\n",
      "4953/5003 [============================>.] - ETA: 0s - loss: 0.2732 - accuracy: 0.8947INFO:tensorflow:Assets written to: /home/anza-tshilidzi/Desktop/Masters_material/e+ e- study/wandb/run-20240815_074858-q99hhkv5/files/model-best/assets\n"
     ]
    },
    {
     "name": "stderr",
     "output_type": "stream",
     "text": [
      "\u001b[34m\u001b[1mwandb\u001b[0m: Adding directory to artifact (/home/anza-tshilidzi/Desktop/Masters_material/e+ e- study/wandb/run-20240815_074858-q99hhkv5/files/model-best)... Done. 0.0s\n"
     ]
    },
    {
     "name": "stdout",
     "output_type": "stream",
     "text": [
      "5003/5003 [==============================] - 4s 868us/step - loss: 0.2734 - accuracy: 0.8947 - val_loss: 0.2738 - val_accuracy: 0.8920\n",
      "Epoch 79/120\n",
      "5003/5003 [==============================] - 4s 727us/step - loss: 0.2728 - accuracy: 0.8948 - val_loss: 0.2754 - val_accuracy: 0.8918\n",
      "Epoch 80/120\n",
      "4972/5003 [============================>.] - ETA: 0s - loss: 0.2731 - accuracy: 0.8938INFO:tensorflow:Assets written to: /home/anza-tshilidzi/Desktop/Masters_material/e+ e- study/wandb/run-20240815_074858-q99hhkv5/files/model-best/assets\n"
     ]
    },
    {
     "name": "stderr",
     "output_type": "stream",
     "text": [
      "\u001b[34m\u001b[1mwandb\u001b[0m: Adding directory to artifact (/home/anza-tshilidzi/Desktop/Masters_material/e+ e- study/wandb/run-20240815_074858-q99hhkv5/files/model-best)... Done. 0.0s\n"
     ]
    },
    {
     "name": "stdout",
     "output_type": "stream",
     "text": [
      "5003/5003 [==============================] - 4s 879us/step - loss: 0.2734 - accuracy: 0.8937 - val_loss: 0.2714 - val_accuracy: 0.8947\n",
      "Epoch 81/120\n",
      "5003/5003 [==============================] - 4s 743us/step - loss: 0.2721 - accuracy: 0.8943 - val_loss: 0.2718 - val_accuracy: 0.8941\n",
      "Epoch 82/120\n",
      "5003/5003 [==============================] - 4s 728us/step - loss: 0.2726 - accuracy: 0.8941 - val_loss: 0.2733 - val_accuracy: 0.8939\n",
      "Epoch 83/120\n",
      "5003/5003 [==============================] - 4s 726us/step - loss: 0.2728 - accuracy: 0.8941 - val_loss: 0.2763 - val_accuracy: 0.8921\n",
      "Epoch 84/120\n",
      "5003/5003 [==============================] - 4s 723us/step - loss: 0.2728 - accuracy: 0.8941 - val_loss: 0.2728 - val_accuracy: 0.8932\n",
      "Epoch 85/120\n",
      "5003/5003 [==============================] - 4s 724us/step - loss: 0.2724 - accuracy: 0.8933 - val_loss: 0.2795 - val_accuracy: 0.8887\n",
      "Epoch 86/120\n",
      "5003/5003 [==============================] - 4s 731us/step - loss: 0.2739 - accuracy: 0.8933 - val_loss: 0.2817 - val_accuracy: 0.8929\n",
      "Epoch 87/120\n",
      "5003/5003 [==============================] - 4s 729us/step - loss: 0.2722 - accuracy: 0.8941 - val_loss: 0.2726 - val_accuracy: 0.8952\n",
      "Epoch 88/120\n",
      "5003/5003 [==============================] - 4s 727us/step - loss: 0.2726 - accuracy: 0.8944 - val_loss: 0.2744 - val_accuracy: 0.8909\n",
      "Epoch 89/120\n",
      "4916/5003 [============================>.] - ETA: 0s - loss: 0.2714 - accuracy: 0.8943INFO:tensorflow:Assets written to: /home/anza-tshilidzi/Desktop/Masters_material/e+ e- study/wandb/run-20240815_074858-q99hhkv5/files/model-best/assets\n"
     ]
    },
    {
     "name": "stderr",
     "output_type": "stream",
     "text": [
      "\u001b[34m\u001b[1mwandb\u001b[0m: Adding directory to artifact (/home/anza-tshilidzi/Desktop/Masters_material/e+ e- study/wandb/run-20240815_074858-q99hhkv5/files/model-best)... Done. 0.0s\n"
     ]
    },
    {
     "name": "stdout",
     "output_type": "stream",
     "text": [
      "5003/5003 [==============================] - 4s 868us/step - loss: 0.2715 - accuracy: 0.8943 - val_loss: 0.2702 - val_accuracy: 0.8938\n",
      "Epoch 90/120\n",
      "5003/5003 [==============================] - 4s 742us/step - loss: 0.2710 - accuracy: 0.8940 - val_loss: 0.2765 - val_accuracy: 0.8928\n",
      "Epoch 91/120\n",
      "5003/5003 [==============================] - 4s 727us/step - loss: 0.2719 - accuracy: 0.8941 - val_loss: 0.2705 - val_accuracy: 0.8939\n",
      "Epoch 92/120\n",
      "5003/5003 [==============================] - 4s 727us/step - loss: 0.2719 - accuracy: 0.8943 - val_loss: 0.2873 - val_accuracy: 0.8879\n",
      "Epoch 93/120\n",
      "5003/5003 [==============================] - 4s 723us/step - loss: 0.2715 - accuracy: 0.8941 - val_loss: 0.2910 - val_accuracy: 0.8853\n",
      "Epoch 94/120\n",
      "5003/5003 [==============================] - 4s 745us/step - loss: 0.2704 - accuracy: 0.8944 - val_loss: 0.2733 - val_accuracy: 0.8921\n",
      "Epoch 95/120\n",
      "5003/5003 [==============================] - 4s 727us/step - loss: 0.2706 - accuracy: 0.8943 - val_loss: 0.2742 - val_accuracy: 0.8922\n",
      "Epoch 96/120\n",
      "5003/5003 [==============================] - 4s 726us/step - loss: 0.2701 - accuracy: 0.8944 - val_loss: 0.2722 - val_accuracy: 0.8919\n",
      "Epoch 97/120\n",
      "4999/5003 [============================>.] - ETA: 0s - loss: 0.2704 - accuracy: 0.8942INFO:tensorflow:Assets written to: /home/anza-tshilidzi/Desktop/Masters_material/e+ e- study/wandb/run-20240815_074858-q99hhkv5/files/model-best/assets\n"
     ]
    },
    {
     "name": "stderr",
     "output_type": "stream",
     "text": [
      "\u001b[34m\u001b[1mwandb\u001b[0m: Adding directory to artifact (/home/anza-tshilidzi/Desktop/Masters_material/e+ e- study/wandb/run-20240815_074858-q99hhkv5/files/model-best)... Done. 0.0s\n"
     ]
    },
    {
     "name": "stdout",
     "output_type": "stream",
     "text": [
      "5003/5003 [==============================] - 4s 874us/step - loss: 0.2704 - accuracy: 0.8942 - val_loss: 0.2663 - val_accuracy: 0.8951\n",
      "Epoch 98/120\n",
      "5003/5003 [==============================] - 4s 745us/step - loss: 0.2704 - accuracy: 0.8944 - val_loss: 0.2749 - val_accuracy: 0.8909\n",
      "Epoch 99/120\n",
      "5003/5003 [==============================] - 4s 737us/step - loss: 0.2704 - accuracy: 0.8933 - val_loss: 0.2676 - val_accuracy: 0.8940\n",
      "Epoch 100/120\n",
      "5003/5003 [==============================] - 4s 728us/step - loss: 0.2695 - accuracy: 0.8946 - val_loss: 0.2723 - val_accuracy: 0.8919\n",
      "Epoch 101/120\n",
      "5003/5003 [==============================] - 4s 726us/step - loss: 0.2701 - accuracy: 0.8952 - val_loss: 0.2691 - val_accuracy: 0.8942\n",
      "Epoch 102/120\n",
      "4989/5003 [============================>.] - ETA: 0s - loss: 0.2697 - accuracy: 0.8941INFO:tensorflow:Assets written to: /home/anza-tshilidzi/Desktop/Masters_material/e+ e- study/wandb/run-20240815_074858-q99hhkv5/files/model-best/assets\n"
     ]
    },
    {
     "name": "stderr",
     "output_type": "stream",
     "text": [
      "\u001b[34m\u001b[1mwandb\u001b[0m: Adding directory to artifact (/home/anza-tshilidzi/Desktop/Masters_material/e+ e- study/wandb/run-20240815_074858-q99hhkv5/files/model-best)... Done. 0.0s\n"
     ]
    },
    {
     "name": "stdout",
     "output_type": "stream",
     "text": [
      "5003/5003 [==============================] - 4s 888us/step - loss: 0.2695 - accuracy: 0.8942 - val_loss: 0.2658 - val_accuracy: 0.8942\n",
      "Epoch 103/120\n",
      "5003/5003 [==============================] - 4s 741us/step - loss: 0.2704 - accuracy: 0.8944 - val_loss: 0.2698 - val_accuracy: 0.8936\n",
      "Epoch 104/120\n",
      "5003/5003 [==============================] - 4s 728us/step - loss: 0.2681 - accuracy: 0.8947 - val_loss: 0.2690 - val_accuracy: 0.8945\n",
      "Epoch 105/120\n",
      "5003/5003 [==============================] - 4s 727us/step - loss: 0.2687 - accuracy: 0.8955 - val_loss: 0.2813 - val_accuracy: 0.8922\n",
      "Epoch 106/120\n",
      "5003/5003 [==============================] - 4s 729us/step - loss: 0.2683 - accuracy: 0.8951 - val_loss: 0.2796 - val_accuracy: 0.8900\n",
      "Epoch 107/120\n",
      "5003/5003 [==============================] - 4s 741us/step - loss: 0.2687 - accuracy: 0.8948 - val_loss: 0.2739 - val_accuracy: 0.8924\n",
      "Epoch 108/120\n",
      "5003/5003 [==============================] - 4s 726us/step - loss: 0.2685 - accuracy: 0.8948 - val_loss: 0.2792 - val_accuracy: 0.8900\n",
      "Epoch 109/120\n",
      "5003/5003 [==============================] - 4s 731us/step - loss: 0.2681 - accuracy: 0.8951 - val_loss: 0.2861 - val_accuracy: 0.8874\n",
      "Epoch 110/120\n",
      "5003/5003 [==============================] - 4s 724us/step - loss: 0.2689 - accuracy: 0.8951 - val_loss: 0.2864 - val_accuracy: 0.8863\n",
      "Epoch 111/120\n",
      "5003/5003 [==============================] - 4s 742us/step - loss: 0.2683 - accuracy: 0.8946 - val_loss: 0.2770 - val_accuracy: 0.8920\n",
      "Epoch 112/120\n",
      "5003/5003 [==============================] - 4s 732us/step - loss: 0.2676 - accuracy: 0.8954 - val_loss: 0.2767 - val_accuracy: 0.8901\n",
      "Epoch 113/120\n",
      "5003/5003 [==============================] - 4s 726us/step - loss: 0.2677 - accuracy: 0.8946 - val_loss: 0.2692 - val_accuracy: 0.8945\n",
      "Epoch 114/120\n",
      "5003/5003 [==============================] - 4s 731us/step - loss: 0.2680 - accuracy: 0.8950 - val_loss: 0.2965 - val_accuracy: 0.8809\n",
      "Epoch 115/120\n",
      "5003/5003 [==============================] - 4s 731us/step - loss: 0.2671 - accuracy: 0.8954 - val_loss: 0.2829 - val_accuracy: 0.8929\n",
      "Epoch 116/120\n",
      "5003/5003 [==============================] - 4s 736us/step - loss: 0.2681 - accuracy: 0.8949 - val_loss: 0.2806 - val_accuracy: 0.8897\n",
      "Epoch 117/120\n",
      "5003/5003 [==============================] - 4s 726us/step - loss: 0.2674 - accuracy: 0.8948 - val_loss: 0.2690 - val_accuracy: 0.8949\n",
      "Epoch 118/120\n",
      "5003/5003 [==============================] - 4s 728us/step - loss: 0.2673 - accuracy: 0.8951 - val_loss: 0.2711 - val_accuracy: 0.8949\n",
      "Epoch 119/120\n",
      "4918/5003 [============================>.] - ETA: 0s - loss: 0.2670 - accuracy: 0.8952INFO:tensorflow:Assets written to: /home/anza-tshilidzi/Desktop/Masters_material/e+ e- study/wandb/run-20240815_074858-q99hhkv5/files/model-best/assets\n"
     ]
    },
    {
     "name": "stderr",
     "output_type": "stream",
     "text": [
      "\u001b[34m\u001b[1mwandb\u001b[0m: Adding directory to artifact (/home/anza-tshilidzi/Desktop/Masters_material/e+ e- study/wandb/run-20240815_074858-q99hhkv5/files/model-best)... Done. 0.0s\n"
     ]
    },
    {
     "name": "stdout",
     "output_type": "stream",
     "text": [
      "5003/5003 [==============================] - 4s 881us/step - loss: 0.2672 - accuracy: 0.8950 - val_loss: 0.2653 - val_accuracy: 0.8950\n",
      "Epoch 120/120\n",
      "5003/5003 [==============================] - 4s 739us/step - loss: 0.2671 - accuracy: 0.8951 - val_loss: 0.2706 - val_accuracy: 0.8929\n"
     ]
    },
    {
     "data": {
      "application/vnd.jupyter.widget-view+json": {
       "model_id": "",
       "version_major": 2,
       "version_minor": 0
      },
      "text/plain": [
       "VBox(children=(Label(value='3.072 MB of 3.072 MB uploaded (0.206 MB deduped)\\r'), FloatProgress(value=1.0, max…"
      ]
     },
     "metadata": {},
     "output_type": "display_data"
    },
    {
     "data": {
      "text/html": [
       "W&B sync reduced upload amount by 6.5%"
      ],
      "text/plain": [
       "<IPython.core.display.HTML object>"
      ]
     },
     "metadata": {},
     "output_type": "display_data"
    },
    {
     "data": {
      "text/html": [
       "<style>\n",
       "    table.wandb td:nth-child(1) { padding: 0 10px; text-align: left ; width: auto;} td:nth-child(2) {text-align: left ; width: 100%}\n",
       "    .wandb-row { display: flex; flex-direction: row; flex-wrap: wrap; justify-content: flex-start; width: 100% }\n",
       "    .wandb-col { display: flex; flex-direction: column; flex-basis: 100%; flex: 1; padding: 10px; }\n",
       "    </style>\n",
       "<div class=\"wandb-row\"><div class=\"wandb-col\"><h3>Run history:</h3><br/><table class=\"wandb\"><tr><td>accuracy</td><td>▁▆▇▇▇▇██████████████████████████████████</td></tr><tr><td>epoch</td><td>▁▁▁▂▂▂▂▂▂▃▃▃▃▃▃▄▄▄▄▄▅▅▅▅▅▅▆▆▆▆▆▇▇▇▇▇▇███</td></tr><tr><td>loss</td><td>█▄▃▂▂▂▂▂▂▂▂▂▂▂▁▁▁▁▁▁▁▁▁▁▁▁▁▁▁▁▁▁▁▁▁▁▁▁▁▁</td></tr><tr><td>val_accuracy</td><td>▁▂▅▆▇▇▇▇▇▇█▇█▇▇▇█▇███▇████████▇█████▇███</td></tr><tr><td>val_loss</td><td>██▄▃▂▃▂▂▂▂▂▂▂▂▂▂▂▂▁▁▁▃▁▁▁▁▁▁▁▁▂▁▁▁▁▁▂▁▁▁</td></tr></table><br/></div><div class=\"wandb-col\"><h3>Run summary:</h3><br/><table class=\"wandb\"><tr><td>accuracy</td><td>0.8951</td></tr><tr><td>best_epoch</td><td>118</td></tr><tr><td>best_val_loss</td><td>0.26533</td></tr><tr><td>epoch</td><td>119</td></tr><tr><td>loss</td><td>0.26711</td></tr><tr><td>val_accuracy</td><td>0.89292</td></tr><tr><td>val_loss</td><td>0.27063</td></tr></table><br/></div></div>"
      ],
      "text/plain": [
       "<IPython.core.display.HTML object>"
      ]
     },
     "metadata": {},
     "output_type": "display_data"
    },
    {
     "data": {
      "text/html": [
       " View run <strong style=\"color:#cdcd00\">rich-sweep-4</strong> at: <a href='https://wandb.ai/anzanzio/ep-em%20DNN/runs/q99hhkv5' target=\"_blank\">https://wandb.ai/anzanzio/ep-em%20DNN/runs/q99hhkv5</a><br/> View project at: <a href='https://wandb.ai/anzanzio/ep-em%20DNN' target=\"_blank\">https://wandb.ai/anzanzio/ep-em%20DNN</a><br/>Synced 6 W&B file(s), 1 media file(s), 108 artifact file(s) and 1 other file(s)"
      ],
      "text/plain": [
       "<IPython.core.display.HTML object>"
      ]
     },
     "metadata": {},
     "output_type": "display_data"
    },
    {
     "data": {
      "text/html": [
       "Find logs at: <code>./wandb/run-20240815_074858-q99hhkv5/logs</code>"
      ],
      "text/plain": [
       "<IPython.core.display.HTML object>"
      ]
     },
     "metadata": {},
     "output_type": "display_data"
    },
    {
     "data": {
      "text/html": [
       "The new W&B backend becomes opt-out in version 0.18.0; try it out with `wandb.require(\"core\")`! See https://wandb.me/wandb-core for more information."
      ],
      "text/plain": [
       "<IPython.core.display.HTML object>"
      ]
     },
     "metadata": {},
     "output_type": "display_data"
    },
    {
     "name": "stderr",
     "output_type": "stream",
     "text": [
      "\u001b[34m\u001b[1mwandb\u001b[0m: Agent Starting Run: ezqg7eof with config:\n",
      "\u001b[34m\u001b[1mwandb\u001b[0m: \tbatch_size: 24\n",
      "\u001b[34m\u001b[1mwandb\u001b[0m: \tepochs: 110\n",
      "\u001b[34m\u001b[1mwandb\u001b[0m: \tlayers: 18\n",
      "\u001b[34m\u001b[1mwandb\u001b[0m: \tlearning_rate: 0.0009338859378012616\n",
      "\u001b[34m\u001b[1mwandb\u001b[0m: \tneurons: 45\n",
      "\u001b[34m\u001b[1mwandb\u001b[0m: \toptimizer: adam\n"
     ]
    },
    {
     "data": {
      "application/vnd.jupyter.widget-view+json": {
       "model_id": "01c2ecbd1f8540e39c9b650b3c749eae",
       "version_major": 2,
       "version_minor": 0
      },
      "text/plain": [
       "VBox(children=(Label(value='Waiting for wandb.init()...\\r'), FloatProgress(value=0.011113394866657068, max=1.0…"
      ]
     },
     "metadata": {},
     "output_type": "display_data"
    },
    {
     "data": {
      "text/html": [
       "Tracking run with wandb version 0.17.6"
      ],
      "text/plain": [
       "<IPython.core.display.HTML object>"
      ]
     },
     "metadata": {},
     "output_type": "display_data"
    },
    {
     "data": {
      "text/html": [
       "Run data is saved locally in <code>/home/anza-tshilidzi/Desktop/Masters_material/e+ e- study/wandb/run-20240815_075659-ezqg7eof</code>"
      ],
      "text/plain": [
       "<IPython.core.display.HTML object>"
      ]
     },
     "metadata": {},
     "output_type": "display_data"
    },
    {
     "data": {
      "text/html": [
       "Syncing run <strong><a href='https://wandb.ai/anzanzio/ep-em%20DNN/runs/ezqg7eof' target=\"_blank\">deep-sweep-5</a></strong> to <a href='https://wandb.ai/anzanzio/ep-em%20DNN' target=\"_blank\">Weights & Biases</a> (<a href='https://wandb.me/run' target=\"_blank\">docs</a>)<br/>Sweep page: <a href='https://wandb.ai/anzanzio/ep-em%20DNN/sweeps/lg5h93ch' target=\"_blank\">https://wandb.ai/anzanzio/ep-em%20DNN/sweeps/lg5h93ch</a>"
      ],
      "text/plain": [
       "<IPython.core.display.HTML object>"
      ]
     },
     "metadata": {},
     "output_type": "display_data"
    },
    {
     "data": {
      "text/html": [
       " View project at <a href='https://wandb.ai/anzanzio/ep-em%20DNN' target=\"_blank\">https://wandb.ai/anzanzio/ep-em%20DNN</a>"
      ],
      "text/plain": [
       "<IPython.core.display.HTML object>"
      ]
     },
     "metadata": {},
     "output_type": "display_data"
    },
    {
     "data": {
      "text/html": [
       " View sweep at <a href='https://wandb.ai/anzanzio/ep-em%20DNN/sweeps/lg5h93ch' target=\"_blank\">https://wandb.ai/anzanzio/ep-em%20DNN/sweeps/lg5h93ch</a>"
      ],
      "text/plain": [
       "<IPython.core.display.HTML object>"
      ]
     },
     "metadata": {},
     "output_type": "display_data"
    },
    {
     "data": {
      "text/html": [
       " View run at <a href='https://wandb.ai/anzanzio/ep-em%20DNN/runs/ezqg7eof' target=\"_blank\">https://wandb.ai/anzanzio/ep-em%20DNN/runs/ezqg7eof</a>"
      ],
      "text/plain": [
       "<IPython.core.display.HTML object>"
      ]
     },
     "metadata": {},
     "output_type": "display_data"
    },
    {
     "name": "stdout",
     "output_type": "stream",
     "text": [
      "Epoch 1/110\n",
      "4337/4378 [============================>.] - ETA: 0s - loss: 0.6515 - accuracy: 0.7407INFO:tensorflow:Assets written to: /home/anza-tshilidzi/Desktop/Masters_material/e+ e- study/wandb/run-20240815_075659-ezqg7eof/files/model-best/assets\n"
     ]
    },
    {
     "name": "stderr",
     "output_type": "stream",
     "text": [
      "\u001b[34m\u001b[1mwandb\u001b[0m: Adding directory to artifact (/home/anza-tshilidzi/Desktop/Masters_material/e+ e- study/wandb/run-20240815_075659-ezqg7eof/files/model-best)... Done. 0.0s\n"
     ]
    },
    {
     "name": "stdout",
     "output_type": "stream",
     "text": [
      "4378/4378 [==============================] - 4s 933us/step - loss: 0.6514 - accuracy: 0.7404 - val_loss: 0.5709 - val_accuracy: 0.7983\n",
      "Epoch 2/110\n",
      "4329/4378 [============================>.] - ETA: 0s - loss: 0.5221 - accuracy: 0.7997INFO:tensorflow:Assets written to: /home/anza-tshilidzi/Desktop/Masters_material/e+ e- study/wandb/run-20240815_075659-ezqg7eof/files/model-best/assets\n"
     ]
    },
    {
     "name": "stderr",
     "output_type": "stream",
     "text": [
      "\u001b[34m\u001b[1mwandb\u001b[0m: Adding directory to artifact (/home/anza-tshilidzi/Desktop/Masters_material/e+ e- study/wandb/run-20240815_075659-ezqg7eof/files/model-best)... Done. 0.0s\n"
     ]
    },
    {
     "name": "stdout",
     "output_type": "stream",
     "text": [
      "4378/4378 [==============================] - 4s 919us/step - loss: 0.5208 - accuracy: 0.8002 - val_loss: 0.5303 - val_accuracy: 0.7870\n",
      "Epoch 3/110\n",
      "4331/4378 [============================>.] - ETA: 0s - loss: 0.3798 - accuracy: 0.8565INFO:tensorflow:Assets written to: /home/anza-tshilidzi/Desktop/Masters_material/e+ e- study/wandb/run-20240815_075659-ezqg7eof/files/model-best/assets\n"
     ]
    },
    {
     "name": "stderr",
     "output_type": "stream",
     "text": [
      "\u001b[34m\u001b[1mwandb\u001b[0m: Adding directory to artifact (/home/anza-tshilidzi/Desktop/Masters_material/e+ e- study/wandb/run-20240815_075659-ezqg7eof/files/model-best)... Done. 0.0s\n"
     ]
    },
    {
     "name": "stdout",
     "output_type": "stream",
     "text": [
      "4378/4378 [==============================] - 4s 914us/step - loss: 0.3793 - accuracy: 0.8567 - val_loss: 0.4222 - val_accuracy: 0.8266\n",
      "Epoch 4/110\n",
      "4304/4378 [============================>.] - ETA: 0s - loss: 0.3507 - accuracy: 0.8672INFO:tensorflow:Assets written to: /home/anza-tshilidzi/Desktop/Masters_material/e+ e- study/wandb/run-20240815_075659-ezqg7eof/files/model-best/assets\n"
     ]
    },
    {
     "name": "stderr",
     "output_type": "stream",
     "text": [
      "\u001b[34m\u001b[1mwandb\u001b[0m: Adding directory to artifact (/home/anza-tshilidzi/Desktop/Masters_material/e+ e- study/wandb/run-20240815_075659-ezqg7eof/files/model-best)... Done. 0.0s\n"
     ]
    },
    {
     "name": "stdout",
     "output_type": "stream",
     "text": [
      "4378/4378 [==============================] - 4s 910us/step - loss: 0.3508 - accuracy: 0.8672 - val_loss: 0.3235 - val_accuracy: 0.8795\n",
      "Epoch 5/110\n",
      "4329/4378 [============================>.] - ETA: 0s - loss: 0.3358 - accuracy: 0.8714INFO:tensorflow:Assets written to: /home/anza-tshilidzi/Desktop/Masters_material/e+ e- study/wandb/run-20240815_075659-ezqg7eof/files/model-best/assets\n"
     ]
    },
    {
     "name": "stderr",
     "output_type": "stream",
     "text": [
      "\u001b[34m\u001b[1mwandb\u001b[0m: Adding directory to artifact (/home/anza-tshilidzi/Desktop/Masters_material/e+ e- study/wandb/run-20240815_075659-ezqg7eof/files/model-best)... Done. 0.0s\n"
     ]
    },
    {
     "name": "stdout",
     "output_type": "stream",
     "text": [
      "4378/4378 [==============================] - 5s 1ms/step - loss: 0.3358 - accuracy: 0.8714 - val_loss: 0.3177 - val_accuracy: 0.8707\n",
      "Epoch 6/110\n",
      "4378/4378 [==============================] - 3s 768us/step - loss: 0.3310 - accuracy: 0.8724 - val_loss: 0.3215 - val_accuracy: 0.8785\n",
      "Epoch 7/110\n",
      "4304/4378 [============================>.] - ETA: 0s - loss: 0.3261 - accuracy: 0.8743INFO:tensorflow:Assets written to: /home/anza-tshilidzi/Desktop/Masters_material/e+ e- study/wandb/run-20240815_075659-ezqg7eof/files/model-best/assets\n"
     ]
    },
    {
     "name": "stderr",
     "output_type": "stream",
     "text": [
      "\u001b[34m\u001b[1mwandb\u001b[0m: Adding directory to artifact (/home/anza-tshilidzi/Desktop/Masters_material/e+ e- study/wandb/run-20240815_075659-ezqg7eof/files/model-best)... Done. 0.0s\n"
     ]
    },
    {
     "name": "stdout",
     "output_type": "stream",
     "text": [
      "4378/4378 [==============================] - 4s 954us/step - loss: 0.3262 - accuracy: 0.8741 - val_loss: 0.3118 - val_accuracy: 0.8784\n",
      "Epoch 8/110\n",
      "4312/4378 [============================>.] - ETA: 0s - loss: 0.3213 - accuracy: 0.8761INFO:tensorflow:Assets written to: /home/anza-tshilidzi/Desktop/Masters_material/e+ e- study/wandb/run-20240815_075659-ezqg7eof/files/model-best/assets\n"
     ]
    },
    {
     "name": "stderr",
     "output_type": "stream",
     "text": [
      "\u001b[34m\u001b[1mwandb\u001b[0m: Adding directory to artifact (/home/anza-tshilidzi/Desktop/Masters_material/e+ e- study/wandb/run-20240815_075659-ezqg7eof/files/model-best)... Done. 0.0s\n"
     ]
    },
    {
     "name": "stdout",
     "output_type": "stream",
     "text": [
      "4378/4378 [==============================] - 4s 917us/step - loss: 0.3212 - accuracy: 0.8761 - val_loss: 0.3087 - val_accuracy: 0.8844\n",
      "Epoch 9/110\n",
      "4378/4378 [==============================] - 3s 742us/step - loss: 0.3147 - accuracy: 0.8780 - val_loss: 0.3235 - val_accuracy: 0.8737\n",
      "Epoch 10/110\n",
      "4378/4378 [==============================] - 3s 750us/step - loss: 0.3113 - accuracy: 0.8799 - val_loss: 0.3192 - val_accuracy: 0.8783\n",
      "Epoch 11/110\n",
      "4373/4378 [============================>.] - ETA: 0s - loss: 0.3105 - accuracy: 0.8801INFO:tensorflow:Assets written to: /home/anza-tshilidzi/Desktop/Masters_material/e+ e- study/wandb/run-20240815_075659-ezqg7eof/files/model-best/assets\n"
     ]
    },
    {
     "name": "stderr",
     "output_type": "stream",
     "text": [
      "\u001b[34m\u001b[1mwandb\u001b[0m: Adding directory to artifact (/home/anza-tshilidzi/Desktop/Masters_material/e+ e- study/wandb/run-20240815_075659-ezqg7eof/files/model-best)... Done. 0.0s\n"
     ]
    },
    {
     "name": "stdout",
     "output_type": "stream",
     "text": [
      "4378/4378 [==============================] - 4s 889us/step - loss: 0.3105 - accuracy: 0.8801 - val_loss: 0.2993 - val_accuracy: 0.8823\n",
      "Epoch 12/110\n",
      "4378/4378 [==============================] - 3s 739us/step - loss: 0.3081 - accuracy: 0.8823 - val_loss: 0.3194 - val_accuracy: 0.8752\n",
      "Epoch 13/110\n",
      "4378/4378 [==============================] - 3s 731us/step - loss: 0.3067 - accuracy: 0.8825 - val_loss: 0.3117 - val_accuracy: 0.8840\n",
      "Epoch 14/110\n",
      "4378/4378 [==============================] - 3s 738us/step - loss: 0.3056 - accuracy: 0.8827 - val_loss: 0.3060 - val_accuracy: 0.8807\n",
      "Epoch 15/110\n",
      "4378/4378 [==============================] - 3s 754us/step - loss: 0.3050 - accuracy: 0.8828 - val_loss: 0.3078 - val_accuracy: 0.8798\n",
      "Epoch 16/110\n",
      "4378/4378 [==============================] - 3s 741us/step - loss: 0.3023 - accuracy: 0.8832 - val_loss: 0.3032 - val_accuracy: 0.8791\n",
      "Epoch 17/110\n",
      "4335/4378 [============================>.] - ETA: 0s - loss: 0.3024 - accuracy: 0.8834INFO:tensorflow:Assets written to: /home/anza-tshilidzi/Desktop/Masters_material/e+ e- study/wandb/run-20240815_075659-ezqg7eof/files/model-best/assets\n"
     ]
    },
    {
     "name": "stderr",
     "output_type": "stream",
     "text": [
      "\u001b[34m\u001b[1mwandb\u001b[0m: Adding directory to artifact (/home/anza-tshilidzi/Desktop/Masters_material/e+ e- study/wandb/run-20240815_075659-ezqg7eof/files/model-best)... Done. 0.0s\n"
     ]
    },
    {
     "name": "stdout",
     "output_type": "stream",
     "text": [
      "4378/4378 [==============================] - 4s 951us/step - loss: 0.3022 - accuracy: 0.8835 - val_loss: 0.2954 - val_accuracy: 0.8852\n",
      "Epoch 18/110\n",
      "4378/4378 [==============================] - 3s 752us/step - loss: 0.3013 - accuracy: 0.8842 - val_loss: 0.3004 - val_accuracy: 0.8806\n",
      "Epoch 19/110\n",
      "4335/4378 [============================>.] - ETA: 0s - loss: 0.3003 - accuracy: 0.8845INFO:tensorflow:Assets written to: /home/anza-tshilidzi/Desktop/Masters_material/e+ e- study/wandb/run-20240815_075659-ezqg7eof/files/model-best/assets\n"
     ]
    },
    {
     "name": "stderr",
     "output_type": "stream",
     "text": [
      "\u001b[34m\u001b[1mwandb\u001b[0m: Adding directory to artifact (/home/anza-tshilidzi/Desktop/Masters_material/e+ e- study/wandb/run-20240815_075659-ezqg7eof/files/model-best)... Done. 0.0s\n"
     ]
    },
    {
     "name": "stdout",
     "output_type": "stream",
     "text": [
      "4378/4378 [==============================] - 4s 913us/step - loss: 0.3007 - accuracy: 0.8842 - val_loss: 0.2937 - val_accuracy: 0.8863\n",
      "Epoch 20/110\n",
      "4378/4378 [==============================] - 3s 754us/step - loss: 0.2999 - accuracy: 0.8843 - val_loss: 0.3014 - val_accuracy: 0.8838\n",
      "Epoch 21/110\n",
      "4378/4378 [==============================] - 3s 748us/step - loss: 0.2994 - accuracy: 0.8842 - val_loss: 0.2957 - val_accuracy: 0.8861\n",
      "Epoch 22/110\n",
      "4378/4378 [==============================] - 3s 744us/step - loss: 0.2994 - accuracy: 0.8841 - val_loss: 0.2955 - val_accuracy: 0.8840\n",
      "Epoch 23/110\n",
      "4378/4378 [==============================] - 3s 743us/step - loss: 0.2979 - accuracy: 0.8855 - val_loss: 0.2942 - val_accuracy: 0.8875\n",
      "Epoch 24/110\n",
      "4378/4378 [==============================] - 3s 760us/step - loss: 0.2972 - accuracy: 0.8854 - val_loss: 0.3106 - val_accuracy: 0.8788\n",
      "Epoch 25/110\n",
      "4321/4378 [============================>.] - ETA: 0s - loss: 0.2978 - accuracy: 0.8849INFO:tensorflow:Assets written to: /home/anza-tshilidzi/Desktop/Masters_material/e+ e- study/wandb/run-20240815_075659-ezqg7eof/files/model-best/assets\n"
     ]
    },
    {
     "name": "stderr",
     "output_type": "stream",
     "text": [
      "\u001b[34m\u001b[1mwandb\u001b[0m: Adding directory to artifact (/home/anza-tshilidzi/Desktop/Masters_material/e+ e- study/wandb/run-20240815_075659-ezqg7eof/files/model-best)... Done. 0.0s\n"
     ]
    },
    {
     "name": "stdout",
     "output_type": "stream",
     "text": [
      "4378/4378 [==============================] - 4s 920us/step - loss: 0.2978 - accuracy: 0.8848 - val_loss: 0.2935 - val_accuracy: 0.8835\n",
      "Epoch 26/110\n",
      "4378/4378 [==============================] - 3s 744us/step - loss: 0.2967 - accuracy: 0.8855 - val_loss: 0.3032 - val_accuracy: 0.8809\n",
      "Epoch 27/110\n",
      "4378/4378 [==============================] - 3s 745us/step - loss: 0.2969 - accuracy: 0.8854 - val_loss: 0.3310 - val_accuracy: 0.8707\n",
      "Epoch 28/110\n",
      "4344/4378 [============================>.] - ETA: 0s - loss: 0.2961 - accuracy: 0.8859INFO:tensorflow:Assets written to: /home/anza-tshilidzi/Desktop/Masters_material/e+ e- study/wandb/run-20240815_075659-ezqg7eof/files/model-best/assets\n"
     ]
    },
    {
     "name": "stderr",
     "output_type": "stream",
     "text": [
      "\u001b[34m\u001b[1mwandb\u001b[0m: Adding directory to artifact (/home/anza-tshilidzi/Desktop/Masters_material/e+ e- study/wandb/run-20240815_075659-ezqg7eof/files/model-best)... Done. 0.0s\n"
     ]
    },
    {
     "name": "stdout",
     "output_type": "stream",
     "text": [
      "4378/4378 [==============================] - 4s 918us/step - loss: 0.2963 - accuracy: 0.8858 - val_loss: 0.2924 - val_accuracy: 0.8866\n",
      "Epoch 29/110\n",
      "4293/4378 [============================>.] - ETA: 0s - loss: 0.2951 - accuracy: 0.8864INFO:tensorflow:Assets written to: /home/anza-tshilidzi/Desktop/Masters_material/e+ e- study/wandb/run-20240815_075659-ezqg7eof/files/model-best/assets\n"
     ]
    },
    {
     "name": "stderr",
     "output_type": "stream",
     "text": [
      "\u001b[34m\u001b[1mwandb\u001b[0m: Adding directory to artifact (/home/anza-tshilidzi/Desktop/Masters_material/e+ e- study/wandb/run-20240815_075659-ezqg7eof/files/model-best)... Done. 0.0s\n"
     ]
    },
    {
     "name": "stdout",
     "output_type": "stream",
     "text": [
      "4378/4378 [==============================] - 4s 922us/step - loss: 0.2950 - accuracy: 0.8864 - val_loss: 0.2889 - val_accuracy: 0.8877\n",
      "Epoch 30/110\n",
      "4378/4378 [==============================] - 3s 754us/step - loss: 0.2943 - accuracy: 0.8860 - val_loss: 0.2988 - val_accuracy: 0.8845\n",
      "Epoch 31/110\n",
      "4378/4378 [==============================] - 3s 743us/step - loss: 0.2944 - accuracy: 0.8857 - val_loss: 0.2912 - val_accuracy: 0.8864\n",
      "Epoch 32/110\n",
      "4378/4378 [==============================] - 3s 741us/step - loss: 0.2939 - accuracy: 0.8867 - val_loss: 0.2958 - val_accuracy: 0.8842\n",
      "Epoch 33/110\n",
      "4378/4378 [==============================] - 3s 762us/step - loss: 0.2944 - accuracy: 0.8859 - val_loss: 0.3002 - val_accuracy: 0.8859\n",
      "Epoch 34/110\n",
      "4378/4378 [==============================] - 3s 743us/step - loss: 0.2945 - accuracy: 0.8859 - val_loss: 0.2937 - val_accuracy: 0.8880\n",
      "Epoch 35/110\n",
      "4378/4378 [==============================] - 3s 746us/step - loss: 0.2945 - accuracy: 0.8859 - val_loss: 0.3102 - val_accuracy: 0.8826\n",
      "Epoch 36/110\n",
      "4295/4378 [============================>.] - ETA: 0s - loss: 0.2920 - accuracy: 0.8873INFO:tensorflow:Assets written to: /home/anza-tshilidzi/Desktop/Masters_material/e+ e- study/wandb/run-20240815_075659-ezqg7eof/files/model-best/assets\n"
     ]
    },
    {
     "name": "stderr",
     "output_type": "stream",
     "text": [
      "\u001b[34m\u001b[1mwandb\u001b[0m: Adding directory to artifact (/home/anza-tshilidzi/Desktop/Masters_material/e+ e- study/wandb/run-20240815_075659-ezqg7eof/files/model-best)... Done. 0.0s\n"
     ]
    },
    {
     "name": "stdout",
     "output_type": "stream",
     "text": [
      "4378/4378 [==============================] - 4s 894us/step - loss: 0.2920 - accuracy: 0.8873 - val_loss: 0.2883 - val_accuracy: 0.8866\n",
      "Epoch 37/110\n",
      "4378/4378 [==============================] - 3s 742us/step - loss: 0.2918 - accuracy: 0.8863 - val_loss: 0.2938 - val_accuracy: 0.8884\n",
      "Epoch 38/110\n",
      "4301/4378 [============================>.] - ETA: 0s - loss: 0.2933 - accuracy: 0.8865INFO:tensorflow:Assets written to: /home/anza-tshilidzi/Desktop/Masters_material/e+ e- study/wandb/run-20240815_075659-ezqg7eof/files/model-best/assets\n"
     ]
    },
    {
     "name": "stderr",
     "output_type": "stream",
     "text": [
      "\u001b[34m\u001b[1mwandb\u001b[0m: Adding directory to artifact (/home/anza-tshilidzi/Desktop/Masters_material/e+ e- study/wandb/run-20240815_075659-ezqg7eof/files/model-best)... Done. 0.0s\n"
     ]
    },
    {
     "name": "stdout",
     "output_type": "stream",
     "text": [
      "4378/4378 [==============================] - 4s 923us/step - loss: 0.2927 - accuracy: 0.8869 - val_loss: 0.2882 - val_accuracy: 0.8880\n",
      "Epoch 39/110\n",
      "4378/4378 [==============================] - 3s 758us/step - loss: 0.2925 - accuracy: 0.8866 - val_loss: 0.2884 - val_accuracy: 0.8870\n",
      "Epoch 40/110\n",
      "4378/4378 [==============================] - 3s 751us/step - loss: 0.2922 - accuracy: 0.8867 - val_loss: 0.2890 - val_accuracy: 0.8879\n",
      "Epoch 41/110\n",
      "4378/4378 [==============================] - 3s 738us/step - loss: 0.2913 - accuracy: 0.8873 - val_loss: 0.2934 - val_accuracy: 0.8869\n",
      "Epoch 42/110\n",
      "4378/4378 [==============================] - 3s 746us/step - loss: 0.2912 - accuracy: 0.8872 - val_loss: 0.2892 - val_accuracy: 0.8859\n",
      "Epoch 43/110\n",
      "4378/4378 [==============================] - 3s 758us/step - loss: 0.2904 - accuracy: 0.8874 - val_loss: 0.2907 - val_accuracy: 0.8854\n",
      "Epoch 44/110\n",
      "4378/4378 [==============================] - 3s 740us/step - loss: 0.2905 - accuracy: 0.8873 - val_loss: 0.3195 - val_accuracy: 0.8810\n",
      "Epoch 45/110\n",
      "4378/4378 [==============================] - 3s 747us/step - loss: 0.2898 - accuracy: 0.8880 - val_loss: 0.3213 - val_accuracy: 0.8798\n",
      "Epoch 46/110\n",
      "4378/4378 [==============================] - 3s 742us/step - loss: 0.2901 - accuracy: 0.8875 - val_loss: 0.2895 - val_accuracy: 0.8876\n",
      "Epoch 47/110\n",
      "4313/4378 [============================>.] - ETA: 0s - loss: 0.2904 - accuracy: 0.8875INFO:tensorflow:Assets written to: /home/anza-tshilidzi/Desktop/Masters_material/e+ e- study/wandb/run-20240815_075659-ezqg7eof/files/model-best/assets\n"
     ]
    },
    {
     "name": "stderr",
     "output_type": "stream",
     "text": [
      "\u001b[34m\u001b[1mwandb\u001b[0m: Adding directory to artifact (/home/anza-tshilidzi/Desktop/Masters_material/e+ e- study/wandb/run-20240815_075659-ezqg7eof/files/model-best)... Done. 0.0s\n"
     ]
    },
    {
     "name": "stdout",
     "output_type": "stream",
     "text": [
      "4378/4378 [==============================] - 4s 922us/step - loss: 0.2903 - accuracy: 0.8875 - val_loss: 0.2871 - val_accuracy: 0.8873\n",
      "Epoch 48/110\n",
      "4378/4378 [==============================] - 3s 746us/step - loss: 0.2899 - accuracy: 0.8875 - val_loss: 0.2904 - val_accuracy: 0.8868\n",
      "Epoch 49/110\n",
      "4344/4378 [============================>.] - ETA: 0s - loss: 0.2887 - accuracy: 0.8889INFO:tensorflow:Assets written to: /home/anza-tshilidzi/Desktop/Masters_material/e+ e- study/wandb/run-20240815_075659-ezqg7eof/files/model-best/assets\n"
     ]
    },
    {
     "name": "stderr",
     "output_type": "stream",
     "text": [
      "\u001b[34m\u001b[1mwandb\u001b[0m: Adding directory to artifact (/home/anza-tshilidzi/Desktop/Masters_material/e+ e- study/wandb/run-20240815_075659-ezqg7eof/files/model-best)... Done. 0.0s\n"
     ]
    },
    {
     "name": "stdout",
     "output_type": "stream",
     "text": [
      "4378/4378 [==============================] - 4s 927us/step - loss: 0.2888 - accuracy: 0.8889 - val_loss: 0.2853 - val_accuracy: 0.8891\n",
      "Epoch 50/110\n",
      "4378/4378 [==============================] - 3s 744us/step - loss: 0.2895 - accuracy: 0.8873 - val_loss: 0.3000 - val_accuracy: 0.8806\n",
      "Epoch 51/110\n",
      "4378/4378 [==============================] - 3s 743us/step - loss: 0.2887 - accuracy: 0.8885 - val_loss: 0.3069 - val_accuracy: 0.8800\n",
      "Epoch 52/110\n",
      "4378/4378 [==============================] - 3s 763us/step - loss: 0.2886 - accuracy: 0.8876 - val_loss: 0.2894 - val_accuracy: 0.8872\n",
      "Epoch 53/110\n",
      "4378/4378 [==============================] - 3s 743us/step - loss: 0.2883 - accuracy: 0.8879 - val_loss: 0.2930 - val_accuracy: 0.8844\n",
      "Epoch 54/110\n",
      "4378/4378 [==============================] - 3s 741us/step - loss: 0.2880 - accuracy: 0.8881 - val_loss: 0.2854 - val_accuracy: 0.8887\n",
      "Epoch 55/110\n",
      "4378/4378 [==============================] - 3s 738us/step - loss: 0.2878 - accuracy: 0.8881 - val_loss: 0.2936 - val_accuracy: 0.8881\n",
      "Epoch 56/110\n",
      "4378/4378 [==============================] - 3s 739us/step - loss: 0.2880 - accuracy: 0.8885 - val_loss: 0.2917 - val_accuracy: 0.8846\n",
      "Epoch 57/110\n",
      "4378/4378 [==============================] - 3s 761us/step - loss: 0.2882 - accuracy: 0.8883 - val_loss: 0.2910 - val_accuracy: 0.8869\n",
      "Epoch 58/110\n",
      "4378/4378 [==============================] - 3s 744us/step - loss: 0.2878 - accuracy: 0.8883 - val_loss: 0.3050 - val_accuracy: 0.8797\n",
      "Epoch 59/110\n",
      "4378/4378 [==============================] - 3s 744us/step - loss: 0.2884 - accuracy: 0.8879 - val_loss: 0.2884 - val_accuracy: 0.8866\n",
      "Epoch 60/110\n",
      "4378/4378 [==============================] - 3s 743us/step - loss: 0.2867 - accuracy: 0.8883 - val_loss: 0.2859 - val_accuracy: 0.8890\n",
      "Epoch 61/110\n",
      "4378/4378 [==============================] - 3s 752us/step - loss: 0.2872 - accuracy: 0.8887 - val_loss: 0.2945 - val_accuracy: 0.8888\n",
      "Epoch 62/110\n",
      "4345/4378 [============================>.] - ETA: 0s - loss: 0.2871 - accuracy: 0.8885INFO:tensorflow:Assets written to: /home/anza-tshilidzi/Desktop/Masters_material/e+ e- study/wandb/run-20240815_075659-ezqg7eof/files/model-best/assets\n"
     ]
    },
    {
     "name": "stderr",
     "output_type": "stream",
     "text": [
      "\u001b[34m\u001b[1mwandb\u001b[0m: Adding directory to artifact (/home/anza-tshilidzi/Desktop/Masters_material/e+ e- study/wandb/run-20240815_075659-ezqg7eof/files/model-best)... Done. 0.0s\n"
     ]
    },
    {
     "name": "stdout",
     "output_type": "stream",
     "text": [
      "4378/4378 [==============================] - 4s 932us/step - loss: 0.2871 - accuracy: 0.8884 - val_loss: 0.2847 - val_accuracy: 0.8885\n",
      "Epoch 63/110\n",
      "4378/4378 [==============================] - 3s 741us/step - loss: 0.2866 - accuracy: 0.8891 - val_loss: 0.2986 - val_accuracy: 0.8812\n",
      "Epoch 64/110\n",
      "4378/4378 [==============================] - 3s 743us/step - loss: 0.2857 - accuracy: 0.8890 - val_loss: 0.2981 - val_accuracy: 0.8845\n",
      "Epoch 65/110\n",
      "4378/4378 [==============================] - 3s 750us/step - loss: 0.2864 - accuracy: 0.8892 - val_loss: 0.2890 - val_accuracy: 0.8854\n",
      "Epoch 66/110\n",
      "4378/4378 [==============================] - 3s 760us/step - loss: 0.2860 - accuracy: 0.8887 - val_loss: 0.2894 - val_accuracy: 0.8871\n",
      "Epoch 67/110\n",
      "4329/4378 [============================>.] - ETA: 0s - loss: 0.2850 - accuracy: 0.8893INFO:tensorflow:Assets written to: /home/anza-tshilidzi/Desktop/Masters_material/e+ e- study/wandb/run-20240815_075659-ezqg7eof/files/model-best/assets\n"
     ]
    },
    {
     "name": "stderr",
     "output_type": "stream",
     "text": [
      "\u001b[34m\u001b[1mwandb\u001b[0m: Adding directory to artifact (/home/anza-tshilidzi/Desktop/Masters_material/e+ e- study/wandb/run-20240815_075659-ezqg7eof/files/model-best)... Done. 0.0s\n"
     ]
    },
    {
     "name": "stdout",
     "output_type": "stream",
     "text": [
      "4378/4378 [==============================] - 4s 909us/step - loss: 0.2854 - accuracy: 0.8890 - val_loss: 0.2839 - val_accuracy: 0.8881\n",
      "Epoch 68/110\n",
      "4378/4378 [==============================] - 3s 748us/step - loss: 0.2852 - accuracy: 0.8884 - val_loss: 0.2861 - val_accuracy: 0.8875\n",
      "Epoch 69/110\n",
      "4378/4378 [==============================] - 3s 749us/step - loss: 0.2861 - accuracy: 0.8897 - val_loss: 0.2883 - val_accuracy: 0.8882\n",
      "Epoch 70/110\n",
      "4378/4378 [==============================] - 3s 750us/step - loss: 0.2857 - accuracy: 0.8879 - val_loss: 0.2957 - val_accuracy: 0.8794\n",
      "Epoch 71/110\n",
      "4378/4378 [==============================] - 3s 772us/step - loss: 0.2851 - accuracy: 0.8889 - val_loss: 0.2922 - val_accuracy: 0.8859\n",
      "Epoch 72/110\n",
      "4378/4378 [==============================] - 4s 804us/step - loss: 0.2854 - accuracy: 0.8886 - val_loss: 0.2962 - val_accuracy: 0.8863\n",
      "Epoch 73/110\n",
      "4378/4378 [==============================] - 4s 886us/step - loss: 0.2846 - accuracy: 0.8894 - val_loss: 0.2917 - val_accuracy: 0.8843\n",
      "Epoch 74/110\n",
      "4378/4378 [==============================] - 4s 881us/step - loss: 0.2842 - accuracy: 0.8886 - val_loss: 0.2861 - val_accuracy: 0.8881\n",
      "Epoch 75/110\n",
      "4378/4378 [==============================] - 4s 872us/step - loss: 0.2849 - accuracy: 0.8896 - val_loss: 0.2840 - val_accuracy: 0.8884\n",
      "Epoch 76/110\n",
      "4326/4378 [============================>.] - ETA: 0s - loss: 0.2839 - accuracy: 0.8895INFO:tensorflow:Assets written to: /home/anza-tshilidzi/Desktop/Masters_material/e+ e- study/wandb/run-20240815_075659-ezqg7eof/files/model-best/assets\n"
     ]
    },
    {
     "name": "stderr",
     "output_type": "stream",
     "text": [
      "\u001b[34m\u001b[1mwandb\u001b[0m: Adding directory to artifact (/home/anza-tshilidzi/Desktop/Masters_material/e+ e- study/wandb/run-20240815_075659-ezqg7eof/files/model-best)... Done. 0.0s\n"
     ]
    },
    {
     "name": "stdout",
     "output_type": "stream",
     "text": [
      "4378/4378 [==============================] - 4s 1ms/step - loss: 0.2838 - accuracy: 0.8896 - val_loss: 0.2826 - val_accuracy: 0.8892\n",
      "Epoch 77/110\n",
      "4378/4378 [==============================] - 3s 748us/step - loss: 0.2838 - accuracy: 0.8893 - val_loss: 0.3035 - val_accuracy: 0.8870\n",
      "Epoch 78/110\n",
      "4322/4378 [============================>.] - ETA: 0s - loss: 0.2840 - accuracy: 0.8893INFO:tensorflow:Assets written to: /home/anza-tshilidzi/Desktop/Masters_material/e+ e- study/wandb/run-20240815_075659-ezqg7eof/files/model-best/assets\n"
     ]
    },
    {
     "name": "stderr",
     "output_type": "stream",
     "text": [
      "\u001b[34m\u001b[1mwandb\u001b[0m: Adding directory to artifact (/home/anza-tshilidzi/Desktop/Masters_material/e+ e- study/wandb/run-20240815_075659-ezqg7eof/files/model-best)... Done. 0.0s\n"
     ]
    },
    {
     "name": "stdout",
     "output_type": "stream",
     "text": [
      "4378/4378 [==============================] - 4s 903us/step - loss: 0.2840 - accuracy: 0.8892 - val_loss: 0.2825 - val_accuracy: 0.8887\n",
      "Epoch 79/110\n",
      "4378/4378 [==============================] - 3s 744us/step - loss: 0.2835 - accuracy: 0.8897 - val_loss: 0.2877 - val_accuracy: 0.8867\n",
      "Epoch 80/110\n",
      "4378/4378 [==============================] - 3s 753us/step - loss: 0.2822 - accuracy: 0.8904 - val_loss: 0.2853 - val_accuracy: 0.8875\n",
      "Epoch 81/110\n",
      "4378/4378 [==============================] - 3s 746us/step - loss: 0.2834 - accuracy: 0.8891 - val_loss: 0.2878 - val_accuracy: 0.8860\n",
      "Epoch 82/110\n",
      "4378/4378 [==============================] - 3s 735us/step - loss: 0.2833 - accuracy: 0.8895 - val_loss: 0.2907 - val_accuracy: 0.8865\n",
      "Epoch 83/110\n",
      "4378/4378 [==============================] - 3s 737us/step - loss: 0.2834 - accuracy: 0.8894 - val_loss: 0.2859 - val_accuracy: 0.8876\n",
      "Epoch 84/110\n",
      "4378/4378 [==============================] - 3s 744us/step - loss: 0.2823 - accuracy: 0.8902 - val_loss: 0.3051 - val_accuracy: 0.8821\n",
      "Epoch 85/110\n",
      "4378/4378 [==============================] - 3s 746us/step - loss: 0.2835 - accuracy: 0.8891 - val_loss: 0.2833 - val_accuracy: 0.8889\n",
      "Epoch 86/110\n",
      "4378/4378 [==============================] - 3s 733us/step - loss: 0.2833 - accuracy: 0.8898 - val_loss: 0.2874 - val_accuracy: 0.8888\n",
      "Epoch 87/110\n",
      "4378/4378 [==============================] - 3s 737us/step - loss: 0.2824 - accuracy: 0.8901 - val_loss: 0.2864 - val_accuracy: 0.8865\n",
      "Epoch 88/110\n",
      "4378/4378 [==============================] - 3s 750us/step - loss: 0.2830 - accuracy: 0.8895 - val_loss: 0.2859 - val_accuracy: 0.8872\n",
      "Epoch 89/110\n",
      "4378/4378 [==============================] - 3s 755us/step - loss: 0.2831 - accuracy: 0.8896 - val_loss: 0.2922 - val_accuracy: 0.8880\n",
      "Epoch 90/110\n",
      "4378/4378 [==============================] - 3s 752us/step - loss: 0.2829 - accuracy: 0.8894 - val_loss: 0.2964 - val_accuracy: 0.8865\n",
      "Epoch 91/110\n",
      "4378/4378 [==============================] - 3s 754us/step - loss: 0.2824 - accuracy: 0.8896 - val_loss: 0.2913 - val_accuracy: 0.8862\n",
      "Epoch 92/110\n",
      "4378/4378 [==============================] - 3s 742us/step - loss: 0.2827 - accuracy: 0.8898 - val_loss: 0.2858 - val_accuracy: 0.8879\n",
      "Epoch 93/110\n",
      "4378/4378 [==============================] - 3s 749us/step - loss: 0.2819 - accuracy: 0.8900 - val_loss: 0.2955 - val_accuracy: 0.8852\n",
      "Epoch 94/110\n",
      "4378/4378 [==============================] - 3s 763us/step - loss: 0.2821 - accuracy: 0.8895 - val_loss: 0.2849 - val_accuracy: 0.8860\n",
      "Epoch 95/110\n",
      "4378/4378 [==============================] - 3s 748us/step - loss: 0.2823 - accuracy: 0.8898 - val_loss: 0.2829 - val_accuracy: 0.8887\n",
      "Epoch 96/110\n",
      "4378/4378 [==============================] - 3s 741us/step - loss: 0.2818 - accuracy: 0.8900 - val_loss: 0.3079 - val_accuracy: 0.8796\n",
      "Epoch 97/110\n",
      "4378/4378 [==============================] - 3s 741us/step - loss: 0.2812 - accuracy: 0.8902 - val_loss: 0.2838 - val_accuracy: 0.8887\n",
      "Epoch 98/110\n",
      "4369/4378 [============================>.] - ETA: 0s - loss: 0.2816 - accuracy: 0.8902INFO:tensorflow:Assets written to: /home/anza-tshilidzi/Desktop/Masters_material/e+ e- study/wandb/run-20240815_075659-ezqg7eof/files/model-best/assets\n"
     ]
    },
    {
     "name": "stderr",
     "output_type": "stream",
     "text": [
      "\u001b[34m\u001b[1mwandb\u001b[0m: Adding directory to artifact (/home/anza-tshilidzi/Desktop/Masters_material/e+ e- study/wandb/run-20240815_075659-ezqg7eof/files/model-best)... Done. 0.0s\n"
     ]
    },
    {
     "name": "stdout",
     "output_type": "stream",
     "text": [
      "4378/4378 [==============================] - 4s 903us/step - loss: 0.2817 - accuracy: 0.8901 - val_loss: 0.2802 - val_accuracy: 0.8902\n",
      "Epoch 99/110\n",
      "4378/4378 [==============================] - 3s 756us/step - loss: 0.2819 - accuracy: 0.8898 - val_loss: 0.2882 - val_accuracy: 0.8868\n",
      "Epoch 100/110\n",
      "4378/4378 [==============================] - 3s 738us/step - loss: 0.2816 - accuracy: 0.8897 - val_loss: 0.2985 - val_accuracy: 0.8862\n",
      "Epoch 101/110\n",
      "4378/4378 [==============================] - 3s 740us/step - loss: 0.2806 - accuracy: 0.8911 - val_loss: 0.2856 - val_accuracy: 0.8892\n",
      "Epoch 102/110\n",
      "4378/4378 [==============================] - 3s 744us/step - loss: 0.2789 - accuracy: 0.8912 - val_loss: 0.2832 - val_accuracy: 0.8888\n",
      "Epoch 103/110\n",
      "4378/4378 [==============================] - 3s 746us/step - loss: 0.2782 - accuracy: 0.8918 - val_loss: 0.3335 - val_accuracy: 0.8770\n",
      "Epoch 104/110\n",
      "4378/4378 [==============================] - 3s 759us/step - loss: 0.2777 - accuracy: 0.8930 - val_loss: 0.2988 - val_accuracy: 0.8818\n",
      "Epoch 105/110\n",
      "4304/4378 [============================>.] - ETA: 0s - loss: 0.2769 - accuracy: 0.8925INFO:tensorflow:Assets written to: /home/anza-tshilidzi/Desktop/Masters_material/e+ e- study/wandb/run-20240815_075659-ezqg7eof/files/model-best/assets\n"
     ]
    },
    {
     "name": "stderr",
     "output_type": "stream",
     "text": [
      "\u001b[34m\u001b[1mwandb\u001b[0m: Adding directory to artifact (/home/anza-tshilidzi/Desktop/Masters_material/e+ e- study/wandb/run-20240815_075659-ezqg7eof/files/model-best)... Done. 0.0s\n"
     ]
    },
    {
     "name": "stdout",
     "output_type": "stream",
     "text": [
      "4378/4378 [==============================] - 4s 962us/step - loss: 0.2767 - accuracy: 0.8926 - val_loss: 0.2799 - val_accuracy: 0.8895\n",
      "Epoch 106/110\n",
      "4378/4378 [==============================] - 3s 742us/step - loss: 0.2770 - accuracy: 0.8926 - val_loss: 0.2844 - val_accuracy: 0.8879\n",
      "Epoch 107/110\n",
      "4378/4378 [==============================] - 3s 750us/step - loss: 0.2754 - accuracy: 0.8934 - val_loss: 0.2838 - val_accuracy: 0.8884\n",
      "Epoch 108/110\n",
      "4378/4378 [==============================] - 3s 763us/step - loss: 0.2754 - accuracy: 0.8934 - val_loss: 0.2837 - val_accuracy: 0.8901\n",
      "Epoch 109/110\n",
      "4335/4378 [============================>.] - ETA: 0s - loss: 0.2748 - accuracy: 0.8935INFO:tensorflow:Assets written to: /home/anza-tshilidzi/Desktop/Masters_material/e+ e- study/wandb/run-20240815_075659-ezqg7eof/files/model-best/assets\n"
     ]
    },
    {
     "name": "stderr",
     "output_type": "stream",
     "text": [
      "\u001b[34m\u001b[1mwandb\u001b[0m: Adding directory to artifact (/home/anza-tshilidzi/Desktop/Masters_material/e+ e- study/wandb/run-20240815_075659-ezqg7eof/files/model-best)... Done. 0.0s\n"
     ]
    },
    {
     "name": "stdout",
     "output_type": "stream",
     "text": [
      "4378/4378 [==============================] - 4s 924us/step - loss: 0.2748 - accuracy: 0.8935 - val_loss: 0.2764 - val_accuracy: 0.8916\n",
      "Epoch 110/110\n",
      "4320/4378 [============================>.] - ETA: 0s - loss: 0.2743 - accuracy: 0.8939INFO:tensorflow:Assets written to: /home/anza-tshilidzi/Desktop/Masters_material/e+ e- study/wandb/run-20240815_075659-ezqg7eof/files/model-best/assets\n"
     ]
    },
    {
     "name": "stderr",
     "output_type": "stream",
     "text": [
      "\u001b[34m\u001b[1mwandb\u001b[0m: Adding directory to artifact (/home/anza-tshilidzi/Desktop/Masters_material/e+ e- study/wandb/run-20240815_075659-ezqg7eof/files/model-best)... Done. 0.0s\n"
     ]
    },
    {
     "name": "stdout",
     "output_type": "stream",
     "text": [
      "\b\b\b\b\b\b\b\b\b\b\b\b\b\b\b\b\b\b\b\b\b\b\b\b\b\b\b\b\b\b\b\b\b\b\b\b\b\b\b\b\b\b\b\b\b\b\b\b\b\b\b\b\b\b\b\b\b\b\b\b\b\b\b\b\b\b\b\b\b\b\b\b\b\b\b\b\b\b\b\b\b\b\b\b\b\b\r",
      "4378/4378 [==============================] - 4s 901us/step - loss: 0.2740 - accuracy: 0.8941 - val_loss: 0.2744 - val_accuracy: 0.8930\n"
     ]
    },
    {
     "data": {
      "application/vnd.jupyter.widget-view+json": {
       "model_id": "",
       "version_major": 2,
       "version_minor": 0
      },
      "text/plain": [
       "VBox(children=(Label(value='3.329 MB of 3.329 MB uploaded (0.190 MB deduped)\\r'), FloatProgress(value=1.0, max…"
      ]
     },
     "metadata": {},
     "output_type": "display_data"
    },
    {
     "data": {
      "text/html": [
       "W&B sync reduced upload amount by 5.5%"
      ],
      "text/plain": [
       "<IPython.core.display.HTML object>"
      ]
     },
     "metadata": {},
     "output_type": "display_data"
    },
    {
     "data": {
      "text/html": [
       "<style>\n",
       "    table.wandb td:nth-child(1) { padding: 0 10px; text-align: left ; width: auto;} td:nth-child(2) {text-align: left ; width: 100%}\n",
       "    .wandb-row { display: flex; flex-direction: row; flex-wrap: wrap; justify-content: flex-start; width: 100% }\n",
       "    .wandb-col { display: flex; flex-direction: column; flex-basis: 100%; flex: 1; padding: 10px; }\n",
       "    </style>\n",
       "<div class=\"wandb-row\"><div class=\"wandb-col\"><h3>Run history:</h3><br/><table class=\"wandb\"><tr><td>accuracy</td><td>▁▆▇▇▇▇██████████████████████████████████</td></tr><tr><td>epoch</td><td>▁▁▁▂▂▂▂▂▂▃▃▃▃▃▄▄▄▄▄▄▅▅▅▅▅▅▆▆▆▆▆▇▇▇▇▇▇███</td></tr><tr><td>loss</td><td>█▃▂▂▂▂▂▁▁▁▁▁▁▁▁▁▁▁▁▁▁▁▁▁▁▁▁▁▁▁▁▁▁▁▁▁▁▁▁▁</td></tr><tr><td>val_accuracy</td><td>▁▃▇▇▇▇▇▇█▇█████▇▇█▇█▇██▇█▇▇███▇██▇▇██▇██</td></tr><tr><td>val_loss</td><td>█▄▂▂▂▂▁▂▁▂▁▁▁▁▁▁▂▁▂▁▁▁▁▁▁▂▁▁▁▁▂▁▂▁▂▁▁▂▁▁</td></tr></table><br/></div><div class=\"wandb-col\"><h3>Run summary:</h3><br/><table class=\"wandb\"><tr><td>accuracy</td><td>0.89409</td></tr><tr><td>best_epoch</td><td>109</td></tr><tr><td>best_val_loss</td><td>0.27442</td></tr><tr><td>epoch</td><td>109</td></tr><tr><td>loss</td><td>0.27399</td></tr><tr><td>val_accuracy</td><td>0.89297</td></tr><tr><td>val_loss</td><td>0.27442</td></tr></table><br/></div></div>"
      ],
      "text/plain": [
       "<IPython.core.display.HTML object>"
      ]
     },
     "metadata": {},
     "output_type": "display_data"
    },
    {
     "data": {
      "text/html": [
       " View run <strong style=\"color:#cdcd00\">deep-sweep-5</strong> at: <a href='https://wandb.ai/anzanzio/ep-em%20DNN/runs/ezqg7eof' target=\"_blank\">https://wandb.ai/anzanzio/ep-em%20DNN/runs/ezqg7eof</a><br/> View project at: <a href='https://wandb.ai/anzanzio/ep-em%20DNN' target=\"_blank\">https://wandb.ai/anzanzio/ep-em%20DNN</a><br/>Synced 6 W&B file(s), 1 media file(s), 100 artifact file(s) and 1 other file(s)"
      ],
      "text/plain": [
       "<IPython.core.display.HTML object>"
      ]
     },
     "metadata": {},
     "output_type": "display_data"
    },
    {
     "data": {
      "text/html": [
       "Find logs at: <code>./wandb/run-20240815_075659-ezqg7eof/logs</code>"
      ],
      "text/plain": [
       "<IPython.core.display.HTML object>"
      ]
     },
     "metadata": {},
     "output_type": "display_data"
    },
    {
     "data": {
      "text/html": [
       "The new W&B backend becomes opt-out in version 0.18.0; try it out with `wandb.require(\"core\")`! See https://wandb.me/wandb-core for more information."
      ],
      "text/plain": [
       "<IPython.core.display.HTML object>"
      ]
     },
     "metadata": {},
     "output_type": "display_data"
    },
    {
     "name": "stderr",
     "output_type": "stream",
     "text": [
      "\u001b[34m\u001b[1mwandb\u001b[0m: Agent Starting Run: 9uren89w with config:\n",
      "\u001b[34m\u001b[1mwandb\u001b[0m: \tbatch_size: 26\n",
      "\u001b[34m\u001b[1mwandb\u001b[0m: \tepochs: 170\n",
      "\u001b[34m\u001b[1mwandb\u001b[0m: \tlayers: 28\n",
      "\u001b[34m\u001b[1mwandb\u001b[0m: \tlearning_rate: 0.0009080109555340808\n",
      "\u001b[34m\u001b[1mwandb\u001b[0m: \tneurons: 14\n",
      "\u001b[34m\u001b[1mwandb\u001b[0m: \toptimizer: adamax\n"
     ]
    },
    {
     "data": {
      "text/html": [
       "Tracking run with wandb version 0.17.6"
      ],
      "text/plain": [
       "<IPython.core.display.HTML object>"
      ]
     },
     "metadata": {},
     "output_type": "display_data"
    },
    {
     "data": {
      "text/html": [
       "Run data is saved locally in <code>/home/anza-tshilidzi/Desktop/Masters_material/e+ e- study/wandb/run-20240815_080351-9uren89w</code>"
      ],
      "text/plain": [
       "<IPython.core.display.HTML object>"
      ]
     },
     "metadata": {},
     "output_type": "display_data"
    },
    {
     "data": {
      "text/html": [
       "Syncing run <strong><a href='https://wandb.ai/anzanzio/ep-em%20DNN/runs/9uren89w' target=\"_blank\">major-sweep-6</a></strong> to <a href='https://wandb.ai/anzanzio/ep-em%20DNN' target=\"_blank\">Weights & Biases</a> (<a href='https://wandb.me/run' target=\"_blank\">docs</a>)<br/>Sweep page: <a href='https://wandb.ai/anzanzio/ep-em%20DNN/sweeps/lg5h93ch' target=\"_blank\">https://wandb.ai/anzanzio/ep-em%20DNN/sweeps/lg5h93ch</a>"
      ],
      "text/plain": [
       "<IPython.core.display.HTML object>"
      ]
     },
     "metadata": {},
     "output_type": "display_data"
    },
    {
     "data": {
      "text/html": [
       " View project at <a href='https://wandb.ai/anzanzio/ep-em%20DNN' target=\"_blank\">https://wandb.ai/anzanzio/ep-em%20DNN</a>"
      ],
      "text/plain": [
       "<IPython.core.display.HTML object>"
      ]
     },
     "metadata": {},
     "output_type": "display_data"
    },
    {
     "data": {
      "text/html": [
       " View sweep at <a href='https://wandb.ai/anzanzio/ep-em%20DNN/sweeps/lg5h93ch' target=\"_blank\">https://wandb.ai/anzanzio/ep-em%20DNN/sweeps/lg5h93ch</a>"
      ],
      "text/plain": [
       "<IPython.core.display.HTML object>"
      ]
     },
     "metadata": {},
     "output_type": "display_data"
    },
    {
     "data": {
      "text/html": [
       " View run at <a href='https://wandb.ai/anzanzio/ep-em%20DNN/runs/9uren89w' target=\"_blank\">https://wandb.ai/anzanzio/ep-em%20DNN/runs/9uren89w</a>"
      ],
      "text/plain": [
       "<IPython.core.display.HTML object>"
      ]
     },
     "metadata": {},
     "output_type": "display_data"
    },
    {
     "name": "stdout",
     "output_type": "stream",
     "text": [
      "Epoch 1/170\n",
      "3972/4041 [============================>.] - ETA: 0s - loss: 0.7364 - accuracy: 0.6735INFO:tensorflow:Assets written to: /home/anza-tshilidzi/Desktop/Masters_material/e+ e- study/wandb/run-20240815_080351-9uren89w/files/model-best/assets\n"
     ]
    },
    {
     "name": "stderr",
     "output_type": "stream",
     "text": [
      "\u001b[34m\u001b[1mwandb\u001b[0m: Adding directory to artifact (/home/anza-tshilidzi/Desktop/Masters_material/e+ e- study/wandb/run-20240815_080351-9uren89w/files/model-best)... Done. 0.0s\n"
     ]
    },
    {
     "name": "stdout",
     "output_type": "stream",
     "text": [
      "4041/4041 [==============================] - 4s 938us/step - loss: 0.7333 - accuracy: 0.6749 - val_loss: 0.5464 - val_accuracy: 0.7469\n",
      "Epoch 2/170\n",
      "3994/4041 [============================>.] - ETA: 0s - loss: 0.4053 - accuracy: 0.8525INFO:tensorflow:Assets written to: /home/anza-tshilidzi/Desktop/Masters_material/e+ e- study/wandb/run-20240815_080351-9uren89w/files/model-best/assets\n"
     ]
    },
    {
     "name": "stderr",
     "output_type": "stream",
     "text": [
      "\u001b[34m\u001b[1mwandb\u001b[0m: Adding directory to artifact (/home/anza-tshilidzi/Desktop/Masters_material/e+ e- study/wandb/run-20240815_080351-9uren89w/files/model-best)... Done. 0.0s\n"
     ]
    },
    {
     "name": "stdout",
     "output_type": "stream",
     "text": [
      "4041/4041 [==============================] - 4s 911us/step - loss: 0.4049 - accuracy: 0.8525 - val_loss: 0.4135 - val_accuracy: 0.8346\n",
      "Epoch 3/170\n",
      "4016/4041 [============================>.] - ETA: 0s - loss: 0.3344 - accuracy: 0.8750INFO:tensorflow:Assets written to: /home/anza-tshilidzi/Desktop/Masters_material/e+ e- study/wandb/run-20240815_080351-9uren89w/files/model-best/assets\n"
     ]
    },
    {
     "name": "stderr",
     "output_type": "stream",
     "text": [
      "\u001b[34m\u001b[1mwandb\u001b[0m: Adding directory to artifact (/home/anza-tshilidzi/Desktop/Masters_material/e+ e- study/wandb/run-20240815_080351-9uren89w/files/model-best)... Done. 0.0s\n"
     ]
    },
    {
     "name": "stdout",
     "output_type": "stream",
     "text": [
      "4041/4041 [==============================] - 4s 911us/step - loss: 0.3345 - accuracy: 0.8750 - val_loss: 0.3216 - val_accuracy: 0.8775\n",
      "Epoch 4/170\n",
      "3974/4041 [============================>.] - ETA: 0s - loss: 0.3262 - accuracy: 0.8756INFO:tensorflow:Assets written to: /home/anza-tshilidzi/Desktop/Masters_material/e+ e- study/wandb/run-20240815_080351-9uren89w/files/model-best/assets\n"
     ]
    },
    {
     "name": "stderr",
     "output_type": "stream",
     "text": [
      "\u001b[34m\u001b[1mwandb\u001b[0m: Adding directory to artifact (/home/anza-tshilidzi/Desktop/Masters_material/e+ e- study/wandb/run-20240815_080351-9uren89w/files/model-best)... Done. 0.0s\n"
     ]
    },
    {
     "name": "stdout",
     "output_type": "stream",
     "text": [
      "4041/4041 [==============================] - 4s 933us/step - loss: 0.3258 - accuracy: 0.8757 - val_loss: 0.3203 - val_accuracy: 0.8779\n",
      "Epoch 5/170\n",
      "4029/4041 [============================>.] - ETA: 0s - loss: 0.3229 - accuracy: 0.8765INFO:tensorflow:Assets written to: /home/anza-tshilidzi/Desktop/Masters_material/e+ e- study/wandb/run-20240815_080351-9uren89w/files/model-best/assets\n"
     ]
    },
    {
     "name": "stderr",
     "output_type": "stream",
     "text": [
      "\u001b[34m\u001b[1mwandb\u001b[0m: Adding directory to artifact (/home/anza-tshilidzi/Desktop/Masters_material/e+ e- study/wandb/run-20240815_080351-9uren89w/files/model-best)... Done. 0.0s\n"
     ]
    },
    {
     "name": "stdout",
     "output_type": "stream",
     "text": [
      "4041/4041 [==============================] - 4s 908us/step - loss: 0.3230 - accuracy: 0.8765 - val_loss: 0.3184 - val_accuracy: 0.8762\n",
      "Epoch 6/170\n",
      "4041/4041 [==============================] - 3s 735us/step - loss: 0.3208 - accuracy: 0.8763 - val_loss: 0.3840 - val_accuracy: 0.8510\n",
      "Epoch 7/170\n",
      "4028/4041 [============================>.] - ETA: 0s - loss: 0.3193 - accuracy: 0.8769INFO:tensorflow:Assets written to: /home/anza-tshilidzi/Desktop/Masters_material/e+ e- study/wandb/run-20240815_080351-9uren89w/files/model-best/assets\n"
     ]
    },
    {
     "name": "stderr",
     "output_type": "stream",
     "text": [
      "\u001b[34m\u001b[1mwandb\u001b[0m: Adding directory to artifact (/home/anza-tshilidzi/Desktop/Masters_material/e+ e- study/wandb/run-20240815_080351-9uren89w/files/model-best)... Done. 0.0s\n"
     ]
    },
    {
     "name": "stdout",
     "output_type": "stream",
     "text": [
      "4041/4041 [==============================] - 4s 901us/step - loss: 0.3194 - accuracy: 0.8768 - val_loss: 0.3176 - val_accuracy: 0.8783\n",
      "Epoch 8/170\n",
      "4041/4041 [==============================] - 3s 736us/step - loss: 0.3211 - accuracy: 0.8764 - val_loss: 0.3300 - val_accuracy: 0.8712\n",
      "Epoch 9/170\n",
      "4008/4041 [============================>.] - ETA: 0s - loss: 0.3176 - accuracy: 0.8768INFO:tensorflow:Assets written to: /home/anza-tshilidzi/Desktop/Masters_material/e+ e- study/wandb/run-20240815_080351-9uren89w/files/model-best/assets\n"
     ]
    },
    {
     "name": "stderr",
     "output_type": "stream",
     "text": [
      "\u001b[34m\u001b[1mwandb\u001b[0m: Adding directory to artifact (/home/anza-tshilidzi/Desktop/Masters_material/e+ e- study/wandb/run-20240815_080351-9uren89w/files/model-best)... Done. 0.0s\n"
     ]
    },
    {
     "name": "stdout",
     "output_type": "stream",
     "text": [
      "4041/4041 [==============================] - 4s 1ms/step - loss: 0.3177 - accuracy: 0.8769 - val_loss: 0.3156 - val_accuracy: 0.8790\n",
      "Epoch 10/170\n",
      "3992/4041 [============================>.] - ETA: 0s - loss: 0.3176 - accuracy: 0.8773INFO:tensorflow:Assets written to: /home/anza-tshilidzi/Desktop/Masters_material/e+ e- study/wandb/run-20240815_080351-9uren89w/files/model-best/assets\n"
     ]
    },
    {
     "name": "stderr",
     "output_type": "stream",
     "text": [
      "\u001b[34m\u001b[1mwandb\u001b[0m: Adding directory to artifact (/home/anza-tshilidzi/Desktop/Masters_material/e+ e- study/wandb/run-20240815_080351-9uren89w/files/model-best)... Done. 0.0s\n"
     ]
    },
    {
     "name": "stdout",
     "output_type": "stream",
     "text": [
      "4041/4041 [==============================] - 4s 906us/step - loss: 0.3176 - accuracy: 0.8773 - val_loss: 0.3097 - val_accuracy: 0.8784\n",
      "Epoch 11/170\n",
      "4041/4041 [==============================] - 3s 734us/step - loss: 0.3168 - accuracy: 0.8768 - val_loss: 0.3228 - val_accuracy: 0.8775\n",
      "Epoch 12/170\n",
      "4041/4041 [==============================] - 3s 735us/step - loss: 0.3167 - accuracy: 0.8771 - val_loss: 0.3123 - val_accuracy: 0.8789\n",
      "Epoch 13/170\n",
      "4041/4041 [==============================] - 3s 747us/step - loss: 0.3165 - accuracy: 0.8769 - val_loss: 0.3181 - val_accuracy: 0.8738\n",
      "Epoch 14/170\n",
      "4041/4041 [==============================] - 3s 731us/step - loss: 0.3147 - accuracy: 0.8777 - val_loss: 0.3263 - val_accuracy: 0.8716\n",
      "Epoch 15/170\n",
      "4041/4041 [==============================] - 3s 732us/step - loss: 0.3145 - accuracy: 0.8777 - val_loss: 0.3227 - val_accuracy: 0.8755\n",
      "Epoch 16/170\n",
      "4041/4041 [==============================] - 3s 732us/step - loss: 0.3136 - accuracy: 0.8778 - val_loss: 0.3223 - val_accuracy: 0.8754\n",
      "Epoch 17/170\n",
      "3997/4041 [============================>.] - ETA: 0s - loss: 0.3127 - accuracy: 0.8781INFO:tensorflow:Assets written to: /home/anza-tshilidzi/Desktop/Masters_material/e+ e- study/wandb/run-20240815_080351-9uren89w/files/model-best/assets\n"
     ]
    },
    {
     "name": "stderr",
     "output_type": "stream",
     "text": [
      "\u001b[34m\u001b[1mwandb\u001b[0m: Adding directory to artifact (/home/anza-tshilidzi/Desktop/Masters_material/e+ e- study/wandb/run-20240815_080351-9uren89w/files/model-best)... Done. 0.0s\n"
     ]
    },
    {
     "name": "stdout",
     "output_type": "stream",
     "text": [
      "4041/4041 [==============================] - 4s 1ms/step - loss: 0.3127 - accuracy: 0.8781 - val_loss: 0.3050 - val_accuracy: 0.8794\n",
      "Epoch 18/170\n",
      "4041/4041 [==============================] - 3s 749us/step - loss: 0.3120 - accuracy: 0.8785 - val_loss: 0.3091 - val_accuracy: 0.8777\n",
      "Epoch 19/170\n",
      "4041/4041 [==============================] - 3s 722us/step - loss: 0.3100 - accuracy: 0.8787 - val_loss: 0.3148 - val_accuracy: 0.8756\n",
      "Epoch 20/170\n",
      "4041/4041 [==============================] - 3s 723us/step - loss: 0.3098 - accuracy: 0.8787 - val_loss: 0.3075 - val_accuracy: 0.8783\n",
      "Epoch 21/170\n",
      "4041/4041 [==============================] - 3s 729us/step - loss: 0.3086 - accuracy: 0.8789 - val_loss: 0.3209 - val_accuracy: 0.8776\n",
      "Epoch 22/170\n",
      "4041/4041 [==============================] - 3s 725us/step - loss: 0.3090 - accuracy: 0.8787 - val_loss: 0.3176 - val_accuracy: 0.8769\n",
      "Epoch 23/170\n",
      "4041/4041 [==============================] - 3s 725us/step - loss: 0.3085 - accuracy: 0.8791 - val_loss: 0.3175 - val_accuracy: 0.8762\n",
      "Epoch 24/170\n",
      "4034/4041 [============================>.] - ETA: 0s - loss: 0.3068 - accuracy: 0.8794INFO:tensorflow:Assets written to: /home/anza-tshilidzi/Desktop/Masters_material/e+ e- study/wandb/run-20240815_080351-9uren89w/files/model-best/assets\n"
     ]
    },
    {
     "name": "stderr",
     "output_type": "stream",
     "text": [
      "\u001b[34m\u001b[1mwandb\u001b[0m: Adding directory to artifact (/home/anza-tshilidzi/Desktop/Masters_material/e+ e- study/wandb/run-20240815_080351-9uren89w/files/model-best)... Done. 0.0s\n"
     ]
    },
    {
     "name": "stdout",
     "output_type": "stream",
     "text": [
      "4041/4041 [==============================] - 4s 921us/step - loss: 0.3068 - accuracy: 0.8793 - val_loss: 0.3006 - val_accuracy: 0.8797\n",
      "Epoch 25/170\n",
      "4041/4041 [==============================] - 3s 723us/step - loss: 0.3068 - accuracy: 0.8792 - val_loss: 0.3219 - val_accuracy: 0.8756\n",
      "Epoch 26/170\n",
      "4041/4041 [==============================] - 3s 721us/step - loss: 0.3053 - accuracy: 0.8796 - val_loss: 0.3111 - val_accuracy: 0.8780\n",
      "Epoch 27/170\n",
      "4041/4041 [==============================] - 3s 720us/step - loss: 0.3062 - accuracy: 0.8796 - val_loss: 0.3017 - val_accuracy: 0.8804\n",
      "Epoch 28/170\n",
      "4041/4041 [==============================] - 3s 724us/step - loss: 0.3054 - accuracy: 0.8800 - val_loss: 0.3237 - val_accuracy: 0.8760\n",
      "Epoch 29/170\n",
      "4041/4041 [==============================] - 3s 748us/step - loss: 0.3055 - accuracy: 0.8800 - val_loss: 0.3022 - val_accuracy: 0.8800\n",
      "Epoch 30/170\n",
      "4017/4041 [============================>.] - ETA: 0s - loss: 0.3046 - accuracy: 0.8800INFO:tensorflow:Assets written to: /home/anza-tshilidzi/Desktop/Masters_material/e+ e- study/wandb/run-20240815_080351-9uren89w/files/model-best/assets\n"
     ]
    },
    {
     "name": "stderr",
     "output_type": "stream",
     "text": [
      "\u001b[34m\u001b[1mwandb\u001b[0m: Adding directory to artifact (/home/anza-tshilidzi/Desktop/Masters_material/e+ e- study/wandb/run-20240815_080351-9uren89w/files/model-best)... Done. 0.0s\n"
     ]
    },
    {
     "name": "stdout",
     "output_type": "stream",
     "text": [
      "4041/4041 [==============================] - 4s 920us/step - loss: 0.3047 - accuracy: 0.8799 - val_loss: 0.2988 - val_accuracy: 0.8809\n",
      "Epoch 31/170\n",
      "4041/4041 [==============================] - 3s 728us/step - loss: 0.3034 - accuracy: 0.8810 - val_loss: 0.2998 - val_accuracy: 0.8812\n",
      "Epoch 32/170\n",
      "4041/4041 [==============================] - 3s 721us/step - loss: 0.3025 - accuracy: 0.8807 - val_loss: 0.3005 - val_accuracy: 0.8802\n",
      "Epoch 33/170\n",
      "4041/4041 [==============================] - 3s 726us/step - loss: 0.3032 - accuracy: 0.8799 - val_loss: 0.3017 - val_accuracy: 0.8799\n",
      "Epoch 34/170\n",
      "4041/4041 [==============================] - 3s 745us/step - loss: 0.3042 - accuracy: 0.8807 - val_loss: 0.3161 - val_accuracy: 0.8741\n",
      "Epoch 35/170\n",
      "4041/4041 [==============================] - 3s 724us/step - loss: 0.3038 - accuracy: 0.8799 - val_loss: 0.3359 - val_accuracy: 0.8669\n",
      "Epoch 36/170\n",
      "4041/4041 [==============================] - 3s 721us/step - loss: 0.3029 - accuracy: 0.8805 - val_loss: 0.3265 - val_accuracy: 0.8727\n",
      "Epoch 37/170\n",
      "4041/4041 [==============================] - 3s 728us/step - loss: 0.3032 - accuracy: 0.8808 - val_loss: 0.2992 - val_accuracy: 0.8812\n",
      "Epoch 38/170\n",
      "4041/4041 [==============================] - 3s 728us/step - loss: 0.3027 - accuracy: 0.8806 - val_loss: 0.3124 - val_accuracy: 0.8767\n",
      "Epoch 39/170\n",
      "4041/4041 [==============================] - 3s 744us/step - loss: 0.3018 - accuracy: 0.8807 - val_loss: 0.3000 - val_accuracy: 0.8813\n",
      "Epoch 40/170\n",
      "4041/4041 [==============================] - 3s 749us/step - loss: 0.3012 - accuracy: 0.8815 - val_loss: 0.3043 - val_accuracy: 0.8797\n",
      "Epoch 41/170\n",
      "3974/4041 [============================>.] - ETA: 0s - loss: 0.3028 - accuracy: 0.8808INFO:tensorflow:Assets written to: /home/anza-tshilidzi/Desktop/Masters_material/e+ e- study/wandb/run-20240815_080351-9uren89w/files/model-best/assets\n"
     ]
    },
    {
     "name": "stderr",
     "output_type": "stream",
     "text": [
      "\u001b[34m\u001b[1mwandb\u001b[0m: Adding directory to artifact (/home/anza-tshilidzi/Desktop/Masters_material/e+ e- study/wandb/run-20240815_080351-9uren89w/files/model-best)... Done. 0.0s\n"
     ]
    },
    {
     "name": "stdout",
     "output_type": "stream",
     "text": [
      "4041/4041 [==============================] - 4s 917us/step - loss: 0.3028 - accuracy: 0.8807 - val_loss: 0.2980 - val_accuracy: 0.8810\n",
      "Epoch 42/170\n",
      "4041/4041 [==============================] - 3s 731us/step - loss: 0.3020 - accuracy: 0.8805 - val_loss: 0.3056 - val_accuracy: 0.8789\n",
      "Epoch 43/170\n",
      "4041/4041 [==============================] - 3s 731us/step - loss: 0.3022 - accuracy: 0.8807 - val_loss: 0.3000 - val_accuracy: 0.8797\n",
      "Epoch 44/170\n",
      "4041/4041 [==============================] - 3s 729us/step - loss: 0.3021 - accuracy: 0.8804 - val_loss: 0.3420 - val_accuracy: 0.8679\n",
      "Epoch 45/170\n",
      "4041/4041 [==============================] - 3s 740us/step - loss: 0.3017 - accuracy: 0.8803 - val_loss: 0.3080 - val_accuracy: 0.8784\n",
      "Epoch 46/170\n",
      "4041/4041 [==============================] - 3s 736us/step - loss: 0.3010 - accuracy: 0.8811 - val_loss: 0.3036 - val_accuracy: 0.8809\n",
      "Epoch 47/170\n",
      "4041/4041 [==============================] - 3s 733us/step - loss: 0.3008 - accuracy: 0.8813 - val_loss: 0.3043 - val_accuracy: 0.8803\n",
      "Epoch 48/170\n",
      "4041/4041 [==============================] - 3s 725us/step - loss: 0.3016 - accuracy: 0.8809 - val_loss: 0.3021 - val_accuracy: 0.8807\n",
      "Epoch 49/170\n",
      "4041/4041 [==============================] - 3s 726us/step - loss: 0.3003 - accuracy: 0.8809 - val_loss: 0.2997 - val_accuracy: 0.8809\n",
      "Epoch 50/170\n",
      "4041/4041 [==============================] - 3s 739us/step - loss: 0.3007 - accuracy: 0.8806 - val_loss: 0.3081 - val_accuracy: 0.8791\n",
      "Epoch 51/170\n",
      "4041/4041 [==============================] - 3s 737us/step - loss: 0.3011 - accuracy: 0.8810 - val_loss: 0.3077 - val_accuracy: 0.8768\n",
      "Epoch 52/170\n",
      "4041/4041 [==============================] - 3s 727us/step - loss: 0.3008 - accuracy: 0.8811 - val_loss: 0.3176 - val_accuracy: 0.8779\n",
      "Epoch 53/170\n",
      "4041/4041 [==============================] - 3s 728us/step - loss: 0.3002 - accuracy: 0.8811 - val_loss: 0.2989 - val_accuracy: 0.8812\n",
      "Epoch 54/170\n",
      "3983/4041 [============================>.] - ETA: 0s - loss: 0.3005 - accuracy: 0.8810INFO:tensorflow:Assets written to: /home/anza-tshilidzi/Desktop/Masters_material/e+ e- study/wandb/run-20240815_080351-9uren89w/files/model-best/assets\n"
     ]
    },
    {
     "name": "stderr",
     "output_type": "stream",
     "text": [
      "\u001b[34m\u001b[1mwandb\u001b[0m: Adding directory to artifact (/home/anza-tshilidzi/Desktop/Masters_material/e+ e- study/wandb/run-20240815_080351-9uren89w/files/model-best)... Done. 0.0s\n"
     ]
    },
    {
     "name": "stdout",
     "output_type": "stream",
     "text": [
      "4041/4041 [==============================] - 4s 1ms/step - loss: 0.3000 - accuracy: 0.8812 - val_loss: 0.2971 - val_accuracy: 0.8813\n",
      "Epoch 55/170\n",
      "4041/4041 [==============================] - 3s 742us/step - loss: 0.2987 - accuracy: 0.8822 - val_loss: 0.3009 - val_accuracy: 0.8807\n",
      "Epoch 56/170\n",
      "4022/4041 [============================>.] - ETA: 0s - loss: 0.2999 - accuracy: 0.8819INFO:tensorflow:Assets written to: /home/anza-tshilidzi/Desktop/Masters_material/e+ e- study/wandb/run-20240815_080351-9uren89w/files/model-best/assets\n"
     ]
    },
    {
     "name": "stderr",
     "output_type": "stream",
     "text": [
      "\u001b[34m\u001b[1mwandb\u001b[0m: Adding directory to artifact (/home/anza-tshilidzi/Desktop/Masters_material/e+ e- study/wandb/run-20240815_080351-9uren89w/files/model-best)... Done. 0.0s\n"
     ]
    },
    {
     "name": "stdout",
     "output_type": "stream",
     "text": [
      "4041/4041 [==============================] - 4s 930us/step - loss: 0.2999 - accuracy: 0.8818 - val_loss: 0.2959 - val_accuracy: 0.8815\n",
      "Epoch 57/170\n",
      "4041/4041 [==============================] - 3s 738us/step - loss: 0.2992 - accuracy: 0.8820 - val_loss: 0.3068 - val_accuracy: 0.8787\n",
      "Epoch 58/170\n",
      "4041/4041 [==============================] - 3s 725us/step - loss: 0.2974 - accuracy: 0.8826 - val_loss: 0.3026 - val_accuracy: 0.8793\n",
      "Epoch 59/170\n",
      "4041/4041 [==============================] - 3s 728us/step - loss: 0.2967 - accuracy: 0.8825 - val_loss: 0.2971 - val_accuracy: 0.8821\n",
      "Epoch 60/170\n",
      "4041/4041 [==============================] - 3s 742us/step - loss: 0.2958 - accuracy: 0.8830 - val_loss: 0.2962 - val_accuracy: 0.8827\n",
      "Epoch 61/170\n",
      "4036/4041 [============================>.] - ETA: 0s - loss: 0.2955 - accuracy: 0.8832INFO:tensorflow:Assets written to: /home/anza-tshilidzi/Desktop/Masters_material/e+ e- study/wandb/run-20240815_080351-9uren89w/files/model-best/assets\n"
     ]
    },
    {
     "name": "stderr",
     "output_type": "stream",
     "text": [
      "\u001b[34m\u001b[1mwandb\u001b[0m: Adding directory to artifact (/home/anza-tshilidzi/Desktop/Masters_material/e+ e- study/wandb/run-20240815_080351-9uren89w/files/model-best)... Done. 0.0s\n"
     ]
    },
    {
     "name": "stdout",
     "output_type": "stream",
     "text": [
      "4041/4041 [==============================] - 4s 913us/step - loss: 0.2957 - accuracy: 0.8832 - val_loss: 0.2912 - val_accuracy: 0.8839\n",
      "Epoch 62/170\n",
      "4041/4041 [==============================] - 3s 727us/step - loss: 0.2944 - accuracy: 0.8837 - val_loss: 0.2931 - val_accuracy: 0.8833\n",
      "Epoch 63/170\n",
      "4041/4041 [==============================] - 3s 726us/step - loss: 0.2928 - accuracy: 0.8849 - val_loss: 0.3026 - val_accuracy: 0.8802\n",
      "Epoch 64/170\n",
      "4041/4041 [==============================] - 3s 728us/step - loss: 0.2929 - accuracy: 0.8849 - val_loss: 0.3357 - val_accuracy: 0.8707\n",
      "Epoch 65/170\n",
      "3993/4041 [============================>.] - ETA: 0s - loss: 0.2919 - accuracy: 0.8845INFO:tensorflow:Assets written to: /home/anza-tshilidzi/Desktop/Masters_material/e+ e- study/wandb/run-20240815_080351-9uren89w/files/model-best/assets\n"
     ]
    },
    {
     "name": "stderr",
     "output_type": "stream",
     "text": [
      "\u001b[34m\u001b[1mwandb\u001b[0m: Adding directory to artifact (/home/anza-tshilidzi/Desktop/Masters_material/e+ e- study/wandb/run-20240815_080351-9uren89w/files/model-best)... Done. 0.0s\n"
     ]
    },
    {
     "name": "stdout",
     "output_type": "stream",
     "text": [
      "4041/4041 [==============================] - 4s 934us/step - loss: 0.2923 - accuracy: 0.8843 - val_loss: 0.2912 - val_accuracy: 0.8831\n",
      "Epoch 66/170\n",
      "4041/4041 [==============================] - 3s 735us/step - loss: 0.2922 - accuracy: 0.8846 - val_loss: 0.3046 - val_accuracy: 0.8816\n",
      "Epoch 67/170\n",
      "4041/4041 [==============================] - 3s 728us/step - loss: 0.2916 - accuracy: 0.8843 - val_loss: 0.2945 - val_accuracy: 0.8828\n",
      "Epoch 68/170\n",
      "4041/4041 [==============================] - 3s 733us/step - loss: 0.2912 - accuracy: 0.8843 - val_loss: 0.2920 - val_accuracy: 0.8849\n",
      "Epoch 69/170\n",
      "4041/4041 [==============================] - 3s 720us/step - loss: 0.2905 - accuracy: 0.8847 - val_loss: 0.3027 - val_accuracy: 0.8808\n",
      "Epoch 70/170\n",
      "3999/4041 [============================>.] - ETA: 0s - loss: 0.2895 - accuracy: 0.8843INFO:tensorflow:Assets written to: /home/anza-tshilidzi/Desktop/Masters_material/e+ e- study/wandb/run-20240815_080351-9uren89w/files/model-best/assets\n"
     ]
    },
    {
     "name": "stderr",
     "output_type": "stream",
     "text": [
      "\u001b[34m\u001b[1mwandb\u001b[0m: Adding directory to artifact (/home/anza-tshilidzi/Desktop/Masters_material/e+ e- study/wandb/run-20240815_080351-9uren89w/files/model-best)... Done. 0.0s\n"
     ]
    },
    {
     "name": "stdout",
     "output_type": "stream",
     "text": [
      "4041/4041 [==============================] - 4s 959us/step - loss: 0.2891 - accuracy: 0.8845 - val_loss: 0.2905 - val_accuracy: 0.8838\n",
      "Epoch 71/170\n",
      "4041/4041 [==============================] - 3s 731us/step - loss: 0.2890 - accuracy: 0.8852 - val_loss: 0.2972 - val_accuracy: 0.8812\n",
      "Epoch 72/170\n",
      "4041/4041 [==============================] - 3s 729us/step - loss: 0.2891 - accuracy: 0.8852 - val_loss: 0.3215 - val_accuracy: 0.8750\n",
      "Epoch 73/170\n",
      "4038/4041 [============================>.] - ETA: 0s - loss: 0.2896 - accuracy: 0.8856INFO:tensorflow:Assets written to: /home/anza-tshilidzi/Desktop/Masters_material/e+ e- study/wandb/run-20240815_080351-9uren89w/files/model-best/assets\n"
     ]
    },
    {
     "name": "stderr",
     "output_type": "stream",
     "text": [
      "\u001b[34m\u001b[1mwandb\u001b[0m: Adding directory to artifact (/home/anza-tshilidzi/Desktop/Masters_material/e+ e- study/wandb/run-20240815_080351-9uren89w/files/model-best)... Done. 0.0s\n"
     ]
    },
    {
     "name": "stdout",
     "output_type": "stream",
     "text": [
      "4041/4041 [==============================] - 4s 918us/step - loss: 0.2896 - accuracy: 0.8855 - val_loss: 0.2861 - val_accuracy: 0.8853\n",
      "Epoch 74/170\n",
      "4041/4041 [==============================] - 3s 727us/step - loss: 0.2899 - accuracy: 0.8852 - val_loss: 0.2896 - val_accuracy: 0.8846\n",
      "Epoch 75/170\n",
      "4041/4041 [==============================] - 3s 750us/step - loss: 0.2884 - accuracy: 0.8857 - val_loss: 0.2931 - val_accuracy: 0.8833\n",
      "Epoch 76/170\n",
      "4041/4041 [==============================] - 3s 753us/step - loss: 0.2883 - accuracy: 0.8854 - val_loss: 0.2928 - val_accuracy: 0.8830\n",
      "Epoch 77/170\n",
      "4041/4041 [==============================] - 3s 728us/step - loss: 0.2873 - accuracy: 0.8850 - val_loss: 0.2882 - val_accuracy: 0.8852\n",
      "Epoch 78/170\n",
      "4041/4041 [==============================] - 3s 736us/step - loss: 0.2880 - accuracy: 0.8855 - val_loss: 0.2875 - val_accuracy: 0.8852\n",
      "Epoch 79/170\n",
      "4041/4041 [==============================] - 3s 742us/step - loss: 0.2884 - accuracy: 0.8856 - val_loss: 0.2880 - val_accuracy: 0.8839\n",
      "Epoch 80/170\n",
      "4041/4041 [==============================] - 3s 736us/step - loss: 0.2890 - accuracy: 0.8852 - val_loss: 0.3036 - val_accuracy: 0.8779\n",
      "Epoch 81/170\n",
      "4041/4041 [==============================] - 3s 768us/step - loss: 0.2868 - accuracy: 0.8859 - val_loss: 0.2944 - val_accuracy: 0.8843\n",
      "Epoch 82/170\n",
      "3958/4041 [============================>.] - ETA: 0s - loss: 0.2879 - accuracy: 0.8853INFO:tensorflow:Assets written to: /home/anza-tshilidzi/Desktop/Masters_material/e+ e- study/wandb/run-20240815_080351-9uren89w/files/model-best/assets\n"
     ]
    },
    {
     "name": "stderr",
     "output_type": "stream",
     "text": [
      "\u001b[34m\u001b[1mwandb\u001b[0m: Adding directory to artifact (/home/anza-tshilidzi/Desktop/Masters_material/e+ e- study/wandb/run-20240815_080351-9uren89w/files/model-best)... Done. 0.0s\n"
     ]
    },
    {
     "name": "stdout",
     "output_type": "stream",
     "text": [
      "4041/4041 [==============================] - 4s 988us/step - loss: 0.2878 - accuracy: 0.8853 - val_loss: 0.2845 - val_accuracy: 0.8854\n",
      "Epoch 83/170\n",
      "4041/4041 [==============================] - 3s 731us/step - loss: 0.2876 - accuracy: 0.8858 - val_loss: 0.2880 - val_accuracy: 0.8845\n",
      "Epoch 84/170\n",
      "4009/4041 [============================>.] - ETA: 0s - loss: 0.2870 - accuracy: 0.8859INFO:tensorflow:Assets written to: /home/anza-tshilidzi/Desktop/Masters_material/e+ e- study/wandb/run-20240815_080351-9uren89w/files/model-best/assets\n"
     ]
    },
    {
     "name": "stderr",
     "output_type": "stream",
     "text": [
      "\u001b[34m\u001b[1mwandb\u001b[0m: Adding directory to artifact (/home/anza-tshilidzi/Desktop/Masters_material/e+ e- study/wandb/run-20240815_080351-9uren89w/files/model-best)... Done. 0.0s\n"
     ]
    },
    {
     "name": "stdout",
     "output_type": "stream",
     "text": [
      "4041/4041 [==============================] - 4s 911us/step - loss: 0.2871 - accuracy: 0.8859 - val_loss: 0.2844 - val_accuracy: 0.8857\n",
      "Epoch 85/170\n",
      "4041/4041 [==============================] - 3s 748us/step - loss: 0.2874 - accuracy: 0.8861 - val_loss: 0.2888 - val_accuracy: 0.8842\n",
      "Epoch 86/170\n",
      "4041/4041 [==============================] - 3s 731us/step - loss: 0.2858 - accuracy: 0.8859 - val_loss: 0.2979 - val_accuracy: 0.8814\n",
      "Epoch 87/170\n",
      "4041/4041 [==============================] - 3s 728us/step - loss: 0.2862 - accuracy: 0.8856 - val_loss: 0.2947 - val_accuracy: 0.8803\n",
      "Epoch 88/170\n",
      "4041/4041 [==============================] - 3s 729us/step - loss: 0.2872 - accuracy: 0.8855 - val_loss: 0.2883 - val_accuracy: 0.8849\n",
      "Epoch 89/170\n",
      "4041/4041 [==============================] - 3s 745us/step - loss: 0.2863 - accuracy: 0.8857 - val_loss: 0.2939 - val_accuracy: 0.8803\n",
      "Epoch 90/170\n",
      "4041/4041 [==============================] - 3s 735us/step - loss: 0.2862 - accuracy: 0.8860 - val_loss: 0.2850 - val_accuracy: 0.8853\n",
      "Epoch 91/170\n",
      "4041/4041 [==============================] - 3s 753us/step - loss: 0.2850 - accuracy: 0.8867 - val_loss: 0.3022 - val_accuracy: 0.8809\n",
      "Epoch 92/170\n",
      "4041/4041 [==============================] - 3s 728us/step - loss: 0.2849 - accuracy: 0.8866 - val_loss: 0.3018 - val_accuracy: 0.8780\n",
      "Epoch 93/170\n",
      "4041/4041 [==============================] - 3s 731us/step - loss: 0.2856 - accuracy: 0.8856 - val_loss: 0.2915 - val_accuracy: 0.8836\n",
      "Epoch 94/170\n",
      "4041/4041 [==============================] - 3s 726us/step - loss: 0.2856 - accuracy: 0.8858 - val_loss: 0.2990 - val_accuracy: 0.8820\n",
      "Epoch 95/170\n",
      "4041/4041 [==============================] - 3s 732us/step - loss: 0.2855 - accuracy: 0.8862 - val_loss: 0.2862 - val_accuracy: 0.8855\n",
      "Epoch 96/170\n",
      "4041/4041 [==============================] - 3s 750us/step - loss: 0.2843 - accuracy: 0.8863 - val_loss: 0.2925 - val_accuracy: 0.8832\n",
      "Epoch 97/170\n",
      "4041/4041 [==============================] - 3s 735us/step - loss: 0.2852 - accuracy: 0.8864 - val_loss: 0.2890 - val_accuracy: 0.8838\n",
      "Epoch 98/170\n",
      "4041/4041 [==============================] - 3s 732us/step - loss: 0.2854 - accuracy: 0.8861 - val_loss: 0.2969 - val_accuracy: 0.8821\n",
      "Epoch 99/170\n",
      "4041/4041 [==============================] - 3s 729us/step - loss: 0.2855 - accuracy: 0.8861 - val_loss: 0.2850 - val_accuracy: 0.8857\n",
      "Epoch 100/170\n",
      "4041/4041 [==============================] - 3s 727us/step - loss: 0.2851 - accuracy: 0.8863 - val_loss: 0.2851 - val_accuracy: 0.8850\n",
      "Epoch 101/170\n",
      "4027/4041 [============================>.] - ETA: 0s - loss: 0.2854 - accuracy: 0.8867INFO:tensorflow:Assets written to: /home/anza-tshilidzi/Desktop/Masters_material/e+ e- study/wandb/run-20240815_080351-9uren89w/files/model-best/assets\n"
     ]
    },
    {
     "name": "stderr",
     "output_type": "stream",
     "text": [
      "\u001b[34m\u001b[1mwandb\u001b[0m: Adding directory to artifact (/home/anza-tshilidzi/Desktop/Masters_material/e+ e- study/wandb/run-20240815_080351-9uren89w/files/model-best)... Done. 0.0s\n"
     ]
    },
    {
     "name": "stdout",
     "output_type": "stream",
     "text": [
      "4041/4041 [==============================] - 4s 916us/step - loss: 0.2855 - accuracy: 0.8866 - val_loss: 0.2818 - val_accuracy: 0.8852\n",
      "Epoch 102/170\n",
      "4041/4041 [==============================] - 3s 729us/step - loss: 0.2853 - accuracy: 0.8860 - val_loss: 0.2977 - val_accuracy: 0.8806\n",
      "Epoch 103/170\n",
      "4041/4041 [==============================] - 3s 729us/step - loss: 0.2838 - accuracy: 0.8864 - val_loss: 0.2966 - val_accuracy: 0.8824\n",
      "Epoch 104/170\n",
      "4041/4041 [==============================] - 3s 734us/step - loss: 0.2843 - accuracy: 0.8861 - val_loss: 0.2941 - val_accuracy: 0.8819\n",
      "Epoch 105/170\n",
      "4041/4041 [==============================] - 3s 731us/step - loss: 0.2850 - accuracy: 0.8865 - val_loss: 0.2910 - val_accuracy: 0.8830\n",
      "Epoch 106/170\n",
      "4041/4041 [==============================] - 3s 729us/step - loss: 0.2840 - accuracy: 0.8863 - val_loss: 0.2885 - val_accuracy: 0.8845\n",
      "Epoch 107/170\n",
      "4041/4041 [==============================] - 3s 759us/step - loss: 0.2844 - accuracy: 0.8864 - val_loss: 0.2856 - val_accuracy: 0.8846\n",
      "Epoch 108/170\n",
      "4041/4041 [==============================] - 3s 725us/step - loss: 0.2851 - accuracy: 0.8859 - val_loss: 0.2860 - val_accuracy: 0.8847\n",
      "Epoch 109/170\n",
      "4041/4041 [==============================] - 3s 731us/step - loss: 0.2841 - accuracy: 0.8867 - val_loss: 0.2914 - val_accuracy: 0.8807\n",
      "Epoch 110/170\n",
      "4041/4041 [==============================] - 3s 734us/step - loss: 0.2844 - accuracy: 0.8862 - val_loss: 0.2823 - val_accuracy: 0.8859\n",
      "Epoch 111/170\n",
      "4041/4041 [==============================] - 3s 736us/step - loss: 0.2839 - accuracy: 0.8864 - val_loss: 0.2925 - val_accuracy: 0.8832\n",
      "Epoch 112/170\n",
      "4041/4041 [==============================] - 3s 754us/step - loss: 0.2838 - accuracy: 0.8865 - val_loss: 0.2865 - val_accuracy: 0.8838\n",
      "Epoch 113/170\n",
      "4041/4041 [==============================] - 3s 730us/step - loss: 0.2839 - accuracy: 0.8866 - val_loss: 0.2865 - val_accuracy: 0.8839\n",
      "Epoch 114/170\n",
      "4041/4041 [==============================] - 3s 723us/step - loss: 0.2842 - accuracy: 0.8859 - val_loss: 0.2872 - val_accuracy: 0.8843\n",
      "Epoch 115/170\n",
      "4041/4041 [==============================] - 3s 731us/step - loss: 0.2836 - accuracy: 0.8866 - val_loss: 0.2874 - val_accuracy: 0.8843\n",
      "Epoch 116/170\n",
      "4041/4041 [==============================] - 3s 737us/step - loss: 0.2835 - accuracy: 0.8865 - val_loss: 0.3055 - val_accuracy: 0.8806\n",
      "Epoch 117/170\n",
      "4041/4041 [==============================] - 3s 748us/step - loss: 0.2833 - accuracy: 0.8867 - val_loss: 0.2997 - val_accuracy: 0.8747\n",
      "Epoch 118/170\n",
      "4041/4041 [==============================] - 3s 739us/step - loss: 0.2837 - accuracy: 0.8868 - val_loss: 0.2904 - val_accuracy: 0.8841\n",
      "Epoch 119/170\n",
      "4041/4041 [==============================] - 3s 725us/step - loss: 0.2834 - accuracy: 0.8867 - val_loss: 0.2938 - val_accuracy: 0.8795\n",
      "Epoch 120/170\n",
      "4041/4041 [==============================] - 3s 727us/step - loss: 0.2833 - accuracy: 0.8864 - val_loss: 0.2849 - val_accuracy: 0.8865\n",
      "Epoch 121/170\n",
      "4041/4041 [==============================] - 3s 734us/step - loss: 0.2832 - accuracy: 0.8862 - val_loss: 0.2826 - val_accuracy: 0.8852\n",
      "Epoch 122/170\n",
      "3959/4041 [============================>.] - ETA: 0s - loss: 0.2830 - accuracy: 0.8863INFO:tensorflow:Assets written to: /home/anza-tshilidzi/Desktop/Masters_material/e+ e- study/wandb/run-20240815_080351-9uren89w/files/model-best/assets\n"
     ]
    },
    {
     "name": "stderr",
     "output_type": "stream",
     "text": [
      "\u001b[34m\u001b[1mwandb\u001b[0m: Adding directory to artifact (/home/anza-tshilidzi/Desktop/Masters_material/e+ e- study/wandb/run-20240815_080351-9uren89w/files/model-best)... Done. 0.0s\n"
     ]
    },
    {
     "name": "stdout",
     "output_type": "stream",
     "text": [
      "4041/4041 [==============================] - 4s 911us/step - loss: 0.2828 - accuracy: 0.8865 - val_loss: 0.2817 - val_accuracy: 0.8860\n",
      "Epoch 123/170\n",
      "4041/4041 [==============================] - 3s 745us/step - loss: 0.2824 - accuracy: 0.8867 - val_loss: 0.2826 - val_accuracy: 0.8853\n",
      "Epoch 124/170\n",
      "4024/4041 [============================>.] - ETA: 0s - loss: 0.2832 - accuracy: 0.8867INFO:tensorflow:Assets written to: /home/anza-tshilidzi/Desktop/Masters_material/e+ e- study/wandb/run-20240815_080351-9uren89w/files/model-best/assets\n"
     ]
    },
    {
     "name": "stderr",
     "output_type": "stream",
     "text": [
      "\u001b[34m\u001b[1mwandb\u001b[0m: Adding directory to artifact (/home/anza-tshilidzi/Desktop/Masters_material/e+ e- study/wandb/run-20240815_080351-9uren89w/files/model-best)... Done. 0.0s\n"
     ]
    },
    {
     "name": "stdout",
     "output_type": "stream",
     "text": [
      "4041/4041 [==============================] - 4s 1ms/step - loss: 0.2832 - accuracy: 0.8867 - val_loss: 0.2808 - val_accuracy: 0.8850\n",
      "Epoch 125/170\n",
      "4041/4041 [==============================] - 3s 730us/step - loss: 0.2819 - accuracy: 0.8871 - val_loss: 0.2840 - val_accuracy: 0.8855\n",
      "Epoch 126/170\n",
      "4041/4041 [==============================] - 3s 723us/step - loss: 0.2831 - accuracy: 0.8865 - val_loss: 0.2853 - val_accuracy: 0.8852\n",
      "Epoch 127/170\n",
      "4041/4041 [==============================] - 3s 731us/step - loss: 0.2826 - accuracy: 0.8865 - val_loss: 0.2825 - val_accuracy: 0.8860\n",
      "Epoch 128/170\n",
      "4041/4041 [==============================] - 3s 737us/step - loss: 0.2824 - accuracy: 0.8867 - val_loss: 0.2898 - val_accuracy: 0.8843\n",
      "Epoch 129/170\n",
      "4041/4041 [==============================] - 3s 725us/step - loss: 0.2830 - accuracy: 0.8861 - val_loss: 0.2830 - val_accuracy: 0.8859\n",
      "Epoch 130/170\n",
      "4041/4041 [==============================] - 3s 722us/step - loss: 0.2827 - accuracy: 0.8865 - val_loss: 0.2891 - val_accuracy: 0.8838\n",
      "Epoch 131/170\n",
      "4041/4041 [==============================] - 3s 722us/step - loss: 0.2824 - accuracy: 0.8868 - val_loss: 0.2875 - val_accuracy: 0.8840\n",
      "Epoch 132/170\n",
      "4041/4041 [==============================] - 3s 722us/step - loss: 0.2819 - accuracy: 0.8861 - val_loss: 0.2839 - val_accuracy: 0.8856\n",
      "Epoch 133/170\n",
      "4041/4041 [==============================] - 3s 740us/step - loss: 0.2824 - accuracy: 0.8868 - val_loss: 0.2980 - val_accuracy: 0.8812\n",
      "Epoch 134/170\n",
      "4041/4041 [==============================] - 3s 743us/step - loss: 0.2829 - accuracy: 0.8862 - val_loss: 0.2919 - val_accuracy: 0.8834\n",
      "Epoch 135/170\n",
      "4041/4041 [==============================] - 3s 753us/step - loss: 0.2822 - accuracy: 0.8862 - val_loss: 0.2933 - val_accuracy: 0.8825\n",
      "Epoch 136/170\n",
      "4041/4041 [==============================] - 3s 729us/step - loss: 0.2820 - accuracy: 0.8866 - val_loss: 0.2850 - val_accuracy: 0.8856\n",
      "Epoch 137/170\n",
      "4041/4041 [==============================] - 3s 727us/step - loss: 0.2819 - accuracy: 0.8865 - val_loss: 0.2813 - val_accuracy: 0.8820\n",
      "Epoch 138/170\n",
      "4041/4041 [==============================] - 3s 749us/step - loss: 0.2822 - accuracy: 0.8864 - val_loss: 0.2811 - val_accuracy: 0.8856\n",
      "Epoch 139/170\n",
      "4041/4041 [==============================] - 3s 736us/step - loss: 0.2820 - accuracy: 0.8871 - val_loss: 0.3212 - val_accuracy: 0.8712\n",
      "Epoch 140/170\n",
      "4041/4041 [==============================] - 3s 726us/step - loss: 0.2829 - accuracy: 0.8861 - val_loss: 0.2960 - val_accuracy: 0.8774\n",
      "Epoch 141/170\n",
      "4041/4041 [==============================] - 3s 724us/step - loss: 0.2822 - accuracy: 0.8860 - val_loss: 0.2821 - val_accuracy: 0.8861\n",
      "Epoch 142/170\n",
      "4041/4041 [==============================] - 3s 722us/step - loss: 0.2822 - accuracy: 0.8858 - val_loss: 0.2966 - val_accuracy: 0.8846\n",
      "Epoch 143/170\n",
      "4041/4041 [==============================] - 3s 724us/step - loss: 0.2814 - accuracy: 0.8868 - val_loss: 0.2813 - val_accuracy: 0.8848\n",
      "Epoch 144/170\n",
      "4041/4041 [==============================] - 3s 741us/step - loss: 0.2819 - accuracy: 0.8866 - val_loss: 0.3025 - val_accuracy: 0.8790\n",
      "Epoch 145/170\n",
      "4041/4041 [==============================] - 3s 732us/step - loss: 0.2817 - accuracy: 0.8867 - val_loss: 0.2830 - val_accuracy: 0.8851\n",
      "Epoch 146/170\n",
      "4041/4041 [==============================] - 3s 728us/step - loss: 0.2826 - accuracy: 0.8866 - val_loss: 0.2843 - val_accuracy: 0.8822\n",
      "Epoch 147/170\n",
      "4041/4041 [==============================] - 3s 730us/step - loss: 0.2814 - accuracy: 0.8874 - val_loss: 0.2840 - val_accuracy: 0.8855\n",
      "Epoch 148/170\n",
      "4041/4041 [==============================] - 3s 728us/step - loss: 0.2823 - accuracy: 0.8862 - val_loss: 0.2820 - val_accuracy: 0.8854\n",
      "Epoch 149/170\n",
      "4041/4041 [==============================] - 3s 745us/step - loss: 0.2830 - accuracy: 0.8867 - val_loss: 0.2860 - val_accuracy: 0.8856\n",
      "Epoch 150/170\n",
      "4041/4041 [==============================] - 3s 725us/step - loss: 0.2816 - accuracy: 0.8864 - val_loss: 0.2869 - val_accuracy: 0.8830\n",
      "Epoch 151/170\n",
      "4041/4041 [==============================] - 3s 729us/step - loss: 0.2821 - accuracy: 0.8869 - val_loss: 0.3075 - val_accuracy: 0.8770\n",
      "Epoch 152/170\n",
      "4041/4041 [==============================] - 3s 737us/step - loss: 0.2815 - accuracy: 0.8868 - val_loss: 0.2828 - val_accuracy: 0.8861\n",
      "Epoch 153/170\n",
      "4041/4041 [==============================] - 3s 726us/step - loss: 0.2810 - accuracy: 0.8874 - val_loss: 0.2851 - val_accuracy: 0.8851\n",
      "Epoch 154/170\n",
      "4041/4041 [==============================] - 3s 732us/step - loss: 0.2815 - accuracy: 0.8866 - val_loss: 0.2834 - val_accuracy: 0.8862\n",
      "Epoch 155/170\n",
      "3959/4041 [============================>.] - ETA: 0s - loss: 0.2817 - accuracy: 0.8869INFO:tensorflow:Assets written to: /home/anza-tshilidzi/Desktop/Masters_material/e+ e- study/wandb/run-20240815_080351-9uren89w/files/model-best/assets\n"
     ]
    },
    {
     "name": "stderr",
     "output_type": "stream",
     "text": [
      "\u001b[34m\u001b[1mwandb\u001b[0m: Adding directory to artifact (/home/anza-tshilidzi/Desktop/Masters_material/e+ e- study/wandb/run-20240815_080351-9uren89w/files/model-best)... Done. 0.0s\n"
     ]
    },
    {
     "name": "stdout",
     "output_type": "stream",
     "text": [
      "4041/4041 [==============================] - 7s 2ms/step - loss: 0.2820 - accuracy: 0.8867 - val_loss: 0.2807 - val_accuracy: 0.8858\n",
      "Epoch 156/170\n",
      "4041/4041 [==============================] - 3s 729us/step - loss: 0.2822 - accuracy: 0.8865 - val_loss: 0.2832 - val_accuracy: 0.8857\n",
      "Epoch 157/170\n",
      "4041/4041 [==============================] - 3s 728us/step - loss: 0.2814 - accuracy: 0.8865 - val_loss: 0.2826 - val_accuracy: 0.8854\n",
      "Epoch 158/170\n",
      "4041/4041 [==============================] - 3s 724us/step - loss: 0.2824 - accuracy: 0.8864 - val_loss: 0.2885 - val_accuracy: 0.8834\n",
      "Epoch 159/170\n",
      "4041/4041 [==============================] - 3s 743us/step - loss: 0.2814 - accuracy: 0.8871 - val_loss: 0.2893 - val_accuracy: 0.8845\n",
      "Epoch 160/170\n",
      "4041/4041 [==============================] - 3s 730us/step - loss: 0.2813 - accuracy: 0.8869 - val_loss: 0.2883 - val_accuracy: 0.8839\n",
      "Epoch 161/170\n",
      "4041/4041 [==============================] - 3s 729us/step - loss: 0.2811 - accuracy: 0.8869 - val_loss: 0.2828 - val_accuracy: 0.8851\n",
      "Epoch 162/170\n",
      "4041/4041 [==============================] - 3s 729us/step - loss: 0.2821 - accuracy: 0.8862 - val_loss: 0.2827 - val_accuracy: 0.8855\n",
      "Epoch 163/170\n",
      "4041/4041 [==============================] - 3s 739us/step - loss: 0.2815 - accuracy: 0.8868 - val_loss: 0.2845 - val_accuracy: 0.8858\n",
      "Epoch 164/170\n",
      "4041/4041 [==============================] - 3s 746us/step - loss: 0.2817 - accuracy: 0.8871 - val_loss: 0.2858 - val_accuracy: 0.8842\n",
      "Epoch 165/170\n",
      "4041/4041 [==============================] - 3s 730us/step - loss: 0.2817 - accuracy: 0.8864 - val_loss: 0.2926 - val_accuracy: 0.8824\n",
      "Epoch 166/170\n",
      "4041/4041 [==============================] - 3s 732us/step - loss: 0.2817 - accuracy: 0.8871 - val_loss: 0.2881 - val_accuracy: 0.8827\n",
      "Epoch 167/170\n",
      "3966/4041 [============================>.] - ETA: 0s - loss: 0.2808 - accuracy: 0.8872INFO:tensorflow:Assets written to: /home/anza-tshilidzi/Desktop/Masters_material/e+ e- study/wandb/run-20240815_080351-9uren89w/files/model-best/assets\n"
     ]
    },
    {
     "name": "stderr",
     "output_type": "stream",
     "text": [
      "\u001b[34m\u001b[1mwandb\u001b[0m: Adding directory to artifact (/home/anza-tshilidzi/Desktop/Masters_material/e+ e- study/wandb/run-20240815_080351-9uren89w/files/model-best)... Done. 0.0s\n"
     ]
    },
    {
     "name": "stdout",
     "output_type": "stream",
     "text": [
      "4041/4041 [==============================] - 4s 907us/step - loss: 0.2812 - accuracy: 0.8870 - val_loss: 0.2806 - val_accuracy: 0.8853\n",
      "Epoch 168/170\n",
      "4041/4041 [==============================] - 3s 726us/step - loss: 0.2818 - accuracy: 0.8865 - val_loss: 0.2809 - val_accuracy: 0.8859\n",
      "Epoch 169/170\n",
      "4041/4041 [==============================] - 3s 745us/step - loss: 0.2813 - accuracy: 0.8874 - val_loss: 0.2845 - val_accuracy: 0.8854\n",
      "Epoch 170/170\n",
      "4041/4041 [==============================] - 3s 734us/step - loss: 0.2810 - accuracy: 0.8873 - val_loss: 0.2857 - val_accuracy: 0.8842\n"
     ]
    },
    {
     "data": {
      "application/vnd.jupyter.widget-view+json": {
       "model_id": "",
       "version_major": 2,
       "version_minor": 0
      },
      "text/plain": [
       "VBox(children=(Label(value='2.646 MB of 2.646 MB uploaded (0.190 MB deduped)\\r'), FloatProgress(value=1.0, max…"
      ]
     },
     "metadata": {},
     "output_type": "display_data"
    },
    {
     "data": {
      "text/html": [
       "W&B sync reduced upload amount by 6.9%"
      ],
      "text/plain": [
       "<IPython.core.display.HTML object>"
      ]
     },
     "metadata": {},
     "output_type": "display_data"
    },
    {
     "data": {
      "text/html": [
       "<style>\n",
       "    table.wandb td:nth-child(1) { padding: 0 10px; text-align: left ; width: auto;} td:nth-child(2) {text-align: left ; width: 100%}\n",
       "    .wandb-row { display: flex; flex-direction: row; flex-wrap: wrap; justify-content: flex-start; width: 100% }\n",
       "    .wandb-col { display: flex; flex-direction: column; flex-basis: 100%; flex: 1; padding: 10px; }\n",
       "    </style>\n",
       "<div class=\"wandb-row\"><div class=\"wandb-col\"><h3>Run history:</h3><br/><table class=\"wandb\"><tr><td>accuracy</td><td>▁▆▆▆▆▆▆▇▇▇▇▇▇▇▇▇▇███████████████████████</td></tr><tr><td>epoch</td><td>▁▁▁▁▂▂▂▂▂▃▃▃▃▃▃▄▄▄▄▄▅▅▅▅▅▅▆▆▆▆▆▇▇▇▇▇▇███</td></tr><tr><td>loss</td><td>█▃▃▃▃▃▂▂▂▂▂▂▂▂▂▂▁▂▁▁▁▁▁▁▁▁▁▁▁▁▁▁▁▁▁▁▁▁▁▁</td></tr><tr><td>val_accuracy</td><td>▁▃▇▆▇▇▇▇▆▇▆▇▇▇█▇█████▇██▇████████▇██████</td></tr><tr><td>val_loss</td><td>█▆▃▃▂▃▃▂▃▂▄▂▃▂▂▂▁▁▁▁▁▂▂▁▂▁▁▁▁▁▁▂▁▂▁▁▁▁▁▁</td></tr></table><br/></div><div class=\"wandb-col\"><h3>Run summary:</h3><br/><table class=\"wandb\"><tr><td>accuracy</td><td>0.88729</td></tr><tr><td>best_epoch</td><td>166</td></tr><tr><td>best_val_loss</td><td>0.28061</td></tr><tr><td>epoch</td><td>169</td></tr><tr><td>loss</td><td>0.28096</td></tr><tr><td>val_accuracy</td><td>0.88422</td></tr><tr><td>val_loss</td><td>0.28568</td></tr></table><br/></div></div>"
      ],
      "text/plain": [
       "<IPython.core.display.HTML object>"
      ]
     },
     "metadata": {},
     "output_type": "display_data"
    },
    {
     "data": {
      "text/html": [
       " View run <strong style=\"color:#cdcd00\">major-sweep-6</strong> at: <a href='https://wandb.ai/anzanzio/ep-em%20DNN/runs/9uren89w' target=\"_blank\">https://wandb.ai/anzanzio/ep-em%20DNN/runs/9uren89w</a><br/> View project at: <a href='https://wandb.ai/anzanzio/ep-em%20DNN' target=\"_blank\">https://wandb.ai/anzanzio/ep-em%20DNN</a><br/>Synced 6 W&B file(s), 1 media file(s), 100 artifact file(s) and 1 other file(s)"
      ],
      "text/plain": [
       "<IPython.core.display.HTML object>"
      ]
     },
     "metadata": {},
     "output_type": "display_data"
    },
    {
     "data": {
      "text/html": [
       "Find logs at: <code>./wandb/run-20240815_080351-9uren89w/logs</code>"
      ],
      "text/plain": [
       "<IPython.core.display.HTML object>"
      ]
     },
     "metadata": {},
     "output_type": "display_data"
    },
    {
     "data": {
      "text/html": [
       "The new W&B backend becomes opt-out in version 0.18.0; try it out with `wandb.require(\"core\")`! See https://wandb.me/wandb-core for more information."
      ],
      "text/plain": [
       "<IPython.core.display.HTML object>"
      ]
     },
     "metadata": {},
     "output_type": "display_data"
    },
    {
     "name": "stderr",
     "output_type": "stream",
     "text": [
      "\u001b[34m\u001b[1mwandb\u001b[0m: Agent Starting Run: 764u55on with config:\n",
      "\u001b[34m\u001b[1mwandb\u001b[0m: \tbatch_size: 29\n",
      "\u001b[34m\u001b[1mwandb\u001b[0m: \tepochs: 140\n",
      "\u001b[34m\u001b[1mwandb\u001b[0m: \tlayers: 47\n",
      "\u001b[34m\u001b[1mwandb\u001b[0m: \tlearning_rate: 0.0009754949452686548\n",
      "\u001b[34m\u001b[1mwandb\u001b[0m: \tneurons: 20\n",
      "\u001b[34m\u001b[1mwandb\u001b[0m: \toptimizer: adam\n"
     ]
    },
    {
     "data": {
      "text/html": [
       "Tracking run with wandb version 0.17.6"
      ],
      "text/plain": [
       "<IPython.core.display.HTML object>"
      ]
     },
     "metadata": {},
     "output_type": "display_data"
    },
    {
     "data": {
      "text/html": [
       "Run data is saved locally in <code>/home/anza-tshilidzi/Desktop/Masters_material/e+ e- study/wandb/run-20240815_081259-764u55on</code>"
      ],
      "text/plain": [
       "<IPython.core.display.HTML object>"
      ]
     },
     "metadata": {},
     "output_type": "display_data"
    },
    {
     "data": {
      "text/html": [
       "Syncing run <strong><a href='https://wandb.ai/anzanzio/ep-em%20DNN/runs/764u55on' target=\"_blank\">amber-sweep-7</a></strong> to <a href='https://wandb.ai/anzanzio/ep-em%20DNN' target=\"_blank\">Weights & Biases</a> (<a href='https://wandb.me/run' target=\"_blank\">docs</a>)<br/>Sweep page: <a href='https://wandb.ai/anzanzio/ep-em%20DNN/sweeps/lg5h93ch' target=\"_blank\">https://wandb.ai/anzanzio/ep-em%20DNN/sweeps/lg5h93ch</a>"
      ],
      "text/plain": [
       "<IPython.core.display.HTML object>"
      ]
     },
     "metadata": {},
     "output_type": "display_data"
    },
    {
     "data": {
      "text/html": [
       " View project at <a href='https://wandb.ai/anzanzio/ep-em%20DNN' target=\"_blank\">https://wandb.ai/anzanzio/ep-em%20DNN</a>"
      ],
      "text/plain": [
       "<IPython.core.display.HTML object>"
      ]
     },
     "metadata": {},
     "output_type": "display_data"
    },
    {
     "data": {
      "text/html": [
       " View sweep at <a href='https://wandb.ai/anzanzio/ep-em%20DNN/sweeps/lg5h93ch' target=\"_blank\">https://wandb.ai/anzanzio/ep-em%20DNN/sweeps/lg5h93ch</a>"
      ],
      "text/plain": [
       "<IPython.core.display.HTML object>"
      ]
     },
     "metadata": {},
     "output_type": "display_data"
    },
    {
     "data": {
      "text/html": [
       " View run at <a href='https://wandb.ai/anzanzio/ep-em%20DNN/runs/764u55on' target=\"_blank\">https://wandb.ai/anzanzio/ep-em%20DNN/runs/764u55on</a>"
      ],
      "text/plain": [
       "<IPython.core.display.HTML object>"
      ]
     },
     "metadata": {},
     "output_type": "display_data"
    },
    {
     "name": "stdout",
     "output_type": "stream",
     "text": [
      "Epoch 1/140\n",
      "3578/3623 [============================>.] - ETA: 0s - loss: 0.6283 - accuracy: 0.7149INFO:tensorflow:Assets written to: /home/anza-tshilidzi/Desktop/Masters_material/e+ e- study/wandb/run-20240815_081259-764u55on/files/model-best/assets\n"
     ]
    },
    {
     "name": "stderr",
     "output_type": "stream",
     "text": [
      "\u001b[34m\u001b[1mwandb\u001b[0m: Adding directory to artifact (/home/anza-tshilidzi/Desktop/Masters_material/e+ e- study/wandb/run-20240815_081259-764u55on/files/model-best)... Done. 0.0s\n"
     ]
    },
    {
     "name": "stdout",
     "output_type": "stream",
     "text": [
      "3623/3623 [==============================] - 4s 994us/step - loss: 0.6274 - accuracy: 0.7157 - val_loss: 0.5520 - val_accuracy: 0.7652\n",
      "Epoch 2/140\n",
      "3580/3623 [============================>.] - ETA: 0s - loss: 0.4915 - accuracy: 0.8101INFO:tensorflow:Assets written to: /home/anza-tshilidzi/Desktop/Masters_material/e+ e- study/wandb/run-20240815_081259-764u55on/files/model-best/assets\n"
     ]
    },
    {
     "name": "stderr",
     "output_type": "stream",
     "text": [
      "\u001b[34m\u001b[1mwandb\u001b[0m: Adding directory to artifact (/home/anza-tshilidzi/Desktop/Masters_material/e+ e- study/wandb/run-20240815_081259-764u55on/files/model-best)... Done. 0.0s\n"
     ]
    },
    {
     "name": "stdout",
     "output_type": "stream",
     "text": [
      "3623/3623 [==============================] - 3s 933us/step - loss: 0.4907 - accuracy: 0.8104 - val_loss: 0.4072 - val_accuracy: 0.8573\n",
      "Epoch 3/140\n",
      "3582/3623 [============================>.] - ETA: 0s - loss: 0.3839 - accuracy: 0.8554INFO:tensorflow:Assets written to: /home/anza-tshilidzi/Desktop/Masters_material/e+ e- study/wandb/run-20240815_081259-764u55on/files/model-best/assets\n"
     ]
    },
    {
     "name": "stderr",
     "output_type": "stream",
     "text": [
      "\u001b[34m\u001b[1mwandb\u001b[0m: Adding directory to artifact (/home/anza-tshilidzi/Desktop/Masters_material/e+ e- study/wandb/run-20240815_081259-764u55on/files/model-best)... Done. 0.0s\n"
     ]
    },
    {
     "name": "stdout",
     "output_type": "stream",
     "text": [
      "3623/3623 [==============================] - 4s 969us/step - loss: 0.3836 - accuracy: 0.8555 - val_loss: 0.3486 - val_accuracy: 0.8659\n",
      "Epoch 4/140\n",
      "3621/3623 [============================>.] - ETA: 0s - loss: 0.3525 - accuracy: 0.8678INFO:tensorflow:Assets written to: /home/anza-tshilidzi/Desktop/Masters_material/e+ e- study/wandb/run-20240815_081259-764u55on/files/model-best/assets\n"
     ]
    },
    {
     "name": "stderr",
     "output_type": "stream",
     "text": [
      "\u001b[34m\u001b[1mwandb\u001b[0m: Adding directory to artifact (/home/anza-tshilidzi/Desktop/Masters_material/e+ e- study/wandb/run-20240815_081259-764u55on/files/model-best)... Done. 0.0s\n"
     ]
    },
    {
     "name": "stdout",
     "output_type": "stream",
     "text": [
      "3623/3623 [==============================] - 4s 1ms/step - loss: 0.3525 - accuracy: 0.8678 - val_loss: 0.3223 - val_accuracy: 0.8724\n",
      "Epoch 5/140\n",
      "3575/3623 [============================>.] - ETA: 0s - loss: 0.3369 - accuracy: 0.8732INFO:tensorflow:Assets written to: /home/anza-tshilidzi/Desktop/Masters_material/e+ e- study/wandb/run-20240815_081259-764u55on/files/model-best/assets\n"
     ]
    },
    {
     "name": "stderr",
     "output_type": "stream",
     "text": [
      "\u001b[34m\u001b[1mwandb\u001b[0m: Adding directory to artifact (/home/anza-tshilidzi/Desktop/Masters_material/e+ e- study/wandb/run-20240815_081259-764u55on/files/model-best)... Done. 0.0s\n"
     ]
    },
    {
     "name": "stdout",
     "output_type": "stream",
     "text": [
      "3623/3623 [==============================] - 3s 960us/step - loss: 0.3368 - accuracy: 0.8731 - val_loss: 0.3117 - val_accuracy: 0.8783\n",
      "Epoch 6/140\n",
      "3598/3623 [============================>.] - ETA: 0s - loss: 0.3329 - accuracy: 0.8722INFO:tensorflow:Assets written to: /home/anza-tshilidzi/Desktop/Masters_material/e+ e- study/wandb/run-20240815_081259-764u55on/files/model-best/assets\n"
     ]
    },
    {
     "name": "stderr",
     "output_type": "stream",
     "text": [
      "\u001b[34m\u001b[1mwandb\u001b[0m: Adding directory to artifact (/home/anza-tshilidzi/Desktop/Masters_material/e+ e- study/wandb/run-20240815_081259-764u55on/files/model-best)... Done. 0.0s\n"
     ]
    },
    {
     "name": "stdout",
     "output_type": "stream",
     "text": [
      "3623/3623 [==============================] - 3s 932us/step - loss: 0.3330 - accuracy: 0.8722 - val_loss: 0.3094 - val_accuracy: 0.8797\n",
      "Epoch 7/140\n",
      "3623/3623 [==============================] - 3s 742us/step - loss: 0.3256 - accuracy: 0.8743 - val_loss: 0.3180 - val_accuracy: 0.8724\n",
      "Epoch 8/140\n",
      "3623/3623 [==============================] - 3s 759us/step - loss: 0.3217 - accuracy: 0.8747 - val_loss: 0.3138 - val_accuracy: 0.8761\n",
      "Epoch 9/140\n",
      "3554/3623 [============================>.] - ETA: 0s - loss: 0.3192 - accuracy: 0.8747INFO:tensorflow:Assets written to: /home/anza-tshilidzi/Desktop/Masters_material/e+ e- study/wandb/run-20240815_081259-764u55on/files/model-best/assets\n"
     ]
    },
    {
     "name": "stderr",
     "output_type": "stream",
     "text": [
      "\u001b[34m\u001b[1mwandb\u001b[0m: Adding directory to artifact (/home/anza-tshilidzi/Desktop/Masters_material/e+ e- study/wandb/run-20240815_081259-764u55on/files/model-best)... Done. 0.0s\n"
     ]
    },
    {
     "name": "stdout",
     "output_type": "stream",
     "text": [
      "3623/3623 [==============================] - 3s 927us/step - loss: 0.3191 - accuracy: 0.8747 - val_loss: 0.3072 - val_accuracy: 0.8811\n",
      "Epoch 10/140\n",
      "3570/3623 [============================>.] - ETA: 0s - loss: 0.3173 - accuracy: 0.8762INFO:tensorflow:Assets written to: /home/anza-tshilidzi/Desktop/Masters_material/e+ e- study/wandb/run-20240815_081259-764u55on/files/model-best/assets\n"
     ]
    },
    {
     "name": "stderr",
     "output_type": "stream",
     "text": [
      "\u001b[34m\u001b[1mwandb\u001b[0m: Adding directory to artifact (/home/anza-tshilidzi/Desktop/Masters_material/e+ e- study/wandb/run-20240815_081259-764u55on/files/model-best)... Done. 0.0s\n"
     ]
    },
    {
     "name": "stdout",
     "output_type": "stream",
     "text": [
      "3623/3623 [==============================] - 3s 959us/step - loss: 0.3171 - accuracy: 0.8762 - val_loss: 0.3051 - val_accuracy: 0.8806\n",
      "Epoch 11/140\n",
      "3623/3623 [==============================] - 3s 741us/step - loss: 0.3143 - accuracy: 0.8773 - val_loss: 0.3057 - val_accuracy: 0.8806\n",
      "Epoch 12/140\n",
      "3556/3623 [============================>.] - ETA: 0s - loss: 0.3113 - accuracy: 0.8798INFO:tensorflow:Assets written to: /home/anza-tshilidzi/Desktop/Masters_material/e+ e- study/wandb/run-20240815_081259-764u55on/files/model-best/assets\n"
     ]
    },
    {
     "name": "stderr",
     "output_type": "stream",
     "text": [
      "\u001b[34m\u001b[1mwandb\u001b[0m: Adding directory to artifact (/home/anza-tshilidzi/Desktop/Masters_material/e+ e- study/wandb/run-20240815_081259-764u55on/files/model-best)... Done. 0.0s\n"
     ]
    },
    {
     "name": "stdout",
     "output_type": "stream",
     "text": [
      "3623/3623 [==============================] - 3s 951us/step - loss: 0.3111 - accuracy: 0.8799 - val_loss: 0.2974 - val_accuracy: 0.8852\n",
      "Epoch 13/140\n",
      "3623/3623 [==============================] - 3s 756us/step - loss: 0.3093 - accuracy: 0.8810 - val_loss: 0.3084 - val_accuracy: 0.8867\n",
      "Epoch 14/140\n",
      "3623/3623 [==============================] - 3s 739us/step - loss: 0.3056 - accuracy: 0.8823 - val_loss: 0.3153 - val_accuracy: 0.8711\n",
      "Epoch 15/140\n",
      "3623/3623 [==============================] - 3s 733us/step - loss: 0.3047 - accuracy: 0.8830 - val_loss: 0.2993 - val_accuracy: 0.8832\n",
      "Epoch 16/140\n",
      "3623/3623 [==============================] - 3s 743us/step - loss: 0.3047 - accuracy: 0.8830 - val_loss: 0.3053 - val_accuracy: 0.8851\n",
      "Epoch 17/140\n",
      "3623/3623 [==============================] - 3s 741us/step - loss: 0.3014 - accuracy: 0.8838 - val_loss: 0.3179 - val_accuracy: 0.8811\n",
      "Epoch 18/140\n",
      "3623/3623 [==============================] - 3s 731us/step - loss: 0.3033 - accuracy: 0.8826 - val_loss: 0.3001 - val_accuracy: 0.8847\n",
      "Epoch 19/140\n",
      "3623/3623 [==============================] - 3s 763us/step - loss: 0.3006 - accuracy: 0.8837 - val_loss: 0.3326 - val_accuracy: 0.8800\n",
      "Epoch 20/140\n",
      "3623/3623 [==============================] - 3s 745us/step - loss: 0.2995 - accuracy: 0.8846 - val_loss: 0.3078 - val_accuracy: 0.8814\n",
      "Epoch 21/140\n",
      "3623/3623 [==============================] - 3s 736us/step - loss: 0.2997 - accuracy: 0.8836 - val_loss: 0.3351 - val_accuracy: 0.8718\n",
      "Epoch 22/140\n",
      "3574/3623 [============================>.] - ETA: 0s - loss: 0.2997 - accuracy: 0.8844INFO:tensorflow:Assets written to: /home/anza-tshilidzi/Desktop/Masters_material/e+ e- study/wandb/run-20240815_081259-764u55on/files/model-best/assets\n"
     ]
    },
    {
     "name": "stderr",
     "output_type": "stream",
     "text": [
      "\u001b[34m\u001b[1mwandb\u001b[0m: Adding directory to artifact (/home/anza-tshilidzi/Desktop/Masters_material/e+ e- study/wandb/run-20240815_081259-764u55on/files/model-best)... Done. 0.0s\n"
     ]
    },
    {
     "name": "stdout",
     "output_type": "stream",
     "text": [
      "3623/3623 [==============================] - 3s 940us/step - loss: 0.2996 - accuracy: 0.8845 - val_loss: 0.2897 - val_accuracy: 0.8869\n",
      "Epoch 23/140\n",
      "3623/3623 [==============================] - 3s 744us/step - loss: 0.3000 - accuracy: 0.8845 - val_loss: 0.3385 - val_accuracy: 0.8665\n",
      "Epoch 24/140\n",
      "3623/3623 [==============================] - 3s 767us/step - loss: 0.2973 - accuracy: 0.8849 - val_loss: 0.3023 - val_accuracy: 0.8830\n",
      "Epoch 25/140\n",
      "3623/3623 [==============================] - 3s 729us/step - loss: 0.2980 - accuracy: 0.8857 - val_loss: 0.2965 - val_accuracy: 0.8844\n",
      "Epoch 26/140\n",
      "3623/3623 [==============================] - 3s 729us/step - loss: 0.2963 - accuracy: 0.8859 - val_loss: 0.2958 - val_accuracy: 0.8863\n",
      "Epoch 27/140\n",
      "3623/3623 [==============================] - 3s 735us/step - loss: 0.2959 - accuracy: 0.8862 - val_loss: 0.2903 - val_accuracy: 0.8841\n",
      "Epoch 28/140\n",
      "3623/3623 [==============================] - 3s 735us/step - loss: 0.2964 - accuracy: 0.8850 - val_loss: 0.2904 - val_accuracy: 0.8851\n",
      "Epoch 29/140\n",
      "3623/3623 [==============================] - 3s 732us/step - loss: 0.2963 - accuracy: 0.8848 - val_loss: 0.2936 - val_accuracy: 0.8871\n",
      "Epoch 30/140\n",
      "3623/3623 [==============================] - 3s 764us/step - loss: 0.2945 - accuracy: 0.8853 - val_loss: 0.2925 - val_accuracy: 0.8867\n",
      "Epoch 31/140\n",
      "3623/3623 [==============================] - 3s 735us/step - loss: 0.2941 - accuracy: 0.8864 - val_loss: 0.2905 - val_accuracy: 0.8857\n",
      "Epoch 32/140\n",
      "3623/3623 [==============================] - 3s 733us/step - loss: 0.2941 - accuracy: 0.8854 - val_loss: 0.3021 - val_accuracy: 0.8835\n",
      "Epoch 33/140\n",
      "3565/3623 [============================>.] - ETA: 0s - loss: 0.2942 - accuracy: 0.8855INFO:tensorflow:Assets written to: /home/anza-tshilidzi/Desktop/Masters_material/e+ e- study/wandb/run-20240815_081259-764u55on/files/model-best/assets\n"
     ]
    },
    {
     "name": "stderr",
     "output_type": "stream",
     "text": [
      "\u001b[34m\u001b[1mwandb\u001b[0m: Adding directory to artifact (/home/anza-tshilidzi/Desktop/Masters_material/e+ e- study/wandb/run-20240815_081259-764u55on/files/model-best)... Done. 0.0s\n"
     ]
    },
    {
     "name": "stdout",
     "output_type": "stream",
     "text": [
      "3623/3623 [==============================] - 4s 1ms/step - loss: 0.2943 - accuracy: 0.8856 - val_loss: 0.2886 - val_accuracy: 0.8851\n",
      "Epoch 34/140\n",
      "3623/3623 [==============================] - 3s 732us/step - loss: 0.2941 - accuracy: 0.8863 - val_loss: 0.2933 - val_accuracy: 0.8864\n",
      "Epoch 35/140\n",
      "3623/3623 [==============================] - 3s 730us/step - loss: 0.2939 - accuracy: 0.8855 - val_loss: 0.3006 - val_accuracy: 0.8839\n",
      "Epoch 36/140\n",
      "3623/3623 [==============================] - 3s 756us/step - loss: 0.2934 - accuracy: 0.8861 - val_loss: 0.3069 - val_accuracy: 0.8826\n",
      "Epoch 37/140\n",
      "3623/3623 [==============================] - 3s 740us/step - loss: 0.2929 - accuracy: 0.8864 - val_loss: 0.3097 - val_accuracy: 0.8786\n",
      "Epoch 38/140\n",
      "3549/3623 [============================>.] - ETA: 0s - loss: 0.2926 - accuracy: 0.8861INFO:tensorflow:Assets written to: /home/anza-tshilidzi/Desktop/Masters_material/e+ e- study/wandb/run-20240815_081259-764u55on/files/model-best/assets\n"
     ]
    },
    {
     "name": "stderr",
     "output_type": "stream",
     "text": [
      "\u001b[34m\u001b[1mwandb\u001b[0m: Adding directory to artifact (/home/anza-tshilidzi/Desktop/Masters_material/e+ e- study/wandb/run-20240815_081259-764u55on/files/model-best)... Done. 0.0s\n"
     ]
    },
    {
     "name": "stdout",
     "output_type": "stream",
     "text": [
      "3623/3623 [==============================] - 3s 934us/step - loss: 0.2925 - accuracy: 0.8861 - val_loss: 0.2872 - val_accuracy: 0.8872\n",
      "Epoch 39/140\n",
      "3623/3623 [==============================] - 3s 727us/step - loss: 0.2926 - accuracy: 0.8864 - val_loss: 0.2991 - val_accuracy: 0.8862\n",
      "Epoch 40/140\n",
      "3623/3623 [==============================] - 3s 720us/step - loss: 0.2924 - accuracy: 0.8866 - val_loss: 0.2970 - val_accuracy: 0.8817\n",
      "Epoch 41/140\n",
      "3623/3623 [==============================] - 3s 733us/step - loss: 0.2914 - accuracy: 0.8872 - val_loss: 0.2918 - val_accuracy: 0.8875\n",
      "Epoch 42/140\n",
      "3623/3623 [==============================] - 3s 740us/step - loss: 0.2914 - accuracy: 0.8873 - val_loss: 0.3150 - val_accuracy: 0.8782\n",
      "Epoch 43/140\n",
      "3623/3623 [==============================] - 3s 720us/step - loss: 0.2928 - accuracy: 0.8858 - val_loss: 0.3643 - val_accuracy: 0.8572\n",
      "Epoch 44/140\n",
      "3623/3623 [==============================] - 3s 722us/step - loss: 0.2914 - accuracy: 0.8867 - val_loss: 0.2878 - val_accuracy: 0.8867\n",
      "Epoch 45/140\n",
      "3623/3623 [==============================] - 3s 722us/step - loss: 0.2914 - accuracy: 0.8870 - val_loss: 0.2997 - val_accuracy: 0.8852\n",
      "Epoch 46/140\n",
      "3606/3623 [============================>.] - ETA: 0s - loss: 0.2899 - accuracy: 0.8868INFO:tensorflow:Assets written to: /home/anza-tshilidzi/Desktop/Masters_material/e+ e- study/wandb/run-20240815_081259-764u55on/files/model-best/assets\n"
     ]
    },
    {
     "name": "stderr",
     "output_type": "stream",
     "text": [
      "\u001b[34m\u001b[1mwandb\u001b[0m: Adding directory to artifact (/home/anza-tshilidzi/Desktop/Masters_material/e+ e- study/wandb/run-20240815_081259-764u55on/files/model-best)... Done. 0.0s\n"
     ]
    },
    {
     "name": "stdout",
     "output_type": "stream",
     "text": [
      "3623/3623 [==============================] - 3s 929us/step - loss: 0.2902 - accuracy: 0.8868 - val_loss: 0.2869 - val_accuracy: 0.8867\n",
      "Epoch 47/140\n",
      "3623/3623 [==============================] - 3s 781us/step - loss: 0.2921 - accuracy: 0.8862 - val_loss: 0.2879 - val_accuracy: 0.8862\n",
      "Epoch 48/140\n",
      "3623/3623 [==============================] - 3s 730us/step - loss: 0.2905 - accuracy: 0.8871 - val_loss: 0.2890 - val_accuracy: 0.8873\n",
      "Epoch 49/140\n",
      "3623/3623 [==============================] - 3s 727us/step - loss: 0.2902 - accuracy: 0.8867 - val_loss: 0.2915 - val_accuracy: 0.8867\n",
      "Epoch 50/140\n",
      "3623/3623 [==============================] - 3s 738us/step - loss: 0.2900 - accuracy: 0.8872 - val_loss: 0.2911 - val_accuracy: 0.8883\n",
      "Epoch 51/140\n",
      "3623/3623 [==============================] - 3s 744us/step - loss: 0.2905 - accuracy: 0.8870 - val_loss: 0.2877 - val_accuracy: 0.8887\n",
      "Epoch 52/140\n",
      "3610/3623 [============================>.] - ETA: 0s - loss: 0.2900 - accuracy: 0.8876INFO:tensorflow:Assets written to: /home/anza-tshilidzi/Desktop/Masters_material/e+ e- study/wandb/run-20240815_081259-764u55on/files/model-best/assets\n"
     ]
    },
    {
     "name": "stderr",
     "output_type": "stream",
     "text": [
      "\u001b[34m\u001b[1mwandb\u001b[0m: Adding directory to artifact (/home/anza-tshilidzi/Desktop/Masters_material/e+ e- study/wandb/run-20240815_081259-764u55on/files/model-best)... Done. 0.0s\n"
     ]
    },
    {
     "name": "stdout",
     "output_type": "stream",
     "text": [
      "3623/3623 [==============================] - 3s 940us/step - loss: 0.2900 - accuracy: 0.8876 - val_loss: 0.2849 - val_accuracy: 0.8888\n",
      "Epoch 53/140\n",
      "3623/3623 [==============================] - 3s 765us/step - loss: 0.2900 - accuracy: 0.8869 - val_loss: 0.2855 - val_accuracy: 0.8891\n",
      "Epoch 54/140\n",
      "3623/3623 [==============================] - 3s 731us/step - loss: 0.2888 - accuracy: 0.8880 - val_loss: 0.2860 - val_accuracy: 0.8860\n",
      "Epoch 55/140\n",
      "3623/3623 [==============================] - 3s 729us/step - loss: 0.2890 - accuracy: 0.8875 - val_loss: 0.2894 - val_accuracy: 0.8865\n",
      "Epoch 56/140\n",
      "3623/3623 [==============================] - 3s 729us/step - loss: 0.2892 - accuracy: 0.8872 - val_loss: 0.2860 - val_accuracy: 0.8881\n",
      "Epoch 57/140\n",
      "3623/3623 [==============================] - 3s 729us/step - loss: 0.2886 - accuracy: 0.8881 - val_loss: 0.2950 - val_accuracy: 0.8864\n",
      "Epoch 58/140\n",
      "3623/3623 [==============================] - 3s 734us/step - loss: 0.2895 - accuracy: 0.8877 - val_loss: 0.3243 - val_accuracy: 0.8803\n",
      "Epoch 59/140\n",
      "3623/3623 [==============================] - 3s 768us/step - loss: 0.2880 - accuracy: 0.8880 - val_loss: 0.2891 - val_accuracy: 0.8871\n",
      "Epoch 60/140\n",
      "3623/3623 [==============================] - 3s 735us/step - loss: 0.2892 - accuracy: 0.8873 - val_loss: 0.2862 - val_accuracy: 0.8878\n",
      "Epoch 61/140\n",
      "3623/3623 [==============================] - 3s 731us/step - loss: 0.2888 - accuracy: 0.8876 - val_loss: 0.2900 - val_accuracy: 0.8880\n",
      "Epoch 62/140\n",
      "3570/3623 [============================>.] - ETA: 0s - loss: 0.2876 - accuracy: 0.8875INFO:tensorflow:Assets written to: /home/anza-tshilidzi/Desktop/Masters_material/e+ e- study/wandb/run-20240815_081259-764u55on/files/model-best/assets\n"
     ]
    },
    {
     "name": "stderr",
     "output_type": "stream",
     "text": [
      "\u001b[34m\u001b[1mwandb\u001b[0m: Adding directory to artifact (/home/anza-tshilidzi/Desktop/Masters_material/e+ e- study/wandb/run-20240815_081259-764u55on/files/model-best)... Done. 0.0s\n"
     ]
    },
    {
     "name": "stdout",
     "output_type": "stream",
     "text": [
      "3623/3623 [==============================] - 3s 945us/step - loss: 0.2878 - accuracy: 0.8874 - val_loss: 0.2849 - val_accuracy: 0.8870\n",
      "Epoch 63/140\n",
      "3623/3623 [==============================] - 3s 737us/step - loss: 0.2881 - accuracy: 0.8881 - val_loss: 0.2864 - val_accuracy: 0.8887\n",
      "Epoch 64/140\n",
      "3623/3623 [==============================] - 3s 743us/step - loss: 0.2881 - accuracy: 0.8872 - val_loss: 0.3007 - val_accuracy: 0.8848\n",
      "Epoch 65/140\n",
      "3623/3623 [==============================] - 3s 752us/step - loss: 0.2891 - accuracy: 0.8879 - val_loss: 0.3010 - val_accuracy: 0.8839\n",
      "Epoch 66/140\n",
      "3623/3623 [==============================] - 3s 729us/step - loss: 0.2865 - accuracy: 0.8888 - val_loss: 0.2911 - val_accuracy: 0.8865\n",
      "Epoch 67/140\n",
      "3623/3623 [==============================] - 3s 725us/step - loss: 0.2867 - accuracy: 0.8878 - val_loss: 0.2876 - val_accuracy: 0.8885\n",
      "Epoch 68/140\n",
      "3623/3623 [==============================] - 3s 726us/step - loss: 0.2868 - accuracy: 0.8876 - val_loss: 0.2857 - val_accuracy: 0.8883\n",
      "Epoch 69/140\n",
      "3623/3623 [==============================] - 3s 730us/step - loss: 0.2871 - accuracy: 0.8882 - val_loss: 0.2962 - val_accuracy: 0.8847\n",
      "Epoch 70/140\n",
      "3623/3623 [==============================] - 3s 728us/step - loss: 0.2862 - accuracy: 0.8878 - val_loss: 0.3034 - val_accuracy: 0.8808\n",
      "Epoch 71/140\n",
      "3623/3623 [==============================] - 3s 750us/step - loss: 0.2865 - accuracy: 0.8882 - val_loss: 0.2897 - val_accuracy: 0.8870\n",
      "Epoch 72/140\n",
      "3623/3623 [==============================] - 3s 728us/step - loss: 0.2867 - accuracy: 0.8875 - val_loss: 0.2911 - val_accuracy: 0.8855\n",
      "Epoch 73/140\n",
      "3579/3623 [============================>.] - ETA: 0s - loss: 0.2854 - accuracy: 0.8889INFO:tensorflow:Assets written to: /home/anza-tshilidzi/Desktop/Masters_material/e+ e- study/wandb/run-20240815_081259-764u55on/files/model-best/assets\n"
     ]
    },
    {
     "name": "stderr",
     "output_type": "stream",
     "text": [
      "\u001b[34m\u001b[1mwandb\u001b[0m: Adding directory to artifact (/home/anza-tshilidzi/Desktop/Masters_material/e+ e- study/wandb/run-20240815_081259-764u55on/files/model-best)... Done. 0.0s\n"
     ]
    },
    {
     "name": "stdout",
     "output_type": "stream",
     "text": [
      "3623/3623 [==============================] - 3s 951us/step - loss: 0.2854 - accuracy: 0.8888 - val_loss: 0.2847 - val_accuracy: 0.8880\n",
      "Epoch 74/140\n",
      "3623/3623 [==============================] - 3s 736us/step - loss: 0.2865 - accuracy: 0.8880 - val_loss: 0.3105 - val_accuracy: 0.8742\n",
      "Epoch 75/140\n",
      "3623/3623 [==============================] - 3s 730us/step - loss: 0.2849 - accuracy: 0.8883 - val_loss: 0.2872 - val_accuracy: 0.8885\n",
      "Epoch 76/140\n",
      "3623/3623 [==============================] - 3s 750us/step - loss: 0.2847 - accuracy: 0.8884 - val_loss: 0.2983 - val_accuracy: 0.8873\n",
      "Epoch 77/140\n",
      "3623/3623 [==============================] - 3s 744us/step - loss: 0.2844 - accuracy: 0.8888 - val_loss: 0.2934 - val_accuracy: 0.8838\n",
      "Epoch 78/140\n",
      "3572/3623 [============================>.] - ETA: 0s - loss: 0.2835 - accuracy: 0.8883INFO:tensorflow:Assets written to: /home/anza-tshilidzi/Desktop/Masters_material/e+ e- study/wandb/run-20240815_081259-764u55on/files/model-best/assets\n"
     ]
    },
    {
     "name": "stderr",
     "output_type": "stream",
     "text": [
      "\u001b[34m\u001b[1mwandb\u001b[0m: Adding directory to artifact (/home/anza-tshilidzi/Desktop/Masters_material/e+ e- study/wandb/run-20240815_081259-764u55on/files/model-best)... Done. 0.0s\n"
     ]
    },
    {
     "name": "stdout",
     "output_type": "stream",
     "text": [
      "3623/3623 [==============================] - 4s 967us/step - loss: 0.2834 - accuracy: 0.8882 - val_loss: 0.2831 - val_accuracy: 0.8880\n",
      "Epoch 79/140\n",
      "3623/3623 [==============================] - 3s 733us/step - loss: 0.2828 - accuracy: 0.8893 - val_loss: 0.3000 - val_accuracy: 0.8867\n",
      "Epoch 80/140\n",
      "3623/3623 [==============================] - 3s 729us/step - loss: 0.2831 - accuracy: 0.8892 - val_loss: 0.2872 - val_accuracy: 0.8878\n",
      "Epoch 81/140\n",
      "3607/3623 [============================>.] - ETA: 0s - loss: 0.2812 - accuracy: 0.8888INFO:tensorflow:Assets written to: /home/anza-tshilidzi/Desktop/Masters_material/e+ e- study/wandb/run-20240815_081259-764u55on/files/model-best/assets\n"
     ]
    },
    {
     "name": "stderr",
     "output_type": "stream",
     "text": [
      "\u001b[34m\u001b[1mwandb\u001b[0m: Adding directory to artifact (/home/anza-tshilidzi/Desktop/Masters_material/e+ e- study/wandb/run-20240815_081259-764u55on/files/model-best)... Done. 0.0s\n"
     ]
    },
    {
     "name": "stdout",
     "output_type": "stream",
     "text": [
      "3623/3623 [==============================] - 3s 966us/step - loss: 0.2812 - accuracy: 0.8888 - val_loss: 0.2807 - val_accuracy: 0.8887\n",
      "Epoch 82/140\n",
      "3580/3623 [============================>.] - ETA: 0s - loss: 0.2811 - accuracy: 0.8897INFO:tensorflow:Assets written to: /home/anza-tshilidzi/Desktop/Masters_material/e+ e- study/wandb/run-20240815_081259-764u55on/files/model-best/assets\n"
     ]
    },
    {
     "name": "stderr",
     "output_type": "stream",
     "text": [
      "\u001b[34m\u001b[1mwandb\u001b[0m: Adding directory to artifact (/home/anza-tshilidzi/Desktop/Masters_material/e+ e- study/wandb/run-20240815_081259-764u55on/files/model-best)... Done. 0.0s\n"
     ]
    },
    {
     "name": "stdout",
     "output_type": "stream",
     "text": [
      "3623/3623 [==============================] - 3s 959us/step - loss: 0.2808 - accuracy: 0.8899 - val_loss: 0.2785 - val_accuracy: 0.8897\n",
      "Epoch 83/140\n",
      "3623/3623 [==============================] - 3s 731us/step - loss: 0.2804 - accuracy: 0.8902 - val_loss: 0.2829 - val_accuracy: 0.8878\n",
      "Epoch 84/140\n",
      "3623/3623 [==============================] - 3s 731us/step - loss: 0.2798 - accuracy: 0.8902 - val_loss: 0.2828 - val_accuracy: 0.8885\n",
      "Epoch 85/140\n",
      "3623/3623 [==============================] - 3s 735us/step - loss: 0.2797 - accuracy: 0.8893 - val_loss: 0.2840 - val_accuracy: 0.8873\n",
      "Epoch 86/140\n",
      "3623/3623 [==============================] - 3s 731us/step - loss: 0.2785 - accuracy: 0.8896 - val_loss: 0.2834 - val_accuracy: 0.8889\n",
      "Epoch 87/140\n",
      "3623/3623 [==============================] - 3s 764us/step - loss: 0.2794 - accuracy: 0.8897 - val_loss: 0.2796 - val_accuracy: 0.8879\n",
      "Epoch 88/140\n",
      "3623/3623 [==============================] - 3s 737us/step - loss: 0.2781 - accuracy: 0.8902 - val_loss: 0.2832 - val_accuracy: 0.8887\n",
      "Epoch 89/140\n",
      "3623/3623 [==============================] - 3s 741us/step - loss: 0.2776 - accuracy: 0.8903 - val_loss: 0.2820 - val_accuracy: 0.8872\n",
      "Epoch 90/140\n",
      "3623/3623 [==============================] - 3s 738us/step - loss: 0.2779 - accuracy: 0.8905 - val_loss: 0.2949 - val_accuracy: 0.8808\n",
      "Epoch 91/140\n",
      "3623/3623 [==============================] - 3s 733us/step - loss: 0.2774 - accuracy: 0.8906 - val_loss: 0.3088 - val_accuracy: 0.8797\n",
      "Epoch 92/140\n",
      "3623/3623 [==============================] - 3s 736us/step - loss: 0.2771 - accuracy: 0.8906 - val_loss: 0.2807 - val_accuracy: 0.8896\n",
      "Epoch 93/140\n",
      "3623/3623 [==============================] - 3s 759us/step - loss: 0.2755 - accuracy: 0.8906 - val_loss: 0.2814 - val_accuracy: 0.8882\n",
      "Epoch 94/140\n",
      "3583/3623 [============================>.] - ETA: 0s - loss: 0.2759 - accuracy: 0.8906INFO:tensorflow:Assets written to: /home/anza-tshilidzi/Desktop/Masters_material/e+ e- study/wandb/run-20240815_081259-764u55on/files/model-best/assets\n"
     ]
    },
    {
     "name": "stderr",
     "output_type": "stream",
     "text": [
      "\u001b[34m\u001b[1mwandb\u001b[0m: Adding directory to artifact (/home/anza-tshilidzi/Desktop/Masters_material/e+ e- study/wandb/run-20240815_081259-764u55on/files/model-best)... Done. 0.0s\n"
     ]
    },
    {
     "name": "stdout",
     "output_type": "stream",
     "text": [
      "3623/3623 [==============================] - 3s 956us/step - loss: 0.2763 - accuracy: 0.8904 - val_loss: 0.2761 - val_accuracy: 0.8911\n",
      "Epoch 95/140\n",
      "3623/3623 [==============================] - 3s 734us/step - loss: 0.2752 - accuracy: 0.8915 - val_loss: 0.2831 - val_accuracy: 0.8900\n",
      "Epoch 96/140\n",
      "3623/3623 [==============================] - 3s 741us/step - loss: 0.2762 - accuracy: 0.8908 - val_loss: 0.2846 - val_accuracy: 0.8891\n",
      "Epoch 97/140\n",
      "3623/3623 [==============================] - 3s 731us/step - loss: 0.2742 - accuracy: 0.8918 - val_loss: 0.2832 - val_accuracy: 0.8872\n",
      "Epoch 98/140\n",
      "3623/3623 [==============================] - 3s 735us/step - loss: 0.2739 - accuracy: 0.8911 - val_loss: 0.2788 - val_accuracy: 0.8896\n",
      "Epoch 99/140\n",
      "3623/3623 [==============================] - 3s 760us/step - loss: 0.2733 - accuracy: 0.8928 - val_loss: 0.2797 - val_accuracy: 0.8928\n",
      "Epoch 100/140\n",
      "3623/3623 [==============================] - 3s 732us/step - loss: 0.2727 - accuracy: 0.8920 - val_loss: 0.2832 - val_accuracy: 0.8907\n",
      "Epoch 101/140\n",
      "3567/3623 [============================>.] - ETA: 0s - loss: 0.2717 - accuracy: 0.8925INFO:tensorflow:Assets written to: /home/anza-tshilidzi/Desktop/Masters_material/e+ e- study/wandb/run-20240815_081259-764u55on/files/model-best/assets\n"
     ]
    },
    {
     "name": "stderr",
     "output_type": "stream",
     "text": [
      "\u001b[34m\u001b[1mwandb\u001b[0m: Adding directory to artifact (/home/anza-tshilidzi/Desktop/Masters_material/e+ e- study/wandb/run-20240815_081259-764u55on/files/model-best)... Done. 0.0s\n"
     ]
    },
    {
     "name": "stdout",
     "output_type": "stream",
     "text": [
      "3623/3623 [==============================] - 3s 932us/step - loss: 0.2717 - accuracy: 0.8925 - val_loss: 0.2683 - val_accuracy: 0.8940\n",
      "Epoch 102/140\n",
      "3623/3623 [==============================] - 3s 726us/step - loss: 0.2714 - accuracy: 0.8928 - val_loss: 0.2756 - val_accuracy: 0.8913\n",
      "Epoch 103/140\n",
      "3623/3623 [==============================] - 3s 745us/step - loss: 0.2708 - accuracy: 0.8937 - val_loss: 0.2810 - val_accuracy: 0.8891\n",
      "Epoch 104/140\n",
      "3623/3623 [==============================] - 3s 729us/step - loss: 0.2696 - accuracy: 0.8936 - val_loss: 0.2697 - val_accuracy: 0.8931\n",
      "Epoch 105/140\n",
      "3623/3623 [==============================] - 3s 759us/step - loss: 0.2691 - accuracy: 0.8940 - val_loss: 0.2698 - val_accuracy: 0.8932\n",
      "Epoch 106/140\n",
      "3623/3623 [==============================] - 3s 733us/step - loss: 0.2687 - accuracy: 0.8939 - val_loss: 0.2690 - val_accuracy: 0.8939\n",
      "Epoch 107/140\n",
      "3575/3623 [============================>.] - ETA: 0s - loss: 0.2681 - accuracy: 0.8942INFO:tensorflow:Assets written to: /home/anza-tshilidzi/Desktop/Masters_material/e+ e- study/wandb/run-20240815_081259-764u55on/files/model-best/assets\n"
     ]
    },
    {
     "name": "stderr",
     "output_type": "stream",
     "text": [
      "\u001b[34m\u001b[1mwandb\u001b[0m: Adding directory to artifact (/home/anza-tshilidzi/Desktop/Masters_material/e+ e- study/wandb/run-20240815_081259-764u55on/files/model-best)... Done. 0.0s\n"
     ]
    },
    {
     "name": "stdout",
     "output_type": "stream",
     "text": [
      "3623/3623 [==============================] - 3s 939us/step - loss: 0.2679 - accuracy: 0.8943 - val_loss: 0.2670 - val_accuracy: 0.8927\n",
      "Epoch 108/140\n",
      "3623/3623 [==============================] - 3s 732us/step - loss: 0.2685 - accuracy: 0.8936 - val_loss: 0.2730 - val_accuracy: 0.8920\n",
      "Epoch 109/140\n",
      "3623/3623 [==============================] - 3s 742us/step - loss: 0.2670 - accuracy: 0.8943 - val_loss: 0.2687 - val_accuracy: 0.8943\n",
      "Epoch 110/140\n",
      "3615/3623 [============================>.] - ETA: 0s - loss: 0.2669 - accuracy: 0.8944INFO:tensorflow:Assets written to: /home/anza-tshilidzi/Desktop/Masters_material/e+ e- study/wandb/run-20240815_081259-764u55on/files/model-best/assets\n"
     ]
    },
    {
     "name": "stderr",
     "output_type": "stream",
     "text": [
      "\u001b[34m\u001b[1mwandb\u001b[0m: Adding directory to artifact (/home/anza-tshilidzi/Desktop/Masters_material/e+ e- study/wandb/run-20240815_081259-764u55on/files/model-best)... Done. 0.0s\n"
     ]
    },
    {
     "name": "stdout",
     "output_type": "stream",
     "text": [
      "3623/3623 [==============================] - 3s 953us/step - loss: 0.2669 - accuracy: 0.8944 - val_loss: 0.2614 - val_accuracy: 0.8956\n",
      "Epoch 111/140\n",
      "3623/3623 [==============================] - 3s 732us/step - loss: 0.2664 - accuracy: 0.8952 - val_loss: 0.3062 - val_accuracy: 0.8790\n",
      "Epoch 112/140\n",
      "3623/3623 [==============================] - 3s 730us/step - loss: 0.2666 - accuracy: 0.8940 - val_loss: 0.2670 - val_accuracy: 0.8947\n",
      "Epoch 113/140\n",
      "3623/3623 [==============================] - 3s 734us/step - loss: 0.2660 - accuracy: 0.8952 - val_loss: 0.2693 - val_accuracy: 0.8913\n",
      "Epoch 114/140\n",
      "3623/3623 [==============================] - 3s 733us/step - loss: 0.2650 - accuracy: 0.8949 - val_loss: 0.2731 - val_accuracy: 0.8918\n",
      "Epoch 115/140\n",
      "3623/3623 [==============================] - 3s 735us/step - loss: 0.2650 - accuracy: 0.8949 - val_loss: 0.2692 - val_accuracy: 0.8944\n",
      "Epoch 116/140\n",
      "3623/3623 [==============================] - 3s 783us/step - loss: 0.2650 - accuracy: 0.8960 - val_loss: 0.2628 - val_accuracy: 0.8963\n",
      "Epoch 117/140\n",
      "3623/3623 [==============================] - 3s 738us/step - loss: 0.2642 - accuracy: 0.8951 - val_loss: 0.2658 - val_accuracy: 0.8944\n",
      "Epoch 118/140\n",
      "3623/3623 [==============================] - 3s 739us/step - loss: 0.2630 - accuracy: 0.8958 - val_loss: 0.2649 - val_accuracy: 0.8965\n",
      "Epoch 119/140\n",
      "3623/3623 [==============================] - 3s 733us/step - loss: 0.2640 - accuracy: 0.8956 - val_loss: 0.3032 - val_accuracy: 0.8894\n",
      "Epoch 120/140\n",
      "3623/3623 [==============================] - 3s 733us/step - loss: 0.2634 - accuracy: 0.8955 - val_loss: 0.2772 - val_accuracy: 0.8904\n",
      "Epoch 121/140\n",
      "3623/3623 [==============================] - 3s 733us/step - loss: 0.2642 - accuracy: 0.8954 - val_loss: 0.2867 - val_accuracy: 0.8808\n",
      "Epoch 122/140\n",
      "3623/3623 [==============================] - 3s 749us/step - loss: 0.2629 - accuracy: 0.8951 - val_loss: 0.2906 - val_accuracy: 0.8897\n",
      "Epoch 123/140\n",
      "3623/3623 [==============================] - 3s 734us/step - loss: 0.2620 - accuracy: 0.8957 - val_loss: 0.2730 - val_accuracy: 0.8935\n",
      "Epoch 124/140\n",
      "3623/3623 [==============================] - 3s 736us/step - loss: 0.2633 - accuracy: 0.8961 - val_loss: 0.2663 - val_accuracy: 0.8936\n",
      "Epoch 125/140\n",
      "3623/3623 [==============================] - 3s 731us/step - loss: 0.2624 - accuracy: 0.8965 - val_loss: 0.2826 - val_accuracy: 0.8941\n",
      "Epoch 126/140\n",
      "3623/3623 [==============================] - 3s 731us/step - loss: 0.2623 - accuracy: 0.8962 - val_loss: 0.2662 - val_accuracy: 0.8957\n",
      "Epoch 127/140\n",
      "3623/3623 [==============================] - 3s 737us/step - loss: 0.2612 - accuracy: 0.8967 - val_loss: 0.2667 - val_accuracy: 0.8950\n",
      "Epoch 128/140\n",
      "3623/3623 [==============================] - 3s 759us/step - loss: 0.2626 - accuracy: 0.8961 - val_loss: 0.2661 - val_accuracy: 0.8950\n",
      "Epoch 129/140\n",
      "3623/3623 [==============================] - 3s 734us/step - loss: 0.2620 - accuracy: 0.8963 - val_loss: 0.2658 - val_accuracy: 0.8937\n",
      "Epoch 130/140\n",
      "3623/3623 [==============================] - 3s 731us/step - loss: 0.2617 - accuracy: 0.8956 - val_loss: 0.2730 - val_accuracy: 0.8917\n",
      "Epoch 131/140\n",
      "3623/3623 [==============================] - 3s 736us/step - loss: 0.2614 - accuracy: 0.8971 - val_loss: 0.2747 - val_accuracy: 0.8912\n",
      "Epoch 132/140\n",
      "3623/3623 [==============================] - 3s 737us/step - loss: 0.2619 - accuracy: 0.8960 - val_loss: 0.2768 - val_accuracy: 0.8928\n",
      "Epoch 133/140\n",
      "3623/3623 [==============================] - 3s 734us/step - loss: 0.2609 - accuracy: 0.8966 - val_loss: 0.2675 - val_accuracy: 0.8953\n",
      "Epoch 134/140\n",
      "3623/3623 [==============================] - 3s 759us/step - loss: 0.2613 - accuracy: 0.8963 - val_loss: 0.2631 - val_accuracy: 0.8949\n",
      "Epoch 135/140\n",
      "3623/3623 [==============================] - 3s 729us/step - loss: 0.2611 - accuracy: 0.8964 - val_loss: 0.2754 - val_accuracy: 0.8888\n",
      "Epoch 136/140\n",
      "3623/3623 [==============================] - 3s 730us/step - loss: 0.2605 - accuracy: 0.8965 - val_loss: 0.2780 - val_accuracy: 0.8890\n",
      "Epoch 137/140\n",
      "3615/3623 [============================>.] - ETA: 0s - loss: 0.2607 - accuracy: 0.8969INFO:tensorflow:Assets written to: /home/anza-tshilidzi/Desktop/Masters_material/e+ e- study/wandb/run-20240815_081259-764u55on/files/model-best/assets\n"
     ]
    },
    {
     "name": "stderr",
     "output_type": "stream",
     "text": [
      "\u001b[34m\u001b[1mwandb\u001b[0m: Adding directory to artifact (/home/anza-tshilidzi/Desktop/Masters_material/e+ e- study/wandb/run-20240815_081259-764u55on/files/model-best)... Done. 0.0s\n"
     ]
    },
    {
     "name": "stdout",
     "output_type": "stream",
     "text": [
      "3623/3623 [==============================] - 4s 1ms/step - loss: 0.2607 - accuracy: 0.8969 - val_loss: 0.2598 - val_accuracy: 0.8963\n",
      "Epoch 138/140\n",
      "3623/3623 [==============================] - 3s 731us/step - loss: 0.2611 - accuracy: 0.8958 - val_loss: 0.2699 - val_accuracy: 0.8971\n",
      "Epoch 139/140\n",
      "3623/3623 [==============================] - 3s 735us/step - loss: 0.2611 - accuracy: 0.8970 - val_loss: 0.2688 - val_accuracy: 0.8961\n",
      "Epoch 140/140\n",
      "3623/3623 [==============================] - 3s 749us/step - loss: 0.2612 - accuracy: 0.8960 - val_loss: 0.2712 - val_accuracy: 0.8929\n"
     ]
    },
    {
     "data": {
      "application/vnd.jupyter.widget-view+json": {
       "model_id": "",
       "version_major": 2,
       "version_minor": 0
      },
      "text/plain": [
       "VBox(children=(Label(value='2.626 MB of 2.626 MB uploaded (0.182 MB deduped)\\r'), FloatProgress(value=1.0, max…"
      ]
     },
     "metadata": {},
     "output_type": "display_data"
    },
    {
     "data": {
      "text/html": [
       "W&B sync reduced upload amount by 6.7%"
      ],
      "text/plain": [
       "<IPython.core.display.HTML object>"
      ]
     },
     "metadata": {},
     "output_type": "display_data"
    },
    {
     "data": {
      "text/html": [
       "<style>\n",
       "    table.wandb td:nth-child(1) { padding: 0 10px; text-align: left ; width: auto;} td:nth-child(2) {text-align: left ; width: 100%}\n",
       "    .wandb-row { display: flex; flex-direction: row; flex-wrap: wrap; justify-content: flex-start; width: 100% }\n",
       "    .wandb-col { display: flex; flex-direction: column; flex-basis: 100%; flex: 1; padding: 10px; }\n",
       "    </style>\n",
       "<div class=\"wandb-row\"><div class=\"wandb-col\"><h3>Run history:</h3><br/><table class=\"wandb\"><tr><td>accuracy</td><td>▁▆▆▇▇▇▇▇▇▇▇▇▇▇▇▇▇▇▇▇▇▇▇▇▇███████████████</td></tr><tr><td>epoch</td><td>▁▁▁▂▂▂▂▂▂▃▃▃▃▃▃▄▄▄▄▄▅▅▅▅▅▅▆▆▆▆▆▆▇▇▇▇▇███</td></tr><tr><td>loss</td><td>█▄▃▃▂▂▂▂▂▂▂▂▂▂▂▂▂▂▂▂▂▂▂▂▂▂▁▁▁▁▁▁▁▁▁▁▁▁▁▁</td></tr><tr><td>val_accuracy</td><td>▁▄▄▆▆▆▆▆▆▆▆▅▆▆▇▆▅▆▆▇▆▆▆▇▇▅▇▇▇▇▇█▇█▇▇█▇▇▇</td></tr><tr><td>val_loss</td><td>█▄▄▃▃▃▂▃▂▃▃▃▂▂▂▂▄▂▃▂▂▃▂▂▂▃▂▂▂▁▂▁▂▁▂▁▁▂▂▁</td></tr></table><br/></div><div class=\"wandb-col\"><h3>Run summary:</h3><br/><table class=\"wandb\"><tr><td>accuracy</td><td>0.89602</td></tr><tr><td>best_epoch</td><td>136</td></tr><tr><td>best_val_loss</td><td>0.25981</td></tr><tr><td>epoch</td><td>139</td></tr><tr><td>loss</td><td>0.26124</td></tr><tr><td>val_accuracy</td><td>0.89292</td></tr><tr><td>val_loss</td><td>0.27124</td></tr></table><br/></div></div>"
      ],
      "text/plain": [
       "<IPython.core.display.HTML object>"
      ]
     },
     "metadata": {},
     "output_type": "display_data"
    },
    {
     "data": {
      "text/html": [
       " View run <strong style=\"color:#cdcd00\">amber-sweep-7</strong> at: <a href='https://wandb.ai/anzanzio/ep-em%20DNN/runs/764u55on' target=\"_blank\">https://wandb.ai/anzanzio/ep-em%20DNN/runs/764u55on</a><br/> View project at: <a href='https://wandb.ai/anzanzio/ep-em%20DNN' target=\"_blank\">https://wandb.ai/anzanzio/ep-em%20DNN</a><br/>Synced 6 W&B file(s), 1 media file(s), 96 artifact file(s) and 1 other file(s)"
      ],
      "text/plain": [
       "<IPython.core.display.HTML object>"
      ]
     },
     "metadata": {},
     "output_type": "display_data"
    },
    {
     "data": {
      "text/html": [
       "Find logs at: <code>./wandb/run-20240815_081259-764u55on/logs</code>"
      ],
      "text/plain": [
       "<IPython.core.display.HTML object>"
      ]
     },
     "metadata": {},
     "output_type": "display_data"
    },
    {
     "data": {
      "text/html": [
       "The new W&B backend becomes opt-out in version 0.18.0; try it out with `wandb.require(\"core\")`! See https://wandb.me/wandb-core for more information."
      ],
      "text/plain": [
       "<IPython.core.display.HTML object>"
      ]
     },
     "metadata": {},
     "output_type": "display_data"
    },
    {
     "name": "stderr",
     "output_type": "stream",
     "text": [
      "\u001b[34m\u001b[1mwandb\u001b[0m: Agent Starting Run: e84nkavs with config:\n",
      "\u001b[34m\u001b[1mwandb\u001b[0m: \tbatch_size: 15\n",
      "\u001b[34m\u001b[1mwandb\u001b[0m: \tepochs: 150\n",
      "\u001b[34m\u001b[1mwandb\u001b[0m: \tlayers: 29\n",
      "\u001b[34m\u001b[1mwandb\u001b[0m: \tlearning_rate: 0.0003831392023997039\n",
      "\u001b[34m\u001b[1mwandb\u001b[0m: \tneurons: 47\n",
      "\u001b[34m\u001b[1mwandb\u001b[0m: \toptimizer: adamax\n"
     ]
    },
    {
     "data": {
      "text/html": [
       "Tracking run with wandb version 0.17.6"
      ],
      "text/plain": [
       "<IPython.core.display.HTML object>"
      ]
     },
     "metadata": {},
     "output_type": "display_data"
    },
    {
     "data": {
      "text/html": [
       "Run data is saved locally in <code>/home/anza-tshilidzi/Desktop/Masters_material/e+ e- study/wandb/run-20240815_081957-e84nkavs</code>"
      ],
      "text/plain": [
       "<IPython.core.display.HTML object>"
      ]
     },
     "metadata": {},
     "output_type": "display_data"
    },
    {
     "data": {
      "text/html": [
       "Syncing run <strong><a href='https://wandb.ai/anzanzio/ep-em%20DNN/runs/e84nkavs' target=\"_blank\">electric-sweep-8</a></strong> to <a href='https://wandb.ai/anzanzio/ep-em%20DNN' target=\"_blank\">Weights & Biases</a> (<a href='https://wandb.me/run' target=\"_blank\">docs</a>)<br/>Sweep page: <a href='https://wandb.ai/anzanzio/ep-em%20DNN/sweeps/lg5h93ch' target=\"_blank\">https://wandb.ai/anzanzio/ep-em%20DNN/sweeps/lg5h93ch</a>"
      ],
      "text/plain": [
       "<IPython.core.display.HTML object>"
      ]
     },
     "metadata": {},
     "output_type": "display_data"
    },
    {
     "data": {
      "text/html": [
       " View project at <a href='https://wandb.ai/anzanzio/ep-em%20DNN' target=\"_blank\">https://wandb.ai/anzanzio/ep-em%20DNN</a>"
      ],
      "text/plain": [
       "<IPython.core.display.HTML object>"
      ]
     },
     "metadata": {},
     "output_type": "display_data"
    },
    {
     "data": {
      "text/html": [
       " View sweep at <a href='https://wandb.ai/anzanzio/ep-em%20DNN/sweeps/lg5h93ch' target=\"_blank\">https://wandb.ai/anzanzio/ep-em%20DNN/sweeps/lg5h93ch</a>"
      ],
      "text/plain": [
       "<IPython.core.display.HTML object>"
      ]
     },
     "metadata": {},
     "output_type": "display_data"
    },
    {
     "data": {
      "text/html": [
       " View run at <a href='https://wandb.ai/anzanzio/ep-em%20DNN/runs/e84nkavs' target=\"_blank\">https://wandb.ai/anzanzio/ep-em%20DNN/runs/e84nkavs</a>"
      ],
      "text/plain": [
       "<IPython.core.display.HTML object>"
      ]
     },
     "metadata": {},
     "output_type": "display_data"
    },
    {
     "name": "stdout",
     "output_type": "stream",
     "text": [
      "Epoch 1/150\n",
      "6999/7004 [============================>.] - ETA: 0s - loss: 0.6622 - accuracy: 0.7235INFO:tensorflow:Assets written to: /home/anza-tshilidzi/Desktop/Masters_material/e+ e- study/wandb/run-20240815_081957-e84nkavs/files/model-best/assets\n"
     ]
    },
    {
     "name": "stderr",
     "output_type": "stream",
     "text": [
      "\u001b[34m\u001b[1mwandb\u001b[0m: Adding directory to artifact (/home/anza-tshilidzi/Desktop/Masters_material/e+ e- study/wandb/run-20240815_081957-e84nkavs/files/model-best)... Done. 0.0s\n"
     ]
    },
    {
     "name": "stdout",
     "output_type": "stream",
     "text": [
      "7004/7004 [==============================] - 7s 940us/step - loss: 0.6620 - accuracy: 0.7235 - val_loss: 0.5403 - val_accuracy: 0.7849\n",
      "Epoch 2/150\n",
      "6930/7004 [============================>.] - ETA: 0s - loss: 0.4503 - accuracy: 0.8256INFO:tensorflow:Assets written to: /home/anza-tshilidzi/Desktop/Masters_material/e+ e- study/wandb/run-20240815_081957-e84nkavs/files/model-best/assets\n"
     ]
    },
    {
     "name": "stderr",
     "output_type": "stream",
     "text": [
      "\u001b[34m\u001b[1mwandb\u001b[0m: Adding directory to artifact (/home/anza-tshilidzi/Desktop/Masters_material/e+ e- study/wandb/run-20240815_081957-e84nkavs/files/model-best)... Done. 0.0s\n"
     ]
    },
    {
     "name": "stdout",
     "output_type": "stream",
     "text": [
      "7004/7004 [==============================] - 6s 866us/step - loss: 0.4493 - accuracy: 0.8259 - val_loss: 0.4170 - val_accuracy: 0.8414\n",
      "Epoch 3/150\n",
      "6987/7004 [============================>.] - ETA: 0s - loss: 0.3500 - accuracy: 0.8663INFO:tensorflow:Assets written to: /home/anza-tshilidzi/Desktop/Masters_material/e+ e- study/wandb/run-20240815_081957-e84nkavs/files/model-best/assets\n"
     ]
    },
    {
     "name": "stderr",
     "output_type": "stream",
     "text": [
      "\u001b[34m\u001b[1mwandb\u001b[0m: Adding directory to artifact (/home/anza-tshilidzi/Desktop/Masters_material/e+ e- study/wandb/run-20240815_081957-e84nkavs/files/model-best)... Done. 0.0s\n"
     ]
    },
    {
     "name": "stdout",
     "output_type": "stream",
     "text": [
      "7004/7004 [==============================] - 6s 847us/step - loss: 0.3501 - accuracy: 0.8662 - val_loss: 0.3321 - val_accuracy: 0.8780\n",
      "Epoch 4/150\n",
      "6943/7004 [============================>.] - ETA: 0s - loss: 0.3298 - accuracy: 0.8729INFO:tensorflow:Assets written to: /home/anza-tshilidzi/Desktop/Masters_material/e+ e- study/wandb/run-20240815_081957-e84nkavs/files/model-best/assets\n"
     ]
    },
    {
     "name": "stderr",
     "output_type": "stream",
     "text": [
      "\u001b[34m\u001b[1mwandb\u001b[0m: Adding directory to artifact (/home/anza-tshilidzi/Desktop/Masters_material/e+ e- study/wandb/run-20240815_081957-e84nkavs/files/model-best)... Done. 0.0s\n"
     ]
    },
    {
     "name": "stdout",
     "output_type": "stream",
     "text": [
      "7004/7004 [==============================] - 6s 878us/step - loss: 0.3299 - accuracy: 0.8729 - val_loss: 0.3186 - val_accuracy: 0.8769\n",
      "Epoch 5/150\n",
      "6991/7004 [============================>.] - ETA: 0s - loss: 0.3215 - accuracy: 0.8774INFO:tensorflow:Assets written to: /home/anza-tshilidzi/Desktop/Masters_material/e+ e- study/wandb/run-20240815_081957-e84nkavs/files/model-best/assets\n"
     ]
    },
    {
     "name": "stderr",
     "output_type": "stream",
     "text": [
      "\u001b[34m\u001b[1mwandb\u001b[0m: Adding directory to artifact (/home/anza-tshilidzi/Desktop/Masters_material/e+ e- study/wandb/run-20240815_081957-e84nkavs/files/model-best)... Done. 0.0s\n"
     ]
    },
    {
     "name": "stdout",
     "output_type": "stream",
     "text": [
      "7004/7004 [==============================] - 6s 847us/step - loss: 0.3215 - accuracy: 0.8774 - val_loss: 0.3054 - val_accuracy: 0.8838\n",
      "Epoch 6/150\n",
      "7004/7004 [==============================] - 5s 739us/step - loss: 0.3177 - accuracy: 0.8781 - val_loss: 0.3090 - val_accuracy: 0.8766\n",
      "Epoch 7/150\n",
      "7004/7004 [==============================] - 5s 754us/step - loss: 0.3159 - accuracy: 0.8790 - val_loss: 0.3198 - val_accuracy: 0.8747\n",
      "Epoch 8/150\n",
      "6935/7004 [============================>.] - ETA: 0s - loss: 0.3121 - accuracy: 0.8811INFO:tensorflow:Assets written to: /home/anza-tshilidzi/Desktop/Masters_material/e+ e- study/wandb/run-20240815_081957-e84nkavs/files/model-best/assets\n"
     ]
    },
    {
     "name": "stderr",
     "output_type": "stream",
     "text": [
      "\u001b[34m\u001b[1mwandb\u001b[0m: Adding directory to artifact (/home/anza-tshilidzi/Desktop/Masters_material/e+ e- study/wandb/run-20240815_081957-e84nkavs/files/model-best)... Done. 0.0s\n"
     ]
    },
    {
     "name": "stdout",
     "output_type": "stream",
     "text": [
      "7004/7004 [==============================] - 6s 848us/step - loss: 0.3122 - accuracy: 0.8811 - val_loss: 0.3034 - val_accuracy: 0.8843\n",
      "Epoch 9/150\n",
      "6942/7004 [============================>.] - ETA: 0s - loss: 0.3088 - accuracy: 0.8819INFO:tensorflow:Assets written to: /home/anza-tshilidzi/Desktop/Masters_material/e+ e- study/wandb/run-20240815_081957-e84nkavs/files/model-best/assets\n"
     ]
    },
    {
     "name": "stderr",
     "output_type": "stream",
     "text": [
      "\u001b[34m\u001b[1mwandb\u001b[0m: Adding directory to artifact (/home/anza-tshilidzi/Desktop/Masters_material/e+ e- study/wandb/run-20240815_081957-e84nkavs/files/model-best)... Done. 0.0s\n"
     ]
    },
    {
     "name": "stdout",
     "output_type": "stream",
     "text": [
      "7004/7004 [==============================] - 6s 841us/step - loss: 0.3087 - accuracy: 0.8819 - val_loss: 0.2942 - val_accuracy: 0.8852\n",
      "Epoch 10/150\n",
      "7004/7004 [==============================] - 5s 757us/step - loss: 0.3064 - accuracy: 0.8828 - val_loss: 0.3755 - val_accuracy: 0.8613\n",
      "Epoch 11/150\n",
      "7004/7004 [==============================] - 5s 745us/step - loss: 0.3063 - accuracy: 0.8820 - val_loss: 0.3116 - val_accuracy: 0.8781\n",
      "Epoch 12/150\n",
      "7004/7004 [==============================] - 5s 737us/step - loss: 0.3048 - accuracy: 0.8826 - val_loss: 0.3567 - val_accuracy: 0.8605\n",
      "Epoch 13/150\n",
      "7004/7004 [==============================] - 5s 748us/step - loss: 0.3031 - accuracy: 0.8835 - val_loss: 0.2963 - val_accuracy: 0.8862\n",
      "Epoch 14/150\n",
      "6936/7004 [============================>.] - ETA: 0s - loss: 0.3024 - accuracy: 0.8836INFO:tensorflow:Assets written to: /home/anza-tshilidzi/Desktop/Masters_material/e+ e- study/wandb/run-20240815_081957-e84nkavs/files/model-best/assets\n"
     ]
    },
    {
     "name": "stderr",
     "output_type": "stream",
     "text": [
      "\u001b[34m\u001b[1mwandb\u001b[0m: Adding directory to artifact (/home/anza-tshilidzi/Desktop/Masters_material/e+ e- study/wandb/run-20240815_081957-e84nkavs/files/model-best)... Done. 0.0s\n"
     ]
    },
    {
     "name": "stdout",
     "output_type": "stream",
     "text": [
      "7004/7004 [==============================] - 6s 843us/step - loss: 0.3026 - accuracy: 0.8835 - val_loss: 0.2938 - val_accuracy: 0.8866\n",
      "Epoch 15/150\n",
      "7004/7004 [==============================] - 5s 740us/step - loss: 0.3016 - accuracy: 0.8833 - val_loss: 0.3015 - val_accuracy: 0.8804\n",
      "Epoch 16/150\n",
      "6991/7004 [============================>.] - ETA: 0s - loss: 0.3000 - accuracy: 0.8841INFO:tensorflow:Assets written to: /home/anza-tshilidzi/Desktop/Masters_material/e+ e- study/wandb/run-20240815_081957-e84nkavs/files/model-best/assets\n"
     ]
    },
    {
     "name": "stderr",
     "output_type": "stream",
     "text": [
      "\u001b[34m\u001b[1mwandb\u001b[0m: Adding directory to artifact (/home/anza-tshilidzi/Desktop/Masters_material/e+ e- study/wandb/run-20240815_081957-e84nkavs/files/model-best)... Done. 0.0s\n"
     ]
    },
    {
     "name": "stdout",
     "output_type": "stream",
     "text": [
      "7004/7004 [==============================] - 6s 867us/step - loss: 0.3000 - accuracy: 0.8841 - val_loss: 0.2890 - val_accuracy: 0.8865\n",
      "Epoch 17/150\n",
      "7004/7004 [==============================] - 5s 746us/step - loss: 0.2989 - accuracy: 0.8854 - val_loss: 0.2899 - val_accuracy: 0.8884\n",
      "Epoch 18/150\n",
      "6938/7004 [============================>.] - ETA: 0s - loss: 0.2981 - accuracy: 0.8855INFO:tensorflow:Assets written to: /home/anza-tshilidzi/Desktop/Masters_material/e+ e- study/wandb/run-20240815_081957-e84nkavs/files/model-best/assets\n"
     ]
    },
    {
     "name": "stderr",
     "output_type": "stream",
     "text": [
      "\u001b[34m\u001b[1mwandb\u001b[0m: Adding directory to artifact (/home/anza-tshilidzi/Desktop/Masters_material/e+ e- study/wandb/run-20240815_081957-e84nkavs/files/model-best)... Done. 0.0s\n"
     ]
    },
    {
     "name": "stdout",
     "output_type": "stream",
     "text": [
      "7004/7004 [==============================] - 6s 842us/step - loss: 0.2980 - accuracy: 0.8855 - val_loss: 0.2867 - val_accuracy: 0.8888\n",
      "Epoch 19/150\n",
      "7004/7004 [==============================] - 5s 751us/step - loss: 0.2980 - accuracy: 0.8855 - val_loss: 0.2899 - val_accuracy: 0.8884\n",
      "Epoch 20/150\n",
      "7004/7004 [==============================] - 5s 741us/step - loss: 0.2957 - accuracy: 0.8853 - val_loss: 0.2977 - val_accuracy: 0.8828\n",
      "Epoch 21/150\n",
      "7004/7004 [==============================] - 5s 739us/step - loss: 0.2952 - accuracy: 0.8858 - val_loss: 0.2986 - val_accuracy: 0.8862\n",
      "Epoch 22/150\n",
      "7004/7004 [==============================] - 5s 752us/step - loss: 0.2960 - accuracy: 0.8856 - val_loss: 0.3267 - val_accuracy: 0.8802\n",
      "Epoch 23/150\n",
      "7004/7004 [==============================] - 5s 744us/step - loss: 0.2958 - accuracy: 0.8857 - val_loss: 0.3000 - val_accuracy: 0.8820\n",
      "Epoch 24/150\n",
      "7004/7004 [==============================] - 5s 738us/step - loss: 0.2938 - accuracy: 0.8865 - val_loss: 0.2881 - val_accuracy: 0.8883\n",
      "Epoch 25/150\n",
      "7002/7004 [============================>.] - ETA: 0s - loss: 0.2940 - accuracy: 0.8867INFO:tensorflow:Assets written to: /home/anza-tshilidzi/Desktop/Masters_material/e+ e- study/wandb/run-20240815_081957-e84nkavs/files/model-best/assets\n"
     ]
    },
    {
     "name": "stderr",
     "output_type": "stream",
     "text": [
      "\u001b[34m\u001b[1mwandb\u001b[0m: Adding directory to artifact (/home/anza-tshilidzi/Desktop/Masters_material/e+ e- study/wandb/run-20240815_081957-e84nkavs/files/model-best)... Done. 0.0s\n"
     ]
    },
    {
     "name": "stdout",
     "output_type": "stream",
     "text": [
      "7004/7004 [==============================] - 6s 902us/step - loss: 0.2939 - accuracy: 0.8867 - val_loss: 0.2836 - val_accuracy: 0.8889\n",
      "Epoch 26/150\n",
      "7004/7004 [==============================] - 5s 740us/step - loss: 0.2936 - accuracy: 0.8862 - val_loss: 0.3067 - val_accuracy: 0.8824\n",
      "Epoch 27/150\n",
      "7004/7004 [==============================] - 5s 739us/step - loss: 0.2927 - accuracy: 0.8864 - val_loss: 0.3152 - val_accuracy: 0.8806\n",
      "Epoch 28/150\n",
      "7004/7004 [==============================] - 5s 750us/step - loss: 0.2924 - accuracy: 0.8865 - val_loss: 0.2864 - val_accuracy: 0.8886\n",
      "Epoch 29/150\n",
      "7004/7004 [==============================] - 5s 740us/step - loss: 0.2923 - accuracy: 0.8862 - val_loss: 0.3744 - val_accuracy: 0.8611\n",
      "Epoch 30/150\n",
      "7004/7004 [==============================] - 5s 736us/step - loss: 0.2915 - accuracy: 0.8874 - val_loss: 0.2896 - val_accuracy: 0.8878\n",
      "Epoch 31/150\n",
      "7004/7004 [==============================] - 5s 746us/step - loss: 0.2917 - accuracy: 0.8872 - val_loss: 0.3093 - val_accuracy: 0.8843\n",
      "Epoch 32/150\n",
      "7004/7004 [==============================] - 5s 742us/step - loss: 0.2921 - accuracy: 0.8866 - val_loss: 0.2872 - val_accuracy: 0.8865\n",
      "Epoch 33/150\n",
      "7004/7004 [==============================] - 5s 738us/step - loss: 0.2931 - accuracy: 0.8866 - val_loss: 0.2844 - val_accuracy: 0.8894\n",
      "Epoch 34/150\n",
      "7004/7004 [==============================] - 5s 753us/step - loss: 0.2909 - accuracy: 0.8870 - val_loss: 0.2919 - val_accuracy: 0.8857\n",
      "Epoch 35/150\n",
      "7004/7004 [==============================] - 5s 740us/step - loss: 0.2907 - accuracy: 0.8874 - val_loss: 0.2862 - val_accuracy: 0.8884\n",
      "Epoch 36/150\n",
      "7004/7004 [==============================] - 5s 744us/step - loss: 0.2900 - accuracy: 0.8882 - val_loss: 0.2923 - val_accuracy: 0.8853\n",
      "Epoch 37/150\n",
      "7004/7004 [==============================] - 5s 753us/step - loss: 0.2905 - accuracy: 0.8872 - val_loss: 0.2993 - val_accuracy: 0.8825\n",
      "Epoch 38/150\n",
      "7004/7004 [==============================] - 5s 738us/step - loss: 0.2908 - accuracy: 0.8875 - val_loss: 0.2896 - val_accuracy: 0.8880\n",
      "Epoch 39/150\n",
      "7004/7004 [==============================] - 5s 743us/step - loss: 0.2907 - accuracy: 0.8871 - val_loss: 0.2909 - val_accuracy: 0.8868\n",
      "Epoch 40/150\n",
      "7004/7004 [==============================] - 5s 754us/step - loss: 0.2899 - accuracy: 0.8871 - val_loss: 0.2891 - val_accuracy: 0.8863\n",
      "Epoch 41/150\n",
      "7004/7004 [==============================] - 5s 742us/step - loss: 0.2891 - accuracy: 0.8878 - val_loss: 0.2867 - val_accuracy: 0.8891\n",
      "Epoch 42/150\n",
      "7004/7004 [==============================] - 5s 738us/step - loss: 0.2896 - accuracy: 0.8877 - val_loss: 0.3073 - val_accuracy: 0.8803\n",
      "Epoch 43/150\n",
      "7004/7004 [==============================] - 5s 757us/step - loss: 0.2894 - accuracy: 0.8880 - val_loss: 0.2902 - val_accuracy: 0.8872\n",
      "Epoch 44/150\n",
      "7004/7004 [==============================] - 5s 751us/step - loss: 0.2888 - accuracy: 0.8882 - val_loss: 0.2963 - val_accuracy: 0.8846\n",
      "Epoch 45/150\n",
      "6963/7004 [============================>.] - ETA: 0s - loss: 0.2878 - accuracy: 0.8884INFO:tensorflow:Assets written to: /home/anza-tshilidzi/Desktop/Masters_material/e+ e- study/wandb/run-20240815_081957-e84nkavs/files/model-best/assets\n"
     ]
    },
    {
     "name": "stderr",
     "output_type": "stream",
     "text": [
      "\u001b[34m\u001b[1mwandb\u001b[0m: Adding directory to artifact (/home/anza-tshilidzi/Desktop/Masters_material/e+ e- study/wandb/run-20240815_081957-e84nkavs/files/model-best)... Done. 0.0s\n"
     ]
    },
    {
     "name": "stdout",
     "output_type": "stream",
     "text": [
      "7004/7004 [==============================] - 6s 859us/step - loss: 0.2878 - accuracy: 0.8884 - val_loss: 0.2831 - val_accuracy: 0.8897\n",
      "Epoch 46/150\n",
      "7004/7004 [==============================] - 5s 783us/step - loss: 0.2888 - accuracy: 0.8880 - val_loss: 0.2897 - val_accuracy: 0.8877\n",
      "Epoch 47/150\n",
      "7004/7004 [==============================] - 5s 772us/step - loss: 0.2879 - accuracy: 0.8885 - val_loss: 0.2858 - val_accuracy: 0.8890\n",
      "Epoch 48/150\n",
      "7004/7004 [==============================] - 5s 751us/step - loss: 0.2886 - accuracy: 0.8873 - val_loss: 0.2867 - val_accuracy: 0.8879\n",
      "Epoch 49/150\n",
      "7004/7004 [==============================] - 5s 773us/step - loss: 0.2880 - accuracy: 0.8885 - val_loss: 0.3268 - val_accuracy: 0.8734\n",
      "Epoch 50/150\n",
      "6995/7004 [============================>.] - ETA: 0s - loss: 0.2870 - accuracy: 0.8883INFO:tensorflow:Assets written to: /home/anza-tshilidzi/Desktop/Masters_material/e+ e- study/wandb/run-20240815_081957-e84nkavs/files/model-best/assets\n"
     ]
    },
    {
     "name": "stderr",
     "output_type": "stream",
     "text": [
      "\u001b[34m\u001b[1mwandb\u001b[0m: Adding directory to artifact (/home/anza-tshilidzi/Desktop/Masters_material/e+ e- study/wandb/run-20240815_081957-e84nkavs/files/model-best)... Done. 0.0s\n"
     ]
    },
    {
     "name": "stdout",
     "output_type": "stream",
     "text": [
      "7004/7004 [==============================] - 6s 888us/step - loss: 0.2870 - accuracy: 0.8883 - val_loss: 0.2824 - val_accuracy: 0.8897\n",
      "Epoch 51/150\n",
      "7004/7004 [==============================] - 5s 749us/step - loss: 0.2876 - accuracy: 0.8883 - val_loss: 0.3405 - val_accuracy: 0.8704\n",
      "Epoch 52/150\n",
      "7004/7004 [==============================] - 5s 771us/step - loss: 0.2876 - accuracy: 0.8879 - val_loss: 0.2867 - val_accuracy: 0.8889\n",
      "Epoch 53/150\n",
      "7004/7004 [==============================] - 5s 758us/step - loss: 0.2880 - accuracy: 0.8881 - val_loss: 0.3157 - val_accuracy: 0.8780\n",
      "Epoch 54/150\n",
      "7004/7004 [==============================] - 5s 753us/step - loss: 0.2868 - accuracy: 0.8885 - val_loss: 0.2841 - val_accuracy: 0.8889\n",
      "Epoch 55/150\n",
      "7004/7004 [==============================] - 5s 760us/step - loss: 0.2862 - accuracy: 0.8886 - val_loss: 0.2955 - val_accuracy: 0.8862\n",
      "Epoch 56/150\n",
      "7004/7004 [==============================] - 5s 750us/step - loss: 0.2870 - accuracy: 0.8887 - val_loss: 0.2877 - val_accuracy: 0.8870\n",
      "Epoch 57/150\n",
      "7004/7004 [==============================] - 5s 750us/step - loss: 0.2870 - accuracy: 0.8877 - val_loss: 0.3142 - val_accuracy: 0.8816\n",
      "Epoch 58/150\n",
      "7004/7004 [==============================] - 5s 763us/step - loss: 0.2861 - accuracy: 0.8886 - val_loss: 0.2976 - val_accuracy: 0.8829\n",
      "Epoch 59/150\n",
      "7004/7004 [==============================] - 5s 753us/step - loss: 0.2867 - accuracy: 0.8885 - val_loss: 0.2898 - val_accuracy: 0.8869\n",
      "Epoch 60/150\n",
      "7004/7004 [==============================] - 5s 748us/step - loss: 0.2865 - accuracy: 0.8888 - val_loss: 0.3117 - val_accuracy: 0.8824\n",
      "Epoch 61/150\n",
      "7004/7004 [==============================] - 5s 760us/step - loss: 0.2858 - accuracy: 0.8891 - val_loss: 0.2846 - val_accuracy: 0.8890\n",
      "Epoch 62/150\n",
      "7004/7004 [==============================] - 5s 741us/step - loss: 0.2855 - accuracy: 0.8889 - val_loss: 0.2970 - val_accuracy: 0.8835\n",
      "Epoch 63/150\n",
      "7004/7004 [==============================] - 5s 751us/step - loss: 0.2858 - accuracy: 0.8890 - val_loss: 0.2856 - val_accuracy: 0.8895\n",
      "Epoch 64/150\n",
      "7004/7004 [==============================] - 5s 764us/step - loss: 0.2858 - accuracy: 0.8891 - val_loss: 0.2894 - val_accuracy: 0.8887\n",
      "Epoch 65/150\n",
      "6944/7004 [============================>.] - ETA: 0s - loss: 0.2841 - accuracy: 0.8892INFO:tensorflow:Assets written to: /home/anza-tshilidzi/Desktop/Masters_material/e+ e- study/wandb/run-20240815_081957-e84nkavs/files/model-best/assets\n"
     ]
    },
    {
     "name": "stderr",
     "output_type": "stream",
     "text": [
      "\u001b[34m\u001b[1mwandb\u001b[0m: Adding directory to artifact (/home/anza-tshilidzi/Desktop/Masters_material/e+ e- study/wandb/run-20240815_081957-e84nkavs/files/model-best)... Done. 0.0s\n"
     ]
    },
    {
     "name": "stdout",
     "output_type": "stream",
     "text": [
      "7004/7004 [==============================] - 6s 857us/step - loss: 0.2839 - accuracy: 0.8892 - val_loss: 0.2813 - val_accuracy: 0.8906\n",
      "Epoch 66/150\n",
      "7004/7004 [==============================] - 5s 760us/step - loss: 0.2842 - accuracy: 0.8901 - val_loss: 0.2908 - val_accuracy: 0.8868\n",
      "Epoch 67/150\n",
      "6949/7004 [============================>.] - ETA: 0s - loss: 0.2822 - accuracy: 0.8904INFO:tensorflow:Assets written to: /home/anza-tshilidzi/Desktop/Masters_material/e+ e- study/wandb/run-20240815_081957-e84nkavs/files/model-best/assets\n"
     ]
    },
    {
     "name": "stderr",
     "output_type": "stream",
     "text": [
      "\u001b[34m\u001b[1mwandb\u001b[0m: Adding directory to artifact (/home/anza-tshilidzi/Desktop/Masters_material/e+ e- study/wandb/run-20240815_081957-e84nkavs/files/model-best)... Done. 0.0s\n"
     ]
    },
    {
     "name": "stdout",
     "output_type": "stream",
     "text": [
      "7004/7004 [==============================] - 7s 936us/step - loss: 0.2826 - accuracy: 0.8902 - val_loss: 0.2800 - val_accuracy: 0.8911\n",
      "Epoch 68/150\n",
      "7004/7004 [==============================] - 5s 751us/step - loss: 0.2806 - accuracy: 0.8914 - val_loss: 0.2843 - val_accuracy: 0.8908\n",
      "Epoch 69/150\n",
      "6979/7004 [============================>.] - ETA: 0s - loss: 0.2792 - accuracy: 0.8918INFO:tensorflow:Assets written to: /home/anza-tshilidzi/Desktop/Masters_material/e+ e- study/wandb/run-20240815_081957-e84nkavs/files/model-best/assets\n"
     ]
    },
    {
     "name": "stderr",
     "output_type": "stream",
     "text": [
      "\u001b[34m\u001b[1mwandb\u001b[0m: Adding directory to artifact (/home/anza-tshilidzi/Desktop/Masters_material/e+ e- study/wandb/run-20240815_081957-e84nkavs/files/model-best)... Done. 0.0s\n"
     ]
    },
    {
     "name": "stdout",
     "output_type": "stream",
     "text": [
      "7004/7004 [==============================] - 6s 884us/step - loss: 0.2791 - accuracy: 0.8918 - val_loss: 0.2760 - val_accuracy: 0.8921\n",
      "Epoch 70/150\n",
      "7004/7004 [==============================] - 5s 752us/step - loss: 0.2780 - accuracy: 0.8926 - val_loss: 0.2770 - val_accuracy: 0.8919\n",
      "Epoch 71/150\n",
      "7004/7004 [==============================] - 5s 746us/step - loss: 0.2782 - accuracy: 0.8921 - val_loss: 0.2802 - val_accuracy: 0.8904\n",
      "Epoch 72/150\n",
      "7004/7004 [==============================] - 5s 766us/step - loss: 0.2773 - accuracy: 0.8926 - val_loss: 0.2766 - val_accuracy: 0.8937\n",
      "Epoch 73/150\n",
      "7004/7004 [==============================] - 5s 740us/step - loss: 0.2766 - accuracy: 0.8927 - val_loss: 0.2827 - val_accuracy: 0.8897\n",
      "Epoch 74/150\n",
      "7004/7004 [==============================] - 5s 746us/step - loss: 0.2768 - accuracy: 0.8927 - val_loss: 0.2768 - val_accuracy: 0.8932\n",
      "Epoch 75/150\n",
      "7004/7004 [==============================] - 5s 766us/step - loss: 0.2766 - accuracy: 0.8927 - val_loss: 0.2805 - val_accuracy: 0.8908\n",
      "Epoch 76/150\n",
      "7004/7004 [==============================] - 5s 747us/step - loss: 0.2760 - accuracy: 0.8930 - val_loss: 0.2763 - val_accuracy: 0.8930\n",
      "Epoch 77/150\n",
      "7004/7004 [==============================] - 5s 746us/step - loss: 0.2757 - accuracy: 0.8937 - val_loss: 0.2926 - val_accuracy: 0.8881\n",
      "Epoch 78/150\n",
      "7004/7004 [==============================] - 5s 768us/step - loss: 0.2750 - accuracy: 0.8937 - val_loss: 0.2812 - val_accuracy: 0.8901\n",
      "Epoch 79/150\n",
      "7004/7004 [==============================] - 5s 750us/step - loss: 0.2760 - accuracy: 0.8921 - val_loss: 0.2769 - val_accuracy: 0.8924\n",
      "Epoch 80/150\n",
      "7004/7004 [==============================] - 5s 755us/step - loss: 0.2752 - accuracy: 0.8938 - val_loss: 0.2804 - val_accuracy: 0.8916\n",
      "Epoch 81/150\n",
      "7004/7004 [==============================] - 5s 766us/step - loss: 0.2755 - accuracy: 0.8931 - val_loss: 0.2849 - val_accuracy: 0.8908\n",
      "Epoch 82/150\n",
      "6933/7004 [============================>.] - ETA: 0s - loss: 0.2745 - accuracy: 0.8939INFO:tensorflow:Assets written to: /home/anza-tshilidzi/Desktop/Masters_material/e+ e- study/wandb/run-20240815_081957-e84nkavs/files/model-best/assets\n"
     ]
    },
    {
     "name": "stderr",
     "output_type": "stream",
     "text": [
      "\u001b[34m\u001b[1mwandb\u001b[0m: Adding directory to artifact (/home/anza-tshilidzi/Desktop/Masters_material/e+ e- study/wandb/run-20240815_081957-e84nkavs/files/model-best)... Done. 0.0s\n"
     ]
    },
    {
     "name": "stdout",
     "output_type": "stream",
     "text": [
      "7004/7004 [==============================] - 8s 1ms/step - loss: 0.2747 - accuracy: 0.8938 - val_loss: 0.2751 - val_accuracy: 0.8941\n",
      "Epoch 83/150\n",
      "7004/7004 [==============================] - 5s 748us/step - loss: 0.2743 - accuracy: 0.8935 - val_loss: 0.2757 - val_accuracy: 0.8929\n",
      "Epoch 84/150\n",
      "7001/7004 [============================>.] - ETA: 0s - loss: 0.2738 - accuracy: 0.8940INFO:tensorflow:Assets written to: /home/anza-tshilidzi/Desktop/Masters_material/e+ e- study/wandb/run-20240815_081957-e84nkavs/files/model-best/assets\n"
     ]
    },
    {
     "name": "stderr",
     "output_type": "stream",
     "text": [
      "\u001b[34m\u001b[1mwandb\u001b[0m: Adding directory to artifact (/home/anza-tshilidzi/Desktop/Masters_material/e+ e- study/wandb/run-20240815_081957-e84nkavs/files/model-best)... Done. 0.0s\n"
     ]
    },
    {
     "name": "stdout",
     "output_type": "stream",
     "text": [
      "7004/7004 [==============================] - 6s 874us/step - loss: 0.2737 - accuracy: 0.8941 - val_loss: 0.2736 - val_accuracy: 0.8935\n",
      "Epoch 85/150\n",
      "6936/7004 [============================>.] - ETA: 0s - loss: 0.2738 - accuracy: 0.8941INFO:tensorflow:Assets written to: /home/anza-tshilidzi/Desktop/Masters_material/e+ e- study/wandb/run-20240815_081957-e84nkavs/files/model-best/assets\n"
     ]
    },
    {
     "name": "stderr",
     "output_type": "stream",
     "text": [
      "\u001b[34m\u001b[1mwandb\u001b[0m: Adding directory to artifact (/home/anza-tshilidzi/Desktop/Masters_material/e+ e- study/wandb/run-20240815_081957-e84nkavs/files/model-best)... Done. 0.0s\n"
     ]
    },
    {
     "name": "stdout",
     "output_type": "stream",
     "text": [
      "7004/7004 [==============================] - 6s 853us/step - loss: 0.2737 - accuracy: 0.8941 - val_loss: 0.2729 - val_accuracy: 0.8936\n",
      "Epoch 86/150\n",
      "7004/7004 [==============================] - 5s 753us/step - loss: 0.2733 - accuracy: 0.8939 - val_loss: 0.2788 - val_accuracy: 0.8926\n",
      "Epoch 87/150\n",
      "7004/7004 [==============================] - 5s 761us/step - loss: 0.2727 - accuracy: 0.8948 - val_loss: 0.2734 - val_accuracy: 0.8935\n",
      "Epoch 88/150\n",
      "7004/7004 [==============================] - 5s 750us/step - loss: 0.2733 - accuracy: 0.8934 - val_loss: 0.2804 - val_accuracy: 0.8914\n",
      "Epoch 89/150\n",
      "7004/7004 [==============================] - 5s 752us/step - loss: 0.2727 - accuracy: 0.8942 - val_loss: 0.2760 - val_accuracy: 0.8923\n",
      "Epoch 90/150\n",
      "7004/7004 [==============================] - 5s 762us/step - loss: 0.2725 - accuracy: 0.8945 - val_loss: 0.2781 - val_accuracy: 0.8927\n",
      "Epoch 91/150\n",
      "7004/7004 [==============================] - 5s 752us/step - loss: 0.2720 - accuracy: 0.8943 - val_loss: 0.2904 - val_accuracy: 0.8901\n",
      "Epoch 92/150\n",
      "6962/7004 [============================>.] - ETA: 0s - loss: 0.2724 - accuracy: 0.8944INFO:tensorflow:Assets written to: /home/anza-tshilidzi/Desktop/Masters_material/e+ e- study/wandb/run-20240815_081957-e84nkavs/files/model-best/assets\n"
     ]
    },
    {
     "name": "stderr",
     "output_type": "stream",
     "text": [
      "\u001b[34m\u001b[1mwandb\u001b[0m: Adding directory to artifact (/home/anza-tshilidzi/Desktop/Masters_material/e+ e- study/wandb/run-20240815_081957-e84nkavs/files/model-best)... Done. 0.0s\n"
     ]
    },
    {
     "name": "stdout",
     "output_type": "stream",
     "text": [
      "7004/7004 [==============================] - 6s 857us/step - loss: 0.2727 - accuracy: 0.8943 - val_loss: 0.2725 - val_accuracy: 0.8950\n",
      "Epoch 93/150\n",
      "7004/7004 [==============================] - 5s 759us/step - loss: 0.2731 - accuracy: 0.8935 - val_loss: 0.2727 - val_accuracy: 0.8930\n",
      "Epoch 94/150\n",
      "7004/7004 [==============================] - 5s 747us/step - loss: 0.2725 - accuracy: 0.8944 - val_loss: 0.2784 - val_accuracy: 0.8927\n",
      "Epoch 95/150\n",
      "7004/7004 [==============================] - 5s 749us/step - loss: 0.2720 - accuracy: 0.8946 - val_loss: 0.2739 - val_accuracy: 0.8920\n",
      "Epoch 96/150\n",
      "7004/7004 [==============================] - 5s 768us/step - loss: 0.2725 - accuracy: 0.8938 - val_loss: 0.2811 - val_accuracy: 0.8887\n",
      "Epoch 97/150\n",
      "7004/7004 [==============================] - 5s 748us/step - loss: 0.2716 - accuracy: 0.8941 - val_loss: 0.2817 - val_accuracy: 0.8903\n",
      "Epoch 98/150\n",
      "7004/7004 [==============================] - 5s 760us/step - loss: 0.2720 - accuracy: 0.8946 - val_loss: 0.2844 - val_accuracy: 0.8895\n",
      "Epoch 99/150\n",
      "7004/7004 [==============================] - 5s 764us/step - loss: 0.2715 - accuracy: 0.8942 - val_loss: 0.2796 - val_accuracy: 0.8914\n",
      "Epoch 100/150\n",
      "7004/7004 [==============================] - 5s 751us/step - loss: 0.2715 - accuracy: 0.8946 - val_loss: 0.2771 - val_accuracy: 0.8939\n",
      "Epoch 101/150\n",
      "6975/7004 [============================>.] - ETA: 0s - loss: 0.2717 - accuracy: 0.8954INFO:tensorflow:Assets written to: /home/anza-tshilidzi/Desktop/Masters_material/e+ e- study/wandb/run-20240815_081957-e84nkavs/files/model-best/assets\n"
     ]
    },
    {
     "name": "stderr",
     "output_type": "stream",
     "text": [
      "\u001b[34m\u001b[1mwandb\u001b[0m: Adding directory to artifact (/home/anza-tshilidzi/Desktop/Masters_material/e+ e- study/wandb/run-20240815_081957-e84nkavs/files/model-best)... Done. 0.0s\n"
     ]
    },
    {
     "name": "stdout",
     "output_type": "stream",
     "text": [
      "7004/7004 [==============================] - 6s 865us/step - loss: 0.2717 - accuracy: 0.8954 - val_loss: 0.2716 - val_accuracy: 0.8961\n",
      "Epoch 102/150\n",
      "7004/7004 [==============================] - 5s 761us/step - loss: 0.2711 - accuracy: 0.8943 - val_loss: 0.2718 - val_accuracy: 0.8933\n",
      "Epoch 103/150\n",
      "7004/7004 [==============================] - 5s 753us/step - loss: 0.2706 - accuracy: 0.8948 - val_loss: 0.2768 - val_accuracy: 0.8914\n",
      "Epoch 104/150\n",
      "7004/7004 [==============================] - 5s 764us/step - loss: 0.2709 - accuracy: 0.8947 - val_loss: 0.2942 - val_accuracy: 0.8862\n",
      "Epoch 105/150\n",
      "7004/7004 [==============================] - 5s 761us/step - loss: 0.2713 - accuracy: 0.8944 - val_loss: 0.2744 - val_accuracy: 0.8946\n",
      "Epoch 106/150\n",
      "7004/7004 [==============================] - 5s 760us/step - loss: 0.2706 - accuracy: 0.8953 - val_loss: 0.2722 - val_accuracy: 0.8928\n",
      "Epoch 107/150\n",
      "7004/7004 [==============================] - 5s 756us/step - loss: 0.2705 - accuracy: 0.8950 - val_loss: 0.2776 - val_accuracy: 0.8918\n",
      "Epoch 108/150\n",
      "7004/7004 [==============================] - 5s 763us/step - loss: 0.2702 - accuracy: 0.8950 - val_loss: 0.2877 - val_accuracy: 0.8885\n",
      "Epoch 109/150\n",
      "7004/7004 [==============================] - 5s 752us/step - loss: 0.2694 - accuracy: 0.8949 - val_loss: 0.2816 - val_accuracy: 0.8935\n",
      "Epoch 110/150\n",
      "7004/7004 [==============================] - 5s 756us/step - loss: 0.2693 - accuracy: 0.8951 - val_loss: 0.2779 - val_accuracy: 0.8912\n",
      "Epoch 111/150\n",
      "7004/7004 [==============================] - 5s 763us/step - loss: 0.2698 - accuracy: 0.8950 - val_loss: 0.2788 - val_accuracy: 0.8926\n",
      "Epoch 112/150\n",
      "7004/7004 [==============================] - 5s 753us/step - loss: 0.2695 - accuracy: 0.8951 - val_loss: 0.2782 - val_accuracy: 0.8928\n",
      "Epoch 113/150\n",
      "7004/7004 [==============================] - 6s 804us/step - loss: 0.2693 - accuracy: 0.8951 - val_loss: 0.2774 - val_accuracy: 0.8917\n",
      "Epoch 114/150\n",
      "7004/7004 [==============================] - 6s 916us/step - loss: 0.2691 - accuracy: 0.8953 - val_loss: 0.2926 - val_accuracy: 0.8898\n",
      "Epoch 115/150\n",
      "6934/7004 [============================>.] - ETA: 0s - loss: 0.2697 - accuracy: 0.8957INFO:tensorflow:Assets written to: /home/anza-tshilidzi/Desktop/Masters_material/e+ e- study/wandb/run-20240815_081957-e84nkavs/files/model-best/assets\n"
     ]
    },
    {
     "name": "stderr",
     "output_type": "stream",
     "text": [
      "\u001b[34m\u001b[1mwandb\u001b[0m: Adding directory to artifact (/home/anza-tshilidzi/Desktop/Masters_material/e+ e- study/wandb/run-20240815_081957-e84nkavs/files/model-best)... Done. 0.0s\n"
     ]
    },
    {
     "name": "stdout",
     "output_type": "stream",
     "text": [
      "7004/7004 [==============================] - 6s 923us/step - loss: 0.2700 - accuracy: 0.8956 - val_loss: 0.2710 - val_accuracy: 0.8943\n",
      "Epoch 116/150\n",
      "7004/7004 [==============================] - 6s 842us/step - loss: 0.2693 - accuracy: 0.8949 - val_loss: 0.2768 - val_accuracy: 0.8924\n",
      "Epoch 117/150\n",
      "7004/7004 [==============================] - 5s 767us/step - loss: 0.2697 - accuracy: 0.8950 - val_loss: 0.2757 - val_accuracy: 0.8921\n",
      "Epoch 118/150\n",
      "6928/7004 [============================>.] - ETA: 0s - loss: 0.2692 - accuracy: 0.8950INFO:tensorflow:Assets written to: /home/anza-tshilidzi/Desktop/Masters_material/e+ e- study/wandb/run-20240815_081957-e84nkavs/files/model-best/assets\n"
     ]
    },
    {
     "name": "stderr",
     "output_type": "stream",
     "text": [
      "\u001b[34m\u001b[1mwandb\u001b[0m: Adding directory to artifact (/home/anza-tshilidzi/Desktop/Masters_material/e+ e- study/wandb/run-20240815_081957-e84nkavs/files/model-best)... Done. 0.0s\n"
     ]
    },
    {
     "name": "stdout",
     "output_type": "stream",
     "text": [
      "7004/7004 [==============================] - 6s 855us/step - loss: 0.2690 - accuracy: 0.8951 - val_loss: 0.2707 - val_accuracy: 0.8945\n",
      "Epoch 119/150\n",
      "7004/7004 [==============================] - 5s 774us/step - loss: 0.2701 - accuracy: 0.8952 - val_loss: 0.2895 - val_accuracy: 0.8887\n",
      "Epoch 120/150\n",
      "7004/7004 [==============================] - 5s 755us/step - loss: 0.2689 - accuracy: 0.8952 - val_loss: 0.2757 - val_accuracy: 0.8923\n",
      "Epoch 121/150\n",
      "6988/7004 [============================>.] - ETA: 0s - loss: 0.2696 - accuracy: 0.8956INFO:tensorflow:Assets written to: /home/anza-tshilidzi/Desktop/Masters_material/e+ e- study/wandb/run-20240815_081957-e84nkavs/files/model-best/assets\n"
     ]
    },
    {
     "name": "stderr",
     "output_type": "stream",
     "text": [
      "\u001b[34m\u001b[1mwandb\u001b[0m: Adding directory to artifact (/home/anza-tshilidzi/Desktop/Masters_material/e+ e- study/wandb/run-20240815_081957-e84nkavs/files/model-best)... Done. 0.0s\n"
     ]
    },
    {
     "name": "stdout",
     "output_type": "stream",
     "text": [
      "7004/7004 [==============================] - 6s 864us/step - loss: 0.2696 - accuracy: 0.8956 - val_loss: 0.2686 - val_accuracy: 0.8938\n",
      "Epoch 122/150\n",
      "7004/7004 [==============================] - 5s 769us/step - loss: 0.2690 - accuracy: 0.8946 - val_loss: 0.3256 - val_accuracy: 0.8787\n",
      "Epoch 123/150\n",
      "7004/7004 [==============================] - 5s 752us/step - loss: 0.2684 - accuracy: 0.8958 - val_loss: 0.2761 - val_accuracy: 0.8915\n",
      "Epoch 124/150\n",
      "7004/7004 [==============================] - 5s 757us/step - loss: 0.2678 - accuracy: 0.8958 - val_loss: 0.2872 - val_accuracy: 0.8877\n",
      "Epoch 125/150\n",
      "7004/7004 [==============================] - 5s 783us/step - loss: 0.2695 - accuracy: 0.8952 - val_loss: 0.2874 - val_accuracy: 0.8926\n",
      "Epoch 126/150\n",
      "7004/7004 [==============================] - 5s 761us/step - loss: 0.2692 - accuracy: 0.8953 - val_loss: 0.2772 - val_accuracy: 0.8930\n",
      "Epoch 127/150\n",
      "7004/7004 [==============================] - 5s 748us/step - loss: 0.2686 - accuracy: 0.8949 - val_loss: 0.2705 - val_accuracy: 0.8946\n",
      "Epoch 128/150\n",
      "7004/7004 [==============================] - 5s 770us/step - loss: 0.2672 - accuracy: 0.8956 - val_loss: 0.2763 - val_accuracy: 0.8919\n",
      "Epoch 129/150\n",
      "7004/7004 [==============================] - 5s 755us/step - loss: 0.2681 - accuracy: 0.8958 - val_loss: 0.2814 - val_accuracy: 0.8916\n",
      "Epoch 130/150\n",
      "7004/7004 [==============================] - 5s 764us/step - loss: 0.2679 - accuracy: 0.8952 - val_loss: 0.2843 - val_accuracy: 0.8906\n",
      "Epoch 131/150\n",
      "7004/7004 [==============================] - 5s 776us/step - loss: 0.2677 - accuracy: 0.8956 - val_loss: 0.2703 - val_accuracy: 0.8940\n",
      "Epoch 132/150\n",
      "7004/7004 [==============================] - 5s 775us/step - loss: 0.2688 - accuracy: 0.8941 - val_loss: 0.2896 - val_accuracy: 0.8873\n",
      "Epoch 133/150\n",
      "6960/7004 [============================>.] - ETA: 0s - loss: 0.2672 - accuracy: 0.8952INFO:tensorflow:Assets written to: /home/anza-tshilidzi/Desktop/Masters_material/e+ e- study/wandb/run-20240815_081957-e84nkavs/files/model-best/assets\n"
     ]
    },
    {
     "name": "stderr",
     "output_type": "stream",
     "text": [
      "\u001b[34m\u001b[1mwandb\u001b[0m: Adding directory to artifact (/home/anza-tshilidzi/Desktop/Masters_material/e+ e- study/wandb/run-20240815_081957-e84nkavs/files/model-best)... Done. 0.0s\n"
     ]
    },
    {
     "name": "stdout",
     "output_type": "stream",
     "text": [
      "7004/7004 [==============================] - 6s 855us/step - loss: 0.2673 - accuracy: 0.8952 - val_loss: 0.2671 - val_accuracy: 0.8951\n",
      "Epoch 134/150\n",
      "7004/7004 [==============================] - 5s 773us/step - loss: 0.2676 - accuracy: 0.8949 - val_loss: 0.2724 - val_accuracy: 0.8937\n",
      "Epoch 135/150\n",
      "7004/7004 [==============================] - 5s 755us/step - loss: 0.2680 - accuracy: 0.8954 - val_loss: 0.2906 - val_accuracy: 0.8869\n",
      "Epoch 136/150\n",
      "7004/7004 [==============================] - 5s 761us/step - loss: 0.2680 - accuracy: 0.8949 - val_loss: 0.2737 - val_accuracy: 0.8922\n",
      "Epoch 137/150\n",
      "7004/7004 [==============================] - 5s 769us/step - loss: 0.2672 - accuracy: 0.8956 - val_loss: 0.2680 - val_accuracy: 0.8950\n",
      "Epoch 138/150\n",
      "7004/7004 [==============================] - 5s 751us/step - loss: 0.2663 - accuracy: 0.8959 - val_loss: 0.2746 - val_accuracy: 0.8927\n",
      "Epoch 139/150\n",
      "7004/7004 [==============================] - 5s 760us/step - loss: 0.2672 - accuracy: 0.8951 - val_loss: 0.2846 - val_accuracy: 0.8902\n",
      "Epoch 140/150\n",
      "7004/7004 [==============================] - 5s 770us/step - loss: 0.2666 - accuracy: 0.8949 - val_loss: 0.2841 - val_accuracy: 0.8898\n",
      "Epoch 141/150\n",
      "7004/7004 [==============================] - 5s 761us/step - loss: 0.2659 - accuracy: 0.8959 - val_loss: 0.2725 - val_accuracy: 0.8929\n",
      "Epoch 142/150\n",
      "7004/7004 [==============================] - 5s 765us/step - loss: 0.2659 - accuracy: 0.8957 - val_loss: 0.2682 - val_accuracy: 0.8946\n",
      "Epoch 143/150\n",
      "7004/7004 [==============================] - 5s 764us/step - loss: 0.2658 - accuracy: 0.8958 - val_loss: 0.2893 - val_accuracy: 0.8930\n",
      "Epoch 144/150\n",
      "7004/7004 [==============================] - 5s 748us/step - loss: 0.2661 - accuracy: 0.8958 - val_loss: 0.2671 - val_accuracy: 0.8958\n",
      "Epoch 145/150\n",
      "7004/7004 [==============================] - 5s 757us/step - loss: 0.2652 - accuracy: 0.8953 - val_loss: 0.2845 - val_accuracy: 0.8903\n",
      "Epoch 146/150\n",
      "7004/7004 [==============================] - 5s 768us/step - loss: 0.2658 - accuracy: 0.8956 - val_loss: 0.2732 - val_accuracy: 0.8931\n",
      "Epoch 147/150\n",
      "7004/7004 [==============================] - 5s 754us/step - loss: 0.2654 - accuracy: 0.8958 - val_loss: 0.2817 - val_accuracy: 0.8921\n",
      "Epoch 148/150\n",
      "7004/7004 [==============================] - 6s 834us/step - loss: 0.2650 - accuracy: 0.8959 - val_loss: 0.2763 - val_accuracy: 0.8927\n",
      "Epoch 149/150\n",
      "7004/7004 [==============================] - 5s 760us/step - loss: 0.2645 - accuracy: 0.8959 - val_loss: 0.2793 - val_accuracy: 0.8916\n",
      "Epoch 150/150\n",
      "7004/7004 [==============================] - 5s 774us/step - loss: 0.2641 - accuracy: 0.8962 - val_loss: 0.2752 - val_accuracy: 0.8923\n"
     ]
    },
    {
     "data": {
      "application/vnd.jupyter.widget-view+json": {
       "model_id": "",
       "version_major": 2,
       "version_minor": 0
      },
      "text/plain": [
       "VBox(children=(Label(value='3.392 MB of 3.392 MB uploaded (0.190 MB deduped)\\r'), FloatProgress(value=1.0, max…"
      ]
     },
     "metadata": {},
     "output_type": "display_data"
    },
    {
     "data": {
      "text/html": [
       "W&B sync reduced upload amount by 5.3%"
      ],
      "text/plain": [
       "<IPython.core.display.HTML object>"
      ]
     },
     "metadata": {},
     "output_type": "display_data"
    },
    {
     "data": {
      "text/html": [
       "<style>\n",
       "    table.wandb td:nth-child(1) { padding: 0 10px; text-align: left ; width: auto;} td:nth-child(2) {text-align: left ; width: 100%}\n",
       "    .wandb-row { display: flex; flex-direction: row; flex-wrap: wrap; justify-content: flex-start; width: 100% }\n",
       "    .wandb-col { display: flex; flex-direction: column; flex-basis: 100%; flex: 1; padding: 10px; }\n",
       "    </style>\n",
       "<div class=\"wandb-row\"><div class=\"wandb-col\"><h3>Run history:</h3><br/><table class=\"wandb\"><tr><td>accuracy</td><td>▁▆▆▇▇▇▇▇▇▇▇▇▇▇▇▇▇▇██████████████████████</td></tr><tr><td>epoch</td><td>▁▁▁▁▂▂▂▂▂▃▃▃▃▃▃▄▄▄▄▄▅▅▅▅▅▅▆▆▆▆▆▆▇▇▇▇▇███</td></tr><tr><td>loss</td><td>█▃▃▃▂▂▂▂▂▂▂▂▂▂▂▂▂▂▂▁▁▁▁▁▁▁▁▁▁▁▁▁▁▁▁▁▁▁▁▁</td></tr><tr><td>val_accuracy</td><td>▁▆▇▃▇▆▇▇▇▇▇▆▇▇▇▆▇▇███████▇█▇▇█▇█▆█▇█████</td></tr><tr><td>val_loss</td><td>█▃▃▅▂▂▂▂▂▂▂▃▂▂▂▂▂▂▁▁▁▂▁▂▁▂▁▂▂▁▂▁▄▁▂▁▁▁▁▁</td></tr></table><br/></div><div class=\"wandb-col\"><h3>Run summary:</h3><br/><table class=\"wandb\"><tr><td>accuracy</td><td>0.89625</td></tr><tr><td>best_epoch</td><td>132</td></tr><tr><td>best_val_loss</td><td>0.26706</td></tr><tr><td>epoch</td><td>149</td></tr><tr><td>loss</td><td>0.2641</td></tr><tr><td>val_accuracy</td><td>0.89232</td></tr><tr><td>val_loss</td><td>0.27522</td></tr></table><br/></div></div>"
      ],
      "text/plain": [
       "<IPython.core.display.HTML object>"
      ]
     },
     "metadata": {},
     "output_type": "display_data"
    },
    {
     "data": {
      "text/html": [
       " View run <strong style=\"color:#cdcd00\">electric-sweep-8</strong> at: <a href='https://wandb.ai/anzanzio/ep-em%20DNN/runs/e84nkavs' target=\"_blank\">https://wandb.ai/anzanzio/ep-em%20DNN/runs/e84nkavs</a><br/> View project at: <a href='https://wandb.ai/anzanzio/ep-em%20DNN' target=\"_blank\">https://wandb.ai/anzanzio/ep-em%20DNN</a><br/>Synced 6 W&B file(s), 1 media file(s), 100 artifact file(s) and 1 other file(s)"
      ],
      "text/plain": [
       "<IPython.core.display.HTML object>"
      ]
     },
     "metadata": {},
     "output_type": "display_data"
    },
    {
     "data": {
      "text/html": [
       "Find logs at: <code>./wandb/run-20240815_081957-e84nkavs/logs</code>"
      ],
      "text/plain": [
       "<IPython.core.display.HTML object>"
      ]
     },
     "metadata": {},
     "output_type": "display_data"
    },
    {
     "data": {
      "text/html": [
       "The new W&B backend becomes opt-out in version 0.18.0; try it out with `wandb.require(\"core\")`! See https://wandb.me/wandb-core for more information."
      ],
      "text/plain": [
       "<IPython.core.display.HTML object>"
      ]
     },
     "metadata": {},
     "output_type": "display_data"
    },
    {
     "name": "stderr",
     "output_type": "stream",
     "text": [
      "\u001b[34m\u001b[1mwandb\u001b[0m: Agent Starting Run: ytuaa24z with config:\n",
      "\u001b[34m\u001b[1mwandb\u001b[0m: \tbatch_size: 32\n",
      "\u001b[34m\u001b[1mwandb\u001b[0m: \tepochs: 110\n",
      "\u001b[34m\u001b[1mwandb\u001b[0m: \tlayers: 20\n",
      "\u001b[34m\u001b[1mwandb\u001b[0m: \tlearning_rate: 0.0007617772417222614\n",
      "\u001b[34m\u001b[1mwandb\u001b[0m: \tneurons: 12\n",
      "\u001b[34m\u001b[1mwandb\u001b[0m: \toptimizer: adam\n"
     ]
    },
    {
     "data": {
      "application/vnd.jupyter.widget-view+json": {
       "model_id": "58dc6410ece0493b9eae9ba4730c1e3b",
       "version_major": 2,
       "version_minor": 0
      },
      "text/plain": [
       "VBox(children=(Label(value='Waiting for wandb.init()...\\r'), FloatProgress(value=0.011113295488879278, max=1.0…"
      ]
     },
     "metadata": {},
     "output_type": "display_data"
    },
    {
     "data": {
      "text/html": [
       "Tracking run with wandb version 0.17.6"
      ],
      "text/plain": [
       "<IPython.core.display.HTML object>"
      ]
     },
     "metadata": {},
     "output_type": "display_data"
    },
    {
     "data": {
      "text/html": [
       "Run data is saved locally in <code>/home/anza-tshilidzi/Desktop/Masters_material/e+ e- study/wandb/run-20240815_083416-ytuaa24z</code>"
      ],
      "text/plain": [
       "<IPython.core.display.HTML object>"
      ]
     },
     "metadata": {},
     "output_type": "display_data"
    },
    {
     "data": {
      "text/html": [
       "Syncing run <strong><a href='https://wandb.ai/anzanzio/ep-em%20DNN/runs/ytuaa24z' target=\"_blank\">major-sweep-9</a></strong> to <a href='https://wandb.ai/anzanzio/ep-em%20DNN' target=\"_blank\">Weights & Biases</a> (<a href='https://wandb.me/run' target=\"_blank\">docs</a>)<br/>Sweep page: <a href='https://wandb.ai/anzanzio/ep-em%20DNN/sweeps/lg5h93ch' target=\"_blank\">https://wandb.ai/anzanzio/ep-em%20DNN/sweeps/lg5h93ch</a>"
      ],
      "text/plain": [
       "<IPython.core.display.HTML object>"
      ]
     },
     "metadata": {},
     "output_type": "display_data"
    },
    {
     "data": {
      "text/html": [
       " View project at <a href='https://wandb.ai/anzanzio/ep-em%20DNN' target=\"_blank\">https://wandb.ai/anzanzio/ep-em%20DNN</a>"
      ],
      "text/plain": [
       "<IPython.core.display.HTML object>"
      ]
     },
     "metadata": {},
     "output_type": "display_data"
    },
    {
     "data": {
      "text/html": [
       " View sweep at <a href='https://wandb.ai/anzanzio/ep-em%20DNN/sweeps/lg5h93ch' target=\"_blank\">https://wandb.ai/anzanzio/ep-em%20DNN/sweeps/lg5h93ch</a>"
      ],
      "text/plain": [
       "<IPython.core.display.HTML object>"
      ]
     },
     "metadata": {},
     "output_type": "display_data"
    },
    {
     "data": {
      "text/html": [
       " View run at <a href='https://wandb.ai/anzanzio/ep-em%20DNN/runs/ytuaa24z' target=\"_blank\">https://wandb.ai/anzanzio/ep-em%20DNN/runs/ytuaa24z</a>"
      ],
      "text/plain": [
       "<IPython.core.display.HTML object>"
      ]
     },
     "metadata": {},
     "output_type": "display_data"
    },
    {
     "name": "stdout",
     "output_type": "stream",
     "text": [
      "Epoch 1/110\n",
      "3243/3283 [============================>.] - ETA: 0s - loss: 1.0535 - accuracy: 0.6217INFO:tensorflow:Assets written to: /home/anza-tshilidzi/Desktop/Masters_material/e+ e- study/wandb/run-20240815_083416-ytuaa24z/files/model-best/assets\n"
     ]
    },
    {
     "name": "stderr",
     "output_type": "stream",
     "text": [
      "\u001b[34m\u001b[1mwandb\u001b[0m: Adding directory to artifact (/home/anza-tshilidzi/Desktop/Masters_material/e+ e- study/wandb/run-20240815_083416-ytuaa24z/files/model-best)... Done. 0.0s\n"
     ]
    },
    {
     "name": "stdout",
     "output_type": "stream",
     "text": [
      "3283/3283 [==============================] - 4s 1ms/step - loss: 1.0484 - accuracy: 0.6222 - val_loss: 0.6176 - val_accuracy: 0.6887\n",
      "Epoch 2/110\n",
      "3213/3283 [============================>.] - ETA: 0s - loss: 0.5979 - accuracy: 0.7188INFO:tensorflow:Assets written to: /home/anza-tshilidzi/Desktop/Masters_material/e+ e- study/wandb/run-20240815_083416-ytuaa24z/files/model-best/assets\n"
     ]
    },
    {
     "name": "stderr",
     "output_type": "stream",
     "text": [
      "\u001b[34m\u001b[1mwandb\u001b[0m: Adding directory to artifact (/home/anza-tshilidzi/Desktop/Masters_material/e+ e- study/wandb/run-20240815_083416-ytuaa24z/files/model-best)... Done. 0.0s\n"
     ]
    },
    {
     "name": "stdout",
     "output_type": "stream",
     "text": [
      "3283/3283 [==============================] - 3s 999us/step - loss: 0.5976 - accuracy: 0.7194 - val_loss: 0.5658 - val_accuracy: 0.7442\n",
      "Epoch 3/110\n",
      "3211/3283 [============================>.] - ETA: 0s - loss: 0.5647 - accuracy: 0.7685INFO:tensorflow:Assets written to: /home/anza-tshilidzi/Desktop/Masters_material/e+ e- study/wandb/run-20240815_083416-ytuaa24z/files/model-best/assets\n"
     ]
    },
    {
     "name": "stderr",
     "output_type": "stream",
     "text": [
      "\u001b[34m\u001b[1mwandb\u001b[0m: Adding directory to artifact (/home/anza-tshilidzi/Desktop/Masters_material/e+ e- study/wandb/run-20240815_083416-ytuaa24z/files/model-best)... Done. 0.0s\n"
     ]
    },
    {
     "name": "stdout",
     "output_type": "stream",
     "text": [
      "3283/3283 [==============================] - 4s 1ms/step - loss: 0.5633 - accuracy: 0.7692 - val_loss: 0.5089 - val_accuracy: 0.8114\n",
      "Epoch 4/110\n",
      "3229/3283 [============================>.] - ETA: 0s - loss: 0.4566 - accuracy: 0.8142INFO:tensorflow:Assets written to: /home/anza-tshilidzi/Desktop/Masters_material/e+ e- study/wandb/run-20240815_083416-ytuaa24z/files/model-best/assets\n"
     ]
    },
    {
     "name": "stderr",
     "output_type": "stream",
     "text": [
      "\u001b[34m\u001b[1mwandb\u001b[0m: Adding directory to artifact (/home/anza-tshilidzi/Desktop/Masters_material/e+ e- study/wandb/run-20240815_083416-ytuaa24z/files/model-best)... Done. 0.0s\n"
     ]
    },
    {
     "name": "stdout",
     "output_type": "stream",
     "text": [
      "3283/3283 [==============================] - 3s 1ms/step - loss: 0.4559 - accuracy: 0.8145 - val_loss: 0.4244 - val_accuracy: 0.8299\n",
      "Epoch 5/110\n",
      "3209/3283 [============================>.] - ETA: 0s - loss: 0.3966 - accuracy: 0.8454INFO:tensorflow:Assets written to: /home/anza-tshilidzi/Desktop/Masters_material/e+ e- study/wandb/run-20240815_083416-ytuaa24z/files/model-best/assets\n"
     ]
    },
    {
     "name": "stderr",
     "output_type": "stream",
     "text": [
      "\u001b[34m\u001b[1mwandb\u001b[0m: Adding directory to artifact (/home/anza-tshilidzi/Desktop/Masters_material/e+ e- study/wandb/run-20240815_083416-ytuaa24z/files/model-best)... Done. 0.0s\n"
     ]
    },
    {
     "name": "stdout",
     "output_type": "stream",
     "text": [
      "3283/3283 [==============================] - 3s 904us/step - loss: 0.3966 - accuracy: 0.8455 - val_loss: 0.3677 - val_accuracy: 0.8615\n",
      "Epoch 6/110\n",
      "3263/3283 [============================>.] - ETA: 0s - loss: 0.3581 - accuracy: 0.8631INFO:tensorflow:Assets written to: /home/anza-tshilidzi/Desktop/Masters_material/e+ e- study/wandb/run-20240815_083416-ytuaa24z/files/model-best/assets\n"
     ]
    },
    {
     "name": "stderr",
     "output_type": "stream",
     "text": [
      "\u001b[34m\u001b[1mwandb\u001b[0m: Adding directory to artifact (/home/anza-tshilidzi/Desktop/Masters_material/e+ e- study/wandb/run-20240815_083416-ytuaa24z/files/model-best)... Done. 0.0s\n"
     ]
    },
    {
     "name": "stdout",
     "output_type": "stream",
     "text": [
      "3283/3283 [==============================] - 3s 917us/step - loss: 0.3581 - accuracy: 0.8630 - val_loss: 0.3584 - val_accuracy: 0.8515\n",
      "Epoch 7/110\n",
      "3277/3283 [============================>.] - ETA: 0s - loss: 0.3373 - accuracy: 0.8697INFO:tensorflow:Assets written to: /home/anza-tshilidzi/Desktop/Masters_material/e+ e- study/wandb/run-20240815_083416-ytuaa24z/files/model-best/assets\n"
     ]
    },
    {
     "name": "stderr",
     "output_type": "stream",
     "text": [
      "\u001b[34m\u001b[1mwandb\u001b[0m: Adding directory to artifact (/home/anza-tshilidzi/Desktop/Masters_material/e+ e- study/wandb/run-20240815_083416-ytuaa24z/files/model-best)... Done. 0.0s\n"
     ]
    },
    {
     "name": "stdout",
     "output_type": "stream",
     "text": [
      "3283/3283 [==============================] - 3s 937us/step - loss: 0.3374 - accuracy: 0.8696 - val_loss: 0.3309 - val_accuracy: 0.8765\n",
      "Epoch 8/110\n",
      "3220/3283 [============================>.] - ETA: 0s - loss: 0.3311 - accuracy: 0.8707INFO:tensorflow:Assets written to: /home/anza-tshilidzi/Desktop/Masters_material/e+ e- study/wandb/run-20240815_083416-ytuaa24z/files/model-best/assets\n"
     ]
    },
    {
     "name": "stderr",
     "output_type": "stream",
     "text": [
      "\u001b[34m\u001b[1mwandb\u001b[0m: Adding directory to artifact (/home/anza-tshilidzi/Desktop/Masters_material/e+ e- study/wandb/run-20240815_083416-ytuaa24z/files/model-best)... Done. 0.0s\n"
     ]
    },
    {
     "name": "stdout",
     "output_type": "stream",
     "text": [
      "3283/3283 [==============================] - 3s 935us/step - loss: 0.3311 - accuracy: 0.8708 - val_loss: 0.3158 - val_accuracy: 0.8694\n",
      "Epoch 9/110\n",
      "3283/3283 [==============================] - 2s 724us/step - loss: 0.3259 - accuracy: 0.8714 - val_loss: 0.3339 - val_accuracy: 0.8783\n",
      "Epoch 10/110\n",
      "3283/3283 [==============================] - 2s 706us/step - loss: 0.3208 - accuracy: 0.8726 - val_loss: 0.3212 - val_accuracy: 0.8740\n",
      "Epoch 11/110\n",
      "3283/3283 [==============================] - 2s 688us/step - loss: 0.3200 - accuracy: 0.8731 - val_loss: 0.3227 - val_accuracy: 0.8656\n",
      "Epoch 12/110\n",
      "3283/3283 [==============================] - 2s 697us/step - loss: 0.3198 - accuracy: 0.8733 - val_loss: 0.3214 - val_accuracy: 0.8732\n",
      "Epoch 13/110\n",
      "3220/3283 [============================>.] - ETA: 0s - loss: 0.3209 - accuracy: 0.8728INFO:tensorflow:Assets written to: /home/anza-tshilidzi/Desktop/Masters_material/e+ e- study/wandb/run-20240815_083416-ytuaa24z/files/model-best/assets\n"
     ]
    },
    {
     "name": "stderr",
     "output_type": "stream",
     "text": [
      "\u001b[34m\u001b[1mwandb\u001b[0m: Adding directory to artifact (/home/anza-tshilidzi/Desktop/Masters_material/e+ e- study/wandb/run-20240815_083416-ytuaa24z/files/model-best)... Done. 0.0s\n"
     ]
    },
    {
     "name": "stdout",
     "output_type": "stream",
     "text": [
      "3283/3283 [==============================] - 3s 923us/step - loss: 0.3210 - accuracy: 0.8730 - val_loss: 0.3147 - val_accuracy: 0.8776\n",
      "Epoch 14/110\n",
      "3283/3283 [==============================] - 2s 701us/step - loss: 0.3165 - accuracy: 0.8744 - val_loss: 0.3554 - val_accuracy: 0.8601\n",
      "Epoch 15/110\n",
      "3279/3283 [============================>.] - ETA: 0s - loss: 0.3170 - accuracy: 0.8742INFO:tensorflow:Assets written to: /home/anza-tshilidzi/Desktop/Masters_material/e+ e- study/wandb/run-20240815_083416-ytuaa24z/files/model-best/assets\n"
     ]
    },
    {
     "name": "stderr",
     "output_type": "stream",
     "text": [
      "\u001b[34m\u001b[1mwandb\u001b[0m: Adding directory to artifact (/home/anza-tshilidzi/Desktop/Masters_material/e+ e- study/wandb/run-20240815_083416-ytuaa24z/files/model-best)... Done. 0.0s\n"
     ]
    },
    {
     "name": "stdout",
     "output_type": "stream",
     "text": [
      "3283/3283 [==============================] - 3s 1000us/step - loss: 0.3170 - accuracy: 0.8742 - val_loss: 0.3140 - val_accuracy: 0.8729\n",
      "Epoch 16/110\n",
      "3283/3283 [==============================] - 2s 709us/step - loss: 0.3162 - accuracy: 0.8752 - val_loss: 0.3386 - val_accuracy: 0.8678\n",
      "Epoch 17/110\n",
      "3283/3283 [==============================] - 2s 697us/step - loss: 0.3146 - accuracy: 0.8751 - val_loss: 0.3339 - val_accuracy: 0.8705\n",
      "Epoch 18/110\n",
      "3283/3283 [==============================] - 2s 711us/step - loss: 0.3152 - accuracy: 0.8749 - val_loss: 0.3440 - val_accuracy: 0.8626\n",
      "Epoch 19/110\n",
      "3207/3283 [============================>.] - ETA: 0s - loss: 0.3137 - accuracy: 0.8752INFO:tensorflow:Assets written to: /home/anza-tshilidzi/Desktop/Masters_material/e+ e- study/wandb/run-20240815_083416-ytuaa24z/files/model-best/assets\n"
     ]
    },
    {
     "name": "stderr",
     "output_type": "stream",
     "text": [
      "\u001b[34m\u001b[1mwandb\u001b[0m: Adding directory to artifact (/home/anza-tshilidzi/Desktop/Masters_material/e+ e- study/wandb/run-20240815_083416-ytuaa24z/files/model-best)... Done. 0.0s\n"
     ]
    },
    {
     "name": "stdout",
     "output_type": "stream",
     "text": [
      "3283/3283 [==============================] - 3s 936us/step - loss: 0.3133 - accuracy: 0.8753 - val_loss: 0.3073 - val_accuracy: 0.8756\n",
      "Epoch 20/110\n",
      "3283/3283 [==============================] - 2s 701us/step - loss: 0.3127 - accuracy: 0.8764 - val_loss: 0.3119 - val_accuracy: 0.8781\n",
      "Epoch 21/110\n",
      "3283/3283 [==============================] - 2s 703us/step - loss: 0.3093 - accuracy: 0.8777 - val_loss: 0.3122 - val_accuracy: 0.8807\n",
      "Epoch 22/110\n",
      "3283/3283 [==============================] - 2s 744us/step - loss: 0.3093 - accuracy: 0.8778 - val_loss: 0.3091 - val_accuracy: 0.8815\n",
      "Epoch 23/110\n",
      "3272/3283 [============================>.] - ETA: 0s - loss: 0.3060 - accuracy: 0.8787INFO:tensorflow:Assets written to: /home/anza-tshilidzi/Desktop/Masters_material/e+ e- study/wandb/run-20240815_083416-ytuaa24z/files/model-best/assets\n"
     ]
    },
    {
     "name": "stderr",
     "output_type": "stream",
     "text": [
      "\u001b[34m\u001b[1mwandb\u001b[0m: Adding directory to artifact (/home/anza-tshilidzi/Desktop/Masters_material/e+ e- study/wandb/run-20240815_083416-ytuaa24z/files/model-best)... Done. 0.0s\n"
     ]
    },
    {
     "name": "stdout",
     "output_type": "stream",
     "text": [
      "3283/3283 [==============================] - 3s 1ms/step - loss: 0.3059 - accuracy: 0.8787 - val_loss: 0.3034 - val_accuracy: 0.8808\n",
      "Epoch 24/110\n",
      "3283/3283 [==============================] - 2s 703us/step - loss: 0.3064 - accuracy: 0.8793 - val_loss: 0.3086 - val_accuracy: 0.8771\n",
      "Epoch 25/110\n",
      "3210/3283 [============================>.] - ETA: 0s - loss: 0.3059 - accuracy: 0.8810INFO:tensorflow:Assets written to: /home/anza-tshilidzi/Desktop/Masters_material/e+ e- study/wandb/run-20240815_083416-ytuaa24z/files/model-best/assets\n"
     ]
    },
    {
     "name": "stderr",
     "output_type": "stream",
     "text": [
      "\u001b[34m\u001b[1mwandb\u001b[0m: Adding directory to artifact (/home/anza-tshilidzi/Desktop/Masters_material/e+ e- study/wandb/run-20240815_083416-ytuaa24z/files/model-best)... Done. 0.0s\n"
     ]
    },
    {
     "name": "stdout",
     "output_type": "stream",
     "text": [
      "3283/3283 [==============================] - 3s 947us/step - loss: 0.3056 - accuracy: 0.8810 - val_loss: 0.2996 - val_accuracy: 0.8822\n",
      "Epoch 26/110\n",
      "3283/3283 [==============================] - 2s 695us/step - loss: 0.3021 - accuracy: 0.8826 - val_loss: 0.3218 - val_accuracy: 0.8807\n",
      "Epoch 27/110\n",
      "3283/3283 [==============================] - 2s 704us/step - loss: 0.3005 - accuracy: 0.8833 - val_loss: 0.3053 - val_accuracy: 0.8854\n",
      "Epoch 28/110\n",
      "3283/3283 [==============================] - 2s 720us/step - loss: 0.3008 - accuracy: 0.8839 - val_loss: 0.3012 - val_accuracy: 0.8863\n",
      "Epoch 29/110\n",
      "3283/3283 [==============================] - 2s 700us/step - loss: 0.3009 - accuracy: 0.8836 - val_loss: 0.3067 - val_accuracy: 0.8827\n",
      "Epoch 30/110\n",
      "3271/3283 [============================>.] - ETA: 0s - loss: 0.2994 - accuracy: 0.8844INFO:tensorflow:Assets written to: /home/anza-tshilidzi/Desktop/Masters_material/e+ e- study/wandb/run-20240815_083416-ytuaa24z/files/model-best/assets\n"
     ]
    },
    {
     "name": "stderr",
     "output_type": "stream",
     "text": [
      "\u001b[34m\u001b[1mwandb\u001b[0m: Adding directory to artifact (/home/anza-tshilidzi/Desktop/Masters_material/e+ e- study/wandb/run-20240815_083416-ytuaa24z/files/model-best)... Done. 0.0s\n"
     ]
    },
    {
     "name": "stdout",
     "output_type": "stream",
     "text": [
      "3283/3283 [==============================] - 3s 950us/step - loss: 0.2995 - accuracy: 0.8844 - val_loss: 0.2980 - val_accuracy: 0.8853\n",
      "Epoch 31/110\n",
      "3283/3283 [==============================] - 2s 714us/step - loss: 0.3003 - accuracy: 0.8838 - val_loss: 0.3075 - val_accuracy: 0.8821\n",
      "Epoch 32/110\n",
      "3283/3283 [==============================] - 2s 706us/step - loss: 0.2987 - accuracy: 0.8845 - val_loss: 0.3017 - val_accuracy: 0.8850\n",
      "Epoch 33/110\n",
      "3283/3283 [==============================] - 2s 705us/step - loss: 0.2995 - accuracy: 0.8846 - val_loss: 0.2996 - val_accuracy: 0.8861\n",
      "Epoch 34/110\n",
      "3283/3283 [==============================] - 2s 738us/step - loss: 0.2972 - accuracy: 0.8849 - val_loss: 0.3011 - val_accuracy: 0.8855\n",
      "Epoch 35/110\n",
      "3283/3283 [==============================] - 2s 715us/step - loss: 0.2991 - accuracy: 0.8843 - val_loss: 0.2991 - val_accuracy: 0.8818\n",
      "Epoch 36/110\n",
      "3283/3283 [==============================] - 2s 706us/step - loss: 0.2987 - accuracy: 0.8843 - val_loss: 0.3273 - val_accuracy: 0.8732\n",
      "Epoch 37/110\n",
      "3283/3283 [==============================] - 2s 706us/step - loss: 0.2971 - accuracy: 0.8840 - val_loss: 0.3028 - val_accuracy: 0.8796\n",
      "Epoch 38/110\n",
      "3283/3283 [==============================] - 2s 709us/step - loss: 0.2973 - accuracy: 0.8849 - val_loss: 0.3268 - val_accuracy: 0.8729\n",
      "Epoch 39/110\n",
      "3261/3283 [============================>.] - ETA: 0s - loss: 0.2960 - accuracy: 0.8851INFO:tensorflow:Assets written to: /home/anza-tshilidzi/Desktop/Masters_material/e+ e- study/wandb/run-20240815_083416-ytuaa24z/files/model-best/assets\n"
     ]
    },
    {
     "name": "stderr",
     "output_type": "stream",
     "text": [
      "\u001b[34m\u001b[1mwandb\u001b[0m: Adding directory to artifact (/home/anza-tshilidzi/Desktop/Masters_material/e+ e- study/wandb/run-20240815_083416-ytuaa24z/files/model-best)... Done. 0.0s\n"
     ]
    },
    {
     "name": "stdout",
     "output_type": "stream",
     "text": [
      "3283/3283 [==============================] - 3s 939us/step - loss: 0.2961 - accuracy: 0.8851 - val_loss: 0.2978 - val_accuracy: 0.8864\n",
      "Epoch 40/110\n",
      "3272/3283 [============================>.] - ETA: 0s - loss: 0.2961 - accuracy: 0.8861INFO:tensorflow:Assets written to: /home/anza-tshilidzi/Desktop/Masters_material/e+ e- study/wandb/run-20240815_083416-ytuaa24z/files/model-best/assets\n"
     ]
    },
    {
     "name": "stderr",
     "output_type": "stream",
     "text": [
      "\u001b[34m\u001b[1mwandb\u001b[0m: Adding directory to artifact (/home/anza-tshilidzi/Desktop/Masters_material/e+ e- study/wandb/run-20240815_083416-ytuaa24z/files/model-best)... Done. 0.0s\n"
     ]
    },
    {
     "name": "stdout",
     "output_type": "stream",
     "text": [
      "3283/3283 [==============================] - 3s 966us/step - loss: 0.2961 - accuracy: 0.8861 - val_loss: 0.2967 - val_accuracy: 0.8842\n",
      "Epoch 41/110\n",
      "3283/3283 [==============================] - 2s 724us/step - loss: 0.2956 - accuracy: 0.8853 - val_loss: 0.2986 - val_accuracy: 0.8867\n",
      "Epoch 42/110\n",
      "3283/3283 [==============================] - 2s 696us/step - loss: 0.2952 - accuracy: 0.8861 - val_loss: 0.3216 - val_accuracy: 0.8825\n",
      "Epoch 43/110\n",
      "3205/3283 [============================>.] - ETA: 0s - loss: 0.2941 - accuracy: 0.8865INFO:tensorflow:Assets written to: /home/anza-tshilidzi/Desktop/Masters_material/e+ e- study/wandb/run-20240815_083416-ytuaa24z/files/model-best/assets\n"
     ]
    },
    {
     "name": "stderr",
     "output_type": "stream",
     "text": [
      "\u001b[34m\u001b[1mwandb\u001b[0m: Adding directory to artifact (/home/anza-tshilidzi/Desktop/Masters_material/e+ e- study/wandb/run-20240815_083416-ytuaa24z/files/model-best)... Done. 0.0s\n"
     ]
    },
    {
     "name": "stdout",
     "output_type": "stream",
     "text": [
      "3283/3283 [==============================] - 3s 948us/step - loss: 0.2938 - accuracy: 0.8866 - val_loss: 0.2922 - val_accuracy: 0.8862\n",
      "Epoch 44/110\n",
      "3283/3283 [==============================] - 2s 704us/step - loss: 0.2949 - accuracy: 0.8857 - val_loss: 0.3121 - val_accuracy: 0.8790\n",
      "Epoch 45/110\n",
      "3283/3283 [==============================] - 2s 708us/step - loss: 0.2946 - accuracy: 0.8858 - val_loss: 0.2964 - val_accuracy: 0.8886\n",
      "Epoch 46/110\n",
      "3283/3283 [==============================] - 2s 701us/step - loss: 0.2944 - accuracy: 0.8861 - val_loss: 0.3046 - val_accuracy: 0.8854\n",
      "Epoch 47/110\n",
      "3270/3283 [============================>.] - ETA: 0s - loss: 0.2930 - accuracy: 0.8863INFO:tensorflow:Assets written to: /home/anza-tshilidzi/Desktop/Masters_material/e+ e- study/wandb/run-20240815_083416-ytuaa24z/files/model-best/assets\n"
     ]
    },
    {
     "name": "stderr",
     "output_type": "stream",
     "text": [
      "\u001b[34m\u001b[1mwandb\u001b[0m: Adding directory to artifact (/home/anza-tshilidzi/Desktop/Masters_material/e+ e- study/wandb/run-20240815_083416-ytuaa24z/files/model-best)... Done. 0.0s\n"
     ]
    },
    {
     "name": "stdout",
     "output_type": "stream",
     "text": [
      "3283/3283 [==============================] - 4s 1ms/step - loss: 0.2931 - accuracy: 0.8863 - val_loss: 0.2909 - val_accuracy: 0.8866\n",
      "Epoch 48/110\n",
      "3283/3283 [==============================] - 2s 692us/step - loss: 0.2955 - accuracy: 0.8856 - val_loss: 0.3057 - val_accuracy: 0.8786\n",
      "Epoch 49/110\n",
      "3283/3283 [==============================] - 2s 699us/step - loss: 0.2937 - accuracy: 0.8865 - val_loss: 0.2993 - val_accuracy: 0.8839\n",
      "Epoch 50/110\n",
      "3203/3283 [============================>.] - ETA: 0s - loss: 0.2940 - accuracy: 0.8864INFO:tensorflow:Assets written to: /home/anza-tshilidzi/Desktop/Masters_material/e+ e- study/wandb/run-20240815_083416-ytuaa24z/files/model-best/assets\n"
     ]
    },
    {
     "name": "stderr",
     "output_type": "stream",
     "text": [
      "\u001b[34m\u001b[1mwandb\u001b[0m: Adding directory to artifact (/home/anza-tshilidzi/Desktop/Masters_material/e+ e- study/wandb/run-20240815_083416-ytuaa24z/files/model-best)... Done. 0.0s\n"
     ]
    },
    {
     "name": "stdout",
     "output_type": "stream",
     "text": [
      "3283/3283 [==============================] - 3s 916us/step - loss: 0.2946 - accuracy: 0.8862 - val_loss: 0.2892 - val_accuracy: 0.8868\n",
      "Epoch 51/110\n",
      "3283/3283 [==============================] - 2s 703us/step - loss: 0.2925 - accuracy: 0.8863 - val_loss: 0.3063 - val_accuracy: 0.8817\n",
      "Epoch 52/110\n",
      "3283/3283 [==============================] - 2s 692us/step - loss: 0.2924 - accuracy: 0.8872 - val_loss: 0.2921 - val_accuracy: 0.8855\n",
      "Epoch 53/110\n",
      "3283/3283 [==============================] - 2s 723us/step - loss: 0.2923 - accuracy: 0.8866 - val_loss: 0.3088 - val_accuracy: 0.8850\n",
      "Epoch 54/110\n",
      "3213/3283 [============================>.] - ETA: 0s - loss: 0.2936 - accuracy: 0.8867INFO:tensorflow:Assets written to: /home/anza-tshilidzi/Desktop/Masters_material/e+ e- study/wandb/run-20240815_083416-ytuaa24z/files/model-best/assets\n"
     ]
    },
    {
     "name": "stderr",
     "output_type": "stream",
     "text": [
      "\u001b[34m\u001b[1mwandb\u001b[0m: Adding directory to artifact (/home/anza-tshilidzi/Desktop/Masters_material/e+ e- study/wandb/run-20240815_083416-ytuaa24z/files/model-best)... Done. 0.0s\n"
     ]
    },
    {
     "name": "stdout",
     "output_type": "stream",
     "text": [
      "3283/3283 [==============================] - 3s 909us/step - loss: 0.2932 - accuracy: 0.8868 - val_loss: 0.2892 - val_accuracy: 0.8882\n",
      "Epoch 55/110\n",
      "3283/3283 [==============================] - 2s 697us/step - loss: 0.2934 - accuracy: 0.8865 - val_loss: 0.2938 - val_accuracy: 0.8850\n",
      "Epoch 56/110\n",
      "3283/3283 [==============================] - 2s 687us/step - loss: 0.2932 - accuracy: 0.8867 - val_loss: 0.2916 - val_accuracy: 0.8872\n",
      "Epoch 57/110\n",
      "3283/3283 [==============================] - 2s 693us/step - loss: 0.2920 - accuracy: 0.8868 - val_loss: 0.3229 - val_accuracy: 0.8749\n",
      "Epoch 58/110\n",
      "3283/3283 [==============================] - 2s 688us/step - loss: 0.2912 - accuracy: 0.8870 - val_loss: 0.3009 - val_accuracy: 0.8844\n",
      "Epoch 59/110\n",
      "3283/3283 [==============================] - 2s 699us/step - loss: 0.2910 - accuracy: 0.8870 - val_loss: 0.2894 - val_accuracy: 0.8862\n",
      "Epoch 60/110\n",
      "3283/3283 [==============================] - 2s 721us/step - loss: 0.2904 - accuracy: 0.8872 - val_loss: 0.2927 - val_accuracy: 0.8862\n",
      "Epoch 61/110\n",
      "3283/3283 [==============================] - 2s 705us/step - loss: 0.2905 - accuracy: 0.8872 - val_loss: 0.3274 - val_accuracy: 0.8773\n",
      "Epoch 62/110\n",
      "3193/3283 [============================>.] - ETA: 0s - loss: 0.2903 - accuracy: 0.8873INFO:tensorflow:Assets written to: /home/anza-tshilidzi/Desktop/Masters_material/e+ e- study/wandb/run-20240815_083416-ytuaa24z/files/model-best/assets\n"
     ]
    },
    {
     "name": "stderr",
     "output_type": "stream",
     "text": [
      "\u001b[34m\u001b[1mwandb\u001b[0m: Adding directory to artifact (/home/anza-tshilidzi/Desktop/Masters_material/e+ e- study/wandb/run-20240815_083416-ytuaa24z/files/model-best)... Done. 0.0s\n"
     ]
    },
    {
     "name": "stdout",
     "output_type": "stream",
     "text": [
      "3283/3283 [==============================] - 3s 931us/step - loss: 0.2899 - accuracy: 0.8876 - val_loss: 0.2873 - val_accuracy: 0.8885\n",
      "Epoch 63/110\n",
      "3283/3283 [==============================] - 2s 700us/step - loss: 0.2912 - accuracy: 0.8868 - val_loss: 0.3507 - val_accuracy: 0.8681\n",
      "Epoch 64/110\n",
      "3283/3283 [==============================] - 2s 703us/step - loss: 0.2898 - accuracy: 0.8870 - val_loss: 0.3002 - val_accuracy: 0.8856\n",
      "Epoch 65/110\n",
      "3283/3283 [==============================] - 2s 721us/step - loss: 0.2908 - accuracy: 0.8869 - val_loss: 0.2934 - val_accuracy: 0.8869\n",
      "Epoch 66/110\n",
      "3283/3283 [==============================] - 2s 732us/step - loss: 0.2897 - accuracy: 0.8880 - val_loss: 0.3129 - val_accuracy: 0.8831\n",
      "Epoch 67/110\n",
      "3283/3283 [==============================] - 2s 703us/step - loss: 0.2893 - accuracy: 0.8876 - val_loss: 0.2941 - val_accuracy: 0.8796\n",
      "Epoch 68/110\n",
      "3259/3283 [============================>.] - ETA: 0s - loss: 0.2905 - accuracy: 0.8872INFO:tensorflow:Assets written to: /home/anza-tshilidzi/Desktop/Masters_material/e+ e- study/wandb/run-20240815_083416-ytuaa24z/files/model-best/assets\n"
     ]
    },
    {
     "name": "stderr",
     "output_type": "stream",
     "text": [
      "\u001b[34m\u001b[1mwandb\u001b[0m: Adding directory to artifact (/home/anza-tshilidzi/Desktop/Masters_material/e+ e- study/wandb/run-20240815_083416-ytuaa24z/files/model-best)... Done. 0.0s\n"
     ]
    },
    {
     "name": "stdout",
     "output_type": "stream",
     "text": [
      "3283/3283 [==============================] - 3s 956us/step - loss: 0.2906 - accuracy: 0.8872 - val_loss: 0.2864 - val_accuracy: 0.8882\n",
      "Epoch 69/110\n",
      "3283/3283 [==============================] - 2s 705us/step - loss: 0.2895 - accuracy: 0.8876 - val_loss: 0.2910 - val_accuracy: 0.8879\n",
      "Epoch 70/110\n",
      "3283/3283 [==============================] - 2s 711us/step - loss: 0.2897 - accuracy: 0.8876 - val_loss: 0.2902 - val_accuracy: 0.8871\n",
      "Epoch 71/110\n",
      "3283/3283 [==============================] - 2s 706us/step - loss: 0.2898 - accuracy: 0.8880 - val_loss: 0.2867 - val_accuracy: 0.8877\n",
      "Epoch 72/110\n",
      "3283/3283 [==============================] - 2s 700us/step - loss: 0.2894 - accuracy: 0.8876 - val_loss: 0.2953 - val_accuracy: 0.8881\n",
      "Epoch 73/110\n",
      "3283/3283 [==============================] - 2s 744us/step - loss: 0.2895 - accuracy: 0.8874 - val_loss: 0.3032 - val_accuracy: 0.8839\n",
      "Epoch 74/110\n",
      "3283/3283 [==============================] - 2s 709us/step - loss: 0.2898 - accuracy: 0.8877 - val_loss: 0.2929 - val_accuracy: 0.8870\n",
      "Epoch 75/110\n",
      "3283/3283 [==============================] - 2s 710us/step - loss: 0.2895 - accuracy: 0.8874 - val_loss: 0.3044 - val_accuracy: 0.8824\n",
      "Epoch 76/110\n",
      "3283/3283 [==============================] - 2s 708us/step - loss: 0.2897 - accuracy: 0.8878 - val_loss: 0.3123 - val_accuracy: 0.8786\n",
      "Epoch 77/110\n",
      "3283/3283 [==============================] - 2s 702us/step - loss: 0.2890 - accuracy: 0.8880 - val_loss: 0.2978 - val_accuracy: 0.8887\n",
      "Epoch 78/110\n",
      "3283/3283 [==============================] - 2s 705us/step - loss: 0.2887 - accuracy: 0.8877 - val_loss: 0.2866 - val_accuracy: 0.8884\n",
      "Epoch 79/110\n",
      "3283/3283 [==============================] - 2s 710us/step - loss: 0.2896 - accuracy: 0.8872 - val_loss: 0.2890 - val_accuracy: 0.8889\n",
      "Epoch 80/110\n",
      "3283/3283 [==============================] - 2s 744us/step - loss: 0.2890 - accuracy: 0.8875 - val_loss: 0.3016 - val_accuracy: 0.8832\n",
      "Epoch 81/110\n",
      "3204/3283 [============================>.] - ETA: 0s - loss: 0.2887 - accuracy: 0.8878INFO:tensorflow:Assets written to: /home/anza-tshilidzi/Desktop/Masters_material/e+ e- study/wandb/run-20240815_083416-ytuaa24z/files/model-best/assets\n"
     ]
    },
    {
     "name": "stderr",
     "output_type": "stream",
     "text": [
      "\u001b[34m\u001b[1mwandb\u001b[0m: Adding directory to artifact (/home/anza-tshilidzi/Desktop/Masters_material/e+ e- study/wandb/run-20240815_083416-ytuaa24z/files/model-best)... Done. 0.0s\n"
     ]
    },
    {
     "name": "stdout",
     "output_type": "stream",
     "text": [
      "3283/3283 [==============================] - 3s 921us/step - loss: 0.2888 - accuracy: 0.8878 - val_loss: 0.2857 - val_accuracy: 0.8885\n",
      "Epoch 82/110\n",
      "3283/3283 [==============================] - 2s 711us/step - loss: 0.2888 - accuracy: 0.8877 - val_loss: 0.2900 - val_accuracy: 0.8878\n",
      "Epoch 83/110\n",
      "3283/3283 [==============================] - 2s 697us/step - loss: 0.2882 - accuracy: 0.8882 - val_loss: 0.3004 - val_accuracy: 0.8778\n",
      "Epoch 84/110\n",
      "3283/3283 [==============================] - 2s 711us/step - loss: 0.2880 - accuracy: 0.8878 - val_loss: 0.3502 - val_accuracy: 0.8685\n",
      "Epoch 85/110\n",
      "3283/3283 [==============================] - 2s 704us/step - loss: 0.2882 - accuracy: 0.8882 - val_loss: 0.3045 - val_accuracy: 0.8842\n",
      "Epoch 86/110\n",
      "3283/3283 [==============================] - 2s 742us/step - loss: 0.2873 - accuracy: 0.8883 - val_loss: 0.2877 - val_accuracy: 0.8893\n",
      "Epoch 87/110\n",
      "3283/3283 [==============================] - 2s 701us/step - loss: 0.2884 - accuracy: 0.8876 - val_loss: 0.3158 - val_accuracy: 0.8806\n",
      "Epoch 88/110\n",
      "3283/3283 [==============================] - 2s 716us/step - loss: 0.2885 - accuracy: 0.8876 - val_loss: 0.3034 - val_accuracy: 0.8835\n",
      "Epoch 89/110\n",
      "3283/3283 [==============================] - 2s 703us/step - loss: 0.2888 - accuracy: 0.8878 - val_loss: 0.2906 - val_accuracy: 0.8859\n",
      "Epoch 90/110\n",
      "3283/3283 [==============================] - 2s 716us/step - loss: 0.2880 - accuracy: 0.8880 - val_loss: 0.2879 - val_accuracy: 0.8883\n",
      "Epoch 91/110\n",
      "3283/3283 [==============================] - 2s 699us/step - loss: 0.2875 - accuracy: 0.8874 - val_loss: 0.3054 - val_accuracy: 0.8821\n",
      "Epoch 92/110\n",
      "3205/3283 [============================>.] - ETA: 0s - loss: 0.2872 - accuracy: 0.8884INFO:tensorflow:Assets written to: /home/anza-tshilidzi/Desktop/Masters_material/e+ e- study/wandb/run-20240815_083416-ytuaa24z/files/model-best/assets\n"
     ]
    },
    {
     "name": "stderr",
     "output_type": "stream",
     "text": [
      "\u001b[34m\u001b[1mwandb\u001b[0m: Adding directory to artifact (/home/anza-tshilidzi/Desktop/Masters_material/e+ e- study/wandb/run-20240815_083416-ytuaa24z/files/model-best)... Done. 0.0s\n"
     ]
    },
    {
     "name": "stdout",
     "output_type": "stream",
     "text": [
      "3283/3283 [==============================] - 3s 938us/step - loss: 0.2870 - accuracy: 0.8884 - val_loss: 0.2850 - val_accuracy: 0.8891\n",
      "Epoch 93/110\n",
      "3283/3283 [==============================] - 2s 738us/step - loss: 0.2876 - accuracy: 0.8876 - val_loss: 0.2914 - val_accuracy: 0.8869\n",
      "Epoch 94/110\n",
      "3283/3283 [==============================] - 2s 726us/step - loss: 0.2871 - accuracy: 0.8881 - val_loss: 0.2902 - val_accuracy: 0.8871\n",
      "Epoch 95/110\n",
      "3283/3283 [==============================] - 2s 698us/step - loss: 0.2870 - accuracy: 0.8881 - val_loss: 0.3007 - val_accuracy: 0.8837\n",
      "Epoch 96/110\n",
      "3283/3283 [==============================] - 2s 711us/step - loss: 0.2887 - accuracy: 0.8875 - val_loss: 0.2990 - val_accuracy: 0.8864\n",
      "Epoch 97/110\n",
      "3283/3283 [==============================] - 2s 699us/step - loss: 0.2880 - accuracy: 0.8879 - val_loss: 0.2903 - val_accuracy: 0.8865\n",
      "Epoch 98/110\n",
      "3283/3283 [==============================] - 2s 702us/step - loss: 0.2873 - accuracy: 0.8877 - val_loss: 0.2904 - val_accuracy: 0.8840\n",
      "Epoch 99/110\n",
      "3283/3283 [==============================] - 2s 733us/step - loss: 0.2872 - accuracy: 0.8890 - val_loss: 0.2872 - val_accuracy: 0.8893\n",
      "Epoch 100/110\n",
      "3283/3283 [==============================] - 2s 719us/step - loss: 0.2868 - accuracy: 0.8886 - val_loss: 0.2861 - val_accuracy: 0.8878\n",
      "Epoch 101/110\n",
      "3283/3283 [==============================] - 2s 706us/step - loss: 0.2875 - accuracy: 0.8877 - val_loss: 0.2952 - val_accuracy: 0.8865\n",
      "Epoch 102/110\n",
      "3283/3283 [==============================] - 2s 700us/step - loss: 0.2876 - accuracy: 0.8878 - val_loss: 0.2886 - val_accuracy: 0.8859\n",
      "Epoch 103/110\n",
      "3283/3283 [==============================] - 2s 698us/step - loss: 0.2861 - accuracy: 0.8887 - val_loss: 0.2889 - val_accuracy: 0.8878\n",
      "Epoch 104/110\n",
      "3202/3283 [============================>.] - ETA: 0s - loss: 0.2862 - accuracy: 0.8884INFO:tensorflow:Assets written to: /home/anza-tshilidzi/Desktop/Masters_material/e+ e- study/wandb/run-20240815_083416-ytuaa24z/files/model-best/assets\n"
     ]
    },
    {
     "name": "stderr",
     "output_type": "stream",
     "text": [
      "\u001b[34m\u001b[1mwandb\u001b[0m: Adding directory to artifact (/home/anza-tshilidzi/Desktop/Masters_material/e+ e- study/wandb/run-20240815_083416-ytuaa24z/files/model-best)... Done. 0.0s\n"
     ]
    },
    {
     "name": "stdout",
     "output_type": "stream",
     "text": [
      "3283/3283 [==============================] - 3s 989us/step - loss: 0.2865 - accuracy: 0.8883 - val_loss: 0.2841 - val_accuracy: 0.8889\n",
      "Epoch 105/110\n",
      "3283/3283 [==============================] - 2s 709us/step - loss: 0.2868 - accuracy: 0.8884 - val_loss: 0.2918 - val_accuracy: 0.8879\n",
      "Epoch 106/110\n",
      "3283/3283 [==============================] - 2s 747us/step - loss: 0.2873 - accuracy: 0.8879 - val_loss: 0.2979 - val_accuracy: 0.8857\n",
      "Epoch 107/110\n",
      "3283/3283 [==============================] - 2s 713us/step - loss: 0.2866 - accuracy: 0.8883 - val_loss: 0.2915 - val_accuracy: 0.8874\n",
      "Epoch 108/110\n",
      "3283/3283 [==============================] - 2s 714us/step - loss: 0.2872 - accuracy: 0.8879 - val_loss: 0.3079 - val_accuracy: 0.8818\n",
      "Epoch 109/110\n",
      "3283/3283 [==============================] - 2s 714us/step - loss: 0.2869 - accuracy: 0.8884 - val_loss: 0.2901 - val_accuracy: 0.8881\n",
      "Epoch 110/110\n",
      "3283/3283 [==============================] - 2s 705us/step - loss: 0.2857 - accuracy: 0.8884 - val_loss: 0.2904 - val_accuracy: 0.8879\n"
     ]
    },
    {
     "data": {
      "application/vnd.jupyter.widget-view+json": {
       "model_id": "",
       "version_major": 2,
       "version_minor": 0
      },
      "text/plain": [
       "VBox(children=(Label(value='2.621 MB of 2.621 MB uploaded (0.190 MB deduped)\\r'), FloatProgress(value=1.0, max…"
      ]
     },
     "metadata": {},
     "output_type": "display_data"
    },
    {
     "data": {
      "text/html": [
       "W&B sync reduced upload amount by 7.0%"
      ],
      "text/plain": [
       "<IPython.core.display.HTML object>"
      ]
     },
     "metadata": {},
     "output_type": "display_data"
    },
    {
     "data": {
      "text/html": [
       "<style>\n",
       "    table.wandb td:nth-child(1) { padding: 0 10px; text-align: left ; width: auto;} td:nth-child(2) {text-align: left ; width: 100%}\n",
       "    .wandb-row { display: flex; flex-direction: row; flex-wrap: wrap; justify-content: flex-start; width: 100% }\n",
       "    .wandb-col { display: flex; flex-direction: column; flex-basis: 100%; flex: 1; padding: 10px; }\n",
       "    </style>\n",
       "<div class=\"wandb-row\"><div class=\"wandb-col\"><h3>Run history:</h3><br/><table class=\"wandb\"><tr><td>accuracy</td><td>▁▅▇█████████████████████████████████████</td></tr><tr><td>epoch</td><td>▁▁▁▂▂▂▂▂▂▃▃▃▃▃▄▄▄▄▄▄▅▅▅▅▅▅▆▆▆▆▆▇▇▇▇▇▇███</td></tr><tr><td>loss</td><td>█▄▂▁▁▁▁▁▁▁▁▁▁▁▁▁▁▁▁▁▁▁▁▁▁▁▁▁▁▁▁▁▁▁▁▁▁▁▁▁</td></tr><tr><td>val_accuracy</td><td>▁▅▇█▇▇▇███████████████████████▇█████████</td></tr><tr><td>val_loss</td><td>█▆▃▂▂▂▂▂▁▂▁▁▁▁▁▂▁▁▁▁▁▁▁▁▁▁▁▂▁▁▂▂▁▁▁▁▁▁▁▁</td></tr></table><br/></div><div class=\"wandb-col\"><h3>Run summary:</h3><br/><table class=\"wandb\"><tr><td>accuracy</td><td>0.88842</td></tr><tr><td>best_epoch</td><td>103</td></tr><tr><td>best_val_loss</td><td>0.28412</td></tr><tr><td>epoch</td><td>109</td></tr><tr><td>loss</td><td>0.28573</td></tr><tr><td>val_accuracy</td><td>0.8879</td></tr><tr><td>val_loss</td><td>0.29041</td></tr></table><br/></div></div>"
      ],
      "text/plain": [
       "<IPython.core.display.HTML object>"
      ]
     },
     "metadata": {},
     "output_type": "display_data"
    },
    {
     "data": {
      "text/html": [
       " View run <strong style=\"color:#cdcd00\">major-sweep-9</strong> at: <a href='https://wandb.ai/anzanzio/ep-em%20DNN/runs/ytuaa24z' target=\"_blank\">https://wandb.ai/anzanzio/ep-em%20DNN/runs/ytuaa24z</a><br/> View project at: <a href='https://wandb.ai/anzanzio/ep-em%20DNN' target=\"_blank\">https://wandb.ai/anzanzio/ep-em%20DNN</a><br/>Synced 6 W&B file(s), 1 media file(s), 100 artifact file(s) and 1 other file(s)"
      ],
      "text/plain": [
       "<IPython.core.display.HTML object>"
      ]
     },
     "metadata": {},
     "output_type": "display_data"
    },
    {
     "data": {
      "text/html": [
       "Find logs at: <code>./wandb/run-20240815_083416-ytuaa24z/logs</code>"
      ],
      "text/plain": [
       "<IPython.core.display.HTML object>"
      ]
     },
     "metadata": {},
     "output_type": "display_data"
    },
    {
     "data": {
      "text/html": [
       "The new W&B backend becomes opt-out in version 0.18.0; try it out with `wandb.require(\"core\")`! See https://wandb.me/wandb-core for more information."
      ],
      "text/plain": [
       "<IPython.core.display.HTML object>"
      ]
     },
     "metadata": {},
     "output_type": "display_data"
    },
    {
     "name": "stderr",
     "output_type": "stream",
     "text": [
      "\u001b[34m\u001b[1mwandb\u001b[0m: Agent Starting Run: vibi6x21 with config:\n",
      "\u001b[34m\u001b[1mwandb\u001b[0m: \tbatch_size: 20\n",
      "\u001b[34m\u001b[1mwandb\u001b[0m: \tepochs: 110\n",
      "\u001b[34m\u001b[1mwandb\u001b[0m: \tlayers: 15\n",
      "\u001b[34m\u001b[1mwandb\u001b[0m: \tlearning_rate: 0.0006355857865150253\n",
      "\u001b[34m\u001b[1mwandb\u001b[0m: \tneurons: 40\n",
      "\u001b[34m\u001b[1mwandb\u001b[0m: \toptimizer: adam\n"
     ]
    },
    {
     "data": {
      "text/html": [
       "Tracking run with wandb version 0.17.6"
      ],
      "text/plain": [
       "<IPython.core.display.HTML object>"
      ]
     },
     "metadata": {},
     "output_type": "display_data"
    },
    {
     "data": {
      "text/html": [
       "Run data is saved locally in <code>/home/anza-tshilidzi/Desktop/Masters_material/e+ e- study/wandb/run-20240815_083914-vibi6x21</code>"
      ],
      "text/plain": [
       "<IPython.core.display.HTML object>"
      ]
     },
     "metadata": {},
     "output_type": "display_data"
    },
    {
     "data": {
      "text/html": [
       "Syncing run <strong><a href='https://wandb.ai/anzanzio/ep-em%20DNN/runs/vibi6x21' target=\"_blank\">visionary-sweep-10</a></strong> to <a href='https://wandb.ai/anzanzio/ep-em%20DNN' target=\"_blank\">Weights & Biases</a> (<a href='https://wandb.me/run' target=\"_blank\">docs</a>)<br/>Sweep page: <a href='https://wandb.ai/anzanzio/ep-em%20DNN/sweeps/lg5h93ch' target=\"_blank\">https://wandb.ai/anzanzio/ep-em%20DNN/sweeps/lg5h93ch</a>"
      ],
      "text/plain": [
       "<IPython.core.display.HTML object>"
      ]
     },
     "metadata": {},
     "output_type": "display_data"
    },
    {
     "data": {
      "text/html": [
       " View project at <a href='https://wandb.ai/anzanzio/ep-em%20DNN' target=\"_blank\">https://wandb.ai/anzanzio/ep-em%20DNN</a>"
      ],
      "text/plain": [
       "<IPython.core.display.HTML object>"
      ]
     },
     "metadata": {},
     "output_type": "display_data"
    },
    {
     "data": {
      "text/html": [
       " View sweep at <a href='https://wandb.ai/anzanzio/ep-em%20DNN/sweeps/lg5h93ch' target=\"_blank\">https://wandb.ai/anzanzio/ep-em%20DNN/sweeps/lg5h93ch</a>"
      ],
      "text/plain": [
       "<IPython.core.display.HTML object>"
      ]
     },
     "metadata": {},
     "output_type": "display_data"
    },
    {
     "data": {
      "text/html": [
       " View run at <a href='https://wandb.ai/anzanzio/ep-em%20DNN/runs/vibi6x21' target=\"_blank\">https://wandb.ai/anzanzio/ep-em%20DNN/runs/vibi6x21</a>"
      ],
      "text/plain": [
       "<IPython.core.display.HTML object>"
      ]
     },
     "metadata": {},
     "output_type": "display_data"
    },
    {
     "name": "stdout",
     "output_type": "stream",
     "text": [
      "Epoch 1/110\n",
      "5250/5253 [============================>.] - ETA: 0s - loss: 0.5724 - accuracy: 0.7509INFO:tensorflow:Assets written to: /home/anza-tshilidzi/Desktop/Masters_material/e+ e- study/wandb/run-20240815_083914-vibi6x21/files/model-best/assets\n"
     ]
    },
    {
     "name": "stderr",
     "output_type": "stream",
     "text": [
      "\u001b[34m\u001b[1mwandb\u001b[0m: Adding directory to artifact (/home/anza-tshilidzi/Desktop/Masters_material/e+ e- study/wandb/run-20240815_083914-vibi6x21/files/model-best)... Done. 0.0s\n"
     ]
    },
    {
     "name": "stdout",
     "output_type": "stream",
     "text": [
      "5253/5253 [==============================] - 5s 950us/step - loss: 0.5723 - accuracy: 0.7509 - val_loss: 0.4972 - val_accuracy: 0.8052\n",
      "Epoch 2/110\n",
      "5170/5253 [============================>.] - ETA: 0s - loss: 0.4070 - accuracy: 0.8439INFO:tensorflow:Assets written to: /home/anza-tshilidzi/Desktop/Masters_material/e+ e- study/wandb/run-20240815_083914-vibi6x21/files/model-best/assets\n"
     ]
    },
    {
     "name": "stderr",
     "output_type": "stream",
     "text": [
      "\u001b[34m\u001b[1mwandb\u001b[0m: Adding directory to artifact (/home/anza-tshilidzi/Desktop/Masters_material/e+ e- study/wandb/run-20240815_083914-vibi6x21/files/model-best)... Done. 0.0s\n"
     ]
    },
    {
     "name": "stdout",
     "output_type": "stream",
     "text": [
      "5253/5253 [==============================] - 5s 902us/step - loss: 0.4064 - accuracy: 0.8441 - val_loss: 0.3763 - val_accuracy: 0.8479\n",
      "Epoch 3/110\n",
      "5178/5253 [============================>.] - ETA: 0s - loss: 0.3613 - accuracy: 0.8631INFO:tensorflow:Assets written to: /home/anza-tshilidzi/Desktop/Masters_material/e+ e- study/wandb/run-20240815_083914-vibi6x21/files/model-best/assets\n"
     ]
    },
    {
     "name": "stderr",
     "output_type": "stream",
     "text": [
      "\u001b[34m\u001b[1mwandb\u001b[0m: Adding directory to artifact (/home/anza-tshilidzi/Desktop/Masters_material/e+ e- study/wandb/run-20240815_083914-vibi6x21/files/model-best)... Done. 0.0s\n"
     ]
    },
    {
     "name": "stdout",
     "output_type": "stream",
     "text": [
      "5253/5253 [==============================] - 5s 909us/step - loss: 0.3610 - accuracy: 0.8632 - val_loss: 0.3456 - val_accuracy: 0.8669\n",
      "Epoch 4/110\n",
      "5233/5253 [============================>.] - ETA: 0s - loss: 0.3400 - accuracy: 0.8700INFO:tensorflow:Assets written to: /home/anza-tshilidzi/Desktop/Masters_material/e+ e- study/wandb/run-20240815_083914-vibi6x21/files/model-best/assets\n"
     ]
    },
    {
     "name": "stderr",
     "output_type": "stream",
     "text": [
      "\u001b[34m\u001b[1mwandb\u001b[0m: Adding directory to artifact (/home/anza-tshilidzi/Desktop/Masters_material/e+ e- study/wandb/run-20240815_083914-vibi6x21/files/model-best)... Done. 0.0s\n"
     ]
    },
    {
     "name": "stdout",
     "output_type": "stream",
     "text": [
      "5253/5253 [==============================] - 5s 914us/step - loss: 0.3401 - accuracy: 0.8700 - val_loss: 0.3319 - val_accuracy: 0.8700\n",
      "Epoch 5/110\n",
      "5253/5253 [==============================] - 4s 753us/step - loss: 0.3272 - accuracy: 0.8730 - val_loss: 0.3617 - val_accuracy: 0.8540\n",
      "Epoch 6/110\n",
      "5253/5253 [==============================] - 4s 751us/step - loss: 0.3216 - accuracy: 0.8748 - val_loss: 0.3874 - val_accuracy: 0.8579\n",
      "Epoch 7/110\n",
      "5181/5253 [============================>.] - ETA: 0s - loss: 0.3189 - accuracy: 0.8757INFO:tensorflow:Assets written to: /home/anza-tshilidzi/Desktop/Masters_material/e+ e- study/wandb/run-20240815_083914-vibi6x21/files/model-best/assets\n"
     ]
    },
    {
     "name": "stderr",
     "output_type": "stream",
     "text": [
      "\u001b[34m\u001b[1mwandb\u001b[0m: Adding directory to artifact (/home/anza-tshilidzi/Desktop/Masters_material/e+ e- study/wandb/run-20240815_083914-vibi6x21/files/model-best)... Done. 0.0s\n"
     ]
    },
    {
     "name": "stdout",
     "output_type": "stream",
     "text": [
      "5253/5253 [==============================] - 5s 895us/step - loss: 0.3189 - accuracy: 0.8757 - val_loss: 0.3123 - val_accuracy: 0.8774\n",
      "Epoch 8/110\n",
      "5234/5253 [============================>.] - ETA: 0s - loss: 0.3164 - accuracy: 0.8762INFO:tensorflow:Assets written to: /home/anza-tshilidzi/Desktop/Masters_material/e+ e- study/wandb/run-20240815_083914-vibi6x21/files/model-best/assets\n"
     ]
    },
    {
     "name": "stderr",
     "output_type": "stream",
     "text": [
      "\u001b[34m\u001b[1mwandb\u001b[0m: Adding directory to artifact (/home/anza-tshilidzi/Desktop/Masters_material/e+ e- study/wandb/run-20240815_083914-vibi6x21/files/model-best)... Done. 0.0s\n"
     ]
    },
    {
     "name": "stdout",
     "output_type": "stream",
     "text": [
      "5253/5253 [==============================] - 7s 1ms/step - loss: 0.3165 - accuracy: 0.8762 - val_loss: 0.3026 - val_accuracy: 0.8848\n",
      "Epoch 9/110\n",
      "5253/5253 [==============================] - 4s 750us/step - loss: 0.3138 - accuracy: 0.8774 - val_loss: 0.3441 - val_accuracy: 0.8576\n",
      "Epoch 10/110\n",
      "5253/5253 [==============================] - 4s 748us/step - loss: 0.3137 - accuracy: 0.8782 - val_loss: 0.3050 - val_accuracy: 0.8803\n",
      "Epoch 11/110\n",
      "5170/5253 [============================>.] - ETA: 0s - loss: 0.3111 - accuracy: 0.8779INFO:tensorflow:Assets written to: /home/anza-tshilidzi/Desktop/Masters_material/e+ e- study/wandb/run-20240815_083914-vibi6x21/files/model-best/assets\n"
     ]
    },
    {
     "name": "stderr",
     "output_type": "stream",
     "text": [
      "\u001b[34m\u001b[1mwandb\u001b[0m: Adding directory to artifact (/home/anza-tshilidzi/Desktop/Masters_material/e+ e- study/wandb/run-20240815_083914-vibi6x21/files/model-best)... Done. 0.0s\n"
     ]
    },
    {
     "name": "stdout",
     "output_type": "stream",
     "text": [
      "5253/5253 [==============================] - 5s 1ms/step - loss: 0.3110 - accuracy: 0.8779 - val_loss: 0.3011 - val_accuracy: 0.8840\n",
      "Epoch 12/110\n",
      "5253/5253 [==============================] - 4s 741us/step - loss: 0.3106 - accuracy: 0.8783 - val_loss: 0.3605 - val_accuracy: 0.8551\n",
      "Epoch 13/110\n",
      "5253/5253 [==============================] - 4s 746us/step - loss: 0.3104 - accuracy: 0.8790 - val_loss: 0.3068 - val_accuracy: 0.8781\n",
      "Epoch 14/110\n",
      "5253/5253 [==============================] - 4s 741us/step - loss: 0.3084 - accuracy: 0.8802 - val_loss: 0.3152 - val_accuracy: 0.8765\n",
      "Epoch 15/110\n",
      "5253/5253 [==============================] - 4s 760us/step - loss: 0.3080 - accuracy: 0.8798 - val_loss: 0.3199 - val_accuracy: 0.8741\n",
      "Epoch 16/110\n",
      "5253/5253 [==============================] - 4s 745us/step - loss: 0.3069 - accuracy: 0.8804 - val_loss: 0.3048 - val_accuracy: 0.8842\n",
      "Epoch 17/110\n",
      "5253/5253 [==============================] - 4s 739us/step - loss: 0.3048 - accuracy: 0.8813 - val_loss: 0.3050 - val_accuracy: 0.8800\n",
      "Epoch 18/110\n",
      "5253/5253 [==============================] - 4s 739us/step - loss: 0.3022 - accuracy: 0.8839 - val_loss: 0.3019 - val_accuracy: 0.8804\n",
      "Epoch 19/110\n",
      "5206/5253 [============================>.] - ETA: 0s - loss: 0.2999 - accuracy: 0.8843INFO:tensorflow:Assets written to: /home/anza-tshilidzi/Desktop/Masters_material/e+ e- study/wandb/run-20240815_083914-vibi6x21/files/model-best/assets\n"
     ]
    },
    {
     "name": "stderr",
     "output_type": "stream",
     "text": [
      "\u001b[34m\u001b[1mwandb\u001b[0m: Adding directory to artifact (/home/anza-tshilidzi/Desktop/Masters_material/e+ e- study/wandb/run-20240815_083914-vibi6x21/files/model-best)... Done. 0.0s\n"
     ]
    },
    {
     "name": "stdout",
     "output_type": "stream",
     "text": [
      "5253/5253 [==============================] - 5s 926us/step - loss: 0.3000 - accuracy: 0.8843 - val_loss: 0.2986 - val_accuracy: 0.8823\n",
      "Epoch 20/110\n",
      "5253/5253 [==============================] - 4s 759us/step - loss: 0.3010 - accuracy: 0.8837 - val_loss: 0.3051 - val_accuracy: 0.8856\n",
      "Epoch 21/110\n",
      "5253/5253 [==============================] - 4s 747us/step - loss: 0.2988 - accuracy: 0.8852 - val_loss: 0.3044 - val_accuracy: 0.8762\n",
      "Epoch 22/110\n",
      "5167/5253 [============================>.] - ETA: 0s - loss: 0.2980 - accuracy: 0.8848INFO:tensorflow:Assets written to: /home/anza-tshilidzi/Desktop/Masters_material/e+ e- study/wandb/run-20240815_083914-vibi6x21/files/model-best/assets\n"
     ]
    },
    {
     "name": "stderr",
     "output_type": "stream",
     "text": [
      "\u001b[34m\u001b[1mwandb\u001b[0m: Adding directory to artifact (/home/anza-tshilidzi/Desktop/Masters_material/e+ e- study/wandb/run-20240815_083914-vibi6x21/files/model-best)... Done. 0.0s\n"
     ]
    },
    {
     "name": "stdout",
     "output_type": "stream",
     "text": [
      "5253/5253 [==============================] - 5s 889us/step - loss: 0.2980 - accuracy: 0.8849 - val_loss: 0.2927 - val_accuracy: 0.8855\n",
      "Epoch 23/110\n",
      "5253/5253 [==============================] - 4s 757us/step - loss: 0.2973 - accuracy: 0.8848 - val_loss: 0.2973 - val_accuracy: 0.8832\n",
      "Epoch 24/110\n",
      "5253/5253 [==============================] - 4s 745us/step - loss: 0.2968 - accuracy: 0.8856 - val_loss: 0.2982 - val_accuracy: 0.8848\n",
      "Epoch 25/110\n",
      "5199/5253 [============================>.] - ETA: 0s - loss: 0.2958 - accuracy: 0.8851INFO:tensorflow:Assets written to: /home/anza-tshilidzi/Desktop/Masters_material/e+ e- study/wandb/run-20240815_083914-vibi6x21/files/model-best/assets\n"
     ]
    },
    {
     "name": "stderr",
     "output_type": "stream",
     "text": [
      "\u001b[34m\u001b[1mwandb\u001b[0m: Adding directory to artifact (/home/anza-tshilidzi/Desktop/Masters_material/e+ e- study/wandb/run-20240815_083914-vibi6x21/files/model-best)... Done. 0.0s\n"
     ]
    },
    {
     "name": "stdout",
     "output_type": "stream",
     "text": [
      "5253/5253 [==============================] - 5s 914us/step - loss: 0.2956 - accuracy: 0.8852 - val_loss: 0.2907 - val_accuracy: 0.8871\n",
      "Epoch 26/110\n",
      "5253/5253 [==============================] - 4s 768us/step - loss: 0.2941 - accuracy: 0.8868 - val_loss: 0.2924 - val_accuracy: 0.8881\n",
      "Epoch 27/110\n",
      "5253/5253 [==============================] - 4s 748us/step - loss: 0.2951 - accuracy: 0.8860 - val_loss: 0.2910 - val_accuracy: 0.8869\n",
      "Epoch 28/110\n",
      "5222/5253 [============================>.] - ETA: 0s - loss: 0.2948 - accuracy: 0.8855INFO:tensorflow:Assets written to: /home/anza-tshilidzi/Desktop/Masters_material/e+ e- study/wandb/run-20240815_083914-vibi6x21/files/model-best/assets\n"
     ]
    },
    {
     "name": "stderr",
     "output_type": "stream",
     "text": [
      "\u001b[34m\u001b[1mwandb\u001b[0m: Adding directory to artifact (/home/anza-tshilidzi/Desktop/Masters_material/e+ e- study/wandb/run-20240815_083914-vibi6x21/files/model-best)... Done. 0.0s\n"
     ]
    },
    {
     "name": "stdout",
     "output_type": "stream",
     "text": [
      "5253/5253 [==============================] - 5s 900us/step - loss: 0.2946 - accuracy: 0.8856 - val_loss: 0.2874 - val_accuracy: 0.8884\n",
      "Epoch 29/110\n",
      "5253/5253 [==============================] - 4s 761us/step - loss: 0.2949 - accuracy: 0.8861 - val_loss: 0.2986 - val_accuracy: 0.8833\n",
      "Epoch 30/110\n",
      "5253/5253 [==============================] - 4s 764us/step - loss: 0.2929 - accuracy: 0.8871 - val_loss: 0.2907 - val_accuracy: 0.8864\n",
      "Epoch 31/110\n",
      "5253/5253 [==============================] - 4s 751us/step - loss: 0.2934 - accuracy: 0.8854 - val_loss: 0.2980 - val_accuracy: 0.8860\n",
      "Epoch 32/110\n",
      "5253/5253 [==============================] - 4s 744us/step - loss: 0.2942 - accuracy: 0.8854 - val_loss: 0.2916 - val_accuracy: 0.8867\n",
      "Epoch 33/110\n",
      "5253/5253 [==============================] - 4s 751us/step - loss: 0.2929 - accuracy: 0.8868 - val_loss: 0.3074 - val_accuracy: 0.8783\n",
      "Epoch 34/110\n",
      "5253/5253 [==============================] - 4s 759us/step - loss: 0.2920 - accuracy: 0.8867 - val_loss: 0.2912 - val_accuracy: 0.8849\n",
      "Epoch 35/110\n",
      "5253/5253 [==============================] - 4s 747us/step - loss: 0.2923 - accuracy: 0.8875 - val_loss: 0.2885 - val_accuracy: 0.8889\n",
      "Epoch 36/110\n",
      "5253/5253 [==============================] - 4s 748us/step - loss: 0.2918 - accuracy: 0.8867 - val_loss: 0.2928 - val_accuracy: 0.8867\n",
      "Epoch 37/110\n",
      "5253/5253 [==============================] - 4s 751us/step - loss: 0.2914 - accuracy: 0.8873 - val_loss: 0.2958 - val_accuracy: 0.8860\n",
      "Epoch 38/110\n",
      "5253/5253 [==============================] - 4s 766us/step - loss: 0.2917 - accuracy: 0.8868 - val_loss: 0.2998 - val_accuracy: 0.8845\n",
      "Epoch 39/110\n",
      "5253/5253 [==============================] - 4s 755us/step - loss: 0.2908 - accuracy: 0.8872 - val_loss: 0.2917 - val_accuracy: 0.8870\n",
      "Epoch 40/110\n",
      "5253/5253 [==============================] - 4s 752us/step - loss: 0.2901 - accuracy: 0.8874 - val_loss: 0.3169 - val_accuracy: 0.8808\n",
      "Epoch 41/110\n",
      "5253/5253 [==============================] - 4s 746us/step - loss: 0.2907 - accuracy: 0.8872 - val_loss: 0.2969 - val_accuracy: 0.8832\n",
      "Epoch 42/110\n",
      "5253/5253 [==============================] - 4s 774us/step - loss: 0.2904 - accuracy: 0.8873 - val_loss: 0.2905 - val_accuracy: 0.8853\n",
      "Epoch 43/110\n",
      "5253/5253 [==============================] - 4s 757us/step - loss: 0.2889 - accuracy: 0.8882 - val_loss: 0.2956 - val_accuracy: 0.8828\n",
      "Epoch 44/110\n",
      "5253/5253 [==============================] - 4s 748us/step - loss: 0.2886 - accuracy: 0.8875 - val_loss: 0.3142 - val_accuracy: 0.8783\n",
      "Epoch 45/110\n",
      "5253/5253 [==============================] - 4s 748us/step - loss: 0.2896 - accuracy: 0.8876 - val_loss: 0.2908 - val_accuracy: 0.8874\n",
      "Epoch 46/110\n",
      "5183/5253 [============================>.] - ETA: 0s - loss: 0.2893 - accuracy: 0.8878INFO:tensorflow:Assets written to: /home/anza-tshilidzi/Desktop/Masters_material/e+ e- study/wandb/run-20240815_083914-vibi6x21/files/model-best/assets\n"
     ]
    },
    {
     "name": "stderr",
     "output_type": "stream",
     "text": [
      "\u001b[34m\u001b[1mwandb\u001b[0m: Adding directory to artifact (/home/anza-tshilidzi/Desktop/Masters_material/e+ e- study/wandb/run-20240815_083914-vibi6x21/files/model-best)... Done. 0.0s\n"
     ]
    },
    {
     "name": "stdout",
     "output_type": "stream",
     "text": [
      "5253/5253 [==============================] - 5s 913us/step - loss: 0.2894 - accuracy: 0.8879 - val_loss: 0.2874 - val_accuracy: 0.8866\n",
      "Epoch 47/110\n",
      "5253/5253 [==============================] - 4s 758us/step - loss: 0.2885 - accuracy: 0.8883 - val_loss: 0.3083 - val_accuracy: 0.8808\n",
      "Epoch 48/110\n",
      "5209/5253 [============================>.] - ETA: 0s - loss: 0.2881 - accuracy: 0.8890INFO:tensorflow:Assets written to: /home/anza-tshilidzi/Desktop/Masters_material/e+ e- study/wandb/run-20240815_083914-vibi6x21/files/model-best/assets\n"
     ]
    },
    {
     "name": "stderr",
     "output_type": "stream",
     "text": [
      "\u001b[34m\u001b[1mwandb\u001b[0m: Adding directory to artifact (/home/anza-tshilidzi/Desktop/Masters_material/e+ e- study/wandb/run-20240815_083914-vibi6x21/files/model-best)... Done. 0.0s\n"
     ]
    },
    {
     "name": "stdout",
     "output_type": "stream",
     "text": [
      "5253/5253 [==============================] - 5s 885us/step - loss: 0.2880 - accuracy: 0.8890 - val_loss: 0.2844 - val_accuracy: 0.8873\n",
      "Epoch 49/110\n",
      "5253/5253 [==============================] - 4s 751us/step - loss: 0.2876 - accuracy: 0.8888 - val_loss: 0.2991 - val_accuracy: 0.8840\n",
      "Epoch 50/110\n",
      "5253/5253 [==============================] - 4s 761us/step - loss: 0.2877 - accuracy: 0.8887 - val_loss: 0.3056 - val_accuracy: 0.8826\n",
      "Epoch 51/110\n",
      "5253/5253 [==============================] - 4s 754us/step - loss: 0.2853 - accuracy: 0.8900 - val_loss: 0.2866 - val_accuracy: 0.8900\n",
      "Epoch 52/110\n",
      "5253/5253 [==============================] - 4s 750us/step - loss: 0.2859 - accuracy: 0.8890 - val_loss: 0.2859 - val_accuracy: 0.8867\n",
      "Epoch 53/110\n",
      "5253/5253 [==============================] - 4s 755us/step - loss: 0.2845 - accuracy: 0.8893 - val_loss: 0.2910 - val_accuracy: 0.8883\n",
      "Epoch 54/110\n",
      "5253/5253 [==============================] - 4s 774us/step - loss: 0.2833 - accuracy: 0.8908 - val_loss: 0.3012 - val_accuracy: 0.8840\n",
      "Epoch 55/110\n",
      "5195/5253 [============================>.] - ETA: 0s - loss: 0.2822 - accuracy: 0.8896INFO:tensorflow:Assets written to: /home/anza-tshilidzi/Desktop/Masters_material/e+ e- study/wandb/run-20240815_083914-vibi6x21/files/model-best/assets\n"
     ]
    },
    {
     "name": "stderr",
     "output_type": "stream",
     "text": [
      "\u001b[34m\u001b[1mwandb\u001b[0m: Adding directory to artifact (/home/anza-tshilidzi/Desktop/Masters_material/e+ e- study/wandb/run-20240815_083914-vibi6x21/files/model-best)... Done. 0.0s\n"
     ]
    },
    {
     "name": "stdout",
     "output_type": "stream",
     "text": [
      "5253/5253 [==============================] - 5s 903us/step - loss: 0.2822 - accuracy: 0.8897 - val_loss: 0.2807 - val_accuracy: 0.8907\n",
      "Epoch 56/110\n",
      "5253/5253 [==============================] - 4s 753us/step - loss: 0.2812 - accuracy: 0.8911 - val_loss: 0.2973 - val_accuracy: 0.8831\n",
      "Epoch 57/110\n",
      "5189/5253 [============================>.] - ETA: 0s - loss: 0.2797 - accuracy: 0.8920INFO:tensorflow:Assets written to: /home/anza-tshilidzi/Desktop/Masters_material/e+ e- study/wandb/run-20240815_083914-vibi6x21/files/model-best/assets\n"
     ]
    },
    {
     "name": "stderr",
     "output_type": "stream",
     "text": [
      "\u001b[34m\u001b[1mwandb\u001b[0m: Adding directory to artifact (/home/anza-tshilidzi/Desktop/Masters_material/e+ e- study/wandb/run-20240815_083914-vibi6x21/files/model-best)... Done. 0.0s\n"
     ]
    },
    {
     "name": "stdout",
     "output_type": "stream",
     "text": [
      "5253/5253 [==============================] - 5s 901us/step - loss: 0.2798 - accuracy: 0.8920 - val_loss: 0.2770 - val_accuracy: 0.8922\n",
      "Epoch 58/110\n",
      "5253/5253 [==============================] - 4s 773us/step - loss: 0.2780 - accuracy: 0.8924 - val_loss: 0.2802 - val_accuracy: 0.8905\n",
      "Epoch 59/110\n",
      "5253/5253 [==============================] - 4s 744us/step - loss: 0.2774 - accuracy: 0.8924 - val_loss: 0.2818 - val_accuracy: 0.8925\n",
      "Epoch 60/110\n",
      "5253/5253 [==============================] - 4s 751us/step - loss: 0.2760 - accuracy: 0.8926 - val_loss: 0.2900 - val_accuracy: 0.8853\n",
      "Epoch 61/110\n",
      "5253/5253 [==============================] - 4s 757us/step - loss: 0.2753 - accuracy: 0.8931 - val_loss: 0.2835 - val_accuracy: 0.8904\n",
      "Epoch 62/110\n",
      "5253/5253 [==============================] - 4s 768us/step - loss: 0.2748 - accuracy: 0.8935 - val_loss: 0.2834 - val_accuracy: 0.8878\n",
      "Epoch 63/110\n",
      "5253/5253 [==============================] - 5s 871us/step - loss: 0.2746 - accuracy: 0.8935 - val_loss: 0.2821 - val_accuracy: 0.8939\n",
      "Epoch 64/110\n",
      "5251/5253 [============================>.] - ETA: 0s - loss: 0.2742 - accuracy: 0.8936INFO:tensorflow:Assets written to: /home/anza-tshilidzi/Desktop/Masters_material/e+ e- study/wandb/run-20240815_083914-vibi6x21/files/model-best/assets\n"
     ]
    },
    {
     "name": "stderr",
     "output_type": "stream",
     "text": [
      "\u001b[34m\u001b[1mwandb\u001b[0m: Adding directory to artifact (/home/anza-tshilidzi/Desktop/Masters_material/e+ e- study/wandb/run-20240815_083914-vibi6x21/files/model-best)... Done. 0.0s\n"
     ]
    },
    {
     "name": "stdout",
     "output_type": "stream",
     "text": [
      "5253/5253 [==============================] - 6s 1ms/step - loss: 0.2742 - accuracy: 0.8937 - val_loss: 0.2740 - val_accuracy: 0.8936\n",
      "Epoch 65/110\n",
      "5253/5253 [==============================] - 4s 792us/step - loss: 0.2735 - accuracy: 0.8934 - val_loss: 0.2862 - val_accuracy: 0.8865\n",
      "Epoch 66/110\n",
      "5253/5253 [==============================] - 4s 756us/step - loss: 0.2732 - accuracy: 0.8937 - val_loss: 0.2861 - val_accuracy: 0.8876\n",
      "Epoch 67/110\n",
      "5253/5253 [==============================] - 4s 750us/step - loss: 0.2738 - accuracy: 0.8937 - val_loss: 0.2870 - val_accuracy: 0.8875\n",
      "Epoch 68/110\n",
      "5189/5253 [============================>.] - ETA: 0s - loss: 0.2730 - accuracy: 0.8943INFO:tensorflow:Assets written to: /home/anza-tshilidzi/Desktop/Masters_material/e+ e- study/wandb/run-20240815_083914-vibi6x21/files/model-best/assets\n"
     ]
    },
    {
     "name": "stderr",
     "output_type": "stream",
     "text": [
      "\u001b[34m\u001b[1mwandb\u001b[0m: Adding directory to artifact (/home/anza-tshilidzi/Desktop/Masters_material/e+ e- study/wandb/run-20240815_083914-vibi6x21/files/model-best)... Done. 0.0s\n"
     ]
    },
    {
     "name": "stdout",
     "output_type": "stream",
     "text": [
      "5253/5253 [==============================] - 5s 903us/step - loss: 0.2733 - accuracy: 0.8941 - val_loss: 0.2712 - val_accuracy: 0.8932\n",
      "Epoch 69/110\n",
      "5253/5253 [==============================] - 4s 782us/step - loss: 0.2732 - accuracy: 0.8933 - val_loss: 0.2874 - val_accuracy: 0.8890\n",
      "Epoch 70/110\n",
      "5253/5253 [==============================] - 4s 748us/step - loss: 0.2733 - accuracy: 0.8938 - val_loss: 0.2766 - val_accuracy: 0.8910\n",
      "Epoch 71/110\n",
      "5253/5253 [==============================] - 4s 756us/step - loss: 0.2730 - accuracy: 0.8936 - val_loss: 0.2750 - val_accuracy: 0.8934\n",
      "Epoch 72/110\n",
      "5253/5253 [==============================] - 4s 753us/step - loss: 0.2730 - accuracy: 0.8941 - val_loss: 0.2982 - val_accuracy: 0.8867\n",
      "Epoch 73/110\n",
      "5253/5253 [==============================] - 4s 772us/step - loss: 0.2726 - accuracy: 0.8937 - val_loss: 0.2904 - val_accuracy: 0.8877\n",
      "Epoch 74/110\n",
      "5253/5253 [==============================] - 4s 750us/step - loss: 0.2722 - accuracy: 0.8939 - val_loss: 0.2993 - val_accuracy: 0.8842\n",
      "Epoch 75/110\n",
      "5253/5253 [==============================] - 4s 749us/step - loss: 0.2718 - accuracy: 0.8942 - val_loss: 0.2893 - val_accuracy: 0.8901\n",
      "Epoch 76/110\n",
      "5253/5253 [==============================] - 4s 750us/step - loss: 0.2718 - accuracy: 0.8941 - val_loss: 0.2720 - val_accuracy: 0.8951\n",
      "Epoch 77/110\n",
      "5253/5253 [==============================] - 4s 769us/step - loss: 0.2720 - accuracy: 0.8934 - val_loss: 0.2796 - val_accuracy: 0.8912\n",
      "Epoch 78/110\n",
      "5253/5253 [==============================] - 4s 753us/step - loss: 0.2715 - accuracy: 0.8938 - val_loss: 0.2960 - val_accuracy: 0.8851\n",
      "Epoch 79/110\n",
      "5253/5253 [==============================] - 4s 750us/step - loss: 0.2722 - accuracy: 0.8943 - val_loss: 0.2995 - val_accuracy: 0.8832\n",
      "Epoch 80/110\n",
      "5253/5253 [==============================] - 4s 751us/step - loss: 0.2721 - accuracy: 0.8936 - val_loss: 0.2732 - val_accuracy: 0.8950\n",
      "Epoch 81/110\n",
      "5253/5253 [==============================] - 4s 777us/step - loss: 0.2702 - accuracy: 0.8948 - val_loss: 0.2732 - val_accuracy: 0.8943\n",
      "Epoch 82/110\n",
      "5177/5253 [============================>.] - ETA: 0s - loss: 0.2711 - accuracy: 0.8949INFO:tensorflow:Assets written to: /home/anza-tshilidzi/Desktop/Masters_material/e+ e- study/wandb/run-20240815_083914-vibi6x21/files/model-best/assets\n"
     ]
    },
    {
     "name": "stderr",
     "output_type": "stream",
     "text": [
      "\u001b[34m\u001b[1mwandb\u001b[0m: Adding directory to artifact (/home/anza-tshilidzi/Desktop/Masters_material/e+ e- study/wandb/run-20240815_083914-vibi6x21/files/model-best)... Done. 0.0s\n"
     ]
    },
    {
     "name": "stdout",
     "output_type": "stream",
     "text": [
      "5253/5253 [==============================] - 5s 974us/step - loss: 0.2711 - accuracy: 0.8950 - val_loss: 0.2704 - val_accuracy: 0.8938\n",
      "Epoch 83/110\n",
      "5253/5253 [==============================] - 4s 749us/step - loss: 0.2717 - accuracy: 0.8947 - val_loss: 0.2796 - val_accuracy: 0.8904\n",
      "Epoch 84/110\n",
      "5253/5253 [==============================] - 4s 760us/step - loss: 0.2703 - accuracy: 0.8946 - val_loss: 0.2928 - val_accuracy: 0.8862\n",
      "Epoch 85/110\n",
      "5253/5253 [==============================] - 4s 767us/step - loss: 0.2703 - accuracy: 0.8944 - val_loss: 0.2931 - val_accuracy: 0.8880\n",
      "Epoch 86/110\n",
      "5253/5253 [==============================] - 4s 765us/step - loss: 0.2700 - accuracy: 0.8947 - val_loss: 0.2758 - val_accuracy: 0.8903\n",
      "Epoch 87/110\n",
      "5253/5253 [==============================] - 4s 754us/step - loss: 0.2705 - accuracy: 0.8952 - val_loss: 0.2721 - val_accuracy: 0.8917\n",
      "Epoch 88/110\n",
      "5253/5253 [==============================] - 4s 752us/step - loss: 0.2698 - accuracy: 0.8949 - val_loss: 0.3080 - val_accuracy: 0.8846\n",
      "Epoch 89/110\n",
      "5218/5253 [============================>.] - ETA: 0s - loss: 0.2690 - accuracy: 0.8943INFO:tensorflow:Assets written to: /home/anza-tshilidzi/Desktop/Masters_material/e+ e- study/wandb/run-20240815_083914-vibi6x21/files/model-best/assets\n"
     ]
    },
    {
     "name": "stderr",
     "output_type": "stream",
     "text": [
      "\u001b[34m\u001b[1mwandb\u001b[0m: Adding directory to artifact (/home/anza-tshilidzi/Desktop/Masters_material/e+ e- study/wandb/run-20240815_083914-vibi6x21/files/model-best)... Done. 0.0s\n"
     ]
    },
    {
     "name": "stdout",
     "output_type": "stream",
     "text": [
      "5253/5253 [==============================] - 5s 937us/step - loss: 0.2691 - accuracy: 0.8943 - val_loss: 0.2681 - val_accuracy: 0.8936\n",
      "Epoch 90/110\n",
      "5253/5253 [==============================] - 4s 754us/step - loss: 0.2691 - accuracy: 0.8945 - val_loss: 0.2733 - val_accuracy: 0.8930\n",
      "Epoch 91/110\n",
      "5253/5253 [==============================] - 4s 759us/step - loss: 0.2699 - accuracy: 0.8943 - val_loss: 0.2948 - val_accuracy: 0.8847\n",
      "Epoch 92/110\n",
      "5253/5253 [==============================] - 4s 773us/step - loss: 0.2696 - accuracy: 0.8943 - val_loss: 0.2828 - val_accuracy: 0.8876\n",
      "Epoch 93/110\n",
      "5253/5253 [==============================] - 4s 771us/step - loss: 0.2689 - accuracy: 0.8944 - val_loss: 0.3215 - val_accuracy: 0.8728\n",
      "Epoch 94/110\n",
      "5253/5253 [==============================] - 4s 756us/step - loss: 0.2693 - accuracy: 0.8942 - val_loss: 0.3010 - val_accuracy: 0.8790\n",
      "Epoch 95/110\n",
      "5253/5253 [==============================] - 4s 754us/step - loss: 0.2690 - accuracy: 0.8953 - val_loss: 0.2715 - val_accuracy: 0.8922\n",
      "Epoch 96/110\n",
      "5205/5253 [============================>.] - ETA: 0s - loss: 0.2685 - accuracy: 0.8947INFO:tensorflow:Assets written to: /home/anza-tshilidzi/Desktop/Masters_material/e+ e- study/wandb/run-20240815_083914-vibi6x21/files/model-best/assets\n"
     ]
    },
    {
     "name": "stderr",
     "output_type": "stream",
     "text": [
      "\u001b[34m\u001b[1mwandb\u001b[0m: Adding directory to artifact (/home/anza-tshilidzi/Desktop/Masters_material/e+ e- study/wandb/run-20240815_083914-vibi6x21/files/model-best)... Done. 0.0s\n"
     ]
    },
    {
     "name": "stdout",
     "output_type": "stream",
     "text": [
      "5253/5253 [==============================] - 5s 976us/step - loss: 0.2682 - accuracy: 0.8948 - val_loss: 0.2672 - val_accuracy: 0.8954\n",
      "Epoch 97/110\n",
      "5253/5253 [==============================] - 4s 757us/step - loss: 0.2685 - accuracy: 0.8950 - val_loss: 0.2748 - val_accuracy: 0.8902\n",
      "Epoch 98/110\n",
      "5253/5253 [==============================] - 4s 752us/step - loss: 0.2686 - accuracy: 0.8951 - val_loss: 0.2733 - val_accuracy: 0.8928\n",
      "Epoch 99/110\n",
      "5253/5253 [==============================] - 4s 765us/step - loss: 0.2690 - accuracy: 0.8948 - val_loss: 0.2756 - val_accuracy: 0.8919\n",
      "Epoch 100/110\n",
      "5253/5253 [==============================] - 4s 774us/step - loss: 0.2676 - accuracy: 0.8956 - val_loss: 0.2699 - val_accuracy: 0.8951\n",
      "Epoch 101/110\n",
      "5253/5253 [==============================] - 4s 751us/step - loss: 0.2676 - accuracy: 0.8956 - val_loss: 0.2768 - val_accuracy: 0.8943\n",
      "Epoch 102/110\n",
      "5253/5253 [==============================] - 4s 751us/step - loss: 0.2684 - accuracy: 0.8947 - val_loss: 0.2848 - val_accuracy: 0.8890\n",
      "Epoch 103/110\n",
      "5253/5253 [==============================] - 4s 746us/step - loss: 0.2684 - accuracy: 0.8952 - val_loss: 0.2709 - val_accuracy: 0.8942\n",
      "Epoch 104/110\n",
      "5253/5253 [==============================] - 4s 775us/step - loss: 0.2677 - accuracy: 0.8954 - val_loss: 0.2692 - val_accuracy: 0.8941\n",
      "Epoch 105/110\n",
      "5253/5253 [==============================] - 4s 746us/step - loss: 0.2686 - accuracy: 0.8950 - val_loss: 0.2687 - val_accuracy: 0.8950\n",
      "Epoch 106/110\n",
      "5253/5253 [==============================] - 4s 751us/step - loss: 0.2683 - accuracy: 0.8953 - val_loss: 0.2795 - val_accuracy: 0.8902\n",
      "Epoch 107/110\n",
      "5253/5253 [==============================] - 4s 770us/step - loss: 0.2675 - accuracy: 0.8951 - val_loss: 0.2690 - val_accuracy: 0.8938\n",
      "Epoch 108/110\n",
      "5253/5253 [==============================] - 5s 865us/step - loss: 0.2679 - accuracy: 0.8950 - val_loss: 0.2720 - val_accuracy: 0.8925\n",
      "Epoch 109/110\n",
      "5253/5253 [==============================] - 4s 830us/step - loss: 0.2678 - accuracy: 0.8948 - val_loss: 0.2735 - val_accuracy: 0.8944\n",
      "Epoch 110/110\n",
      "5253/5253 [==============================] - 4s 805us/step - loss: 0.2677 - accuracy: 0.8958 - val_loss: 0.2690 - val_accuracy: 0.8940\n"
     ]
    },
    {
     "data": {
      "application/vnd.jupyter.widget-view+json": {
       "model_id": "",
       "version_major": 2,
       "version_minor": 0
      },
      "text/plain": [
       "VBox(children=(Label(value='2.546 MB of 2.546 MB uploaded (0.150 MB deduped)\\r'), FloatProgress(value=1.0, max…"
      ]
     },
     "metadata": {},
     "output_type": "display_data"
    },
    {
     "data": {
      "text/html": [
       "W&B sync reduced upload amount by 5.6%"
      ],
      "text/plain": [
       "<IPython.core.display.HTML object>"
      ]
     },
     "metadata": {},
     "output_type": "display_data"
    },
    {
     "data": {
      "text/html": [
       "<style>\n",
       "    table.wandb td:nth-child(1) { padding: 0 10px; text-align: left ; width: auto;} td:nth-child(2) {text-align: left ; width: 100%}\n",
       "    .wandb-row { display: flex; flex-direction: row; flex-wrap: wrap; justify-content: flex-start; width: 100% }\n",
       "    .wandb-col { display: flex; flex-direction: column; flex-basis: 100%; flex: 1; padding: 10px; }\n",
       "    </style>\n",
       "<div class=\"wandb-row\"><div class=\"wandb-col\"><h3>Run history:</h3><br/><table class=\"wandb\"><tr><td>accuracy</td><td>▁▆▇▇▇▇▇▇▇███████████████████████████████</td></tr><tr><td>epoch</td><td>▁▁▁▂▂▂▂▂▂▃▃▃▃▃▄▄▄▄▄▄▅▅▅▅▅▅▆▆▆▆▆▇▇▇▇▇▇███</td></tr><tr><td>loss</td><td>█▃▂▂▂▂▂▂▂▂▂▂▂▂▂▂▂▁▁▁▁▁▁▁▁▁▁▁▁▁▁▁▁▁▁▁▁▁▁▁</td></tr><tr><td>val_accuracy</td><td>▁▆▅▅▅▇▇▇▇▇▇▇▇▇▇▇▇▇█▇▇█▇▇██▇█▇█▇██▆██████</td></tr><tr><td>val_loss</td><td>█▃▅▃▄▂▂▂▂▂▂▂▂▂▃▂▂▂▂▂▂▁▁▂▁▁▂▁▂▁▂▁▁▃▁▁▁▁▁▁</td></tr></table><br/></div><div class=\"wandb-col\"><h3>Run summary:</h3><br/><table class=\"wandb\"><tr><td>accuracy</td><td>0.89577</td></tr><tr><td>best_epoch</td><td>95</td></tr><tr><td>best_val_loss</td><td>0.26717</td></tr><tr><td>epoch</td><td>109</td></tr><tr><td>loss</td><td>0.26774</td></tr><tr><td>val_accuracy</td><td>0.89403</td></tr><tr><td>val_loss</td><td>0.26902</td></tr></table><br/></div></div>"
      ],
      "text/plain": [
       "<IPython.core.display.HTML object>"
      ]
     },
     "metadata": {},
     "output_type": "display_data"
    },
    {
     "data": {
      "text/html": [
       " View run <strong style=\"color:#cdcd00\">visionary-sweep-10</strong> at: <a href='https://wandb.ai/anzanzio/ep-em%20DNN/runs/vibi6x21' target=\"_blank\">https://wandb.ai/anzanzio/ep-em%20DNN/runs/vibi6x21</a><br/> View project at: <a href='https://wandb.ai/anzanzio/ep-em%20DNN' target=\"_blank\">https://wandb.ai/anzanzio/ep-em%20DNN</a><br/>Synced 6 W&B file(s), 1 media file(s), 80 artifact file(s) and 1 other file(s)"
      ],
      "text/plain": [
       "<IPython.core.display.HTML object>"
      ]
     },
     "metadata": {},
     "output_type": "display_data"
    },
    {
     "data": {
      "text/html": [
       "Find logs at: <code>./wandb/run-20240815_083914-vibi6x21/logs</code>"
      ],
      "text/plain": [
       "<IPython.core.display.HTML object>"
      ]
     },
     "metadata": {},
     "output_type": "display_data"
    },
    {
     "data": {
      "text/html": [
       "The new W&B backend becomes opt-out in version 0.18.0; try it out with `wandb.require(\"core\")`! See https://wandb.me/wandb-core for more information."
      ],
      "text/plain": [
       "<IPython.core.display.HTML object>"
      ]
     },
     "metadata": {},
     "output_type": "display_data"
    },
    {
     "name": "stderr",
     "output_type": "stream",
     "text": [
      "\u001b[34m\u001b[1mwandb\u001b[0m: Agent Starting Run: xlz15f1i with config:\n",
      "\u001b[34m\u001b[1mwandb\u001b[0m: \tbatch_size: 29\n",
      "\u001b[34m\u001b[1mwandb\u001b[0m: \tepochs: 140\n",
      "\u001b[34m\u001b[1mwandb\u001b[0m: \tlayers: 18\n",
      "\u001b[34m\u001b[1mwandb\u001b[0m: \tlearning_rate: 0.0009575508609986697\n",
      "\u001b[34m\u001b[1mwandb\u001b[0m: \tneurons: 39\n",
      "\u001b[34m\u001b[1mwandb\u001b[0m: \toptimizer: adamax\n"
     ]
    },
    {
     "data": {
      "text/html": [
       "Tracking run with wandb version 0.17.6"
      ],
      "text/plain": [
       "<IPython.core.display.HTML object>"
      ]
     },
     "metadata": {},
     "output_type": "display_data"
    },
    {
     "data": {
      "text/html": [
       "Run data is saved locally in <code>/home/anza-tshilidzi/Desktop/Masters_material/e+ e- study/wandb/run-20240815_084713-xlz15f1i</code>"
      ],
      "text/plain": [
       "<IPython.core.display.HTML object>"
      ]
     },
     "metadata": {},
     "output_type": "display_data"
    },
    {
     "data": {
      "text/html": [
       "Syncing run <strong><a href='https://wandb.ai/anzanzio/ep-em%20DNN/runs/xlz15f1i' target=\"_blank\">lilac-sweep-11</a></strong> to <a href='https://wandb.ai/anzanzio/ep-em%20DNN' target=\"_blank\">Weights & Biases</a> (<a href='https://wandb.me/run' target=\"_blank\">docs</a>)<br/>Sweep page: <a href='https://wandb.ai/anzanzio/ep-em%20DNN/sweeps/lg5h93ch' target=\"_blank\">https://wandb.ai/anzanzio/ep-em%20DNN/sweeps/lg5h93ch</a>"
      ],
      "text/plain": [
       "<IPython.core.display.HTML object>"
      ]
     },
     "metadata": {},
     "output_type": "display_data"
    },
    {
     "data": {
      "text/html": [
       " View project at <a href='https://wandb.ai/anzanzio/ep-em%20DNN' target=\"_blank\">https://wandb.ai/anzanzio/ep-em%20DNN</a>"
      ],
      "text/plain": [
       "<IPython.core.display.HTML object>"
      ]
     },
     "metadata": {},
     "output_type": "display_data"
    },
    {
     "data": {
      "text/html": [
       " View sweep at <a href='https://wandb.ai/anzanzio/ep-em%20DNN/sweeps/lg5h93ch' target=\"_blank\">https://wandb.ai/anzanzio/ep-em%20DNN/sweeps/lg5h93ch</a>"
      ],
      "text/plain": [
       "<IPython.core.display.HTML object>"
      ]
     },
     "metadata": {},
     "output_type": "display_data"
    },
    {
     "data": {
      "text/html": [
       " View run at <a href='https://wandb.ai/anzanzio/ep-em%20DNN/runs/xlz15f1i' target=\"_blank\">https://wandb.ai/anzanzio/ep-em%20DNN/runs/xlz15f1i</a>"
      ],
      "text/plain": [
       "<IPython.core.display.HTML object>"
      ]
     },
     "metadata": {},
     "output_type": "display_data"
    },
    {
     "name": "stdout",
     "output_type": "stream",
     "text": [
      "Epoch 1/140\n",
      "3572/3623 [============================>.] - ETA: 0s - loss: 0.6303 - accuracy: 0.7326INFO:tensorflow:Assets written to: /home/anza-tshilidzi/Desktop/Masters_material/e+ e- study/wandb/run-20240815_084713-xlz15f1i/files/model-best/assets\n"
     ]
    },
    {
     "name": "stderr",
     "output_type": "stream",
     "text": [
      "\u001b[34m\u001b[1mwandb\u001b[0m: Adding directory to artifact (/home/anza-tshilidzi/Desktop/Masters_material/e+ e- study/wandb/run-20240815_084713-xlz15f1i/files/model-best)... Done. 0.0s\n"
     ]
    },
    {
     "name": "stdout",
     "output_type": "stream",
     "text": [
      "3623/3623 [==============================] - 5s 1ms/step - loss: 0.6274 - accuracy: 0.7341 - val_loss: 0.4343 - val_accuracy: 0.8442\n",
      "Epoch 2/140\n",
      "3568/3623 [============================>.] - ETA: 0s - loss: 0.4452 - accuracy: 0.8299INFO:tensorflow:Assets written to: /home/anza-tshilidzi/Desktop/Masters_material/e+ e- study/wandb/run-20240815_084713-xlz15f1i/files/model-best/assets\n"
     ]
    },
    {
     "name": "stderr",
     "output_type": "stream",
     "text": [
      "\u001b[34m\u001b[1mwandb\u001b[0m: Adding directory to artifact (/home/anza-tshilidzi/Desktop/Masters_material/e+ e- study/wandb/run-20240815_084713-xlz15f1i/files/model-best)... Done. 0.0s\n"
     ]
    },
    {
     "name": "stdout",
     "output_type": "stream",
     "text": [
      "3623/3623 [==============================] - 4s 998us/step - loss: 0.4444 - accuracy: 0.8304 - val_loss: 0.3851 - val_accuracy: 0.8619\n",
      "Epoch 3/140\n",
      "3618/3623 [============================>.] - ETA: 0s - loss: 0.3877 - accuracy: 0.8547INFO:tensorflow:Assets written to: /home/anza-tshilidzi/Desktop/Masters_material/e+ e- study/wandb/run-20240815_084713-xlz15f1i/files/model-best/assets\n"
     ]
    },
    {
     "name": "stderr",
     "output_type": "stream",
     "text": [
      "\u001b[34m\u001b[1mwandb\u001b[0m: Adding directory to artifact (/home/anza-tshilidzi/Desktop/Masters_material/e+ e- study/wandb/run-20240815_084713-xlz15f1i/files/model-best)... Done. 0.0s\n"
     ]
    },
    {
     "name": "stdout",
     "output_type": "stream",
     "text": [
      "3623/3623 [==============================] - 4s 982us/step - loss: 0.3878 - accuracy: 0.8545 - val_loss: 0.3825 - val_accuracy: 0.8598\n",
      "Epoch 4/140\n",
      "3573/3623 [============================>.] - ETA: 0s - loss: 0.3482 - accuracy: 0.8688INFO:tensorflow:Assets written to: /home/anza-tshilidzi/Desktop/Masters_material/e+ e- study/wandb/run-20240815_084713-xlz15f1i/files/model-best/assets\n"
     ]
    },
    {
     "name": "stderr",
     "output_type": "stream",
     "text": [
      "\u001b[34m\u001b[1mwandb\u001b[0m: Adding directory to artifact (/home/anza-tshilidzi/Desktop/Masters_material/e+ e- study/wandb/run-20240815_084713-xlz15f1i/files/model-best)... Done. 0.0s\n"
     ]
    },
    {
     "name": "stdout",
     "output_type": "stream",
     "text": [
      "3623/3623 [==============================] - 4s 994us/step - loss: 0.3475 - accuracy: 0.8689 - val_loss: 0.3133 - val_accuracy: 0.8785\n",
      "Epoch 5/140\n",
      "3623/3623 [==============================] - 3s 810us/step - loss: 0.3332 - accuracy: 0.8724 - val_loss: 0.3273 - val_accuracy: 0.8707\n",
      "Epoch 6/140\n",
      "3623/3623 [==============================] - 3s 789us/step - loss: 0.3261 - accuracy: 0.8744 - val_loss: 0.3258 - val_accuracy: 0.8805\n",
      "Epoch 7/140\n",
      "3571/3623 [============================>.] - ETA: 0s - loss: 0.3187 - accuracy: 0.8768INFO:tensorflow:Assets written to: /home/anza-tshilidzi/Desktop/Masters_material/e+ e- study/wandb/run-20240815_084713-xlz15f1i/files/model-best/assets\n"
     ]
    },
    {
     "name": "stderr",
     "output_type": "stream",
     "text": [
      "\u001b[34m\u001b[1mwandb\u001b[0m: Adding directory to artifact (/home/anza-tshilidzi/Desktop/Masters_material/e+ e- study/wandb/run-20240815_084713-xlz15f1i/files/model-best)... Done. 0.0s\n"
     ]
    },
    {
     "name": "stdout",
     "output_type": "stream",
     "text": [
      "3623/3623 [==============================] - 4s 971us/step - loss: 0.3184 - accuracy: 0.8770 - val_loss: 0.3032 - val_accuracy: 0.8812\n",
      "Epoch 8/140\n",
      "3623/3623 [==============================] - 3s 768us/step - loss: 0.3131 - accuracy: 0.8786 - val_loss: 0.3112 - val_accuracy: 0.8775\n",
      "Epoch 9/140\n",
      "3555/3623 [============================>.] - ETA: 0s - loss: 0.3098 - accuracy: 0.8804INFO:tensorflow:Assets written to: /home/anza-tshilidzi/Desktop/Masters_material/e+ e- study/wandb/run-20240815_084713-xlz15f1i/files/model-best/assets\n"
     ]
    },
    {
     "name": "stderr",
     "output_type": "stream",
     "text": [
      "\u001b[34m\u001b[1mwandb\u001b[0m: Adding directory to artifact (/home/anza-tshilidzi/Desktop/Masters_material/e+ e- study/wandb/run-20240815_084713-xlz15f1i/files/model-best)... Done. 0.0s\n"
     ]
    },
    {
     "name": "stdout",
     "output_type": "stream",
     "text": [
      "3623/3623 [==============================] - 3s 953us/step - loss: 0.3097 - accuracy: 0.8804 - val_loss: 0.2986 - val_accuracy: 0.8840\n",
      "Epoch 10/140\n",
      "3623/3623 [==============================] - 3s 791us/step - loss: 0.3066 - accuracy: 0.8835 - val_loss: 0.3596 - val_accuracy: 0.8566\n",
      "Epoch 11/140\n",
      "3623/3623 [==============================] - 3s 767us/step - loss: 0.3035 - accuracy: 0.8840 - val_loss: 0.3007 - val_accuracy: 0.8845\n",
      "Epoch 12/140\n",
      "3594/3623 [============================>.] - ETA: 0s - loss: 0.2998 - accuracy: 0.8840INFO:tensorflow:Assets written to: /home/anza-tshilidzi/Desktop/Masters_material/e+ e- study/wandb/run-20240815_084713-xlz15f1i/files/model-best/assets\n"
     ]
    },
    {
     "name": "stderr",
     "output_type": "stream",
     "text": [
      "\u001b[34m\u001b[1mwandb\u001b[0m: Adding directory to artifact (/home/anza-tshilidzi/Desktop/Masters_material/e+ e- study/wandb/run-20240815_084713-xlz15f1i/files/model-best)... Done. 0.0s\n"
     ]
    },
    {
     "name": "stdout",
     "output_type": "stream",
     "text": [
      "3623/3623 [==============================] - 4s 983us/step - loss: 0.3000 - accuracy: 0.8839 - val_loss: 0.2968 - val_accuracy: 0.8849\n",
      "Epoch 13/140\n",
      "3587/3623 [============================>.] - ETA: 0s - loss: 0.2981 - accuracy: 0.8858INFO:tensorflow:Assets written to: /home/anza-tshilidzi/Desktop/Masters_material/e+ e- study/wandb/run-20240815_084713-xlz15f1i/files/model-best/assets\n"
     ]
    },
    {
     "name": "stderr",
     "output_type": "stream",
     "text": [
      "\u001b[34m\u001b[1mwandb\u001b[0m: Adding directory to artifact (/home/anza-tshilidzi/Desktop/Masters_material/e+ e- study/wandb/run-20240815_084713-xlz15f1i/files/model-best)... Done. 0.0s\n"
     ]
    },
    {
     "name": "stdout",
     "output_type": "stream",
     "text": [
      "3623/3623 [==============================] - 4s 987us/step - loss: 0.2980 - accuracy: 0.8859 - val_loss: 0.2911 - val_accuracy: 0.8867\n",
      "Epoch 14/140\n",
      "3623/3623 [==============================] - 3s 773us/step - loss: 0.2980 - accuracy: 0.8853 - val_loss: 0.3283 - val_accuracy: 0.8814\n",
      "Epoch 15/140\n",
      "3623/3623 [==============================] - 3s 800us/step - loss: 0.2957 - accuracy: 0.8863 - val_loss: 0.3174 - val_accuracy: 0.8751\n",
      "Epoch 16/140\n",
      "3623/3623 [==============================] - 3s 788us/step - loss: 0.2959 - accuracy: 0.8854 - val_loss: 0.2946 - val_accuracy: 0.8864\n",
      "Epoch 17/140\n",
      "3601/3623 [============================>.] - ETA: 0s - loss: 0.2947 - accuracy: 0.8870INFO:tensorflow:Assets written to: /home/anza-tshilidzi/Desktop/Masters_material/e+ e- study/wandb/run-20240815_084713-xlz15f1i/files/model-best/assets\n"
     ]
    },
    {
     "name": "stderr",
     "output_type": "stream",
     "text": [
      "\u001b[34m\u001b[1mwandb\u001b[0m: Adding directory to artifact (/home/anza-tshilidzi/Desktop/Masters_material/e+ e- study/wandb/run-20240815_084713-xlz15f1i/files/model-best)... Done. 0.0s\n"
     ]
    },
    {
     "name": "stdout",
     "output_type": "stream",
     "text": [
      "3623/3623 [==============================] - 3s 960us/step - loss: 0.2947 - accuracy: 0.8869 - val_loss: 0.2891 - val_accuracy: 0.8886\n",
      "Epoch 18/140\n",
      "3623/3623 [==============================] - 3s 764us/step - loss: 0.2938 - accuracy: 0.8866 - val_loss: 0.3033 - val_accuracy: 0.8821\n",
      "Epoch 19/140\n",
      "3574/3623 [============================>.] - ETA: 0s - loss: 0.2927 - accuracy: 0.8869INFO:tensorflow:Assets written to: /home/anza-tshilidzi/Desktop/Masters_material/e+ e- study/wandb/run-20240815_084713-xlz15f1i/files/model-best/assets\n"
     ]
    },
    {
     "name": "stderr",
     "output_type": "stream",
     "text": [
      "\u001b[34m\u001b[1mwandb\u001b[0m: Adding directory to artifact (/home/anza-tshilidzi/Desktop/Masters_material/e+ e- study/wandb/run-20240815_084713-xlz15f1i/files/model-best)... Done. 0.0s\n"
     ]
    },
    {
     "name": "stdout",
     "output_type": "stream",
     "text": [
      "3623/3623 [==============================] - 4s 994us/step - loss: 0.2925 - accuracy: 0.8870 - val_loss: 0.2890 - val_accuracy: 0.8879\n",
      "Epoch 20/140\n",
      "3576/3623 [============================>.] - ETA: 0s - loss: 0.2930 - accuracy: 0.8868INFO:tensorflow:Assets written to: /home/anza-tshilidzi/Desktop/Masters_material/e+ e- study/wandb/run-20240815_084713-xlz15f1i/files/model-best/assets\n"
     ]
    },
    {
     "name": "stderr",
     "output_type": "stream",
     "text": [
      "\u001b[34m\u001b[1mwandb\u001b[0m: Adding directory to artifact (/home/anza-tshilidzi/Desktop/Masters_material/e+ e- study/wandb/run-20240815_084713-xlz15f1i/files/model-best)... Done. 0.0s\n"
     ]
    },
    {
     "name": "stdout",
     "output_type": "stream",
     "text": [
      "3623/3623 [==============================] - 4s 992us/step - loss: 0.2934 - accuracy: 0.8867 - val_loss: 0.2878 - val_accuracy: 0.8878\n",
      "Epoch 21/140\n",
      "3623/3623 [==============================] - 3s 768us/step - loss: 0.2908 - accuracy: 0.8873 - val_loss: 0.3279 - val_accuracy: 0.8759\n",
      "Epoch 22/140\n",
      "3623/3623 [==============================] - 3s 759us/step - loss: 0.2913 - accuracy: 0.8869 - val_loss: 0.2928 - val_accuracy: 0.8879\n",
      "Epoch 23/140\n",
      "3623/3623 [==============================] - 3s 783us/step - loss: 0.2918 - accuracy: 0.8875 - val_loss: 0.2931 - val_accuracy: 0.8854\n",
      "Epoch 24/140\n",
      "3623/3623 [==============================] - 3s 800us/step - loss: 0.2906 - accuracy: 0.8875 - val_loss: 0.3118 - val_accuracy: 0.8790\n",
      "Epoch 25/140\n",
      "3623/3623 [==============================] - 3s 806us/step - loss: 0.2904 - accuracy: 0.8878 - val_loss: 0.2919 - val_accuracy: 0.8872\n",
      "Epoch 26/140\n",
      "3623/3623 [==============================] - 3s 843us/step - loss: 0.2902 - accuracy: 0.8876 - val_loss: 0.3185 - val_accuracy: 0.8760\n",
      "Epoch 27/140\n",
      "3623/3623 [==============================] - 3s 755us/step - loss: 0.2899 - accuracy: 0.8878 - val_loss: 0.2906 - val_accuracy: 0.8861\n",
      "Epoch 28/140\n",
      "3623/3623 [==============================] - 3s 758us/step - loss: 0.2898 - accuracy: 0.8875 - val_loss: 0.2917 - val_accuracy: 0.8874\n",
      "Epoch 29/140\n",
      "3623/3623 [==============================] - 3s 753us/step - loss: 0.2890 - accuracy: 0.8876 - val_loss: 0.2975 - val_accuracy: 0.8856\n",
      "Epoch 30/140\n",
      "3558/3623 [============================>.] - ETA: 0s - loss: 0.2894 - accuracy: 0.8877INFO:tensorflow:Assets written to: /home/anza-tshilidzi/Desktop/Masters_material/e+ e- study/wandb/run-20240815_084713-xlz15f1i/files/model-best/assets\n"
     ]
    },
    {
     "name": "stderr",
     "output_type": "stream",
     "text": [
      "\u001b[34m\u001b[1mwandb\u001b[0m: Adding directory to artifact (/home/anza-tshilidzi/Desktop/Masters_material/e+ e- study/wandb/run-20240815_084713-xlz15f1i/files/model-best)... Done. 0.0s\n"
     ]
    },
    {
     "name": "stdout",
     "output_type": "stream",
     "text": [
      "3623/3623 [==============================] - 4s 1ms/step - loss: 0.2890 - accuracy: 0.8878 - val_loss: 0.2840 - val_accuracy: 0.8891\n",
      "Epoch 31/140\n",
      "3600/3623 [============================>.] - ETA: 0s - loss: 0.2883 - accuracy: 0.8880INFO:tensorflow:Assets written to: /home/anza-tshilidzi/Desktop/Masters_material/e+ e- study/wandb/run-20240815_084713-xlz15f1i/files/model-best/assets\n"
     ]
    },
    {
     "name": "stderr",
     "output_type": "stream",
     "text": [
      "\u001b[34m\u001b[1mwandb\u001b[0m: Adding directory to artifact (/home/anza-tshilidzi/Desktop/Masters_material/e+ e- study/wandb/run-20240815_084713-xlz15f1i/files/model-best)... Done. 0.0s\n"
     ]
    },
    {
     "name": "stdout",
     "output_type": "stream",
     "text": [
      "3623/3623 [==============================] - 4s 1ms/step - loss: 0.2882 - accuracy: 0.8882 - val_loss: 0.2839 - val_accuracy: 0.8892\n",
      "Epoch 32/140\n",
      "3623/3623 [==============================] - 3s 812us/step - loss: 0.2904 - accuracy: 0.8878 - val_loss: 0.2949 - val_accuracy: 0.8843\n",
      "Epoch 33/140\n",
      "3623/3623 [==============================] - 3s 789us/step - loss: 0.2876 - accuracy: 0.8887 - val_loss: 0.2944 - val_accuracy: 0.8832\n",
      "Epoch 34/140\n",
      "3623/3623 [==============================] - 3s 816us/step - loss: 0.2883 - accuracy: 0.8882 - val_loss: 0.3205 - val_accuracy: 0.8797\n",
      "Epoch 35/140\n",
      "3623/3623 [==============================] - 3s 833us/step - loss: 0.2881 - accuracy: 0.8886 - val_loss: 0.3094 - val_accuracy: 0.8789\n",
      "Epoch 36/140\n",
      "3623/3623 [==============================] - 3s 882us/step - loss: 0.2872 - accuracy: 0.8881 - val_loss: 0.2919 - val_accuracy: 0.8856\n",
      "Epoch 37/140\n",
      "3623/3623 [==============================] - 3s 856us/step - loss: 0.2873 - accuracy: 0.8883 - val_loss: 0.2868 - val_accuracy: 0.8884\n",
      "Epoch 38/140\n",
      "3623/3623 [==============================] - 3s 865us/step - loss: 0.2873 - accuracy: 0.8879 - val_loss: 0.2891 - val_accuracy: 0.8883\n",
      "Epoch 39/140\n",
      "3623/3623 [==============================] - 3s 801us/step - loss: 0.2856 - accuracy: 0.8889 - val_loss: 0.2960 - val_accuracy: 0.8840\n",
      "Epoch 40/140\n",
      "3623/3623 [==============================] - 3s 765us/step - loss: 0.2871 - accuracy: 0.8889 - val_loss: 0.2852 - val_accuracy: 0.8885\n",
      "Epoch 41/140\n",
      "3577/3623 [============================>.] - ETA: 0s - loss: 0.2859 - accuracy: 0.8894INFO:tensorflow:Assets written to: /home/anza-tshilidzi/Desktop/Masters_material/e+ e- study/wandb/run-20240815_084713-xlz15f1i/files/model-best/assets\n"
     ]
    },
    {
     "name": "stderr",
     "output_type": "stream",
     "text": [
      "\u001b[34m\u001b[1mwandb\u001b[0m: Adding directory to artifact (/home/anza-tshilidzi/Desktop/Masters_material/e+ e- study/wandb/run-20240815_084713-xlz15f1i/files/model-best)... Done. 0.0s\n"
     ]
    },
    {
     "name": "stdout",
     "output_type": "stream",
     "text": [
      "3623/3623 [==============================] - 4s 1ms/step - loss: 0.2859 - accuracy: 0.8893 - val_loss: 0.2803 - val_accuracy: 0.8896\n",
      "Epoch 42/140\n",
      "3623/3623 [==============================] - 3s 772us/step - loss: 0.2863 - accuracy: 0.8888 - val_loss: 0.2819 - val_accuracy: 0.8891\n",
      "Epoch 43/140\n",
      "3623/3623 [==============================] - 3s 753us/step - loss: 0.2869 - accuracy: 0.8884 - val_loss: 0.2817 - val_accuracy: 0.8898\n",
      "Epoch 44/140\n",
      "3623/3623 [==============================] - 3s 767us/step - loss: 0.2855 - accuracy: 0.8891 - val_loss: 0.2852 - val_accuracy: 0.8884\n",
      "Epoch 45/140\n",
      "3623/3623 [==============================] - 3s 772us/step - loss: 0.2864 - accuracy: 0.8886 - val_loss: 0.2818 - val_accuracy: 0.8891\n",
      "Epoch 46/140\n",
      "3623/3623 [==============================] - 3s 768us/step - loss: 0.2844 - accuracy: 0.8898 - val_loss: 0.2988 - val_accuracy: 0.8821\n",
      "Epoch 47/140\n",
      "3623/3623 [==============================] - 3s 801us/step - loss: 0.2853 - accuracy: 0.8890 - val_loss: 0.2854 - val_accuracy: 0.8873\n",
      "Epoch 48/140\n",
      "3623/3623 [==============================] - 3s 762us/step - loss: 0.2858 - accuracy: 0.8893 - val_loss: 0.2864 - val_accuracy: 0.8876\n",
      "Epoch 49/140\n",
      "3623/3623 [==============================] - 3s 766us/step - loss: 0.2857 - accuracy: 0.8892 - val_loss: 0.2845 - val_accuracy: 0.8881\n",
      "Epoch 50/140\n",
      "3623/3623 [==============================] - 3s 757us/step - loss: 0.2845 - accuracy: 0.8899 - val_loss: 0.2937 - val_accuracy: 0.8851\n",
      "Epoch 51/140\n",
      "3623/3623 [==============================] - 3s 758us/step - loss: 0.2834 - accuracy: 0.8905 - val_loss: 0.2839 - val_accuracy: 0.8891\n",
      "Epoch 52/140\n",
      "3623/3623 [==============================] - 3s 773us/step - loss: 0.2848 - accuracy: 0.8892 - val_loss: 0.2813 - val_accuracy: 0.8888\n",
      "Epoch 53/140\n",
      "3623/3623 [==============================] - 3s 801us/step - loss: 0.2834 - accuracy: 0.8902 - val_loss: 0.2871 - val_accuracy: 0.8887\n",
      "Epoch 54/140\n",
      "3623/3623 [==============================] - 3s 765us/step - loss: 0.2844 - accuracy: 0.8895 - val_loss: 0.2808 - val_accuracy: 0.8891\n",
      "Epoch 55/140\n",
      "3623/3623 [==============================] - 3s 762us/step - loss: 0.2833 - accuracy: 0.8895 - val_loss: 0.2858 - val_accuracy: 0.8894\n",
      "Epoch 56/140\n",
      "3623/3623 [==============================] - 3s 772us/step - loss: 0.2839 - accuracy: 0.8895 - val_loss: 0.2828 - val_accuracy: 0.8889\n",
      "Epoch 57/140\n",
      "3623/3623 [==============================] - 3s 764us/step - loss: 0.2841 - accuracy: 0.8900 - val_loss: 0.2860 - val_accuracy: 0.8873\n",
      "Epoch 58/140\n",
      "3623/3623 [==============================] - 3s 781us/step - loss: 0.2829 - accuracy: 0.8901 - val_loss: 0.2942 - val_accuracy: 0.8810\n",
      "Epoch 59/140\n",
      "3623/3623 [==============================] - 3s 788us/step - loss: 0.2834 - accuracy: 0.8897 - val_loss: 0.2870 - val_accuracy: 0.8868\n",
      "Epoch 60/140\n",
      "3623/3623 [==============================] - 3s 775us/step - loss: 0.2838 - accuracy: 0.8897 - val_loss: 0.2808 - val_accuracy: 0.8888\n",
      "Epoch 61/140\n",
      "3623/3623 [==============================] - 3s 756us/step - loss: 0.2831 - accuracy: 0.8899 - val_loss: 0.2942 - val_accuracy: 0.8844\n",
      "Epoch 62/140\n",
      "3623/3623 [==============================] - 3s 768us/step - loss: 0.2831 - accuracy: 0.8894 - val_loss: 0.2911 - val_accuracy: 0.8854\n",
      "Epoch 63/140\n",
      "3623/3623 [==============================] - 3s 758us/step - loss: 0.2827 - accuracy: 0.8903 - val_loss: 0.3175 - val_accuracy: 0.8754\n",
      "Epoch 64/140\n",
      "3623/3623 [==============================] - 3s 806us/step - loss: 0.2818 - accuracy: 0.8903 - val_loss: 0.2878 - val_accuracy: 0.8881\n",
      "Epoch 65/140\n",
      "3623/3623 [==============================] - 3s 766us/step - loss: 0.2827 - accuracy: 0.8900 - val_loss: 0.2866 - val_accuracy: 0.8893\n",
      "Epoch 66/140\n",
      "3623/3623 [==============================] - 3s 768us/step - loss: 0.2816 - accuracy: 0.8903 - val_loss: 0.2845 - val_accuracy: 0.8885\n",
      "Epoch 67/140\n",
      "3623/3623 [==============================] - 3s 761us/step - loss: 0.2820 - accuracy: 0.8906 - val_loss: 0.2914 - val_accuracy: 0.8859\n",
      "Epoch 68/140\n",
      "3546/3623 [============================>.] - ETA: 0s - loss: 0.2808 - accuracy: 0.8904INFO:tensorflow:Assets written to: /home/anza-tshilidzi/Desktop/Masters_material/e+ e- study/wandb/run-20240815_084713-xlz15f1i/files/model-best/assets\n"
     ]
    },
    {
     "name": "stderr",
     "output_type": "stream",
     "text": [
      "\u001b[34m\u001b[1mwandb\u001b[0m: Adding directory to artifact (/home/anza-tshilidzi/Desktop/Masters_material/e+ e- study/wandb/run-20240815_084713-xlz15f1i/files/model-best)... Done. 0.0s\n"
     ]
    },
    {
     "name": "stdout",
     "output_type": "stream",
     "text": [
      "3623/3623 [==============================] - 4s 1ms/step - loss: 0.2806 - accuracy: 0.8905 - val_loss: 0.2800 - val_accuracy: 0.8915\n",
      "Epoch 69/140\n",
      "3623/3623 [==============================] - 3s 772us/step - loss: 0.2805 - accuracy: 0.8906 - val_loss: 0.2935 - val_accuracy: 0.8879\n",
      "Epoch 70/140\n",
      "3580/3623 [============================>.] - ETA: 0s - loss: 0.2794 - accuracy: 0.8916INFO:tensorflow:Assets written to: /home/anza-tshilidzi/Desktop/Masters_material/e+ e- study/wandb/run-20240815_084713-xlz15f1i/files/model-best/assets\n"
     ]
    },
    {
     "name": "stderr",
     "output_type": "stream",
     "text": [
      "\u001b[34m\u001b[1mwandb\u001b[0m: Adding directory to artifact (/home/anza-tshilidzi/Desktop/Masters_material/e+ e- study/wandb/run-20240815_084713-xlz15f1i/files/model-best)... Done. 0.0s\n"
     ]
    },
    {
     "name": "stdout",
     "output_type": "stream",
     "text": [
      "3623/3623 [==============================] - 4s 1ms/step - loss: 0.2795 - accuracy: 0.8915 - val_loss: 0.2779 - val_accuracy: 0.8899\n",
      "Epoch 71/140\n",
      "3623/3623 [==============================] - 3s 761us/step - loss: 0.2791 - accuracy: 0.8915 - val_loss: 0.2848 - val_accuracy: 0.8867\n",
      "Epoch 72/140\n",
      "3623/3623 [==============================] - 3s 760us/step - loss: 0.2790 - accuracy: 0.8916 - val_loss: 0.2810 - val_accuracy: 0.8889\n",
      "Epoch 73/140\n",
      "3623/3623 [==============================] - 3s 762us/step - loss: 0.2785 - accuracy: 0.8926 - val_loss: 0.2790 - val_accuracy: 0.8911\n",
      "Epoch 74/140\n",
      "3623/3623 [==============================] - 3s 770us/step - loss: 0.2772 - accuracy: 0.8929 - val_loss: 0.2810 - val_accuracy: 0.8922\n",
      "Epoch 75/140\n",
      "3619/3623 [============================>.] - ETA: 0s - loss: 0.2777 - accuracy: 0.8924INFO:tensorflow:Assets written to: /home/anza-tshilidzi/Desktop/Masters_material/e+ e- study/wandb/run-20240815_084713-xlz15f1i/files/model-best/assets\n"
     ]
    },
    {
     "name": "stderr",
     "output_type": "stream",
     "text": [
      "\u001b[34m\u001b[1mwandb\u001b[0m: Adding directory to artifact (/home/anza-tshilidzi/Desktop/Masters_material/e+ e- study/wandb/run-20240815_084713-xlz15f1i/files/model-best)... Done. 0.0s\n"
     ]
    },
    {
     "name": "stdout",
     "output_type": "stream",
     "text": [
      "3623/3623 [==============================] - 4s 1ms/step - loss: 0.2777 - accuracy: 0.8925 - val_loss: 0.2771 - val_accuracy: 0.8914\n",
      "Epoch 76/140\n",
      "3622/3623 [============================>.] - ETA: 0s - loss: 0.2757 - accuracy: 0.8937INFO:tensorflow:Assets written to: /home/anza-tshilidzi/Desktop/Masters_material/e+ e- study/wandb/run-20240815_084713-xlz15f1i/files/model-best/assets\n"
     ]
    },
    {
     "name": "stderr",
     "output_type": "stream",
     "text": [
      "\u001b[34m\u001b[1mwandb\u001b[0m: Adding directory to artifact (/home/anza-tshilidzi/Desktop/Masters_material/e+ e- study/wandb/run-20240815_084713-xlz15f1i/files/model-best)... Done. 0.0s\n"
     ]
    },
    {
     "name": "stdout",
     "output_type": "stream",
     "text": [
      "3623/3623 [==============================] - 4s 975us/step - loss: 0.2757 - accuracy: 0.8937 - val_loss: 0.2752 - val_accuracy: 0.8927\n",
      "Epoch 77/140\n",
      "3623/3623 [==============================] - 3s 791us/step - loss: 0.2757 - accuracy: 0.8941 - val_loss: 0.2824 - val_accuracy: 0.8893\n",
      "Epoch 78/140\n",
      "3623/3623 [==============================] - 3s 750us/step - loss: 0.2757 - accuracy: 0.8935 - val_loss: 0.2792 - val_accuracy: 0.8903\n",
      "Epoch 79/140\n",
      "3623/3623 [==============================] - 3s 757us/step - loss: 0.2754 - accuracy: 0.8940 - val_loss: 0.2861 - val_accuracy: 0.8881\n",
      "Epoch 80/140\n",
      "3623/3623 [==============================] - 3s 790us/step - loss: 0.2753 - accuracy: 0.8943 - val_loss: 0.2776 - val_accuracy: 0.8910\n",
      "Epoch 81/140\n",
      "3623/3623 [==============================] - 3s 746us/step - loss: 0.2739 - accuracy: 0.8948 - val_loss: 0.2889 - val_accuracy: 0.8879\n",
      "Epoch 82/140\n",
      "3611/3623 [============================>.] - ETA: 0s - loss: 0.2745 - accuracy: 0.8941INFO:tensorflow:Assets written to: /home/anza-tshilidzi/Desktop/Masters_material/e+ e- study/wandb/run-20240815_084713-xlz15f1i/files/model-best/assets\n"
     ]
    },
    {
     "name": "stderr",
     "output_type": "stream",
     "text": [
      "\u001b[34m\u001b[1mwandb\u001b[0m: Adding directory to artifact (/home/anza-tshilidzi/Desktop/Masters_material/e+ e- study/wandb/run-20240815_084713-xlz15f1i/files/model-best)... Done. 0.0s\n"
     ]
    },
    {
     "name": "stdout",
     "output_type": "stream",
     "text": [
      "3623/3623 [==============================] - 4s 966us/step - loss: 0.2746 - accuracy: 0.8941 - val_loss: 0.2718 - val_accuracy: 0.8947\n",
      "Epoch 83/140\n",
      "3623/3623 [==============================] - 3s 764us/step - loss: 0.2731 - accuracy: 0.8942 - val_loss: 0.2746 - val_accuracy: 0.8935\n",
      "Epoch 84/140\n",
      "3623/3623 [==============================] - 3s 757us/step - loss: 0.2736 - accuracy: 0.8940 - val_loss: 0.2772 - val_accuracy: 0.8911\n",
      "Epoch 85/140\n",
      "3623/3623 [==============================] - 3s 778us/step - loss: 0.2737 - accuracy: 0.8940 - val_loss: 0.2834 - val_accuracy: 0.8887\n",
      "Epoch 86/140\n",
      "3623/3623 [==============================] - 3s 784us/step - loss: 0.2713 - accuracy: 0.8956 - val_loss: 0.2758 - val_accuracy: 0.8932\n",
      "Epoch 87/140\n",
      "3623/3623 [==============================] - 3s 761us/step - loss: 0.2712 - accuracy: 0.8948 - val_loss: 0.2794 - val_accuracy: 0.8908\n",
      "Epoch 88/140\n",
      "3618/3623 [============================>.] - ETA: 0s - loss: 0.2702 - accuracy: 0.8950INFO:tensorflow:Assets written to: /home/anza-tshilidzi/Desktop/Masters_material/e+ e- study/wandb/run-20240815_084713-xlz15f1i/files/model-best/assets\n"
     ]
    },
    {
     "name": "stderr",
     "output_type": "stream",
     "text": [
      "\u001b[34m\u001b[1mwandb\u001b[0m: Adding directory to artifact (/home/anza-tshilidzi/Desktop/Masters_material/e+ e- study/wandb/run-20240815_084713-xlz15f1i/files/model-best)... Done. 0.0s\n"
     ]
    },
    {
     "name": "stdout",
     "output_type": "stream",
     "text": [
      "3623/3623 [==============================] - 3s 959us/step - loss: 0.2700 - accuracy: 0.8951 - val_loss: 0.2688 - val_accuracy: 0.8942\n",
      "Epoch 89/140\n",
      "3623/3623 [==============================] - 3s 757us/step - loss: 0.2702 - accuracy: 0.8951 - val_loss: 0.2698 - val_accuracy: 0.8942\n",
      "Epoch 90/140\n",
      "3623/3623 [==============================] - 3s 757us/step - loss: 0.2691 - accuracy: 0.8956 - val_loss: 0.2813 - val_accuracy: 0.8895\n",
      "Epoch 91/140\n",
      "3623/3623 [==============================] - 3s 803us/step - loss: 0.2696 - accuracy: 0.8948 - val_loss: 0.2744 - val_accuracy: 0.8932\n",
      "Epoch 92/140\n",
      "3623/3623 [==============================] - 3s 766us/step - loss: 0.2679 - accuracy: 0.8959 - val_loss: 0.2831 - val_accuracy: 0.8887\n",
      "Epoch 93/140\n",
      "3623/3623 [==============================] - 3s 747us/step - loss: 0.2667 - accuracy: 0.8962 - val_loss: 0.2865 - val_accuracy: 0.8894\n",
      "Epoch 94/140\n",
      "3623/3623 [==============================] - 3s 765us/step - loss: 0.2664 - accuracy: 0.8964 - val_loss: 0.2695 - val_accuracy: 0.8950\n",
      "Epoch 95/140\n",
      "3623/3623 [==============================] - 3s 757us/step - loss: 0.2653 - accuracy: 0.8967 - val_loss: 0.2731 - val_accuracy: 0.8931\n",
      "Epoch 96/140\n",
      "3623/3623 [==============================] - 3s 760us/step - loss: 0.2660 - accuracy: 0.8968 - val_loss: 0.2709 - val_accuracy: 0.8938\n",
      "Epoch 97/140\n",
      "3623/3623 [==============================] - 3s 792us/step - loss: 0.2650 - accuracy: 0.8963 - val_loss: 0.2697 - val_accuracy: 0.8943\n",
      "Epoch 98/140\n",
      "3556/3623 [============================>.] - ETA: 0s - loss: 0.2644 - accuracy: 0.8970INFO:tensorflow:Assets written to: /home/anza-tshilidzi/Desktop/Masters_material/e+ e- study/wandb/run-20240815_084713-xlz15f1i/files/model-best/assets\n"
     ]
    },
    {
     "name": "stderr",
     "output_type": "stream",
     "text": [
      "\u001b[34m\u001b[1mwandb\u001b[0m: Adding directory to artifact (/home/anza-tshilidzi/Desktop/Masters_material/e+ e- study/wandb/run-20240815_084713-xlz15f1i/files/model-best)... Done. 0.0s\n"
     ]
    },
    {
     "name": "stdout",
     "output_type": "stream",
     "text": [
      "3623/3623 [==============================] - 4s 1000us/step - loss: 0.2644 - accuracy: 0.8969 - val_loss: 0.2627 - val_accuracy: 0.8957\n",
      "Epoch 99/140\n",
      "3623/3623 [==============================] - 3s 770us/step - loss: 0.2653 - accuracy: 0.8962 - val_loss: 0.2653 - val_accuracy: 0.8955\n",
      "Epoch 100/140\n",
      "3623/3623 [==============================] - 3s 769us/step - loss: 0.2650 - accuracy: 0.8962 - val_loss: 0.2763 - val_accuracy: 0.8915\n",
      "Epoch 101/140\n",
      "3623/3623 [==============================] - 3s 763us/step - loss: 0.2635 - accuracy: 0.8968 - val_loss: 0.2733 - val_accuracy: 0.8937\n",
      "Epoch 102/140\n",
      "3623/3623 [==============================] - 3s 788us/step - loss: 0.2638 - accuracy: 0.8971 - val_loss: 0.2650 - val_accuracy: 0.8957\n",
      "Epoch 103/140\n",
      "3623/3623 [==============================] - 3s 766us/step - loss: 0.2636 - accuracy: 0.8978 - val_loss: 0.2717 - val_accuracy: 0.8942\n",
      "Epoch 104/140\n",
      "3623/3623 [==============================] - 3s 775us/step - loss: 0.2632 - accuracy: 0.8970 - val_loss: 0.2706 - val_accuracy: 0.8934\n",
      "Epoch 105/140\n",
      "3623/3623 [==============================] - 3s 841us/step - loss: 0.2632 - accuracy: 0.8976 - val_loss: 0.2719 - val_accuracy: 0.8934\n",
      "Epoch 106/140\n",
      "3623/3623 [==============================] - 3s 820us/step - loss: 0.2626 - accuracy: 0.8980 - val_loss: 0.2729 - val_accuracy: 0.8908\n",
      "Epoch 107/140\n",
      "3623/3623 [==============================] - 3s 810us/step - loss: 0.2634 - accuracy: 0.8968 - val_loss: 0.2667 - val_accuracy: 0.8947\n",
      "Epoch 108/140\n",
      "3623/3623 [==============================] - 3s 900us/step - loss: 0.2633 - accuracy: 0.8968 - val_loss: 0.2720 - val_accuracy: 0.8943\n",
      "Epoch 109/140\n",
      "3623/3623 [==============================] - 3s 866us/step - loss: 0.2616 - accuracy: 0.8976 - val_loss: 0.2641 - val_accuracy: 0.8949\n",
      "Epoch 110/140\n",
      "3623/3623 [==============================] - 3s 783us/step - loss: 0.2621 - accuracy: 0.8973 - val_loss: 0.2691 - val_accuracy: 0.8944\n",
      "Epoch 111/140\n",
      "3623/3623 [==============================] - 3s 772us/step - loss: 0.2618 - accuracy: 0.8978 - val_loss: 0.2664 - val_accuracy: 0.8943\n",
      "Epoch 112/140\n",
      "3623/3623 [==============================] - 3s 766us/step - loss: 0.2613 - accuracy: 0.8978 - val_loss: 0.2698 - val_accuracy: 0.8966\n",
      "Epoch 113/140\n",
      "3623/3623 [==============================] - 3s 810us/step - loss: 0.2616 - accuracy: 0.8971 - val_loss: 0.2645 - val_accuracy: 0.8967\n",
      "Epoch 114/140\n",
      "3623/3623 [==============================] - 3s 762us/step - loss: 0.2619 - accuracy: 0.8976 - val_loss: 0.2739 - val_accuracy: 0.8920\n",
      "Epoch 115/140\n",
      "3623/3623 [==============================] - 3s 770us/step - loss: 0.2617 - accuracy: 0.8971 - val_loss: 0.2862 - val_accuracy: 0.8883\n",
      "Epoch 116/140\n",
      "3623/3623 [==============================] - 3s 765us/step - loss: 0.2611 - accuracy: 0.8977 - val_loss: 0.2717 - val_accuracy: 0.8936\n",
      "Epoch 117/140\n",
      "3623/3623 [==============================] - 3s 769us/step - loss: 0.2607 - accuracy: 0.8974 - val_loss: 0.2792 - val_accuracy: 0.8916\n",
      "Epoch 118/140\n",
      "3623/3623 [==============================] - 3s 776us/step - loss: 0.2618 - accuracy: 0.8976 - val_loss: 0.2656 - val_accuracy: 0.8964\n",
      "Epoch 119/140\n",
      "3623/3623 [==============================] - 3s 783us/step - loss: 0.2608 - accuracy: 0.8971 - val_loss: 0.2717 - val_accuracy: 0.8908\n",
      "Epoch 120/140\n",
      "3623/3623 [==============================] - 3s 777us/step - loss: 0.2602 - accuracy: 0.8980 - val_loss: 0.2639 - val_accuracy: 0.8959\n",
      "Epoch 121/140\n",
      "3623/3623 [==============================] - 3s 769us/step - loss: 0.2610 - accuracy: 0.8974 - val_loss: 0.2710 - val_accuracy: 0.8929\n",
      "Epoch 122/140\n",
      "3611/3623 [============================>.] - ETA: 0s - loss: 0.2608 - accuracy: 0.8979INFO:tensorflow:Assets written to: /home/anza-tshilidzi/Desktop/Masters_material/e+ e- study/wandb/run-20240815_084713-xlz15f1i/files/model-best/assets\n"
     ]
    },
    {
     "name": "stderr",
     "output_type": "stream",
     "text": [
      "\u001b[34m\u001b[1mwandb\u001b[0m: Adding directory to artifact (/home/anza-tshilidzi/Desktop/Masters_material/e+ e- study/wandb/run-20240815_084713-xlz15f1i/files/model-best)... Done. 0.0s\n"
     ]
    },
    {
     "name": "stdout",
     "output_type": "stream",
     "text": [
      "3623/3623 [==============================] - 4s 1ms/step - loss: 0.2610 - accuracy: 0.8979 - val_loss: 0.2621 - val_accuracy: 0.8957\n",
      "Epoch 123/140\n",
      "3623/3623 [==============================] - 3s 759us/step - loss: 0.2589 - accuracy: 0.8986 - val_loss: 0.2730 - val_accuracy: 0.8943\n",
      "Epoch 124/140\n",
      "3623/3623 [==============================] - 3s 798us/step - loss: 0.2597 - accuracy: 0.8980 - val_loss: 0.2658 - val_accuracy: 0.8951\n",
      "Epoch 125/140\n",
      "3623/3623 [==============================] - 3s 766us/step - loss: 0.2603 - accuracy: 0.8980 - val_loss: 0.2851 - val_accuracy: 0.8877\n",
      "Epoch 126/140\n",
      "3609/3623 [============================>.] - ETA: 0s - loss: 0.2602 - accuracy: 0.8981INFO:tensorflow:Assets written to: /home/anza-tshilidzi/Desktop/Masters_material/e+ e- study/wandb/run-20240815_084713-xlz15f1i/files/model-best/assets\n"
     ]
    },
    {
     "name": "stderr",
     "output_type": "stream",
     "text": [
      "\u001b[34m\u001b[1mwandb\u001b[0m: Adding directory to artifact (/home/anza-tshilidzi/Desktop/Masters_material/e+ e- study/wandb/run-20240815_084713-xlz15f1i/files/model-best)... Done. 0.0s\n"
     ]
    },
    {
     "name": "stdout",
     "output_type": "stream",
     "text": [
      "3623/3623 [==============================] - 4s 979us/step - loss: 0.2601 - accuracy: 0.8982 - val_loss: 0.2621 - val_accuracy: 0.8988\n",
      "Epoch 127/140\n",
      "3623/3623 [==============================] - 3s 761us/step - loss: 0.2598 - accuracy: 0.8980 - val_loss: 0.2679 - val_accuracy: 0.8953\n",
      "Epoch 128/140\n",
      "3623/3623 [==============================] - 3s 782us/step - loss: 0.2593 - accuracy: 0.8987 - val_loss: 0.2820 - val_accuracy: 0.8909\n",
      "Epoch 129/140\n",
      "3623/3623 [==============================] - 3s 763us/step - loss: 0.2607 - accuracy: 0.8983 - val_loss: 0.2799 - val_accuracy: 0.8925\n",
      "Epoch 130/140\n",
      "3623/3623 [==============================] - 3s 800us/step - loss: 0.2586 - accuracy: 0.8984 - val_loss: 0.2760 - val_accuracy: 0.8911\n",
      "Epoch 131/140\n",
      "3623/3623 [==============================] - 3s 761us/step - loss: 0.2594 - accuracy: 0.8990 - val_loss: 0.2879 - val_accuracy: 0.8896\n",
      "Epoch 132/140\n",
      "3623/3623 [==============================] - 3s 779us/step - loss: 0.2590 - accuracy: 0.8986 - val_loss: 0.2702 - val_accuracy: 0.8946\n",
      "Epoch 133/140\n",
      "3623/3623 [==============================] - 3s 768us/step - loss: 0.2589 - accuracy: 0.8982 - val_loss: 0.2642 - val_accuracy: 0.8967\n",
      "Epoch 134/140\n",
      "3546/3623 [============================>.] - ETA: 0s - loss: 0.2589 - accuracy: 0.8983INFO:tensorflow:Assets written to: /home/anza-tshilidzi/Desktop/Masters_material/e+ e- study/wandb/run-20240815_084713-xlz15f1i/files/model-best/assets\n"
     ]
    },
    {
     "name": "stderr",
     "output_type": "stream",
     "text": [
      "\u001b[34m\u001b[1mwandb\u001b[0m: Adding directory to artifact (/home/anza-tshilidzi/Desktop/Masters_material/e+ e- study/wandb/run-20240815_084713-xlz15f1i/files/model-best)... Done. 0.0s\n"
     ]
    },
    {
     "name": "stdout",
     "output_type": "stream",
     "text": [
      "3623/3623 [==============================] - 4s 1ms/step - loss: 0.2590 - accuracy: 0.8982 - val_loss: 0.2605 - val_accuracy: 0.8976\n",
      "Epoch 135/140\n",
      "3623/3623 [==============================] - 3s 819us/step - loss: 0.2586 - accuracy: 0.8989 - val_loss: 0.2713 - val_accuracy: 0.8935\n",
      "Epoch 136/140\n",
      "3623/3623 [==============================] - 3s 769us/step - loss: 0.2591 - accuracy: 0.8986 - val_loss: 0.2674 - val_accuracy: 0.8940\n",
      "Epoch 137/140\n",
      "3623/3623 [==============================] - 3s 766us/step - loss: 0.2597 - accuracy: 0.8980 - val_loss: 0.2626 - val_accuracy: 0.8975\n",
      "Epoch 138/140\n",
      "3597/3623 [============================>.] - ETA: 0s - loss: 0.2590 - accuracy: 0.8988INFO:tensorflow:Assets written to: /home/anza-tshilidzi/Desktop/Masters_material/e+ e- study/wandb/run-20240815_084713-xlz15f1i/files/model-best/assets\n"
     ]
    },
    {
     "name": "stderr",
     "output_type": "stream",
     "text": [
      "\u001b[34m\u001b[1mwandb\u001b[0m: Adding directory to artifact (/home/anza-tshilidzi/Desktop/Masters_material/e+ e- study/wandb/run-20240815_084713-xlz15f1i/files/model-best)... Done. 0.0s\n"
     ]
    },
    {
     "name": "stdout",
     "output_type": "stream",
     "text": [
      "3623/3623 [==============================] - 7s 2ms/step - loss: 0.2590 - accuracy: 0.8988 - val_loss: 0.2604 - val_accuracy: 0.8980\n",
      "Epoch 139/140\n",
      "3623/3623 [==============================] - 3s 799us/step - loss: 0.2586 - accuracy: 0.8982 - val_loss: 0.2651 - val_accuracy: 0.8972\n",
      "Epoch 140/140\n",
      "3623/3623 [==============================] - 3s 805us/step - loss: 0.2586 - accuracy: 0.8987 - val_loss: 0.2743 - val_accuracy: 0.8928\n"
     ]
    },
    {
     "data": {
      "application/vnd.jupyter.widget-view+json": {
       "model_id": "",
       "version_major": 2,
       "version_minor": 0
      },
      "text/plain": [
       "VBox(children=(Label(value='3.154 MB of 3.154 MB uploaded (0.190 MB deduped)\\r'), FloatProgress(value=1.0, max…"
      ]
     },
     "metadata": {},
     "output_type": "display_data"
    },
    {
     "data": {
      "text/html": [
       "W&B sync reduced upload amount by 5.8%"
      ],
      "text/plain": [
       "<IPython.core.display.HTML object>"
      ]
     },
     "metadata": {},
     "output_type": "display_data"
    },
    {
     "data": {
      "text/html": [
       "<style>\n",
       "    table.wandb td:nth-child(1) { padding: 0 10px; text-align: left ; width: auto;} td:nth-child(2) {text-align: left ; width: 100%}\n",
       "    .wandb-row { display: flex; flex-direction: row; flex-wrap: wrap; justify-content: flex-start; width: 100% }\n",
       "    .wandb-col { display: flex; flex-direction: column; flex-basis: 100%; flex: 1; padding: 10px; }\n",
       "    </style>\n",
       "<div class=\"wandb-row\"><div class=\"wandb-col\"><h3>Run history:</h3><br/><table class=\"wandb\"><tr><td>accuracy</td><td>▁▅▆▆▇▇▇▇▇▇▇▇▇▇▇▇▇▇▇▇▇▇▇█████████████████</td></tr><tr><td>epoch</td><td>▁▁▁▂▂▂▂▂▂▃▃▃▃▃▃▄▄▄▄▄▅▅▅▅▅▅▆▆▆▆▆▆▇▇▇▇▇███</td></tr><tr><td>loss</td><td>█▄▃▃▂▂▂▂▂▂▂▂▂▂▂▂▂▂▂▂▂▂▂▂▁▁▁▁▁▁▁▁▁▁▁▁▁▁▁▁</td></tr><tr><td>val_accuracy</td><td>▁▄▄▆▆▅▆▄▇▆▆▆▆▆▆▇▅▆▆▇▆▇▇█▇▇█▇▇▇██▇███▇██▇</td></tr><tr><td>val_loss</td><td>█▄▄▃▃▃▃▄▂▃▃▂▂▂▃▂▃▃▂▂▂▂▂▂▂▂▁▂▂▁▂▁▂▁▁▁▂▁▁▂</td></tr></table><br/></div><div class=\"wandb-col\"><h3>Run summary:</h3><br/><table class=\"wandb\"><tr><td>accuracy</td><td>0.89866</td></tr><tr><td>best_epoch</td><td>137</td></tr><tr><td>best_val_loss</td><td>0.26044</td></tr><tr><td>epoch</td><td>139</td></tr><tr><td>loss</td><td>0.25857</td></tr><tr><td>val_accuracy</td><td>0.89281</td></tr><tr><td>val_loss</td><td>0.27433</td></tr></table><br/></div></div>"
      ],
      "text/plain": [
       "<IPython.core.display.HTML object>"
      ]
     },
     "metadata": {},
     "output_type": "display_data"
    },
    {
     "data": {
      "text/html": [
       " View run <strong style=\"color:#cdcd00\">lilac-sweep-11</strong> at: <a href='https://wandb.ai/anzanzio/ep-em%20DNN/runs/xlz15f1i' target=\"_blank\">https://wandb.ai/anzanzio/ep-em%20DNN/runs/xlz15f1i</a><br/> View project at: <a href='https://wandb.ai/anzanzio/ep-em%20DNN' target=\"_blank\">https://wandb.ai/anzanzio/ep-em%20DNN</a><br/>Synced 6 W&B file(s), 1 media file(s), 100 artifact file(s) and 1 other file(s)"
      ],
      "text/plain": [
       "<IPython.core.display.HTML object>"
      ]
     },
     "metadata": {},
     "output_type": "display_data"
    },
    {
     "data": {
      "text/html": [
       "Find logs at: <code>./wandb/run-20240815_084713-xlz15f1i/logs</code>"
      ],
      "text/plain": [
       "<IPython.core.display.HTML object>"
      ]
     },
     "metadata": {},
     "output_type": "display_data"
    },
    {
     "data": {
      "text/html": [
       "The new W&B backend becomes opt-out in version 0.18.0; try it out with `wandb.require(\"core\")`! See https://wandb.me/wandb-core for more information."
      ],
      "text/plain": [
       "<IPython.core.display.HTML object>"
      ]
     },
     "metadata": {},
     "output_type": "display_data"
    },
    {
     "name": "stderr",
     "output_type": "stream",
     "text": [
      "\u001b[34m\u001b[1mwandb\u001b[0m: Agent Starting Run: rj7h9sem with config:\n",
      "\u001b[34m\u001b[1mwandb\u001b[0m: \tbatch_size: 25\n",
      "\u001b[34m\u001b[1mwandb\u001b[0m: \tepochs: 150\n",
      "\u001b[34m\u001b[1mwandb\u001b[0m: \tlayers: 22\n",
      "\u001b[34m\u001b[1mwandb\u001b[0m: \tlearning_rate: 0.000784129518556961\n",
      "\u001b[34m\u001b[1mwandb\u001b[0m: \tneurons: 32\n",
      "\u001b[34m\u001b[1mwandb\u001b[0m: \toptimizer: adamax\n"
     ]
    },
    {
     "data": {
      "text/html": [
       "Tracking run with wandb version 0.17.6"
      ],
      "text/plain": [
       "<IPython.core.display.HTML object>"
      ]
     },
     "metadata": {},
     "output_type": "display_data"
    },
    {
     "data": {
      "text/html": [
       "Run data is saved locally in <code>/home/anza-tshilidzi/Desktop/Masters_material/e+ e- study/wandb/run-20240815_085439-rj7h9sem</code>"
      ],
      "text/plain": [
       "<IPython.core.display.HTML object>"
      ]
     },
     "metadata": {},
     "output_type": "display_data"
    },
    {
     "data": {
      "text/html": [
       "Syncing run <strong><a href='https://wandb.ai/anzanzio/ep-em%20DNN/runs/rj7h9sem' target=\"_blank\">scarlet-sweep-12</a></strong> to <a href='https://wandb.ai/anzanzio/ep-em%20DNN' target=\"_blank\">Weights & Biases</a> (<a href='https://wandb.me/run' target=\"_blank\">docs</a>)<br/>Sweep page: <a href='https://wandb.ai/anzanzio/ep-em%20DNN/sweeps/lg5h93ch' target=\"_blank\">https://wandb.ai/anzanzio/ep-em%20DNN/sweeps/lg5h93ch</a>"
      ],
      "text/plain": [
       "<IPython.core.display.HTML object>"
      ]
     },
     "metadata": {},
     "output_type": "display_data"
    },
    {
     "data": {
      "text/html": [
       " View project at <a href='https://wandb.ai/anzanzio/ep-em%20DNN' target=\"_blank\">https://wandb.ai/anzanzio/ep-em%20DNN</a>"
      ],
      "text/plain": [
       "<IPython.core.display.HTML object>"
      ]
     },
     "metadata": {},
     "output_type": "display_data"
    },
    {
     "data": {
      "text/html": [
       " View sweep at <a href='https://wandb.ai/anzanzio/ep-em%20DNN/sweeps/lg5h93ch' target=\"_blank\">https://wandb.ai/anzanzio/ep-em%20DNN/sweeps/lg5h93ch</a>"
      ],
      "text/plain": [
       "<IPython.core.display.HTML object>"
      ]
     },
     "metadata": {},
     "output_type": "display_data"
    },
    {
     "data": {
      "text/html": [
       " View run at <a href='https://wandb.ai/anzanzio/ep-em%20DNN/runs/rj7h9sem' target=\"_blank\">https://wandb.ai/anzanzio/ep-em%20DNN/runs/rj7h9sem</a>"
      ],
      "text/plain": [
       "<IPython.core.display.HTML object>"
      ]
     },
     "metadata": {},
     "output_type": "display_data"
    },
    {
     "name": "stdout",
     "output_type": "stream",
     "text": [
      "Epoch 1/150\n",
      "4135/4203 [============================>.] - ETA: 0s - loss: 0.6362 - accuracy: 0.7575INFO:tensorflow:Assets written to: /home/anza-tshilidzi/Desktop/Masters_material/e+ e- study/wandb/run-20240815_085439-rj7h9sem/files/model-best/assets\n"
     ]
    },
    {
     "name": "stderr",
     "output_type": "stream",
     "text": [
      "\u001b[34m\u001b[1mwandb\u001b[0m: Adding directory to artifact (/home/anza-tshilidzi/Desktop/Masters_material/e+ e- study/wandb/run-20240815_085439-rj7h9sem/files/model-best)... Done. 0.0s\n"
     ]
    },
    {
     "name": "stdout",
     "output_type": "stream",
     "text": [
      "4203/4203 [==============================] - 7s 2ms/step - loss: 0.6341 - accuracy: 0.7581 - val_loss: 0.4810 - val_accuracy: 0.7980\n",
      "Epoch 2/150\n",
      "4175/4203 [============================>.] - ETA: 0s - loss: 0.4381 - accuracy: 0.8286INFO:tensorflow:Assets written to: /home/anza-tshilidzi/Desktop/Masters_material/e+ e- study/wandb/run-20240815_085439-rj7h9sem/files/model-best/assets\n"
     ]
    },
    {
     "name": "stderr",
     "output_type": "stream",
     "text": [
      "\u001b[34m\u001b[1mwandb\u001b[0m: Adding directory to artifact (/home/anza-tshilidzi/Desktop/Masters_material/e+ e- study/wandb/run-20240815_085439-rj7h9sem/files/model-best)... Done. 0.0s\n"
     ]
    },
    {
     "name": "stdout",
     "output_type": "stream",
     "text": [
      "4203/4203 [==============================] - 5s 1ms/step - loss: 0.4376 - accuracy: 0.8288 - val_loss: 0.3857 - val_accuracy: 0.8443\n",
      "Epoch 3/150\n",
      "4141/4203 [============================>.] - ETA: 0s - loss: 0.3709 - accuracy: 0.8584INFO:tensorflow:Assets written to: /home/anza-tshilidzi/Desktop/Masters_material/e+ e- study/wandb/run-20240815_085439-rj7h9sem/files/model-best/assets\n"
     ]
    },
    {
     "name": "stderr",
     "output_type": "stream",
     "text": [
      "\u001b[34m\u001b[1mwandb\u001b[0m: Adding directory to artifact (/home/anza-tshilidzi/Desktop/Masters_material/e+ e- study/wandb/run-20240815_085439-rj7h9sem/files/model-best)... Done. 0.0s\n"
     ]
    },
    {
     "name": "stdout",
     "output_type": "stream",
     "text": [
      "4203/4203 [==============================] - 4s 960us/step - loss: 0.3706 - accuracy: 0.8584 - val_loss: 0.3352 - val_accuracy: 0.8708\n",
      "Epoch 4/150\n",
      "4146/4203 [============================>.] - ETA: 0s - loss: 0.3468 - accuracy: 0.8672INFO:tensorflow:Assets written to: /home/anza-tshilidzi/Desktop/Masters_material/e+ e- study/wandb/run-20240815_085439-rj7h9sem/files/model-best/assets\n"
     ]
    },
    {
     "name": "stderr",
     "output_type": "stream",
     "text": [
      "\u001b[34m\u001b[1mwandb\u001b[0m: Adding directory to artifact (/home/anza-tshilidzi/Desktop/Masters_material/e+ e- study/wandb/run-20240815_085439-rj7h9sem/files/model-best)... Done. 0.0s\n"
     ]
    },
    {
     "name": "stdout",
     "output_type": "stream",
     "text": [
      "4203/4203 [==============================] - 5s 1ms/step - loss: 0.3468 - accuracy: 0.8673 - val_loss: 0.3338 - val_accuracy: 0.8667\n",
      "Epoch 5/150\n",
      "4165/4203 [============================>.] - ETA: 0s - loss: 0.3338 - accuracy: 0.8707INFO:tensorflow:Assets written to: /home/anza-tshilidzi/Desktop/Masters_material/e+ e- study/wandb/run-20240815_085439-rj7h9sem/files/model-best/assets\n"
     ]
    },
    {
     "name": "stderr",
     "output_type": "stream",
     "text": [
      "\u001b[34m\u001b[1mwandb\u001b[0m: Adding directory to artifact (/home/anza-tshilidzi/Desktop/Masters_material/e+ e- study/wandb/run-20240815_085439-rj7h9sem/files/model-best)... Done. 0.0s\n"
     ]
    },
    {
     "name": "stdout",
     "output_type": "stream",
     "text": [
      "4203/4203 [==============================] - 5s 1ms/step - loss: 0.3341 - accuracy: 0.8705 - val_loss: 0.3147 - val_accuracy: 0.8790\n",
      "Epoch 6/150\n",
      "4175/4203 [============================>.] - ETA: 0s - loss: 0.3258 - accuracy: 0.8745INFO:tensorflow:Assets written to: /home/anza-tshilidzi/Desktop/Masters_material/e+ e- study/wandb/run-20240815_085439-rj7h9sem/files/model-best/assets\n"
     ]
    },
    {
     "name": "stderr",
     "output_type": "stream",
     "text": [
      "\u001b[34m\u001b[1mwandb\u001b[0m: Adding directory to artifact (/home/anza-tshilidzi/Desktop/Masters_material/e+ e- study/wandb/run-20240815_085439-rj7h9sem/files/model-best)... Done. 0.0s\n"
     ]
    },
    {
     "name": "stdout",
     "output_type": "stream",
     "text": [
      "4203/4203 [==============================] - 4s 947us/step - loss: 0.3260 - accuracy: 0.8745 - val_loss: 0.3106 - val_accuracy: 0.8822\n",
      "Epoch 7/150\n",
      "4203/4203 [==============================] - 3s 760us/step - loss: 0.3201 - accuracy: 0.8764 - val_loss: 0.3920 - val_accuracy: 0.8423\n",
      "Epoch 8/150\n",
      "4144/4203 [============================>.] - ETA: 0s - loss: 0.3161 - accuracy: 0.8785INFO:tensorflow:Assets written to: /home/anza-tshilidzi/Desktop/Masters_material/e+ e- study/wandb/run-20240815_085439-rj7h9sem/files/model-best/assets\n"
     ]
    },
    {
     "name": "stderr",
     "output_type": "stream",
     "text": [
      "\u001b[34m\u001b[1mwandb\u001b[0m: Adding directory to artifact (/home/anza-tshilidzi/Desktop/Masters_material/e+ e- study/wandb/run-20240815_085439-rj7h9sem/files/model-best)... Done. 0.0s\n"
     ]
    },
    {
     "name": "stdout",
     "output_type": "stream",
     "text": [
      "4203/4203 [==============================] - 4s 992us/step - loss: 0.3163 - accuracy: 0.8784 - val_loss: 0.2994 - val_accuracy: 0.8852\n",
      "Epoch 9/150\n",
      "4203/4203 [==============================] - 3s 745us/step - loss: 0.3160 - accuracy: 0.8785 - val_loss: 0.3048 - val_accuracy: 0.8804\n",
      "Epoch 10/150\n",
      "4203/4203 [==============================] - 4s 847us/step - loss: 0.3106 - accuracy: 0.8812 - val_loss: 0.3000 - val_accuracy: 0.8834\n",
      "Epoch 11/150\n",
      "4203/4203 [==============================] - 3s 787us/step - loss: 0.3090 - accuracy: 0.8814 - val_loss: 0.3049 - val_accuracy: 0.8813\n",
      "Epoch 12/150\n",
      "4203/4203 [==============================] - 3s 782us/step - loss: 0.3097 - accuracy: 0.8809 - val_loss: 0.3017 - val_accuracy: 0.8865\n",
      "Epoch 13/150\n",
      "4203/4203 [==============================] - 3s 777us/step - loss: 0.3063 - accuracy: 0.8822 - val_loss: 0.3031 - val_accuracy: 0.8852\n",
      "Epoch 14/150\n",
      "4203/4203 [==============================] - 3s 755us/step - loss: 0.3056 - accuracy: 0.8831 - val_loss: 0.3128 - val_accuracy: 0.8793\n",
      "Epoch 15/150\n",
      "4203/4203 [==============================] - 3s 785us/step - loss: 0.3039 - accuracy: 0.8834 - val_loss: 0.3049 - val_accuracy: 0.8859\n",
      "Epoch 16/150\n",
      "4203/4203 [==============================] - 3s 771us/step - loss: 0.3023 - accuracy: 0.8844 - val_loss: 0.3127 - val_accuracy: 0.8848\n",
      "Epoch 17/150\n",
      "4203/4203 [==============================] - 3s 753us/step - loss: 0.3039 - accuracy: 0.8837 - val_loss: 0.3181 - val_accuracy: 0.8836\n",
      "Epoch 18/150\n",
      "4164/4203 [============================>.] - ETA: 0s - loss: 0.3016 - accuracy: 0.8846INFO:tensorflow:Assets written to: /home/anza-tshilidzi/Desktop/Masters_material/e+ e- study/wandb/run-20240815_085439-rj7h9sem/files/model-best/assets\n"
     ]
    },
    {
     "name": "stderr",
     "output_type": "stream",
     "text": [
      "\u001b[34m\u001b[1mwandb\u001b[0m: Adding directory to artifact (/home/anza-tshilidzi/Desktop/Masters_material/e+ e- study/wandb/run-20240815_085439-rj7h9sem/files/model-best)... Done. 0.0s\n"
     ]
    },
    {
     "name": "stdout",
     "output_type": "stream",
     "text": [
      "4203/4203 [==============================] - 4s 984us/step - loss: 0.3015 - accuracy: 0.8846 - val_loss: 0.2929 - val_accuracy: 0.8871\n",
      "Epoch 19/150\n",
      "4203/4203 [==============================] - 3s 764us/step - loss: 0.3018 - accuracy: 0.8847 - val_loss: 0.3170 - val_accuracy: 0.8748\n",
      "Epoch 20/150\n",
      "4203/4203 [==============================] - 3s 743us/step - loss: 0.2993 - accuracy: 0.8849 - val_loss: 0.2938 - val_accuracy: 0.8875\n",
      "Epoch 21/150\n",
      "4203/4203 [==============================] - 3s 739us/step - loss: 0.2993 - accuracy: 0.8846 - val_loss: 0.3086 - val_accuracy: 0.8855\n",
      "Epoch 22/150\n",
      "4203/4203 [==============================] - 3s 751us/step - loss: 0.2992 - accuracy: 0.8850 - val_loss: 0.3127 - val_accuracy: 0.8847\n",
      "Epoch 23/150\n",
      "4148/4203 [============================>.] - ETA: 0s - loss: 0.2977 - accuracy: 0.8857INFO:tensorflow:Assets written to: /home/anza-tshilidzi/Desktop/Masters_material/e+ e- study/wandb/run-20240815_085439-rj7h9sem/files/model-best/assets\n"
     ]
    },
    {
     "name": "stderr",
     "output_type": "stream",
     "text": [
      "\u001b[34m\u001b[1mwandb\u001b[0m: Adding directory to artifact (/home/anza-tshilidzi/Desktop/Masters_material/e+ e- study/wandb/run-20240815_085439-rj7h9sem/files/model-best)... Done. 0.0s\n"
     ]
    },
    {
     "name": "stdout",
     "output_type": "stream",
     "text": [
      "4203/4203 [==============================] - 4s 1ms/step - loss: 0.2978 - accuracy: 0.8856 - val_loss: 0.2925 - val_accuracy: 0.8882\n",
      "Epoch 24/150\n",
      "4169/4203 [============================>.] - ETA: 0s - loss: 0.2963 - accuracy: 0.8863INFO:tensorflow:Assets written to: /home/anza-tshilidzi/Desktop/Masters_material/e+ e- study/wandb/run-20240815_085439-rj7h9sem/files/model-best/assets\n"
     ]
    },
    {
     "name": "stderr",
     "output_type": "stream",
     "text": [
      "\u001b[34m\u001b[1mwandb\u001b[0m: Adding directory to artifact (/home/anza-tshilidzi/Desktop/Masters_material/e+ e- study/wandb/run-20240815_085439-rj7h9sem/files/model-best)... Done. 0.0s\n"
     ]
    },
    {
     "name": "stdout",
     "output_type": "stream",
     "text": [
      "4203/4203 [==============================] - 4s 974us/step - loss: 0.2964 - accuracy: 0.8863 - val_loss: 0.2909 - val_accuracy: 0.8890\n",
      "Epoch 25/150\n",
      "4127/4203 [============================>.] - ETA: 0s - loss: 0.2955 - accuracy: 0.8860INFO:tensorflow:Assets written to: /home/anza-tshilidzi/Desktop/Masters_material/e+ e- study/wandb/run-20240815_085439-rj7h9sem/files/model-best/assets\n"
     ]
    },
    {
     "name": "stderr",
     "output_type": "stream",
     "text": [
      "\u001b[34m\u001b[1mwandb\u001b[0m: Adding directory to artifact (/home/anza-tshilidzi/Desktop/Masters_material/e+ e- study/wandb/run-20240815_085439-rj7h9sem/files/model-best)... Done. 0.0s\n"
     ]
    },
    {
     "name": "stdout",
     "output_type": "stream",
     "text": [
      "4203/4203 [==============================] - 4s 913us/step - loss: 0.2956 - accuracy: 0.8861 - val_loss: 0.2882 - val_accuracy: 0.8882\n",
      "Epoch 26/150\n",
      "4203/4203 [==============================] - 3s 742us/step - loss: 0.2958 - accuracy: 0.8865 - val_loss: 0.3135 - val_accuracy: 0.8823\n",
      "Epoch 27/150\n",
      "4203/4203 [==============================] - 3s 763us/step - loss: 0.2956 - accuracy: 0.8860 - val_loss: 0.2985 - val_accuracy: 0.8840\n",
      "Epoch 28/150\n",
      "4203/4203 [==============================] - 3s 738us/step - loss: 0.2967 - accuracy: 0.8855 - val_loss: 0.2982 - val_accuracy: 0.8838\n",
      "Epoch 29/150\n",
      "4203/4203 [==============================] - 3s 737us/step - loss: 0.2933 - accuracy: 0.8866 - val_loss: 0.2908 - val_accuracy: 0.8865\n",
      "Epoch 30/150\n",
      "4203/4203 [==============================] - 3s 742us/step - loss: 0.2935 - accuracy: 0.8861 - val_loss: 0.2951 - val_accuracy: 0.8854\n",
      "Epoch 31/150\n",
      "4203/4203 [==============================] - 3s 745us/step - loss: 0.2935 - accuracy: 0.8866 - val_loss: 0.2979 - val_accuracy: 0.8866\n",
      "Epoch 32/150\n",
      "4203/4203 [==============================] - 3s 774us/step - loss: 0.2935 - accuracy: 0.8866 - val_loss: 0.3241 - val_accuracy: 0.8732\n",
      "Epoch 33/150\n",
      "4183/4203 [============================>.] - ETA: 0s - loss: 0.2915 - accuracy: 0.8876INFO:tensorflow:Assets written to: /home/anza-tshilidzi/Desktop/Masters_material/e+ e- study/wandb/run-20240815_085439-rj7h9sem/files/model-best/assets\n"
     ]
    },
    {
     "name": "stderr",
     "output_type": "stream",
     "text": [
      "\u001b[34m\u001b[1mwandb\u001b[0m: Adding directory to artifact (/home/anza-tshilidzi/Desktop/Masters_material/e+ e- study/wandb/run-20240815_085439-rj7h9sem/files/model-best)... Done. 0.0s\n"
     ]
    },
    {
     "name": "stdout",
     "output_type": "stream",
     "text": [
      "4203/4203 [==============================] - 4s 929us/step - loss: 0.2915 - accuracy: 0.8876 - val_loss: 0.2878 - val_accuracy: 0.8869\n",
      "Epoch 34/150\n",
      "4203/4203 [==============================] - 3s 762us/step - loss: 0.2921 - accuracy: 0.8873 - val_loss: 0.2971 - val_accuracy: 0.8846\n",
      "Epoch 35/150\n",
      "4177/4203 [============================>.] - ETA: 0s - loss: 0.2915 - accuracy: 0.8876INFO:tensorflow:Assets written to: /home/anza-tshilidzi/Desktop/Masters_material/e+ e- study/wandb/run-20240815_085439-rj7h9sem/files/model-best/assets\n"
     ]
    },
    {
     "name": "stderr",
     "output_type": "stream",
     "text": [
      "\u001b[34m\u001b[1mwandb\u001b[0m: Adding directory to artifact (/home/anza-tshilidzi/Desktop/Masters_material/e+ e- study/wandb/run-20240815_085439-rj7h9sem/files/model-best)... Done. 0.0s\n"
     ]
    },
    {
     "name": "stdout",
     "output_type": "stream",
     "text": [
      "4203/4203 [==============================] - 4s 940us/step - loss: 0.2913 - accuracy: 0.8877 - val_loss: 0.2872 - val_accuracy: 0.8868\n",
      "Epoch 36/150\n",
      "4143/4203 [============================>.] - ETA: 0s - loss: 0.2910 - accuracy: 0.8867INFO:tensorflow:Assets written to: /home/anza-tshilidzi/Desktop/Masters_material/e+ e- study/wandb/run-20240815_085439-rj7h9sem/files/model-best/assets\n"
     ]
    },
    {
     "name": "stderr",
     "output_type": "stream",
     "text": [
      "\u001b[34m\u001b[1mwandb\u001b[0m: Adding directory to artifact (/home/anza-tshilidzi/Desktop/Masters_material/e+ e- study/wandb/run-20240815_085439-rj7h9sem/files/model-best)... Done. 0.0s\n"
     ]
    },
    {
     "name": "stdout",
     "output_type": "stream",
     "text": [
      "4203/4203 [==============================] - 4s 951us/step - loss: 0.2912 - accuracy: 0.8867 - val_loss: 0.2867 - val_accuracy: 0.8881\n",
      "Epoch 37/150\n",
      "4203/4203 [==============================] - 3s 755us/step - loss: 0.2916 - accuracy: 0.8873 - val_loss: 0.2891 - val_accuracy: 0.8867\n",
      "Epoch 38/150\n",
      "4203/4203 [==============================] - 3s 754us/step - loss: 0.2915 - accuracy: 0.8870 - val_loss: 0.2931 - val_accuracy: 0.8856\n",
      "Epoch 39/150\n",
      "4171/4203 [============================>.] - ETA: 0s - loss: 0.2903 - accuracy: 0.8873INFO:tensorflow:Assets written to: /home/anza-tshilidzi/Desktop/Masters_material/e+ e- study/wandb/run-20240815_085439-rj7h9sem/files/model-best/assets\n"
     ]
    },
    {
     "name": "stderr",
     "output_type": "stream",
     "text": [
      "\u001b[34m\u001b[1mwandb\u001b[0m: Adding directory to artifact (/home/anza-tshilidzi/Desktop/Masters_material/e+ e- study/wandb/run-20240815_085439-rj7h9sem/files/model-best)... Done. 0.0s\n"
     ]
    },
    {
     "name": "stdout",
     "output_type": "stream",
     "text": [
      "4203/4203 [==============================] - 4s 925us/step - loss: 0.2901 - accuracy: 0.8874 - val_loss: 0.2861 - val_accuracy: 0.8897\n",
      "Epoch 40/150\n",
      "4203/4203 [==============================] - 3s 757us/step - loss: 0.2905 - accuracy: 0.8884 - val_loss: 0.2882 - val_accuracy: 0.8884\n",
      "Epoch 41/150\n",
      "4203/4203 [==============================] - 3s 770us/step - loss: 0.2904 - accuracy: 0.8875 - val_loss: 0.2870 - val_accuracy: 0.8881\n",
      "Epoch 42/150\n",
      "4203/4203 [==============================] - 3s 750us/step - loss: 0.2887 - accuracy: 0.8878 - val_loss: 0.2992 - val_accuracy: 0.8860\n",
      "Epoch 43/150\n",
      "4182/4203 [============================>.] - ETA: 0s - loss: 0.2897 - accuracy: 0.8876INFO:tensorflow:Assets written to: /home/anza-tshilidzi/Desktop/Masters_material/e+ e- study/wandb/run-20240815_085439-rj7h9sem/files/model-best/assets\n"
     ]
    },
    {
     "name": "stderr",
     "output_type": "stream",
     "text": [
      "\u001b[34m\u001b[1mwandb\u001b[0m: Adding directory to artifact (/home/anza-tshilidzi/Desktop/Masters_material/e+ e- study/wandb/run-20240815_085439-rj7h9sem/files/model-best)... Done. 0.0s\n"
     ]
    },
    {
     "name": "stdout",
     "output_type": "stream",
     "text": [
      "4203/4203 [==============================] - 4s 1ms/step - loss: 0.2898 - accuracy: 0.8876 - val_loss: 0.2853 - val_accuracy: 0.8892\n",
      "Epoch 44/150\n",
      "4203/4203 [==============================] - 3s 755us/step - loss: 0.2888 - accuracy: 0.8875 - val_loss: 0.2879 - val_accuracy: 0.8882\n",
      "Epoch 45/150\n",
      "4203/4203 [==============================] - 3s 758us/step - loss: 0.2881 - accuracy: 0.8883 - val_loss: 0.3277 - val_accuracy: 0.8719\n",
      "Epoch 46/150\n",
      "4203/4203 [==============================] - 3s 762us/step - loss: 0.2882 - accuracy: 0.8880 - val_loss: 0.2873 - val_accuracy: 0.8879\n",
      "Epoch 47/150\n",
      "4203/4203 [==============================] - 3s 743us/step - loss: 0.2882 - accuracy: 0.8886 - val_loss: 0.3539 - val_accuracy: 0.8650\n",
      "Epoch 48/150\n",
      "4203/4203 [==============================] - 3s 751us/step - loss: 0.2880 - accuracy: 0.8879 - val_loss: 0.3162 - val_accuracy: 0.8802\n",
      "Epoch 49/150\n",
      "4203/4203 [==============================] - 3s 765us/step - loss: 0.2868 - accuracy: 0.8883 - val_loss: 0.2930 - val_accuracy: 0.8885\n",
      "Epoch 50/150\n",
      "4203/4203 [==============================] - 3s 753us/step - loss: 0.2872 - accuracy: 0.8885 - val_loss: 0.2968 - val_accuracy: 0.8845\n",
      "Epoch 51/150\n",
      "4203/4203 [==============================] - 3s 777us/step - loss: 0.2867 - accuracy: 0.8891 - val_loss: 0.2943 - val_accuracy: 0.8838\n",
      "Epoch 52/150\n",
      "4165/4203 [============================>.] - ETA: 0s - loss: 0.2856 - accuracy: 0.8885INFO:tensorflow:Assets written to: /home/anza-tshilidzi/Desktop/Masters_material/e+ e- study/wandb/run-20240815_085439-rj7h9sem/files/model-best/assets\n"
     ]
    },
    {
     "name": "stderr",
     "output_type": "stream",
     "text": [
      "\u001b[34m\u001b[1mwandb\u001b[0m: Adding directory to artifact (/home/anza-tshilidzi/Desktop/Masters_material/e+ e- study/wandb/run-20240815_085439-rj7h9sem/files/model-best)... Done. 0.0s\n"
     ]
    },
    {
     "name": "stdout",
     "output_type": "stream",
     "text": [
      "4203/4203 [==============================] - 4s 991us/step - loss: 0.2858 - accuracy: 0.8884 - val_loss: 0.2830 - val_accuracy: 0.8888\n",
      "Epoch 53/150\n",
      "4203/4203 [==============================] - 3s 754us/step - loss: 0.2852 - accuracy: 0.8888 - val_loss: 0.2837 - val_accuracy: 0.8897\n",
      "Epoch 54/150\n",
      "4156/4203 [============================>.] - ETA: 0s - loss: 0.2832 - accuracy: 0.8892INFO:tensorflow:Assets written to: /home/anza-tshilidzi/Desktop/Masters_material/e+ e- study/wandb/run-20240815_085439-rj7h9sem/files/model-best/assets\n"
     ]
    },
    {
     "name": "stderr",
     "output_type": "stream",
     "text": [
      "\u001b[34m\u001b[1mwandb\u001b[0m: Adding directory to artifact (/home/anza-tshilidzi/Desktop/Masters_material/e+ e- study/wandb/run-20240815_085439-rj7h9sem/files/model-best)... Done. 0.0s\n"
     ]
    },
    {
     "name": "stdout",
     "output_type": "stream",
     "text": [
      "4203/4203 [==============================] - 4s 962us/step - loss: 0.2830 - accuracy: 0.8892 - val_loss: 0.2791 - val_accuracy: 0.8902\n",
      "Epoch 55/150\n",
      "4203/4203 [==============================] - 3s 772us/step - loss: 0.2826 - accuracy: 0.8898 - val_loss: 0.2815 - val_accuracy: 0.8895\n",
      "Epoch 56/150\n",
      "4203/4203 [==============================] - 3s 769us/step - loss: 0.2825 - accuracy: 0.8883 - val_loss: 0.2815 - val_accuracy: 0.8886\n",
      "Epoch 57/150\n",
      "4203/4203 [==============================] - 3s 757us/step - loss: 0.2796 - accuracy: 0.8903 - val_loss: 0.2904 - val_accuracy: 0.8849\n",
      "Epoch 58/150\n",
      "4203/4203 [==============================] - 3s 761us/step - loss: 0.2799 - accuracy: 0.8904 - val_loss: 0.2942 - val_accuracy: 0.8830\n",
      "Epoch 59/150\n",
      "4203/4203 [==============================] - 3s 755us/step - loss: 0.2792 - accuracy: 0.8901 - val_loss: 0.2819 - val_accuracy: 0.8883\n",
      "Epoch 60/150\n",
      "4152/4203 [============================>.] - ETA: 0s - loss: 0.2791 - accuracy: 0.8905INFO:tensorflow:Assets written to: /home/anza-tshilidzi/Desktop/Masters_material/e+ e- study/wandb/run-20240815_085439-rj7h9sem/files/model-best/assets\n"
     ]
    },
    {
     "name": "stderr",
     "output_type": "stream",
     "text": [
      "\u001b[34m\u001b[1mwandb\u001b[0m: Adding directory to artifact (/home/anza-tshilidzi/Desktop/Masters_material/e+ e- study/wandb/run-20240815_085439-rj7h9sem/files/model-best)... Done. 0.0s\n"
     ]
    },
    {
     "name": "stdout",
     "output_type": "stream",
     "text": [
      "4203/4203 [==============================] - 10s 2ms/step - loss: 0.2790 - accuracy: 0.8905 - val_loss: 0.2771 - val_accuracy: 0.8909\n",
      "Epoch 61/150\n",
      "4203/4203 [==============================] - 3s 743us/step - loss: 0.2784 - accuracy: 0.8905 - val_loss: 0.2874 - val_accuracy: 0.8867\n",
      "Epoch 62/150\n",
      "4203/4203 [==============================] - 3s 752us/step - loss: 0.2784 - accuracy: 0.8901 - val_loss: 0.3246 - val_accuracy: 0.8756\n",
      "Epoch 63/150\n",
      "4171/4203 [============================>.] - ETA: 0s - loss: 0.2775 - accuracy: 0.8899INFO:tensorflow:Assets written to: /home/anza-tshilidzi/Desktop/Masters_material/e+ e- study/wandb/run-20240815_085439-rj7h9sem/files/model-best/assets\n"
     ]
    },
    {
     "name": "stderr",
     "output_type": "stream",
     "text": [
      "\u001b[34m\u001b[1mwandb\u001b[0m: Adding directory to artifact (/home/anza-tshilidzi/Desktop/Masters_material/e+ e- study/wandb/run-20240815_085439-rj7h9sem/files/model-best)... Done. 0.0s\n"
     ]
    },
    {
     "name": "stdout",
     "output_type": "stream",
     "text": [
      "4203/4203 [==============================] - 5s 1ms/step - loss: 0.2775 - accuracy: 0.8900 - val_loss: 0.2751 - val_accuracy: 0.8908\n",
      "Epoch 64/150\n",
      "4203/4203 [==============================] - 3s 743us/step - loss: 0.2773 - accuracy: 0.8910 - val_loss: 0.2900 - val_accuracy: 0.8847\n",
      "Epoch 65/150\n",
      "4203/4203 [==============================] - 3s 757us/step - loss: 0.2766 - accuracy: 0.8914 - val_loss: 0.2809 - val_accuracy: 0.8893\n",
      "Epoch 66/150\n",
      "4203/4203 [==============================] - 3s 750us/step - loss: 0.2770 - accuracy: 0.8906 - val_loss: 0.2775 - val_accuracy: 0.8896\n",
      "Epoch 67/150\n",
      "4203/4203 [==============================] - 3s 748us/step - loss: 0.2774 - accuracy: 0.8900 - val_loss: 0.2993 - val_accuracy: 0.8804\n",
      "Epoch 68/150\n",
      "4157/4203 [============================>.] - ETA: 0s - loss: 0.2757 - accuracy: 0.8917INFO:tensorflow:Assets written to: /home/anza-tshilidzi/Desktop/Masters_material/e+ e- study/wandb/run-20240815_085439-rj7h9sem/files/model-best/assets\n"
     ]
    },
    {
     "name": "stderr",
     "output_type": "stream",
     "text": [
      "\u001b[34m\u001b[1mwandb\u001b[0m: Adding directory to artifact (/home/anza-tshilidzi/Desktop/Masters_material/e+ e- study/wandb/run-20240815_085439-rj7h9sem/files/model-best)... Done. 0.0s\n"
     ]
    },
    {
     "name": "stdout",
     "output_type": "stream",
     "text": [
      "4203/4203 [==============================] - 6s 1ms/step - loss: 0.2757 - accuracy: 0.8917 - val_loss: 0.2735 - val_accuracy: 0.8927\n",
      "Epoch 69/150\n",
      "4203/4203 [==============================] - 3s 751us/step - loss: 0.2757 - accuracy: 0.8910 - val_loss: 0.2763 - val_accuracy: 0.8893\n",
      "Epoch 70/150\n",
      "4203/4203 [==============================] - 3s 742us/step - loss: 0.2763 - accuracy: 0.8908 - val_loss: 0.2795 - val_accuracy: 0.8902\n",
      "Epoch 71/150\n",
      "4203/4203 [==============================] - 3s 745us/step - loss: 0.2771 - accuracy: 0.8911 - val_loss: 0.2743 - val_accuracy: 0.8916\n",
      "Epoch 72/150\n",
      "4203/4203 [==============================] - 3s 767us/step - loss: 0.2763 - accuracy: 0.8912 - val_loss: 0.2770 - val_accuracy: 0.8889\n",
      "Epoch 73/150\n",
      "4203/4203 [==============================] - 3s 742us/step - loss: 0.2753 - accuracy: 0.8917 - val_loss: 0.2894 - val_accuracy: 0.8859\n",
      "Epoch 74/150\n",
      "4203/4203 [==============================] - 3s 741us/step - loss: 0.2755 - accuracy: 0.8911 - val_loss: 0.3075 - val_accuracy: 0.8778\n",
      "Epoch 75/150\n",
      "4203/4203 [==============================] - 3s 752us/step - loss: 0.2753 - accuracy: 0.8910 - val_loss: 0.2885 - val_accuracy: 0.8883\n",
      "Epoch 76/150\n",
      "4203/4203 [==============================] - 3s 746us/step - loss: 0.2754 - accuracy: 0.8913 - val_loss: 0.3336 - val_accuracy: 0.8669\n",
      "Epoch 77/150\n",
      "4203/4203 [==============================] - 3s 783us/step - loss: 0.2753 - accuracy: 0.8913 - val_loss: 0.2791 - val_accuracy: 0.8883\n",
      "Epoch 78/150\n",
      "4203/4203 [==============================] - 3s 752us/step - loss: 0.2747 - accuracy: 0.8920 - val_loss: 0.2783 - val_accuracy: 0.8900\n",
      "Epoch 79/150\n",
      "4203/4203 [==============================] - 3s 745us/step - loss: 0.2744 - accuracy: 0.8920 - val_loss: 0.2841 - val_accuracy: 0.8881\n",
      "Epoch 80/150\n",
      "4203/4203 [==============================] - 3s 754us/step - loss: 0.2746 - accuracy: 0.8915 - val_loss: 0.2865 - val_accuracy: 0.8854\n",
      "Epoch 81/150\n",
      "4181/4203 [============================>.] - ETA: 0s - loss: 0.2746 - accuracy: 0.8911INFO:tensorflow:Assets written to: /home/anza-tshilidzi/Desktop/Masters_material/e+ e- study/wandb/run-20240815_085439-rj7h9sem/files/model-best/assets\n"
     ]
    },
    {
     "name": "stderr",
     "output_type": "stream",
     "text": [
      "\u001b[34m\u001b[1mwandb\u001b[0m: Adding directory to artifact (/home/anza-tshilidzi/Desktop/Masters_material/e+ e- study/wandb/run-20240815_085439-rj7h9sem/files/model-best)... Done. 0.0s\n"
     ]
    },
    {
     "name": "stdout",
     "output_type": "stream",
     "text": [
      "4203/4203 [==============================] - 4s 935us/step - loss: 0.2745 - accuracy: 0.8911 - val_loss: 0.2719 - val_accuracy: 0.8915\n",
      "Epoch 82/150\n",
      "4120/4203 [============================>.] - ETA: 0s - loss: 0.2745 - accuracy: 0.8914INFO:tensorflow:Assets written to: /home/anza-tshilidzi/Desktop/Masters_material/e+ e- study/wandb/run-20240815_085439-rj7h9sem/files/model-best/assets\n"
     ]
    },
    {
     "name": "stderr",
     "output_type": "stream",
     "text": [
      "\u001b[34m\u001b[1mwandb\u001b[0m: Adding directory to artifact (/home/anza-tshilidzi/Desktop/Masters_material/e+ e- study/wandb/run-20240815_085439-rj7h9sem/files/model-best)... Done. 0.0s\n"
     ]
    },
    {
     "name": "stdout",
     "output_type": "stream",
     "text": [
      "4203/4203 [==============================] - 4s 948us/step - loss: 0.2740 - accuracy: 0.8917 - val_loss: 0.2715 - val_accuracy: 0.8914\n",
      "Epoch 83/150\n",
      "4203/4203 [==============================] - 3s 750us/step - loss: 0.2747 - accuracy: 0.8917 - val_loss: 0.2727 - val_accuracy: 0.8924\n",
      "Epoch 84/150\n",
      "4189/4203 [============================>.] - ETA: 0s - loss: 0.2727 - accuracy: 0.8925INFO:tensorflow:Assets written to: /home/anza-tshilidzi/Desktop/Masters_material/e+ e- study/wandb/run-20240815_085439-rj7h9sem/files/model-best/assets\n"
     ]
    },
    {
     "name": "stderr",
     "output_type": "stream",
     "text": [
      "\u001b[34m\u001b[1mwandb\u001b[0m: Adding directory to artifact (/home/anza-tshilidzi/Desktop/Masters_material/e+ e- study/wandb/run-20240815_085439-rj7h9sem/files/model-best)... Done. 0.0s\n"
     ]
    },
    {
     "name": "stdout",
     "output_type": "stream",
     "text": [
      "4203/4203 [==============================] - 4s 927us/step - loss: 0.2727 - accuracy: 0.8924 - val_loss: 0.2700 - val_accuracy: 0.8915\n",
      "Epoch 85/150\n",
      "4203/4203 [==============================] - 3s 752us/step - loss: 0.2726 - accuracy: 0.8924 - val_loss: 0.2797 - val_accuracy: 0.8887\n",
      "Epoch 86/150\n",
      "4203/4203 [==============================] - 3s 770us/step - loss: 0.2722 - accuracy: 0.8925 - val_loss: 0.2727 - val_accuracy: 0.8913\n",
      "Epoch 87/150\n",
      "4203/4203 [==============================] - 3s 755us/step - loss: 0.2722 - accuracy: 0.8922 - val_loss: 0.2750 - val_accuracy: 0.8914\n",
      "Epoch 88/150\n",
      "4203/4203 [==============================] - 3s 755us/step - loss: 0.2718 - accuracy: 0.8922 - val_loss: 0.2876 - val_accuracy: 0.8854\n",
      "Epoch 89/150\n",
      "4203/4203 [==============================] - 3s 750us/step - loss: 0.2720 - accuracy: 0.8930 - val_loss: 0.2736 - val_accuracy: 0.8920\n",
      "Epoch 90/150\n",
      "4203/4203 [==============================] - 3s 753us/step - loss: 0.2719 - accuracy: 0.8927 - val_loss: 0.2792 - val_accuracy: 0.8891\n",
      "Epoch 91/150\n",
      "4203/4203 [==============================] - 3s 777us/step - loss: 0.2720 - accuracy: 0.8929 - val_loss: 0.2740 - val_accuracy: 0.8913\n",
      "Epoch 92/150\n",
      "4203/4203 [==============================] - 3s 763us/step - loss: 0.2706 - accuracy: 0.8935 - val_loss: 0.2724 - val_accuracy: 0.8923\n",
      "Epoch 93/150\n",
      "4150/4203 [============================>.] - ETA: 0s - loss: 0.2694 - accuracy: 0.8938INFO:tensorflow:Assets written to: /home/anza-tshilidzi/Desktop/Masters_material/e+ e- study/wandb/run-20240815_085439-rj7h9sem/files/model-best/assets\n"
     ]
    },
    {
     "name": "stderr",
     "output_type": "stream",
     "text": [
      "\u001b[34m\u001b[1mwandb\u001b[0m: Adding directory to artifact (/home/anza-tshilidzi/Desktop/Masters_material/e+ e- study/wandb/run-20240815_085439-rj7h9sem/files/model-best)... Done. 0.0s\n"
     ]
    },
    {
     "name": "stdout",
     "output_type": "stream",
     "text": [
      "4203/4203 [==============================] - 4s 927us/step - loss: 0.2695 - accuracy: 0.8937 - val_loss: 0.2694 - val_accuracy: 0.8927\n",
      "Epoch 94/150\n",
      "4203/4203 [==============================] - 3s 747us/step - loss: 0.2693 - accuracy: 0.8943 - val_loss: 0.2867 - val_accuracy: 0.8869\n",
      "Epoch 95/150\n",
      "4148/4203 [============================>.] - ETA: 0s - loss: 0.2691 - accuracy: 0.8943INFO:tensorflow:Assets written to: /home/anza-tshilidzi/Desktop/Masters_material/e+ e- study/wandb/run-20240815_085439-rj7h9sem/files/model-best/assets\n"
     ]
    },
    {
     "name": "stderr",
     "output_type": "stream",
     "text": [
      "\u001b[34m\u001b[1mwandb\u001b[0m: Adding directory to artifact (/home/anza-tshilidzi/Desktop/Masters_material/e+ e- study/wandb/run-20240815_085439-rj7h9sem/files/model-best)... Done. 0.0s\n"
     ]
    },
    {
     "name": "stdout",
     "output_type": "stream",
     "text": [
      "4203/4203 [==============================] - 4s 930us/step - loss: 0.2694 - accuracy: 0.8942 - val_loss: 0.2677 - val_accuracy: 0.8941\n",
      "Epoch 96/150\n",
      "4203/4203 [==============================] - 3s 781us/step - loss: 0.2680 - accuracy: 0.8948 - val_loss: 0.2814 - val_accuracy: 0.8905\n",
      "Epoch 97/150\n",
      "4203/4203 [==============================] - 3s 739us/step - loss: 0.2687 - accuracy: 0.8943 - val_loss: 0.2828 - val_accuracy: 0.8917\n",
      "Epoch 98/150\n",
      "4203/4203 [==============================] - 3s 752us/step - loss: 0.2680 - accuracy: 0.8947 - val_loss: 0.2757 - val_accuracy: 0.8925\n",
      "Epoch 99/150\n",
      "4203/4203 [==============================] - 3s 756us/step - loss: 0.2675 - accuracy: 0.8952 - val_loss: 0.2685 - val_accuracy: 0.8944\n",
      "Epoch 100/150\n",
      "4168/4203 [============================>.] - ETA: 0s - loss: 0.2661 - accuracy: 0.8958INFO:tensorflow:Assets written to: /home/anza-tshilidzi/Desktop/Masters_material/e+ e- study/wandb/run-20240815_085439-rj7h9sem/files/model-best/assets\n"
     ]
    },
    {
     "name": "stderr",
     "output_type": "stream",
     "text": [
      "\u001b[34m\u001b[1mwandb\u001b[0m: Adding directory to artifact (/home/anza-tshilidzi/Desktop/Masters_material/e+ e- study/wandb/run-20240815_085439-rj7h9sem/files/model-best)... Done. 0.0s\n"
     ]
    },
    {
     "name": "stdout",
     "output_type": "stream",
     "text": [
      "4203/4203 [==============================] - 4s 932us/step - loss: 0.2661 - accuracy: 0.8958 - val_loss: 0.2652 - val_accuracy: 0.8946\n",
      "Epoch 101/150\n",
      "4203/4203 [==============================] - 3s 774us/step - loss: 0.2670 - accuracy: 0.8953 - val_loss: 0.2663 - val_accuracy: 0.8935\n",
      "Epoch 102/150\n",
      "4203/4203 [==============================] - 3s 752us/step - loss: 0.2656 - accuracy: 0.8958 - val_loss: 0.2674 - val_accuracy: 0.8930\n",
      "Epoch 103/150\n",
      "4203/4203 [==============================] - 3s 756us/step - loss: 0.2661 - accuracy: 0.8952 - val_loss: 0.2730 - val_accuracy: 0.8943\n",
      "Epoch 104/150\n",
      "4203/4203 [==============================] - 3s 745us/step - loss: 0.2662 - accuracy: 0.8958 - val_loss: 0.2817 - val_accuracy: 0.8893\n",
      "Epoch 105/150\n",
      "4203/4203 [==============================] - 3s 758us/step - loss: 0.2659 - accuracy: 0.8952 - val_loss: 0.2857 - val_accuracy: 0.8901\n",
      "Epoch 106/150\n",
      "4203/4203 [==============================] - 3s 768us/step - loss: 0.2668 - accuracy: 0.8954 - val_loss: 0.2693 - val_accuracy: 0.8955\n",
      "Epoch 107/150\n",
      "4203/4203 [==============================] - 3s 758us/step - loss: 0.2654 - accuracy: 0.8960 - val_loss: 0.2734 - val_accuracy: 0.8906\n",
      "Epoch 108/150\n",
      "4203/4203 [==============================] - 3s 750us/step - loss: 0.2661 - accuracy: 0.8952 - val_loss: 0.2888 - val_accuracy: 0.8879\n",
      "Epoch 109/150\n",
      "4203/4203 [==============================] - 3s 750us/step - loss: 0.2649 - accuracy: 0.8962 - val_loss: 0.2669 - val_accuracy: 0.8946\n",
      "Epoch 110/150\n",
      "4203/4203 [==============================] - 3s 757us/step - loss: 0.2654 - accuracy: 0.8959 - val_loss: 0.2701 - val_accuracy: 0.8955\n",
      "Epoch 111/150\n",
      "4203/4203 [==============================] - 3s 777us/step - loss: 0.2643 - accuracy: 0.8961 - val_loss: 0.2748 - val_accuracy: 0.8928\n",
      "Epoch 112/150\n",
      "4203/4203 [==============================] - 3s 750us/step - loss: 0.2642 - accuracy: 0.8962 - val_loss: 0.2729 - val_accuracy: 0.8929\n",
      "Epoch 113/150\n",
      "4203/4203 [==============================] - 3s 754us/step - loss: 0.2639 - accuracy: 0.8959 - val_loss: 0.2658 - val_accuracy: 0.8936\n",
      "Epoch 114/150\n",
      "4203/4203 [==============================] - 3s 753us/step - loss: 0.2650 - accuracy: 0.8965 - val_loss: 0.2890 - val_accuracy: 0.8880\n",
      "Epoch 115/150\n",
      "4203/4203 [==============================] - 3s 750us/step - loss: 0.2642 - accuracy: 0.8966 - val_loss: 0.2800 - val_accuracy: 0.8901\n",
      "Epoch 116/150\n",
      "4148/4203 [============================>.] - ETA: 0s - loss: 0.2642 - accuracy: 0.8963INFO:tensorflow:Assets written to: /home/anza-tshilidzi/Desktop/Masters_material/e+ e- study/wandb/run-20240815_085439-rj7h9sem/files/model-best/assets\n"
     ]
    },
    {
     "name": "stderr",
     "output_type": "stream",
     "text": [
      "\u001b[34m\u001b[1mwandb\u001b[0m: Adding directory to artifact (/home/anza-tshilidzi/Desktop/Masters_material/e+ e- study/wandb/run-20240815_085439-rj7h9sem/files/model-best)... Done. 0.0s\n"
     ]
    },
    {
     "name": "stdout",
     "output_type": "stream",
     "text": [
      "4203/4203 [==============================] - 4s 1ms/step - loss: 0.2641 - accuracy: 0.8964 - val_loss: 0.2624 - val_accuracy: 0.8967\n",
      "Epoch 117/150\n",
      "4203/4203 [==============================] - 3s 754us/step - loss: 0.2646 - accuracy: 0.8963 - val_loss: 0.2681 - val_accuracy: 0.8943\n",
      "Epoch 118/150\n",
      "4203/4203 [==============================] - 3s 751us/step - loss: 0.2649 - accuracy: 0.8967 - val_loss: 0.2668 - val_accuracy: 0.8937\n",
      "Epoch 119/150\n",
      "4203/4203 [==============================] - 3s 747us/step - loss: 0.2633 - accuracy: 0.8968 - val_loss: 0.2733 - val_accuracy: 0.8930\n",
      "Epoch 120/150\n",
      "4203/4203 [==============================] - 3s 774us/step - loss: 0.2634 - accuracy: 0.8969 - val_loss: 0.2707 - val_accuracy: 0.8943\n",
      "Epoch 121/150\n",
      "4203/4203 [==============================] - 3s 754us/step - loss: 0.2640 - accuracy: 0.8968 - val_loss: 0.2957 - val_accuracy: 0.8825\n",
      "Epoch 122/150\n",
      "4203/4203 [==============================] - 3s 761us/step - loss: 0.2630 - accuracy: 0.8966 - val_loss: 0.2634 - val_accuracy: 0.8949\n",
      "Epoch 123/150\n",
      "4203/4203 [==============================] - 3s 754us/step - loss: 0.2638 - accuracy: 0.8967 - val_loss: 0.2638 - val_accuracy: 0.8963\n",
      "Epoch 124/150\n",
      "4203/4203 [==============================] - 3s 757us/step - loss: 0.2629 - accuracy: 0.8974 - val_loss: 0.2795 - val_accuracy: 0.8896\n",
      "Epoch 125/150\n",
      "4203/4203 [==============================] - 3s 772us/step - loss: 0.2630 - accuracy: 0.8968 - val_loss: 0.2786 - val_accuracy: 0.8925\n",
      "Epoch 126/150\n",
      "4203/4203 [==============================] - 3s 761us/step - loss: 0.2627 - accuracy: 0.8968 - val_loss: 0.2678 - val_accuracy: 0.8957\n",
      "Epoch 127/150\n",
      "4203/4203 [==============================] - 3s 763us/step - loss: 0.2628 - accuracy: 0.8972 - val_loss: 0.2800 - val_accuracy: 0.8900\n",
      "Epoch 128/150\n",
      "4203/4203 [==============================] - 3s 751us/step - loss: 0.2623 - accuracy: 0.8968 - val_loss: 0.2669 - val_accuracy: 0.8943\n",
      "Epoch 129/150\n",
      "4203/4203 [==============================] - 3s 749us/step - loss: 0.2629 - accuracy: 0.8967 - val_loss: 0.2694 - val_accuracy: 0.8937\n",
      "Epoch 130/150\n",
      "4203/4203 [==============================] - 3s 787us/step - loss: 0.2621 - accuracy: 0.8967 - val_loss: 0.2722 - val_accuracy: 0.8953\n",
      "Epoch 131/150\n",
      "4150/4203 [============================>.] - ETA: 0s - loss: 0.2638 - accuracy: 0.8964INFO:tensorflow:Assets written to: /home/anza-tshilidzi/Desktop/Masters_material/e+ e- study/wandb/run-20240815_085439-rj7h9sem/files/model-best/assets\n"
     ]
    },
    {
     "name": "stderr",
     "output_type": "stream",
     "text": [
      "\u001b[34m\u001b[1mwandb\u001b[0m: Adding directory to artifact (/home/anza-tshilidzi/Desktop/Masters_material/e+ e- study/wandb/run-20240815_085439-rj7h9sem/files/model-best)... Done. 0.0s\n"
     ]
    },
    {
     "name": "stdout",
     "output_type": "stream",
     "text": [
      "4203/4203 [==============================] - 4s 956us/step - loss: 0.2637 - accuracy: 0.8964 - val_loss: 0.2620 - val_accuracy: 0.8970\n",
      "Epoch 132/150\n",
      "4203/4203 [==============================] - 3s 752us/step - loss: 0.2616 - accuracy: 0.8979 - val_loss: 0.2733 - val_accuracy: 0.8923\n",
      "Epoch 133/150\n",
      "4203/4203 [==============================] - 3s 748us/step - loss: 0.2618 - accuracy: 0.8978 - val_loss: 0.2672 - val_accuracy: 0.8922\n",
      "Epoch 134/150\n",
      "4203/4203 [==============================] - 3s 751us/step - loss: 0.2611 - accuracy: 0.8979 - val_loss: 0.2625 - val_accuracy: 0.8962\n",
      "Epoch 135/150\n",
      "4158/4203 [============================>.] - ETA: 0s - loss: 0.2618 - accuracy: 0.8974INFO:tensorflow:Assets written to: /home/anza-tshilidzi/Desktop/Masters_material/e+ e- study/wandb/run-20240815_085439-rj7h9sem/files/model-best/assets\n"
     ]
    },
    {
     "name": "stderr",
     "output_type": "stream",
     "text": [
      "\u001b[34m\u001b[1mwandb\u001b[0m: Adding directory to artifact (/home/anza-tshilidzi/Desktop/Masters_material/e+ e- study/wandb/run-20240815_085439-rj7h9sem/files/model-best)... Done. 0.0s\n"
     ]
    },
    {
     "name": "stdout",
     "output_type": "stream",
     "text": [
      "4203/4203 [==============================] - 4s 963us/step - loss: 0.2619 - accuracy: 0.8974 - val_loss: 0.2619 - val_accuracy: 0.8958\n",
      "Epoch 136/150\n",
      "4203/4203 [==============================] - 3s 745us/step - loss: 0.2623 - accuracy: 0.8974 - val_loss: 0.2707 - val_accuracy: 0.8925\n",
      "Epoch 137/150\n",
      "4203/4203 [==============================] - 3s 754us/step - loss: 0.2619 - accuracy: 0.8976 - val_loss: 0.2648 - val_accuracy: 0.8946\n",
      "Epoch 138/150\n",
      "4203/4203 [==============================] - 3s 746us/step - loss: 0.2612 - accuracy: 0.8973 - val_loss: 0.2839 - val_accuracy: 0.8868\n",
      "Epoch 139/150\n",
      "4203/4203 [==============================] - 3s 756us/step - loss: 0.2618 - accuracy: 0.8975 - val_loss: 0.2635 - val_accuracy: 0.8963\n",
      "Epoch 140/150\n",
      "4203/4203 [==============================] - 3s 770us/step - loss: 0.2612 - accuracy: 0.8975 - val_loss: 0.2647 - val_accuracy: 0.8953\n",
      "Epoch 141/150\n",
      "4140/4203 [============================>.] - ETA: 0s - loss: 0.2603 - accuracy: 0.8982INFO:tensorflow:Assets written to: /home/anza-tshilidzi/Desktop/Masters_material/e+ e- study/wandb/run-20240815_085439-rj7h9sem/files/model-best/assets\n"
     ]
    },
    {
     "name": "stderr",
     "output_type": "stream",
     "text": [
      "\u001b[34m\u001b[1mwandb\u001b[0m: Adding directory to artifact (/home/anza-tshilidzi/Desktop/Masters_material/e+ e- study/wandb/run-20240815_085439-rj7h9sem/files/model-best)... Done. 0.0s\n"
     ]
    },
    {
     "name": "stdout",
     "output_type": "stream",
     "text": [
      "4203/4203 [==============================] - 4s 989us/step - loss: 0.2603 - accuracy: 0.8981 - val_loss: 0.2597 - val_accuracy: 0.8973\n",
      "Epoch 142/150\n",
      "4203/4203 [==============================] - 3s 752us/step - loss: 0.2604 - accuracy: 0.8979 - val_loss: 0.2637 - val_accuracy: 0.8970\n",
      "Epoch 143/150\n",
      "4203/4203 [==============================] - 3s 746us/step - loss: 0.2614 - accuracy: 0.8979 - val_loss: 0.2748 - val_accuracy: 0.8904\n",
      "Epoch 144/150\n",
      "4203/4203 [==============================] - 3s 749us/step - loss: 0.2612 - accuracy: 0.8973 - val_loss: 0.2659 - val_accuracy: 0.8947\n",
      "Epoch 145/150\n",
      "4203/4203 [==============================] - 3s 776us/step - loss: 0.2603 - accuracy: 0.8982 - val_loss: 0.2646 - val_accuracy: 0.8972\n",
      "Epoch 146/150\n",
      "4203/4203 [==============================] - 3s 753us/step - loss: 0.2608 - accuracy: 0.8977 - val_loss: 0.2607 - val_accuracy: 0.8979\n",
      "Epoch 147/150\n",
      "4203/4203 [==============================] - 3s 753us/step - loss: 0.2592 - accuracy: 0.8986 - val_loss: 0.2669 - val_accuracy: 0.8949\n",
      "Epoch 148/150\n",
      "4203/4203 [==============================] - 3s 752us/step - loss: 0.2595 - accuracy: 0.8988 - val_loss: 0.2694 - val_accuracy: 0.8936\n",
      "Epoch 149/150\n",
      "4203/4203 [==============================] - 3s 750us/step - loss: 0.2600 - accuracy: 0.8983 - val_loss: 0.2841 - val_accuracy: 0.8924\n",
      "Epoch 150/150\n",
      "4203/4203 [==============================] - 3s 801us/step - loss: 0.2590 - accuracy: 0.8986 - val_loss: 0.2780 - val_accuracy: 0.8917\n"
     ]
    },
    {
     "data": {
      "application/vnd.jupyter.widget-view+json": {
       "model_id": "",
       "version_major": 2,
       "version_minor": 0
      },
      "text/plain": [
       "VBox(children=(Label(value='3.689 MB of 3.814 MB uploaded (0.238 MB deduped)\\r'), FloatProgress(value=0.967197…"
      ]
     },
     "metadata": {},
     "output_type": "display_data"
    },
    {
     "data": {
      "text/html": [
       "W&B sync reduced upload amount by 6.2%"
      ],
      "text/plain": [
       "<IPython.core.display.HTML object>"
      ]
     },
     "metadata": {},
     "output_type": "display_data"
    },
    {
     "data": {
      "text/html": [
       "<style>\n",
       "    table.wandb td:nth-child(1) { padding: 0 10px; text-align: left ; width: auto;} td:nth-child(2) {text-align: left ; width: 100%}\n",
       "    .wandb-row { display: flex; flex-direction: row; flex-wrap: wrap; justify-content: flex-start; width: 100% }\n",
       "    .wandb-col { display: flex; flex-direction: column; flex-basis: 100%; flex: 1; padding: 10px; }\n",
       "    </style>\n",
       "<div class=\"wandb-row\"><div class=\"wandb-col\"><h3>Run history:</h3><br/><table class=\"wandb\"><tr><td>accuracy</td><td>▁▅▆▆▇▇▇▇▇▇▇▇▇▇▇▇▇▇▇▇▇▇▇▇▇███████████████</td></tr><tr><td>epoch</td><td>▁▁▁▁▂▂▂▂▂▃▃▃▃▃▃▄▄▄▄▄▅▅▅▅▅▅▆▆▆▆▆▆▇▇▇▇▇███</td></tr><tr><td>loss</td><td>█▄▃▃▃▃▂▂▂▂▂▂▂▂▂▂▂▂▂▂▂▂▂▂▁▁▁▁▁▁▁▁▁▁▁▁▁▁▁▁</td></tr><tr><td>val_accuracy</td><td>▁▄▆▇▆▇▇▆▅▇▆▆▇▆▇▆▅▇▇▅▄▆▇▆▇▇█▇▇▇▇▇████▇██▇</td></tr><tr><td>val_loss</td><td>█▅▃▃▄▃▃▃▅▂▃▃▂▃▂▃▅▂▂▄▅▂▂▃▂▂▁▂▃▂▃▁▁▁▂▁▂▁▁▂</td></tr></table><br/></div><div class=\"wandb-col\"><h3>Run summary:</h3><br/><table class=\"wandb\"><tr><td>accuracy</td><td>0.89863</td></tr><tr><td>best_epoch</td><td>140</td></tr><tr><td>best_val_loss</td><td>0.25966</td></tr><tr><td>epoch</td><td>149</td></tr><tr><td>loss</td><td>0.25898</td></tr><tr><td>val_accuracy</td><td>0.8917</td></tr><tr><td>val_loss</td><td>0.27797</td></tr></table><br/></div></div>"
      ],
      "text/plain": [
       "<IPython.core.display.HTML object>"
      ]
     },
     "metadata": {},
     "output_type": "display_data"
    },
    {
     "data": {
      "text/html": [
       " View run <strong style=\"color:#cdcd00\">scarlet-sweep-12</strong> at: <a href='https://wandb.ai/anzanzio/ep-em%20DNN/runs/rj7h9sem' target=\"_blank\">https://wandb.ai/anzanzio/ep-em%20DNN/runs/rj7h9sem</a><br/> View project at: <a href='https://wandb.ai/anzanzio/ep-em%20DNN' target=\"_blank\">https://wandb.ai/anzanzio/ep-em%20DNN</a><br/>Synced 6 W&B file(s), 1 media file(s), 124 artifact file(s) and 1 other file(s)"
      ],
      "text/plain": [
       "<IPython.core.display.HTML object>"
      ]
     },
     "metadata": {},
     "output_type": "display_data"
    },
    {
     "data": {
      "text/html": [
       "Find logs at: <code>./wandb/run-20240815_085439-rj7h9sem/logs</code>"
      ],
      "text/plain": [
       "<IPython.core.display.HTML object>"
      ]
     },
     "metadata": {},
     "output_type": "display_data"
    },
    {
     "data": {
      "text/html": [
       "The new W&B backend becomes opt-out in version 0.18.0; try it out with `wandb.require(\"core\")`! See https://wandb.me/wandb-core for more information."
      ],
      "text/plain": [
       "<IPython.core.display.HTML object>"
      ]
     },
     "metadata": {},
     "output_type": "display_data"
    },
    {
     "name": "stderr",
     "output_type": "stream",
     "text": [
      "\u001b[34m\u001b[1mwandb\u001b[0m: Agent Starting Run: mjhdfse0 with config:\n",
      "\u001b[34m\u001b[1mwandb\u001b[0m: \tbatch_size: 29\n",
      "\u001b[34m\u001b[1mwandb\u001b[0m: \tepochs: 150\n",
      "\u001b[34m\u001b[1mwandb\u001b[0m: \tlayers: 37\n",
      "\u001b[34m\u001b[1mwandb\u001b[0m: \tlearning_rate: 0.00027401625721998693\n",
      "\u001b[34m\u001b[1mwandb\u001b[0m: \tneurons: 47\n",
      "\u001b[34m\u001b[1mwandb\u001b[0m: \toptimizer: adam\n"
     ]
    },
    {
     "data": {
      "text/html": [
       "Tracking run with wandb version 0.17.6"
      ],
      "text/plain": [
       "<IPython.core.display.HTML object>"
      ]
     },
     "metadata": {},
     "output_type": "display_data"
    },
    {
     "data": {
      "text/html": [
       "Run data is saved locally in <code>/home/anza-tshilidzi/Desktop/Masters_material/e+ e- study/wandb/run-20240815_090338-mjhdfse0</code>"
      ],
      "text/plain": [
       "<IPython.core.display.HTML object>"
      ]
     },
     "metadata": {},
     "output_type": "display_data"
    },
    {
     "data": {
      "text/html": [
       "Syncing run <strong><a href='https://wandb.ai/anzanzio/ep-em%20DNN/runs/mjhdfse0' target=\"_blank\">skilled-sweep-13</a></strong> to <a href='https://wandb.ai/anzanzio/ep-em%20DNN' target=\"_blank\">Weights & Biases</a> (<a href='https://wandb.me/run' target=\"_blank\">docs</a>)<br/>Sweep page: <a href='https://wandb.ai/anzanzio/ep-em%20DNN/sweeps/lg5h93ch' target=\"_blank\">https://wandb.ai/anzanzio/ep-em%20DNN/sweeps/lg5h93ch</a>"
      ],
      "text/plain": [
       "<IPython.core.display.HTML object>"
      ]
     },
     "metadata": {},
     "output_type": "display_data"
    },
    {
     "data": {
      "text/html": [
       " View project at <a href='https://wandb.ai/anzanzio/ep-em%20DNN' target=\"_blank\">https://wandb.ai/anzanzio/ep-em%20DNN</a>"
      ],
      "text/plain": [
       "<IPython.core.display.HTML object>"
      ]
     },
     "metadata": {},
     "output_type": "display_data"
    },
    {
     "data": {
      "text/html": [
       " View sweep at <a href='https://wandb.ai/anzanzio/ep-em%20DNN/sweeps/lg5h93ch' target=\"_blank\">https://wandb.ai/anzanzio/ep-em%20DNN/sweeps/lg5h93ch</a>"
      ],
      "text/plain": [
       "<IPython.core.display.HTML object>"
      ]
     },
     "metadata": {},
     "output_type": "display_data"
    },
    {
     "data": {
      "text/html": [
       " View run at <a href='https://wandb.ai/anzanzio/ep-em%20DNN/runs/mjhdfse0' target=\"_blank\">https://wandb.ai/anzanzio/ep-em%20DNN/runs/mjhdfse0</a>"
      ],
      "text/plain": [
       "<IPython.core.display.HTML object>"
      ]
     },
     "metadata": {},
     "output_type": "display_data"
    },
    {
     "name": "stdout",
     "output_type": "stream",
     "text": [
      "Epoch 1/150\n",
      "3578/3623 [============================>.] - ETA: 0s - loss: 0.6553 - accuracy: 0.7440INFO:tensorflow:Assets written to: /home/anza-tshilidzi/Desktop/Masters_material/e+ e- study/wandb/run-20240815_090338-mjhdfse0/files/model-best/assets\n"
     ]
    },
    {
     "name": "stderr",
     "output_type": "stream",
     "text": [
      "\u001b[34m\u001b[1mwandb\u001b[0m: Adding directory to artifact (/home/anza-tshilidzi/Desktop/Masters_material/e+ e- study/wandb/run-20240815_090338-mjhdfse0/files/model-best)... Done. 0.0s\n"
     ]
    },
    {
     "name": "stdout",
     "output_type": "stream",
     "text": [
      "3623/3623 [==============================] - 4s 1ms/step - loss: 0.6540 - accuracy: 0.7444 - val_loss: 0.5319 - val_accuracy: 0.8435\n",
      "Epoch 2/150\n",
      "3561/3623 [============================>.] - ETA: 0s - loss: 0.5132 - accuracy: 0.7953INFO:tensorflow:Assets written to: /home/anza-tshilidzi/Desktop/Masters_material/e+ e- study/wandb/run-20240815_090338-mjhdfse0/files/model-best/assets\n"
     ]
    },
    {
     "name": "stderr",
     "output_type": "stream",
     "text": [
      "\u001b[34m\u001b[1mwandb\u001b[0m: Adding directory to artifact (/home/anza-tshilidzi/Desktop/Masters_material/e+ e- study/wandb/run-20240815_090338-mjhdfse0/files/model-best)... Done. 0.0s\n"
     ]
    },
    {
     "name": "stdout",
     "output_type": "stream",
     "text": [
      "3623/3623 [==============================] - 4s 974us/step - loss: 0.5120 - accuracy: 0.7959 - val_loss: 0.4440 - val_accuracy: 0.8252\n",
      "Epoch 3/150\n",
      "3570/3623 [============================>.] - ETA: 0s - loss: 0.4251 - accuracy: 0.8338INFO:tensorflow:Assets written to: /home/anza-tshilidzi/Desktop/Masters_material/e+ e- study/wandb/run-20240815_090338-mjhdfse0/files/model-best/assets\n"
     ]
    },
    {
     "name": "stderr",
     "output_type": "stream",
     "text": [
      "\u001b[34m\u001b[1mwandb\u001b[0m: Adding directory to artifact (/home/anza-tshilidzi/Desktop/Masters_material/e+ e- study/wandb/run-20240815_090338-mjhdfse0/files/model-best)... Done. 0.0s\n"
     ]
    },
    {
     "name": "stdout",
     "output_type": "stream",
     "text": [
      "3623/3623 [==============================] - 4s 1ms/step - loss: 0.4250 - accuracy: 0.8340 - val_loss: 0.3928 - val_accuracy: 0.8518\n",
      "Epoch 4/150\n",
      "3622/3623 [============================>.] - ETA: 0s - loss: 0.3990 - accuracy: 0.8462INFO:tensorflow:Assets written to: /home/anza-tshilidzi/Desktop/Masters_material/e+ e- study/wandb/run-20240815_090338-mjhdfse0/files/model-best/assets\n"
     ]
    },
    {
     "name": "stderr",
     "output_type": "stream",
     "text": [
      "\u001b[34m\u001b[1mwandb\u001b[0m: Adding directory to artifact (/home/anza-tshilidzi/Desktop/Masters_material/e+ e- study/wandb/run-20240815_090338-mjhdfse0/files/model-best)... Done. 0.0s\n"
     ]
    },
    {
     "name": "stdout",
     "output_type": "stream",
     "text": [
      "3623/3623 [==============================] - 4s 1ms/step - loss: 0.3990 - accuracy: 0.8462 - val_loss: 0.3807 - val_accuracy: 0.8673\n",
      "Epoch 5/150\n",
      "3599/3623 [============================>.] - ETA: 0s - loss: 0.3833 - accuracy: 0.8539INFO:tensorflow:Assets written to: /home/anza-tshilidzi/Desktop/Masters_material/e+ e- study/wandb/run-20240815_090338-mjhdfse0/files/model-best/assets\n"
     ]
    },
    {
     "name": "stderr",
     "output_type": "stream",
     "text": [
      "\u001b[34m\u001b[1mwandb\u001b[0m: Adding directory to artifact (/home/anza-tshilidzi/Desktop/Masters_material/e+ e- study/wandb/run-20240815_090338-mjhdfse0/files/model-best)... Done. 0.0s\n"
     ]
    },
    {
     "name": "stdout",
     "output_type": "stream",
     "text": [
      "3623/3623 [==============================] - 4s 1ms/step - loss: 0.3833 - accuracy: 0.8541 - val_loss: 0.3695 - val_accuracy: 0.8541\n",
      "Epoch 6/150\n",
      "3592/3623 [============================>.] - ETA: 0s - loss: 0.3639 - accuracy: 0.8637INFO:tensorflow:Assets written to: /home/anza-tshilidzi/Desktop/Masters_material/e+ e- study/wandb/run-20240815_090338-mjhdfse0/files/model-best/assets\n"
     ]
    },
    {
     "name": "stderr",
     "output_type": "stream",
     "text": [
      "\u001b[34m\u001b[1mwandb\u001b[0m: Adding directory to artifact (/home/anza-tshilidzi/Desktop/Masters_material/e+ e- study/wandb/run-20240815_090338-mjhdfse0/files/model-best)... Done. 0.0s\n"
     ]
    },
    {
     "name": "stdout",
     "output_type": "stream",
     "text": [
      "3623/3623 [==============================] - 3s 963us/step - loss: 0.3637 - accuracy: 0.8637 - val_loss: 0.3498 - val_accuracy: 0.8613\n",
      "Epoch 7/150\n",
      "3584/3623 [============================>.] - ETA: 0s - loss: 0.3390 - accuracy: 0.8738INFO:tensorflow:Assets written to: /home/anza-tshilidzi/Desktop/Masters_material/e+ e- study/wandb/run-20240815_090338-mjhdfse0/files/model-best/assets\n"
     ]
    },
    {
     "name": "stderr",
     "output_type": "stream",
     "text": [
      "\u001b[34m\u001b[1mwandb\u001b[0m: Adding directory to artifact (/home/anza-tshilidzi/Desktop/Masters_material/e+ e- study/wandb/run-20240815_090338-mjhdfse0/files/model-best)... Done. 0.0s\n"
     ]
    },
    {
     "name": "stdout",
     "output_type": "stream",
     "text": [
      "3623/3623 [==============================] - 4s 1ms/step - loss: 0.3390 - accuracy: 0.8737 - val_loss: 0.3233 - val_accuracy: 0.8826\n",
      "Epoch 8/150\n",
      "3609/3623 [============================>.] - ETA: 0s - loss: 0.3241 - accuracy: 0.8763INFO:tensorflow:Assets written to: /home/anza-tshilidzi/Desktop/Masters_material/e+ e- study/wandb/run-20240815_090338-mjhdfse0/files/model-best/assets\n"
     ]
    },
    {
     "name": "stderr",
     "output_type": "stream",
     "text": [
      "\u001b[34m\u001b[1mwandb\u001b[0m: Adding directory to artifact (/home/anza-tshilidzi/Desktop/Masters_material/e+ e- study/wandb/run-20240815_090338-mjhdfse0/files/model-best)... Done. 0.0s\n"
     ]
    },
    {
     "name": "stdout",
     "output_type": "stream",
     "text": [
      "3623/3623 [==============================] - 4s 997us/step - loss: 0.3241 - accuracy: 0.8763 - val_loss: 0.3091 - val_accuracy: 0.8801\n",
      "Epoch 9/150\n",
      "3587/3623 [============================>.] - ETA: 0s - loss: 0.3171 - accuracy: 0.8778INFO:tensorflow:Assets written to: /home/anza-tshilidzi/Desktop/Masters_material/e+ e- study/wandb/run-20240815_090338-mjhdfse0/files/model-best/assets\n"
     ]
    },
    {
     "name": "stderr",
     "output_type": "stream",
     "text": [
      "\u001b[34m\u001b[1mwandb\u001b[0m: Adding directory to artifact (/home/anza-tshilidzi/Desktop/Masters_material/e+ e- study/wandb/run-20240815_090338-mjhdfse0/files/model-best)... Done. 0.0s\n"
     ]
    },
    {
     "name": "stdout",
     "output_type": "stream",
     "text": [
      "3623/3623 [==============================] - 4s 980us/step - loss: 0.3168 - accuracy: 0.8780 - val_loss: 0.3088 - val_accuracy: 0.8838\n",
      "Epoch 10/150\n",
      "3623/3623 [==============================] - 3s 764us/step - loss: 0.3118 - accuracy: 0.8795 - val_loss: 0.3581 - val_accuracy: 0.8568\n",
      "Epoch 11/150\n",
      "3544/3623 [============================>.] - ETA: 0s - loss: 0.3098 - accuracy: 0.8794INFO:tensorflow:Assets written to: /home/anza-tshilidzi/Desktop/Masters_material/e+ e- study/wandb/run-20240815_090338-mjhdfse0/files/model-best/assets\n"
     ]
    },
    {
     "name": "stderr",
     "output_type": "stream",
     "text": [
      "\u001b[34m\u001b[1mwandb\u001b[0m: Adding directory to artifact (/home/anza-tshilidzi/Desktop/Masters_material/e+ e- study/wandb/run-20240815_090338-mjhdfse0/files/model-best)... Done. 0.0s\n"
     ]
    },
    {
     "name": "stdout",
     "output_type": "stream",
     "text": [
      "3623/3623 [==============================] - 3s 956us/step - loss: 0.3094 - accuracy: 0.8797 - val_loss: 0.3018 - val_accuracy: 0.8817\n",
      "Epoch 12/150\n",
      "3623/3623 [==============================] - 3s 785us/step - loss: 0.3085 - accuracy: 0.8803 - val_loss: 0.3075 - val_accuracy: 0.8752\n",
      "Epoch 13/150\n",
      "3623/3623 [==============================] - 3s 763us/step - loss: 0.3056 - accuracy: 0.8812 - val_loss: 0.3078 - val_accuracy: 0.8830\n",
      "Epoch 14/150\n",
      "3623/3623 [==============================] - 3s 769us/step - loss: 0.3057 - accuracy: 0.8812 - val_loss: 0.3025 - val_accuracy: 0.8846\n",
      "Epoch 15/150\n",
      "3623/3623 [==============================] - 3s 760us/step - loss: 0.3035 - accuracy: 0.8817 - val_loss: 0.3286 - val_accuracy: 0.8719\n",
      "Epoch 16/150\n",
      "3612/3623 [============================>.] - ETA: 0s - loss: 0.3021 - accuracy: 0.8829INFO:tensorflow:Assets written to: /home/anza-tshilidzi/Desktop/Masters_material/e+ e- study/wandb/run-20240815_090338-mjhdfse0/files/model-best/assets\n"
     ]
    },
    {
     "name": "stderr",
     "output_type": "stream",
     "text": [
      "\u001b[34m\u001b[1mwandb\u001b[0m: Adding directory to artifact (/home/anza-tshilidzi/Desktop/Masters_material/e+ e- study/wandb/run-20240815_090338-mjhdfse0/files/model-best)... Done. 0.0s\n"
     ]
    },
    {
     "name": "stdout",
     "output_type": "stream",
     "text": [
      "3623/3623 [==============================] - 4s 973us/step - loss: 0.3021 - accuracy: 0.8828 - val_loss: 0.2942 - val_accuracy: 0.8861\n",
      "Epoch 17/150\n",
      "3593/3623 [============================>.] - ETA: 0s - loss: 0.3006 - accuracy: 0.8842INFO:tensorflow:Assets written to: /home/anza-tshilidzi/Desktop/Masters_material/e+ e- study/wandb/run-20240815_090338-mjhdfse0/files/model-best/assets\n"
     ]
    },
    {
     "name": "stderr",
     "output_type": "stream",
     "text": [
      "\u001b[34m\u001b[1mwandb\u001b[0m: Adding directory to artifact (/home/anza-tshilidzi/Desktop/Masters_material/e+ e- study/wandb/run-20240815_090338-mjhdfse0/files/model-best)... Done. 0.0s\n"
     ]
    },
    {
     "name": "stdout",
     "output_type": "stream",
     "text": [
      "3623/3623 [==============================] - 4s 1ms/step - loss: 0.3005 - accuracy: 0.8843 - val_loss: 0.2929 - val_accuracy: 0.8855\n",
      "Epoch 18/150\n",
      "3623/3623 [==============================] - 3s 769us/step - loss: 0.2987 - accuracy: 0.8847 - val_loss: 0.2994 - val_accuracy: 0.8865\n",
      "Epoch 19/150\n",
      "3623/3623 [==============================] - 3s 764us/step - loss: 0.2974 - accuracy: 0.8854 - val_loss: 0.3017 - val_accuracy: 0.8816\n",
      "Epoch 20/150\n",
      "3621/3623 [============================>.] - ETA: 0s - loss: 0.2968 - accuracy: 0.8853INFO:tensorflow:Assets written to: /home/anza-tshilidzi/Desktop/Masters_material/e+ e- study/wandb/run-20240815_090338-mjhdfse0/files/model-best/assets\n"
     ]
    },
    {
     "name": "stderr",
     "output_type": "stream",
     "text": [
      "\u001b[34m\u001b[1mwandb\u001b[0m: Adding directory to artifact (/home/anza-tshilidzi/Desktop/Masters_material/e+ e- study/wandb/run-20240815_090338-mjhdfse0/files/model-best)... Done. 0.0s\n"
     ]
    },
    {
     "name": "stdout",
     "output_type": "stream",
     "text": [
      "3623/3623 [==============================] - 3s 956us/step - loss: 0.2968 - accuracy: 0.8853 - val_loss: 0.2895 - val_accuracy: 0.8879\n",
      "Epoch 21/150\n",
      "3623/3623 [==============================] - 3s 764us/step - loss: 0.2967 - accuracy: 0.8855 - val_loss: 0.2900 - val_accuracy: 0.8861\n",
      "Epoch 22/150\n",
      "3623/3623 [==============================] - 3s 768us/step - loss: 0.2941 - accuracy: 0.8856 - val_loss: 0.2901 - val_accuracy: 0.8880\n",
      "Epoch 23/150\n",
      "3623/3623 [==============================] - 3s 783us/step - loss: 0.2948 - accuracy: 0.8861 - val_loss: 0.3085 - val_accuracy: 0.8793\n",
      "Epoch 24/150\n",
      "3623/3623 [==============================] - 3s 763us/step - loss: 0.2923 - accuracy: 0.8863 - val_loss: 0.3014 - val_accuracy: 0.8825\n",
      "Epoch 25/150\n",
      "3623/3623 [==============================] - 3s 761us/step - loss: 0.2914 - accuracy: 0.8868 - val_loss: 0.2912 - val_accuracy: 0.8880\n",
      "Epoch 26/150\n",
      "3623/3623 [==============================] - 3s 760us/step - loss: 0.2915 - accuracy: 0.8870 - val_loss: 0.3020 - val_accuracy: 0.8840\n",
      "Epoch 27/150\n",
      "3623/3623 [==============================] - 3s 771us/step - loss: 0.2909 - accuracy: 0.8867 - val_loss: 0.3007 - val_accuracy: 0.8813\n",
      "Epoch 28/150\n",
      "3623/3623 [==============================] - 3s 803us/step - loss: 0.2904 - accuracy: 0.8879 - val_loss: 0.2915 - val_accuracy: 0.8850\n",
      "Epoch 29/150\n",
      "3578/3623 [============================>.] - ETA: 0s - loss: 0.2908 - accuracy: 0.8875INFO:tensorflow:Assets written to: /home/anza-tshilidzi/Desktop/Masters_material/e+ e- study/wandb/run-20240815_090338-mjhdfse0/files/model-best/assets\n"
     ]
    },
    {
     "name": "stderr",
     "output_type": "stream",
     "text": [
      "\u001b[34m\u001b[1mwandb\u001b[0m: Adding directory to artifact (/home/anza-tshilidzi/Desktop/Masters_material/e+ e- study/wandb/run-20240815_090338-mjhdfse0/files/model-best)... Done. 0.0s\n"
     ]
    },
    {
     "name": "stdout",
     "output_type": "stream",
     "text": [
      "3623/3623 [==============================] - 4s 967us/step - loss: 0.2908 - accuracy: 0.8874 - val_loss: 0.2856 - val_accuracy: 0.8893\n",
      "Epoch 30/150\n",
      "3623/3623 [==============================] - 3s 764us/step - loss: 0.2877 - accuracy: 0.8882 - val_loss: 0.3082 - val_accuracy: 0.8826\n",
      "Epoch 31/150\n",
      "3623/3623 [==============================] - 3s 768us/step - loss: 0.2899 - accuracy: 0.8872 - val_loss: 0.2918 - val_accuracy: 0.8868\n",
      "Epoch 32/150\n",
      "3623/3623 [==============================] - 3s 769us/step - loss: 0.2887 - accuracy: 0.8884 - val_loss: 0.2906 - val_accuracy: 0.8878\n",
      "Epoch 33/150\n",
      "3623/3623 [==============================] - 3s 765us/step - loss: 0.2889 - accuracy: 0.8876 - val_loss: 0.3039 - val_accuracy: 0.8850\n",
      "Epoch 34/150\n",
      "3623/3623 [==============================] - 3s 791us/step - loss: 0.2874 - accuracy: 0.8883 - val_loss: 0.2922 - val_accuracy: 0.8856\n",
      "Epoch 35/150\n",
      "3623/3623 [==============================] - 3s 761us/step - loss: 0.2866 - accuracy: 0.8877 - val_loss: 0.2903 - val_accuracy: 0.8873\n",
      "Epoch 36/150\n",
      "3623/3623 [==============================] - 3s 767us/step - loss: 0.2861 - accuracy: 0.8892 - val_loss: 0.2943 - val_accuracy: 0.8829\n",
      "Epoch 37/150\n",
      "3578/3623 [============================>.] - ETA: 0s - loss: 0.2878 - accuracy: 0.8879INFO:tensorflow:Assets written to: /home/anza-tshilidzi/Desktop/Masters_material/e+ e- study/wandb/run-20240815_090338-mjhdfse0/files/model-best/assets\n"
     ]
    },
    {
     "name": "stderr",
     "output_type": "stream",
     "text": [
      "\u001b[34m\u001b[1mwandb\u001b[0m: Adding directory to artifact (/home/anza-tshilidzi/Desktop/Masters_material/e+ e- study/wandb/run-20240815_090338-mjhdfse0/files/model-best)... Done. 0.0s\n"
     ]
    },
    {
     "name": "stdout",
     "output_type": "stream",
     "text": [
      "3623/3623 [==============================] - 4s 995us/step - loss: 0.2878 - accuracy: 0.8880 - val_loss: 0.2851 - val_accuracy: 0.8879\n",
      "Epoch 38/150\n",
      "3608/3623 [============================>.] - ETA: 0s - loss: 0.2845 - accuracy: 0.8896INFO:tensorflow:Assets written to: /home/anza-tshilidzi/Desktop/Masters_material/e+ e- study/wandb/run-20240815_090338-mjhdfse0/files/model-best/assets\n"
     ]
    },
    {
     "name": "stderr",
     "output_type": "stream",
     "text": [
      "\u001b[34m\u001b[1mwandb\u001b[0m: Adding directory to artifact (/home/anza-tshilidzi/Desktop/Masters_material/e+ e- study/wandb/run-20240815_090338-mjhdfse0/files/model-best)... Done. 0.0s\n"
     ]
    },
    {
     "name": "stdout",
     "output_type": "stream",
     "text": [
      "3623/3623 [==============================] - 4s 990us/step - loss: 0.2845 - accuracy: 0.8896 - val_loss: 0.2818 - val_accuracy: 0.8895\n",
      "Epoch 39/150\n",
      "3623/3623 [==============================] - 3s 794us/step - loss: 0.2859 - accuracy: 0.8881 - val_loss: 0.3094 - val_accuracy: 0.8810\n",
      "Epoch 40/150\n",
      "3623/3623 [==============================] - 3s 836us/step - loss: 0.2855 - accuracy: 0.8888 - val_loss: 0.2863 - val_accuracy: 0.8889\n",
      "Epoch 41/150\n",
      "3585/3623 [============================>.] - ETA: 0s - loss: 0.2840 - accuracy: 0.8895INFO:tensorflow:Assets written to: /home/anza-tshilidzi/Desktop/Masters_material/e+ e- study/wandb/run-20240815_090338-mjhdfse0/files/model-best/assets\n"
     ]
    },
    {
     "name": "stderr",
     "output_type": "stream",
     "text": [
      "\u001b[34m\u001b[1mwandb\u001b[0m: Adding directory to artifact (/home/anza-tshilidzi/Desktop/Masters_material/e+ e- study/wandb/run-20240815_090338-mjhdfse0/files/model-best)... Done. 0.0s\n"
     ]
    },
    {
     "name": "stdout",
     "output_type": "stream",
     "text": [
      "3623/3623 [==============================] - 4s 1ms/step - loss: 0.2839 - accuracy: 0.8896 - val_loss: 0.2796 - val_accuracy: 0.8896\n",
      "Epoch 42/150\n",
      "3623/3623 [==============================] - 3s 947us/step - loss: 0.2852 - accuracy: 0.8889 - val_loss: 0.2804 - val_accuracy: 0.8895\n",
      "Epoch 43/150\n",
      "3623/3623 [==============================] - 3s 901us/step - loss: 0.2827 - accuracy: 0.8897 - val_loss: 0.2956 - val_accuracy: 0.8853\n",
      "Epoch 44/150\n",
      "3623/3623 [==============================] - 3s 873us/step - loss: 0.2812 - accuracy: 0.8916 - val_loss: 0.2798 - val_accuracy: 0.8910\n",
      "Epoch 45/150\n",
      "3623/3623 [==============================] - 3s 775us/step - loss: 0.2824 - accuracy: 0.8905 - val_loss: 0.2994 - val_accuracy: 0.8845\n",
      "Epoch 46/150\n",
      "3623/3623 [==============================] - 3s 778us/step - loss: 0.2812 - accuracy: 0.8908 - val_loss: 0.2899 - val_accuracy: 0.8867\n",
      "Epoch 47/150\n",
      "3588/3623 [============================>.] - ETA: 0s - loss: 0.2808 - accuracy: 0.8912INFO:tensorflow:Assets written to: /home/anza-tshilidzi/Desktop/Masters_material/e+ e- study/wandb/run-20240815_090338-mjhdfse0/files/model-best/assets\n"
     ]
    },
    {
     "name": "stderr",
     "output_type": "stream",
     "text": [
      "\u001b[34m\u001b[1mwandb\u001b[0m: Adding directory to artifact (/home/anza-tshilidzi/Desktop/Masters_material/e+ e- study/wandb/run-20240815_090338-mjhdfse0/files/model-best)... Done. 0.0s\n"
     ]
    },
    {
     "name": "stdout",
     "output_type": "stream",
     "text": [
      "3623/3623 [==============================] - 4s 1ms/step - loss: 0.2810 - accuracy: 0.8910 - val_loss: 0.2762 - val_accuracy: 0.8911\n",
      "Epoch 48/150\n",
      "3623/3623 [==============================] - 3s 764us/step - loss: 0.2798 - accuracy: 0.8915 - val_loss: 0.2848 - val_accuracy: 0.8888\n",
      "Epoch 49/150\n",
      "3623/3623 [==============================] - 3s 801us/step - loss: 0.2793 - accuracy: 0.8916 - val_loss: 0.2772 - val_accuracy: 0.8909\n",
      "Epoch 50/150\n",
      "3623/3623 [==============================] - 3s 772us/step - loss: 0.2790 - accuracy: 0.8923 - val_loss: 0.2802 - val_accuracy: 0.8911\n",
      "Epoch 51/150\n",
      "3553/3623 [============================>.] - ETA: 0s - loss: 0.2776 - accuracy: 0.8924INFO:tensorflow:Assets written to: /home/anza-tshilidzi/Desktop/Masters_material/e+ e- study/wandb/run-20240815_090338-mjhdfse0/files/model-best/assets\n"
     ]
    },
    {
     "name": "stderr",
     "output_type": "stream",
     "text": [
      "\u001b[34m\u001b[1mwandb\u001b[0m: Adding directory to artifact (/home/anza-tshilidzi/Desktop/Masters_material/e+ e- study/wandb/run-20240815_090338-mjhdfse0/files/model-best)... Done. 0.0s\n"
     ]
    },
    {
     "name": "stdout",
     "output_type": "stream",
     "text": [
      "3623/3623 [==============================] - 4s 1ms/step - loss: 0.2776 - accuracy: 0.8923 - val_loss: 0.2746 - val_accuracy: 0.8928\n",
      "Epoch 52/150\n",
      "3623/3623 [==============================] - 3s 771us/step - loss: 0.2783 - accuracy: 0.8922 - val_loss: 0.2767 - val_accuracy: 0.8926\n",
      "Epoch 53/150\n",
      "3623/3623 [==============================] - 3s 760us/step - loss: 0.2754 - accuracy: 0.8939 - val_loss: 0.3101 - val_accuracy: 0.8802\n",
      "Epoch 54/150\n",
      "3623/3623 [==============================] - 3s 794us/step - loss: 0.2759 - accuracy: 0.8926 - val_loss: 0.2757 - val_accuracy: 0.8933\n",
      "Epoch 55/150\n",
      "3623/3623 [==============================] - 3s 767us/step - loss: 0.2739 - accuracy: 0.8945 - val_loss: 0.2792 - val_accuracy: 0.8909\n",
      "Epoch 56/150\n",
      "3623/3623 [==============================] - 3s 759us/step - loss: 0.2737 - accuracy: 0.8943 - val_loss: 0.2794 - val_accuracy: 0.8906\n",
      "Epoch 57/150\n",
      "3606/3623 [============================>.] - ETA: 0s - loss: 0.2740 - accuracy: 0.8940INFO:tensorflow:Assets written to: /home/anza-tshilidzi/Desktop/Masters_material/e+ e- study/wandb/run-20240815_090338-mjhdfse0/files/model-best/assets\n"
     ]
    },
    {
     "name": "stderr",
     "output_type": "stream",
     "text": [
      "\u001b[34m\u001b[1mwandb\u001b[0m: Adding directory to artifact (/home/anza-tshilidzi/Desktop/Masters_material/e+ e- study/wandb/run-20240815_090338-mjhdfse0/files/model-best)... Done. 0.0s\n"
     ]
    },
    {
     "name": "stdout",
     "output_type": "stream",
     "text": [
      "3623/3623 [==============================] - 4s 1ms/step - loss: 0.2743 - accuracy: 0.8938 - val_loss: 0.2736 - val_accuracy: 0.8934\n",
      "Epoch 58/150\n",
      "3623/3623 [==============================] - 3s 749us/step - loss: 0.2735 - accuracy: 0.8945 - val_loss: 0.2998 - val_accuracy: 0.8832\n",
      "Epoch 59/150\n",
      "3623/3623 [==============================] - 3s 757us/step - loss: 0.2728 - accuracy: 0.8945 - val_loss: 0.2760 - val_accuracy: 0.8904\n",
      "Epoch 60/150\n",
      "3623/3623 [==============================] - 3s 789us/step - loss: 0.2722 - accuracy: 0.8947 - val_loss: 0.2812 - val_accuracy: 0.8911\n",
      "Epoch 61/150\n",
      "3623/3623 [==============================] - 3s 773us/step - loss: 0.2709 - accuracy: 0.8948 - val_loss: 0.2979 - val_accuracy: 0.8888\n",
      "Epoch 62/150\n",
      "3623/3623 [==============================] - 3s 774us/step - loss: 0.2721 - accuracy: 0.8945 - val_loss: 0.2789 - val_accuracy: 0.8922\n",
      "Epoch 63/150\n",
      "3623/3623 [==============================] - 3s 752us/step - loss: 0.2708 - accuracy: 0.8949 - val_loss: 0.2816 - val_accuracy: 0.8899\n",
      "Epoch 64/150\n",
      "3623/3623 [==============================] - 3s 765us/step - loss: 0.2710 - accuracy: 0.8949 - val_loss: 0.3095 - val_accuracy: 0.8808\n",
      "Epoch 65/150\n",
      "3623/3623 [==============================] - 3s 805us/step - loss: 0.2708 - accuracy: 0.8948 - val_loss: 0.2778 - val_accuracy: 0.8947\n",
      "Epoch 66/150\n",
      "3546/3623 [============================>.] - ETA: 0s - loss: 0.2712 - accuracy: 0.8947INFO:tensorflow:Assets written to: /home/anza-tshilidzi/Desktop/Masters_material/e+ e- study/wandb/run-20240815_090338-mjhdfse0/files/model-best/assets\n"
     ]
    },
    {
     "name": "stderr",
     "output_type": "stream",
     "text": [
      "\u001b[34m\u001b[1mwandb\u001b[0m: Adding directory to artifact (/home/anza-tshilidzi/Desktop/Masters_material/e+ e- study/wandb/run-20240815_090338-mjhdfse0/files/model-best)... Done. 0.0s\n"
     ]
    },
    {
     "name": "stdout",
     "output_type": "stream",
     "text": [
      "3623/3623 [==============================] - 4s 1ms/step - loss: 0.2711 - accuracy: 0.8947 - val_loss: 0.2722 - val_accuracy: 0.8934\n",
      "Epoch 67/150\n",
      "3623/3623 [==============================] - 3s 767us/step - loss: 0.2695 - accuracy: 0.8955 - val_loss: 0.2758 - val_accuracy: 0.8915\n",
      "Epoch 68/150\n",
      "3623/3623 [==============================] - 3s 769us/step - loss: 0.2694 - accuracy: 0.8955 - val_loss: 0.3454 - val_accuracy: 0.8644\n",
      "Epoch 69/150\n",
      "3623/3623 [==============================] - 3s 766us/step - loss: 0.2695 - accuracy: 0.8949 - val_loss: 0.2843 - val_accuracy: 0.8889\n",
      "Epoch 70/150\n",
      "3623/3623 [==============================] - 3s 761us/step - loss: 0.2696 - accuracy: 0.8955 - val_loss: 0.2830 - val_accuracy: 0.8918\n",
      "Epoch 71/150\n",
      "3623/3623 [==============================] - 3s 809us/step - loss: 0.2692 - accuracy: 0.8962 - val_loss: 0.2764 - val_accuracy: 0.8920\n",
      "Epoch 72/150\n",
      "3623/3623 [==============================] - 3s 774us/step - loss: 0.2696 - accuracy: 0.8952 - val_loss: 0.2858 - val_accuracy: 0.8894\n",
      "Epoch 73/150\n",
      "3623/3623 [==============================] - 3s 769us/step - loss: 0.2694 - accuracy: 0.8953 - val_loss: 0.2726 - val_accuracy: 0.8935\n",
      "Epoch 74/150\n",
      "3623/3623 [==============================] - 3s 781us/step - loss: 0.2671 - accuracy: 0.8964 - val_loss: 0.2819 - val_accuracy: 0.8894\n",
      "Epoch 75/150\n",
      "3623/3623 [==============================] - 3s 769us/step - loss: 0.2671 - accuracy: 0.8954 - val_loss: 0.2732 - val_accuracy: 0.8924\n",
      "Epoch 76/150\n",
      "3623/3623 [==============================] - 3s 780us/step - loss: 0.2668 - accuracy: 0.8961 - val_loss: 0.2748 - val_accuracy: 0.8919\n",
      "Epoch 77/150\n",
      "3567/3623 [============================>.] - ETA: 0s - loss: 0.2676 - accuracy: 0.8962INFO:tensorflow:Assets written to: /home/anza-tshilidzi/Desktop/Masters_material/e+ e- study/wandb/run-20240815_090338-mjhdfse0/files/model-best/assets\n"
     ]
    },
    {
     "name": "stderr",
     "output_type": "stream",
     "text": [
      "\u001b[34m\u001b[1mwandb\u001b[0m: Adding directory to artifact (/home/anza-tshilidzi/Desktop/Masters_material/e+ e- study/wandb/run-20240815_090338-mjhdfse0/files/model-best)... Done. 0.0s\n"
     ]
    },
    {
     "name": "stdout",
     "output_type": "stream",
     "text": [
      "3623/3623 [==============================] - 4s 983us/step - loss: 0.2676 - accuracy: 0.8962 - val_loss: 0.2649 - val_accuracy: 0.8963\n",
      "Epoch 78/150\n",
      "3623/3623 [==============================] - 3s 771us/step - loss: 0.2667 - accuracy: 0.8955 - val_loss: 0.2679 - val_accuracy: 0.8943\n",
      "Epoch 79/150\n",
      "3623/3623 [==============================] - 3s 760us/step - loss: 0.2674 - accuracy: 0.8964 - val_loss: 0.2725 - val_accuracy: 0.8935\n",
      "Epoch 80/150\n",
      "3623/3623 [==============================] - 3s 762us/step - loss: 0.2668 - accuracy: 0.8956 - val_loss: 0.2857 - val_accuracy: 0.8889\n",
      "Epoch 81/150\n",
      "3623/3623 [==============================] - 3s 769us/step - loss: 0.2659 - accuracy: 0.8972 - val_loss: 0.2677 - val_accuracy: 0.8962\n",
      "Epoch 82/150\n",
      "3623/3623 [==============================] - 3s 812us/step - loss: 0.2661 - accuracy: 0.8968 - val_loss: 0.2687 - val_accuracy: 0.8955\n",
      "Epoch 83/150\n",
      "3567/3623 [============================>.] - ETA: 0s - loss: 0.2646 - accuracy: 0.8978INFO:tensorflow:Assets written to: /home/anza-tshilidzi/Desktop/Masters_material/e+ e- study/wandb/run-20240815_090338-mjhdfse0/files/model-best/assets\n"
     ]
    },
    {
     "name": "stderr",
     "output_type": "stream",
     "text": [
      "\u001b[34m\u001b[1mwandb\u001b[0m: Adding directory to artifact (/home/anza-tshilidzi/Desktop/Masters_material/e+ e- study/wandb/run-20240815_090338-mjhdfse0/files/model-best)... Done. 0.0s\n"
     ]
    },
    {
     "name": "stdout",
     "output_type": "stream",
     "text": [
      "3623/3623 [==============================] - 6s 2ms/step - loss: 0.2647 - accuracy: 0.8978 - val_loss: 0.2635 - val_accuracy: 0.8954\n",
      "Epoch 84/150\n",
      "3623/3623 [==============================] - 3s 760us/step - loss: 0.2648 - accuracy: 0.8972 - val_loss: 0.2712 - val_accuracy: 0.8950\n",
      "Epoch 85/150\n",
      "3623/3623 [==============================] - 3s 764us/step - loss: 0.2655 - accuracy: 0.8962 - val_loss: 0.2667 - val_accuracy: 0.8952\n",
      "Epoch 86/150\n",
      "3623/3623 [==============================] - 3s 768us/step - loss: 0.2648 - accuracy: 0.8971 - val_loss: 0.2733 - val_accuracy: 0.8921\n",
      "Epoch 87/150\n",
      "3623/3623 [==============================] - 3s 797us/step - loss: 0.2653 - accuracy: 0.8964 - val_loss: 0.2792 - val_accuracy: 0.8911\n",
      "Epoch 88/150\n",
      "3623/3623 [==============================] - 3s 769us/step - loss: 0.2648 - accuracy: 0.8968 - val_loss: 0.2661 - val_accuracy: 0.8958\n",
      "Epoch 89/150\n",
      "3623/3623 [==============================] - 3s 774us/step - loss: 0.2647 - accuracy: 0.8974 - val_loss: 0.2662 - val_accuracy: 0.8947\n",
      "Epoch 90/150\n",
      "3623/3623 [==============================] - 3s 763us/step - loss: 0.2647 - accuracy: 0.8970 - val_loss: 0.2675 - val_accuracy: 0.8933\n",
      "Epoch 91/150\n",
      "3623/3623 [==============================] - 3s 773us/step - loss: 0.2646 - accuracy: 0.8969 - val_loss: 0.2677 - val_accuracy: 0.8950\n",
      "Epoch 92/150\n",
      "3557/3623 [============================>.] - ETA: 0s - loss: 0.2646 - accuracy: 0.8972INFO:tensorflow:Assets written to: /home/anza-tshilidzi/Desktop/Masters_material/e+ e- study/wandb/run-20240815_090338-mjhdfse0/files/model-best/assets\n"
     ]
    },
    {
     "name": "stderr",
     "output_type": "stream",
     "text": [
      "\u001b[34m\u001b[1mwandb\u001b[0m: Adding directory to artifact (/home/anza-tshilidzi/Desktop/Masters_material/e+ e- study/wandb/run-20240815_090338-mjhdfse0/files/model-best)... Done. 0.0s\n"
     ]
    },
    {
     "name": "stdout",
     "output_type": "stream",
     "text": [
      "3623/3623 [==============================] - 4s 1ms/step - loss: 0.2648 - accuracy: 0.8970 - val_loss: 0.2611 - val_accuracy: 0.8970\n",
      "Epoch 93/150\n",
      "3623/3623 [==============================] - 3s 764us/step - loss: 0.2637 - accuracy: 0.8972 - val_loss: 0.2861 - val_accuracy: 0.8917\n",
      "Epoch 94/150\n",
      "3623/3623 [==============================] - 3s 765us/step - loss: 0.2643 - accuracy: 0.8972 - val_loss: 0.2689 - val_accuracy: 0.8954\n",
      "Epoch 95/150\n",
      "3623/3623 [==============================] - 3s 753us/step - loss: 0.2650 - accuracy: 0.8974 - val_loss: 0.2695 - val_accuracy: 0.8951\n",
      "Epoch 96/150\n",
      "3623/3623 [==============================] - 3s 765us/step - loss: 0.2628 - accuracy: 0.8977 - val_loss: 0.2701 - val_accuracy: 0.8949\n",
      "Epoch 97/150\n",
      "3623/3623 [==============================] - 3s 764us/step - loss: 0.2632 - accuracy: 0.8978 - val_loss: 0.2683 - val_accuracy: 0.8943\n",
      "Epoch 98/150\n",
      "3623/3623 [==============================] - 3s 791us/step - loss: 0.2632 - accuracy: 0.8973 - val_loss: 0.2654 - val_accuracy: 0.8973\n",
      "Epoch 99/150\n",
      "3623/3623 [==============================] - 3s 758us/step - loss: 0.2636 - accuracy: 0.8972 - val_loss: 0.2891 - val_accuracy: 0.8881\n",
      "Epoch 100/150\n",
      "3623/3623 [==============================] - 3s 766us/step - loss: 0.2631 - accuracy: 0.8974 - val_loss: 0.3034 - val_accuracy: 0.8864\n",
      "Epoch 101/150\n",
      "3623/3623 [==============================] - 3s 764us/step - loss: 0.2627 - accuracy: 0.8978 - val_loss: 0.2721 - val_accuracy: 0.8915\n",
      "Epoch 102/150\n",
      "3623/3623 [==============================] - 3s 775us/step - loss: 0.2634 - accuracy: 0.8973 - val_loss: 0.2712 - val_accuracy: 0.8918\n",
      "Epoch 103/150\n",
      "3623/3623 [==============================] - 3s 806us/step - loss: 0.2623 - accuracy: 0.8986 - val_loss: 0.2654 - val_accuracy: 0.8959\n",
      "Epoch 104/150\n",
      "3623/3623 [==============================] - 3s 764us/step - loss: 0.2637 - accuracy: 0.8976 - val_loss: 0.2670 - val_accuracy: 0.8951\n",
      "Epoch 105/150\n",
      "3623/3623 [==============================] - 3s 761us/step - loss: 0.2628 - accuracy: 0.8978 - val_loss: 0.2639 - val_accuracy: 0.8959\n",
      "Epoch 106/150\n",
      "3623/3623 [==============================] - 3s 770us/step - loss: 0.2621 - accuracy: 0.8974 - val_loss: 0.2619 - val_accuracy: 0.8973\n",
      "Epoch 107/150\n",
      "3623/3623 [==============================] - 3s 771us/step - loss: 0.2614 - accuracy: 0.8987 - val_loss: 0.2738 - val_accuracy: 0.8938\n",
      "Epoch 108/150\n",
      "3623/3623 [==============================] - 3s 787us/step - loss: 0.2619 - accuracy: 0.8978 - val_loss: 0.2844 - val_accuracy: 0.8868\n",
      "Epoch 109/150\n",
      "3623/3623 [==============================] - 3s 798us/step - loss: 0.2614 - accuracy: 0.8985 - val_loss: 0.2723 - val_accuracy: 0.8957\n",
      "Epoch 110/150\n",
      "3623/3623 [==============================] - 3s 759us/step - loss: 0.2620 - accuracy: 0.8978 - val_loss: 0.2786 - val_accuracy: 0.8923\n",
      "Epoch 111/150\n",
      "3623/3623 [==============================] - 3s 752us/step - loss: 0.2619 - accuracy: 0.8977 - val_loss: 0.2690 - val_accuracy: 0.8930\n",
      "Epoch 112/150\n",
      "3623/3623 [==============================] - 3s 774us/step - loss: 0.2622 - accuracy: 0.8982 - val_loss: 0.2771 - val_accuracy: 0.8949\n",
      "Epoch 113/150\n",
      "3623/3623 [==============================] - 3s 772us/step - loss: 0.2613 - accuracy: 0.8983 - val_loss: 0.2614 - val_accuracy: 0.8969\n",
      "Epoch 114/150\n",
      "3623/3623 [==============================] - 3s 781us/step - loss: 0.2609 - accuracy: 0.8987 - val_loss: 0.2652 - val_accuracy: 0.8975\n",
      "Epoch 115/150\n",
      "3623/3623 [==============================] - 3s 797us/step - loss: 0.2610 - accuracy: 0.8982 - val_loss: 0.2654 - val_accuracy: 0.8954\n",
      "Epoch 116/150\n",
      "3623/3623 [==============================] - 3s 769us/step - loss: 0.2607 - accuracy: 0.8985 - val_loss: 0.2651 - val_accuracy: 0.8950\n",
      "Epoch 117/150\n",
      "3557/3623 [============================>.] - ETA: 0s - loss: 0.2612 - accuracy: 0.8982INFO:tensorflow:Assets written to: /home/anza-tshilidzi/Desktop/Masters_material/e+ e- study/wandb/run-20240815_090338-mjhdfse0/files/model-best/assets\n"
     ]
    },
    {
     "name": "stderr",
     "output_type": "stream",
     "text": [
      "\u001b[34m\u001b[1mwandb\u001b[0m: Adding directory to artifact (/home/anza-tshilidzi/Desktop/Masters_material/e+ e- study/wandb/run-20240815_090338-mjhdfse0/files/model-best)... Done. 0.0s\n"
     ]
    },
    {
     "name": "stdout",
     "output_type": "stream",
     "text": [
      "3623/3623 [==============================] - 4s 1ms/step - loss: 0.2609 - accuracy: 0.8983 - val_loss: 0.2609 - val_accuracy: 0.8980\n",
      "Epoch 118/150\n",
      "3623/3623 [==============================] - 3s 767us/step - loss: 0.2608 - accuracy: 0.8984 - val_loss: 0.2613 - val_accuracy: 0.8975\n",
      "Epoch 119/150\n",
      "3623/3623 [==============================] - 3s 769us/step - loss: 0.2609 - accuracy: 0.8980 - val_loss: 0.2665 - val_accuracy: 0.8958\n",
      "Epoch 120/150\n",
      "3623/3623 [==============================] - 3s 796us/step - loss: 0.2614 - accuracy: 0.8985 - val_loss: 0.2693 - val_accuracy: 0.8951\n",
      "Epoch 121/150\n",
      "3623/3623 [==============================] - 3s 764us/step - loss: 0.2612 - accuracy: 0.8978 - val_loss: 0.2662 - val_accuracy: 0.8953\n",
      "Epoch 122/150\n",
      "3623/3623 [==============================] - 3s 781us/step - loss: 0.2617 - accuracy: 0.8985 - val_loss: 0.2685 - val_accuracy: 0.8956\n",
      "Epoch 123/150\n",
      "3623/3623 [==============================] - 3s 763us/step - loss: 0.2614 - accuracy: 0.8974 - val_loss: 0.2781 - val_accuracy: 0.8910\n",
      "Epoch 124/150\n",
      "3623/3623 [==============================] - 3s 832us/step - loss: 0.2612 - accuracy: 0.8984 - val_loss: 0.2649 - val_accuracy: 0.8967\n",
      "Epoch 125/150\n",
      "3623/3623 [==============================] - 3s 922us/step - loss: 0.2614 - accuracy: 0.8987 - val_loss: 0.2690 - val_accuracy: 0.8959\n",
      "Epoch 126/150\n",
      "3623/3623 [==============================] - 4s 987us/step - loss: 0.2599 - accuracy: 0.8985 - val_loss: 0.2766 - val_accuracy: 0.8941\n",
      "Epoch 127/150\n",
      "3623/3623 [==============================] - 3s 814us/step - loss: 0.2600 - accuracy: 0.8981 - val_loss: 0.2705 - val_accuracy: 0.8943\n",
      "Epoch 128/150\n",
      "3623/3623 [==============================] - 3s 787us/step - loss: 0.2604 - accuracy: 0.8977 - val_loss: 0.2686 - val_accuracy: 0.8938\n",
      "Epoch 129/150\n",
      "3623/3623 [==============================] - 3s 768us/step - loss: 0.2609 - accuracy: 0.8978 - val_loss: 0.2799 - val_accuracy: 0.8931\n",
      "Epoch 130/150\n",
      "3623/3623 [==============================] - 3s 764us/step - loss: 0.2609 - accuracy: 0.8980 - val_loss: 0.2779 - val_accuracy: 0.8900\n",
      "Epoch 131/150\n",
      "3623/3623 [==============================] - 3s 805us/step - loss: 0.2606 - accuracy: 0.8988 - val_loss: 0.2670 - val_accuracy: 0.8947\n",
      "Epoch 132/150\n",
      "3623/3623 [==============================] - 3s 762us/step - loss: 0.2597 - accuracy: 0.8985 - val_loss: 0.2615 - val_accuracy: 0.8964\n",
      "Epoch 133/150\n",
      "3623/3623 [==============================] - 3s 775us/step - loss: 0.2593 - accuracy: 0.8989 - val_loss: 0.2804 - val_accuracy: 0.8914\n",
      "Epoch 134/150\n",
      "3623/3623 [==============================] - 3s 774us/step - loss: 0.2598 - accuracy: 0.8983 - val_loss: 0.2835 - val_accuracy: 0.8892\n",
      "Epoch 135/150\n",
      "3623/3623 [==============================] - 3s 758us/step - loss: 0.2597 - accuracy: 0.8984 - val_loss: 0.2817 - val_accuracy: 0.8891\n",
      "Epoch 136/150\n",
      "3623/3623 [==============================] - 3s 762us/step - loss: 0.2602 - accuracy: 0.8984 - val_loss: 0.2779 - val_accuracy: 0.8937\n",
      "Epoch 137/150\n",
      "3623/3623 [==============================] - 3s 790us/step - loss: 0.2597 - accuracy: 0.8990 - val_loss: 0.2753 - val_accuracy: 0.8935\n",
      "Epoch 138/150\n",
      "3623/3623 [==============================] - 3s 767us/step - loss: 0.2587 - accuracy: 0.8985 - val_loss: 0.2802 - val_accuracy: 0.8925\n",
      "Epoch 139/150\n",
      "3623/3623 [==============================] - 3s 759us/step - loss: 0.2585 - accuracy: 0.8984 - val_loss: 0.2655 - val_accuracy: 0.8951\n",
      "Epoch 140/150\n",
      "3623/3623 [==============================] - 3s 778us/step - loss: 0.2588 - accuracy: 0.8993 - val_loss: 0.2736 - val_accuracy: 0.8939\n",
      "Epoch 141/150\n",
      "3623/3623 [==============================] - 3s 764us/step - loss: 0.2585 - accuracy: 0.8988 - val_loss: 0.2634 - val_accuracy: 0.8967\n",
      "Epoch 142/150\n",
      "3623/3623 [==============================] - 3s 812us/step - loss: 0.2587 - accuracy: 0.8987 - val_loss: 0.2727 - val_accuracy: 0.8916\n",
      "Epoch 143/150\n",
      "3620/3623 [============================>.] - ETA: 0s - loss: 0.2589 - accuracy: 0.8991INFO:tensorflow:Assets written to: /home/anza-tshilidzi/Desktop/Masters_material/e+ e- study/wandb/run-20240815_090338-mjhdfse0/files/model-best/assets\n"
     ]
    },
    {
     "name": "stderr",
     "output_type": "stream",
     "text": [
      "\u001b[34m\u001b[1mwandb\u001b[0m: Adding directory to artifact (/home/anza-tshilidzi/Desktop/Masters_material/e+ e- study/wandb/run-20240815_090338-mjhdfse0/files/model-best)... Done. 0.0s\n"
     ]
    },
    {
     "name": "stdout",
     "output_type": "stream",
     "text": [
      "3623/3623 [==============================] - 4s 992us/step - loss: 0.2588 - accuracy: 0.8991 - val_loss: 0.2603 - val_accuracy: 0.8972\n",
      "Epoch 144/150\n",
      "3623/3623 [==============================] - 3s 767us/step - loss: 0.2590 - accuracy: 0.8980 - val_loss: 0.2710 - val_accuracy: 0.8968\n",
      "Epoch 145/150\n",
      "3623/3623 [==============================] - 3s 766us/step - loss: 0.2589 - accuracy: 0.8987 - val_loss: 0.2656 - val_accuracy: 0.8964\n",
      "Epoch 146/150\n",
      "3623/3623 [==============================] - 3s 795us/step - loss: 0.2587 - accuracy: 0.8992 - val_loss: 0.2698 - val_accuracy: 0.8957\n",
      "Epoch 147/150\n",
      "3623/3623 [==============================] - 3s 777us/step - loss: 0.2590 - accuracy: 0.8997 - val_loss: 0.2687 - val_accuracy: 0.8973\n",
      "Epoch 148/150\n",
      "3623/3623 [==============================] - 3s 799us/step - loss: 0.2590 - accuracy: 0.8983 - val_loss: 0.2725 - val_accuracy: 0.8945\n",
      "Epoch 149/150\n",
      "3623/3623 [==============================] - 3s 771us/step - loss: 0.2589 - accuracy: 0.8991 - val_loss: 0.2645 - val_accuracy: 0.8984\n",
      "Epoch 150/150\n",
      "3623/3623 [==============================] - 3s 762us/step - loss: 0.2581 - accuracy: 0.8981 - val_loss: 0.2651 - val_accuracy: 0.8964\n"
     ]
    },
    {
     "data": {
      "application/vnd.jupyter.widget-view+json": {
       "model_id": "",
       "version_major": 2,
       "version_minor": 0
      },
      "text/plain": [
       "VBox(children=(Label(value='3.528 MB of 3.528 MB uploaded (0.198 MB deduped)\\r'), FloatProgress(value=1.0, max…"
      ]
     },
     "metadata": {},
     "output_type": "display_data"
    },
    {
     "data": {
      "text/html": [
       "W&B sync reduced upload amount by 5.4%"
      ],
      "text/plain": [
       "<IPython.core.display.HTML object>"
      ]
     },
     "metadata": {},
     "output_type": "display_data"
    },
    {
     "data": {
      "text/html": [
       "<style>\n",
       "    table.wandb td:nth-child(1) { padding: 0 10px; text-align: left ; width: auto;} td:nth-child(2) {text-align: left ; width: 100%}\n",
       "    .wandb-row { display: flex; flex-direction: row; flex-wrap: wrap; justify-content: flex-start; width: 100% }\n",
       "    .wandb-col { display: flex; flex-direction: column; flex-basis: 100%; flex: 1; padding: 10px; }\n",
       "    </style>\n",
       "<div class=\"wandb-row\"><div class=\"wandb-col\"><h3>Run history:</h3><br/><table class=\"wandb\"><tr><td>accuracy</td><td>▁▄▆▇▇▇▇▇▇▇▇▇▇███████████████████████████</td></tr><tr><td>epoch</td><td>▁▁▁▁▂▂▂▂▂▃▃▃▃▃▃▄▄▄▄▄▅▅▅▅▅▅▆▆▆▆▆▆▇▇▇▇▇███</td></tr><tr><td>loss</td><td>█▅▃▂▂▂▂▂▂▂▂▂▂▂▁▁▁▁▁▁▁▁▁▁▁▁▁▁▁▁▁▁▁▁▁▁▁▁▁▁</td></tr><tr><td>val_accuracy</td><td>▁▅▆▆▇▇▇▇▇▇▇▇▇▇█▇▇█▇▇▇▇████▇█▇█████▇▇█▇██</td></tr><tr><td>val_loss</td><td>█▆▃▃▂▂▃▂▂▂▂▂▂▂▂▂▂▁▂▂▂▂▁▁▁▁▃▁▂▂▁▁▁▂▂▂▂▁▁▁</td></tr></table><br/></div><div class=\"wandb-col\"><h3>Run summary:</h3><br/><table class=\"wandb\"><tr><td>accuracy</td><td>0.89814</td></tr><tr><td>best_epoch</td><td>142</td></tr><tr><td>best_val_loss</td><td>0.26028</td></tr><tr><td>epoch</td><td>149</td></tr><tr><td>loss</td><td>0.25809</td></tr><tr><td>val_accuracy</td><td>0.89639</td></tr><tr><td>val_loss</td><td>0.26513</td></tr></table><br/></div></div>"
      ],
      "text/plain": [
       "<IPython.core.display.HTML object>"
      ]
     },
     "metadata": {},
     "output_type": "display_data"
    },
    {
     "data": {
      "text/html": [
       " View run <strong style=\"color:#cdcd00\">skilled-sweep-13</strong> at: <a href='https://wandb.ai/anzanzio/ep-em%20DNN/runs/mjhdfse0' target=\"_blank\">https://wandb.ai/anzanzio/ep-em%20DNN/runs/mjhdfse0</a><br/> View project at: <a href='https://wandb.ai/anzanzio/ep-em%20DNN' target=\"_blank\">https://wandb.ai/anzanzio/ep-em%20DNN</a><br/>Synced 6 W&B file(s), 1 media file(s), 104 artifact file(s) and 1 other file(s)"
      ],
      "text/plain": [
       "<IPython.core.display.HTML object>"
      ]
     },
     "metadata": {},
     "output_type": "display_data"
    },
    {
     "data": {
      "text/html": [
       "Find logs at: <code>./wandb/run-20240815_090338-mjhdfse0/logs</code>"
      ],
      "text/plain": [
       "<IPython.core.display.HTML object>"
      ]
     },
     "metadata": {},
     "output_type": "display_data"
    },
    {
     "data": {
      "text/html": [
       "The new W&B backend becomes opt-out in version 0.18.0; try it out with `wandb.require(\"core\")`! See https://wandb.me/wandb-core for more information."
      ],
      "text/plain": [
       "<IPython.core.display.HTML object>"
      ]
     },
     "metadata": {},
     "output_type": "display_data"
    },
    {
     "name": "stderr",
     "output_type": "stream",
     "text": [
      "\u001b[34m\u001b[1mwandb\u001b[0m: Agent Starting Run: 3ili9xtb with config:\n",
      "\u001b[34m\u001b[1mwandb\u001b[0m: \tbatch_size: 14\n",
      "\u001b[34m\u001b[1mwandb\u001b[0m: \tepochs: 160\n",
      "\u001b[34m\u001b[1mwandb\u001b[0m: \tlayers: 31\n",
      "\u001b[34m\u001b[1mwandb\u001b[0m: \tlearning_rate: 0.0006236873961682092\n",
      "\u001b[34m\u001b[1mwandb\u001b[0m: \tneurons: 42\n",
      "\u001b[34m\u001b[1mwandb\u001b[0m: \toptimizer: adam\n"
     ]
    },
    {
     "data": {
      "text/html": [
       "Tracking run with wandb version 0.17.6"
      ],
      "text/plain": [
       "<IPython.core.display.HTML object>"
      ]
     },
     "metadata": {},
     "output_type": "display_data"
    },
    {
     "data": {
      "text/html": [
       "Run data is saved locally in <code>/home/anza-tshilidzi/Desktop/Masters_material/e+ e- study/wandb/run-20240815_091129-3ili9xtb</code>"
      ],
      "text/plain": [
       "<IPython.core.display.HTML object>"
      ]
     },
     "metadata": {},
     "output_type": "display_data"
    },
    {
     "data": {
      "text/html": [
       "Syncing run <strong><a href='https://wandb.ai/anzanzio/ep-em%20DNN/runs/3ili9xtb' target=\"_blank\">denim-sweep-14</a></strong> to <a href='https://wandb.ai/anzanzio/ep-em%20DNN' target=\"_blank\">Weights & Biases</a> (<a href='https://wandb.me/run' target=\"_blank\">docs</a>)<br/>Sweep page: <a href='https://wandb.ai/anzanzio/ep-em%20DNN/sweeps/lg5h93ch' target=\"_blank\">https://wandb.ai/anzanzio/ep-em%20DNN/sweeps/lg5h93ch</a>"
      ],
      "text/plain": [
       "<IPython.core.display.HTML object>"
      ]
     },
     "metadata": {},
     "output_type": "display_data"
    },
    {
     "data": {
      "text/html": [
       " View project at <a href='https://wandb.ai/anzanzio/ep-em%20DNN' target=\"_blank\">https://wandb.ai/anzanzio/ep-em%20DNN</a>"
      ],
      "text/plain": [
       "<IPython.core.display.HTML object>"
      ]
     },
     "metadata": {},
     "output_type": "display_data"
    },
    {
     "data": {
      "text/html": [
       " View sweep at <a href='https://wandb.ai/anzanzio/ep-em%20DNN/sweeps/lg5h93ch' target=\"_blank\">https://wandb.ai/anzanzio/ep-em%20DNN/sweeps/lg5h93ch</a>"
      ],
      "text/plain": [
       "<IPython.core.display.HTML object>"
      ]
     },
     "metadata": {},
     "output_type": "display_data"
    },
    {
     "data": {
      "text/html": [
       " View run at <a href='https://wandb.ai/anzanzio/ep-em%20DNN/runs/3ili9xtb' target=\"_blank\">https://wandb.ai/anzanzio/ep-em%20DNN/runs/3ili9xtb</a>"
      ],
      "text/plain": [
       "<IPython.core.display.HTML object>"
      ]
     },
     "metadata": {},
     "output_type": "display_data"
    },
    {
     "name": "stdout",
     "output_type": "stream",
     "text": [
      "Epoch 1/160\n",
      "7498/7504 [============================>.] - ETA: 0s - loss: 0.5629 - accuracy: 0.7814INFO:tensorflow:Assets written to: /home/anza-tshilidzi/Desktop/Masters_material/e+ e- study/wandb/run-20240815_091129-3ili9xtb/files/model-best/assets\n"
     ]
    },
    {
     "name": "stderr",
     "output_type": "stream",
     "text": [
      "\u001b[34m\u001b[1mwandb\u001b[0m: Adding directory to artifact (/home/anza-tshilidzi/Desktop/Masters_material/e+ e- study/wandb/run-20240815_091129-3ili9xtb/files/model-best)... Done. 0.0s\n"
     ]
    },
    {
     "name": "stdout",
     "output_type": "stream",
     "text": [
      "7504/7504 [==============================] - 7s 890us/step - loss: 0.5628 - accuracy: 0.7815 - val_loss: 0.3790 - val_accuracy: 0.8731\n",
      "Epoch 2/160\n",
      "7504/7504 [==============================] - 5s 723us/step - loss: 0.3699 - accuracy: 0.8614 - val_loss: 0.4008 - val_accuracy: 0.8592\n",
      "Epoch 3/160\n",
      "7417/7504 [============================>.] - ETA: 0s - loss: 0.3370 - accuracy: 0.8702INFO:tensorflow:Assets written to: /home/anza-tshilidzi/Desktop/Masters_material/e+ e- study/wandb/run-20240815_091129-3ili9xtb/files/model-best/assets\n"
     ]
    },
    {
     "name": "stderr",
     "output_type": "stream",
     "text": [
      "\u001b[34m\u001b[1mwandb\u001b[0m: Adding directory to artifact (/home/anza-tshilidzi/Desktop/Masters_material/e+ e- study/wandb/run-20240815_091129-3ili9xtb/files/model-best)... Done. 0.0s\n"
     ]
    },
    {
     "name": "stdout",
     "output_type": "stream",
     "text": [
      "7504/7504 [==============================] - 6s 862us/step - loss: 0.3370 - accuracy: 0.8701 - val_loss: 0.3152 - val_accuracy: 0.8804\n",
      "Epoch 4/160\n",
      "7504/7504 [==============================] - 5s 714us/step - loss: 0.3235 - accuracy: 0.8735 - val_loss: 0.3237 - val_accuracy: 0.8784\n",
      "Epoch 5/160\n",
      "7495/7504 [============================>.] - ETA: 0s - loss: 0.3190 - accuracy: 0.8743INFO:tensorflow:Assets written to: /home/anza-tshilidzi/Desktop/Masters_material/e+ e- study/wandb/run-20240815_091129-3ili9xtb/files/model-best/assets\n"
     ]
    },
    {
     "name": "stderr",
     "output_type": "stream",
     "text": [
      "\u001b[34m\u001b[1mwandb\u001b[0m: Adding directory to artifact (/home/anza-tshilidzi/Desktop/Masters_material/e+ e- study/wandb/run-20240815_091129-3ili9xtb/files/model-best)... Done. 0.0s\n"
     ]
    },
    {
     "name": "stdout",
     "output_type": "stream",
     "text": [
      "7504/7504 [==============================] - 6s 813us/step - loss: 0.3190 - accuracy: 0.8743 - val_loss: 0.3067 - val_accuracy: 0.8686\n",
      "Epoch 6/160\n",
      "7504/7504 [==============================] - 5s 721us/step - loss: 0.3142 - accuracy: 0.8769 - val_loss: 0.3390 - val_accuracy: 0.8664\n",
      "Epoch 7/160\n",
      "7426/7504 [============================>.] - ETA: 0s - loss: 0.3129 - accuracy: 0.8775INFO:tensorflow:Assets written to: /home/anza-tshilidzi/Desktop/Masters_material/e+ e- study/wandb/run-20240815_091129-3ili9xtb/files/model-best/assets\n"
     ]
    },
    {
     "name": "stderr",
     "output_type": "stream",
     "text": [
      "\u001b[34m\u001b[1mwandb\u001b[0m: Adding directory to artifact (/home/anza-tshilidzi/Desktop/Masters_material/e+ e- study/wandb/run-20240815_091129-3ili9xtb/files/model-best)... Done. 0.0s\n"
     ]
    },
    {
     "name": "stdout",
     "output_type": "stream",
     "text": [
      "7504/7504 [==============================] - 6s 812us/step - loss: 0.3132 - accuracy: 0.8774 - val_loss: 0.3011 - val_accuracy: 0.8841\n",
      "Epoch 8/160\n",
      "7498/7504 [============================>.] - ETA: 0s - loss: 0.3110 - accuracy: 0.8791INFO:tensorflow:Assets written to: /home/anza-tshilidzi/Desktop/Masters_material/e+ e- study/wandb/run-20240815_091129-3ili9xtb/files/model-best/assets\n"
     ]
    },
    {
     "name": "stderr",
     "output_type": "stream",
     "text": [
      "\u001b[34m\u001b[1mwandb\u001b[0m: Adding directory to artifact (/home/anza-tshilidzi/Desktop/Masters_material/e+ e- study/wandb/run-20240815_091129-3ili9xtb/files/model-best)... Done. 0.0s\n"
     ]
    },
    {
     "name": "stdout",
     "output_type": "stream",
     "text": [
      "7504/7504 [==============================] - 6s 811us/step - loss: 0.3110 - accuracy: 0.8790 - val_loss: 0.2979 - val_accuracy: 0.8809\n",
      "Epoch 9/160\n",
      "7451/7504 [============================>.] - ETA: 0s - loss: 0.3066 - accuracy: 0.8809INFO:tensorflow:Assets written to: /home/anza-tshilidzi/Desktop/Masters_material/e+ e- study/wandb/run-20240815_091129-3ili9xtb/files/model-best/assets\n"
     ]
    },
    {
     "name": "stderr",
     "output_type": "stream",
     "text": [
      "\u001b[34m\u001b[1mwandb\u001b[0m: Adding directory to artifact (/home/anza-tshilidzi/Desktop/Masters_material/e+ e- study/wandb/run-20240815_091129-3ili9xtb/files/model-best)... Done. 0.0s\n"
     ]
    },
    {
     "name": "stdout",
     "output_type": "stream",
     "text": [
      "7504/7504 [==============================] - 6s 842us/step - loss: 0.3065 - accuracy: 0.8809 - val_loss: 0.2924 - val_accuracy: 0.8848\n",
      "Epoch 10/160\n",
      "7504/7504 [==============================] - 5s 717us/step - loss: 0.3057 - accuracy: 0.8812 - val_loss: 0.3194 - val_accuracy: 0.8767\n",
      "Epoch 11/160\n",
      "7420/7504 [============================>.] - ETA: 0s - loss: 0.3030 - accuracy: 0.8819INFO:tensorflow:Assets written to: /home/anza-tshilidzi/Desktop/Masters_material/e+ e- study/wandb/run-20240815_091129-3ili9xtb/files/model-best/assets\n"
     ]
    },
    {
     "name": "stderr",
     "output_type": "stream",
     "text": [
      "\u001b[34m\u001b[1mwandb\u001b[0m: Adding directory to artifact (/home/anza-tshilidzi/Desktop/Masters_material/e+ e- study/wandb/run-20240815_091129-3ili9xtb/files/model-best)... Done. 0.0s\n"
     ]
    },
    {
     "name": "stdout",
     "output_type": "stream",
     "text": [
      "7504/7504 [==============================] - 7s 875us/step - loss: 0.3031 - accuracy: 0.8818 - val_loss: 0.2922 - val_accuracy: 0.8851\n",
      "Epoch 12/160\n",
      "7504/7504 [==============================] - 5s 715us/step - loss: 0.3027 - accuracy: 0.8823 - val_loss: 0.2965 - val_accuracy: 0.8822\n",
      "Epoch 13/160\n",
      "7504/7504 [==============================] - 5s 704us/step - loss: 0.3019 - accuracy: 0.8823 - val_loss: 0.3095 - val_accuracy: 0.8796\n",
      "Epoch 14/160\n",
      "7504/7504 [==============================] - 5s 708us/step - loss: 0.3015 - accuracy: 0.8836 - val_loss: 0.3236 - val_accuracy: 0.8699\n",
      "Epoch 15/160\n",
      "7504/7504 [==============================] - 5s 712us/step - loss: 0.2997 - accuracy: 0.8839 - val_loss: 0.3152 - val_accuracy: 0.8777\n",
      "Epoch 16/160\n",
      "7504/7504 [==============================] - 5s 705us/step - loss: 0.3002 - accuracy: 0.8845 - val_loss: 0.3027 - val_accuracy: 0.8817\n",
      "Epoch 17/160\n",
      "7504/7504 [==============================] - 5s 714us/step - loss: 0.2982 - accuracy: 0.8844 - val_loss: 0.3071 - val_accuracy: 0.8815\n",
      "Epoch 18/160\n",
      "7504/7504 [==============================] - 5s 715us/step - loss: 0.2979 - accuracy: 0.8847 - val_loss: 0.3056 - val_accuracy: 0.8787\n",
      "Epoch 19/160\n",
      "7466/7504 [============================>.] - ETA: 0s - loss: 0.2973 - accuracy: 0.8844INFO:tensorflow:Assets written to: /home/anza-tshilidzi/Desktop/Masters_material/e+ e- study/wandb/run-20240815_091129-3ili9xtb/files/model-best/assets\n"
     ]
    },
    {
     "name": "stderr",
     "output_type": "stream",
     "text": [
      "\u001b[34m\u001b[1mwandb\u001b[0m: Adding directory to artifact (/home/anza-tshilidzi/Desktop/Masters_material/e+ e- study/wandb/run-20240815_091129-3ili9xtb/files/model-best)... Done. 0.0s\n"
     ]
    },
    {
     "name": "stdout",
     "output_type": "stream",
     "text": [
      "7504/7504 [==============================] - 6s 856us/step - loss: 0.2972 - accuracy: 0.8845 - val_loss: 0.2917 - val_accuracy: 0.8877\n",
      "Epoch 20/160\n",
      "7504/7504 [==============================] - 5s 729us/step - loss: 0.2968 - accuracy: 0.8845 - val_loss: 0.3003 - val_accuracy: 0.8834\n",
      "Epoch 21/160\n",
      "7445/7504 [============================>.] - ETA: 0s - loss: 0.2967 - accuracy: 0.8842INFO:tensorflow:Assets written to: /home/anza-tshilidzi/Desktop/Masters_material/e+ e- study/wandb/run-20240815_091129-3ili9xtb/files/model-best/assets\n"
     ]
    },
    {
     "name": "stderr",
     "output_type": "stream",
     "text": [
      "\u001b[34m\u001b[1mwandb\u001b[0m: Adding directory to artifact (/home/anza-tshilidzi/Desktop/Masters_material/e+ e- study/wandb/run-20240815_091129-3ili9xtb/files/model-best)... Done. 0.0s\n"
     ]
    },
    {
     "name": "stdout",
     "output_type": "stream",
     "text": [
      "7504/7504 [==============================] - 6s 809us/step - loss: 0.2968 - accuracy: 0.8842 - val_loss: 0.2896 - val_accuracy: 0.8882\n",
      "Epoch 22/160\n",
      "7504/7504 [==============================] - 5s 712us/step - loss: 0.2953 - accuracy: 0.8857 - val_loss: 0.2925 - val_accuracy: 0.8844\n",
      "Epoch 23/160\n",
      "7504/7504 [==============================] - 5s 727us/step - loss: 0.2944 - accuracy: 0.8859 - val_loss: 0.2968 - val_accuracy: 0.8852\n",
      "Epoch 24/160\n",
      "7504/7504 [==============================] - 5s 719us/step - loss: 0.2942 - accuracy: 0.8858 - val_loss: 0.2937 - val_accuracy: 0.8855\n",
      "Epoch 25/160\n",
      "7504/7504 [==============================] - 5s 710us/step - loss: 0.2944 - accuracy: 0.8852 - val_loss: 0.2952 - val_accuracy: 0.8829\n",
      "Epoch 26/160\n",
      "7504/7504 [==============================] - 5s 724us/step - loss: 0.2934 - accuracy: 0.8859 - val_loss: 0.3167 - val_accuracy: 0.8774\n",
      "Epoch 27/160\n",
      "7424/7504 [============================>.] - ETA: 0s - loss: 0.2935 - accuracy: 0.8866INFO:tensorflow:Assets written to: /home/anza-tshilidzi/Desktop/Masters_material/e+ e- study/wandb/run-20240815_091129-3ili9xtb/files/model-best/assets\n"
     ]
    },
    {
     "name": "stderr",
     "output_type": "stream",
     "text": [
      "\u001b[34m\u001b[1mwandb\u001b[0m: Adding directory to artifact (/home/anza-tshilidzi/Desktop/Masters_material/e+ e- study/wandb/run-20240815_091129-3ili9xtb/files/model-best)... Done. 0.0s\n"
     ]
    },
    {
     "name": "stdout",
     "output_type": "stream",
     "text": [
      "7504/7504 [==============================] - 6s 830us/step - loss: 0.2934 - accuracy: 0.8866 - val_loss: 0.2857 - val_accuracy: 0.8897\n",
      "Epoch 28/160\n",
      "7504/7504 [==============================] - 5s 711us/step - loss: 0.2931 - accuracy: 0.8862 - val_loss: 0.3070 - val_accuracy: 0.8810\n",
      "Epoch 29/160\n",
      "7504/7504 [==============================] - 5s 725us/step - loss: 0.2935 - accuracy: 0.8859 - val_loss: 0.2912 - val_accuracy: 0.8863\n",
      "Epoch 30/160\n",
      "7449/7504 [============================>.] - ETA: 0s - loss: 0.2919 - accuracy: 0.8859INFO:tensorflow:Assets written to: /home/anza-tshilidzi/Desktop/Masters_material/e+ e- study/wandb/run-20240815_091129-3ili9xtb/files/model-best/assets\n"
     ]
    },
    {
     "name": "stderr",
     "output_type": "stream",
     "text": [
      "\u001b[34m\u001b[1mwandb\u001b[0m: Adding directory to artifact (/home/anza-tshilidzi/Desktop/Masters_material/e+ e- study/wandb/run-20240815_091129-3ili9xtb/files/model-best)... Done. 0.0s\n"
     ]
    },
    {
     "name": "stdout",
     "output_type": "stream",
     "text": [
      "7504/7504 [==============================] - 7s 981us/step - loss: 0.2921 - accuracy: 0.8858 - val_loss: 0.2847 - val_accuracy: 0.8886\n",
      "Epoch 31/160\n",
      "7504/7504 [==============================] - 5s 720us/step - loss: 0.2927 - accuracy: 0.8857 - val_loss: 0.2998 - val_accuracy: 0.8832\n",
      "Epoch 32/160\n",
      "7504/7504 [==============================] - 5s 721us/step - loss: 0.2922 - accuracy: 0.8860 - val_loss: 0.3367 - val_accuracy: 0.8677\n",
      "Epoch 33/160\n",
      "7504/7504 [==============================] - 5s 706us/step - loss: 0.2907 - accuracy: 0.8870 - val_loss: 0.2984 - val_accuracy: 0.8872\n",
      "Epoch 34/160\n",
      "7504/7504 [==============================] - 5s 712us/step - loss: 0.2920 - accuracy: 0.8862 - val_loss: 0.2999 - val_accuracy: 0.8838\n",
      "Epoch 35/160\n",
      "7504/7504 [==============================] - 5s 719us/step - loss: 0.2916 - accuracy: 0.8870 - val_loss: 0.2882 - val_accuracy: 0.8855\n",
      "Epoch 36/160\n",
      "7504/7504 [==============================] - 5s 711us/step - loss: 0.2911 - accuracy: 0.8870 - val_loss: 0.2926 - val_accuracy: 0.8865\n",
      "Epoch 37/160\n",
      "7504/7504 [==============================] - 5s 731us/step - loss: 0.2903 - accuracy: 0.8870 - val_loss: 0.3037 - val_accuracy: 0.8824\n",
      "Epoch 38/160\n",
      "7504/7504 [==============================] - 5s 725us/step - loss: 0.2910 - accuracy: 0.8872 - val_loss: 0.3159 - val_accuracy: 0.8773\n",
      "Epoch 39/160\n",
      "7504/7504 [==============================] - 5s 711us/step - loss: 0.2907 - accuracy: 0.8869 - val_loss: 0.3101 - val_accuracy: 0.8823\n",
      "Epoch 40/160\n",
      "7504/7504 [==============================] - 5s 723us/step - loss: 0.2890 - accuracy: 0.8873 - val_loss: 0.2916 - val_accuracy: 0.8863\n",
      "Epoch 41/160\n",
      "7439/7504 [============================>.] - ETA: 0s - loss: 0.2888 - accuracy: 0.8866INFO:tensorflow:Assets written to: /home/anza-tshilidzi/Desktop/Masters_material/e+ e- study/wandb/run-20240815_091129-3ili9xtb/files/model-best/assets\n"
     ]
    },
    {
     "name": "stderr",
     "output_type": "stream",
     "text": [
      "\u001b[34m\u001b[1mwandb\u001b[0m: Adding directory to artifact (/home/anza-tshilidzi/Desktop/Masters_material/e+ e- study/wandb/run-20240815_091129-3ili9xtb/files/model-best)... Done. 0.0s\n"
     ]
    },
    {
     "name": "stdout",
     "output_type": "stream",
     "text": [
      "7504/7504 [==============================] - 6s 823us/step - loss: 0.2889 - accuracy: 0.8866 - val_loss: 0.2821 - val_accuracy: 0.8887\n",
      "Epoch 42/160\n",
      "7504/7504 [==============================] - 5s 720us/step - loss: 0.2885 - accuracy: 0.8869 - val_loss: 0.2988 - val_accuracy: 0.8790\n",
      "Epoch 43/160\n",
      "7504/7504 [==============================] - 5s 733us/step - loss: 0.2875 - accuracy: 0.8872 - val_loss: 0.3451 - val_accuracy: 0.8700\n",
      "Epoch 44/160\n",
      "7504/7504 [==============================] - 5s 715us/step - loss: 0.2872 - accuracy: 0.8875 - val_loss: 0.3179 - val_accuracy: 0.8797\n",
      "Epoch 45/160\n",
      "7504/7504 [==============================] - 5s 712us/step - loss: 0.2872 - accuracy: 0.8870 - val_loss: 0.2874 - val_accuracy: 0.8876\n",
      "Epoch 46/160\n",
      "7504/7504 [==============================] - 5s 727us/step - loss: 0.2859 - accuracy: 0.8877 - val_loss: 0.3051 - val_accuracy: 0.8806\n",
      "Epoch 47/160\n",
      "7504/7504 [==============================] - 5s 711us/step - loss: 0.2855 - accuracy: 0.8873 - val_loss: 0.2833 - val_accuracy: 0.8869\n",
      "Epoch 48/160\n",
      "7504/7504 [==============================] - 5s 721us/step - loss: 0.2850 - accuracy: 0.8879 - val_loss: 0.3085 - val_accuracy: 0.8807\n",
      "Epoch 49/160\n",
      "7504/7504 [==============================] - ETA: 0s - loss: 0.2853 - accuracy: 0.8877INFO:tensorflow:Assets written to: /home/anza-tshilidzi/Desktop/Masters_material/e+ e- study/wandb/run-20240815_091129-3ili9xtb/files/model-best/assets\n"
     ]
    },
    {
     "name": "stderr",
     "output_type": "stream",
     "text": [
      "\u001b[34m\u001b[1mwandb\u001b[0m: Adding directory to artifact (/home/anza-tshilidzi/Desktop/Masters_material/e+ e- study/wandb/run-20240815_091129-3ili9xtb/files/model-best)... Done. 0.0s\n"
     ]
    },
    {
     "name": "stdout",
     "output_type": "stream",
     "text": [
      "7504/7504 [==============================] - 6s 826us/step - loss: 0.2853 - accuracy: 0.8877 - val_loss: 0.2814 - val_accuracy: 0.8875\n",
      "Epoch 50/160\n",
      "7504/7504 [==============================] - 5s 719us/step - loss: 0.2840 - accuracy: 0.8880 - val_loss: 0.2937 - val_accuracy: 0.8854\n",
      "Epoch 51/160\n",
      "7504/7504 [==============================] - 5s 720us/step - loss: 0.2841 - accuracy: 0.8879 - val_loss: 0.3007 - val_accuracy: 0.8814\n",
      "Epoch 52/160\n",
      "7504/7504 [==============================] - 5s 726us/step - loss: 0.2845 - accuracy: 0.8875 - val_loss: 0.2877 - val_accuracy: 0.8855\n",
      "Epoch 53/160\n",
      "7504/7504 [==============================] - 5s 709us/step - loss: 0.2843 - accuracy: 0.8872 - val_loss: 0.3237 - val_accuracy: 0.8770\n",
      "Epoch 54/160\n",
      "7449/7504 [============================>.] - ETA: 0s - loss: 0.2838 - accuracy: 0.8883INFO:tensorflow:Assets written to: /home/anza-tshilidzi/Desktop/Masters_material/e+ e- study/wandb/run-20240815_091129-3ili9xtb/files/model-best/assets\n"
     ]
    },
    {
     "name": "stderr",
     "output_type": "stream",
     "text": [
      "\u001b[34m\u001b[1mwandb\u001b[0m: Adding directory to artifact (/home/anza-tshilidzi/Desktop/Masters_material/e+ e- study/wandb/run-20240815_091129-3ili9xtb/files/model-best)... Done. 0.0s\n"
     ]
    },
    {
     "name": "stdout",
     "output_type": "stream",
     "text": [
      "7504/7504 [==============================] - 6s 813us/step - loss: 0.2839 - accuracy: 0.8882 - val_loss: 0.2808 - val_accuracy: 0.8877\n",
      "Epoch 55/160\n",
      "7504/7504 [==============================] - 6s 733us/step - loss: 0.2833 - accuracy: 0.8880 - val_loss: 0.2901 - val_accuracy: 0.8854\n",
      "Epoch 56/160\n",
      "7504/7504 [==============================] - 5s 717us/step - loss: 0.2828 - accuracy: 0.8886 - val_loss: 0.3102 - val_accuracy: 0.8786\n",
      "Epoch 57/160\n",
      "7504/7504 [==============================] - 5s 713us/step - loss: 0.2835 - accuracy: 0.8882 - val_loss: 0.2926 - val_accuracy: 0.8814\n",
      "Epoch 58/160\n",
      "7504/7504 [==============================] - 5s 727us/step - loss: 0.2828 - accuracy: 0.8880 - val_loss: 0.2907 - val_accuracy: 0.8847\n",
      "Epoch 59/160\n",
      "7504/7504 [==============================] - 5s 713us/step - loss: 0.2838 - accuracy: 0.8874 - val_loss: 0.3181 - val_accuracy: 0.8771\n",
      "Epoch 60/160\n",
      "7504/7504 [==============================] - 5s 713us/step - loss: 0.2821 - accuracy: 0.8886 - val_loss: 0.2863 - val_accuracy: 0.8878\n",
      "Epoch 61/160\n",
      "7504/7504 [==============================] - 5s 730us/step - loss: 0.2819 - accuracy: 0.8890 - val_loss: 0.2825 - val_accuracy: 0.8885\n",
      "Epoch 62/160\n",
      "7504/7504 [==============================] - 5s 716us/step - loss: 0.2819 - accuracy: 0.8883 - val_loss: 0.2910 - val_accuracy: 0.8836\n",
      "Epoch 63/160\n",
      "7504/7504 [==============================] - 5s 715us/step - loss: 0.2813 - accuracy: 0.8883 - val_loss: 0.2922 - val_accuracy: 0.8869\n",
      "Epoch 64/160\n",
      "7504/7504 [==============================] - 6s 734us/step - loss: 0.2809 - accuracy: 0.8883 - val_loss: 0.2878 - val_accuracy: 0.8855\n",
      "Epoch 65/160\n",
      "7504/7504 [==============================] - 5s 715us/step - loss: 0.2811 - accuracy: 0.8883 - val_loss: 0.3064 - val_accuracy: 0.8754\n",
      "Epoch 66/160\n",
      "7504/7504 [==============================] - 5s 712us/step - loss: 0.2800 - accuracy: 0.8891 - val_loss: 0.2818 - val_accuracy: 0.8877\n",
      "Epoch 67/160\n",
      "7418/7504 [============================>.] - ETA: 0s - loss: 0.2792 - accuracy: 0.8890INFO:tensorflow:Assets written to: /home/anza-tshilidzi/Desktop/Masters_material/e+ e- study/wandb/run-20240815_091129-3ili9xtb/files/model-best/assets\n"
     ]
    },
    {
     "name": "stderr",
     "output_type": "stream",
     "text": [
      "\u001b[34m\u001b[1mwandb\u001b[0m: Adding directory to artifact (/home/anza-tshilidzi/Desktop/Masters_material/e+ e- study/wandb/run-20240815_091129-3ili9xtb/files/model-best)... Done. 0.0s\n"
     ]
    },
    {
     "name": "stdout",
     "output_type": "stream",
     "text": [
      "7504/7504 [==============================] - 6s 865us/step - loss: 0.2795 - accuracy: 0.8890 - val_loss: 0.2765 - val_accuracy: 0.8903\n",
      "Epoch 68/160\n",
      "7504/7504 [==============================] - 5s 717us/step - loss: 0.2787 - accuracy: 0.8897 - val_loss: 0.3082 - val_accuracy: 0.8808\n",
      "Epoch 69/160\n",
      "7504/7504 [==============================] - 5s 725us/step - loss: 0.2780 - accuracy: 0.8894 - val_loss: 0.2789 - val_accuracy: 0.8900\n",
      "Epoch 70/160\n",
      "7504/7504 [==============================] - 5s 722us/step - loss: 0.2779 - accuracy: 0.8895 - val_loss: 0.2833 - val_accuracy: 0.8858\n",
      "Epoch 71/160\n",
      "7479/7504 [============================>.] - ETA: 0s - loss: 0.2782 - accuracy: 0.8900INFO:tensorflow:Assets written to: /home/anza-tshilidzi/Desktop/Masters_material/e+ e- study/wandb/run-20240815_091129-3ili9xtb/files/model-best/assets\n"
     ]
    },
    {
     "name": "stderr",
     "output_type": "stream",
     "text": [
      "\u001b[34m\u001b[1mwandb\u001b[0m: Adding directory to artifact (/home/anza-tshilidzi/Desktop/Masters_material/e+ e- study/wandb/run-20240815_091129-3ili9xtb/files/model-best)... Done. 0.0s\n"
     ]
    },
    {
     "name": "stdout",
     "output_type": "stream",
     "text": [
      "7504/7504 [==============================] - 6s 814us/step - loss: 0.2782 - accuracy: 0.8900 - val_loss: 0.2765 - val_accuracy: 0.8907\n",
      "Epoch 72/160\n",
      "7504/7504 [==============================] - 5s 732us/step - loss: 0.2765 - accuracy: 0.8896 - val_loss: 0.2922 - val_accuracy: 0.8840\n",
      "Epoch 73/160\n",
      "7421/7504 [============================>.] - ETA: 0s - loss: 0.2768 - accuracy: 0.8903INFO:tensorflow:Assets written to: /home/anza-tshilidzi/Desktop/Masters_material/e+ e- study/wandb/run-20240815_091129-3ili9xtb/files/model-best/assets\n"
     ]
    },
    {
     "name": "stderr",
     "output_type": "stream",
     "text": [
      "\u001b[34m\u001b[1mwandb\u001b[0m: Adding directory to artifact (/home/anza-tshilidzi/Desktop/Masters_material/e+ e- study/wandb/run-20240815_091129-3ili9xtb/files/model-best)... Done. 0.0s\n"
     ]
    },
    {
     "name": "stdout",
     "output_type": "stream",
     "text": [
      "7504/7504 [==============================] - 7s 900us/step - loss: 0.2766 - accuracy: 0.8904 - val_loss: 0.2742 - val_accuracy: 0.8905\n",
      "Epoch 74/160\n",
      "7504/7504 [==============================] - 5s 721us/step - loss: 0.2766 - accuracy: 0.8897 - val_loss: 0.2753 - val_accuracy: 0.8890\n",
      "Epoch 75/160\n",
      "7504/7504 [==============================] - 5s 731us/step - loss: 0.2754 - accuracy: 0.8910 - val_loss: 0.2871 - val_accuracy: 0.8842\n",
      "Epoch 76/160\n",
      "7504/7504 [==============================] - 5s 717us/step - loss: 0.2757 - accuracy: 0.8915 - val_loss: 0.2749 - val_accuracy: 0.8901\n",
      "Epoch 77/160\n",
      "7504/7504 [==============================] - 5s 714us/step - loss: 0.2756 - accuracy: 0.8908 - val_loss: 0.2772 - val_accuracy: 0.8875\n",
      "Epoch 78/160\n",
      "7504/7504 [==============================] - 5s 726us/step - loss: 0.2739 - accuracy: 0.8912 - val_loss: 0.2742 - val_accuracy: 0.8907\n",
      "Epoch 79/160\n",
      "7504/7504 [==============================] - 5s 716us/step - loss: 0.2745 - accuracy: 0.8911 - val_loss: 0.2773 - val_accuracy: 0.8898\n",
      "Epoch 80/160\n",
      "7504/7504 [==============================] - 5s 715us/step - loss: 0.2748 - accuracy: 0.8912 - val_loss: 0.2752 - val_accuracy: 0.8905\n",
      "Epoch 81/160\n",
      "7504/7504 [==============================] - 5s 724us/step - loss: 0.2740 - accuracy: 0.8918 - val_loss: 0.2848 - val_accuracy: 0.8895\n",
      "Epoch 82/160\n",
      "7504/7504 [==============================] - 5s 717us/step - loss: 0.2737 - accuracy: 0.8915 - val_loss: 0.2808 - val_accuracy: 0.8903\n",
      "Epoch 83/160\n",
      "7504/7504 [==============================] - 5s 715us/step - loss: 0.2739 - accuracy: 0.8910 - val_loss: 0.2767 - val_accuracy: 0.8882\n",
      "Epoch 84/160\n",
      "7504/7504 [==============================] - 6s 743us/step - loss: 0.2732 - accuracy: 0.8921 - val_loss: 0.2754 - val_accuracy: 0.8905\n",
      "Epoch 85/160\n",
      "7504/7504 [==============================] - 5s 714us/step - loss: 0.2730 - accuracy: 0.8921 - val_loss: 0.2902 - val_accuracy: 0.8894\n",
      "Epoch 86/160\n",
      "7504/7504 [==============================] - 5s 719us/step - loss: 0.2731 - accuracy: 0.8918 - val_loss: 0.2836 - val_accuracy: 0.8882\n",
      "Epoch 87/160\n",
      "7504/7504 [==============================] - 5s 731us/step - loss: 0.2720 - accuracy: 0.8924 - val_loss: 0.2808 - val_accuracy: 0.8904\n",
      "Epoch 88/160\n",
      "7504/7504 [==============================] - 5s 708us/step - loss: 0.2732 - accuracy: 0.8921 - val_loss: 0.2805 - val_accuracy: 0.8879\n",
      "Epoch 89/160\n",
      "7504/7504 [==============================] - 5s 726us/step - loss: 0.2737 - accuracy: 0.8916 - val_loss: 0.2833 - val_accuracy: 0.8873\n",
      "Epoch 90/160\n",
      "7490/7504 [============================>.] - ETA: 0s - loss: 0.2724 - accuracy: 0.8924INFO:tensorflow:Assets written to: /home/anza-tshilidzi/Desktop/Masters_material/e+ e- study/wandb/run-20240815_091129-3ili9xtb/files/model-best/assets\n"
     ]
    },
    {
     "name": "stderr",
     "output_type": "stream",
     "text": [
      "\u001b[34m\u001b[1mwandb\u001b[0m: Adding directory to artifact (/home/anza-tshilidzi/Desktop/Masters_material/e+ e- study/wandb/run-20240815_091129-3ili9xtb/files/model-best)... Done. 0.0s\n"
     ]
    },
    {
     "name": "stdout",
     "output_type": "stream",
     "text": [
      "7504/7504 [==============================] - 6s 836us/step - loss: 0.2725 - accuracy: 0.8924 - val_loss: 0.2712 - val_accuracy: 0.8916\n",
      "Epoch 91/160\n",
      "7504/7504 [==============================] - 5s 716us/step - loss: 0.2729 - accuracy: 0.8917 - val_loss: 0.2841 - val_accuracy: 0.8882\n",
      "Epoch 92/160\n",
      "7504/7504 [==============================] - 5s 722us/step - loss: 0.2726 - accuracy: 0.8922 - val_loss: 0.2868 - val_accuracy: 0.8853\n",
      "Epoch 93/160\n",
      "7504/7504 [==============================] - 5s 730us/step - loss: 0.2721 - accuracy: 0.8928 - val_loss: 0.2803 - val_accuracy: 0.8915\n",
      "Epoch 94/160\n",
      "7504/7504 [==============================] - 5s 712us/step - loss: 0.2726 - accuracy: 0.8917 - val_loss: 0.2715 - val_accuracy: 0.8913\n",
      "Epoch 95/160\n",
      "7504/7504 [==============================] - 5s 730us/step - loss: 0.2708 - accuracy: 0.8933 - val_loss: 0.2716 - val_accuracy: 0.8913\n",
      "Epoch 96/160\n",
      "7504/7504 [==============================] - 5s 727us/step - loss: 0.2712 - accuracy: 0.8924 - val_loss: 0.2884 - val_accuracy: 0.8865\n",
      "Epoch 97/160\n",
      "7504/7504 [==============================] - 5s 711us/step - loss: 0.2716 - accuracy: 0.8928 - val_loss: 0.2740 - val_accuracy: 0.8933\n",
      "Epoch 98/160\n",
      "7504/7504 [==============================] - 5s 725us/step - loss: 0.2725 - accuracy: 0.8922 - val_loss: 0.2849 - val_accuracy: 0.8858\n",
      "Epoch 99/160\n",
      "7504/7504 [==============================] - 5s 718us/step - loss: 0.2714 - accuracy: 0.8929 - val_loss: 0.2783 - val_accuracy: 0.8884\n",
      "Epoch 100/160\n",
      "7453/7504 [============================>.] - ETA: 0s - loss: 0.2715 - accuracy: 0.8927INFO:tensorflow:Assets written to: /home/anza-tshilidzi/Desktop/Masters_material/e+ e- study/wandb/run-20240815_091129-3ili9xtb/files/model-best/assets\n"
     ]
    },
    {
     "name": "stderr",
     "output_type": "stream",
     "text": [
      "\u001b[34m\u001b[1mwandb\u001b[0m: Adding directory to artifact (/home/anza-tshilidzi/Desktop/Masters_material/e+ e- study/wandb/run-20240815_091129-3ili9xtb/files/model-best)... Done. 0.0s\n"
     ]
    },
    {
     "name": "stdout",
     "output_type": "stream",
     "text": [
      "7504/7504 [==============================] - 6s 820us/step - loss: 0.2713 - accuracy: 0.8927 - val_loss: 0.2710 - val_accuracy: 0.8912\n",
      "Epoch 101/160\n",
      "7504/7504 [==============================] - 5s 732us/step - loss: 0.2709 - accuracy: 0.8928 - val_loss: 0.2712 - val_accuracy: 0.8931\n",
      "Epoch 102/160\n",
      "7466/7504 [============================>.] - ETA: 0s - loss: 0.2712 - accuracy: 0.8933INFO:tensorflow:Assets written to: /home/anza-tshilidzi/Desktop/Masters_material/e+ e- study/wandb/run-20240815_091129-3ili9xtb/files/model-best/assets\n"
     ]
    },
    {
     "name": "stderr",
     "output_type": "stream",
     "text": [
      "\u001b[34m\u001b[1mwandb\u001b[0m: Adding directory to artifact (/home/anza-tshilidzi/Desktop/Masters_material/e+ e- study/wandb/run-20240815_091129-3ili9xtb/files/model-best)... Done. 0.0s\n"
     ]
    },
    {
     "name": "stdout",
     "output_type": "stream",
     "text": [
      "7504/7504 [==============================] - 6s 809us/step - loss: 0.2711 - accuracy: 0.8934 - val_loss: 0.2686 - val_accuracy: 0.8916\n",
      "Epoch 103/160\n",
      "7504/7504 [==============================] - 5s 714us/step - loss: 0.2702 - accuracy: 0.8931 - val_loss: 0.3023 - val_accuracy: 0.8772\n",
      "Epoch 104/160\n",
      "7504/7504 [==============================] - 5s 732us/step - loss: 0.2705 - accuracy: 0.8929 - val_loss: 0.2739 - val_accuracy: 0.8923\n",
      "Epoch 105/160\n",
      "7504/7504 [==============================] - 5s 711us/step - loss: 0.2707 - accuracy: 0.8919 - val_loss: 0.2837 - val_accuracy: 0.8854\n",
      "Epoch 106/160\n",
      "7504/7504 [==============================] - 5s 713us/step - loss: 0.2704 - accuracy: 0.8929 - val_loss: 0.2689 - val_accuracy: 0.8937\n",
      "Epoch 107/160\n",
      "7504/7504 [==============================] - 5s 726us/step - loss: 0.2700 - accuracy: 0.8931 - val_loss: 0.2710 - val_accuracy: 0.8901\n",
      "Epoch 108/160\n",
      "7504/7504 [==============================] - 5s 718us/step - loss: 0.2699 - accuracy: 0.8932 - val_loss: 0.2747 - val_accuracy: 0.8934\n",
      "Epoch 109/160\n",
      "7504/7504 [==============================] - 5s 717us/step - loss: 0.2699 - accuracy: 0.8936 - val_loss: 0.2766 - val_accuracy: 0.8901\n",
      "Epoch 110/160\n",
      "7504/7504 [==============================] - 5s 731us/step - loss: 0.2696 - accuracy: 0.8935 - val_loss: 0.2762 - val_accuracy: 0.8914\n",
      "Epoch 111/160\n",
      "7504/7504 [==============================] - 5s 721us/step - loss: 0.2706 - accuracy: 0.8931 - val_loss: 0.2775 - val_accuracy: 0.8886\n",
      "Epoch 112/160\n",
      "7504/7504 [==============================] - 5s 715us/step - loss: 0.2697 - accuracy: 0.8930 - val_loss: 0.2729 - val_accuracy: 0.8933\n",
      "Epoch 113/160\n",
      "7504/7504 [==============================] - 6s 800us/step - loss: 0.2699 - accuracy: 0.8932 - val_loss: 0.2784 - val_accuracy: 0.8906\n",
      "Epoch 114/160\n",
      "7504/7504 [==============================] - 5s 713us/step - loss: 0.2699 - accuracy: 0.8939 - val_loss: 0.3008 - val_accuracy: 0.8789\n",
      "Epoch 115/160\n",
      "7504/7504 [==============================] - 5s 722us/step - loss: 0.2702 - accuracy: 0.8932 - val_loss: 0.2771 - val_accuracy: 0.8901\n",
      "Epoch 116/160\n",
      "7504/7504 [==============================] - 6s 748us/step - loss: 0.2695 - accuracy: 0.8927 - val_loss: 0.2742 - val_accuracy: 0.8922\n",
      "Epoch 117/160\n",
      "7504/7504 [==============================] - 5s 711us/step - loss: 0.2696 - accuracy: 0.8927 - val_loss: 0.2878 - val_accuracy: 0.8854\n",
      "Epoch 118/160\n",
      "7504/7504 [==============================] - 5s 719us/step - loss: 0.2696 - accuracy: 0.8935 - val_loss: 0.2743 - val_accuracy: 0.8935\n",
      "Epoch 119/160\n",
      "7504/7504 [==============================] - 5s 731us/step - loss: 0.2686 - accuracy: 0.8934 - val_loss: 0.2975 - val_accuracy: 0.8816\n",
      "Epoch 120/160\n",
      "7504/7504 [==============================] - 5s 710us/step - loss: 0.2693 - accuracy: 0.8931 - val_loss: 0.2924 - val_accuracy: 0.8874\n",
      "Epoch 121/160\n",
      "7504/7504 [==============================] - 5s 714us/step - loss: 0.2686 - accuracy: 0.8934 - val_loss: 0.3085 - val_accuracy: 0.8806\n",
      "Epoch 122/160\n",
      "7504/7504 [==============================] - 5s 728us/step - loss: 0.2694 - accuracy: 0.8925 - val_loss: 0.2751 - val_accuracy: 0.8917\n",
      "Epoch 123/160\n",
      "7504/7504 [==============================] - 5s 713us/step - loss: 0.2694 - accuracy: 0.8936 - val_loss: 0.2781 - val_accuracy: 0.8862\n",
      "Epoch 124/160\n",
      "7504/7504 [==============================] - 5s 719us/step - loss: 0.2678 - accuracy: 0.8940 - val_loss: 0.2876 - val_accuracy: 0.8889\n",
      "Epoch 125/160\n",
      "7504/7504 [==============================] - 5s 726us/step - loss: 0.2688 - accuracy: 0.8934 - val_loss: 0.2723 - val_accuracy: 0.8915\n",
      "Epoch 126/160\n",
      "7504/7504 [==============================] - 5s 718us/step - loss: 0.2690 - accuracy: 0.8933 - val_loss: 0.2929 - val_accuracy: 0.8866\n",
      "Epoch 127/160\n",
      "7504/7504 [==============================] - 5s 711us/step - loss: 0.2688 - accuracy: 0.8937 - val_loss: 0.2739 - val_accuracy: 0.8919\n",
      "Epoch 128/160\n",
      "7504/7504 [==============================] - 6s 738us/step - loss: 0.2687 - accuracy: 0.8934 - val_loss: 0.2697 - val_accuracy: 0.8947\n",
      "Epoch 129/160\n",
      "7415/7504 [============================>.] - ETA: 0s - loss: 0.2686 - accuracy: 0.8930INFO:tensorflow:Assets written to: /home/anza-tshilidzi/Desktop/Masters_material/e+ e- study/wandb/run-20240815_091129-3ili9xtb/files/model-best/assets\n"
     ]
    },
    {
     "name": "stderr",
     "output_type": "stream",
     "text": [
      "\u001b[34m\u001b[1mwandb\u001b[0m: Adding directory to artifact (/home/anza-tshilidzi/Desktop/Masters_material/e+ e- study/wandb/run-20240815_091129-3ili9xtb/files/model-best)... Done. 0.0s\n"
     ]
    },
    {
     "name": "stdout",
     "output_type": "stream",
     "text": [
      "7504/7504 [==============================] - 7s 899us/step - loss: 0.2685 - accuracy: 0.8929 - val_loss: 0.2641 - val_accuracy: 0.8944\n",
      "Epoch 130/160\n",
      "7504/7504 [==============================] - 5s 730us/step - loss: 0.2685 - accuracy: 0.8944 - val_loss: 0.2699 - val_accuracy: 0.8945\n",
      "Epoch 131/160\n",
      "7504/7504 [==============================] - 6s 744us/step - loss: 0.2688 - accuracy: 0.8928 - val_loss: 0.2738 - val_accuracy: 0.8924\n",
      "Epoch 132/160\n",
      "7504/7504 [==============================] - 7s 879us/step - loss: 0.2679 - accuracy: 0.8943 - val_loss: 0.2721 - val_accuracy: 0.8919\n",
      "Epoch 133/160\n",
      "7504/7504 [==============================] - 6s 754us/step - loss: 0.2682 - accuracy: 0.8938 - val_loss: 0.2838 - val_accuracy: 0.8889\n",
      "Epoch 134/160\n",
      "7504/7504 [==============================] - 5s 717us/step - loss: 0.2681 - accuracy: 0.8932 - val_loss: 0.2663 - val_accuracy: 0.8940\n",
      "Epoch 135/160\n",
      "7504/7504 [==============================] - 5s 709us/step - loss: 0.2684 - accuracy: 0.8935 - val_loss: 0.2735 - val_accuracy: 0.8944\n",
      "Epoch 136/160\n",
      "7504/7504 [==============================] - 6s 734us/step - loss: 0.2682 - accuracy: 0.8939 - val_loss: 0.2854 - val_accuracy: 0.8877\n",
      "Epoch 137/160\n",
      "7504/7504 [==============================] - 6s 733us/step - loss: 0.2687 - accuracy: 0.8936 - val_loss: 0.2725 - val_accuracy: 0.8930\n",
      "Epoch 138/160\n",
      "7504/7504 [==============================] - 5s 722us/step - loss: 0.2696 - accuracy: 0.8931 - val_loss: 0.3208 - val_accuracy: 0.8782\n",
      "Epoch 139/160\n",
      "7504/7504 [==============================] - 5s 728us/step - loss: 0.2684 - accuracy: 0.8937 - val_loss: 0.2804 - val_accuracy: 0.8879\n",
      "Epoch 140/160\n",
      "7504/7504 [==============================] - 5s 711us/step - loss: 0.2674 - accuracy: 0.8939 - val_loss: 0.2675 - val_accuracy: 0.8934\n",
      "Epoch 141/160\n",
      "7504/7504 [==============================] - 5s 709us/step - loss: 0.2677 - accuracy: 0.8938 - val_loss: 0.2740 - val_accuracy: 0.8913\n",
      "Epoch 142/160\n",
      "7504/7504 [==============================] - 5s 723us/step - loss: 0.2679 - accuracy: 0.8939 - val_loss: 0.2709 - val_accuracy: 0.8932\n",
      "Epoch 143/160\n",
      "7504/7504 [==============================] - 5s 727us/step - loss: 0.2671 - accuracy: 0.8941 - val_loss: 0.2643 - val_accuracy: 0.8959\n",
      "Epoch 144/160\n",
      "7504/7504 [==============================] - 5s 709us/step - loss: 0.2676 - accuracy: 0.8933 - val_loss: 0.2674 - val_accuracy: 0.8937\n",
      "Epoch 145/160\n",
      "7504/7504 [==============================] - 5s 727us/step - loss: 0.2670 - accuracy: 0.8942 - val_loss: 0.2700 - val_accuracy: 0.8947\n",
      "Epoch 146/160\n",
      "7504/7504 [==============================] - 5s 709us/step - loss: 0.2666 - accuracy: 0.8947 - val_loss: 0.2756 - val_accuracy: 0.8916\n",
      "Epoch 147/160\n",
      "7504/7504 [==============================] - 5s 713us/step - loss: 0.2672 - accuracy: 0.8938 - val_loss: 0.2955 - val_accuracy: 0.8874\n",
      "Epoch 148/160\n",
      "7504/7504 [==============================] - 5s 722us/step - loss: 0.2672 - accuracy: 0.8942 - val_loss: 0.2825 - val_accuracy: 0.8857\n",
      "Epoch 149/160\n",
      "7504/7504 [==============================] - 5s 725us/step - loss: 0.2682 - accuracy: 0.8938 - val_loss: 0.2689 - val_accuracy: 0.8919\n",
      "Epoch 150/160\n",
      "7504/7504 [==============================] - 5s 716us/step - loss: 0.2668 - accuracy: 0.8942 - val_loss: 0.2861 - val_accuracy: 0.8881\n",
      "Epoch 151/160\n",
      "7504/7504 [==============================] - 5s 732us/step - loss: 0.2667 - accuracy: 0.8939 - val_loss: 0.2697 - val_accuracy: 0.8940\n",
      "Epoch 152/160\n",
      "7504/7504 [==============================] - 5s 710us/step - loss: 0.2666 - accuracy: 0.8942 - val_loss: 0.2686 - val_accuracy: 0.8935\n",
      "Epoch 153/160\n",
      "7504/7504 [==============================] - 5s 705us/step - loss: 0.2672 - accuracy: 0.8942 - val_loss: 0.2775 - val_accuracy: 0.8908\n",
      "Epoch 154/160\n",
      "7504/7504 [==============================] - 5s 726us/step - loss: 0.2672 - accuracy: 0.8935 - val_loss: 0.2819 - val_accuracy: 0.8877\n",
      "Epoch 155/160\n",
      "7504/7504 [==============================] - 5s 716us/step - loss: 0.2664 - accuracy: 0.8946 - val_loss: 0.2764 - val_accuracy: 0.8892\n",
      "Epoch 156/160\n",
      "7504/7504 [==============================] - 5s 717us/step - loss: 0.2679 - accuracy: 0.8933 - val_loss: 0.2731 - val_accuracy: 0.8918\n",
      "Epoch 157/160\n",
      "7504/7504 [==============================] - 5s 731us/step - loss: 0.2666 - accuracy: 0.8939 - val_loss: 0.2695 - val_accuracy: 0.8929\n",
      "Epoch 158/160\n",
      "7504/7504 [==============================] - 5s 709us/step - loss: 0.2669 - accuracy: 0.8945 - val_loss: 0.2684 - val_accuracy: 0.8936\n",
      "Epoch 159/160\n",
      "7504/7504 [==============================] - 5s 719us/step - loss: 0.2662 - accuracy: 0.8946 - val_loss: 0.2727 - val_accuracy: 0.8917\n",
      "Epoch 160/160\n",
      "7504/7504 [==============================] - 6s 735us/step - loss: 0.2667 - accuracy: 0.8947 - val_loss: 0.2674 - val_accuracy: 0.8945\n"
     ]
    },
    {
     "data": {
      "application/vnd.jupyter.widget-view+json": {
       "model_id": "",
       "version_major": 2,
       "version_minor": 0
      },
      "text/plain": [
       "VBox(children=(Label(value='2.721 MB of 2.721 MB uploaded (0.158 MB deduped)\\r'), FloatProgress(value=1.0, max…"
      ]
     },
     "metadata": {},
     "output_type": "display_data"
    },
    {
     "data": {
      "text/html": [
       "W&B sync reduced upload amount by 5.5%"
      ],
      "text/plain": [
       "<IPython.core.display.HTML object>"
      ]
     },
     "metadata": {},
     "output_type": "display_data"
    },
    {
     "data": {
      "text/html": [
       "<style>\n",
       "    table.wandb td:nth-child(1) { padding: 0 10px; text-align: left ; width: auto;} td:nth-child(2) {text-align: left ; width: 100%}\n",
       "    .wandb-row { display: flex; flex-direction: row; flex-wrap: wrap; justify-content: flex-start; width: 100% }\n",
       "    .wandb-col { display: flex; flex-direction: column; flex-basis: 100%; flex: 1; padding: 10px; }\n",
       "    </style>\n",
       "<div class=\"wandb-row\"><div class=\"wandb-col\"><h3>Run history:</h3><br/><table class=\"wandb\"><tr><td>accuracy</td><td>▁▄▅▆▆▆▆▆▆▆▆▇▇▇▇▇▇▇▇▇▇▇█▇▇███████████████</td></tr><tr><td>epoch</td><td>▁▁▁▂▂▂▂▂▂▃▃▃▃▃▃▄▄▄▄▄▅▅▅▅▅▅▆▆▆▆▆▆▇▇▇▇▇███</td></tr><tr><td>loss</td><td>█▄▄▃▃▃▃▃▃▃▂▂▂▂▂▂▂▂▂▁▁▁▁▁▁▁▁▁▁▁▁▁▁▁▁▁▁▁▁▁</td></tr><tr><td>val_accuracy</td><td>▁▂▄▃▅▆▅▇▆▅▅▅▆▇▆▆▇▆▇▇▇▇▇▇▆▇█▇▅█▇▆██▅█▇▇▇█</td></tr><tr><td>val_loss</td><td>█▅▄▄▃▂▄▂▃▄▃▃▂▂▂▂▂▂▁▁▂▂▁▁▂▁▁▂▃▁▁▂▁▁▄▁▁▂▂▁</td></tr></table><br/></div><div class=\"wandb-col\"><h3>Run summary:</h3><br/><table class=\"wandb\"><tr><td>accuracy</td><td>0.89468</td></tr><tr><td>best_epoch</td><td>128</td></tr><tr><td>best_val_loss</td><td>0.26408</td></tr><tr><td>epoch</td><td>159</td></tr><tr><td>loss</td><td>0.26665</td></tr><tr><td>val_accuracy</td><td>0.89448</td></tr><tr><td>val_loss</td><td>0.26742</td></tr></table><br/></div></div>"
      ],
      "text/plain": [
       "<IPython.core.display.HTML object>"
      ]
     },
     "metadata": {},
     "output_type": "display_data"
    },
    {
     "data": {
      "text/html": [
       " View run <strong style=\"color:#cdcd00\">denim-sweep-14</strong> at: <a href='https://wandb.ai/anzanzio/ep-em%20DNN/runs/3ili9xtb' target=\"_blank\">https://wandb.ai/anzanzio/ep-em%20DNN/runs/3ili9xtb</a><br/> View project at: <a href='https://wandb.ai/anzanzio/ep-em%20DNN' target=\"_blank\">https://wandb.ai/anzanzio/ep-em%20DNN</a><br/>Synced 6 W&B file(s), 1 media file(s), 84 artifact file(s) and 1 other file(s)"
      ],
      "text/plain": [
       "<IPython.core.display.HTML object>"
      ]
     },
     "metadata": {},
     "output_type": "display_data"
    },
    {
     "data": {
      "text/html": [
       "Find logs at: <code>./wandb/run-20240815_091129-3ili9xtb/logs</code>"
      ],
      "text/plain": [
       "<IPython.core.display.HTML object>"
      ]
     },
     "metadata": {},
     "output_type": "display_data"
    },
    {
     "data": {
      "text/html": [
       "The new W&B backend becomes opt-out in version 0.18.0; try it out with `wandb.require(\"core\")`! See https://wandb.me/wandb-core for more information."
      ],
      "text/plain": [
       "<IPython.core.display.HTML object>"
      ]
     },
     "metadata": {},
     "output_type": "display_data"
    },
    {
     "name": "stderr",
     "output_type": "stream",
     "text": [
      "\u001b[34m\u001b[1mwandb\u001b[0m: Agent Starting Run: 4t24mqoz with config:\n",
      "\u001b[34m\u001b[1mwandb\u001b[0m: \tbatch_size: 31\n",
      "\u001b[34m\u001b[1mwandb\u001b[0m: \tepochs: 190\n",
      "\u001b[34m\u001b[1mwandb\u001b[0m: \tlayers: 44\n",
      "\u001b[34m\u001b[1mwandb\u001b[0m: \tlearning_rate: 0.0007519999661744314\n",
      "\u001b[34m\u001b[1mwandb\u001b[0m: \tneurons: 26\n",
      "\u001b[34m\u001b[1mwandb\u001b[0m: \toptimizer: adam\n"
     ]
    },
    {
     "data": {
      "text/html": [
       "Tracking run with wandb version 0.17.6"
      ],
      "text/plain": [
       "<IPython.core.display.HTML object>"
      ]
     },
     "metadata": {},
     "output_type": "display_data"
    },
    {
     "data": {
      "text/html": [
       "Run data is saved locally in <code>/home/anza-tshilidzi/Desktop/Masters_material/e+ e- study/wandb/run-20240815_092658-4t24mqoz</code>"
      ],
      "text/plain": [
       "<IPython.core.display.HTML object>"
      ]
     },
     "metadata": {},
     "output_type": "display_data"
    },
    {
     "data": {
      "text/html": [
       "Syncing run <strong><a href='https://wandb.ai/anzanzio/ep-em%20DNN/runs/4t24mqoz' target=\"_blank\">avid-sweep-15</a></strong> to <a href='https://wandb.ai/anzanzio/ep-em%20DNN' target=\"_blank\">Weights & Biases</a> (<a href='https://wandb.me/run' target=\"_blank\">docs</a>)<br/>Sweep page: <a href='https://wandb.ai/anzanzio/ep-em%20DNN/sweeps/lg5h93ch' target=\"_blank\">https://wandb.ai/anzanzio/ep-em%20DNN/sweeps/lg5h93ch</a>"
      ],
      "text/plain": [
       "<IPython.core.display.HTML object>"
      ]
     },
     "metadata": {},
     "output_type": "display_data"
    },
    {
     "data": {
      "text/html": [
       " View project at <a href='https://wandb.ai/anzanzio/ep-em%20DNN' target=\"_blank\">https://wandb.ai/anzanzio/ep-em%20DNN</a>"
      ],
      "text/plain": [
       "<IPython.core.display.HTML object>"
      ]
     },
     "metadata": {},
     "output_type": "display_data"
    },
    {
     "data": {
      "text/html": [
       " View sweep at <a href='https://wandb.ai/anzanzio/ep-em%20DNN/sweeps/lg5h93ch' target=\"_blank\">https://wandb.ai/anzanzio/ep-em%20DNN/sweeps/lg5h93ch</a>"
      ],
      "text/plain": [
       "<IPython.core.display.HTML object>"
      ]
     },
     "metadata": {},
     "output_type": "display_data"
    },
    {
     "data": {
      "text/html": [
       " View run at <a href='https://wandb.ai/anzanzio/ep-em%20DNN/runs/4t24mqoz' target=\"_blank\">https://wandb.ai/anzanzio/ep-em%20DNN/runs/4t24mqoz</a>"
      ],
      "text/plain": [
       "<IPython.core.display.HTML object>"
      ]
     },
     "metadata": {},
     "output_type": "display_data"
    },
    {
     "name": "stdout",
     "output_type": "stream",
     "text": [
      "Epoch 1/190\n",
      "3333/3389 [============================>.] - ETA: 0s - loss: 0.5442 - accuracy: 0.7686INFO:tensorflow:Assets written to: /home/anza-tshilidzi/Desktop/Masters_material/e+ e- study/wandb/run-20240815_092658-4t24mqoz/files/model-best/assets\n"
     ]
    },
    {
     "name": "stderr",
     "output_type": "stream",
     "text": [
      "\u001b[34m\u001b[1mwandb\u001b[0m: Adding directory to artifact (/home/anza-tshilidzi/Desktop/Masters_material/e+ e- study/wandb/run-20240815_092658-4t24mqoz/files/model-best)... Done. 0.0s\n"
     ]
    },
    {
     "name": "stdout",
     "output_type": "stream",
     "text": [
      "3389/3389 [==============================] - 4s 1ms/step - loss: 0.5422 - accuracy: 0.7697 - val_loss: 0.4236 - val_accuracy: 0.8280\n",
      "Epoch 2/190\n",
      "3389/3389 [==============================] - 3s 786us/step - loss: 0.3898 - accuracy: 0.8473 - val_loss: 0.4275 - val_accuracy: 0.8331\n",
      "Epoch 3/190\n",
      "3342/3389 [============================>.] - ETA: 0s - loss: 0.3480 - accuracy: 0.8677INFO:tensorflow:Assets written to: /home/anza-tshilidzi/Desktop/Masters_material/e+ e- study/wandb/run-20240815_092658-4t24mqoz/files/model-best/assets\n"
     ]
    },
    {
     "name": "stderr",
     "output_type": "stream",
     "text": [
      "\u001b[34m\u001b[1mwandb\u001b[0m: Adding directory to artifact (/home/anza-tshilidzi/Desktop/Masters_material/e+ e- study/wandb/run-20240815_092658-4t24mqoz/files/model-best)... Done. 0.0s\n"
     ]
    },
    {
     "name": "stdout",
     "output_type": "stream",
     "text": [
      "3389/3389 [==============================] - 3s 999us/step - loss: 0.3474 - accuracy: 0.8680 - val_loss: 0.3264 - val_accuracy: 0.8747\n",
      "Epoch 4/190\n",
      "3380/3389 [============================>.] - ETA: 0s - loss: 0.3326 - accuracy: 0.8716INFO:tensorflow:Assets written to: /home/anza-tshilidzi/Desktop/Masters_material/e+ e- study/wandb/run-20240815_092658-4t24mqoz/files/model-best/assets\n"
     ]
    },
    {
     "name": "stderr",
     "output_type": "stream",
     "text": [
      "\u001b[34m\u001b[1mwandb\u001b[0m: Adding directory to artifact (/home/anza-tshilidzi/Desktop/Masters_material/e+ e- study/wandb/run-20240815_092658-4t24mqoz/files/model-best)... Done. 0.0s\n"
     ]
    },
    {
     "name": "stdout",
     "output_type": "stream",
     "text": [
      "3389/3389 [==============================] - 3s 983us/step - loss: 0.3325 - accuracy: 0.8717 - val_loss: 0.3122 - val_accuracy: 0.8809\n",
      "Epoch 5/190\n",
      "3389/3389 [==============================] - 3s 754us/step - loss: 0.3276 - accuracy: 0.8724 - val_loss: 0.3223 - val_accuracy: 0.8680\n",
      "Epoch 6/190\n",
      "3389/3389 [==============================] - 3s 790us/step - loss: 0.3248 - accuracy: 0.8731 - val_loss: 0.3433 - val_accuracy: 0.8549\n",
      "Epoch 7/190\n",
      "3389/3389 [==============================] - 3s 749us/step - loss: 0.3200 - accuracy: 0.8749 - val_loss: 0.3418 - val_accuracy: 0.8619\n",
      "Epoch 8/190\n",
      "3389/3389 [==============================] - 3s 753us/step - loss: 0.3185 - accuracy: 0.8759 - val_loss: 0.3357 - val_accuracy: 0.8670\n",
      "Epoch 9/190\n",
      "3389/3389 [==============================] - 3s 756us/step - loss: 0.3129 - accuracy: 0.8787 - val_loss: 0.3525 - val_accuracy: 0.8600\n",
      "Epoch 10/190\n",
      "3389/3389 [==============================] - 3s 760us/step - loss: 0.3129 - accuracy: 0.8786 - val_loss: 0.3367 - val_accuracy: 0.8636\n",
      "Epoch 11/190\n",
      "3353/3389 [============================>.] - ETA: 0s - loss: 0.3102 - accuracy: 0.8791INFO:tensorflow:Assets written to: /home/anza-tshilidzi/Desktop/Masters_material/e+ e- study/wandb/run-20240815_092658-4t24mqoz/files/model-best/assets\n"
     ]
    },
    {
     "name": "stderr",
     "output_type": "stream",
     "text": [
      "\u001b[34m\u001b[1mwandb\u001b[0m: Adding directory to artifact (/home/anza-tshilidzi/Desktop/Masters_material/e+ e- study/wandb/run-20240815_092658-4t24mqoz/files/model-best)... Done. 0.0s\n"
     ]
    },
    {
     "name": "stdout",
     "output_type": "stream",
     "text": [
      "3389/3389 [==============================] - 3s 963us/step - loss: 0.3100 - accuracy: 0.8792 - val_loss: 0.3094 - val_accuracy: 0.8820\n",
      "Epoch 12/190\n",
      "3383/3389 [============================>.] - ETA: 0s - loss: 0.3103 - accuracy: 0.8801INFO:tensorflow:Assets written to: /home/anza-tshilidzi/Desktop/Masters_material/e+ e- study/wandb/run-20240815_092658-4t24mqoz/files/model-best/assets\n"
     ]
    },
    {
     "name": "stderr",
     "output_type": "stream",
     "text": [
      "\u001b[34m\u001b[1mwandb\u001b[0m: Adding directory to artifact (/home/anza-tshilidzi/Desktop/Masters_material/e+ e- study/wandb/run-20240815_092658-4t24mqoz/files/model-best)... Done. 0.0s\n"
     ]
    },
    {
     "name": "stdout",
     "output_type": "stream",
     "text": [
      "3389/3389 [==============================] - 3s 1ms/step - loss: 0.3102 - accuracy: 0.8801 - val_loss: 0.3047 - val_accuracy: 0.8806\n",
      "Epoch 13/190\n",
      "3389/3389 [==============================] - 3s 749us/step - loss: 0.3072 - accuracy: 0.8809 - val_loss: 0.3155 - val_accuracy: 0.8771\n",
      "Epoch 14/190\n",
      "3389/3389 [==============================] - 3s 748us/step - loss: 0.3045 - accuracy: 0.8823 - val_loss: 0.3113 - val_accuracy: 0.8814\n",
      "Epoch 15/190\n",
      "3389/3389 [==============================] - 3s 753us/step - loss: 0.3031 - accuracy: 0.8833 - val_loss: 0.3141 - val_accuracy: 0.8786\n",
      "Epoch 16/190\n",
      "3343/3389 [============================>.] - ETA: 0s - loss: 0.3013 - accuracy: 0.8838INFO:tensorflow:Assets written to: /home/anza-tshilidzi/Desktop/Masters_material/e+ e- study/wandb/run-20240815_092658-4t24mqoz/files/model-best/assets\n"
     ]
    },
    {
     "name": "stderr",
     "output_type": "stream",
     "text": [
      "\u001b[34m\u001b[1mwandb\u001b[0m: Adding directory to artifact (/home/anza-tshilidzi/Desktop/Masters_material/e+ e- study/wandb/run-20240815_092658-4t24mqoz/files/model-best)... Done. 0.0s\n"
     ]
    },
    {
     "name": "stdout",
     "output_type": "stream",
     "text": [
      "3389/3389 [==============================] - 3s 959us/step - loss: 0.3011 - accuracy: 0.8839 - val_loss: 0.2920 - val_accuracy: 0.8851\n",
      "Epoch 17/190\n",
      "3389/3389 [==============================] - 3s 753us/step - loss: 0.3015 - accuracy: 0.8837 - val_loss: 0.3098 - val_accuracy: 0.8779\n",
      "Epoch 18/190\n",
      "3389/3389 [==============================] - 3s 862us/step - loss: 0.3011 - accuracy: 0.8832 - val_loss: 0.2969 - val_accuracy: 0.8832\n",
      "Epoch 19/190\n",
      "3312/3389 [============================>.] - ETA: 0s - loss: 0.2992 - accuracy: 0.8839INFO:tensorflow:Assets written to: /home/anza-tshilidzi/Desktop/Masters_material/e+ e- study/wandb/run-20240815_092658-4t24mqoz/files/model-best/assets\n"
     ]
    },
    {
     "name": "stderr",
     "output_type": "stream",
     "text": [
      "\u001b[34m\u001b[1mwandb\u001b[0m: Adding directory to artifact (/home/anza-tshilidzi/Desktop/Masters_material/e+ e- study/wandb/run-20240815_092658-4t24mqoz/files/model-best)... Done. 0.0s\n"
     ]
    },
    {
     "name": "stdout",
     "output_type": "stream",
     "text": [
      "3389/3389 [==============================] - 3s 1000us/step - loss: 0.2994 - accuracy: 0.8840 - val_loss: 0.2911 - val_accuracy: 0.8872\n",
      "Epoch 20/190\n",
      "3389/3389 [==============================] - 3s 755us/step - loss: 0.2982 - accuracy: 0.8849 - val_loss: 0.3024 - val_accuracy: 0.8804\n",
      "Epoch 21/190\n",
      "3389/3389 [==============================] - 3s 751us/step - loss: 0.2982 - accuracy: 0.8851 - val_loss: 0.2941 - val_accuracy: 0.8836\n",
      "Epoch 22/190\n",
      "3389/3389 [==============================] - 3s 754us/step - loss: 0.2965 - accuracy: 0.8855 - val_loss: 0.2948 - val_accuracy: 0.8846\n",
      "Epoch 23/190\n",
      "3389/3389 [==============================] - 3s 783us/step - loss: 0.2971 - accuracy: 0.8846 - val_loss: 0.3015 - val_accuracy: 0.8792\n",
      "Epoch 24/190\n",
      "3389/3389 [==============================] - 3s 758us/step - loss: 0.2962 - accuracy: 0.8855 - val_loss: 0.2916 - val_accuracy: 0.8874\n",
      "Epoch 25/190\n",
      "3389/3389 [==============================] - 3s 766us/step - loss: 0.2958 - accuracy: 0.8856 - val_loss: 0.2984 - val_accuracy: 0.8831\n",
      "Epoch 26/190\n",
      "3389/3389 [==============================] - 3s 752us/step - loss: 0.2958 - accuracy: 0.8852 - val_loss: 0.2925 - val_accuracy: 0.8860\n",
      "Epoch 27/190\n",
      "3389/3389 [==============================] - 3s 755us/step - loss: 0.2956 - accuracy: 0.8862 - val_loss: 0.3364 - val_accuracy: 0.8775\n",
      "Epoch 28/190\n",
      "3389/3389 [==============================] - 3s 763us/step - loss: 0.2948 - accuracy: 0.8859 - val_loss: 0.2915 - val_accuracy: 0.8863\n",
      "Epoch 29/190\n",
      "3389/3389 [==============================] - 3s 761us/step - loss: 0.2947 - accuracy: 0.8856 - val_loss: 0.2960 - val_accuracy: 0.8851\n",
      "Epoch 30/190\n",
      "3389/3389 [==============================] - 3s 764us/step - loss: 0.2936 - accuracy: 0.8856 - val_loss: 0.2930 - val_accuracy: 0.8835\n",
      "Epoch 31/190\n",
      "3389/3389 [==============================] - 3s 745us/step - loss: 0.2941 - accuracy: 0.8859 - val_loss: 0.3432 - val_accuracy: 0.8529\n",
      "Epoch 32/190\n",
      "3389/3389 [==============================] - 3s 752us/step - loss: 0.2925 - accuracy: 0.8861 - val_loss: 0.2946 - val_accuracy: 0.8878\n",
      "Epoch 33/190\n",
      "3389/3389 [==============================] - 3s 750us/step - loss: 0.2933 - accuracy: 0.8858 - val_loss: 0.2929 - val_accuracy: 0.8880\n",
      "Epoch 34/190\n",
      "3389/3389 [==============================] - 3s 746us/step - loss: 0.2932 - accuracy: 0.8858 - val_loss: 0.3090 - val_accuracy: 0.8786\n",
      "Epoch 35/190\n",
      "3389/3389 [==============================] - 3s 746us/step - loss: 0.2911 - accuracy: 0.8859 - val_loss: 0.3098 - val_accuracy: 0.8785\n",
      "Epoch 36/190\n",
      "3389/3389 [==============================] - 3s 787us/step - loss: 0.2921 - accuracy: 0.8862 - val_loss: 0.2930 - val_accuracy: 0.8848\n",
      "Epoch 37/190\n",
      "3349/3389 [============================>.] - ETA: 0s - loss: 0.2902 - accuracy: 0.8874INFO:tensorflow:Assets written to: /home/anza-tshilidzi/Desktop/Masters_material/e+ e- study/wandb/run-20240815_092658-4t24mqoz/files/model-best/assets\n"
     ]
    },
    {
     "name": "stderr",
     "output_type": "stream",
     "text": [
      "\u001b[34m\u001b[1mwandb\u001b[0m: Adding directory to artifact (/home/anza-tshilidzi/Desktop/Masters_material/e+ e- study/wandb/run-20240815_092658-4t24mqoz/files/model-best)... Done. 0.0s\n"
     ]
    },
    {
     "name": "stdout",
     "output_type": "stream",
     "text": [
      "3389/3389 [==============================] - 4s 1ms/step - loss: 0.2903 - accuracy: 0.8874 - val_loss: 0.2876 - val_accuracy: 0.8870\n",
      "Epoch 38/190\n",
      "3376/3389 [============================>.] - ETA: 0s - loss: 0.2911 - accuracy: 0.8863INFO:tensorflow:Assets written to: /home/anza-tshilidzi/Desktop/Masters_material/e+ e- study/wandb/run-20240815_092658-4t24mqoz/files/model-best/assets\n"
     ]
    },
    {
     "name": "stderr",
     "output_type": "stream",
     "text": [
      "\u001b[34m\u001b[1mwandb\u001b[0m: Adding directory to artifact (/home/anza-tshilidzi/Desktop/Masters_material/e+ e- study/wandb/run-20240815_092658-4t24mqoz/files/model-best)... Done. 0.0s\n"
     ]
    },
    {
     "name": "stdout",
     "output_type": "stream",
     "text": [
      "3389/3389 [==============================] - 4s 1ms/step - loss: 0.2911 - accuracy: 0.8863 - val_loss: 0.2872 - val_accuracy: 0.8865\n",
      "Epoch 39/190\n",
      "3389/3389 [==============================] - 3s 763us/step - loss: 0.2905 - accuracy: 0.8871 - val_loss: 0.2947 - val_accuracy: 0.8834\n",
      "Epoch 40/190\n",
      "3310/3389 [============================>.] - ETA: 0s - loss: 0.2912 - accuracy: 0.8866INFO:tensorflow:Assets written to: /home/anza-tshilidzi/Desktop/Masters_material/e+ e- study/wandb/run-20240815_092658-4t24mqoz/files/model-best/assets\n"
     ]
    },
    {
     "name": "stderr",
     "output_type": "stream",
     "text": [
      "\u001b[34m\u001b[1mwandb\u001b[0m: Adding directory to artifact (/home/anza-tshilidzi/Desktop/Masters_material/e+ e- study/wandb/run-20240815_092658-4t24mqoz/files/model-best)... Done. 0.0s\n"
     ]
    },
    {
     "name": "stdout",
     "output_type": "stream",
     "text": [
      "3389/3389 [==============================] - 3s 982us/step - loss: 0.2913 - accuracy: 0.8867 - val_loss: 0.2864 - val_accuracy: 0.8877\n",
      "Epoch 41/190\n",
      "3306/3389 [============================>.] - ETA: 0s - loss: 0.2890 - accuracy: 0.8872INFO:tensorflow:Assets written to: /home/anza-tshilidzi/Desktop/Masters_material/e+ e- study/wandb/run-20240815_092658-4t24mqoz/files/model-best/assets\n"
     ]
    },
    {
     "name": "stderr",
     "output_type": "stream",
     "text": [
      "\u001b[34m\u001b[1mwandb\u001b[0m: Adding directory to artifact (/home/anza-tshilidzi/Desktop/Masters_material/e+ e- study/wandb/run-20240815_092658-4t24mqoz/files/model-best)... Done. 0.0s\n"
     ]
    },
    {
     "name": "stdout",
     "output_type": "stream",
     "text": [
      "3389/3389 [==============================] - 3s 1ms/step - loss: 0.2890 - accuracy: 0.8873 - val_loss: 0.2862 - val_accuracy: 0.8868\n",
      "Epoch 42/190\n",
      "3389/3389 [==============================] - 3s 744us/step - loss: 0.2906 - accuracy: 0.8869 - val_loss: 0.3317 - val_accuracy: 0.8742\n",
      "Epoch 43/190\n",
      "3389/3389 [==============================] - 3s 747us/step - loss: 0.2896 - accuracy: 0.8869 - val_loss: 0.2893 - val_accuracy: 0.8858\n",
      "Epoch 44/190\n",
      "3389/3389 [==============================] - 3s 754us/step - loss: 0.2893 - accuracy: 0.8868 - val_loss: 0.2872 - val_accuracy: 0.8872\n",
      "Epoch 45/190\n",
      "3319/3389 [============================>.] - ETA: 0s - loss: 0.2900 - accuracy: 0.8873INFO:tensorflow:Assets written to: /home/anza-tshilidzi/Desktop/Masters_material/e+ e- study/wandb/run-20240815_092658-4t24mqoz/files/model-best/assets\n"
     ]
    },
    {
     "name": "stderr",
     "output_type": "stream",
     "text": [
      "\u001b[34m\u001b[1mwandb\u001b[0m: Adding directory to artifact (/home/anza-tshilidzi/Desktop/Masters_material/e+ e- study/wandb/run-20240815_092658-4t24mqoz/files/model-best)... Done. 0.0s\n"
     ]
    },
    {
     "name": "stdout",
     "output_type": "stream",
     "text": [
      "3389/3389 [==============================] - 3s 982us/step - loss: 0.2905 - accuracy: 0.8871 - val_loss: 0.2837 - val_accuracy: 0.8893\n",
      "Epoch 46/190\n",
      "3389/3389 [==============================] - 3s 760us/step - loss: 0.2889 - accuracy: 0.8873 - val_loss: 0.2867 - val_accuracy: 0.8867\n",
      "Epoch 47/190\n",
      "3389/3389 [==============================] - 3s 766us/step - loss: 0.2897 - accuracy: 0.8872 - val_loss: 0.3518 - val_accuracy: 0.8688\n",
      "Epoch 48/190\n",
      "3389/3389 [==============================] - 3s 744us/step - loss: 0.2896 - accuracy: 0.8871 - val_loss: 0.3094 - val_accuracy: 0.8803\n",
      "Epoch 49/190\n",
      "3389/3389 [==============================] - 3s 785us/step - loss: 0.2881 - accuracy: 0.8877 - val_loss: 0.2842 - val_accuracy: 0.8880\n",
      "Epoch 50/190\n",
      "3389/3389 [==============================] - 3s 762us/step - loss: 0.2883 - accuracy: 0.8878 - val_loss: 0.2996 - val_accuracy: 0.8818\n",
      "Epoch 51/190\n",
      "3389/3389 [==============================] - 3s 747us/step - loss: 0.2881 - accuracy: 0.8875 - val_loss: 0.2887 - val_accuracy: 0.8875\n",
      "Epoch 52/190\n",
      "3389/3389 [==============================] - 3s 756us/step - loss: 0.2894 - accuracy: 0.8873 - val_loss: 0.2867 - val_accuracy: 0.8865\n",
      "Epoch 53/190\n",
      "3389/3389 [==============================] - 3s 780us/step - loss: 0.2880 - accuracy: 0.8883 - val_loss: 0.2884 - val_accuracy: 0.8876\n",
      "Epoch 54/190\n",
      "3389/3389 [==============================] - 3s 756us/step - loss: 0.2880 - accuracy: 0.8872 - val_loss: 0.2952 - val_accuracy: 0.8848\n",
      "Epoch 55/190\n",
      "3389/3389 [==============================] - 3s 743us/step - loss: 0.2873 - accuracy: 0.8880 - val_loss: 0.2860 - val_accuracy: 0.8871\n",
      "Epoch 56/190\n",
      "3345/3389 [============================>.] - ETA: 0s - loss: 0.2874 - accuracy: 0.8883INFO:tensorflow:Assets written to: /home/anza-tshilidzi/Desktop/Masters_material/e+ e- study/wandb/run-20240815_092658-4t24mqoz/files/model-best/assets\n"
     ]
    },
    {
     "name": "stderr",
     "output_type": "stream",
     "text": [
      "\u001b[34m\u001b[1mwandb\u001b[0m: Adding directory to artifact (/home/anza-tshilidzi/Desktop/Masters_material/e+ e- study/wandb/run-20240815_092658-4t24mqoz/files/model-best)... Done. 0.0s\n"
     ]
    },
    {
     "name": "stdout",
     "output_type": "stream",
     "text": [
      "3389/3389 [==============================] - 3s 974us/step - loss: 0.2874 - accuracy: 0.8883 - val_loss: 0.2830 - val_accuracy: 0.8883\n",
      "Epoch 57/190\n",
      "3389/3389 [==============================] - 3s 741us/step - loss: 0.2892 - accuracy: 0.8875 - val_loss: 0.2849 - val_accuracy: 0.8879\n",
      "Epoch 58/190\n",
      "3389/3389 [==============================] - 3s 744us/step - loss: 0.2869 - accuracy: 0.8876 - val_loss: 0.2893 - val_accuracy: 0.8868\n",
      "Epoch 59/190\n",
      "3389/3389 [==============================] - 3s 779us/step - loss: 0.2879 - accuracy: 0.8878 - val_loss: 0.2901 - val_accuracy: 0.8880\n",
      "Epoch 60/190\n",
      "3389/3389 [==============================] - 3s 746us/step - loss: 0.2869 - accuracy: 0.8885 - val_loss: 0.2971 - val_accuracy: 0.8834\n",
      "Epoch 61/190\n",
      "3389/3389 [==============================] - 3s 768us/step - loss: 0.2875 - accuracy: 0.8879 - val_loss: 0.2872 - val_accuracy: 0.8851\n",
      "Epoch 62/190\n",
      "3389/3389 [==============================] - 3s 754us/step - loss: 0.2881 - accuracy: 0.8877 - val_loss: 0.3161 - val_accuracy: 0.8778\n",
      "Epoch 63/190\n",
      "3389/3389 [==============================] - 3s 751us/step - loss: 0.2865 - accuracy: 0.8883 - val_loss: 0.2848 - val_accuracy: 0.8882\n",
      "Epoch 64/190\n",
      "3389/3389 [==============================] - 3s 743us/step - loss: 0.2865 - accuracy: 0.8884 - val_loss: 0.3113 - val_accuracy: 0.8777\n",
      "Epoch 65/190\n",
      "3389/3389 [==============================] - 3s 800us/step - loss: 0.2875 - accuracy: 0.8880 - val_loss: 0.2873 - val_accuracy: 0.8866\n",
      "Epoch 66/190\n",
      "3389/3389 [==============================] - 3s 751us/step - loss: 0.2871 - accuracy: 0.8880 - val_loss: 0.2859 - val_accuracy: 0.8884\n",
      "Epoch 67/190\n",
      "3389/3389 [==============================] - 3s 749us/step - loss: 0.2868 - accuracy: 0.8878 - val_loss: 0.2833 - val_accuracy: 0.8890\n",
      "Epoch 68/190\n",
      "3389/3389 [==============================] - 3s 756us/step - loss: 0.2860 - accuracy: 0.8884 - val_loss: 0.3097 - val_accuracy: 0.8814\n",
      "Epoch 69/190\n",
      "3389/3389 [==============================] - 3s 750us/step - loss: 0.2866 - accuracy: 0.8879 - val_loss: 0.3001 - val_accuracy: 0.8824\n",
      "Epoch 70/190\n",
      "3389/3389 [==============================] - 3s 745us/step - loss: 0.2868 - accuracy: 0.8880 - val_loss: 0.2996 - val_accuracy: 0.8826\n",
      "Epoch 71/190\n",
      "3389/3389 [==============================] - 3s 782us/step - loss: 0.2864 - accuracy: 0.8889 - val_loss: 0.2939 - val_accuracy: 0.8854\n",
      "Epoch 72/190\n",
      "3389/3389 [==============================] - 3s 751us/step - loss: 0.2861 - accuracy: 0.8890 - val_loss: 0.2864 - val_accuracy: 0.8871\n",
      "Epoch 73/190\n",
      "3389/3389 [==============================] - 3s 764us/step - loss: 0.2852 - accuracy: 0.8881 - val_loss: 0.3165 - val_accuracy: 0.8756\n",
      "Epoch 74/190\n",
      "3389/3389 [==============================] - 3s 754us/step - loss: 0.2859 - accuracy: 0.8888 - val_loss: 0.2955 - val_accuracy: 0.8839\n",
      "Epoch 75/190\n",
      "3389/3389 [==============================] - 3s 758us/step - loss: 0.2860 - accuracy: 0.8890 - val_loss: 0.2906 - val_accuracy: 0.8871\n",
      "Epoch 76/190\n",
      "3389/3389 [==============================] - 3s 751us/step - loss: 0.2859 - accuracy: 0.8881 - val_loss: 0.2962 - val_accuracy: 0.8855\n",
      "Epoch 77/190\n",
      "3389/3389 [==============================] - 3s 784us/step - loss: 0.2853 - accuracy: 0.8880 - val_loss: 0.2893 - val_accuracy: 0.8857\n",
      "Epoch 78/190\n",
      "3389/3389 [==============================] - 3s 763us/step - loss: 0.2851 - accuracy: 0.8894 - val_loss: 0.2932 - val_accuracy: 0.8875\n",
      "Epoch 79/190\n",
      "3389/3389 [==============================] - 3s 767us/step - loss: 0.2847 - accuracy: 0.8886 - val_loss: 0.2882 - val_accuracy: 0.8877\n",
      "Epoch 80/190\n",
      "3389/3389 [==============================] - 3s 753us/step - loss: 0.2861 - accuracy: 0.8884 - val_loss: 0.2854 - val_accuracy: 0.8881\n",
      "Epoch 81/190\n",
      "3389/3389 [==============================] - 3s 751us/step - loss: 0.2847 - accuracy: 0.8880 - val_loss: 0.2837 - val_accuracy: 0.8880\n",
      "Epoch 82/190\n",
      "3389/3389 [==============================] - 3s 749us/step - loss: 0.2844 - accuracy: 0.8893 - val_loss: 0.2831 - val_accuracy: 0.8879\n",
      "Epoch 83/190\n",
      "3389/3389 [==============================] - 3s 759us/step - loss: 0.2854 - accuracy: 0.8892 - val_loss: 0.2924 - val_accuracy: 0.8843\n",
      "Epoch 84/190\n",
      "3319/3389 [============================>.] - ETA: 0s - loss: 0.2843 - accuracy: 0.8888INFO:tensorflow:Assets written to: /home/anza-tshilidzi/Desktop/Masters_material/e+ e- study/wandb/run-20240815_092658-4t24mqoz/files/model-best/assets\n"
     ]
    },
    {
     "name": "stderr",
     "output_type": "stream",
     "text": [
      "\u001b[34m\u001b[1mwandb\u001b[0m: Adding directory to artifact (/home/anza-tshilidzi/Desktop/Masters_material/e+ e- study/wandb/run-20240815_092658-4t24mqoz/files/model-best)... Done. 0.0s\n"
     ]
    },
    {
     "name": "stdout",
     "output_type": "stream",
     "text": [
      "3389/3389 [==============================] - 4s 1ms/step - loss: 0.2843 - accuracy: 0.8888 - val_loss: 0.2827 - val_accuracy: 0.8893\n",
      "Epoch 85/190\n",
      "3389/3389 [==============================] - 3s 748us/step - loss: 0.2852 - accuracy: 0.8889 - val_loss: 0.3239 - val_accuracy: 0.8781\n",
      "Epoch 86/190\n",
      "3389/3389 [==============================] - 3s 746us/step - loss: 0.2850 - accuracy: 0.8884 - val_loss: 0.2898 - val_accuracy: 0.8867\n",
      "Epoch 87/190\n",
      "3389/3389 [==============================] - 3s 739us/step - loss: 0.2848 - accuracy: 0.8893 - val_loss: 0.2882 - val_accuracy: 0.8863\n",
      "Epoch 88/190\n",
      "3389/3389 [==============================] - 3s 748us/step - loss: 0.2841 - accuracy: 0.8890 - val_loss: 0.2891 - val_accuracy: 0.8881\n",
      "Epoch 89/190\n",
      "3389/3389 [==============================] - 3s 776us/step - loss: 0.2849 - accuracy: 0.8889 - val_loss: 0.2900 - val_accuracy: 0.8869\n",
      "Epoch 90/190\n",
      "3389/3389 [==============================] - 3s 762us/step - loss: 0.2847 - accuracy: 0.8894 - val_loss: 0.2894 - val_accuracy: 0.8883\n",
      "Epoch 91/190\n",
      "3389/3389 [==============================] - 3s 750us/step - loss: 0.2837 - accuracy: 0.8888 - val_loss: 0.2864 - val_accuracy: 0.8880\n",
      "Epoch 92/190\n",
      "3389/3389 [==============================] - 3s 756us/step - loss: 0.2835 - accuracy: 0.8893 - val_loss: 0.2945 - val_accuracy: 0.8877\n",
      "Epoch 93/190\n",
      "3333/3389 [============================>.] - ETA: 0s - loss: 0.2851 - accuracy: 0.8891INFO:tensorflow:Assets written to: /home/anza-tshilidzi/Desktop/Masters_material/e+ e- study/wandb/run-20240815_092658-4t24mqoz/files/model-best/assets\n"
     ]
    },
    {
     "name": "stderr",
     "output_type": "stream",
     "text": [
      "\u001b[34m\u001b[1mwandb\u001b[0m: Adding directory to artifact (/home/anza-tshilidzi/Desktop/Masters_material/e+ e- study/wandb/run-20240815_092658-4t24mqoz/files/model-best)... Done. 0.0s\n"
     ]
    },
    {
     "name": "stdout",
     "output_type": "stream",
     "text": [
      "3389/3389 [==============================] - 3s 983us/step - loss: 0.2853 - accuracy: 0.8890 - val_loss: 0.2826 - val_accuracy: 0.8892\n",
      "Epoch 94/190\n",
      "3358/3389 [============================>.] - ETA: 0s - loss: 0.2847 - accuracy: 0.8888INFO:tensorflow:Assets written to: /home/anza-tshilidzi/Desktop/Masters_material/e+ e- study/wandb/run-20240815_092658-4t24mqoz/files/model-best/assets\n"
     ]
    },
    {
     "name": "stderr",
     "output_type": "stream",
     "text": [
      "\u001b[34m\u001b[1mwandb\u001b[0m: Adding directory to artifact (/home/anza-tshilidzi/Desktop/Masters_material/e+ e- study/wandb/run-20240815_092658-4t24mqoz/files/model-best)... Done. 0.0s\n"
     ]
    },
    {
     "name": "stdout",
     "output_type": "stream",
     "text": [
      "3389/3389 [==============================] - 3s 971us/step - loss: 0.2845 - accuracy: 0.8888 - val_loss: 0.2826 - val_accuracy: 0.8895\n",
      "Epoch 95/190\n",
      "3389/3389 [==============================] - 3s 796us/step - loss: 0.2842 - accuracy: 0.8888 - val_loss: 0.3119 - val_accuracy: 0.8834\n",
      "Epoch 96/190\n",
      "3389/3389 [==============================] - 2s 737us/step - loss: 0.2846 - accuracy: 0.8888 - val_loss: 0.2882 - val_accuracy: 0.8874\n",
      "Epoch 97/190\n",
      "3313/3389 [============================>.] - ETA: 0s - loss: 0.2843 - accuracy: 0.8895INFO:tensorflow:Assets written to: /home/anza-tshilidzi/Desktop/Masters_material/e+ e- study/wandb/run-20240815_092658-4t24mqoz/files/model-best/assets\n"
     ]
    },
    {
     "name": "stderr",
     "output_type": "stream",
     "text": [
      "\u001b[34m\u001b[1mwandb\u001b[0m: Adding directory to artifact (/home/anza-tshilidzi/Desktop/Masters_material/e+ e- study/wandb/run-20240815_092658-4t24mqoz/files/model-best)... Done. 0.0s\n"
     ]
    },
    {
     "name": "stdout",
     "output_type": "stream",
     "text": [
      "3389/3389 [==============================] - 3s 982us/step - loss: 0.2850 - accuracy: 0.8890 - val_loss: 0.2819 - val_accuracy: 0.8891\n",
      "Epoch 98/190\n",
      "3389/3389 [==============================] - 3s 751us/step - loss: 0.2833 - accuracy: 0.8888 - val_loss: 0.2873 - val_accuracy: 0.8895\n",
      "Epoch 99/190\n",
      "3389/3389 [==============================] - 3s 753us/step - loss: 0.2840 - accuracy: 0.8891 - val_loss: 0.2827 - val_accuracy: 0.8879\n",
      "Epoch 100/190\n",
      "3345/3389 [============================>.] - ETA: 0s - loss: 0.2829 - accuracy: 0.8902INFO:tensorflow:Assets written to: /home/anza-tshilidzi/Desktop/Masters_material/e+ e- study/wandb/run-20240815_092658-4t24mqoz/files/model-best/assets\n"
     ]
    },
    {
     "name": "stderr",
     "output_type": "stream",
     "text": [
      "\u001b[34m\u001b[1mwandb\u001b[0m: Adding directory to artifact (/home/anza-tshilidzi/Desktop/Masters_material/e+ e- study/wandb/run-20240815_092658-4t24mqoz/files/model-best)... Done. 0.0s\n"
     ]
    },
    {
     "name": "stdout",
     "output_type": "stream",
     "text": [
      "3389/3389 [==============================] - 3s 986us/step - loss: 0.2832 - accuracy: 0.8900 - val_loss: 0.2796 - val_accuracy: 0.8898\n",
      "Epoch 101/190\n",
      "3389/3389 [==============================] - 3s 858us/step - loss: 0.2839 - accuracy: 0.8888 - val_loss: 0.2803 - val_accuracy: 0.8898\n",
      "Epoch 102/190\n",
      "3389/3389 [==============================] - 3s 755us/step - loss: 0.2833 - accuracy: 0.8892 - val_loss: 0.2982 - val_accuracy: 0.8834\n",
      "Epoch 103/190\n",
      "3389/3389 [==============================] - 3s 753us/step - loss: 0.2837 - accuracy: 0.8887 - val_loss: 0.2851 - val_accuracy: 0.8888\n",
      "Epoch 104/190\n",
      "3389/3389 [==============================] - 3s 760us/step - loss: 0.2839 - accuracy: 0.8896 - val_loss: 0.3063 - val_accuracy: 0.8779\n",
      "Epoch 105/190\n",
      "3389/3389 [==============================] - 3s 741us/step - loss: 0.2833 - accuracy: 0.8894 - val_loss: 0.2885 - val_accuracy: 0.8863\n",
      "Epoch 106/190\n",
      "3389/3389 [==============================] - 3s 747us/step - loss: 0.2835 - accuracy: 0.8890 - val_loss: 0.2862 - val_accuracy: 0.8865\n",
      "Epoch 107/190\n",
      "3389/3389 [==============================] - 3s 847us/step - loss: 0.2836 - accuracy: 0.8894 - val_loss: 0.2830 - val_accuracy: 0.8884\n",
      "Epoch 108/190\n",
      "3389/3389 [==============================] - 3s 768us/step - loss: 0.2829 - accuracy: 0.8899 - val_loss: 0.2832 - val_accuracy: 0.8879\n",
      "Epoch 109/190\n",
      "3389/3389 [==============================] - 3s 793us/step - loss: 0.2838 - accuracy: 0.8888 - val_loss: 0.2850 - val_accuracy: 0.8875\n",
      "Epoch 110/190\n",
      "3389/3389 [==============================] - 3s 759us/step - loss: 0.2824 - accuracy: 0.8901 - val_loss: 0.3018 - val_accuracy: 0.8828\n",
      "Epoch 111/190\n",
      "3389/3389 [==============================] - 3s 745us/step - loss: 0.2826 - accuracy: 0.8891 - val_loss: 0.2825 - val_accuracy: 0.8883\n",
      "Epoch 112/190\n",
      "3389/3389 [==============================] - 3s 747us/step - loss: 0.2824 - accuracy: 0.8897 - val_loss: 0.2951 - val_accuracy: 0.8839\n",
      "Epoch 113/190\n",
      "3389/3389 [==============================] - 3s 788us/step - loss: 0.2825 - accuracy: 0.8897 - val_loss: 0.2818 - val_accuracy: 0.8882\n",
      "Epoch 114/190\n",
      "3389/3389 [==============================] - 3s 847us/step - loss: 0.2829 - accuracy: 0.8893 - val_loss: 0.2805 - val_accuracy: 0.8897\n",
      "Epoch 115/190\n",
      "3389/3389 [==============================] - 3s 936us/step - loss: 0.2829 - accuracy: 0.8897 - val_loss: 0.2921 - val_accuracy: 0.8854\n",
      "Epoch 116/190\n",
      "3370/3389 [============================>.] - ETA: 0s - loss: 0.2834 - accuracy: 0.8893INFO:tensorflow:Assets written to: /home/anza-tshilidzi/Desktop/Masters_material/e+ e- study/wandb/run-20240815_092658-4t24mqoz/files/model-best/assets\n"
     ]
    },
    {
     "name": "stderr",
     "output_type": "stream",
     "text": [
      "\u001b[34m\u001b[1mwandb\u001b[0m: Adding directory to artifact (/home/anza-tshilidzi/Desktop/Masters_material/e+ e- study/wandb/run-20240815_092658-4t24mqoz/files/model-best)... Done. 0.0s\n"
     ]
    },
    {
     "name": "stdout",
     "output_type": "stream",
     "text": [
      "3389/3389 [==============================] - 4s 1ms/step - loss: 0.2835 - accuracy: 0.8893 - val_loss: 0.2795 - val_accuracy: 0.8897\n",
      "Epoch 117/190\n",
      "3389/3389 [==============================] - 3s 992us/step - loss: 0.2829 - accuracy: 0.8888 - val_loss: 0.2883 - val_accuracy: 0.8885\n",
      "Epoch 118/190\n",
      "3389/3389 [==============================] - 3s 819us/step - loss: 0.2832 - accuracy: 0.8894 - val_loss: 0.2909 - val_accuracy: 0.8865\n",
      "Epoch 119/190\n",
      "3389/3389 [==============================] - 3s 810us/step - loss: 0.2821 - accuracy: 0.8893 - val_loss: 0.2863 - val_accuracy: 0.8880\n",
      "Epoch 120/190\n",
      "3389/3389 [==============================] - 3s 823us/step - loss: 0.2821 - accuracy: 0.8898 - val_loss: 0.2852 - val_accuracy: 0.8884\n",
      "Epoch 121/190\n",
      "3389/3389 [==============================] - 3s 775us/step - loss: 0.2817 - accuracy: 0.8897 - val_loss: 0.3185 - val_accuracy: 0.8790\n",
      "Epoch 122/190\n",
      "3389/3389 [==============================] - 3s 794us/step - loss: 0.2816 - accuracy: 0.8901 - val_loss: 0.2836 - val_accuracy: 0.8893\n",
      "Epoch 123/190\n",
      "3389/3389 [==============================] - 3s 802us/step - loss: 0.2829 - accuracy: 0.8898 - val_loss: 0.3046 - val_accuracy: 0.8823\n",
      "Epoch 124/190\n",
      "3389/3389 [==============================] - 3s 841us/step - loss: 0.2824 - accuracy: 0.8900 - val_loss: 0.2837 - val_accuracy: 0.8890\n",
      "Epoch 125/190\n",
      "3389/3389 [==============================] - 3s 877us/step - loss: 0.2826 - accuracy: 0.8895 - val_loss: 0.2902 - val_accuracy: 0.8871\n",
      "Epoch 126/190\n",
      "3389/3389 [==============================] - 3s 924us/step - loss: 0.2828 - accuracy: 0.8896 - val_loss: 0.2817 - val_accuracy: 0.8891\n",
      "Epoch 127/190\n",
      "3389/3389 [==============================] - 4s 1ms/step - loss: 0.2825 - accuracy: 0.8900 - val_loss: 0.2817 - val_accuracy: 0.8885\n",
      "Epoch 128/190\n",
      "3389/3389 [==============================] - 3s 801us/step - loss: 0.2811 - accuracy: 0.8906 - val_loss: 0.2813 - val_accuracy: 0.8893\n",
      "Epoch 129/190\n",
      "3389/3389 [==============================] - 3s 849us/step - loss: 0.2819 - accuracy: 0.8902 - val_loss: 0.2812 - val_accuracy: 0.8890\n",
      "Epoch 130/190\n",
      "3389/3389 [==============================] - 3s 762us/step - loss: 0.2811 - accuracy: 0.8907 - val_loss: 0.2892 - val_accuracy: 0.8837\n",
      "Epoch 131/190\n",
      "3389/3389 [==============================] - 3s 768us/step - loss: 0.2820 - accuracy: 0.8901 - val_loss: 0.2797 - val_accuracy: 0.8904\n",
      "Epoch 132/190\n",
      "3389/3389 [==============================] - 3s 782us/step - loss: 0.2825 - accuracy: 0.8900 - val_loss: 0.2966 - val_accuracy: 0.8852\n",
      "Epoch 133/190\n",
      "3389/3389 [==============================] - 3s 777us/step - loss: 0.2816 - accuracy: 0.8901 - val_loss: 0.2836 - val_accuracy: 0.8890\n",
      "Epoch 134/190\n",
      "3389/3389 [==============================] - 3s 777us/step - loss: 0.2817 - accuracy: 0.8900 - val_loss: 0.2947 - val_accuracy: 0.8870\n",
      "Epoch 135/190\n",
      "3389/3389 [==============================] - 3s 808us/step - loss: 0.2812 - accuracy: 0.8908 - val_loss: 0.2804 - val_accuracy: 0.8888\n",
      "Epoch 136/190\n",
      "3389/3389 [==============================] - 3s 762us/step - loss: 0.2819 - accuracy: 0.8906 - val_loss: 0.2882 - val_accuracy: 0.8857\n",
      "Epoch 137/190\n",
      "3389/3389 [==============================] - 3s 893us/step - loss: 0.2822 - accuracy: 0.8902 - val_loss: 0.2943 - val_accuracy: 0.8852\n",
      "Epoch 138/190\n",
      "3389/3389 [==============================] - 3s 923us/step - loss: 0.2817 - accuracy: 0.8899 - val_loss: 0.2798 - val_accuracy: 0.8907\n",
      "Epoch 139/190\n",
      "3389/3389 [==============================] - 3s 779us/step - loss: 0.2815 - accuracy: 0.8898 - val_loss: 0.2843 - val_accuracy: 0.8886\n",
      "Epoch 140/190\n",
      "3389/3389 [==============================] - 3s 895us/step - loss: 0.2805 - accuracy: 0.8906 - val_loss: 0.2868 - val_accuracy: 0.8878\n",
      "Epoch 141/190\n",
      "3389/3389 [==============================] - 3s 915us/step - loss: 0.2819 - accuracy: 0.8902 - val_loss: 0.2824 - val_accuracy: 0.8891\n",
      "Epoch 142/190\n",
      "3389/3389 [==============================] - 3s 824us/step - loss: 0.2810 - accuracy: 0.8902 - val_loss: 0.3154 - val_accuracy: 0.8769\n",
      "Epoch 143/190\n",
      "3389/3389 [==============================] - 3s 778us/step - loss: 0.2815 - accuracy: 0.8906 - val_loss: 0.2806 - val_accuracy: 0.8894\n",
      "Epoch 144/190\n",
      "3389/3389 [==============================] - 3s 773us/step - loss: 0.2810 - accuracy: 0.8899 - val_loss: 0.2809 - val_accuracy: 0.8890\n",
      "Epoch 145/190\n",
      "3389/3389 [==============================] - 3s 814us/step - loss: 0.2811 - accuracy: 0.8901 - val_loss: 0.2799 - val_accuracy: 0.8899\n",
      "Epoch 146/190\n",
      "3389/3389 [==============================] - 3s 797us/step - loss: 0.2812 - accuracy: 0.8900 - val_loss: 0.2857 - val_accuracy: 0.8862\n",
      "Epoch 147/190\n",
      "3389/3389 [==============================] - 3s 801us/step - loss: 0.2812 - accuracy: 0.8900 - val_loss: 0.2856 - val_accuracy: 0.8874\n",
      "Epoch 148/190\n",
      "3389/3389 [==============================] - 3s 770us/step - loss: 0.2807 - accuracy: 0.8904 - val_loss: 0.2801 - val_accuracy: 0.8892\n",
      "Epoch 149/190\n",
      "3389/3389 [==============================] - 3s 819us/step - loss: 0.2802 - accuracy: 0.8905 - val_loss: 0.2832 - val_accuracy: 0.8870\n",
      "Epoch 150/190\n",
      "3389/3389 [==============================] - 3s 779us/step - loss: 0.2809 - accuracy: 0.8901 - val_loss: 0.2948 - val_accuracy: 0.8847\n",
      "Epoch 151/190\n",
      "3389/3389 [==============================] - 3s 818us/step - loss: 0.2810 - accuracy: 0.8900 - val_loss: 0.2828 - val_accuracy: 0.8897\n",
      "Epoch 152/190\n",
      "3389/3389 [==============================] - 3s 853us/step - loss: 0.2815 - accuracy: 0.8898 - val_loss: 0.2901 - val_accuracy: 0.8844\n",
      "Epoch 153/190\n",
      "3389/3389 [==============================] - 3s 775us/step - loss: 0.2804 - accuracy: 0.8905 - val_loss: 0.2887 - val_accuracy: 0.8857\n",
      "Epoch 154/190\n",
      "3389/3389 [==============================] - 3s 816us/step - loss: 0.2802 - accuracy: 0.8903 - val_loss: 0.2823 - val_accuracy: 0.8880\n",
      "Epoch 155/190\n",
      "3389/3389 [==============================] - 3s 901us/step - loss: 0.2801 - accuracy: 0.8904 - val_loss: 0.2811 - val_accuracy: 0.8885\n",
      "Epoch 156/190\n",
      "3389/3389 [==============================] - 4s 1ms/step - loss: 0.2802 - accuracy: 0.8901 - val_loss: 0.2806 - val_accuracy: 0.8891\n",
      "Epoch 157/190\n",
      "3389/3389 [==============================] - 12s 4ms/step - loss: 0.2804 - accuracy: 0.8903 - val_loss: 0.2863 - val_accuracy: 0.8892\n",
      "Epoch 158/190\n",
      "3389/3389 [==============================] - 4s 1ms/step - loss: 0.2813 - accuracy: 0.8890 - val_loss: 0.2868 - val_accuracy: 0.8876\n",
      "Epoch 159/190\n",
      "3389/3389 [==============================] - 4s 1ms/step - loss: 0.2802 - accuracy: 0.8897 - val_loss: 0.2800 - val_accuracy: 0.8895\n",
      "Epoch 160/190\n",
      "3389/3389 [==============================] - 4s 1ms/step - loss: 0.2801 - accuracy: 0.8909 - val_loss: 0.2901 - val_accuracy: 0.8868\n",
      "Epoch 161/190\n",
      "3389/3389 [==============================] - 4s 1ms/step - loss: 0.2808 - accuracy: 0.8899 - val_loss: 0.2983 - val_accuracy: 0.8868\n",
      "Epoch 162/190\n",
      "3389/3389 [==============================] - 4s 1ms/step - loss: 0.2808 - accuracy: 0.8900 - val_loss: 0.2874 - val_accuracy: 0.8863\n",
      "Epoch 163/190\n",
      "3389/3389 [==============================] - 3s 874us/step - loss: 0.2801 - accuracy: 0.8911 - val_loss: 0.2821 - val_accuracy: 0.8884\n",
      "Epoch 164/190\n",
      "3389/3389 [==============================] - 3s 803us/step - loss: 0.2805 - accuracy: 0.8901 - val_loss: 0.2831 - val_accuracy: 0.8881\n",
      "Epoch 165/190\n",
      "3389/3389 [==============================] - 3s 760us/step - loss: 0.2792 - accuracy: 0.8909 - val_loss: 0.2852 - val_accuracy: 0.8870\n",
      "Epoch 166/190\n",
      "3349/3389 [============================>.] - ETA: 0s - loss: 0.2801 - accuracy: 0.8899INFO:tensorflow:Assets written to: /home/anza-tshilidzi/Desktop/Masters_material/e+ e- study/wandb/run-20240815_092658-4t24mqoz/files/model-best/assets\n"
     ]
    },
    {
     "name": "stderr",
     "output_type": "stream",
     "text": [
      "\u001b[34m\u001b[1mwandb\u001b[0m: Adding directory to artifact (/home/anza-tshilidzi/Desktop/Masters_material/e+ e- study/wandb/run-20240815_092658-4t24mqoz/files/model-best)... Done. 0.0s\n"
     ]
    },
    {
     "name": "stdout",
     "output_type": "stream",
     "text": [
      "3389/3389 [==============================] - 4s 1ms/step - loss: 0.2800 - accuracy: 0.8900 - val_loss: 0.2793 - val_accuracy: 0.8896\n",
      "Epoch 167/190\n",
      "3389/3389 [==============================] - 3s 768us/step - loss: 0.2790 - accuracy: 0.8906 - val_loss: 0.2826 - val_accuracy: 0.8875\n",
      "Epoch 168/190\n",
      "3335/3389 [============================>.] - ETA: 0s - loss: 0.2793 - accuracy: 0.8909INFO:tensorflow:Assets written to: /home/anza-tshilidzi/Desktop/Masters_material/e+ e- study/wandb/run-20240815_092658-4t24mqoz/files/model-best/assets\n"
     ]
    },
    {
     "name": "stderr",
     "output_type": "stream",
     "text": [
      "\u001b[34m\u001b[1mwandb\u001b[0m: Adding directory to artifact (/home/anza-tshilidzi/Desktop/Masters_material/e+ e- study/wandb/run-20240815_092658-4t24mqoz/files/model-best)... Done. 0.0s\n"
     ]
    },
    {
     "name": "stdout",
     "output_type": "stream",
     "text": [
      "3389/3389 [==============================] - 3s 1ms/step - loss: 0.2793 - accuracy: 0.8909 - val_loss: 0.2785 - val_accuracy: 0.8899\n",
      "Epoch 169/190\n",
      "3389/3389 [==============================] - 3s 797us/step - loss: 0.2797 - accuracy: 0.8903 - val_loss: 0.2989 - val_accuracy: 0.8836\n",
      "Epoch 170/190\n",
      "3389/3389 [==============================] - 3s 862us/step - loss: 0.2798 - accuracy: 0.8899 - val_loss: 0.2933 - val_accuracy: 0.8855\n",
      "Epoch 171/190\n",
      "3389/3389 [==============================] - 3s 804us/step - loss: 0.2794 - accuracy: 0.8902 - val_loss: 0.2807 - val_accuracy: 0.8887\n",
      "Epoch 172/190\n",
      "3389/3389 [==============================] - 3s 953us/step - loss: 0.2782 - accuracy: 0.8907 - val_loss: 0.2797 - val_accuracy: 0.8892\n",
      "Epoch 173/190\n",
      "3311/3389 [============================>.] - ETA: 0s - loss: 0.2790 - accuracy: 0.8901INFO:tensorflow:Assets written to: /home/anza-tshilidzi/Desktop/Masters_material/e+ e- study/wandb/run-20240815_092658-4t24mqoz/files/model-best/assets\n"
     ]
    },
    {
     "name": "stderr",
     "output_type": "stream",
     "text": [
      "\u001b[34m\u001b[1mwandb\u001b[0m: Adding directory to artifact (/home/anza-tshilidzi/Desktop/Masters_material/e+ e- study/wandb/run-20240815_092658-4t24mqoz/files/model-best)... Done. 0.0s\n"
     ]
    },
    {
     "name": "stdout",
     "output_type": "stream",
     "text": [
      "3389/3389 [==============================] - 4s 1ms/step - loss: 0.2791 - accuracy: 0.8900 - val_loss: 0.2774 - val_accuracy: 0.8904\n",
      "Epoch 174/190\n",
      "3389/3389 [==============================] - 3s 978us/step - loss: 0.2782 - accuracy: 0.8910 - val_loss: 0.2827 - val_accuracy: 0.8880\n",
      "Epoch 175/190\n",
      "3389/3389 [==============================] - 3s 873us/step - loss: 0.2780 - accuracy: 0.8911 - val_loss: 0.2826 - val_accuracy: 0.8892\n",
      "Epoch 176/190\n",
      "3389/3389 [==============================] - 4s 1ms/step - loss: 0.2774 - accuracy: 0.8908 - val_loss: 0.2833 - val_accuracy: 0.8877\n",
      "Epoch 177/190\n",
      "3389/3389 [==============================] - 4s 1ms/step - loss: 0.2789 - accuracy: 0.8903 - val_loss: 0.2989 - val_accuracy: 0.8847\n",
      "Epoch 178/190\n",
      "3389/3389 [==============================] - 4s 1ms/step - loss: 0.2782 - accuracy: 0.8908 - val_loss: 0.2879 - val_accuracy: 0.8863\n",
      "Epoch 179/190\n",
      "3389/3389 [==============================] - 3s 951us/step - loss: 0.2774 - accuracy: 0.8910 - val_loss: 0.2796 - val_accuracy: 0.8899\n",
      "Epoch 180/190\n",
      "3389/3389 [==============================] - 3s 985us/step - loss: 0.2781 - accuracy: 0.8902 - val_loss: 0.2875 - val_accuracy: 0.8883\n",
      "Epoch 181/190\n",
      "3389/3389 [==============================] - 4s 1ms/step - loss: 0.2773 - accuracy: 0.8909 - val_loss: 0.2813 - val_accuracy: 0.8884\n",
      "Epoch 182/190\n",
      "3389/3389 [==============================] - 4s 1ms/step - loss: 0.2762 - accuracy: 0.8917 - val_loss: 0.2837 - val_accuracy: 0.8881\n",
      "Epoch 183/190\n",
      "3389/3389 [==============================] - 5s 1ms/step - loss: 0.2760 - accuracy: 0.8911 - val_loss: 0.2796 - val_accuracy: 0.8891\n",
      "Epoch 184/190\n",
      "3389/3389 [==============================] - 4s 1ms/step - loss: 0.2768 - accuracy: 0.8909 - val_loss: 0.2825 - val_accuracy: 0.8881\n",
      "Epoch 185/190\n",
      "3389/3389 [==============================] - 5s 1ms/step - loss: 0.2766 - accuracy: 0.8909 - val_loss: 0.2809 - val_accuracy: 0.8891\n",
      "Epoch 186/190\n",
      "3389/3389 [==============================] - 6s 2ms/step - loss: 0.2771 - accuracy: 0.8913 - val_loss: 0.2775 - val_accuracy: 0.8910\n",
      "Epoch 187/190\n",
      "3389/3389 [==============================] - 5s 2ms/step - loss: 0.2770 - accuracy: 0.8904 - val_loss: 0.2826 - val_accuracy: 0.8894\n",
      "Epoch 188/190\n",
      "3389/3389 [==============================] - 5s 1ms/step - loss: 0.2765 - accuracy: 0.8913 - val_loss: 0.2798 - val_accuracy: 0.8898\n",
      "Epoch 189/190\n",
      "3389/3389 [==============================] - 7s 2ms/step - loss: 0.2761 - accuracy: 0.8914 - val_loss: 0.2829 - val_accuracy: 0.8873\n",
      "Epoch 190/190\n",
      "3351/3389 [============================>.] - ETA: 0s - loss: 0.2759 - accuracy: 0.8907INFO:tensorflow:Assets written to: /home/anza-tshilidzi/Desktop/Masters_material/e+ e- study/wandb/run-20240815_092658-4t24mqoz/files/model-best/assets\n"
     ]
    },
    {
     "name": "stderr",
     "output_type": "stream",
     "text": [
      "\u001b[34m\u001b[1mwandb\u001b[0m: Adding directory to artifact (/home/anza-tshilidzi/Desktop/Masters_material/e+ e- study/wandb/run-20240815_092658-4t24mqoz/files/model-best)... Done. 0.0s\n"
     ]
    },
    {
     "name": "stdout",
     "output_type": "stream",
     "text": [
      "\b\b\b\b\b\b\b\b\b\b\b\b\b\b\b\b\b\b\b\b\b\b\b\b\b\b\b\b\b\b\b\b\b\b\b\b\b\b\b\b\b\b\b\b\b\b\b\b\b\b\b\b\b\b\b\b\b\b\b\b\b\b\b\b\b\b\b\b\b\b\b\b\b\b\b\b\b\b\b\b\b\b\b\b\b\b\r",
      "3389/3389 [==============================] - 6s 2ms/step - loss: 0.2759 - accuracy: 0.8906 - val_loss: 0.2763 - val_accuracy: 0.8899\n"
     ]
    },
    {
     "data": {
      "application/vnd.jupyter.widget-view+json": {
       "model_id": "",
       "version_major": 2,
       "version_minor": 0
      },
      "text/plain": [
       "VBox(children=(Label(value='2.617 MB of 2.617 MB uploaded (0.174 MB deduped)\\r'), FloatProgress(value=1.0, max…"
      ]
     },
     "metadata": {},
     "output_type": "display_data"
    },
    {
     "data": {
      "text/html": [
       "W&B sync reduced upload amount by 6.4%"
      ],
      "text/plain": [
       "<IPython.core.display.HTML object>"
      ]
     },
     "metadata": {},
     "output_type": "display_data"
    },
    {
     "data": {
      "text/html": [
       "<style>\n",
       "    table.wandb td:nth-child(1) { padding: 0 10px; text-align: left ; width: auto;} td:nth-child(2) {text-align: left ; width: 100%}\n",
       "    .wandb-row { display: flex; flex-direction: row; flex-wrap: wrap; justify-content: flex-start; width: 100% }\n",
       "    .wandb-col { display: flex; flex-direction: column; flex-basis: 100%; flex: 1; padding: 10px; }\n",
       "    </style>\n",
       "<div class=\"wandb-row\"><div class=\"wandb-col\"><h3>Run history:</h3><br/><table class=\"wandb\"><tr><td>accuracy</td><td>▁▅▆▇▇▇▇▇▇▇▇▇▇███████████████████████████</td></tr><tr><td>epoch</td><td>▁▁▁▂▂▂▂▂▂▃▃▃▃▃▃▄▄▄▄▄▅▅▅▅▅▅▆▆▆▆▆▇▇▇▇▇▇███</td></tr><tr><td>loss</td><td>█▄▃▃▂▂▂▂▂▂▂▂▂▂▂▂▂▂▂▁▁▁▁▁▁▁▁▁▁▁▁▁▁▁▁▁▁▁▁▁</td></tr><tr><td>val_accuracy</td><td>▁▄▅▇▇█▇▇██▇▇█▆▇▇█████▇█▇███▇▇██▇███▇████</td></tr><tr><td>val_loss</td><td>█▄▄▂▂▂▂▃▁▂▂▂▂▃▃▂▂▁▂▂▂▂▁▂▁▁▁▂▂▁▁▂▁▂▁▂▁▂▁▁</td></tr></table><br/></div><div class=\"wandb-col\"><h3>Run summary:</h3><br/><table class=\"wandb\"><tr><td>accuracy</td><td>0.89059</td></tr><tr><td>best_epoch</td><td>189</td></tr><tr><td>best_val_loss</td><td>0.27634</td></tr><tr><td>epoch</td><td>189</td></tr><tr><td>loss</td><td>0.27589</td></tr><tr><td>val_accuracy</td><td>0.88995</td></tr><tr><td>val_loss</td><td>0.27634</td></tr></table><br/></div></div>"
      ],
      "text/plain": [
       "<IPython.core.display.HTML object>"
      ]
     },
     "metadata": {},
     "output_type": "display_data"
    },
    {
     "data": {
      "text/html": [
       " View run <strong style=\"color:#cdcd00\">avid-sweep-15</strong> at: <a href='https://wandb.ai/anzanzio/ep-em%20DNN/runs/4t24mqoz' target=\"_blank\">https://wandb.ai/anzanzio/ep-em%20DNN/runs/4t24mqoz</a><br/> View project at: <a href='https://wandb.ai/anzanzio/ep-em%20DNN' target=\"_blank\">https://wandb.ai/anzanzio/ep-em%20DNN</a><br/>Synced 6 W&B file(s), 1 media file(s), 92 artifact file(s) and 1 other file(s)"
      ],
      "text/plain": [
       "<IPython.core.display.HTML object>"
      ]
     },
     "metadata": {},
     "output_type": "display_data"
    },
    {
     "data": {
      "text/html": [
       "Find logs at: <code>./wandb/run-20240815_092658-4t24mqoz/logs</code>"
      ],
      "text/plain": [
       "<IPython.core.display.HTML object>"
      ]
     },
     "metadata": {},
     "output_type": "display_data"
    },
    {
     "data": {
      "text/html": [
       "The new W&B backend becomes opt-out in version 0.18.0; try it out with `wandb.require(\"core\")`! See https://wandb.me/wandb-core for more information."
      ],
      "text/plain": [
       "<IPython.core.display.HTML object>"
      ]
     },
     "metadata": {},
     "output_type": "display_data"
    },
    {
     "name": "stderr",
     "output_type": "stream",
     "text": [
      "\u001b[34m\u001b[1mwandb\u001b[0m: Agent Starting Run: vfn8348i with config:\n",
      "\u001b[34m\u001b[1mwandb\u001b[0m: \tbatch_size: 11\n",
      "\u001b[34m\u001b[1mwandb\u001b[0m: \tepochs: 100\n",
      "\u001b[34m\u001b[1mwandb\u001b[0m: \tlayers: 24\n",
      "\u001b[34m\u001b[1mwandb\u001b[0m: \tlearning_rate: 0.0001989927780253161\n",
      "\u001b[34m\u001b[1mwandb\u001b[0m: \tneurons: 16\n",
      "\u001b[34m\u001b[1mwandb\u001b[0m: \toptimizer: adamax\n",
      "\u001b[34m\u001b[1mwandb\u001b[0m: Ctrl + C detected. Stopping sweep.\n"
     ]
    }
   ],
   "source": [
    "wandb.agent(sweep_id, function=create_model)"
   ]
  },
  {
   "cell_type": "code",
   "execution_count": null,
   "id": "c2de5027",
   "metadata": {},
   "outputs": [],
   "source": []
  }
 ],
 "metadata": {
  "accelerator": "GPU",
  "colab": {
   "collapsed_sections": [],
   "name": "Learning_rate optimization with wandb jjjjy DNN.ipynb",
   "provenance": []
  },
  "kernelspec": {
   "display_name": "Python 3 (ipykernel)",
   "language": "python",
   "name": "python3"
  },
  "language_info": {
   "codemirror_mode": {
    "name": "ipython",
    "version": 3
   },
   "file_extension": ".py",
   "mimetype": "text/x-python",
   "name": "python",
   "nbconvert_exporter": "python",
   "pygments_lexer": "ipython3",
   "version": "3.9.13"
  },
  "widgets": {
   "application/vnd.jupyter.widget-state+json": {
    "002dca0176334a5eb2633f94d6636aeb": {
     "model_module": "@jupyter-widgets/base",
     "model_module_version": "1.2.0",
     "model_name": "LayoutModel",
     "state": {
      "_model_module": "@jupyter-widgets/base",
      "_model_module_version": "1.2.0",
      "_model_name": "LayoutModel",
      "_view_count": null,
      "_view_module": "@jupyter-widgets/base",
      "_view_module_version": "1.2.0",
      "_view_name": "LayoutView",
      "align_content": null,
      "align_items": null,
      "align_self": null,
      "border": null,
      "bottom": null,
      "display": null,
      "flex": null,
      "flex_flow": null,
      "grid_area": null,
      "grid_auto_columns": null,
      "grid_auto_flow": null,
      "grid_auto_rows": null,
      "grid_column": null,
      "grid_gap": null,
      "grid_row": null,
      "grid_template_areas": null,
      "grid_template_columns": null,
      "grid_template_rows": null,
      "height": null,
      "justify_content": null,
      "justify_items": null,
      "left": null,
      "margin": null,
      "max_height": null,
      "max_width": null,
      "min_height": null,
      "min_width": null,
      "object_fit": null,
      "object_position": null,
      "order": null,
      "overflow": null,
      "overflow_x": null,
      "overflow_y": null,
      "padding": null,
      "right": null,
      "top": null,
      "visibility": null,
      "width": null
     }
    },
    "03b0f28d1bbb47d7b3f5422909478ff1": {
     "model_module": "@jupyter-widgets/controls",
     "model_module_version": "1.5.0",
     "model_name": "DescriptionStyleModel",
     "state": {
      "_model_module": "@jupyter-widgets/controls",
      "_model_module_version": "1.5.0",
      "_model_name": "DescriptionStyleModel",
      "_view_count": null,
      "_view_module": "@jupyter-widgets/base",
      "_view_module_version": "1.2.0",
      "_view_name": "StyleView",
      "description_width": ""
     }
    },
    "072c3baad4134de3a373f1f84700f789": {
     "model_module": "@jupyter-widgets/base",
     "model_module_version": "1.2.0",
     "model_name": "LayoutModel",
     "state": {
      "_model_module": "@jupyter-widgets/base",
      "_model_module_version": "1.2.0",
      "_model_name": "LayoutModel",
      "_view_count": null,
      "_view_module": "@jupyter-widgets/base",
      "_view_module_version": "1.2.0",
      "_view_name": "LayoutView",
      "align_content": null,
      "align_items": null,
      "align_self": null,
      "border": null,
      "bottom": null,
      "display": null,
      "flex": null,
      "flex_flow": null,
      "grid_area": null,
      "grid_auto_columns": null,
      "grid_auto_flow": null,
      "grid_auto_rows": null,
      "grid_column": null,
      "grid_gap": null,
      "grid_row": null,
      "grid_template_areas": null,
      "grid_template_columns": null,
      "grid_template_rows": null,
      "height": null,
      "justify_content": null,
      "justify_items": null,
      "left": null,
      "margin": null,
      "max_height": null,
      "max_width": null,
      "min_height": null,
      "min_width": null,
      "object_fit": null,
      "object_position": null,
      "order": null,
      "overflow": null,
      "overflow_x": null,
      "overflow_y": null,
      "padding": null,
      "right": null,
      "top": null,
      "visibility": null,
      "width": null
     }
    },
    "0d04d3e0f5ff4d5593c5a3c1e29f5763": {
     "model_module": "@jupyter-widgets/base",
     "model_module_version": "1.2.0",
     "model_name": "LayoutModel",
     "state": {
      "_model_module": "@jupyter-widgets/base",
      "_model_module_version": "1.2.0",
      "_model_name": "LayoutModel",
      "_view_count": null,
      "_view_module": "@jupyter-widgets/base",
      "_view_module_version": "1.2.0",
      "_view_name": "LayoutView",
      "align_content": null,
      "align_items": null,
      "align_self": null,
      "border": null,
      "bottom": null,
      "display": null,
      "flex": null,
      "flex_flow": null,
      "grid_area": null,
      "grid_auto_columns": null,
      "grid_auto_flow": null,
      "grid_auto_rows": null,
      "grid_column": null,
      "grid_gap": null,
      "grid_row": null,
      "grid_template_areas": null,
      "grid_template_columns": null,
      "grid_template_rows": null,
      "height": null,
      "justify_content": null,
      "justify_items": null,
      "left": null,
      "margin": null,
      "max_height": null,
      "max_width": null,
      "min_height": null,
      "min_width": null,
      "object_fit": null,
      "object_position": null,
      "order": null,
      "overflow": null,
      "overflow_x": null,
      "overflow_y": null,
      "padding": null,
      "right": null,
      "top": null,
      "visibility": null,
      "width": null
     }
    },
    "1053bde17e1e43ca8973de5ff6d1d931": {
     "model_module": "@jupyter-widgets/controls",
     "model_module_version": "1.5.0",
     "model_name": "ProgressStyleModel",
     "state": {
      "_model_module": "@jupyter-widgets/controls",
      "_model_module_version": "1.5.0",
      "_model_name": "ProgressStyleModel",
      "_view_count": null,
      "_view_module": "@jupyter-widgets/base",
      "_view_module_version": "1.2.0",
      "_view_name": "StyleView",
      "bar_color": null,
      "description_width": ""
     }
    },
    "14ee3e8f47e3415c89a3583a63087032": {
     "model_module": "@jupyter-widgets/controls",
     "model_module_version": "1.5.0",
     "model_name": "LabelModel",
     "state": {
      "_dom_classes": [],
      "_model_module": "@jupyter-widgets/controls",
      "_model_module_version": "1.5.0",
      "_model_name": "LabelModel",
      "_view_count": null,
      "_view_module": "@jupyter-widgets/controls",
      "_view_module_version": "1.5.0",
      "_view_name": "LabelView",
      "description": "",
      "description_tooltip": null,
      "layout": "IPY_MODEL_072c3baad4134de3a373f1f84700f789",
      "placeholder": "​",
      "style": "IPY_MODEL_03b0f28d1bbb47d7b3f5422909478ff1",
      "value": "8.036 MB of 8.036 MB uploaded (0.000 MB deduped)\r"
     }
    },
    "16d6c35db1ea45d4a7fefe48295a18ca": {
     "model_module": "@jupyter-widgets/controls",
     "model_module_version": "1.5.0",
     "model_name": "VBoxModel",
     "state": {
      "_dom_classes": [],
      "_model_module": "@jupyter-widgets/controls",
      "_model_module_version": "1.5.0",
      "_model_name": "VBoxModel",
      "_view_count": null,
      "_view_module": "@jupyter-widgets/controls",
      "_view_module_version": "1.5.0",
      "_view_name": "VBoxView",
      "box_style": "",
      "children": [
       "IPY_MODEL_5a2bc5ecd6444bc5a9ef161f2794e74b",
       "IPY_MODEL_e4b26825c21442048e24ae017789a519"
      ],
      "layout": "IPY_MODEL_eec529cf57374290ad09be15b1b40964"
     }
    },
    "17d0bfa16844430da6459a91116aff7e": {
     "model_module": "@jupyter-widgets/base",
     "model_module_version": "1.2.0",
     "model_name": "LayoutModel",
     "state": {
      "_model_module": "@jupyter-widgets/base",
      "_model_module_version": "1.2.0",
      "_model_name": "LayoutModel",
      "_view_count": null,
      "_view_module": "@jupyter-widgets/base",
      "_view_module_version": "1.2.0",
      "_view_name": "LayoutView",
      "align_content": null,
      "align_items": null,
      "align_self": null,
      "border": null,
      "bottom": null,
      "display": null,
      "flex": null,
      "flex_flow": null,
      "grid_area": null,
      "grid_auto_columns": null,
      "grid_auto_flow": null,
      "grid_auto_rows": null,
      "grid_column": null,
      "grid_gap": null,
      "grid_row": null,
      "grid_template_areas": null,
      "grid_template_columns": null,
      "grid_template_rows": null,
      "height": null,
      "justify_content": null,
      "justify_items": null,
      "left": null,
      "margin": null,
      "max_height": null,
      "max_width": null,
      "min_height": null,
      "min_width": null,
      "object_fit": null,
      "object_position": null,
      "order": null,
      "overflow": null,
      "overflow_x": null,
      "overflow_y": null,
      "padding": null,
      "right": null,
      "top": null,
      "visibility": null,
      "width": null
     }
    },
    "207a07eed1be42f684bd7c67edd71667": {
     "model_module": "@jupyter-widgets/base",
     "model_module_version": "1.2.0",
     "model_name": "LayoutModel",
     "state": {
      "_model_module": "@jupyter-widgets/base",
      "_model_module_version": "1.2.0",
      "_model_name": "LayoutModel",
      "_view_count": null,
      "_view_module": "@jupyter-widgets/base",
      "_view_module_version": "1.2.0",
      "_view_name": "LayoutView",
      "align_content": null,
      "align_items": null,
      "align_self": null,
      "border": null,
      "bottom": null,
      "display": null,
      "flex": null,
      "flex_flow": null,
      "grid_area": null,
      "grid_auto_columns": null,
      "grid_auto_flow": null,
      "grid_auto_rows": null,
      "grid_column": null,
      "grid_gap": null,
      "grid_row": null,
      "grid_template_areas": null,
      "grid_template_columns": null,
      "grid_template_rows": null,
      "height": null,
      "justify_content": null,
      "justify_items": null,
      "left": null,
      "margin": null,
      "max_height": null,
      "max_width": null,
      "min_height": null,
      "min_width": null,
      "object_fit": null,
      "object_position": null,
      "order": null,
      "overflow": null,
      "overflow_x": null,
      "overflow_y": null,
      "padding": null,
      "right": null,
      "top": null,
      "visibility": null,
      "width": null
     }
    },
    "29f910fbb0284d278498db5acab35663": {
     "model_module": "@jupyter-widgets/controls",
     "model_module_version": "1.5.0",
     "model_name": "DescriptionStyleModel",
     "state": {
      "_model_module": "@jupyter-widgets/controls",
      "_model_module_version": "1.5.0",
      "_model_name": "DescriptionStyleModel",
      "_view_count": null,
      "_view_module": "@jupyter-widgets/base",
      "_view_module_version": "1.2.0",
      "_view_name": "StyleView",
      "description_width": ""
     }
    },
    "32d335cff5814b4e8e6b49faad650b3f": {
     "model_module": "@jupyter-widgets/controls",
     "model_module_version": "1.5.0",
     "model_name": "VBoxModel",
     "state": {
      "_dom_classes": [],
      "_model_module": "@jupyter-widgets/controls",
      "_model_module_version": "1.5.0",
      "_model_name": "VBoxModel",
      "_view_count": null,
      "_view_module": "@jupyter-widgets/controls",
      "_view_module_version": "1.5.0",
      "_view_name": "VBoxView",
      "box_style": "",
      "children": [
       "IPY_MODEL_c6b7089721f146dba02faf0e6a574187",
       "IPY_MODEL_bbb84cedde0242239ec2409b2ee421b0"
      ],
      "layout": "IPY_MODEL_35dc8f6235eb4ef492f41a5e21531fff"
     }
    },
    "34faff96afff42ef8166e43c78895e73": {
     "model_module": "@jupyter-widgets/controls",
     "model_module_version": "1.5.0",
     "model_name": "ProgressStyleModel",
     "state": {
      "_model_module": "@jupyter-widgets/controls",
      "_model_module_version": "1.5.0",
      "_model_name": "ProgressStyleModel",
      "_view_count": null,
      "_view_module": "@jupyter-widgets/base",
      "_view_module_version": "1.2.0",
      "_view_name": "StyleView",
      "bar_color": null,
      "description_width": ""
     }
    },
    "35dc8f6235eb4ef492f41a5e21531fff": {
     "model_module": "@jupyter-widgets/base",
     "model_module_version": "1.2.0",
     "model_name": "LayoutModel",
     "state": {
      "_model_module": "@jupyter-widgets/base",
      "_model_module_version": "1.2.0",
      "_model_name": "LayoutModel",
      "_view_count": null,
      "_view_module": "@jupyter-widgets/base",
      "_view_module_version": "1.2.0",
      "_view_name": "LayoutView",
      "align_content": null,
      "align_items": null,
      "align_self": null,
      "border": null,
      "bottom": null,
      "display": null,
      "flex": null,
      "flex_flow": null,
      "grid_area": null,
      "grid_auto_columns": null,
      "grid_auto_flow": null,
      "grid_auto_rows": null,
      "grid_column": null,
      "grid_gap": null,
      "grid_row": null,
      "grid_template_areas": null,
      "grid_template_columns": null,
      "grid_template_rows": null,
      "height": null,
      "justify_content": null,
      "justify_items": null,
      "left": null,
      "margin": null,
      "max_height": null,
      "max_width": null,
      "min_height": null,
      "min_width": null,
      "object_fit": null,
      "object_position": null,
      "order": null,
      "overflow": null,
      "overflow_x": null,
      "overflow_y": null,
      "padding": null,
      "right": null,
      "top": null,
      "visibility": null,
      "width": null
     }
    },
    "3978969aee3547e582a323901733d407": {
     "model_module": "@jupyter-widgets/controls",
     "model_module_version": "1.5.0",
     "model_name": "DescriptionStyleModel",
     "state": {
      "_model_module": "@jupyter-widgets/controls",
      "_model_module_version": "1.5.0",
      "_model_name": "DescriptionStyleModel",
      "_view_count": null,
      "_view_module": "@jupyter-widgets/base",
      "_view_module_version": "1.2.0",
      "_view_name": "StyleView",
      "description_width": ""
     }
    },
    "3cfd90f2b57940039fbd9d673810cdc0": {
     "model_module": "@jupyter-widgets/controls",
     "model_module_version": "1.5.0",
     "model_name": "DescriptionStyleModel",
     "state": {
      "_model_module": "@jupyter-widgets/controls",
      "_model_module_version": "1.5.0",
      "_model_name": "DescriptionStyleModel",
      "_view_count": null,
      "_view_module": "@jupyter-widgets/base",
      "_view_module_version": "1.2.0",
      "_view_name": "StyleView",
      "description_width": ""
     }
    },
    "3f767dea459b4257a4db7ffb5027f91b": {
     "model_module": "@jupyter-widgets/controls",
     "model_module_version": "1.5.0",
     "model_name": "FloatProgressModel",
     "state": {
      "_dom_classes": [],
      "_model_module": "@jupyter-widgets/controls",
      "_model_module_version": "1.5.0",
      "_model_name": "FloatProgressModel",
      "_view_count": null,
      "_view_module": "@jupyter-widgets/controls",
      "_view_module_version": "1.5.0",
      "_view_name": "ProgressView",
      "bar_style": "",
      "description": "",
      "description_tooltip": null,
      "layout": "IPY_MODEL_fa700426ee2e4649af6a51285a1ec7b7",
      "max": 1,
      "min": 0,
      "orientation": "horizontal",
      "style": "IPY_MODEL_7ba76f0d8da64d87828305b6c37133a6",
      "value": 1
     }
    },
    "5a2594d89a75485591e0234b1c49dc84": {
     "model_module": "@jupyter-widgets/controls",
     "model_module_version": "1.5.0",
     "model_name": "DescriptionStyleModel",
     "state": {
      "_model_module": "@jupyter-widgets/controls",
      "_model_module_version": "1.5.0",
      "_model_name": "DescriptionStyleModel",
      "_view_count": null,
      "_view_module": "@jupyter-widgets/base",
      "_view_module_version": "1.2.0",
      "_view_name": "StyleView",
      "description_width": ""
     }
    },
    "5a2bc5ecd6444bc5a9ef161f2794e74b": {
     "model_module": "@jupyter-widgets/controls",
     "model_module_version": "1.5.0",
     "model_name": "LabelModel",
     "state": {
      "_dom_classes": [],
      "_model_module": "@jupyter-widgets/controls",
      "_model_module_version": "1.5.0",
      "_model_name": "LabelModel",
      "_view_count": null,
      "_view_module": "@jupyter-widgets/controls",
      "_view_module_version": "1.5.0",
      "_view_name": "LabelView",
      "description": "",
      "description_tooltip": null,
      "layout": "IPY_MODEL_62380b51577f490fa1c3514a8cc9d506",
      "placeholder": "​",
      "style": "IPY_MODEL_3cfd90f2b57940039fbd9d673810cdc0",
      "value": "1.345 MB of 1.345 MB uploaded (0.000 MB deduped)\r"
     }
    },
    "60285d79103d4294adffd4f6dadd4998": {
     "model_module": "@jupyter-widgets/controls",
     "model_module_version": "1.5.0",
     "model_name": "FloatProgressModel",
     "state": {
      "_dom_classes": [],
      "_model_module": "@jupyter-widgets/controls",
      "_model_module_version": "1.5.0",
      "_model_name": "FloatProgressModel",
      "_view_count": null,
      "_view_module": "@jupyter-widgets/controls",
      "_view_module_version": "1.5.0",
      "_view_name": "ProgressView",
      "bar_style": "",
      "description": "",
      "description_tooltip": null,
      "layout": "IPY_MODEL_bd89c03964c5434cbae9eaf1416884c1",
      "max": 1,
      "min": 0,
      "orientation": "horizontal",
      "style": "IPY_MODEL_1053bde17e1e43ca8973de5ff6d1d931",
      "value": 1
     }
    },
    "60e567b40f0d4a78bf1b584e16d88c5f": {
     "model_module": "@jupyter-widgets/base",
     "model_module_version": "1.2.0",
     "model_name": "LayoutModel",
     "state": {
      "_model_module": "@jupyter-widgets/base",
      "_model_module_version": "1.2.0",
      "_model_name": "LayoutModel",
      "_view_count": null,
      "_view_module": "@jupyter-widgets/base",
      "_view_module_version": "1.2.0",
      "_view_name": "LayoutView",
      "align_content": null,
      "align_items": null,
      "align_self": null,
      "border": null,
      "bottom": null,
      "display": null,
      "flex": null,
      "flex_flow": null,
      "grid_area": null,
      "grid_auto_columns": null,
      "grid_auto_flow": null,
      "grid_auto_rows": null,
      "grid_column": null,
      "grid_gap": null,
      "grid_row": null,
      "grid_template_areas": null,
      "grid_template_columns": null,
      "grid_template_rows": null,
      "height": null,
      "justify_content": null,
      "justify_items": null,
      "left": null,
      "margin": null,
      "max_height": null,
      "max_width": null,
      "min_height": null,
      "min_width": null,
      "object_fit": null,
      "object_position": null,
      "order": null,
      "overflow": null,
      "overflow_x": null,
      "overflow_y": null,
      "padding": null,
      "right": null,
      "top": null,
      "visibility": null,
      "width": null
     }
    },
    "62380b51577f490fa1c3514a8cc9d506": {
     "model_module": "@jupyter-widgets/base",
     "model_module_version": "1.2.0",
     "model_name": "LayoutModel",
     "state": {
      "_model_module": "@jupyter-widgets/base",
      "_model_module_version": "1.2.0",
      "_model_name": "LayoutModel",
      "_view_count": null,
      "_view_module": "@jupyter-widgets/base",
      "_view_module_version": "1.2.0",
      "_view_name": "LayoutView",
      "align_content": null,
      "align_items": null,
      "align_self": null,
      "border": null,
      "bottom": null,
      "display": null,
      "flex": null,
      "flex_flow": null,
      "grid_area": null,
      "grid_auto_columns": null,
      "grid_auto_flow": null,
      "grid_auto_rows": null,
      "grid_column": null,
      "grid_gap": null,
      "grid_row": null,
      "grid_template_areas": null,
      "grid_template_columns": null,
      "grid_template_rows": null,
      "height": null,
      "justify_content": null,
      "justify_items": null,
      "left": null,
      "margin": null,
      "max_height": null,
      "max_width": null,
      "min_height": null,
      "min_width": null,
      "object_fit": null,
      "object_position": null,
      "order": null,
      "overflow": null,
      "overflow_x": null,
      "overflow_y": null,
      "padding": null,
      "right": null,
      "top": null,
      "visibility": null,
      "width": null
     }
    },
    "7282b7294931460eb0827651151749b4": {
     "model_module": "@jupyter-widgets/base",
     "model_module_version": "1.2.0",
     "model_name": "LayoutModel",
     "state": {
      "_model_module": "@jupyter-widgets/base",
      "_model_module_version": "1.2.0",
      "_model_name": "LayoutModel",
      "_view_count": null,
      "_view_module": "@jupyter-widgets/base",
      "_view_module_version": "1.2.0",
      "_view_name": "LayoutView",
      "align_content": null,
      "align_items": null,
      "align_self": null,
      "border": null,
      "bottom": null,
      "display": null,
      "flex": null,
      "flex_flow": null,
      "grid_area": null,
      "grid_auto_columns": null,
      "grid_auto_flow": null,
      "grid_auto_rows": null,
      "grid_column": null,
      "grid_gap": null,
      "grid_row": null,
      "grid_template_areas": null,
      "grid_template_columns": null,
      "grid_template_rows": null,
      "height": null,
      "justify_content": null,
      "justify_items": null,
      "left": null,
      "margin": null,
      "max_height": null,
      "max_width": null,
      "min_height": null,
      "min_width": null,
      "object_fit": null,
      "object_position": null,
      "order": null,
      "overflow": null,
      "overflow_x": null,
      "overflow_y": null,
      "padding": null,
      "right": null,
      "top": null,
      "visibility": null,
      "width": null
     }
    },
    "7ba76f0d8da64d87828305b6c37133a6": {
     "model_module": "@jupyter-widgets/controls",
     "model_module_version": "1.5.0",
     "model_name": "ProgressStyleModel",
     "state": {
      "_model_module": "@jupyter-widgets/controls",
      "_model_module_version": "1.5.0",
      "_model_name": "ProgressStyleModel",
      "_view_count": null,
      "_view_module": "@jupyter-widgets/base",
      "_view_module_version": "1.2.0",
      "_view_name": "StyleView",
      "bar_color": null,
      "description_width": ""
     }
    },
    "7d75eb35f0c74b3491ba936032061bca": {
     "model_module": "@jupyter-widgets/controls",
     "model_module_version": "1.5.0",
     "model_name": "VBoxModel",
     "state": {
      "_dom_classes": [],
      "_model_module": "@jupyter-widgets/controls",
      "_model_module_version": "1.5.0",
      "_model_name": "VBoxModel",
      "_view_count": null,
      "_view_module": "@jupyter-widgets/controls",
      "_view_module_version": "1.5.0",
      "_view_name": "VBoxView",
      "box_style": "",
      "children": [
       "IPY_MODEL_14ee3e8f47e3415c89a3583a63087032",
       "IPY_MODEL_c8da41e5dd764ca5b5c9ed422e3c2d19"
      ],
      "layout": "IPY_MODEL_0d04d3e0f5ff4d5593c5a3c1e29f5763"
     }
    },
    "7e08fe0472504afd83c02bc5cfb886cb": {
     "model_module": "@jupyter-widgets/base",
     "model_module_version": "1.2.0",
     "model_name": "LayoutModel",
     "state": {
      "_model_module": "@jupyter-widgets/base",
      "_model_module_version": "1.2.0",
      "_model_name": "LayoutModel",
      "_view_count": null,
      "_view_module": "@jupyter-widgets/base",
      "_view_module_version": "1.2.0",
      "_view_name": "LayoutView",
      "align_content": null,
      "align_items": null,
      "align_self": null,
      "border": null,
      "bottom": null,
      "display": null,
      "flex": null,
      "flex_flow": null,
      "grid_area": null,
      "grid_auto_columns": null,
      "grid_auto_flow": null,
      "grid_auto_rows": null,
      "grid_column": null,
      "grid_gap": null,
      "grid_row": null,
      "grid_template_areas": null,
      "grid_template_columns": null,
      "grid_template_rows": null,
      "height": null,
      "justify_content": null,
      "justify_items": null,
      "left": null,
      "margin": null,
      "max_height": null,
      "max_width": null,
      "min_height": null,
      "min_width": null,
      "object_fit": null,
      "object_position": null,
      "order": null,
      "overflow": null,
      "overflow_x": null,
      "overflow_y": null,
      "padding": null,
      "right": null,
      "top": null,
      "visibility": null,
      "width": null
     }
    },
    "8324b61a20a04ad88659e052ba02937d": {
     "model_module": "@jupyter-widgets/base",
     "model_module_version": "1.2.0",
     "model_name": "LayoutModel",
     "state": {
      "_model_module": "@jupyter-widgets/base",
      "_model_module_version": "1.2.0",
      "_model_name": "LayoutModel",
      "_view_count": null,
      "_view_module": "@jupyter-widgets/base",
      "_view_module_version": "1.2.0",
      "_view_name": "LayoutView",
      "align_content": null,
      "align_items": null,
      "align_self": null,
      "border": null,
      "bottom": null,
      "display": null,
      "flex": null,
      "flex_flow": null,
      "grid_area": null,
      "grid_auto_columns": null,
      "grid_auto_flow": null,
      "grid_auto_rows": null,
      "grid_column": null,
      "grid_gap": null,
      "grid_row": null,
      "grid_template_areas": null,
      "grid_template_columns": null,
      "grid_template_rows": null,
      "height": null,
      "justify_content": null,
      "justify_items": null,
      "left": null,
      "margin": null,
      "max_height": null,
      "max_width": null,
      "min_height": null,
      "min_width": null,
      "object_fit": null,
      "object_position": null,
      "order": null,
      "overflow": null,
      "overflow_x": null,
      "overflow_y": null,
      "padding": null,
      "right": null,
      "top": null,
      "visibility": null,
      "width": null
     }
    },
    "846360f9ed3749b8a114f55fcb980e35": {
     "model_module": "@jupyter-widgets/controls",
     "model_module_version": "1.5.0",
     "model_name": "VBoxModel",
     "state": {
      "_dom_classes": [],
      "_model_module": "@jupyter-widgets/controls",
      "_model_module_version": "1.5.0",
      "_model_name": "VBoxModel",
      "_view_count": null,
      "_view_module": "@jupyter-widgets/controls",
      "_view_module_version": "1.5.0",
      "_view_name": "VBoxView",
      "box_style": "",
      "children": [
       "IPY_MODEL_96b8ca8914e54e7288d36d65045655a0",
       "IPY_MODEL_60285d79103d4294adffd4f6dadd4998"
      ],
      "layout": "IPY_MODEL_9ce7e39b7d6e4718bb6643db0cd6019e"
     }
    },
    "8d2c84cf23a74042bf866267480682cf": {
     "model_module": "@jupyter-widgets/controls",
     "model_module_version": "1.5.0",
     "model_name": "ProgressStyleModel",
     "state": {
      "_model_module": "@jupyter-widgets/controls",
      "_model_module_version": "1.5.0",
      "_model_name": "ProgressStyleModel",
      "_view_count": null,
      "_view_module": "@jupyter-widgets/base",
      "_view_module_version": "1.2.0",
      "_view_name": "StyleView",
      "bar_color": null,
      "description_width": ""
     }
    },
    "950c47312019474ca5928c1ca600f4ff": {
     "model_module": "@jupyter-widgets/controls",
     "model_module_version": "1.5.0",
     "model_name": "VBoxModel",
     "state": {
      "_dom_classes": [],
      "_model_module": "@jupyter-widgets/controls",
      "_model_module_version": "1.5.0",
      "_model_name": "VBoxModel",
      "_view_count": null,
      "_view_module": "@jupyter-widgets/controls",
      "_view_module_version": "1.5.0",
      "_view_name": "VBoxView",
      "box_style": "",
      "children": [
       "IPY_MODEL_d3d65d3ac9f44293898dd5ad0d2f0ba7",
       "IPY_MODEL_3f767dea459b4257a4db7ffb5027f91b"
      ],
      "layout": "IPY_MODEL_7e08fe0472504afd83c02bc5cfb886cb"
     }
    },
    "96b8ca8914e54e7288d36d65045655a0": {
     "model_module": "@jupyter-widgets/controls",
     "model_module_version": "1.5.0",
     "model_name": "LabelModel",
     "state": {
      "_dom_classes": [],
      "_model_module": "@jupyter-widgets/controls",
      "_model_module_version": "1.5.0",
      "_model_name": "LabelModel",
      "_view_count": null,
      "_view_module": "@jupyter-widgets/controls",
      "_view_module_version": "1.5.0",
      "_view_name": "LabelView",
      "description": "",
      "description_tooltip": null,
      "layout": "IPY_MODEL_60e567b40f0d4a78bf1b584e16d88c5f",
      "placeholder": "​",
      "style": "IPY_MODEL_3978969aee3547e582a323901733d407",
      "value": "0.738 MB of 0.738 MB uploaded (0.000 MB deduped)\r"
     }
    },
    "97ac3f0268864df29c44eef82a9d08ec": {
     "model_module": "@jupyter-widgets/controls",
     "model_module_version": "1.5.0",
     "model_name": "LabelModel",
     "state": {
      "_dom_classes": [],
      "_model_module": "@jupyter-widgets/controls",
      "_model_module_version": "1.5.0",
      "_model_name": "LabelModel",
      "_view_count": null,
      "_view_module": "@jupyter-widgets/controls",
      "_view_module_version": "1.5.0",
      "_view_name": "LabelView",
      "description": "",
      "description_tooltip": null,
      "layout": "IPY_MODEL_17d0bfa16844430da6459a91116aff7e",
      "placeholder": "​",
      "style": "IPY_MODEL_c63bcb1a6fed45eb88c09839323f54ff",
      "value": "0.198 MB of 0.198 MB uploaded (0.000 MB deduped)\r"
     }
    },
    "9ce7e39b7d6e4718bb6643db0cd6019e": {
     "model_module": "@jupyter-widgets/base",
     "model_module_version": "1.2.0",
     "model_name": "LayoutModel",
     "state": {
      "_model_module": "@jupyter-widgets/base",
      "_model_module_version": "1.2.0",
      "_model_name": "LayoutModel",
      "_view_count": null,
      "_view_module": "@jupyter-widgets/base",
      "_view_module_version": "1.2.0",
      "_view_name": "LayoutView",
      "align_content": null,
      "align_items": null,
      "align_self": null,
      "border": null,
      "bottom": null,
      "display": null,
      "flex": null,
      "flex_flow": null,
      "grid_area": null,
      "grid_auto_columns": null,
      "grid_auto_flow": null,
      "grid_auto_rows": null,
      "grid_column": null,
      "grid_gap": null,
      "grid_row": null,
      "grid_template_areas": null,
      "grid_template_columns": null,
      "grid_template_rows": null,
      "height": null,
      "justify_content": null,
      "justify_items": null,
      "left": null,
      "margin": null,
      "max_height": null,
      "max_width": null,
      "min_height": null,
      "min_width": null,
      "object_fit": null,
      "object_position": null,
      "order": null,
      "overflow": null,
      "overflow_x": null,
      "overflow_y": null,
      "padding": null,
      "right": null,
      "top": null,
      "visibility": null,
      "width": null
     }
    },
    "a5b4076cd7024523bddd3ff0413c7d5f": {
     "model_module": "@jupyter-widgets/controls",
     "model_module_version": "1.5.0",
     "model_name": "VBoxModel",
     "state": {
      "_dom_classes": [],
      "_model_module": "@jupyter-widgets/controls",
      "_model_module_version": "1.5.0",
      "_model_name": "VBoxModel",
      "_view_count": null,
      "_view_module": "@jupyter-widgets/controls",
      "_view_module_version": "1.5.0",
      "_view_name": "VBoxView",
      "box_style": "",
      "children": [
       "IPY_MODEL_97ac3f0268864df29c44eef82a9d08ec",
       "IPY_MODEL_c089c0cc13134ff0a7e417d52a0877a8"
      ],
      "layout": "IPY_MODEL_002dca0176334a5eb2633f94d6636aeb"
     }
    },
    "bbb84cedde0242239ec2409b2ee421b0": {
     "model_module": "@jupyter-widgets/controls",
     "model_module_version": "1.5.0",
     "model_name": "FloatProgressModel",
     "state": {
      "_dom_classes": [],
      "_model_module": "@jupyter-widgets/controls",
      "_model_module_version": "1.5.0",
      "_model_name": "FloatProgressModel",
      "_view_count": null,
      "_view_module": "@jupyter-widgets/controls",
      "_view_module_version": "1.5.0",
      "_view_name": "ProgressView",
      "bar_style": "",
      "description": "",
      "description_tooltip": null,
      "layout": "IPY_MODEL_f525f309ebf34a63980eb262f008737e",
      "max": 1,
      "min": 0,
      "orientation": "horizontal",
      "style": "IPY_MODEL_8d2c84cf23a74042bf866267480682cf",
      "value": 1
     }
    },
    "bd89c03964c5434cbae9eaf1416884c1": {
     "model_module": "@jupyter-widgets/base",
     "model_module_version": "1.2.0",
     "model_name": "LayoutModel",
     "state": {
      "_model_module": "@jupyter-widgets/base",
      "_model_module_version": "1.2.0",
      "_model_name": "LayoutModel",
      "_view_count": null,
      "_view_module": "@jupyter-widgets/base",
      "_view_module_version": "1.2.0",
      "_view_name": "LayoutView",
      "align_content": null,
      "align_items": null,
      "align_self": null,
      "border": null,
      "bottom": null,
      "display": null,
      "flex": null,
      "flex_flow": null,
      "grid_area": null,
      "grid_auto_columns": null,
      "grid_auto_flow": null,
      "grid_auto_rows": null,
      "grid_column": null,
      "grid_gap": null,
      "grid_row": null,
      "grid_template_areas": null,
      "grid_template_columns": null,
      "grid_template_rows": null,
      "height": null,
      "justify_content": null,
      "justify_items": null,
      "left": null,
      "margin": null,
      "max_height": null,
      "max_width": null,
      "min_height": null,
      "min_width": null,
      "object_fit": null,
      "object_position": null,
      "order": null,
      "overflow": null,
      "overflow_x": null,
      "overflow_y": null,
      "padding": null,
      "right": null,
      "top": null,
      "visibility": null,
      "width": null
     }
    },
    "c089c0cc13134ff0a7e417d52a0877a8": {
     "model_module": "@jupyter-widgets/controls",
     "model_module_version": "1.5.0",
     "model_name": "FloatProgressModel",
     "state": {
      "_dom_classes": [],
      "_model_module": "@jupyter-widgets/controls",
      "_model_module_version": "1.5.0",
      "_model_name": "FloatProgressModel",
      "_view_count": null,
      "_view_module": "@jupyter-widgets/controls",
      "_view_module_version": "1.5.0",
      "_view_name": "ProgressView",
      "bar_style": "",
      "description": "",
      "description_tooltip": null,
      "layout": "IPY_MODEL_7282b7294931460eb0827651151749b4",
      "max": 1,
      "min": 0,
      "orientation": "horizontal",
      "style": "IPY_MODEL_34faff96afff42ef8166e43c78895e73",
      "value": 1
     }
    },
    "c63bcb1a6fed45eb88c09839323f54ff": {
     "model_module": "@jupyter-widgets/controls",
     "model_module_version": "1.5.0",
     "model_name": "DescriptionStyleModel",
     "state": {
      "_model_module": "@jupyter-widgets/controls",
      "_model_module_version": "1.5.0",
      "_model_name": "DescriptionStyleModel",
      "_view_count": null,
      "_view_module": "@jupyter-widgets/base",
      "_view_module_version": "1.2.0",
      "_view_name": "StyleView",
      "description_width": ""
     }
    },
    "c6b7089721f146dba02faf0e6a574187": {
     "model_module": "@jupyter-widgets/controls",
     "model_module_version": "1.5.0",
     "model_name": "LabelModel",
     "state": {
      "_dom_classes": [],
      "_model_module": "@jupyter-widgets/controls",
      "_model_module_version": "1.5.0",
      "_model_name": "LabelModel",
      "_view_count": null,
      "_view_module": "@jupyter-widgets/controls",
      "_view_module_version": "1.5.0",
      "_view_name": "LabelView",
      "description": "",
      "description_tooltip": null,
      "layout": "IPY_MODEL_8324b61a20a04ad88659e052ba02937d",
      "placeholder": "​",
      "style": "IPY_MODEL_29f910fbb0284d278498db5acab35663",
      "value": "4.162 MB of 4.162 MB uploaded (0.000 MB deduped)\r"
     }
    },
    "c8da41e5dd764ca5b5c9ed422e3c2d19": {
     "model_module": "@jupyter-widgets/controls",
     "model_module_version": "1.5.0",
     "model_name": "FloatProgressModel",
     "state": {
      "_dom_classes": [],
      "_model_module": "@jupyter-widgets/controls",
      "_model_module_version": "1.5.0",
      "_model_name": "FloatProgressModel",
      "_view_count": null,
      "_view_module": "@jupyter-widgets/controls",
      "_view_module_version": "1.5.0",
      "_view_name": "ProgressView",
      "bar_style": "",
      "description": "",
      "description_tooltip": null,
      "layout": "IPY_MODEL_207a07eed1be42f684bd7c67edd71667",
      "max": 1,
      "min": 0,
      "orientation": "horizontal",
      "style": "IPY_MODEL_e397967745e54d52905b5fb769854619",
      "value": 1
     }
    },
    "d3d65d3ac9f44293898dd5ad0d2f0ba7": {
     "model_module": "@jupyter-widgets/controls",
     "model_module_version": "1.5.0",
     "model_name": "LabelModel",
     "state": {
      "_dom_classes": [],
      "_model_module": "@jupyter-widgets/controls",
      "_model_module_version": "1.5.0",
      "_model_name": "LabelModel",
      "_view_count": null,
      "_view_module": "@jupyter-widgets/controls",
      "_view_module_version": "1.5.0",
      "_view_name": "LabelView",
      "description": "",
      "description_tooltip": null,
      "layout": "IPY_MODEL_dedbf3e58586439ca6e1a47d270ed824",
      "placeholder": "​",
      "style": "IPY_MODEL_5a2594d89a75485591e0234b1c49dc84",
      "value": "4.014 MB of 4.014 MB uploaded (0.000 MB deduped)\r"
     }
    },
    "d5dd940bbbcf4f179139a053f19f2d15": {
     "model_module": "@jupyter-widgets/controls",
     "model_module_version": "1.5.0",
     "model_name": "ProgressStyleModel",
     "state": {
      "_model_module": "@jupyter-widgets/controls",
      "_model_module_version": "1.5.0",
      "_model_name": "ProgressStyleModel",
      "_view_count": null,
      "_view_module": "@jupyter-widgets/base",
      "_view_module_version": "1.2.0",
      "_view_name": "StyleView",
      "bar_color": null,
      "description_width": ""
     }
    },
    "dedbf3e58586439ca6e1a47d270ed824": {
     "model_module": "@jupyter-widgets/base",
     "model_module_version": "1.2.0",
     "model_name": "LayoutModel",
     "state": {
      "_model_module": "@jupyter-widgets/base",
      "_model_module_version": "1.2.0",
      "_model_name": "LayoutModel",
      "_view_count": null,
      "_view_module": "@jupyter-widgets/base",
      "_view_module_version": "1.2.0",
      "_view_name": "LayoutView",
      "align_content": null,
      "align_items": null,
      "align_self": null,
      "border": null,
      "bottom": null,
      "display": null,
      "flex": null,
      "flex_flow": null,
      "grid_area": null,
      "grid_auto_columns": null,
      "grid_auto_flow": null,
      "grid_auto_rows": null,
      "grid_column": null,
      "grid_gap": null,
      "grid_row": null,
      "grid_template_areas": null,
      "grid_template_columns": null,
      "grid_template_rows": null,
      "height": null,
      "justify_content": null,
      "justify_items": null,
      "left": null,
      "margin": null,
      "max_height": null,
      "max_width": null,
      "min_height": null,
      "min_width": null,
      "object_fit": null,
      "object_position": null,
      "order": null,
      "overflow": null,
      "overflow_x": null,
      "overflow_y": null,
      "padding": null,
      "right": null,
      "top": null,
      "visibility": null,
      "width": null
     }
    },
    "e397967745e54d52905b5fb769854619": {
     "model_module": "@jupyter-widgets/controls",
     "model_module_version": "1.5.0",
     "model_name": "ProgressStyleModel",
     "state": {
      "_model_module": "@jupyter-widgets/controls",
      "_model_module_version": "1.5.0",
      "_model_name": "ProgressStyleModel",
      "_view_count": null,
      "_view_module": "@jupyter-widgets/base",
      "_view_module_version": "1.2.0",
      "_view_name": "StyleView",
      "bar_color": null,
      "description_width": ""
     }
    },
    "e4b26825c21442048e24ae017789a519": {
     "model_module": "@jupyter-widgets/controls",
     "model_module_version": "1.5.0",
     "model_name": "FloatProgressModel",
     "state": {
      "_dom_classes": [],
      "_model_module": "@jupyter-widgets/controls",
      "_model_module_version": "1.5.0",
      "_model_name": "FloatProgressModel",
      "_view_count": null,
      "_view_module": "@jupyter-widgets/controls",
      "_view_module_version": "1.5.0",
      "_view_name": "ProgressView",
      "bar_style": "",
      "description": "",
      "description_tooltip": null,
      "layout": "IPY_MODEL_f4315ac4b5c34327acfad1aee93c79cf",
      "max": 1,
      "min": 0,
      "orientation": "horizontal",
      "style": "IPY_MODEL_d5dd940bbbcf4f179139a053f19f2d15",
      "value": 1
     }
    },
    "eec529cf57374290ad09be15b1b40964": {
     "model_module": "@jupyter-widgets/base",
     "model_module_version": "1.2.0",
     "model_name": "LayoutModel",
     "state": {
      "_model_module": "@jupyter-widgets/base",
      "_model_module_version": "1.2.0",
      "_model_name": "LayoutModel",
      "_view_count": null,
      "_view_module": "@jupyter-widgets/base",
      "_view_module_version": "1.2.0",
      "_view_name": "LayoutView",
      "align_content": null,
      "align_items": null,
      "align_self": null,
      "border": null,
      "bottom": null,
      "display": null,
      "flex": null,
      "flex_flow": null,
      "grid_area": null,
      "grid_auto_columns": null,
      "grid_auto_flow": null,
      "grid_auto_rows": null,
      "grid_column": null,
      "grid_gap": null,
      "grid_row": null,
      "grid_template_areas": null,
      "grid_template_columns": null,
      "grid_template_rows": null,
      "height": null,
      "justify_content": null,
      "justify_items": null,
      "left": null,
      "margin": null,
      "max_height": null,
      "max_width": null,
      "min_height": null,
      "min_width": null,
      "object_fit": null,
      "object_position": null,
      "order": null,
      "overflow": null,
      "overflow_x": null,
      "overflow_y": null,
      "padding": null,
      "right": null,
      "top": null,
      "visibility": null,
      "width": null
     }
    },
    "f4315ac4b5c34327acfad1aee93c79cf": {
     "model_module": "@jupyter-widgets/base",
     "model_module_version": "1.2.0",
     "model_name": "LayoutModel",
     "state": {
      "_model_module": "@jupyter-widgets/base",
      "_model_module_version": "1.2.0",
      "_model_name": "LayoutModel",
      "_view_count": null,
      "_view_module": "@jupyter-widgets/base",
      "_view_module_version": "1.2.0",
      "_view_name": "LayoutView",
      "align_content": null,
      "align_items": null,
      "align_self": null,
      "border": null,
      "bottom": null,
      "display": null,
      "flex": null,
      "flex_flow": null,
      "grid_area": null,
      "grid_auto_columns": null,
      "grid_auto_flow": null,
      "grid_auto_rows": null,
      "grid_column": null,
      "grid_gap": null,
      "grid_row": null,
      "grid_template_areas": null,
      "grid_template_columns": null,
      "grid_template_rows": null,
      "height": null,
      "justify_content": null,
      "justify_items": null,
      "left": null,
      "margin": null,
      "max_height": null,
      "max_width": null,
      "min_height": null,
      "min_width": null,
      "object_fit": null,
      "object_position": null,
      "order": null,
      "overflow": null,
      "overflow_x": null,
      "overflow_y": null,
      "padding": null,
      "right": null,
      "top": null,
      "visibility": null,
      "width": null
     }
    },
    "f525f309ebf34a63980eb262f008737e": {
     "model_module": "@jupyter-widgets/base",
     "model_module_version": "1.2.0",
     "model_name": "LayoutModel",
     "state": {
      "_model_module": "@jupyter-widgets/base",
      "_model_module_version": "1.2.0",
      "_model_name": "LayoutModel",
      "_view_count": null,
      "_view_module": "@jupyter-widgets/base",
      "_view_module_version": "1.2.0",
      "_view_name": "LayoutView",
      "align_content": null,
      "align_items": null,
      "align_self": null,
      "border": null,
      "bottom": null,
      "display": null,
      "flex": null,
      "flex_flow": null,
      "grid_area": null,
      "grid_auto_columns": null,
      "grid_auto_flow": null,
      "grid_auto_rows": null,
      "grid_column": null,
      "grid_gap": null,
      "grid_row": null,
      "grid_template_areas": null,
      "grid_template_columns": null,
      "grid_template_rows": null,
      "height": null,
      "justify_content": null,
      "justify_items": null,
      "left": null,
      "margin": null,
      "max_height": null,
      "max_width": null,
      "min_height": null,
      "min_width": null,
      "object_fit": null,
      "object_position": null,
      "order": null,
      "overflow": null,
      "overflow_x": null,
      "overflow_y": null,
      "padding": null,
      "right": null,
      "top": null,
      "visibility": null,
      "width": null
     }
    },
    "fa700426ee2e4649af6a51285a1ec7b7": {
     "model_module": "@jupyter-widgets/base",
     "model_module_version": "1.2.0",
     "model_name": "LayoutModel",
     "state": {
      "_model_module": "@jupyter-widgets/base",
      "_model_module_version": "1.2.0",
      "_model_name": "LayoutModel",
      "_view_count": null,
      "_view_module": "@jupyter-widgets/base",
      "_view_module_version": "1.2.0",
      "_view_name": "LayoutView",
      "align_content": null,
      "align_items": null,
      "align_self": null,
      "border": null,
      "bottom": null,
      "display": null,
      "flex": null,
      "flex_flow": null,
      "grid_area": null,
      "grid_auto_columns": null,
      "grid_auto_flow": null,
      "grid_auto_rows": null,
      "grid_column": null,
      "grid_gap": null,
      "grid_row": null,
      "grid_template_areas": null,
      "grid_template_columns": null,
      "grid_template_rows": null,
      "height": null,
      "justify_content": null,
      "justify_items": null,
      "left": null,
      "margin": null,
      "max_height": null,
      "max_width": null,
      "min_height": null,
      "min_width": null,
      "object_fit": null,
      "object_position": null,
      "order": null,
      "overflow": null,
      "overflow_x": null,
      "overflow_y": null,
      "padding": null,
      "right": null,
      "top": null,
      "visibility": null,
      "width": null
     }
    }
   }
  }
 },
 "nbformat": 4,
 "nbformat_minor": 5
}
